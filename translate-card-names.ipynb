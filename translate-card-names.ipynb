{
 "cells": [
  {
   "cell_type": "markdown",
   "metadata": {},
   "source": [
    "# Premier assistant à la traduction de Cranial-Insertion.com\n",
    "\n",
    "On trouve dans `articles/english/` le dernier article, et on traduit des bouts qui sont pénibles à traduire « à la main » : les noms de cartes..."
   ]
  },
  {
   "cell_type": "markdown",
   "metadata": {},
   "source": [
    "## Traduction d'un nom de carte, si possible"
   ]
  },
  {
   "cell_type": "markdown",
   "metadata": {},
   "source": [
    "Je veux automatiquement lire un fichier Markdown dans le dossier `articles/english/` et en extraire la liste des noms de cartes citées."
   ]
  },
  {
   "cell_type": "code",
   "execution_count": 1,
   "metadata": {},
   "outputs": [
    {
     "name": "stdout",
     "output_type": "stream",
     "text": [
      "id_article = 4238\n"
     ]
    }
   ],
   "source": [
    "id_article = None\n",
    "\n",
    "with open(\"id_article.txt\", \"r\") as fichier:\n",
    "    id_article = int(fichier.read())\n",
    "print(f\"id_article = {id_article}\")\n",
    "\n",
    "if id_article is None:\n",
    "    id_article = 4238"
   ]
  },
  {
   "cell_type": "code",
   "execution_count": 3,
   "metadata": {},
   "outputs": [
    {
     "name": "stdout",
     "output_type": "stream",
     "text": [
      "id_article = 4238\n",
      "nom_du_fichier = articles/english/4238.md\n"
     ]
    }
   ],
   "source": [
    "print(f\"id_article = {id_article}\")\n",
    "\n",
    "nom_du_fichier = f\"articles/english/{id_article}.md\"\n",
    "\n",
    "print(f\"nom_du_fichier = {nom_du_fichier}\")"
   ]
  },
  {
   "cell_type": "code",
   "execution_count": 9,
   "metadata": {},
   "outputs": [],
   "source": [
    "with open(nom_du_fichier, \"r\") as fichier:\n",
    "    contenu_du_fichier = fichier.read()"
   ]
  },
  {
   "cell_type": "code",
   "execution_count": 14,
   "metadata": {},
   "outputs": [
    {
     "name": "stdout",
     "output_type": "stream",
     "text": [
      "[cright=Hogaak, Arisen Necropolis]People originally thought this was a\n",
      "Commander card.\n",
      "That didn't last very long.[/cright]Hiya everyone, and welcome back to Cranial Insertion! We're right on the cusp of [b]Magic[/b]'s next set, [i]Modern Horizons 3[/i], and while we aren't quite ready to talk about them yet (stay tuned next week), I figured this was a good week to take a look back at the previous two [i]Modern Horizons[/i] sets and answer some questions from those sets. So, before we start talking about those sweet new cards brought directly into Modern, let's take a look back at what [i]Modern Horizons[/i] has brought us in the past.\n",
      "\n",
      "And if you have questions of your own about anything in [i]Modern Horizons[/i] 1, 2, or 3, or any other [b]Magic[/b] set, feel free to send them in. We may even use them in future article. If you have a shorter question, you can find us at [url=https://twitter.com/CranialTweet]@CranialTweet[/url], but if you have a longer question, you can e-mail us at moko@cranialinsertion.com.\n",
      "\n",
      "[hr]\n",
      "[q]If there's a [c]Collector Ouphe[/c] in play, can I still tap [c]Talisman of Creativity[/c] for mana?[/q]\n",
      "\n",
      "[a]No you cannot. The Ouphe stops players from activating abilities of artifacts. It doesn't exclude mana abilities, so you can't activate any of the abilities of the Talisman. If you want your Talisman to make mana again, you'll have to get rid of the Ouphe.[/a]\n",
      "\n",
      "[hr]\n",
      "[q]If I cast and resolve a [c]Fists of Flame[/c], then I draw another card, will that increase the bonus given to my creature by the Fists' effect?[/q]\n",
      "\n",
      "[a]No it will not. The bonus from Fists of Flame is locked in when the spell resolves. It won't count any cards that you draw after the Fists has resolved. If you've drawn two cards, then cast and resolve Fists of Flame, the targeted creature gets +3/+0 until end of turn. Drawing more cards after that won't affect the bonus given to your creature.[/a]\n",
      "\n",
      "[hr]\n",
      "[q]If I cast [c]Geomancer's Gambit[/c] targeting my own [c]Drossforge Bridg\n"
     ]
    }
   ],
   "source": [
    "print(contenu_du_fichier[:2000])"
   ]
  },
  {
   "cell_type": "markdown",
   "metadata": {},
   "source": [
    "On voit plusieurs morceaux de la forme `[c]Geomancer's Gambit[/c]`, donc `[c]Nom de carte en Anglais[/c]`.\n",
    "Je veux les trouver automatiquement, et pouvoir ensuite les remplacer si l'on veut."
   ]
  },
  {
   "cell_type": "markdown",
   "metadata": {},
   "source": [
    "On va écrire une régexp qui fait ça :"
   ]
  },
  {
   "cell_type": "code",
   "execution_count": 73,
   "metadata": {},
   "outputs": [],
   "source": [
    "import re\n",
    "trouve_nom_carte = re.compile(r\"\\[c\\][\\w ,']+\\[/c\\]\")"
   ]
  },
  {
   "cell_type": "code",
   "execution_count": 74,
   "metadata": {},
   "outputs": [],
   "source": [
    "noms_de_cartes = trouve_nom_carte.findall(contenu_du_fichier)"
   ]
  },
  {
   "cell_type": "code",
   "execution_count": 75,
   "metadata": {},
   "outputs": [
    {
     "name": "stdout",
     "output_type": "stream",
     "text": [
      "La 0-ème carte trouvée s'appelle « [c]Collector Ouphe[/c] »\n",
      "La 1-ème carte trouvée s'appelle « [c]Talisman of Creativity[/c] »\n",
      "La 2-ème carte trouvée s'appelle « [c]Fists of Flame[/c] »\n",
      "La 3-ème carte trouvée s'appelle « [c]Geomancer's Gambit[/c] »\n",
      "La 4-ème carte trouvée s'appelle « [c]Drossforge Bridge[/c] »\n",
      "La 5-ème carte trouvée s'appelle « [c]Soulherder[/c] »\n",
      "La 6-ème carte trouvée s'appelle « [c]Universal Automaton[/c] »\n",
      "La 7-ème carte trouvée s'appelle « [c]Valiant Changeling[/c] »\n",
      "La 8-ème carte trouvée s'appelle « [c]Winds of Abandon[/c] »\n",
      "La 9-ème carte trouvée s'appelle « [c]River Song[/c] »\n",
      "La 10-ème carte trouvée s'appelle « [c]Yawgmoth, Thran Physician[/c] »\n",
      "La 11-ème carte trouvée s'appelle « [c]Young Wolf[/c] »\n",
      "La 12-ème carte trouvée s'appelle « [c]Urza, Lord High Artificer[/c] »\n",
      "La 13-ème carte trouvée s'appelle « [c]The First Sliver[/c] »\n",
      "La 14-ème carte trouvée s'appelle « [c]Cleaving Sliver[/c] »\n",
      "La 15-ème carte trouvée s'appelle « [c]First Sliver's Chosen[/c] »\n",
      "La 16-ème carte trouvée s'appelle « [c]Hollowhead Sliver[/c] »\n",
      "La 17-ème carte trouvée s'appelle « [c]Grief[/c] »\n",
      "La 18-ème carte trouvée s'appelle « [c]Not Dead After All[/c] »\n",
      "La 19-ème carte trouvée s'appelle « [c]Unholy Heat[/c] »\n",
      "La 20-ème carte trouvée s'appelle « [c]Tormod's Crypt[/c] »\n",
      "La 21-ème carte trouvée s'appelle « [c]Goblin Anarchomancer[/c] »\n",
      "La 22-ème carte trouvée s'appelle « [c]Bloodbraid Elf[/c] »\n",
      "La 23-ème carte trouvée s'appelle « [c]Diamond Lion[/c] »\n",
      "La 24-ème carte trouvée s'appelle « [c]Lion's Eye Diamond[/c] »\n",
      "La 25-ème carte trouvée s'appelle « [c]Walking Ballista[/c] »\n",
      "La 26-ème carte trouvée s'appelle « [c]Dress Down[/c] »\n",
      "La 27-ème carte trouvée s'appelle « [c]Profane Tutor[/c] »\n",
      "La 28-ème carte trouvée s'appelle « [c]Void Mirror[/c] »\n",
      "La 29-ème carte trouvée s'appelle « [c]Asmoranomardicadaistinaculdacar[/c] »\n",
      "La 30-ème carte trouvée s'appelle « [c]Aether Vial[/c] »\n",
      "La 31-ème carte trouvée s'appelle « [c]The One Ring[/c] »\n",
      "La 32-ème carte trouvée s'appelle « [c]Archon of Cruelty[/c] »\n",
      "La 33-ème carte trouvée s'appelle « [c]Grist, the Hunger Tide[/c] »\n"
     ]
    }
   ],
   "source": [
    "\n",
    "for i, nom_de_carte in enumerate(noms_de_cartes):\n",
    "    print(f\"La {i}-ème carte trouvée s'appelle « {nom_de_carte} »\")"
   ]
  },
  {
   "cell_type": "markdown",
   "metadata": {},
   "source": [
    "Notre regexp semble marcher ! Super !"
   ]
  },
  {
   "cell_type": "markdown",
   "metadata": {},
   "source": [
    "## Je veux traduire le nom des cartes automatiquement maintenant"
   ]
  },
  {
   "cell_type": "code",
   "execution_count": 37,
   "metadata": {},
   "outputs": [
    {
     "name": "stdout",
     "output_type": "stream",
     "text": [
      "Requirement already satisfied: scrython in ./venv/lib/python3.10/site-packages (1.11.0)\n",
      "Requirement already satisfied: aiohttp in ./venv/lib/python3.10/site-packages (from scrython) (3.9.5)\n",
      "Requirement already satisfied: asyncio in ./venv/lib/python3.10/site-packages (from scrython) (3.4.3)\n",
      "Requirement already satisfied: attrs>=17.3.0 in ./venv/lib/python3.10/site-packages (from aiohttp->scrython) (23.2.0)\n",
      "Requirement already satisfied: aiosignal>=1.1.2 in ./venv/lib/python3.10/site-packages (from aiohttp->scrython) (1.3.1)\n",
      "Requirement already satisfied: frozenlist>=1.1.1 in ./venv/lib/python3.10/site-packages (from aiohttp->scrython) (1.4.1)\n",
      "Requirement already satisfied: yarl<2.0,>=1.0 in ./venv/lib/python3.10/site-packages (from aiohttp->scrython) (1.9.4)\n",
      "Requirement already satisfied: multidict<7.0,>=4.5 in ./venv/lib/python3.10/site-packages (from aiohttp->scrython) (6.0.5)\n",
      "Requirement already satisfied: async-timeout<5.0,>=4.0 in ./venv/lib/python3.10/site-packages (from aiohttp->scrython) (4.0.3)\n",
      "Requirement already satisfied: idna>=2.0 in ./venv/lib/python3.10/site-packages (from yarl<2.0,>=1.0->aiohttp->scrython) (3.7)\n"
     ]
    }
   ],
   "source": [
    "!pip install scrython\n",
    "import scrython"
   ]
  },
  {
   "cell_type": "code",
   "execution_count": 38,
   "metadata": {},
   "outputs": [
    {
     "name": "stdout",
     "output_type": "stream",
     "text": [
      "Requirement already satisfied: nest_asyncio in ./venv/lib/python3.10/site-packages (1.6.0)\n"
     ]
    }
   ],
   "source": [
    "!pip install nest_asyncio\n",
    "# and adding below lines in my file.\n",
    "\n",
    "import nest_asyncio\n",
    "nest_asyncio.apply()"
   ]
  },
  {
   "cell_type": "code",
   "execution_count": 39,
   "metadata": {},
   "outputs": [],
   "source": [
    "from pprint import pprint"
   ]
  },
  {
   "cell_type": "code",
   "execution_count": 72,
   "metadata": {},
   "outputs": [],
   "source": [
    "def traduire_nom_carte(nom_de_carte=\"Thalia, guardian of Thraben\", lang='fr'):\n",
    "    card = scrython.cards.Named(fuzzy=nom_de_carte)\n",
    "    pprint(card)\n",
    "    print(f\"\\n# Card name in English = « {card.name()} »\")\n",
    "    # get the card Object of the translated version of this card\n",
    "    set_code = card.set_code()\n",
    "    collector_number = card.collector_number()\n",
    "    try:\n",
    "        search_card_fr = scrython.Collector(code=set_code, collector_number=collector_number, lang=lang)\n",
    "        print(f\"Nom de la carte en Français = « {search_card_fr.printed_name()} »\")\n",
    "        return search_card_fr.printed_name()\n",
    "    except scrython.ScryfallError:\n",
    "        print(f\"Nom de la carte en Français = pas trouvé !\")\n",
    "        return nom_de_carte"
   ]
  },
  {
   "cell_type": "code",
   "execution_count": 79,
   "metadata": {},
   "outputs": [
    {
     "name": "stdout",
     "output_type": "stream",
     "text": [
      "<scrython.cards.named.Named object at 0x7f551256b970>\n",
      "Card name in English = « Black Lotus »\n",
      "Nom de la carte en Français = pas trouvé !\n",
      "<scrython.cards.named.Named object at 0x7f550cb242e0>\n",
      "Card name in English = « Soulherder »\n",
      "Nom de la carte en Français = « Berger des âmes »\n",
      "<scrython.cards.named.Named object at 0x7f54ef63fc70>\n",
      "Card name in English = « Goblin Matron »\n",
      "Nom de la carte en Français = « Matrone gobeline »\n",
      "<scrython.cards.named.Named object at 0x7f550cb242e0>\n",
      "Card name in English = « Thalia, Guardian of Thraben »\n",
      "Nom de la carte en Français = « Thalia, gardienne de Thraben »\n",
      "<scrython.cards.named.Named object at 0x7f54ef63fc70>\n",
      "Card name in English = « +2 Mace »\n",
      "Nom de la carte en Français = pas trouvé !\n"
     ]
    }
   ],
   "source": [
    "for nom_de_carte in [\n",
    "        \"Black Lotus\",\n",
    "        \"Soulherder\",\n",
    "        \"Goblin Matron\",\n",
    "        \"Thalia, Guardian of Thraben\",\n",
    "        \"+2 Mace\", # ne marche pas\n",
    "    ]:\n",
    "        traduire_nom_carte(nom_de_carte)"
   ]
  },
  {
   "cell_type": "markdown",
   "metadata": {},
   "source": [
    "Maintenant je veux traduire `[c]Soulherder[/c]` en `[c=Soulherder]Berger des âmes[/c]`, automatiquement :"
   ]
  },
  {
   "cell_type": "code",
   "execution_count": 80,
   "metadata": {},
   "outputs": [
    {
     "name": "stdout",
     "output_type": "stream",
     "text": [
      "La 0-ème carte trouvée s'appelle « [c]Collector Ouphe[/c] »\n",
      "Collector Ouphe\n",
      "<scrython.cards.named.Named object at 0x7f54ed1cee30>\n",
      "Card name in English = « Collector Ouphe »\n",
      "Nom de la carte en Français = « Orphe collectionneur »\n",
      "La 1-ème carte trouvée s'appelle « [c]Talisman of Creativity[/c] »\n",
      "Talisman of Creativity\n",
      "<scrython.cards.named.Named object at 0x7f550cb242e0>\n",
      "Card name in English = « Talisman of Creativity »\n",
      "Nom de la carte en Français = « Talisman de créativité »\n",
      "La 2-ème carte trouvée s'appelle « [c]Fists of Flame[/c] »\n",
      "Fists of Flame\n",
      "<scrython.cards.named.Named object at 0x7f54ef522740>\n",
      "Card name in English = « Fists of Flame »\n",
      "Nom de la carte en Français = pas trouvé !\n",
      "La 3-ème carte trouvée s'appelle « [c]Geomancer's Gambit[/c] »\n",
      "Geomancer's Gambit\n",
      "<scrython.cards.named.Named object at 0x7f54ef522740>\n",
      "Card name in English = « Geomancer's Gambit »\n",
      "Nom de la carte en Français = « Pari du géomancien »\n",
      "La 4-ème carte trouvée s'appelle « [c]Drossforge Bridge[/c] »\n",
      "Drossforge Bridge\n",
      "<scrython.cards.named.Named object at 0x7f550cb242e0>\n",
      "Card name in English = « Drossforge Bridge »\n",
      "Nom de la carte en Français = « Pont de Crasseforge »\n",
      "La 5-ème carte trouvée s'appelle « [c]Soulherder[/c] »\n",
      "Soulherder\n",
      "<scrython.cards.named.Named object at 0x7f54ef522740>\n",
      "Card name in English = « Soulherder »\n",
      "Nom de la carte en Français = « Berger des âmes »\n",
      "La 6-ème carte trouvée s'appelle « [c]Universal Automaton[/c] »\n",
      "Universal Automaton\n",
      "<scrython.cards.named.Named object at 0x7f550cb242e0>\n",
      "Card name in English = « Universal Automaton »\n",
      "Nom de la carte en Français = « Automate universel »\n",
      "La 7-ème carte trouvée s'appelle « [c]Valiant Changeling[/c] »\n",
      "Valiant Changeling\n",
      "<scrython.cards.named.Named object at 0x7f54ef522740>\n",
      "Card name in English = « Valiant Changeling »\n",
      "Nom de la carte en Français = « Changelin vaillant »\n",
      "La 8-ème carte trouvée s'appelle « [c]Winds of Abandon[/c] »\n",
      "Winds of Abandon\n",
      "<scrython.cards.named.Named object at 0x7f550cb242e0>\n",
      "Card name in English = « Winds of Abandon »\n",
      "Nom de la carte en Français = « Vents d'abandon »\n",
      "La 9-ème carte trouvée s'appelle « [c]River Song[/c] »\n",
      "River Song\n",
      "<scrython.cards.named.Named object at 0x7f54ef522740>\n",
      "Card name in English = « River Song »\n",
      "Nom de la carte en Français = « River Song »\n",
      "La 10-ème carte trouvée s'appelle « [c]Yawgmoth, Thran Physician[/c] »\n",
      "Yawgmoth, Thran Physician\n",
      "<scrython.cards.named.Named object at 0x7f550cb242e0>\n",
      "Card name in English = « Yawgmoth, Thran Physician »\n",
      "Nom de la carte en Français = « Yaugzebul, médecin thran »\n",
      "La 11-ème carte trouvée s'appelle « [c]Young Wolf[/c] »\n",
      "Young Wolf\n",
      "<scrython.cards.named.Named object at 0x7f550cb242e0>\n",
      "Card name in English = « Young Wolf »\n",
      "Nom de la carte en Français = « Louveteau »\n",
      "La 12-ème carte trouvée s'appelle « [c]Urza, Lord High Artificer[/c] »\n",
      "Urza, Lord High Artificer\n",
      "<scrython.cards.named.Named object at 0x7f54ee8b9b40>\n",
      "Card name in English = « Urza, Lord High Artificer »\n",
      "Nom de la carte en Français = « Urza, seigneur grand-artificier »\n",
      "La 13-ème carte trouvée s'appelle « [c]The First Sliver[/c] »\n",
      "The First Sliver\n",
      "<scrython.cards.named.Named object at 0x7f54ef63cac0>\n",
      "Card name in English = « The First Sliver »\n",
      "Nom de la carte en Français = « Le Premier slivoïde »\n",
      "La 14-ème carte trouvée s'appelle « [c]Cleaving Sliver[/c] »\n",
      "Cleaving Sliver\n",
      "<scrython.cards.named.Named object at 0x7f54ef522740>\n",
      "Card name in English = « Cleaving Sliver »\n",
      "Nom de la carte en Français = « Slivoïde tranchant »\n",
      "La 15-ème carte trouvée s'appelle « [c]First Sliver's Chosen[/c] »\n",
      "First Sliver's Chosen\n",
      "<scrython.cards.named.Named object at 0x7f54ef63cac0>\n",
      "Card name in English = « First Sliver's Chosen »\n",
      "Nom de la carte en Français = « Élu du Premier slivoïde »\n",
      "La 16-ème carte trouvée s'appelle « [c]Hollowhead Sliver[/c] »\n",
      "Hollowhead Sliver\n",
      "<scrython.cards.named.Named object at 0x7f54ef522740>\n",
      "Card name in English = « Hollowhead Sliver »\n",
      "Nom de la carte en Français = « Slivoïde à tête creuse »\n",
      "La 17-ème carte trouvée s'appelle « [c]Grief[/c] »\n",
      "Grief\n",
      "<scrython.cards.named.Named object at 0x7f54ef63cac0>\n",
      "Card name in English = « Grief »\n",
      "Nom de la carte en Français = « Chagrin »\n",
      "La 18-ème carte trouvée s'appelle « [c]Not Dead After All[/c] »\n",
      "Not Dead After All\n",
      "<scrython.cards.named.Named object at 0x7f54ef63cac0>\n",
      "Card name in English = « Not Dead After All »\n",
      "Nom de la carte en Français = « Même pas morte »\n",
      "La 19-ème carte trouvée s'appelle « [c]Unholy Heat[/c] »\n",
      "Unholy Heat\n",
      "<scrython.cards.named.Named object at 0x7f54ee8b9570>\n",
      "Card name in English = « Unholy Heat »\n",
      "Nom de la carte en Français = « Chaleur impie »\n",
      "La 20-ème carte trouvée s'appelle « [c]Tormod's Crypt[/c] »\n",
      "Tormod's Crypt\n",
      "<scrython.cards.named.Named object at 0x7f54ef63cac0>\n",
      "Card name in English = « Tormod's Crypt »\n",
      "Nom de la carte en Français = « Crypte de Tormod »\n",
      "La 21-ème carte trouvée s'appelle « [c]Goblin Anarchomancer[/c] »\n",
      "Goblin Anarchomancer\n",
      "<scrython.cards.named.Named object at 0x7f54ef63cac0>\n",
      "Card name in English = « Goblin Anarchomancer »\n",
      "Nom de la carte en Français = « Anarchomancien gobelin »\n",
      "La 22-ème carte trouvée s'appelle « [c]Bloodbraid Elf[/c] »\n",
      "Bloodbraid Elf\n",
      "<scrython.cards.named.Named object at 0x7f54ee8b9b40>\n",
      "Card name in English = « Bloodbraid Elf »\n",
      "Nom de la carte en Français = « Elfe aux Nattes sanguinolentes »\n",
      "La 23-ème carte trouvée s'appelle « [c]Diamond Lion[/c] »\n",
      "Diamond Lion\n",
      "<scrython.cards.named.Named object at 0x7f54ef63cac0>\n",
      "Card name in English = « Diamond Lion »\n",
      "Nom de la carte en Français = « Lion de diamant »\n",
      "La 24-ème carte trouvée s'appelle « [c]Lion's Eye Diamond[/c] »\n",
      "Lion's Eye Diamond\n",
      "<scrython.cards.named.Named object at 0x7f54ef63cac0>\n",
      "Card name in English = « Lion's Eye Diamond »\n",
      "Nom de la carte en Français = pas trouvé !\n",
      "La 25-ème carte trouvée s'appelle « [c]Walking Ballista[/c] »\n",
      "Walking Ballista\n",
      "<scrython.cards.named.Named object at 0x7f54ef63cac0>\n",
      "Card name in English = « Walking Ballista »\n",
      "Nom de la carte en Français = « Baliste ambulante »\n",
      "La 26-ème carte trouvée s'appelle « [c]Dress Down[/c] »\n",
      "Dress Down\n",
      "<scrython.cards.named.Named object at 0x7f550cb242e0>\n",
      "Card name in English = « Dress Down »\n",
      "Nom de la carte en Français = « Déculottée »\n",
      "La 27-ème carte trouvée s'appelle « [c]Profane Tutor[/c] »\n",
      "Profane Tutor\n",
      "<scrython.cards.named.Named object at 0x7f54ef63cac0>\n",
      "Card name in English = « Profane Tutor »\n",
      "Nom de la carte en Français = « Précepteur profane »\n",
      "La 28-ème carte trouvée s'appelle « [c]Void Mirror[/c] »\n",
      "Void Mirror\n",
      "<scrython.cards.named.Named object at 0x7f54eff023e0>\n",
      "Card name in English = « Void Mirror »\n",
      "Nom de la carte en Français = « Miroir du vide »\n",
      "La 29-ème carte trouvée s'appelle « [c]Asmoranomardicadaistinaculdacar[/c] »\n",
      "Asmoranomardicadaistinaculdacar\n",
      "<scrython.cards.named.Named object at 0x7f54eff023e0>\n",
      "Card name in English = « Asmoranomardicadaistinaculdacar »\n",
      "Nom de la carte en Français = « Asmoranomardicadaistinaculdacar »\n",
      "La 30-ème carte trouvée s'appelle « [c]Aether Vial[/c] »\n",
      "Aether Vial\n",
      "<scrython.cards.named.Named object at 0x7f54ee8b9690>\n",
      "Card name in English = « Aether Vial »\n",
      "Nom de la carte en Français = « Fiole d'Éther »\n",
      "La 31-ème carte trouvée s'appelle « [c]The One Ring[/c] »\n",
      "The One Ring\n",
      "<scrython.cards.named.Named object at 0x7f550cb242e0>\n",
      "Card name in English = « The One Ring »\n",
      "Nom de la carte en Français = « L'Anneau Unique »\n",
      "La 32-ème carte trouvée s'appelle « [c]Archon of Cruelty[/c] »\n",
      "Archon of Cruelty\n",
      "<scrython.cards.named.Named object at 0x7f54ee8b9570>\n",
      "Card name in English = « Archon of Cruelty »\n",
      "Nom de la carte en Français = « Archonte de la cruauté »\n",
      "La 33-ème carte trouvée s'appelle « [c]Grist, the Hunger Tide[/c] »\n",
      "Grist, the Hunger Tide\n",
      "<scrython.cards.named.Named object at 0x7f54eff023e0>\n",
      "Card name in English = « Grist, the Hunger Tide »\n",
      "Nom de la carte en Français = « Grist, la marée affamée »\n"
     ]
    }
   ],
   "source": [
    "for i, nom_de_carte in enumerate(noms_de_cartes):\n",
    "    print(f\"La {i}-ème carte trouvée s'appelle « {nom_de_carte} »\")\n",
    "    sous_nom_de_carte = nom_de_carte[3:][:-4]\n",
    "    print(sous_nom_de_carte)\n",
    "    sous_nom_de_carte_fr = traduire_nom_carte(sous_nom_de_carte)\n",
    "    if sous_nom_de_carte_fr != sous_nom_de_carte:\n",
    "        contenu_du_fichier = contenu_du_fichier.replace(\n",
    "            f\"{nom_de_carte}\",\n",
    "            f\"[c={sous_nom_de_carte}]{sous_nom_de_carte_fr}[/c]\"\n",
    "        )"
   ]
  },
  {
   "cell_type": "code",
   "execution_count": 81,
   "metadata": {},
   "outputs": [
    {
     "name": "stdout",
     "output_type": "stream",
     "text": [
      "[cright=Hogaak, Arisen Necropolis]People originally thought this was a\n",
      "Commander card.\n",
      "That didn't last very long.[/cright]Hiya everyone, and welcome back to Cranial Insertion! We're right on the cusp of [b]Magic[/b]'s next set, [i]Modern Horizons 3[/i], and while we aren't quite ready to talk about them yet (stay tuned next week), I figured this was a good week to take a look back at the previous two [i]Modern Horizons[/i] sets and answer some questions from those sets. So, before we start talking about those sweet new cards brought directly into Modern, let's take a look back at what [i]Modern Horizons[/i] has brought us in the past.\n",
      "\n",
      "And if you have questions of your own about anything in [i]Modern Horizons[/i] 1, 2, or 3, or any other [b]Magic[/b] set, feel free to send them in. We may even use them in future article. If you have a shorter question, you can find us at [url=https://twitter.com/CranialTweet]@CranialTweet[/url], but if you have a longer question, you can e-mail us at moko@cranialinsertion.com.\n",
      "\n",
      "[hr]\n",
      "[q]If there's a [c=Collector Ouphe]Orphe collectionneur[/c] in play, can I still tap [c=Talisman of Creativity]Talisman de créativité[/c] for mana?[/q]\n",
      "\n",
      "[a]No you cannot. The Ouphe stops players from activating abilities of artifacts. It doesn't exclude mana abilities, so you can't activate any of the abilities of the Talisman. If you want your Talisman to make mana again, you'll have to get rid of the Ouphe.[/a]\n",
      "\n",
      "[hr]\n",
      "[q]If I cast and resolve a [c]Fists of Flame[/c], then I draw another card, will that increase the bonus given to my creature by the Fists' effect?[/q]\n",
      "\n",
      "[a]No it will not. The bonus from Fists of Flame is locked in when the spell resolves. It won't count any cards that you draw after the Fists has resolved. If you've drawn two cards, then cast and resolve Fists of Flame, the targeted creature gets +3/+0 until end of turn. Drawing more cards after that won't affect the bonus given to your creature.[/a]\n",
      "\n",
      "[hr]\n",
      "[q]If I cast [c=Geomancer's Gambit]Pari du géomancien[/c] targeting my own [c=Drossforge Bridge]Pont de Crasseforge[/c], will I get to search for a land?[/q]\n",
      "\n",
      "[a]Yes you will! The Gambit doesn't care if the land is destroyed when the spell resolves. Since the Bridge is indestructible, the Gambit won't destroy the Bridge, but the rest of the effect will still happen, and you'll still be able to search for a basic land to put onto the battlefield (and draw a card as well).[/a]\n",
      "\n",
      "[hr]\n",
      "[q]If I have two [c=Soulherder]Berger des âmes[/c]s in play, can I target the same [c]Man-o'-War[/c] with both triggers and bounce two of my opponent's creatures?[/q]\n",
      "\n",
      "[a]No, that won't work. While you can target the same creature with both triggers, once the first trigger resolves, since Man-o'-War left the battlefield and returned, it's a new object with no link to its previous life on the battlefield. Since Man-o'-War is a new object after it returns from the first trigger, it isn't being targeted by the second trigger anymore, so it won't be exiled and returned a second time. You would need two Man-o'-War if you wanted to bounce two of your opponent's creatures.[/a]\n",
      "\n",
      "[hr]\n",
      "[q]If my only creature in play is [c=Universal Automaton]Automate universel[/c], how much will my [c=Valiant Changeling]Changelin vaillant[/c] cost to cast?[/q]\n",
      "\n",
      "[a]It will only cost [mc]WW[/mc]. The Automaton has changeling, so it has every creature type. Since it has at least five creature types, that reduces the cost to cast Valiant Changeling by {5}, and you'll be able to play your Valiant Changeling as early as turn 2 if you cast the Automaton on turn 1.[/a]\n",
      "\n",
      "[hr]\n",
      "[q]If I sacrifice my [c]Ranger-Captain of Eos[/c] to activate its ability, can my opponent respond by casting an instant?[/q]\n",
      "\n",
      "[a]Sure. The Ranger-Captain won't stop your opponents from casting noncreature spells until the activated ability resolves. They'll get priority like normal before the ability resolves, and they'll still have a chance to cast instants before they're locked out of casting noncreature spells for the rest of the turn when the ability resolves.[/a]\n",
      "\n",
      "[hr]\n",
      "[q]I cast [c=Winds of Abandon]Vents d'abandon[/c] for its overload cost, exiling five of my opponent's creatures. Is my opponent searching one time or five times? [c]River Song[/c] would like to know.[/q]\n",
      "\n",
      "[a]It's only a single search. Even though the Winds exiled multiple creatures your opponent controls, they're only searching one time for their lands, not a separate search for each creature that was exiled. Your opponent is searching one time for up to five basic lands, which means your River Song is only going to trigger once, not five times.[/a]\n",
      "\n",
      "[cleft=Ayula, Queen Among Bears]I heard she found her king in the new set.[/cleft][hr]\n",
      "[q]I control [c=Yawgmoth, Thran Physician]Yaugzebul, médecin thran[/c] and a [c=Young Wolf]Louveteau[/c] with no counters on it. Can I activate Yawgmoth's first ability, sacrificing the Young Wolf, and put the -1/-1 counter on the Young Wolf after it returns from its undying trigger to remove both counters?[/q]\n",
      "\n",
      "[a]No, one Young Wolf isn't enough. You have to choose a target for Yawgmoth's ability when you activate it. You can target Young Wolf with the ability and sacrifice that Young Wolf to pay the cost of Yawgmoth's ability, but even though it will return from undying before Yawgmoth's ability resolves, it's a different object when it returns and is no longer being targeted. Yawgmoth's ability would do nothing when it resolves and you would not draw a card. \n",
      "\n",
      "If you had two Young Wolves in play, then you could alternate sacrificing one Wolf and adding the -1/-1 counter to the other Wolf and loop it that way, but a single Wolf isn't enough to loop with Yawgmoth.[/a]\n",
      "\n",
      "[hr]\n",
      "[q]Can I cast [c=Urza, Lord High Artificer]Urza, seigneur grand-artificier[/c], then tap the Construct token I just created to activate Urza's ability?[/q]\n",
      "\n",
      "[a]Yes, you can do that. \"Summoning sickness\" only prevents the creature from attacking and using abilities with the tap or untap symbol. Urza's ability taps the artifact, but it's an ability of Urza (not an ability given to the creature), and it doesn't use the tap symbol. Even though your Construct token is affected by \"summoning sickness\", it can be tapped to activate Urza's ability as soon as it enters the battlefield.[/a]\n",
      "\n",
      "[hr]\n",
      "[q]I cast [c=The First Sliver]Le Premier slivoïde[/c], and with its cascade trigger I reveal [c=Cleaving Sliver]Slivoïde tranchant[/c]. Will I get to cascade off of Cleaving Sliver as well?[/q]\n",
      "\n",
      "[a]No, you won't cascade a second time. The First Sliver needs to be on the battlefield to give your Sliver spells cascade. But when you cascaded off of casting The First Sliver, it's still on the stack, since the cascade trigger resolves first. The First Sliver isn't on the battlefield yet, so the Sliver you cascaded into won't have cascade.\n",
      "\n",
      "However, once The First Sliver resolves, any Sliver spells you do cast would have cascade - including Sliver spells you cascade into. So if you cast [c=First Sliver's Chosen]Élu du Premier slivoïde[/c] with The First Sliver already in play, and cascade into [c=Hollowhead Sliver]Slivoïde à tête creuse[/c], Hollowhead Sliver would also have cascade and you'd get a second free spell.[/a]\n",
      "\n",
      "[hr]\n",
      "[q]If I cast [c=Grief]Chagrin[/c] for its evoke cost, can I respond to the sacrifice trigger by casting [c=Not Dead After All]Même pas morte[/c] targeting Grief?[/q]\n",
      "\n",
      "[a]Sure, that's a legal (and very popular in Modern) play. Grief isn't sacrificed as soon as it enters the battlefield - there's a triggered ability that goes on the stack that will cause you to sacrifice Grief when that trigger resolves. You can respond to that trigger by casting Not Dead After All targeting Grief. When Grief is sacrificed, that will cause the trigger given to it by Not Dead After All to trigger and Grief will return to the battlefield (and its enter the battlefield ability will trigger again).[/a]\n",
      "\n",
      "[hr]\n",
      "[q]I cast [c=Unholy Heat]Chaleur impie[/c], with four different card types in my graveyard. In response, my opponent activates [c=Tormod's Crypt]Crypte de Tormod[/c] to exile my graveyard. How much damage will my Unholy Heat do when it resolves?[/q]\n",
      "\n",
      "[a]It'll only deal 2 damage. Unholy Heat will only check the card types in your graveyard as part of the spell resolving. It won't care what card types you had in your graveyard when you cast it. In your case, when Unholy Heat resolves, you have zero card types in your graveyard, so Unholy Heat deals 2 damage to the target, not 6 damage.[/a]\n",
      "\n",
      "[hr]\n",
      "[q]Will [c=Goblin Anarchomancer]Anarchomancien gobelin[/c] reduce the cost of a red and green spell, like [c=Bloodbraid Elf]Elfe aux Nattes sanguinolentes[/c], by [mc]1[/mc] or [mc]2[/mc]?[/q]\n",
      "\n",
      "[a]Only by {1}. The Anarchomancer cares if the spell is red or green, but doesn't give a double discount if the spell happens to be both red and green. Bloodbraid Elf is both a red and green spell, but the total cost to cast it is only reduced by one mana, not two mana.[/a]\n",
      "\n",
      "[cright=Out of Time]This article is almost over...[/cright][hr]\n",
      "[q]Does [c=Diamond Lion]Lion de diamant[/c] have a mana ability?[/q]\n",
      "\n",
      "[a]Yep, that's a mana ability. The Lion has an activated ability that could produce mana when it resolves, does not target anything, and is not a loyalty ability, so it's a mana ability. \n",
      "\n",
      "However, like the Oracle text of [c]Lion's Eye Diamond[/c], Diamond Lion has a restriction when you can activate its ability - you can only activate it as an instant. This means you can't activate it during the announcement of a spell like a normal mana ability. For example, this restriction means you can't choose to announce a spell from your hand, then try to sacrifice Diamond Lion for mana to pay for the spell during announcement but still use that mana to cast a spell from your hand.[/a]\n",
      "\n",
      "[hr]\n",
      "[q]My opponent just cast a [c=Walking Ballista]Baliste ambulante[/c] with X=5. If I respond by casting [c=Dress Down]Déculottée[/c], what happens when the Ballista resolves?[/q]\n",
      "\n",
      "[a]Your opponent's Ballista enters with zero counters (instead of five) and will die. When the Ballista resolves, it looks ahead to what it will look like on the battlefield. Since there's a Dress Down in play, the Ballista sees that it wouldn't have any abilities while on the battlefield, so it loses the ability to enter with counters, and the Ballista will enter without any counters on it as a 0/0.[/a]\n",
      "\n",
      "[hr]\n",
      "[q]I suspended [c=Profane Tutor]Précepteur profane[/c] on my second turn. The turn before I was set to cast it, my opponent cast [c=Void Mirror]Miroir du vide[/c]. Will the Mirror counter my Tutor next turn?[/q]\n",
      "\n",
      "[a]Yep, it'll get countered. Void Mirror will trigger if a player casts a spell without using colored mana to cast it. If you didn't spend any mana to cast it, you didn't spend any colored mana to cast it (even if you used colored mana to suspend it), so your Profane Tutor will trigger Void Mirror when you cast it without paying its mana cost and the Tutor will be countered.[/a]\n",
      "\n",
      "[hr]\n",
      "[q]What zone does [c]Garth One-Eye[/c] cast its copies from?[/q]\n",
      "\n",
      "[a]None of the in-game zones. Garth One-Eye makes and casts the copies from outside the game. We're not referring to a card in another zone, we're looking at a card in the Oracle reference, and since there's no other zone to refer them to (and because of rule 707.13), we cast those copies from outside the game.[/a]\n",
      "\n",
      "[hr]\n",
      "[q]If I have an [c]Asmoranomardicadaistinaculdacar[/c] in my hand, can I put it onto the battlefield with [c=Aether Vial]Fiole d'Éther[/c]?[/q]\n",
      "\n",
      "[a]Yep, as long as Aether Vial has zero counters on it. Asmoranomardicadaistinaculdacar has no mana cost, which means that its mana value is 0. An Aether Vial with zero charge counters would let you put Asmoranomardicadaistinaculdacar onto the battlefield with its ability (and without needing to discard a card to enable its alternate cost).[/a]\n",
      "\n",
      "[hr]\n",
      "[q]On my opponent's last turn, they cast [c=The One Ring]L'Anneau Unique[/c] giving themself protection from everything. If I cast [c=Archon of Cruelty]Archonte de la cruauté[/c] on my turn, what happens to its trigger?[/q]\n",
      "\n",
      "[a]The Archon's trigger does a lot of things, but it has a target - a target opponent. You need to be able to choose a legal target for the trigger to go on the stack. Since your opponent has protection from everything, they're not a legal target for the Archon's triggered ability. Assuming there are no other opponents you could target, since you can't choose a legal target for the trigger, the trigger is removed from the stack and will not resolve (and none of its effects will happen).[/a]\n",
      "\n",
      "[hr]\n",
      "[q]Can [c=Grist, the Hunger Tide]Grist, la marée affamée[/c] be my commander?[/q]\n",
      "\n",
      "[a]Surprisingly, yes! Before the game begins, Grist's ability that makes it a creature is in effect, making Grist a legendary creature. And because Grist is a legendary creature, you could run it as your commander.[/a]\n",
      "\n",
      "[hr]\n",
      "That's it for this week's history lesson. Check back next week as we dive into [i]Modern Horizons 3[/i]!\n",
      "\n"
     ]
    }
   ],
   "source": [
    "print(contenu_du_fichier)"
   ]
  },
  {
   "cell_type": "code",
   "execution_count": 86,
   "metadata": {},
   "outputs": [],
   "source": [
    "nom_du_fichier_fr = nom_du_fichier.replace(\"english/\", \"francais/\")"
   ]
  },
  {
   "cell_type": "code",
   "execution_count": 87,
   "metadata": {},
   "outputs": [],
   "source": [
    "with open(nom_du_fichier_fr, \"w\") as fichier:\n",
    "    print(contenu_du_fichier, file=fichier)"
   ]
  },
  {
   "cell_type": "markdown",
   "metadata": {},
   "source": [
    "## Et traduire automatiquement ?"
   ]
  },
  {
   "cell_type": "markdown",
   "metadata": {},
   "source": [
    "Ça semble une mauvaise idée, il vaudrait mieux utiliser <https://DeepL.com> manuellement, question par question, pour plus facilement corriger les erreurs."
   ]
  }
 ],
 "metadata": {
  "kernelspec": {
   "display_name": "venv",
   "language": "python",
   "name": "python3"
  },
  "language_info": {
   "codemirror_mode": {
    "name": "ipython",
    "version": 3
   },
   "file_extension": ".py",
   "mimetype": "text/x-python",
   "name": "python",
   "nbconvert_exporter": "python",
   "pygments_lexer": "ipython3",
   "version": "3.10.12"
  }
 },
 "nbformat": 4,
 "nbformat_minor": 2
}
