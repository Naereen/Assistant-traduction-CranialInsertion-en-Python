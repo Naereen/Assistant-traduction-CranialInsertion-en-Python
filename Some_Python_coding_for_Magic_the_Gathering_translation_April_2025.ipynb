{
  "cells": [
    {
      "cell_type": "markdown",
      "source": [
        "# **Let's start to automate some translation task for Magic: the Gathering translation**\n",
        "\n",
        "> *A bit of context*: every weekend, a group of passionate and cool French judges work for about 1H30 (for free), on translating the newest article on the (awesome) ✨ [**Cranial Insertion** Magic: the Gathering blog](https://www.cranial-insertion.com/), from 🇺 English to 🇫 French.\n",
        "> I want to automate this task, as much as possible!\n",
        "> *Let's work more now, to work less in the future!*\n",
        "\n",
        "Here is what I would like to obtain: an entirely automated pipeline that takes care of helping us to produce the best translation of these English-written articles covering our favorite game (Magic!), in order to help us thanks to coding and AI, and which helps us be more efficient.\n",
        "\n",
        "I'm thinking about these steps:\n",
        "1. when one of the North-American author submits their weekly article on Cranial Insertion, something should automatically trigger a script running \"on the cloud\" (a free/cheap \"Google Lambda function\" ?) or on the Cranial Insertion hosting server itself,\n",
        "2. this script should do [like I did last year](https://github.com/Naereen/Assistant-traduction-CranialInsertion-en-Python/blob/master/import-the-latest-article.ipynb), by connecting to the Cranial Insertion admin webpage and download the raw text of the newest article. Then it could be sent to the \"cloud\", into a new tab in our shared [Google doc](https://docs.google.com/), named by the date of the day.\n",
        "3. Ideally, this Google doc should be cut in three equally-spacen parts, each with a different color.\n",
        "4. Then, I want to also do [like I did last year in June](https://github.com/Naereen/Assistant-traduction-CranialInsertion-en-Python/blob/master/translate-card-names.ipynb), to translate as much as possible the names of the Magic cards when they are in tags like `[c]Card Name[/c]` or [c=Card Name]Card Name[/c]`.\n",
        "5. If possible, a free and efficient LLM specialized on translation from English to French, like HuggingFace's [Helsinki-NLP/opus-mt-tc-big-en-fr](https://huggingface.co/Helsinki-NLP/opus-mt-tc-big-en-fr) model, could be used to suggest a first draft of a translation, paragraph by paragraph, to help us translate the article.\n",
        "6. Then when this is done and our shared Google doc has been updated to contain what should be read and translated, a message could be posted to our Discord server automatically, to notify the team of translator that the newest article is ready for translation! See <https://www.makerhacks.com/python-messages-discord/>, which requires a [Discord webhook](https://support.discord.com/hc/en-us/articles/228383668-Intro-to-Webhooks).\n",
        "   > If all this works fine, we could improve it by automatically affecting three out of the six translators, to a third of the article's content, and notifying only them in the message sent to Discord.\n",
        "\n",
        "*Note:*\n",
        "- If running this task automatically can't be done easily, I can write a notebook that can run on Google colab or locally on my machine, and run it manually each week.\n",
        "- From Google colab, [it is (of course) possible to save a document to Google Drive](https://stackoverflow.com/questions/64808087/how-do-i-save-files-from-google-colab-to-google-drive#64810963), so it must be possible to edit a Google doc.\n",
        "\n",
        "> More links?\n",
        "> - See <https://huggingface.co/docs/transformers/tasks/translation> for the documentation I followed initially.\n",
        "> - See <https://github.com/Naereen/Assistant-traduction-CranialInsertion-en-Python> for the initial project I wrote (documentation in French) in June 2024."
      ],
      "metadata": {
        "id": "mk1ju3hC_rMj"
      }
    },
    {
      "cell_type": "markdown",
      "source": [
        "## Small signature and versions of some modules"
      ],
      "metadata": {
        "id": "chp0GYsGWCYz"
      }
    },
    {
      "cell_type": "code",
      "source": [
        "!pip install watermark\n",
        "%load_ext watermark\n",
        "%watermark -v -m -a \"Lilian Besson (Naereen)\" -gu \"Naereen\" -g -p tensorflow,transformers,feedparser,requests,beautifulsoup4,tqdm"
      ],
      "metadata": {
        "colab": {
          "base_uri": "https://localhost:8080/"
        },
        "id": "MBghVO5xGhfx",
        "outputId": "50616efa-1f17-4afa-fb5d-49310d9380c4"
      },
      "execution_count": 4,
      "outputs": [
        {
          "output_type": "stream",
          "name": "stdout",
          "text": [
            "Requirement already satisfied: watermark in /usr/local/lib/python3.11/dist-packages (2.5.0)\n",
            "Requirement already satisfied: ipython>=6.0 in /usr/local/lib/python3.11/dist-packages (from watermark) (7.34.0)\n",
            "Requirement already satisfied: importlib-metadata>=1.4 in /usr/local/lib/python3.11/dist-packages (from watermark) (8.6.1)\n",
            "Requirement already satisfied: setuptools in /usr/local/lib/python3.11/dist-packages (from watermark) (75.2.0)\n",
            "Requirement already satisfied: zipp>=3.20 in /usr/local/lib/python3.11/dist-packages (from importlib-metadata>=1.4->watermark) (3.21.0)\n",
            "Requirement already satisfied: jedi>=0.16 in /usr/local/lib/python3.11/dist-packages (from ipython>=6.0->watermark) (0.19.2)\n",
            "Requirement already satisfied: decorator in /usr/local/lib/python3.11/dist-packages (from ipython>=6.0->watermark) (4.4.2)\n",
            "Requirement already satisfied: pickleshare in /usr/local/lib/python3.11/dist-packages (from ipython>=6.0->watermark) (0.7.5)\n",
            "Requirement already satisfied: traitlets>=4.2 in /usr/local/lib/python3.11/dist-packages (from ipython>=6.0->watermark) (5.7.1)\n",
            "Requirement already satisfied: prompt-toolkit!=3.0.0,!=3.0.1,<3.1.0,>=2.0.0 in /usr/local/lib/python3.11/dist-packages (from ipython>=6.0->watermark) (3.0.50)\n",
            "Requirement already satisfied: pygments in /usr/local/lib/python3.11/dist-packages (from ipython>=6.0->watermark) (2.18.0)\n",
            "Requirement already satisfied: backcall in /usr/local/lib/python3.11/dist-packages (from ipython>=6.0->watermark) (0.2.0)\n",
            "Requirement already satisfied: matplotlib-inline in /usr/local/lib/python3.11/dist-packages (from ipython>=6.0->watermark) (0.1.7)\n",
            "Requirement already satisfied: pexpect>4.3 in /usr/local/lib/python3.11/dist-packages (from ipython>=6.0->watermark) (4.9.0)\n",
            "Requirement already satisfied: parso<0.9.0,>=0.8.4 in /usr/local/lib/python3.11/dist-packages (from jedi>=0.16->ipython>=6.0->watermark) (0.8.4)\n",
            "Requirement already satisfied: ptyprocess>=0.5 in /usr/local/lib/python3.11/dist-packages (from pexpect>4.3->ipython>=6.0->watermark) (0.7.0)\n",
            "Requirement already satisfied: wcwidth in /usr/local/lib/python3.11/dist-packages (from prompt-toolkit!=3.0.0,!=3.0.1,<3.1.0,>=2.0.0->ipython>=6.0->watermark) (0.2.13)\n",
            "The watermark extension is already loaded. To reload it, use:\n",
            "  %reload_ext watermark\n",
            "Author: Lilian Besson (Naereen)\n",
            "\n",
            "Github username: Naereen\n",
            "\n",
            "Python implementation: CPython\n",
            "Python version       : 3.11.11\n",
            "IPython version      : 7.34.0\n",
            "\n",
            "tensorflow    : 2.18.0\n",
            "transformers  : 4.50.3\n",
            "feedparser    : not installed\n",
            "requests      : 2.32.3\n",
            "beautifulsoup4: not installed\n",
            "tqdm          : 4.67.1\n",
            "\n",
            "Compiler    : GCC 11.4.0\n",
            "OS          : Linux\n",
            "Release     : 6.1.85+\n",
            "Machine     : x86_64\n",
            "Processor   : x86_64\n",
            "CPU cores   : 2\n",
            "Architecture: 64bit\n",
            "\n",
            "Git hash: \n",
            "\n"
          ]
        }
      ]
    },
    {
      "cell_type": "markdown",
      "source": [
        "----\n",
        "\n",
        "## Using Google's colab GPU and setting up the requirements to translate English-to-French\n",
        "Let's check that the Google Colab notebook runs on a GPU and not a CPU, if possible. Otherwise, inference (translation English to French) will be slower."
      ],
      "metadata": {
        "id": "cmyAZXr2__Da"
      }
    },
    {
      "cell_type": "code",
      "source": [
        "running_on_GPU = True\n",
        "import tensorflow as tf\n",
        "device_name = tf.test.gpu_device_name()\n",
        "if device_name != '/device:GPU:0':\n",
        "    running_on_GPU = False\n",
        "    raise SystemError('GPU device not found')\n",
        "print('Found GPU at: {}'.format(device_name))"
      ],
      "metadata": {
        "colab": {
          "base_uri": "https://localhost:8080/",
          "height": 193
        },
        "id": "hhI4eGSx-67K",
        "outputId": "2f7fca4b-96a0-4aba-fb66-e16374d12873"
      },
      "execution_count": 101,
      "outputs": [
        {
          "output_type": "error",
          "ename": "SystemError",
          "evalue": "GPU device not found",
          "traceback": [
            "\u001b[0;31m---------------------------------------------------------------------------\u001b[0m",
            "\u001b[0;31mSystemError\u001b[0m                               Traceback (most recent call last)",
            "\u001b[0;32m<ipython-input-101-922d22d620a4>\u001b[0m in \u001b[0;36m<cell line: 0>\u001b[0;34m()\u001b[0m\n\u001b[1;32m      4\u001b[0m \u001b[0;32mif\u001b[0m \u001b[0mdevice_name\u001b[0m \u001b[0;34m!=\u001b[0m \u001b[0;34m'/device:GPU:0'\u001b[0m\u001b[0;34m:\u001b[0m\u001b[0;34m\u001b[0m\u001b[0;34m\u001b[0m\u001b[0m\n\u001b[1;32m      5\u001b[0m     \u001b[0mrunning_on_GPU\u001b[0m \u001b[0;34m=\u001b[0m \u001b[0;32mFalse\u001b[0m\u001b[0;34m\u001b[0m\u001b[0;34m\u001b[0m\u001b[0m\n\u001b[0;32m----> 6\u001b[0;31m     \u001b[0;32mraise\u001b[0m \u001b[0mSystemError\u001b[0m\u001b[0;34m(\u001b[0m\u001b[0;34m'GPU device not found'\u001b[0m\u001b[0;34m)\u001b[0m\u001b[0;34m\u001b[0m\u001b[0;34m\u001b[0m\u001b[0m\n\u001b[0m\u001b[1;32m      7\u001b[0m \u001b[0mprint\u001b[0m\u001b[0;34m(\u001b[0m\u001b[0;34m'Found GPU at: {}'\u001b[0m\u001b[0;34m.\u001b[0m\u001b[0mformat\u001b[0m\u001b[0;34m(\u001b[0m\u001b[0mdevice_name\u001b[0m\u001b[0;34m)\u001b[0m\u001b[0;34m)\u001b[0m\u001b[0;34m\u001b[0m\u001b[0;34m\u001b[0m\u001b[0m\n",
            "\u001b[0;31mSystemError\u001b[0m: GPU device not found"
          ]
        }
      ]
    },
    {
      "cell_type": "markdown",
      "source": [
        "Let's install the first requirements:"
      ],
      "metadata": {
        "id": "6GBvRPoEAE0K"
      }
    },
    {
      "cell_type": "code",
      "source": [
        "!pip install sacremoses"
      ],
      "metadata": {
        "colab": {
          "base_uri": "https://localhost:8080/"
        },
        "id": "08Cy2Xgg6-Ck",
        "outputId": "0107d716-e7bd-41ec-8d7e-de4820ca47b4"
      },
      "execution_count": 6,
      "outputs": [
        {
          "output_type": "stream",
          "name": "stdout",
          "text": [
            "Requirement already satisfied: sacremoses in /usr/local/lib/python3.11/dist-packages (0.1.1)\n",
            "Requirement already satisfied: regex in /usr/local/lib/python3.11/dist-packages (from sacremoses) (2024.11.6)\n",
            "Requirement already satisfied: click in /usr/local/lib/python3.11/dist-packages (from sacremoses) (8.1.8)\n",
            "Requirement already satisfied: joblib in /usr/local/lib/python3.11/dist-packages (from sacremoses) (1.4.2)\n",
            "Requirement already satisfied: tqdm in /usr/local/lib/python3.11/dist-packages (from sacremoses) (4.67.1)\n"
          ]
        }
      ]
    },
    {
      "cell_type": "markdown",
      "source": [
        "Let's use this model <https://huggingface.co/Helsinki-NLP/opus-mt-tc-big-en-fr>:"
      ],
      "metadata": {
        "id": "B3KtDNhhg_rb"
      }
    },
    {
      "cell_type": "code",
      "source": [
        "from transformers import pipeline\n",
        "pipe_en2fr = pipeline(\"translation\", model=\"Helsinki-NLP/opus-mt-tc-big-en-fr\")"
      ],
      "metadata": {
        "colab": {
          "base_uri": "https://localhost:8080/"
        },
        "id": "XuPcCTdO6VTv",
        "outputId": "3afec76b-93e6-4d64-dcdf-6f3f49331330"
      },
      "execution_count": 7,
      "outputs": [
        {
          "output_type": "stream",
          "name": "stderr",
          "text": [
            "Device set to use cpu\n"
          ]
        }
      ]
    },
    {
      "cell_type": "markdown",
      "source": [
        "We can then very quickly write a function to translate text, and use it on small sentences:"
      ],
      "metadata": {
        "id": "B88SdK7Fmgan"
      }
    },
    {
      "cell_type": "code",
      "source": [
        "def en2fr(text):\n",
        "    return pipe_en2fr(text)[0]['translation_text']"
      ],
      "metadata": {
        "id": "3MZKJ7736wyo"
      },
      "execution_count": 8,
      "outputs": []
    },
    {
      "cell_type": "code",
      "source": [
        "%%time\n",
        "print(en2fr(\"The Portuguese teacher is very demanding.\"))\n",
        "# expected output: Le professeur de portugais est très exigeant."
      ],
      "metadata": {
        "colab": {
          "base_uri": "https://localhost:8080/"
        },
        "id": "xz8q6e1u6jDc",
        "outputId": "e10d33b2-b0bc-4f01-b3b6-017cd5db251b"
      },
      "execution_count": 9,
      "outputs": [
        {
          "output_type": "stream",
          "name": "stdout",
          "text": [
            "Le professeur de portugais est très exigeant.\n",
            "CPU times: user 1.52 s, sys: 15.6 ms, total: 1.54 s\n",
            "Wall time: 1.57 s\n"
          ]
        }
      ]
    },
    {
      "cell_type": "code",
      "source": [
        "%%time\n",
        "print(en2fr(\"Who are you? I am a LLM running on the Google cloud (Google colab).\"))\n",
        "# expected output: Qui êtes-vous? Je suis un LLM fonctionnant sur le cloud Google (Google colab)."
      ],
      "metadata": {
        "colab": {
          "base_uri": "https://localhost:8080/"
        },
        "id": "a6SRhobRHzTC",
        "outputId": "6f06cc47-7ff7-42ed-e0be-73eb2e806a2a"
      },
      "execution_count": 10,
      "outputs": [
        {
          "output_type": "stream",
          "name": "stdout",
          "text": [
            "Qui êtes-vous? Je suis un LLM fonctionnant sur le cloud Google (Google colab).\n",
            "CPU times: user 5.1 s, sys: 133 ms, total: 5.24 s\n",
            "Wall time: 9.86 s\n"
          ]
        }
      ]
    },
    {
      "cell_type": "markdown",
      "source": [
        "I'll print paragraphs using this code:"
      ],
      "metadata": {
        "id": "Ocgrx7CJJ344"
      }
    },
    {
      "cell_type": "code",
      "source": [
        "from IPython.display import display, Markdown\n",
        "def print_paragraph(paragraph):\n",
        "    return display(Markdown(f\"> {paragraph}\"))"
      ],
      "metadata": {
        "id": "QdNc3R39J3LD"
      },
      "execution_count": 25,
      "outputs": []
    },
    {
      "cell_type": "markdown",
      "source": [
        "-----\n",
        "\n",
        "## Let's work on splitting a paragraph on sentences, translating each of them, and joining the result.\n",
        "\n",
        "I'm gonna use [the best novel on Earth](https://en.wikisource.org/wiki/The_Cats_of_Ulthar), as an example."
      ],
      "metadata": {
        "id": "SrDH2I2pjxF0"
      }
    },
    {
      "cell_type": "code",
      "source": [
        "with open(\"The_Cats_of_Ulthar.txt\", \"r\") as file:\n",
        "    raw_text = file.read()\n",
        "\n",
        "print_paragraph(raw_text[:2000])"
      ],
      "metadata": {
        "colab": {
          "base_uri": "https://localhost:8080/",
          "height": 440
        },
        "id": "NkLD2hLPjwdM",
        "outputId": "ea568b8f-6c6d-46e6-c8b9-1a3f6fa17ef2"
      },
      "execution_count": 98,
      "outputs": [
        {
          "output_type": "display_data",
          "data": {
            "text/plain": [
              "<IPython.core.display.Markdown object>"
            ],
            "text/markdown": "> Weird Tales (vol. 7, no. 2) — The Cats of Ulthar\n\n\n\t\t\t\t\tH. P. Lovecraft\n\n\n\n\n\n1926\n\n\n\n\n\nExported from Wikisource on April 6, 2025\n\n\n\n\n\nA Fantastic Tale Is\n\nThe Cats of Ulthar\n\n\n\nBy H. P. Lovecraft\n\n\n\nIt is said that in Ulthar, which lies beyond the river Skai, no man may kill a cat; and this I can verily believe as I gaze upon him who sitteth purring before the fire. For the cat is cryptic, and close to strange things which men can not see. He is the soul of antique Ægyptus, and bearer of tales from forgotten cities in Meroë and Ophir. He is the kin of the jungle's lords, and heir to the secrets of hoary and sinister Africa. The Sphinx is his cousin, and he speaks her language; but he is more ancient than the Sphinx, and remembers that which she hath forgotten.\n\nIn Ulthar, before ever the burgesses forbade the killing of cats, there dwelt an old cotter and his wife who delighted to trap and slay the cats of their neighbors. Why they did this I know not; save that many hate the voice of the cat in the night, and take it ill that cats should run stealthily about yards and gardens at twilight. But whatever the reason, this old man and woman took pleasure in trapping and slaying every cat which came near to their hovel; and from some of the sounds heard after dark, many villagers fancied that the manner of slaying was exceedingly peculiar. But the villagers did not discuss such things with the old man and his wife; because of the habitual expression on the withered faces of the two, and because their cottage was so small and so darkly hidden under spreading oaks at the back of a neglected yard. In truth, much as the owners of cats hated these odd folk, they feared them more; and instead of berating them as brutal assassins, merely took care that no cherished pet or mouser should stray toward the remote hovel under the dark trees. When through some unavoidable oversight a cat was missed, and sounds heard after dark, the loser would lament impotently; or console himself by"
          },
          "metadata": {}
        }
      ]
    },
    {
      "cell_type": "markdown",
      "source": [
        "Let's improve the `en2fr` translation function:"
      ],
      "metadata": {
        "id": "dLpxqRvumbaS"
      }
    },
    {
      "cell_type": "code",
      "source": [
        "def en2fr(text, split_length=350):\n",
        "    \"\"\" Translate <text> from English to French.\n",
        "\n",
        "    EXPERIMENTAL: If its size is larger than <split_length>, split it by sentences, translate each separately, then join the result.\n",
        "    \"\"\"\n",
        "    if len(text) <= split_length:\n",
        "        return pipe_en2fr(text)[0]['translation_text']\n",
        "    else:\n",
        "        sentences = text.split(\".\")\n",
        "        translated_sentences = []\n",
        "        for sentence in sentences:\n",
        "            if len(sentence) > 0:\n",
        "                text = sentence\n",
        "                translated_text = pipe_en2fr(text)[0]['translation_text']\n",
        "                translated_sentences.append(translated_text)\n",
        "        return \".\".join(translated_sentences)"
      ],
      "metadata": {
        "id": "u9v7Z1-xlUj1"
      },
      "execution_count": 11,
      "outputs": []
    },
    {
      "cell_type": "markdown",
      "source": [
        "Translating directly a long text will simply cut it:"
      ],
      "metadata": {
        "id": "42EhX_obmsJq"
      }
    },
    {
      "cell_type": "code",
      "source": [
        "print_paragraph(pipe_en2fr(raw_text[:2000])[0]['translation_text'])"
      ],
      "metadata": {
        "colab": {
          "base_uri": "https://localhost:8080/",
          "height": 134
        },
        "id": "H9QwDEfgmHBD",
        "outputId": "9efe288e-9d6e-46b6-9832-74d664b0e7b1"
      },
      "execution_count": 99,
      "outputs": [
        {
          "output_type": "stream",
          "name": "stderr",
          "text": [
            "Your input_length: 478 is bigger than 0.9 * max_length: 512. You might consider increasing your max_length manually, e.g. translator('...', max_length=400)\n"
          ]
        },
        {
          "output_type": "display_data",
          "data": {
            "text/plain": [
              "<IPython.core.display.Markdown object>"
            ],
            "text/markdown": "> Contes bizarres (vol. 7, n ° 2) - Les chats d'Ulthar H. P. L'amour est caché dans les chattes sauvages; L'amour est caché dans les chattes sauvages; L'amour est caché dans les chattes sauvages; L'amour est caché dans les chattes sauvages; L'amour est caché dans les chattes sauvages; L'amour est caché dans les chattes sauvages; L'amour est caché dans les chats sauvages."
          },
          "metadata": {}
        }
      ]
    },
    {
      "cell_type": "code",
      "source": [
        "print_paragraph(raw_text[:2000])\n",
        "raw_text_fr = en2fr(raw_text[:2000])\n",
        "print_paragraph(raw_text_fr)"
      ],
      "metadata": {
        "colab": {
          "base_uri": "https://localhost:8080/",
          "height": 758
        },
        "id": "iK9SFaXbl1S7",
        "outputId": "db4d5839-c315-47b5-f17a-4c8df845c7d9"
      },
      "execution_count": 101,
      "outputs": [
        {
          "output_type": "display_data",
          "data": {
            "text/plain": [
              "<IPython.core.display.Markdown object>"
            ],
            "text/markdown": "> Weird Tales (vol. 7, no. 2) — The Cats of Ulthar\n\n\n\t\t\t\t\tH. P. Lovecraft\n\n\n\n\n\n1926\n\n\n\n\n\nExported from Wikisource on April 6, 2025\n\n\n\n\n\nA Fantastic Tale Is\n\nThe Cats of Ulthar\n\n\n\nBy H. P. Lovecraft\n\n\n\nIt is said that in Ulthar, which lies beyond the river Skai, no man may kill a cat; and this I can verily believe as I gaze upon him who sitteth purring before the fire. For the cat is cryptic, and close to strange things which men can not see. He is the soul of antique Ægyptus, and bearer of tales from forgotten cities in Meroë and Ophir. He is the kin of the jungle's lords, and heir to the secrets of hoary and sinister Africa. The Sphinx is his cousin, and he speaks her language; but he is more ancient than the Sphinx, and remembers that which she hath forgotten.\n\nIn Ulthar, before ever the burgesses forbade the killing of cats, there dwelt an old cotter and his wife who delighted to trap and slay the cats of their neighbors. Why they did this I know not; save that many hate the voice of the cat in the night, and take it ill that cats should run stealthily about yards and gardens at twilight. But whatever the reason, this old man and woman took pleasure in trapping and slaying every cat which came near to their hovel; and from some of the sounds heard after dark, many villagers fancied that the manner of slaying was exceedingly peculiar. But the villagers did not discuss such things with the old man and his wife; because of the habitual expression on the withered faces of the two, and because their cottage was so small and so darkly hidden under spreading oaks at the back of a neglected yard. In truth, much as the owners of cats hated these odd folk, they feared them more; and instead of berating them as brutal assassins, merely took care that no cherished pet or mouser should stray toward the remote hovel under the dark trees. When through some unavoidable oversight a cat was missed, and sounds heard after dark, the loser would lament impotently; or console himself by"
          },
          "metadata": {}
        },
        {
          "output_type": "display_data",
          "data": {
            "text/plain": [
              "<IPython.core.display.Markdown object>"
            ],
            "text/markdown": "> Contes étranges (vol..7, non.2) Les Chats d'Ulthar H.P.Lovecraft 1926 Exporté de Wikisource le 6 avril 2025 Un conte fantastique est les chats d'Ulthar Par H.P.Lovecraft Il est dit qu'à Ulthar, qui se trouve au-delà de la rivière Skai, aucun homme ne peut tuer un chat; et cela, je peux vraiment le croire en regardant celui qui ronronne devant le feu..Car le chat est cryptique, et proche de choses étranges que les hommes ne peuvent voir..Il est l'âme de l'gypte antique, et porteur de contes des villes oubliées de Meroë et d'Ophir..Il est le parent des seigneurs de la jungle, et l'héritier des secrets de l'Afrique sinistre et sinistre..Le Sphinx est son cousin, et il parle sa langue; mais il est plus ancien que le Sphinx, et se souvient de ce qu'elle a oublié..A Ulthar, avant même que les bourgeois n'interdisent de tuer des chats, habitaient une vieille cotte et sa femme qui se réjouissaient de piéger et de tuer les chats de leurs voisins..Je ne sais pourquoi ils ont fait cela, si ce n'est que beaucoup détestent la voix du chat dans la nuit, et prennent mal que les chats courent furtivement dans les cours et les jardins au crépuscule..Mais quelle qu’en soit la raison, ce vieil homme et cette vieille femme prirent plaisir à piéger et à tuer tous les chats qui s’approchaient de leur taudis ; et de quelques-uns des bruits entendus après la tombée de la nuit, de nombreux villageois crurent que la manière de tuer était extrêmement particulière..Mais les villageois ne discutaient pas de telles choses avec le vieil homme et sa femme ; à cause de l’expression habituelle sur les visages desséchés des deux, et parce que leur maison était si petite et si sombrement cachée sous des chênes qui s’étendaient à l’arrière d’une cour négligée..En vérité, tout comme les propriétaires de chats détestaient ces gens bizarres, ils les craignaient davantage; et au lieu de les réprimander comme des assassins brutaux, ils veillaient simplement à ce qu'aucun animal de compagnie ou souris chéri ne s'égare vers le taudis éloigné sous les arbres sombres..Quand, par quelque oubli inévitable, on manquait un chat, et qu'on entendait des sons après la tombée de la nuit, le perdant se lamentait impuissantment; ou se consolerait par"
          },
          "metadata": {}
        }
      ]
    },
    {
      "cell_type": "code",
      "source": [
        "%%time\n",
        "print_paragraph(raw_text[:1000])\n",
        "raw_text_fr = en2fr(raw_text)\n",
        "print_paragraph(raw_text_fr[:1000])"
      ],
      "metadata": {
        "colab": {
          "base_uri": "https://localhost:8080/",
          "height": 514
        },
        "id": "mjTN54E4nMjJ",
        "outputId": "e7b6a60c-de58-4b68-efc8-05d5f9a8ee6d"
      },
      "execution_count": 102,
      "outputs": [
        {
          "output_type": "display_data",
          "data": {
            "text/plain": [
              "<IPython.core.display.Markdown object>"
            ],
            "text/markdown": "> Weird Tales (vol. 7, no. 2) — The Cats of Ulthar\n\n\n\t\t\t\t\tH. P. Lovecraft\n\n\n\n\n\n1926\n\n\n\n\n\nExported from Wikisource on April 6, 2025\n\n\n\n\n\nA Fantastic Tale Is\n\nThe Cats of Ulthar\n\n\n\nBy H. P. Lovecraft\n\n\n\nIt is said that in Ulthar, which lies beyond the river Skai, no man may kill a cat; and this I can verily believe as I gaze upon him who sitteth purring before the fire. For the cat is cryptic, and close to strange things which men can not see. He is the soul of antique Ægyptus, and bearer of tales from forgotten cities in Meroë and Ophir. He is the kin of the jungle's lords, and heir to the secrets of hoary and sinister Africa. The Sphinx is his cousin, and he speaks her language; but he is more ancient than the Sphinx, and remembers that which she hath forgotten.\n\nIn Ulthar, before ever the burgesses forbade the killing of cats, there dwelt an old cotter and his wife who delighted to trap and slay the cats of their neighbors. Why they did this I know not; save that many hate the voice of "
          },
          "metadata": {}
        },
        {
          "output_type": "display_data",
          "data": {
            "text/plain": [
              "<IPython.core.display.Markdown object>"
            ],
            "text/markdown": "> Contes étranges (vol..7, non.2) Les Chats d'Ulthar H.P.Lovecraft 1926 Exporté de Wikisource le 6 avril 2025 Un conte fantastique est les chats d'Ulthar Par H.P.Lovecraft Il est dit qu'à Ulthar, qui se trouve au-delà de la rivière Skai, aucun homme ne peut tuer un chat; et cela, je peux vraiment le croire en regardant celui qui ronronne devant le feu..Car le chat est cryptique, et proche de choses étranges que les hommes ne peuvent voir..Il est l'âme de l'gypte antique, et porteur de contes des villes oubliées de Meroë et d'Ophir..Il est le parent des seigneurs de la jungle, et l'héritier des secrets de l'Afrique sinistre et sinistre..Le Sphinx est son cousin, et il parle sa langue; mais il est plus ancien que le Sphinx, et se souvient de ce qu'elle a oublié..A Ulthar, avant même que les bourgeois n'interdisent de tuer des chats, habitaient une vieille cotte et sa femme qui se réjouissaient de piéger et de tuer les chats de leurs voisins..Je ne sais pourquoi ils ont fait cela, si ce n'e"
          },
          "metadata": {}
        },
        {
          "output_type": "stream",
          "name": "stdout",
          "text": [
            "CPU times: user 20.8 s, sys: 21.1 ms, total: 20.8 s\n",
            "Wall time: 20.8 s\n"
          ]
        }
      ]
    },
    {
      "cell_type": "code",
      "source": [
        "print(f\"The entire novel in English is {len(raw_text)} characters long.\")\n",
        "raw_nb_lines = len(raw_text.split(\"\\n\"))\n",
        "print(f\"It has approximately {raw_nb_lines} lines.\")\n",
        "raw_nb_words = len(raw_text.split(' '))\n",
        "print(f\"It has approximately {raw_nb_words} words.\")\n",
        "\n",
        "\n",
        "print(f\"The entire novel in French is {len(raw_text_fr)} characters long.\")\n",
        "raw_nb_lines_fr = len(raw_text_fr.split(\"\\n\"))\n",
        "print(f\"It has approximately {raw_nb_lines_fr} lines.\")\n",
        "raw_nb_words_fr = len(raw_text_fr.split(' '))\n",
        "print(f\"It has approximately {raw_nb_words_fr} words.\")"
      ],
      "metadata": {
        "colab": {
          "base_uri": "https://localhost:8080/"
        },
        "id": "j8naAsMhnjgc",
        "outputId": "25be1b54-7a7b-4841-f4a8-1445140f05df"
      },
      "execution_count": 105,
      "outputs": [
        {
          "output_type": "stream",
          "name": "stdout",
          "text": [
            "The entire novel in English is 8880 characters long.\n",
            "It has approximately 91 lines.\n",
            "It has approximately 1569 words.\n",
            "The entire novel in French is 9895 characters long.\n",
            "It has approximately 1 lines.\n",
            "It has approximately 1634 words.\n"
          ]
        }
      ]
    },
    {
      "cell_type": "markdown",
      "source": [
        "This small hack I wrote seems to work efficiently, to translate longer texts!"
      ],
      "metadata": {
        "id": "LgfhP3UYoKUW"
      }
    },
    {
      "cell_type": "markdown",
      "source": [
        "--------\n",
        "\n",
        "## Trying to translate automatically some paragraphs from a Cranial Insertion article"
      ],
      "metadata": {
        "id": "z--6_Yjs71jw"
      }
    },
    {
      "cell_type": "code",
      "source": [
        "%%time\n",
        "first_paragraph = \"[a]Glacial Dragonhunt as a spell doesn't have a target, so you don't announce a target at the time you cast it. If you choose to discard a card during its resolution and that card turns out to be a nonland card, this triggers a reflexive triggered ability that has a target, and you announce its target when you put that ability on the stack.[/a]\"\n",
        "print(\"The first paragraph in English is:\")\n",
        "print_paragraph(first_paragraph)\n",
        "\n",
        "first_paragraph_fr = en2fr(first_paragraph)\n",
        "print(\"The first paragraph in French is:\")\n",
        "print_paragraph(first_paragraph_fr)"
      ],
      "metadata": {
        "colab": {
          "base_uri": "https://localhost:8080/",
          "height": 264
        },
        "id": "4Pg1wYLAIX2a",
        "outputId": "2957560b-f09d-40d2-b002-4b4b78646e63"
      },
      "execution_count": 21,
      "outputs": [
        {
          "output_type": "stream",
          "name": "stdout",
          "text": [
            "The first paragraph in English is:\n"
          ]
        },
        {
          "output_type": "display_data",
          "data": {
            "text/plain": [
              "<IPython.core.display.Markdown object>"
            ],
            "text/markdown": "> [a]Glacial Dragonhunt as a spell doesn't have a target, so you don't announce a target at the time you cast it. If you choose to discard a card during its resolution and that card turns out to be a nonland card, this triggers a reflexive triggered ability that has a target, and you announce its target when you put that ability on the stack.[/a]"
          },
          "metadata": {}
        },
        {
          "output_type": "stream",
          "name": "stdout",
          "text": [
            "The first paragraph in French is:\n"
          ]
        },
        {
          "output_type": "display_data",
          "data": {
            "text/plain": [
              "<IPython.core.display.Markdown object>"
            ],
            "text/markdown": "> [a]La chasse au dragon glaciale en tant que sort n'a pas de cible, donc vous n'annoncez pas de cible au moment où vous la lancez. Si vous choisissez de défausser une carte pendant sa résolution et que cette carte s'avère être une carte non terrestre, cela déclenche une capacité déclenchée par réflexe qui a une cible, et vous annoncez sa cible lorsque vous mettez cette capacité sur la pile."
          },
          "metadata": {}
        },
        {
          "output_type": "stream",
          "name": "stdout",
          "text": [
            "CPU times: user 13.8 s, sys: 161 ms, total: 13.9 s\n",
            "Wall time: 16.1 s\n"
          ]
        }
      ]
    },
    {
      "cell_type": "markdown",
      "source": [
        "This first try of translating a paragraph from [a recent Cranial Insertion article](https://www.cranial-insertion.com/article/4380) is quite a success!\n",
        "It's very quick: about 1 second to translate a paragraph, when running on a free GPU in Google Colab!\n",
        "\n",
        "> CPU times: user 765 ms, sys: 1.34 ms, total: 766 ms\n",
        "> Wall time: 765 ms\n",
        "\n",
        "It is quite slower on a CPU (as expected), about 20 times slower:\n",
        "\n",
        "> CPU times: user 13.8 s, sys: 161 ms, total: 13.9 s\n",
        "> Wall time: 16.1 s"
      ],
      "metadata": {
        "id": "qX7xcxr1NWKp"
      }
    },
    {
      "cell_type": "code",
      "source": [
        "ratio_cpu_to_gpu = round(16.1 / 0.765, 3)\n",
        "print(f\"It is approximately {ratio_cpu_to_gpu} times slower to use the (entirely Free) CPU than to use the (not-free) cheapest GPU.\")"
      ],
      "metadata": {
        "colab": {
          "base_uri": "https://localhost:8080/"
        },
        "id": "AIb2FWUvJgR6",
        "outputId": "26f87227-cd9a-4e74-8a30-a38af97a10d3"
      },
      "execution_count": 27,
      "outputs": [
        {
          "output_type": "stream",
          "name": "stdout",
          "text": [
            "It is approximately 21.046 times slower to use the (entirely Free) CPU than to use the (not-free) cheapest GPU.\n"
          ]
        }
      ]
    },
    {
      "cell_type": "markdown",
      "source": [
        "I'm pretty certain that this model cannot translate paragraph which are longer than about 370 caracters, from what I tried.\n",
        "See above, I wrote an improved version of `en2fr`, to split paragraphs into sentences, and translate them one-by-one, if the paragraph is longer than the max lengths."
      ],
      "metadata": {
        "id": "4TRzpQ4Vh6Pa"
      }
    },
    {
      "cell_type": "code",
      "source": [
        "article_content = \"\"\"[a]Glacial Dragonhunt as a spell doesn't have a target, so you don't announce a target at the time you cast it. If you choose to discard a card during its resolution and that card turns out to be a nonland card, this triggers a reflexive triggered ability that has a target, and you announce its target when you put that ability on the stack.[/a]\n",
        "\n",
        "[hr]\n",
        "[q]Does [c]Bloodletter of Aclazotz[/c] double the value of X for [c]Kotis, the Fangkeeper[/c]'s triggered ability?[/q]\n",
        "\n",
        "[a]I'm afraid not. Bloodletter of Aclazotz causes your opponent to lose twice the amount of life due the damage that Kotis deals to them, but the X in Kotis's ability is the amount of damage it dealt, not the amount of life that was lost as a result of the damage.[/a]\n",
        "\n",
        "[hr]\n",
        "[cleft=Breaching Dragonstorm|TDM|101]When the sky looks like that, RUN![/cleft][q]Speaking of [c]Kotis, the Fangkeeper[/c], what's the time frame for casting the exiled cards?[/q]\n",
        "\n",
        "[a]Since the ability doesn't specify a duration for the \"you may cast\" effect, it means [i]right now[/i], during the resolution of Kotis's triggered ability. Any cards that you choose not to cast at that time, or that you can't cast because they lack targets or other prerequisites to cast, simply stay in exile indefinitely and uselessly.[/a]\n",
        "\n",
        "[hr]\n",
        "[q]In Two-Headed Giant, does the last part of [c]Betor, Kin to All[/c]'s ability just insta-kill my opposing team?[/q]\n",
        "\n",
        "[a]As long as the \"toughness 40 or greater\" condition is met, sure. Both players on your opponents' team simultaneously lose half their life rounded up at the same time, and the game sees their shared life total for each player's life total. For example, if the team's life total is 30, each opponent loses 15 life and their team ends up at 0 life. However, note that Betor only counts the total toughness of the creatures that you control individually. It does not consider the creatures your teammate controls.[/a]\n",
        "\n",
        "[hr]\n",
        "[q]If I control [c]The Sibsig Ceremony[/c] and I cast some creature, can I sacrifice it to give [c]Unburied Earthcarver[/c] a counter in response to the Ceremony's trigger and still get a Zombie Cleric token? [/q]\n",
        "\n",
        "[a]Yes, you can do that. The Ceremony's triggered ability will try and fail to destroy the creature, but the creation of the Zombie Cleric token is not contingent on this destruction, so you still get the token.[/a]\n",
        "\n",
        "[hr]\n",
        "[q]Can I sacrifice a creature token to [c]Sidisi, Regent of the Mire[/c]'s activated ability?[/q]\n",
        "\n",
        "[a]Sure, as long as you can target a creature card with mana value 1 in your graveyard. To activate Sidisi's ability, you first choose some number for X; then you choose an appropriate target, which is a creature card with mana value X+1 in your graveyard; finally you pay the cost, which involves sacrificing a creature with mana value X other than Sidisi. X=0 is a legal choice for the ability, and a creature token has a mana value of 0 (usually, unless it's a copy of something that has a nonzero mana value). [/a]\n",
        "\n",
        "[hr]\n",
        "[q]After I draw cards with [c]Narset, Jeskai Waymaster[/c]'s ability, can I cast any of the cards I drew?[/q]\n",
        "\n",
        "[a]If they're instants or have flash, sure. Narset's ability triggers and resolves in your end step, and players get priority in the end step, so you get the opportunity to cast spells from among the cards you drew.[/a]\n",
        "\n",
        "[hr]\n",
        "[q]For chapter III of [c]Awaken the Honored Dead[/c], when do I choose the target? Can I target the card I discarded?[/q]\n",
        "\n",
        "[a]Choosing to discard a card triggers a reflexive ability that requires a target, so you only choose a target after you discard. This means that you could target and bring back the card you just discarded, provided that it's a creature or land card, but this only benefits you if some triggered ability notices the card entering or leaving the graveyard. Otherwise, you achieve the same end result of the card being in your hand by simply choosing not to discard it in the first place.[/a]\n",
        "\n",
        "[hr]\n",
        "[q]Can I target [c]Zurgo's Vanguard[/c] with [c]Smile at Death[/c]'s triggered ability?[/q]\n",
        "\n",
        "[a]That depends on how many creatures you control. The ability that defines Zurgo's Vanguard's power is a characteristic-defining ability that functions at all times and in all zones, including in your graveyard, so Zurgo's Vanguard's power is only small enough to be a legal target for the ability if you control at most two creatures.[/a]\n",
        "\n",
        "[hr]\n",
        "[cright=Call the Spirit Dragons]Who you gonna call?[/cright][q]Does [c]Call the Spirit Dragons[/c]'s ability go on the stack even if I don't control a Dragon? In other words, could I respond to the trigger by casting a Dragon with flash and give it a +1/+1 counter with the ability?[/q]\n",
        "\n",
        "[a]Sure, that works. Call the Spirit Dragons's ability does not have an intervening-if clause that gets checked at the time the ability triggers. The ability goes on the stack regardless of how many Dragons you control, so you can make more Dragons in response to the ability.[/a]\n",
        "\n",
        "[hr]\n",
        "[q]If [c]Effortless Master[/c] is the second spell I cast in a turn, does it get the +1/+1 counters?[/q]\n",
        "\n",
        "[a]Absolutely. As Effortless Master resolves, the replacement effect checks how many spells you've cast this turn, and you have cast two or more spells this turn, so the condition for Effortless Master to get counters is satisfied.[/a]\n",
        "\n",
        "[hr]\n",
        "[q]If [c]New Way Forward[/c] deals an amount of damage that's lethal to my opponent but also causes me to draw more cards than I have left in my library, what happens?[/q]\n",
        "\n",
        "[a]The game ends in a draw. The delayed triggered ability from New Way Forward's prevention effect deals damage to your opponent and causes you to draw a bunch of cards, and then state-based actions are checked. State-based actions see that your opponent is at 0 or less life and that you've attempted to draw from an empty library, so both of you lose the game at the same time and the game is a draw.[/a]\n",
        "\n",
        "[hr]\n",
        "[q]If I control [c]Hollowmurk Siege[/c] with Sultai chosen, do I draw a card when [c]Host of the Hereafter[/c] enters with counters on it?[/q]\n",
        "\n",
        "[a]Yup! An ability that triggers when a counter is put on a permanent also triggers when a permanent enters with a counter on it. Also note that the ability would ordinarily trigger twice because Host of the Hereafter enters with two counters, but the ability is limited to triggering once each turn.[/a]\n",
        "\n",
        "[hr]\n",
        "[q]If [c]Mardu Siegebreaker[/c]'s ability triggers twice due to [c]Panharmonicon[/c] for example, what happens when its attack trigger resolves?[/q]\n",
        "\n",
        "[a]Thanks to Panharmonicon, there are two cards that fit the description of \"the exiled card\", and the ability simply performs its actions on both of those cards, so you'll make tapped and attacking token copies of both cards for each opponent.[/a]\n",
        "\n",
        "[hr]\n",
        "[q]What happens if [c]Mardu Siegebreaker[/c]'s ability exiles a [c=Cubwarden]mutate pile[/c]?[/q]\n",
        "\n",
        "[a]You'll get a very similar situation as in the previous question. Mardu Siegebreaker exiles one creature, but it turns into several individual cards in exile. All of those cards are \"the exiled card\", so you'll make token copies of each of those cards for each opponent.[/a]\n",
        "\n",
        "[hr]\n",
        "\n",
        "And that's all the time we have for today's episode. Thanks for reading, and until next time, watch out for stormy weather!\n",
        "\n",
        "- Carsten Haese\n",
        "\"\"\""
      ],
      "metadata": {
        "id": "kHIl-fCdNVTL"
      },
      "execution_count": 82,
      "outputs": []
    },
    {
      "cell_type": "markdown",
      "source": [
        "Let's display these paragraphs nicely:"
      ],
      "metadata": {
        "id": "v-LWJbOyiaQr"
      }
    },
    {
      "cell_type": "code",
      "source": [
        "article_paragraphs = article_content.split(\"\\n\\n\")\n",
        "for i, paragraph in enumerate(article_paragraphs):\n",
        "    print(f\"{i}-th paragraph (of length {len(paragraph)} letters and {len(paragraph.split(' '))} words)\")\n",
        "    print_paragraph(paragraph)"
      ],
      "metadata": {
        "colab": {
          "base_uri": "https://localhost:8080/",
          "height": 1000
        },
        "id": "3ylCOb_cODl_",
        "outputId": "36399deb-00f8-4b26-8465-8493313eb87f"
      },
      "execution_count": 108,
      "outputs": [
        {
          "output_type": "stream",
          "name": "stdout",
          "text": [
            "0-th paragraph (of length 346 letters and 64 words)\n"
          ]
        },
        {
          "output_type": "display_data",
          "data": {
            "text/plain": [
              "<IPython.core.display.Markdown object>"
            ],
            "text/markdown": "> [a]Glacial Dragonhunt as a spell doesn't have a target, so you don't announce a target at the time you cast it. If you choose to discard a card during its resolution and that card turns out to be a nonland card, this triggers a reflexive triggered ability that has a target, and you announce its target when you put that ability on the stack.[/a]"
          },
          "metadata": {}
        },
        {
          "output_type": "stream",
          "name": "stdout",
          "text": [
            "1-th paragraph (of length 123 letters and 15 words)\n"
          ]
        },
        {
          "output_type": "display_data",
          "data": {
            "text/plain": [
              "<IPython.core.display.Markdown object>"
            ],
            "text/markdown": "> [hr]\n[q]Does [c]Bloodletter of Aclazotz[/c] double the value of X for [c]Kotis, the Fangkeeper[/c]'s triggered ability?[/q]"
          },
          "metadata": {}
        },
        {
          "output_type": "stream",
          "name": "stdout",
          "text": [
            "2-th paragraph (of length 268 letters and 51 words)\n"
          ]
        },
        {
          "output_type": "display_data",
          "data": {
            "text/plain": [
              "<IPython.core.display.Markdown object>"
            ],
            "text/markdown": "> [a]I'm afraid not. Bloodletter of Aclazotz causes your opponent to lose twice the amount of life due the damage that Kotis deals to them, but the X in Kotis's ability is the amount of damage it dealt, not the amount of life that was lost as a result of the damage.[/a]"
          },
          "metadata": {}
        },
        {
          "output_type": "stream",
          "name": "stdout",
          "text": [
            "3-th paragraph (of length 184 letters and 21 words)\n"
          ]
        },
        {
          "output_type": "display_data",
          "data": {
            "text/plain": [
              "<IPython.core.display.Markdown object>"
            ],
            "text/markdown": "> [hr]\n[cleft=Breaching Dragonstorm|TDM|101]When the sky looks like that, RUN![/cleft][q]Speaking of [c]Kotis, the Fangkeeper[/c], what's the time frame for casting the exiled cards?[/q]"
          },
          "metadata": {}
        },
        {
          "output_type": "stream",
          "name": "stdout",
          "text": [
            "4-th paragraph (of length 343 letters and 56 words)\n"
          ]
        },
        {
          "output_type": "display_data",
          "data": {
            "text/plain": [
              "<IPython.core.display.Markdown object>"
            ],
            "text/markdown": "> [a]Since the ability doesn't specify a duration for the \"you may cast\" effect, it means [i]right now[/i], during the resolution of Kotis's triggered ability. Any cards that you choose not to cast at that time, or that you can't cast because they lack targets or other prerequisites to cast, simply stay in exile indefinitely and uselessly.[/a]"
          },
          "metadata": {}
        },
        {
          "output_type": "stream",
          "name": "stdout",
          "text": [
            "5-th paragraph (of length 123 letters and 18 words)\n"
          ]
        },
        {
          "output_type": "display_data",
          "data": {
            "text/plain": [
              "<IPython.core.display.Markdown object>"
            ],
            "text/markdown": "> [hr]\n[q]In Two-Headed Giant, does the last part of [c]Betor, Kin to All[/c]'s ability just insta-kill my opposing team?[/q]"
          },
          "metadata": {}
        },
        {
          "output_type": "stream",
          "name": "stdout",
          "text": [
            "6-th paragraph (of length 516 letters and 89 words)\n"
          ]
        },
        {
          "output_type": "display_data",
          "data": {
            "text/plain": [
              "<IPython.core.display.Markdown object>"
            ],
            "text/markdown": "> [a]As long as the \"toughness 40 or greater\" condition is met, sure. Both players on your opponents' team simultaneously lose half their life rounded up at the same time, and the game sees their shared life total for each player's life total. For example, if the team's life total is 30, each opponent loses 15 life and their team ends up at 0 life. However, note that Betor only counts the total toughness of the creatures that you control individually. It does not consider the creatures your teammate controls.[/a]"
          },
          "metadata": {}
        },
        {
          "output_type": "stream",
          "name": "stdout",
          "text": [
            "7-th paragraph (of length 218 letters and 35 words)\n"
          ]
        },
        {
          "output_type": "display_data",
          "data": {
            "text/plain": [
              "<IPython.core.display.Markdown object>"
            ],
            "text/markdown": "> [hr]\n[q]If I control [c]The Sibsig Ceremony[/c] and I cast some creature, can I sacrifice it to give [c]Unburied Earthcarver[/c] a counter in response to the Ceremony's trigger and still get a Zombie Cleric token? [/q]"
          },
          "metadata": {}
        },
        {
          "output_type": "stream",
          "name": "stdout",
          "text": [
            "8-th paragraph (of length 215 letters and 37 words)\n"
          ]
        },
        {
          "output_type": "display_data",
          "data": {
            "text/plain": [
              "<IPython.core.display.Markdown object>"
            ],
            "text/markdown": "> [a]Yes, you can do that. The Ceremony's triggered ability will try and fail to destroy the creature, but the creation of the Zombie Cleric token is not contingent on this destruction, so you still get the token.[/a]"
          },
          "metadata": {}
        },
        {
          "output_type": "stream",
          "name": "stdout",
          "text": [
            "9-th paragraph (of length 102 letters and 14 words)\n"
          ]
        },
        {
          "output_type": "display_data",
          "data": {
            "text/plain": [
              "<IPython.core.display.Markdown object>"
            ],
            "text/markdown": "> [hr]\n[q]Can I sacrifice a creature token to [c]Sidisi, Regent of the Mire[/c]'s activated ability?[/q]"
          },
          "metadata": {}
        },
        {
          "output_type": "stream",
          "name": "stdout",
          "text": [
            "10-th paragraph (of length 518 letters and 95 words)\n"
          ]
        },
        {
          "output_type": "display_data",
          "data": {
            "text/plain": [
              "<IPython.core.display.Markdown object>"
            ],
            "text/markdown": "> [a]Sure, as long as you can target a creature card with mana value 1 in your graveyard. To activate Sidisi's ability, you first choose some number for X; then you choose an appropriate target, which is a creature card with mana value X+1 in your graveyard; finally you pay the cost, which involves sacrificing a creature with mana value X other than Sidisi. X=0 is a legal choice for the ability, and a creature token has a mana value of 0 (usually, unless it's a copy of something that has a nonzero mana value). [/a]"
          },
          "metadata": {}
        },
        {
          "output_type": "stream",
          "name": "stdout",
          "text": [
            "11-th paragraph (of length 114 letters and 18 words)\n"
          ]
        },
        {
          "output_type": "display_data",
          "data": {
            "text/plain": [
              "<IPython.core.display.Markdown object>"
            ],
            "text/markdown": "> [hr]\n[q]After I draw cards with [c]Narset, Jeskai Waymaster[/c]'s ability, can I cast any of the cards I drew?[/q]"
          },
          "metadata": {}
        },
        {
          "output_type": "stream",
          "name": "stdout",
          "text": [
            "12-th paragraph (of length 219 letters and 38 words)\n"
          ]
        },
        {
          "output_type": "display_data",
          "data": {
            "text/plain": [
              "<IPython.core.display.Markdown object>"
            ],
            "text/markdown": "> [a]If they're instants or have flash, sure. Narset's ability triggers and resolves in your end step, and players get priority in the end step, so you get the opportunity to cast spells from among the cards you drew.[/a]"
          },
          "metadata": {}
        },
        {
          "output_type": "stream",
          "name": "stdout",
          "text": [
            "13-th paragraph (of length 126 letters and 21 words)\n"
          ]
        },
        {
          "output_type": "display_data",
          "data": {
            "text/plain": [
              "<IPython.core.display.Markdown object>"
            ],
            "text/markdown": "> [hr]\n[q]For chapter III of [c]Awaken the Honored Dead[/c], when do I choose the target? Can I target the card I discarded?[/q]"
          },
          "metadata": {}
        },
        {
          "output_type": "stream",
          "name": "stdout",
          "text": [
            "14-th paragraph (of length 490 letters and 86 words)\n"
          ]
        },
        {
          "output_type": "display_data",
          "data": {
            "text/plain": [
              "<IPython.core.display.Markdown object>"
            ],
            "text/markdown": "> [a]Choosing to discard a card triggers a reflexive ability that requires a target, so you only choose a target after you discard. This means that you could target and bring back the card you just discarded, provided that it's a creature or land card, but this only benefits you if some triggered ability notices the card entering or leaving the graveyard. Otherwise, you achieve the same end result of the card being in your hand by simply choosing not to discard it in the first place.[/a]"
          },
          "metadata": {}
        },
        {
          "output_type": "stream",
          "name": "stdout",
          "text": [
            "15-th paragraph (of length 96 letters and 11 words)\n"
          ]
        },
        {
          "output_type": "display_data",
          "data": {
            "text/plain": [
              "<IPython.core.display.Markdown object>"
            ],
            "text/markdown": "> [hr]\n[q]Can I target [c]Zurgo's Vanguard[/c] with [c]Smile at Death[/c]'s triggered ability?[/q]"
          },
          "metadata": {}
        },
        {
          "output_type": "stream",
          "name": "stdout",
          "text": [
            "16-th paragraph (of length 340 letters and 55 words)\n"
          ]
        },
        {
          "output_type": "display_data",
          "data": {
            "text/plain": [
              "<IPython.core.display.Markdown object>"
            ],
            "text/markdown": "> [a]That depends on how many creatures you control. The ability that defines Zurgo's Vanguard's power is a characteristic-defining ability that functions at all times and in all zones, including in your graveyard, so Zurgo's Vanguard's power is only small enough to be a legal target for the ability if you control at most two creatures.[/a]"
          },
          "metadata": {}
        },
        {
          "output_type": "stream",
          "name": "stdout",
          "text": [
            "17-th paragraph (of length 291 letters and 47 words)\n"
          ]
        },
        {
          "output_type": "display_data",
          "data": {
            "text/plain": [
              "<IPython.core.display.Markdown object>"
            ],
            "text/markdown": "> [hr]\n[cright=Call the Spirit Dragons]Who you gonna call?[/cright][q]Does [c]Call the Spirit Dragons[/c]'s ability go on the stack even if I don't control a Dragon? In other words, could I respond to the trigger by casting a Dragon with flash and give it a +1/+1 counter with the ability?[/q]"
          },
          "metadata": {}
        },
        {
          "output_type": "stream",
          "name": "stdout",
          "text": [
            "18-th paragraph (of length 280 letters and 47 words)\n"
          ]
        },
        {
          "output_type": "display_data",
          "data": {
            "text/plain": [
              "<IPython.core.display.Markdown object>"
            ],
            "text/markdown": "> [a]Sure, that works. Call the Spirit Dragons's ability does not have an intervening-if clause that gets checked at the time the ability triggers. The ability goes on the stack regardless of how many Dragons you control, so you can make more Dragons in response to the ability.[/a]"
          },
          "metadata": {}
        },
        {
          "output_type": "stream",
          "name": "stdout",
          "text": [
            "19-th paragraph (of length 109 letters and 18 words)\n"
          ]
        },
        {
          "output_type": "display_data",
          "data": {
            "text/plain": [
              "<IPython.core.display.Markdown object>"
            ],
            "text/markdown": "> [hr]\n[q]If [c]Effortless Master[/c] is the second spell I cast in a turn, does it get the +1/+1 counters?[/q]"
          },
          "metadata": {}
        },
        {
          "output_type": "stream",
          "name": "stdout",
          "text": [
            "20-th paragraph (of length 235 letters and 37 words)\n"
          ]
        },
        {
          "output_type": "display_data",
          "data": {
            "text/plain": [
              "<IPython.core.display.Markdown object>"
            ],
            "text/markdown": "> [a]Absolutely. As Effortless Master resolves, the replacement effect checks how many spells you've cast this turn, and you have cast two or more spells this turn, so the condition for Effortless Master to get counters is satisfied.[/a]"
          },
          "metadata": {}
        },
        {
          "output_type": "stream",
          "name": "stdout",
          "text": [
            "21-th paragraph (of length 176 letters and 31 words)\n"
          ]
        },
        {
          "output_type": "display_data",
          "data": {
            "text/plain": [
              "<IPython.core.display.Markdown object>"
            ],
            "text/markdown": "> [hr]\n[q]If [c]New Way Forward[/c] deals an amount of damage that's lethal to my opponent but also causes me to draw more cards than I have left in my library, what happens?[/q]"
          },
          "metadata": {}
        },
        {
          "output_type": "stream",
          "name": "stdout",
          "text": [
            "22-th paragraph (of length 406 letters and 75 words)\n"
          ]
        },
        {
          "output_type": "display_data",
          "data": {
            "text/plain": [
              "<IPython.core.display.Markdown object>"
            ],
            "text/markdown": "> [a]The game ends in a draw. The delayed triggered ability from New Way Forward's prevention effect deals damage to your opponent and causes you to draw a bunch of cards, and then state-based actions are checked. State-based actions see that your opponent is at 0 or less life and that you've attempted to draw from an empty library, so both of you lose the game at the same time and the game is a draw.[/a]"
          },
          "metadata": {}
        },
        {
          "output_type": "stream",
          "name": "stdout",
          "text": [
            "23-th paragraph (of length 147 letters and 23 words)\n"
          ]
        },
        {
          "output_type": "display_data",
          "data": {
            "text/plain": [
              "<IPython.core.display.Markdown object>"
            ],
            "text/markdown": "> [hr]\n[q]If I control [c]Hollowmurk Siege[/c] with Sultai chosen, do I draw a card when [c]Host of the Hereafter[/c] enters with counters on it?[/q]"
          },
          "metadata": {}
        },
        {
          "output_type": "stream",
          "name": "stdout",
          "text": [
            "24-th paragraph (of length 304 letters and 52 words)\n"
          ]
        },
        {
          "output_type": "display_data",
          "data": {
            "text/plain": [
              "<IPython.core.display.Markdown object>"
            ],
            "text/markdown": "> [a]Yup! An ability that triggers when a counter is put on a permanent also triggers when a permanent enters with a counter on it. Also note that the ability would ordinarily trigger twice because Host of the Hereafter enters with two counters, but the ability is limited to triggering once each turn.[/a]"
          },
          "metadata": {}
        },
        {
          "output_type": "stream",
          "name": "stdout",
          "text": [
            "25-th paragraph (of length 153 letters and 18 words)\n"
          ]
        },
        {
          "output_type": "display_data",
          "data": {
            "text/plain": [
              "<IPython.core.display.Markdown object>"
            ],
            "text/markdown": "> [hr]\n[q]If [c]Mardu Siegebreaker[/c]'s ability triggers twice due to [c]Panharmonicon[/c] for example, what happens when its attack trigger resolves?[/q]"
          },
          "metadata": {}
        },
        {
          "output_type": "stream",
          "name": "stdout",
          "text": [
            "26-th paragraph (of length 248 letters and 41 words)\n"
          ]
        },
        {
          "output_type": "display_data",
          "data": {
            "text/plain": [
              "<IPython.core.display.Markdown object>"
            ],
            "text/markdown": "> [a]Thanks to Panharmonicon, there are two cards that fit the description of \"the exiled card\", and the ability simply performs its actions on both of those cards, so you'll make tapped and attacking token copies of both cards for each opponent.[/a]"
          },
          "metadata": {}
        },
        {
          "output_type": "stream",
          "name": "stdout",
          "text": [
            "27-th paragraph (of length 102 letters and 10 words)\n"
          ]
        },
        {
          "output_type": "display_data",
          "data": {
            "text/plain": [
              "<IPython.core.display.Markdown object>"
            ],
            "text/markdown": "> [hr]\n[q]What happens if [c]Mardu Siegebreaker[/c]'s ability exiles a [c=Cubwarden]mutate pile[/c]?[/q]"
          },
          "metadata": {}
        },
        {
          "output_type": "stream",
          "name": "stdout",
          "text": [
            "28-th paragraph (of length 276 letters and 46 words)\n"
          ]
        },
        {
          "output_type": "display_data",
          "data": {
            "text/plain": [
              "<IPython.core.display.Markdown object>"
            ],
            "text/markdown": "> [a]You'll get a very similar situation as in the previous question. Mardu Siegebreaker exiles one creature, but it turns into several individual cards in exile. All of those cards are \"the exiled card\", so you'll make token copies of each of those cards for each opponent.[/a]"
          },
          "metadata": {}
        },
        {
          "output_type": "stream",
          "name": "stdout",
          "text": [
            "29-th paragraph (of length 4 letters and 1 words)\n"
          ]
        },
        {
          "output_type": "display_data",
          "data": {
            "text/plain": [
              "<IPython.core.display.Markdown object>"
            ],
            "text/markdown": "> [hr]"
          },
          "metadata": {}
        },
        {
          "output_type": "stream",
          "name": "stdout",
          "text": [
            "30-th paragraph (of length 123 letters and 22 words)\n"
          ]
        },
        {
          "output_type": "display_data",
          "data": {
            "text/plain": [
              "<IPython.core.display.Markdown object>"
            ],
            "text/markdown": "> And that's all the time we have for today's episode. Thanks for reading, and until next time, watch out for stormy weather!"
          },
          "metadata": {}
        },
        {
          "output_type": "stream",
          "name": "stdout",
          "text": [
            "31-th paragraph (of length 16 letters and 3 words)\n"
          ]
        },
        {
          "output_type": "display_data",
          "data": {
            "text/plain": [
              "<IPython.core.display.Markdown object>"
            ],
            "text/markdown": "> - Carsten Haese\n"
          },
          "metadata": {}
        }
      ]
    },
    {
      "cell_type": "markdown",
      "source": [
        "Let's try to translate each paragraph:"
      ],
      "metadata": {
        "id": "YEvDiqIAOpHF"
      }
    },
    {
      "cell_type": "code",
      "source": [
        "%%time\n",
        "article_paragraphs = article_content.split(\"\\n\\n\")\n",
        "translated_paragraphs = []\n",
        "for i, paragraph in enumerate(article_paragraphs):\n",
        "    print(f\"\\n{i}-th English paragraph (of length {len(paragraph)} letters and {len(paragraph.split(' '))} words)\")\n",
        "    print_paragraph(paragraph)\n",
        "    translated_paragraph = en2fr(paragraph)\n",
        "    print(f\"Translated {i}-th paragraph in French (of length {len(translated_paragraph)} letters and {len(translated_paragraph.split(' '))} words)\")\n",
        "    print_paragraph(translated_paragraph)\n",
        "    translated_paragraphs.append(translated_paragraph)"
      ],
      "metadata": {
        "colab": {
          "base_uri": "https://localhost:8080/",
          "height": 1000
        },
        "id": "TWaLgi25OoYe",
        "outputId": "bb8c922c-8053-4086-bf89-a5eb7e537567"
      },
      "execution_count": 109,
      "outputs": [
        {
          "output_type": "stream",
          "name": "stdout",
          "text": [
            "\n",
            "\n",
            "0-th English paragraph (of length 346 letters and 64 words)\n"
          ]
        },
        {
          "output_type": "display_data",
          "data": {
            "text/plain": [
              "<IPython.core.display.Markdown object>"
            ],
            "text/markdown": "> [a]Glacial Dragonhunt as a spell doesn't have a target, so you don't announce a target at the time you cast it. If you choose to discard a card during its resolution and that card turns out to be a nonland card, this triggers a reflexive triggered ability that has a target, and you announce its target when you put that ability on the stack.[/a]"
          },
          "metadata": {}
        },
        {
          "output_type": "stream",
          "name": "stdout",
          "text": [
            "Translated 0-th paragraph in French (of length 392 letters and 69 words)\n"
          ]
        },
        {
          "output_type": "display_data",
          "data": {
            "text/plain": [
              "<IPython.core.display.Markdown object>"
            ],
            "text/markdown": "> [a]La chasse au dragon glaciale en tant que sort n'a pas de cible, donc vous n'annoncez pas de cible au moment où vous la lancez. Si vous choisissez de défausser une carte pendant sa résolution et que cette carte s'avère être une carte non terrestre, cela déclenche une capacité déclenchée par réflexe qui a une cible, et vous annoncez sa cible lorsque vous mettez cette capacité sur la pile."
          },
          "metadata": {}
        },
        {
          "output_type": "stream",
          "name": "stdout",
          "text": [
            "\n",
            "\n",
            "1-th English paragraph (of length 123 letters and 15 words)\n"
          ]
        },
        {
          "output_type": "display_data",
          "data": {
            "text/plain": [
              "<IPython.core.display.Markdown object>"
            ],
            "text/markdown": "> [hr]\n[q]Does [c]Bloodletter of Aclazotz[/c] double the value of X for [c]Kotis, the Fangkeeper[/c]'s triggered ability?[/q]"
          },
          "metadata": {}
        },
        {
          "output_type": "stream",
          "name": "stdout",
          "text": [
            "Translated 1-th paragraph in French (of length 137 letters and 20 words)\n"
          ]
        },
        {
          "output_type": "display_data",
          "data": {
            "text/plain": [
              "<IPython.core.display.Markdown object>"
            ],
            "text/markdown": "> [hr] [q]Est-ce que [c]La lettre de sang d'Aclazotz[/c] double la valeur de X pour [c]Kotis, la capacité déclenchée du Fangkeeper[/c]?[/q]"
          },
          "metadata": {}
        },
        {
          "output_type": "stream",
          "name": "stdout",
          "text": [
            "\n",
            "\n",
            "2-th English paragraph (of length 268 letters and 51 words)\n"
          ]
        },
        {
          "output_type": "display_data",
          "data": {
            "text/plain": [
              "<IPython.core.display.Markdown object>"
            ],
            "text/markdown": "> [a]I'm afraid not. Bloodletter of Aclazotz causes your opponent to lose twice the amount of life due the damage that Kotis deals to them, but the X in Kotis's ability is the amount of damage it dealt, not the amount of life that was lost as a result of the damage.[/a]"
          },
          "metadata": {}
        },
        {
          "output_type": "stream",
          "name": "stdout",
          "text": [
            "Translated 2-th paragraph in French (of length 293 letters and 57 words)\n"
          ]
        },
        {
          "output_type": "display_data",
          "data": {
            "text/plain": [
              "<IPython.core.display.Markdown object>"
            ],
            "text/markdown": "> [a]J'ai bien peur que non. La lettre de sang d'Aclazotz fait perdre à votre adversaire deux fois plus de vie que les dégâts que Kotis leur inflige, mais le X dans la capacité de Kotis est la quantité de dégâts qu'il a infligé, pas la quantité de vie qui a été perdue à la suite des dégâts.[/a]"
          },
          "metadata": {}
        },
        {
          "output_type": "stream",
          "name": "stdout",
          "text": [
            "\n",
            "\n",
            "3-th English paragraph (of length 184 letters and 21 words)\n"
          ]
        },
        {
          "output_type": "display_data",
          "data": {
            "text/plain": [
              "<IPython.core.display.Markdown object>"
            ],
            "text/markdown": "> [hr]\n[cleft=Breaching Dragonstorm|TDM|101]When the sky looks like that, RUN![/cleft][q]Speaking of [c]Kotis, the Fangkeeper[/c], what's the time frame for casting the exiled cards?[/q]"
          },
          "metadata": {}
        },
        {
          "output_type": "stream",
          "name": "stdout",
          "text": [
            "Translated 3-th paragraph in French (of length 180 letters and 24 words)\n"
          ]
        },
        {
          "output_type": "display_data",
          "data": {
            "text/plain": [
              "<IPython.core.display.Markdown object>"
            ],
            "text/markdown": "> [hr] [cleftBracking DragonstormTDM101]Quand le ciel ressemble à ça, RUN![/cleft][q]En parlant de [c]Kotis, le Fangkeeper[/c], quel est le délai pour lancer les cartes exilées ?[/q]"
          },
          "metadata": {}
        },
        {
          "output_type": "stream",
          "name": "stdout",
          "text": [
            "\n",
            "\n",
            "4-th English paragraph (of length 343 letters and 56 words)\n"
          ]
        },
        {
          "output_type": "display_data",
          "data": {
            "text/plain": [
              "<IPython.core.display.Markdown object>"
            ],
            "text/markdown": "> [a]Since the ability doesn't specify a duration for the \"you may cast\" effect, it means [i]right now[/i], during the resolution of Kotis's triggered ability. Any cards that you choose not to cast at that time, or that you can't cast because they lack targets or other prerequisites to cast, simply stay in exile indefinitely and uselessly.[/a]"
          },
          "metadata": {}
        },
        {
          "output_type": "stream",
          "name": "stdout",
          "text": [
            "Translated 4-th paragraph in French (of length 410 letters and 63 words)\n"
          ]
        },
        {
          "output_type": "display_data",
          "data": {
            "text/plain": [
              "<IPython.core.display.Markdown object>"
            ],
            "text/markdown": "> [a]Puisque la capacité ne spécifie pas de durée pour l'effet \"vous pouvez lancer\", cela signifie [i]maintenant, pendant la résolution de la capacité déclenchée de Kotis. Toutes les cartes que vous choisissez de ne pas lancer à ce moment-là, ou que vous ne pouvez pas lancer parce qu'elles manquent de cibles ou d'autres conditions préalables à lancer, restez simplement en exil indéfiniment et inutilement.[/a]"
          },
          "metadata": {}
        },
        {
          "output_type": "stream",
          "name": "stdout",
          "text": [
            "\n",
            "\n",
            "5-th English paragraph (of length 123 letters and 18 words)\n"
          ]
        },
        {
          "output_type": "display_data",
          "data": {
            "text/plain": [
              "<IPython.core.display.Markdown object>"
            ],
            "text/markdown": "> [hr]\n[q]In Two-Headed Giant, does the last part of [c]Betor, Kin to All[/c]'s ability just insta-kill my opposing team?[/q]"
          },
          "metadata": {}
        },
        {
          "output_type": "stream",
          "name": "stdout",
          "text": [
            "Translated 5-th paragraph in French (of length 135 letters and 21 words)\n"
          ]
        },
        {
          "output_type": "display_data",
          "data": {
            "text/plain": [
              "<IPython.core.display.Markdown object>"
            ],
            "text/markdown": "> [hr] [q]Dans Two-Headed Giant, est-ce que la dernière partie de [c]Betor, Kin to All[/c] ne fait qu'insta-tuer mon équipe adverse ?[/q]"
          },
          "metadata": {}
        },
        {
          "output_type": "stream",
          "name": "stdout",
          "text": [
            "\n",
            "\n",
            "6-th English paragraph (of length 516 letters and 89 words)\n"
          ]
        },
        {
          "output_type": "display_data",
          "data": {
            "text/plain": [
              "<IPython.core.display.Markdown object>"
            ],
            "text/markdown": "> [a]As long as the \"toughness 40 or greater\" condition is met, sure. Both players on your opponents' team simultaneously lose half their life rounded up at the same time, and the game sees their shared life total for each player's life total. For example, if the team's life total is 30, each opponent loses 15 life and their team ends up at 0 life. However, note that Betor only counts the total toughness of the creatures that you control individually. It does not consider the creatures your teammate controls.[/a]"
          },
          "metadata": {}
        },
        {
          "output_type": "stream",
          "name": "stdout",
          "text": [
            "Translated 6-th paragraph in French (of length 586 letters and 99 words)\n"
          ]
        },
        {
          "output_type": "display_data",
          "data": {
            "text/plain": [
              "<IPython.core.display.Markdown object>"
            ],
            "text/markdown": "> [a]Tant que la condition \"dureté 40 ou plus\" est remplie, bien sûr.Les deux joueurs de l'équipe de vos adversaires perdent simultanément la moitié de leur vie arrondie en même temps, et le jeu voit leur total de vie partagé pour le total de vie de chaque joueur..Par exemple, si le total de points de vie de l'équipe est de 30, chaque adversaire perd 15 points de vie et son équipe finit à 0 points de vie..Cependant, notez que Betor ne compte que l'endurance totale des créatures que vous contrôlez individuellement..Il ne considère pas les créatures que votre coéquipier contrôle.[/a]"
          },
          "metadata": {}
        },
        {
          "output_type": "stream",
          "name": "stdout",
          "text": [
            "\n",
            "\n",
            "7-th English paragraph (of length 218 letters and 35 words)\n"
          ]
        },
        {
          "output_type": "display_data",
          "data": {
            "text/plain": [
              "<IPython.core.display.Markdown object>"
            ],
            "text/markdown": "> [hr]\n[q]If I control [c]The Sibsig Ceremony[/c] and I cast some creature, can I sacrifice it to give [c]Unburied Earthcarver[/c] a counter in response to the Ceremony's trigger and still get a Zombie Cleric token? [/q]"
          },
          "metadata": {}
        },
        {
          "output_type": "stream",
          "name": "stdout",
          "text": [
            "Translated 7-th paragraph in French (of length 244 letters and 39 words)\n"
          ]
        },
        {
          "output_type": "display_data",
          "data": {
            "text/plain": [
              "<IPython.core.display.Markdown object>"
            ],
            "text/markdown": "> [hr] [q]Si je contrôle [c]La cérémonie de Sibsig[/c] et que je lance une créature, puis-je la sacrifier pour donner [c]Unburied Earthcarver[/c] un compteur en réponse à la gâchette de la cérémonie et obtenir toujours un jeton Zombie Clerc? [/q]"
          },
          "metadata": {}
        },
        {
          "output_type": "stream",
          "name": "stdout",
          "text": [
            "\n",
            "\n",
            "8-th English paragraph (of length 215 letters and 37 words)\n"
          ]
        },
        {
          "output_type": "display_data",
          "data": {
            "text/plain": [
              "<IPython.core.display.Markdown object>"
            ],
            "text/markdown": "> [a]Yes, you can do that. The Ceremony's triggered ability will try and fail to destroy the creature, but the creation of the Zombie Cleric token is not contingent on this destruction, so you still get the token.[/a]"
          },
          "metadata": {}
        },
        {
          "output_type": "stream",
          "name": "stdout",
          "text": [
            "Translated 8-th paragraph in French (of length 233 letters and 38 words)\n"
          ]
        },
        {
          "output_type": "display_data",
          "data": {
            "text/plain": [
              "<IPython.core.display.Markdown object>"
            ],
            "text/markdown": "> [a] Oui, vous pouvez le faire. La capacité déclenchée de la Cérémonie essaiera de ne pas détruire la créature, mais la création du jeton Clerc Zombie n'est pas subordonnée à cette destruction, donc vous obtenez toujours le jeton.[/a]"
          },
          "metadata": {}
        },
        {
          "output_type": "stream",
          "name": "stdout",
          "text": [
            "\n",
            "\n",
            "9-th English paragraph (of length 102 letters and 14 words)\n"
          ]
        },
        {
          "output_type": "display_data",
          "data": {
            "text/plain": [
              "<IPython.core.display.Markdown object>"
            ],
            "text/markdown": "> [hr]\n[q]Can I sacrifice a creature token to [c]Sidisi, Regent of the Mire[/c]'s activated ability?[/q]"
          },
          "metadata": {}
        },
        {
          "output_type": "stream",
          "name": "stdout",
          "text": [
            "Translated 9-th paragraph in French (of length 106 letters and 16 words)\n"
          ]
        },
        {
          "output_type": "display_data",
          "data": {
            "text/plain": [
              "<IPython.core.display.Markdown object>"
            ],
            "text/markdown": "> [hr] [q]Puis-je sacrifier un jeton de créature à [c]Sidisi, régent de la capacité activée de Mire[/c]?[/q]"
          },
          "metadata": {}
        },
        {
          "output_type": "stream",
          "name": "stdout",
          "text": [
            "\n",
            "\n",
            "10-th English paragraph (of length 518 letters and 95 words)\n"
          ]
        },
        {
          "output_type": "display_data",
          "data": {
            "text/plain": [
              "<IPython.core.display.Markdown object>"
            ],
            "text/markdown": "> [a]Sure, as long as you can target a creature card with mana value 1 in your graveyard. To activate Sidisi's ability, you first choose some number for X; then you choose an appropriate target, which is a creature card with mana value X+1 in your graveyard; finally you pay the cost, which involves sacrificing a creature with mana value X other than Sidisi. X=0 is a legal choice for the ability, and a creature token has a mana value of 0 (usually, unless it's a copy of something that has a nonzero mana value). [/a]"
          },
          "metadata": {}
        },
        {
          "output_type": "stream",
          "name": "stdout",
          "text": [
            "Translated 10-th paragraph in French (of length 620 letters and 117 words)\n"
          ]
        },
        {
          "output_type": "display_data",
          "data": {
            "text/plain": [
              "<IPython.core.display.Markdown object>"
            ],
            "text/markdown": "> [a]Bien sûr, tant que vous pouvez cibler une carte de créature avec la valeur de mana 1 dans votre cimetière.Pour activer la capacité de Sidisi, vous choisissez d'abord un nombre pour X ; puis vous choisissez une cible appropriée, qui est une carte de créature avec la valeur de mana X + 1 dans votre cimetière ; enfin vous payez le coût, ce qui implique de sacrifier une créature avec la valeur de mana X autre que Sidisi..X0 est un choix légal pour la capacité, et un jeton de créature a une valeur de mana de 0 (généralement, à moins que ce ne soit une copie de quelque chose qui a une valeur de mana non nulle)..[/a]"
          },
          "metadata": {}
        },
        {
          "output_type": "stream",
          "name": "stdout",
          "text": [
            "\n",
            "\n",
            "11-th English paragraph (of length 114 letters and 18 words)\n"
          ]
        },
        {
          "output_type": "display_data",
          "data": {
            "text/plain": [
              "<IPython.core.display.Markdown object>"
            ],
            "text/markdown": "> [hr]\n[q]After I draw cards with [c]Narset, Jeskai Waymaster[/c]'s ability, can I cast any of the cards I drew?[/q]"
          },
          "metadata": {}
        },
        {
          "output_type": "stream",
          "name": "stdout",
          "text": [
            "Translated 11-th paragraph in French (of length 159 letters and 23 words)\n"
          ]
        },
        {
          "output_type": "display_data",
          "data": {
            "text/plain": [
              "<IPython.core.display.Markdown object>"
            ],
            "text/markdown": "> [hr] [q]Après avoir pioché des cartes avec [c]Narset, la capacité de Jeskai Waymaster[/c], puis-je lancer n'importe laquelle des cartes que j'ai piochées ?[/q]"
          },
          "metadata": {}
        },
        {
          "output_type": "stream",
          "name": "stdout",
          "text": [
            "\n",
            "\n",
            "12-th English paragraph (of length 219 letters and 38 words)\n"
          ]
        },
        {
          "output_type": "display_data",
          "data": {
            "text/plain": [
              "<IPython.core.display.Markdown object>"
            ],
            "text/markdown": "> [a]If they're instants or have flash, sure. Narset's ability triggers and resolves in your end step, and players get priority in the end step, so you get the opportunity to cast spells from among the cards you drew.[/a]"
          },
          "metadata": {}
        },
        {
          "output_type": "stream",
          "name": "stdout",
          "text": [
            "Translated 12-th paragraph in French (of length 271 letters and 47 words)\n"
          ]
        },
        {
          "output_type": "display_data",
          "data": {
            "text/plain": [
              "<IPython.core.display.Markdown object>"
            ],
            "text/markdown": "> [a]S'ils sont instantanés ou ont un flash, bien sûr. La capacité de Narset se déclenche et se résout à votre étape finale, et les joueurs obtiennent la priorité à l'étape finale, vous avez donc la possibilité de lancer des sorts parmi les cartes que vous avez tirées.[/a]"
          },
          "metadata": {}
        },
        {
          "output_type": "stream",
          "name": "stdout",
          "text": [
            "\n",
            "\n",
            "13-th English paragraph (of length 126 letters and 21 words)\n"
          ]
        },
        {
          "output_type": "display_data",
          "data": {
            "text/plain": [
              "<IPython.core.display.Markdown object>"
            ],
            "text/markdown": "> [hr]\n[q]For chapter III of [c]Awaken the Honored Dead[/c], when do I choose the target? Can I target the card I discarded?[/q]"
          },
          "metadata": {}
        },
        {
          "output_type": "stream",
          "name": "stdout",
          "text": [
            "Translated 13-th paragraph in French (of length 145 letters and 22 words)\n"
          ]
        },
        {
          "output_type": "display_data",
          "data": {
            "text/plain": [
              "<IPython.core.display.Markdown object>"
            ],
            "text/markdown": "> [hr] [q]Pour le chapitre III de [c]Réveillez les morts honorés[/c], quand dois-je choisir la cible? Puis-je cibler la carte que j'ai rejetée?[/q]"
          },
          "metadata": {}
        },
        {
          "output_type": "stream",
          "name": "stdout",
          "text": [
            "\n",
            "\n",
            "14-th English paragraph (of length 490 letters and 86 words)\n"
          ]
        },
        {
          "output_type": "display_data",
          "data": {
            "text/plain": [
              "<IPython.core.display.Markdown object>"
            ],
            "text/markdown": "> [a]Choosing to discard a card triggers a reflexive ability that requires a target, so you only choose a target after you discard. This means that you could target and bring back the card you just discarded, provided that it's a creature or land card, but this only benefits you if some triggered ability notices the card entering or leaving the graveyard. Otherwise, you achieve the same end result of the card being in your hand by simply choosing not to discard it in the first place.[/a]"
          },
          "metadata": {}
        },
        {
          "output_type": "stream",
          "name": "stdout",
          "text": [
            "Translated 14-th paragraph in French (of length 558 letters and 93 words)\n"
          ]
        },
        {
          "output_type": "display_data",
          "data": {
            "text/plain": [
              "<IPython.core.display.Markdown object>"
            ],
            "text/markdown": "> Choisir de défausser une carte déclenche une capacité réflexive qui nécessite une cible, de sorte que vous ne choisissez une cible qu'après vous être défaussé..Cela signifie que vous pouvez cibler et ramener la carte que vous venez de jeter, à condition qu'il s'agisse d'une carte de créature ou de terrain, mais cela ne vous profite que si une capacité déclenchée remarque que la carte entre ou sort du cimetière..Sinon, vous obtenez le même résultat final de la carte étant dans votre main en choisissant simplement de ne pas le jeter en premier lieu..[/a]"
          },
          "metadata": {}
        },
        {
          "output_type": "stream",
          "name": "stdout",
          "text": [
            "\n",
            "\n",
            "15-th English paragraph (of length 96 letters and 11 words)\n"
          ]
        },
        {
          "output_type": "display_data",
          "data": {
            "text/plain": [
              "<IPython.core.display.Markdown object>"
            ],
            "text/markdown": "> [hr]\n[q]Can I target [c]Zurgo's Vanguard[/c] with [c]Smile at Death[/c]'s triggered ability?[/q]"
          },
          "metadata": {}
        },
        {
          "output_type": "stream",
          "name": "stdout",
          "text": [
            "Translated 15-th paragraph in French (of length 85 letters and 11 words)\n"
          ]
        },
        {
          "output_type": "display_data",
          "data": {
            "text/plain": [
              "<IPython.core.display.Markdown object>"
            ],
            "text/markdown": "> [hr] [q]Puis-je cibler [c]Avant-garde de Zurgo[/c] avec [c]Sourire à la mort[/c]?[/q]"
          },
          "metadata": {}
        },
        {
          "output_type": "stream",
          "name": "stdout",
          "text": [
            "\n",
            "\n",
            "16-th English paragraph (of length 340 letters and 55 words)\n"
          ]
        },
        {
          "output_type": "display_data",
          "data": {
            "text/plain": [
              "<IPython.core.display.Markdown object>"
            ],
            "text/markdown": "> [a]That depends on how many creatures you control. The ability that defines Zurgo's Vanguard's power is a characteristic-defining ability that functions at all times and in all zones, including in your graveyard, so Zurgo's Vanguard's power is only small enough to be a legal target for the ability if you control at most two creatures.[/a]"
          },
          "metadata": {}
        },
        {
          "output_type": "stream",
          "name": "stdout",
          "text": [
            "Translated 16-th paragraph in French (of length 400 letters and 66 words)\n"
          ]
        },
        {
          "output_type": "display_data",
          "data": {
            "text/plain": [
              "<IPython.core.display.Markdown object>"
            ],
            "text/markdown": "> [a]Cela dépend du nombre de créatures que vous contrôlez. La capacité qui définit le pouvoir de l'Avant-Garde de Zurgo est une capacité caractéristique qui fonctionne à tout moment et dans toutes les zones, y compris dans votre cimetière, de sorte que le pouvoir de l'Avant-Garde de Zurgo est seulement assez petit pour être une cible légale pour la capacité si vous contrôlez au plus deux créatures."
          },
          "metadata": {}
        },
        {
          "output_type": "stream",
          "name": "stdout",
          "text": [
            "\n",
            "\n",
            "17-th English paragraph (of length 291 letters and 47 words)\n"
          ]
        },
        {
          "output_type": "display_data",
          "data": {
            "text/plain": [
              "<IPython.core.display.Markdown object>"
            ],
            "text/markdown": "> [hr]\n[cright=Call the Spirit Dragons]Who you gonna call?[/cright][q]Does [c]Call the Spirit Dragons[/c]'s ability go on the stack even if I don't control a Dragon? In other words, could I respond to the trigger by casting a Dragon with flash and give it a +1/+1 counter with the ability?[/q]"
          },
          "metadata": {}
        },
        {
          "output_type": "stream",
          "name": "stdout",
          "text": [
            "Translated 17-th paragraph in French (of length 322 letters and 50 words)\n"
          ]
        },
        {
          "output_type": "display_data",
          "data": {
            "text/plain": [
              "<IPython.core.display.Markdown object>"
            ],
            "text/markdown": "> [hr] [crightCall the Spirit Dragons]Qui allez-vous appeler ?[/cright][q]Est-ce que [c]Call the Spirit Dragons[/c]'s capacité aller sur la pile même si je ne contrôle pas un Dragon ?En d'autres termes, pourrais-je répondre à la gâchette en lançant un Dragon avec flash et lui donner un marqueur +1/+1 avec la capacité ?[/q]"
          },
          "metadata": {}
        },
        {
          "output_type": "stream",
          "name": "stdout",
          "text": [
            "\n",
            "\n",
            "18-th English paragraph (of length 280 letters and 47 words)\n"
          ]
        },
        {
          "output_type": "display_data",
          "data": {
            "text/plain": [
              "<IPython.core.display.Markdown object>"
            ],
            "text/markdown": "> [a]Sure, that works. Call the Spirit Dragons's ability does not have an intervening-if clause that gets checked at the time the ability triggers. The ability goes on the stack regardless of how many Dragons you control, so you can make more Dragons in response to the ability.[/a]"
          },
          "metadata": {}
        },
        {
          "output_type": "stream",
          "name": "stdout",
          "text": [
            "Translated 18-th paragraph in French (of length 318 letters and 54 words)\n"
          ]
        },
        {
          "output_type": "display_data",
          "data": {
            "text/plain": [
              "<IPython.core.display.Markdown object>"
            ],
            "text/markdown": "> [a] Bien sûr, cela fonctionne. Appelez la capacité des Dragons Esprits n'a pas de clause d'intervention-si qui est vérifiée au moment où la capacité se déclenche. La capacité va sur la pile indépendamment du nombre de Dragons que vous contrôlez, de sorte que vous pouvez faire plus de Dragons en réponse à la capacité."
          },
          "metadata": {}
        },
        {
          "output_type": "stream",
          "name": "stdout",
          "text": [
            "\n",
            "\n",
            "19-th English paragraph (of length 109 letters and 18 words)\n"
          ]
        },
        {
          "output_type": "display_data",
          "data": {
            "text/plain": [
              "<IPython.core.display.Markdown object>"
            ],
            "text/markdown": "> [hr]\n[q]If [c]Effortless Master[/c] is the second spell I cast in a turn, does it get the +1/+1 counters?[/q]"
          },
          "metadata": {}
        },
        {
          "output_type": "stream",
          "name": "stdout",
          "text": [
            "Translated 19-th paragraph in French (of length 121 letters and 20 words)\n"
          ]
        },
        {
          "output_type": "display_data",
          "data": {
            "text/plain": [
              "<IPython.core.display.Markdown object>"
            ],
            "text/markdown": "> [hr] [q]Si [c]Maître sans effort[/c] est le deuxième sort que je lance dans un tour, obtient-il les marqueurs +1/+1 ?[/q]"
          },
          "metadata": {}
        },
        {
          "output_type": "stream",
          "name": "stdout",
          "text": [
            "\n",
            "\n",
            "20-th English paragraph (of length 235 letters and 37 words)\n"
          ]
        },
        {
          "output_type": "display_data",
          "data": {
            "text/plain": [
              "<IPython.core.display.Markdown object>"
            ],
            "text/markdown": "> [a]Absolutely. As Effortless Master resolves, the replacement effect checks how many spells you've cast this turn, and you have cast two or more spells this turn, so the condition for Effortless Master to get counters is satisfied.[/a]"
          },
          "metadata": {}
        },
        {
          "output_type": "stream",
          "name": "stdout",
          "text": [
            "Translated 20-th paragraph in French (of length 295 letters and 52 words)\n"
          ]
        },
        {
          "output_type": "display_data",
          "data": {
            "text/plain": [
              "<IPython.core.display.Markdown object>"
            ],
            "text/markdown": "> [a] Absolument. Au fur et à mesure que le Maître Effortless se résout, l'effet de remplacement vérifie le nombre de sorts que vous avez lancés ce tour, et vous avez lancé deux sorts ou plus ce tour, de sorte que la condition pour que le Maître Effortless obtienne des contres est satisfaite.[/a]"
          },
          "metadata": {}
        },
        {
          "output_type": "stream",
          "name": "stdout",
          "text": [
            "\n",
            "\n",
            "21-th English paragraph (of length 176 letters and 31 words)\n"
          ]
        },
        {
          "output_type": "display_data",
          "data": {
            "text/plain": [
              "<IPython.core.display.Markdown object>"
            ],
            "text/markdown": "> [hr]\n[q]If [c]New Way Forward[/c] deals an amount of damage that's lethal to my opponent but also causes me to draw more cards than I have left in my library, what happens?[/q]"
          },
          "metadata": {}
        },
        {
          "output_type": "stream",
          "name": "stdout",
          "text": [
            "Translated 21-th paragraph in French (of length 209 letters and 35 words)\n"
          ]
        },
        {
          "output_type": "display_data",
          "data": {
            "text/plain": [
              "<IPython.core.display.Markdown object>"
            ],
            "text/markdown": "> [hr] [q]Si [c]New Way Forward[/c] inflige une quantité de dégâts qui est mortelle pour mon adversaire mais m'amène aussi à piocher plus de cartes qu'il ne me reste dans ma bibliothèque, que se passe-t-il ?[/q]"
          },
          "metadata": {}
        },
        {
          "output_type": "stream",
          "name": "stdout",
          "text": [
            "\n",
            "\n",
            "22-th English paragraph (of length 406 letters and 75 words)\n"
          ]
        },
        {
          "output_type": "display_data",
          "data": {
            "text/plain": [
              "<IPython.core.display.Markdown object>"
            ],
            "text/markdown": "> [a]The game ends in a draw. The delayed triggered ability from New Way Forward's prevention effect deals damage to your opponent and causes you to draw a bunch of cards, and then state-based actions are checked. State-based actions see that your opponent is at 0 or less life and that you've attempted to draw from an empty library, so both of you lose the game at the same time and the game is a draw.[/a]"
          },
          "metadata": {}
        },
        {
          "output_type": "stream",
          "name": "stdout",
          "text": [
            "Translated 22-th paragraph in French (of length 474 letters and 84 words)\n"
          ]
        },
        {
          "output_type": "display_data",
          "data": {
            "text/plain": [
              "<IPython.core.display.Markdown object>"
            ],
            "text/markdown": "> [a]Le jeu se termine par un tirage au sort.La capacité déclenchée retardée de l'effet de prévention de New Way Forward inflige des dégâts à votre adversaire et vous fait piocher un tas de cartes, puis les actions basées sur l'état sont vérifiées..Les actions basées sur l'état voient que votre adversaire est à 0 ou moins de vie et que vous avez tenté de piocher dans une bibliothèque vide, donc vous perdez tous les deux la partie en même temps et la partie est nulle..[/a]"
          },
          "metadata": {}
        },
        {
          "output_type": "stream",
          "name": "stdout",
          "text": [
            "\n",
            "\n",
            "23-th English paragraph (of length 147 letters and 23 words)\n"
          ]
        },
        {
          "output_type": "display_data",
          "data": {
            "text/plain": [
              "<IPython.core.display.Markdown object>"
            ],
            "text/markdown": "> [hr]\n[q]If I control [c]Hollowmurk Siege[/c] with Sultai chosen, do I draw a card when [c]Host of the Hereafter[/c] enters with counters on it?[/q]"
          },
          "metadata": {}
        },
        {
          "output_type": "stream",
          "name": "stdout",
          "text": [
            "Translated 23-th paragraph in French (of length 164 letters and 25 words)\n"
          ]
        },
        {
          "output_type": "display_data",
          "data": {
            "text/plain": [
              "<IPython.core.display.Markdown object>"
            ],
            "text/markdown": "> [hr] [q]Si je contrôle [c]Hollowmurk Siege[/c] avec Sultai choisi, est-ce que je tire une carte quand [c]Host de l'Au-delà[/c] entre avec des marqueurs dessus ?[/q]"
          },
          "metadata": {}
        },
        {
          "output_type": "stream",
          "name": "stdout",
          "text": [
            "\n",
            "\n",
            "24-th English paragraph (of length 304 letters and 52 words)\n"
          ]
        },
        {
          "output_type": "display_data",
          "data": {
            "text/plain": [
              "<IPython.core.display.Markdown object>"
            ],
            "text/markdown": "> [a]Yup! An ability that triggers when a counter is put on a permanent also triggers when a permanent enters with a counter on it. Also note that the ability would ordinarily trigger twice because Host of the Hereafter enters with two counters, but the ability is limited to triggering once each turn.[/a]"
          },
          "metadata": {}
        },
        {
          "output_type": "stream",
          "name": "stdout",
          "text": [
            "Translated 24-th paragraph in French (of length 347 letters and 53 words)\n"
          ]
        },
        {
          "output_type": "display_data",
          "data": {
            "text/plain": [
              "<IPython.core.display.Markdown object>"
            ],
            "text/markdown": "> [a]Yup! Une capacité qui se déclenche lorsqu'un compteur est placé sur un permanent se déclenche également lorsqu'un permanent entre avec un compteur dessus. Notez également que la capacité se déclencherait normalement deux fois parce que l'hôte de l'au-delà entre avec deux compteurs, mais la capacité se limite à déclencher une fois chaque tour."
          },
          "metadata": {}
        },
        {
          "output_type": "stream",
          "name": "stdout",
          "text": [
            "\n",
            "\n",
            "25-th English paragraph (of length 153 letters and 18 words)\n"
          ]
        },
        {
          "output_type": "display_data",
          "data": {
            "text/plain": [
              "<IPython.core.display.Markdown object>"
            ],
            "text/markdown": "> [hr]\n[q]If [c]Mardu Siegebreaker[/c]'s ability triggers twice due to [c]Panharmonicon[/c] for example, what happens when its attack trigger resolves?[/q]"
          },
          "metadata": {}
        },
        {
          "output_type": "stream",
          "name": "stdout",
          "text": [
            "Translated 25-th paragraph in French (of length 189 letters and 27 words)\n"
          ]
        },
        {
          "output_type": "display_data",
          "data": {
            "text/plain": [
              "<IPython.core.display.Markdown object>"
            ],
            "text/markdown": "> [hr] [q]Si la capacité de [c]Mardu Siegebreaker[/c] se déclenche deux fois en raison de [c]Panharmonicon[/c] par exemple, que se passe-t-il lorsque son déclencheur d'attaque se résout ?[/q]"
          },
          "metadata": {}
        },
        {
          "output_type": "stream",
          "name": "stdout",
          "text": [
            "\n",
            "\n",
            "26-th English paragraph (of length 248 letters and 41 words)\n"
          ]
        },
        {
          "output_type": "display_data",
          "data": {
            "text/plain": [
              "<IPython.core.display.Markdown object>"
            ],
            "text/markdown": "> [a]Thanks to Panharmonicon, there are two cards that fit the description of \"the exiled card\", and the ability simply performs its actions on both of those cards, so you'll make tapped and attacking token copies of both cards for each opponent.[/a]"
          },
          "metadata": {}
        },
        {
          "output_type": "stream",
          "name": "stdout",
          "text": [
            "Translated 26-th paragraph in French (of length 279 letters and 48 words)\n"
          ]
        },
        {
          "output_type": "display_data",
          "data": {
            "text/plain": [
              "<IPython.core.display.Markdown object>"
            ],
            "text/markdown": "> [a] Grâce à Panharmonicon, il y a deux cartes qui correspondent à la description de \"la carte exilée\", et la capacité effectue simplement ses actions sur ces deux cartes, de sorte que vous ferez des copies de jetons sur écoute et d'attaque des deux cartes pour chaque adversaire."
          },
          "metadata": {}
        },
        {
          "output_type": "stream",
          "name": "stdout",
          "text": [
            "\n",
            "\n",
            "27-th English paragraph (of length 102 letters and 10 words)\n"
          ]
        },
        {
          "output_type": "display_data",
          "data": {
            "text/plain": [
              "<IPython.core.display.Markdown object>"
            ],
            "text/markdown": "> [hr]\n[q]What happens if [c]Mardu Siegebreaker[/c]'s ability exiles a [c=Cubwarden]mutate pile[/c]?[/q]"
          },
          "metadata": {}
        },
        {
          "output_type": "stream",
          "name": "stdout",
          "text": [
            "Translated 27-th paragraph in French (of length 96 letters and 14 words)\n"
          ]
        },
        {
          "output_type": "display_data",
          "data": {
            "text/plain": [
              "<IPython.core.display.Markdown object>"
            ],
            "text/markdown": "> [hr] [q]Que se passe-t-il si la capacité de Mardu Siegebreaker[/c] exile une pile mutée[/c]?[/q]"
          },
          "metadata": {}
        },
        {
          "output_type": "stream",
          "name": "stdout",
          "text": [
            "\n",
            "\n",
            "28-th English paragraph (of length 276 letters and 46 words)\n"
          ]
        },
        {
          "output_type": "display_data",
          "data": {
            "text/plain": [
              "<IPython.core.display.Markdown object>"
            ],
            "text/markdown": "> [a]You'll get a very similar situation as in the previous question. Mardu Siegebreaker exiles one creature, but it turns into several individual cards in exile. All of those cards are \"the exiled card\", so you'll make token copies of each of those cards for each opponent.[/a]"
          },
          "metadata": {}
        },
        {
          "output_type": "stream",
          "name": "stdout",
          "text": [
            "Translated 28-th paragraph in French (of length 322 letters and 48 words)\n"
          ]
        },
        {
          "output_type": "display_data",
          "data": {
            "text/plain": [
              "<IPython.core.display.Markdown object>"
            ],
            "text/markdown": "> [a]Vous obtiendrez une situation très similaire à celle de la question précédente. Mardu Siegebreaker exile une créature, mais elle se transforme en plusieurs cartes individuelles en exil. Toutes ces cartes sont \"la carte exilée\", vous ferez donc des copies symboliques de chacune de ces cartes pour chaque adversaire.[/a]"
          },
          "metadata": {}
        },
        {
          "output_type": "stream",
          "name": "stdout",
          "text": [
            "\n",
            "\n",
            "29-th English paragraph (of length 4 letters and 1 words)\n"
          ]
        },
        {
          "output_type": "display_data",
          "data": {
            "text/plain": [
              "<IPython.core.display.Markdown object>"
            ],
            "text/markdown": "> [hr]"
          },
          "metadata": {}
        },
        {
          "output_type": "stream",
          "name": "stdout",
          "text": [
            "Translated 29-th paragraph in French (of length 4 letters and 1 words)\n"
          ]
        },
        {
          "output_type": "display_data",
          "data": {
            "text/plain": [
              "<IPython.core.display.Markdown object>"
            ],
            "text/markdown": "> [hr]"
          },
          "metadata": {}
        },
        {
          "output_type": "stream",
          "name": "stdout",
          "text": [
            "\n",
            "\n",
            "30-th English paragraph (of length 123 letters and 22 words)\n"
          ]
        },
        {
          "output_type": "display_data",
          "data": {
            "text/plain": [
              "<IPython.core.display.Markdown object>"
            ],
            "text/markdown": "> And that's all the time we have for today's episode. Thanks for reading, and until next time, watch out for stormy weather!"
          },
          "metadata": {}
        },
        {
          "output_type": "stream",
          "name": "stdout",
          "text": [
            "Translated 30-th paragraph in French (of length 150 letters and 24 words)\n"
          ]
        },
        {
          "output_type": "display_data",
          "data": {
            "text/plain": [
              "<IPython.core.display.Markdown object>"
            ],
            "text/markdown": "> Et c'est tout le temps que nous avons pour l'épisode d'aujourd'hui. Merci d'avoir lu, et jusqu'à la prochaine fois, faites attention au temps orageux!"
          },
          "metadata": {}
        },
        {
          "output_type": "stream",
          "name": "stdout",
          "text": [
            "\n",
            "\n",
            "31-th English paragraph (of length 16 letters and 3 words)\n"
          ]
        },
        {
          "output_type": "display_data",
          "data": {
            "text/plain": [
              "<IPython.core.display.Markdown object>"
            ],
            "text/markdown": "> - Carsten Haese\n"
          },
          "metadata": {}
        },
        {
          "output_type": "stream",
          "name": "stdout",
          "text": [
            "Translated 31-th paragraph in French (of length 15 letters and 3 words)\n"
          ]
        },
        {
          "output_type": "display_data",
          "data": {
            "text/plain": [
              "<IPython.core.display.Markdown object>"
            ],
            "text/markdown": "> - Carsten Haese"
          },
          "metadata": {}
        },
        {
          "output_type": "stream",
          "name": "stdout",
          "text": [
            "CPU times: user 20.1 s, sys: 37.1 ms, total: 20.2 s\n",
            "Wall time: 20.3 s\n"
          ]
        }
      ]
    },
    {
      "cell_type": "markdown",
      "source": [
        "It took about 23 seconds to generate a first draft of a translation for a content lengthy like two thirds (2/3) of a usual-size article.\n",
        "So it should take about 35 seconds to translate a full-size article, that's great!"
      ],
      "metadata": {
        "id": "r8PibcaOXnrb"
      }
    },
    {
      "cell_type": "markdown",
      "source": [
        "------\n",
        "\n",
        "## Failures of the [Helsinki-NLP/opus-mt-tc-big-en-fr](https://huggingface.co/Helsinki-NLP/opus-mt-tc-big-en-fr) model for translating text about Magic: the Gathering (on Cranial Insertion)\n",
        "\n",
        "Here are a few points I observed on which this great NLP LLM fails:\n",
        "\n",
        "- land/nonland => ~~terrestre~~ terrain/non terrain\n",
        "- you => ~~vous~~ tu (on tutoie le lecteur dans les articles Cranial)\n",
        "- reflexive trigger => capacité déclenchée ~~par réflexe~~ réflexive\n",
        "- and most likely MANY MORE!\n",
        "\n",
        "### TODO: check more examples to list here the failures I observed\n",
        "\n",
        "### Future goal: fine-tune this model 🪄\n",
        "One future goal will be to fine-tune the [Helsinki-NLP/opus-mt-tc-big-en-fr](https://huggingface.co/Helsinki-NLP/opus-mt-tc-big-en-fr) model, using the data of all the previously manually translated Cranial Insertion articles (and maybe other sources), in order to fix these issues and improve the overall quality of the translation."
      ],
      "metadata": {
        "id": "B7MIcQJpMRL-"
      }
    },
    {
      "cell_type": "markdown",
      "source": [
        "------\n",
        "\n",
        "## Getting the text of the latest article\n",
        "\n",
        "By using the RSS feed of the Cranial Insertion blog, I'll download the raw content of the newest article."
      ],
      "metadata": {
        "id": "OFRuHX0yPPk2"
      }
    },
    {
      "cell_type": "code",
      "source": [
        "!pip install feedparser\n",
        "import feedparser"
      ],
      "metadata": {
        "colab": {
          "base_uri": "https://localhost:8080/"
        },
        "id": "XikPBzQYPbTp",
        "outputId": "dfcda702-e6e8-4c2e-c861-a718f1ba095c"
      },
      "execution_count": 12,
      "outputs": [
        {
          "output_type": "stream",
          "name": "stdout",
          "text": [
            "Collecting feedparser\n",
            "  Downloading feedparser-6.0.11-py3-none-any.whl.metadata (2.4 kB)\n",
            "Collecting sgmllib3k (from feedparser)\n",
            "  Downloading sgmllib3k-1.0.0.tar.gz (5.8 kB)\n",
            "  Preparing metadata (setup.py) ... \u001b[?25l\u001b[?25hdone\n",
            "Downloading feedparser-6.0.11-py3-none-any.whl (81 kB)\n",
            "\u001b[2K   \u001b[90m━━━━━━━━━━━━━━━━━━━━━━━━━━━━━━━━━━━━━━━━\u001b[0m \u001b[32m81.3/81.3 kB\u001b[0m \u001b[31m2.3 MB/s\u001b[0m eta \u001b[36m0:00:00\u001b[0m\n",
            "\u001b[?25hBuilding wheels for collected packages: sgmllib3k\n",
            "  Building wheel for sgmllib3k (setup.py) ... \u001b[?25l\u001b[?25hdone\n",
            "  Created wheel for sgmllib3k: filename=sgmllib3k-1.0.0-py3-none-any.whl size=6046 sha256=24592839b042de3cde9b88d93e062e0a9359f9b39eb3c8921b5672fe251b7c12\n",
            "  Stored in directory: /root/.cache/pip/wheels/3b/25/2a/105d6a15df6914f4d15047691c6c28f9052cc1173e40285d03\n",
            "Successfully built sgmllib3k\n",
            "Installing collected packages: sgmllib3k, feedparser\n",
            "Successfully installed feedparser-6.0.11 sgmllib3k-1.0.0\n"
          ]
        }
      ]
    },
    {
      "cell_type": "code",
      "source": [
        "rss_url = \"https://www.cranial-insertion.com/rss\"\n",
        "print(f\"Reading the feed at {rss_url}...\")\n",
        "\n",
        "blog_feed = feedparser.parse(rss_url)\n",
        "print(f\"Succesfully read the feed at {rss_url}, named « {blog_feed.feed.title} »\")"
      ],
      "metadata": {
        "colab": {
          "base_uri": "https://localhost:8080/"
        },
        "id": "zCZ5sm1XPV3N",
        "outputId": "5b080428-6fe9-43d8-b352-e5383e62cbe9"
      },
      "execution_count": 13,
      "outputs": [
        {
          "output_type": "stream",
          "name": "stdout",
          "text": [
            "Reading the feed at https://www.cranial-insertion.com/rss...\n",
            "Succesfully read the feed at https://www.cranial-insertion.com/rss, named « Cranial Insertion »\n"
          ]
        }
      ]
    },
    {
      "cell_type": "code",
      "source": [
        "num_article = 0\n",
        "\n",
        "latest_article_link = blog_feed.entries[num_article].link\n",
        "print(\"- The latest article is here:\", latest_article_link)\n",
        "\n",
        "latest_article_title = blog_feed.entries[num_article].title\n",
        "print(\"- Its title is:\", latest_article_title)\n",
        "\n",
        "latest_article_published_data = blog_feed.entries[num_article].published\n",
        "print(\"- It was published on:\", latest_article_published_data)\n",
        "\n",
        "article_id = latest_article_link.split(\"/\")[-1]\n",
        "print(\"- The article ID is:\", article_id)"
      ],
      "metadata": {
        "colab": {
          "base_uri": "https://localhost:8080/"
        },
        "id": "JFYLUczGPqVp",
        "outputId": "3651d612-3645-463f-e29b-7f6a10e3247f"
      },
      "execution_count": 14,
      "outputs": [
        {
          "output_type": "stream",
          "name": "stdout",
          "text": [
            "- The latest article is here: http://www.cranial-insertion.com/article/4376\n",
            "- Its title is: Cranial Insertion: All in Jeopardy (Can you answer in the form of a question?)\n",
            "- It was published on: Mon, 31 Mar 2025 00:00:00 EDT\n",
            "- The article ID is: 4376\n"
          ]
        }
      ]
    },
    {
      "cell_type": "code",
      "source": [
        "def get_latest_article_id(num_article=0):\n",
        "    blog_feed = feedparser.parse(rss_url)\n",
        "    latest_article_link = blog_feed.entries[num_article].link\n",
        "    article_id = latest_article_link.split(\"/\")[-1]\n",
        "    return article_id\n",
        "\n",
        "print(f\"The latest article ID is: {get_latest_article_id()}\")"
      ],
      "metadata": {
        "colab": {
          "base_uri": "https://localhost:8080/"
        },
        "id": "Qho1DnlY1FFp",
        "outputId": "c9dd070d-315f-41cc-ad3c-b66d025eecad"
      },
      "execution_count": 15,
      "outputs": [
        {
          "output_type": "stream",
          "name": "stdout",
          "text": [
            "The latest article ID is: 4376\n"
          ]
        }
      ]
    },
    {
      "cell_type": "code",
      "source": [
        "try:\n",
        "    with open(\"cranial-insertion.com.cookies\", 'r') as file:\n",
        "        cranial_insertion_cookie = file.read()\n",
        "    print(\"Cranial Insertion cookie successfully loaded from local file 'cranial-insertion.com.cookies', it can now be used (it's a secret)\")\n",
        "except FileNotFoundError:\n",
        "    from google.colab import userdata\n",
        "    cranial_insertion_cookie = userdata.get('CI_COOKIE')\n",
        "    print(\"Cranial Insertion cookie successfully loaded from Google Colab secrets, it can now be used (it's a secret)\")"
      ],
      "metadata": {
        "colab": {
          "base_uri": "https://localhost:8080/"
        },
        "id": "sqeRe1tJQGOD",
        "outputId": "46ecde9b-4aae-4cfb-bec7-e94124e93b36"
      },
      "execution_count": 16,
      "outputs": [
        {
          "output_type": "stream",
          "name": "stdout",
          "text": [
            "Cranial Insertion cookie successfully loaded from Google Colab secrets, it can now be used (it's a secret)\n"
          ]
        }
      ]
    },
    {
      "cell_type": "markdown",
      "source": [
        "We need two modules, to get the text of Cranial Insertion articles:"
      ],
      "metadata": {
        "id": "zd7LOB1qybg1"
      }
    },
    {
      "cell_type": "code",
      "source": [
        "!pip install requests beautifulsoup4\n",
        "import requests\n",
        "from bs4 import BeautifulSoup"
      ],
      "metadata": {
        "colab": {
          "base_uri": "https://localhost:8080/"
        },
        "id": "HwoxxNIHQiIC",
        "outputId": "7424338b-a965-41fc-aee1-0aa1f0245f32"
      },
      "execution_count": 17,
      "outputs": [
        {
          "output_type": "stream",
          "name": "stdout",
          "text": [
            "Requirement already satisfied: requests in /usr/local/lib/python3.11/dist-packages (2.32.3)\n",
            "Requirement already satisfied: beautifulsoup4 in /usr/local/lib/python3.11/dist-packages (4.13.3)\n",
            "Requirement already satisfied: charset-normalizer<4,>=2 in /usr/local/lib/python3.11/dist-packages (from requests) (3.4.1)\n",
            "Requirement already satisfied: idna<4,>=2.5 in /usr/local/lib/python3.11/dist-packages (from requests) (3.10)\n",
            "Requirement already satisfied: urllib3<3,>=1.21.1 in /usr/local/lib/python3.11/dist-packages (from requests) (2.3.0)\n",
            "Requirement already satisfied: certifi>=2017.4.17 in /usr/local/lib/python3.11/dist-packages (from requests) (2025.1.31)\n",
            "Requirement already satisfied: soupsieve>1.2 in /usr/local/lib/python3.11/dist-packages (from beautifulsoup4) (2.6)\n",
            "Requirement already satisfied: typing-extensions>=4.0.0 in /usr/local/lib/python3.11/dist-packages (from beautifulsoup4) (4.13.0)\n"
          ]
        }
      ]
    },
    {
      "cell_type": "code",
      "source": [
        "def get_article_text(article_id=article_id):\n",
        "    latest_article_edit_url = f\"https://www.cranial-insertion.com/staff/articles/{article_id}/edit\"\n",
        "    print(f\"Reading the article at URL {latest_article_edit_url} ...\")\n",
        "\n",
        "    cookies = {\n",
        "        'loggedin': cranial_insertion_cookie,\n",
        "        'siteLang': 'fr',\n",
        "    }\n",
        "    print(f\"Using French language and my admin cookie...\")\n",
        "\n",
        "    response = requests.get(latest_article_edit_url, cookies=cookies)\n",
        "    soup = BeautifulSoup(response.text, 'html.parser')\n",
        "    print(f\"The web page has been read and it's title is « {soup.title} » !\")\n",
        "\n",
        "    latest_article_text = soup.find(id=\"thisArticleText\").get_text()\n",
        "    return latest_article_text"
      ],
      "metadata": {
        "id": "KpSxEHF0xk7R"
      },
      "execution_count": 18,
      "outputs": []
    },
    {
      "cell_type": "markdown",
      "source": [
        "We can know get the text of any English article, if we know its ID:\n",
        "\n",
        "I could improve that but there is no need."
      ],
      "metadata": {
        "id": "uRPxLKauyp3E"
      }
    },
    {
      "cell_type": "code",
      "source": [
        "list_of_article_id = [\n",
        "    4380,\n",
        "    4376,\n",
        "    4374,\n",
        "    4371,\n",
        "    # etc\n",
        "    # see https://www.cranial-insertion.com/staff/articles list\n",
        "]\n",
        "\n",
        "latest_article_text = get_article_text(get_latest_article_id())\n",
        "print(\"This article raw text is:\")\n",
        "print_paragraph(latest_article_text)"
      ],
      "metadata": {
        "colab": {
          "base_uri": "https://localhost:8080/",
          "height": 1000
        },
        "id": "sVKBerzQRod8",
        "outputId": "fdda2d83-aa2c-4999-8240-1260aa131eab"
      },
      "execution_count": 24,
      "outputs": [
        {
          "output_type": "stream",
          "name": "stdout",
          "text": [
            "Reading the article at URL https://www.cranial-insertion.com/staff/articles/4376/edit ...\n",
            "Using French language and my admin cookie...\n",
            "The web page has been read and it's title is « <title>Cranial Insertion | Manage Articles</title> » !\n",
            "This article raw text is:\n"
          ]
        },
        {
          "output_type": "display_data",
          "data": {
            "text/plain": [
              "<IPython.core.display.Markdown object>"
            ],
            "text/markdown": "> [cright=Living Death]\"Alex, the answer is \"What would be an\nexample of an oximoron?\"[/cright]\n\nToday we have a collection of questions found on the IRC Chatroom #magicjudges-rules and the Facebook group Ask the Judge - [b]Magic[/b]: The Gathering Rules and Policy Questions. Feel free to join us in either or both groups.\n\nIf you have any [b]Magic[/b] questions burning at the back of your brain, you can send them to us. We may even use them in a future article. If you have a short question, you can send it to us via our Twitter account at [url=https://twitter.com/CranialTweet]@CranialTweet[/url], and you can send us longer questions at [email]moko@cranialinsertion.com[/email].\n\n[hr]\n[Q] I have two [c]Squire[/c]s on the battlefield and I have [c]Custodi Soulbinders[/c] and four copies of [c]Bear Cub[/c] in my graveyard. If I cast [c]Living Death[/c], how many +1/+1 counters will Soulbinders enter with?[/Q]\n\n[A] Custodi Soulbinders will enter with zero +1/+1 counters. Souldbinders and the Bears will enter simultaneously. Soulbinders' first ability is a replacement effect that checks to see how many creatures are on the battlefield just before it enters. At that point there are no creatures on the board, so it gets no counters as it enters.[/A]\n\n[hr]\n[Q] My commander is [c]Grimgrin, Corpse-Born[/c]. Grimgrin was [c]Murder[/c]ed last turn and I choose to move him to the command zone. I control [c]Rooftop Storm[/c]. If I try to cast Grimgrin from the command zone, will he cost [m]2[/m] or will he be free?[/Q]\n\n[A] He will cost [m]2[/m]. \nCommander \"tax\" is an additional cost that must be paid in addition to the normal cost for casting your commander. Rooftop Storm gives you the option of replacing the normal cost of casting your Zombies with [m]0[/m]. This has no effect on additional costs.  [/A]\n\n[hr]\n[Q] My opponent exiled [c]Wheel of Fate[/c] with [c]Reckless Impulse[/c]. She now claims she can cast Wheel of Fate because it's in exile. Is that true?[/Q]\n\n[A] Your opponent is wrong. The part of suspend that lets you cast a card with no mana cost is casting it without paying its mana cost, not that it's casting it from exile.[/A]\n\n[hr]\n[Q] I control four [c]Bear Cub[/c]s, [c]Agrus Kos, Eternal Soldier[/c], and [c]Thundering Raiju[/c]. None of my creatures are currently modified. I attack with the Raiju and have its attack trigger target Agrus. When Agrus's ability triggers because he became targeted, I pay the cost. After all these triggers resolve, how much damage will Raiju deal to each opponent?[/Q]\n\n[A] The Answer is between 15-19 damage, depending on when you let the trigger targeting Raiju resolve.\n\nWhen Agrus's trigger resolves, it creates five copies of Raiju's trigger, one for each Bear and one for Raiju, making a total of six Raiju triggers. The last trigger to resolve has to be the one targeting Agrus, and the other five resolve before it in the order of your choosing. \n\nFor our first example, we will have the trigger targeting Raiju resolve first, then the four triggers targeting Bears, and finally the one targeting Agrus.\n\nRaiju gets a +1/+1 counter, no damage is dealt as Raiju only checks modified creatures other than himself. Total damage 0.\nBear #1 gets a +1/+1 counter, 1 damage is dealt as there is only one modified creature other than Raiju. Total damage 1.\nBear #2 gets a +1/+1 counter, 2 damage is dealt as there are now two modified creatures. Total damage 3.\nBear #3 gets a +1/+1 counter, 3 damage is dealt. Total damage 6.\nBear #4 gets a counter, 4 damage is dealt. Total damage of 10.\nAgrus get a a counter, 5 damage is dealt. Total damage of 15.\n\nNow let's have the four Bears' triggers resolve first, then Raiju, followed by Agrus.\nBear #1, 1 damage is dealt. Total damage 1.\nBear #2, 2 damage is dealt. Total damage 3.\nBear #3, 3 damage id dealt. Total damage 6.\nBear #4, 4 damage is dealt. Total damage is 10.\nRaiju, 4 damage is dealt. Total damage is 14.\nAgrus, 5 damage is dealt. Total damage is 19.\n\nThe later the trigger targeting Raiju resolves, the more the total damage.\n [/A]\n\n[hr]\n[cleft=Grafdigger's Cage]Alex, the answer is \"What is used to \nkeep the dead from escaping their graves?\"[/cleft][Q] Does [c]Grafdigger's Cage[/c] stop [c]Abhorrent Oculus[/c] from manifest-dreading?[/Q]\n\n[A] Well, in the important ways, yes. They still \"manifest dread\", but some parts they can't complete. Manifest Dread is \"Look at the top two cards of your library. Manifest one of them, then put the cards you looked at that were not manifested this way into your graveyard.\" Since you can't put a creature from your library into play, both cards looked at are put into the graveyard.[/A]\n\n[hr]\n[Q] Last turn my opponent stole my [c]Bear Cub[/c] by casting [c]Sower of Temptation[/c]. This turn I used [c]Ovinize[/c] to make the Sower lose all its abilities. I did this because I think I'll get my Bear Cub back, since the Sower no longer has the \"steal your creature\" ability. My opponent disagrees. Who is right?[/Q]\n\n[A] Your opponent is correct. Removing the enters ability (that creates an effect with a duration) after the ability has resolved, doesn't stop it from functioning.\n\nIf it helps, an example that seems more intuitive would be the following: My opponent used [c]Rootwater Matriarch[/c] to steel my [c]Hill Giant[/c] enchanted with [c]Spirit Link[/c]. Killing the Matriarch won't get the Hill Giant back, even though that removes where the steal ability came from. The duration is based on whether or not the Hill Giant is still enchanted.\n\nSo with the original question, removing Sower's abilities doesn't stop the steal effect. You have to remove the Sower to gain the creature back because that ends the duration of the effect.[/A]\n\n[hr]\n[Q] So continuing with the last question, what if instead of [c]Ovinize[/c]ing the [c]Sower of Temptation[/c] I phased it out with [c]Reality Ripple[/c]?[/Q]\n\n[A] You would get your creature back. If a creature phases out, it's treated as though it's no longer on the battlefield. The duration of its effect has been met, so the effect ends and the stolen creature returns to its last controller, usually its owner.[/A]\n\n[hr]\n[Q] I block my opponent's attacking [c]Bear Cub[/c] with [c]Manor Gargoyle[/c]. After combat ends, the opponent then casts [c]Disfigure[/c] targeting my Gargoyle. They claim they just killed my Gargoyle. Is this true?[/Q]\n\n[A] It is not true, your Gargoyle lives through this. Many new players make this same wrong assumption. Damage doesn't reduce toughness. You have a 2/2 Gargoyle with 2 damage marked on it. Because it's indestructible, the state based action that tries to destroy it for having equal or more damage than it has toughness fails to do anything. If they want to get your Gargoyle into the graveyard, they need to give it enough [c=Dismember]-X/-X to make its toughness 0 or less[/c], or force you to [c=Diabolic Edict]sacrifice it[/c].[/A]\n\n[hr]\n[Q] If [c]Ragavan, Nimble Pilferer[/c] is my commander, can I cast him for his dash cost from the command zone?[/Q]\n\n[A] Yes, you can. Dash can be used from any zone, so long as you are allowed to cast that card from that same zone normally. [/A]\n\n[hr]\n[Q] Following up with the last question, do I have to pay commander tax if I dash out my commander?[/Q]\n\n[A] Yes, you do. Suppose you cast Ragavan normally on turn one, then later he died and returned to the command zone. When you go to dash him he now costs [m]3[/m][m]R[/m] to dash. Then if he dies again and returns to the command zone, the next time you go to cast him he costs either [m]4[/m][m]R[/m] to cast normally or [m]5[/m][m]R[/m] to dash.[/A]\n\n[hr]\n[Q] I have eight cards in my hand. I go to my cleanup step and discard [c]Blazing Rootwalla[/c] to get down to maximum hand size. Can I cast the Rootwalla even though I'm in my cleanup step?[/Q]\n\n[A] Yes, you can. During most cleanup steps, no players get priority. However, if an ability triggers during the cleanup step, or a state based action applies during a cleanup step, then the active player gains priority and may cast spells and activate abilities. \n\nThis is when you can cast the Rootwalla, as discarding it to madness puts a trigger on the stack.\n\nA normal priority pass will begin from here and until all players pass in succession with an empty stack, players may add new items to the stack when they have priority. Once all players pass with an empty stack, this cleanup step ends and a new one begins. If that new cleanup ends normally, then the game will move on to the next player's turn.[/A]\n\n[hr]\n[Q] While resolving [c]Burning Inquiry[/c] I discarded [c]Basking Rootwalla[/c] and two [c]Mountain[/c]s. My opponent controls a [c]Rest in Peace[/c]. My opponent claims I can't cast the Rootwalla for its Madness cost as it got exiled by Rest in Peace when I discarded it. Is this true?[/Q]\n\n[A] Your opponent is wrong. You can cast your Rootwalla for its madness cost. The Rootwalla hasn't been exiled by Rest in Peace yet. This is because madness doesn't quite work the way most people think it does. If a card with madness gets discarded, it goes to exile instead of being put into its owner's graveyard. Then the next time a player would get priority, a trigger allowing its owner to cast it for its madness cost is put on the stack. When this trigger resolves, the owner may cast the card, but if they don't then the card is put into their graveyard. \n\nTo get back to the original question, Rest in Peace can only exile a discarded Madness card after the owner has decided not to cast it for madness and choses to let it go to the graveyard.\n[/A]\n\n[hr]\n[Q] My opponent pays [m]3[/m][m]U[/m] to gain level 2 on their [c]Stormchaser's Talent[/c]. Before it becomes level 2, I [c]Boomerang[/c] it to their hand. The opponent says they still get to return an instant or sorcery to their hand, I say they don't, who is right?[/Q]\n\n[A] You are correct, they do not. Gaining a level is an ability that uses the stack and can be responded to. Stormchaser's level 2 ability is a trigger that triggers upon it becoming level 2 and happens only after it becomes level 2. If it's not on the battlefield when its level 2 ability resolves, there is no ability to trigger (nor a permanent to become level 2). [/A]\n\n[hr]\n[cright=Bear Cub|PO2]Alex, the answer is \"What is another\nname for Ursine Child?\"[/cright][Q] I enchanted my opponent's [c]Bear Cub[/c] with my [c]Sigil of Sleep[/c]. If the Bear Cub goes unblocked attacking me, who chooses which creature I control gets returned to its owner's hand?[/Q]\n\n[A] You get to choose as you control the Sigil of Sleep.[/A]\n\n[hr]\n[Q] I attack with [c]Geist of Saint Traft[/c] while I control [c]Anointed Procession[/c]. When combat ends, will both Angel tokens get exiled or do I get to keep one?[/Q]\n\n[A] Both still get exiled. Saint Traft's triggered ability still made both tokens and tracks them to be exiled at the end of combat. Procession doesn't make tokens, it just changes how many tokens other cards and abilities make.[/A]\n\n[hr]\n[Q] I attack with [c]Geist of Saint Traft[/c], but before blocks, I cast [c]Eyes in the Skies[/c] choosing to populate the Angel token. When combat ends, will both Angel tokens get exiled or do I get to keep one?[/Q]\n\n[A] You get to keep the one made by Eyes in the Skies. Unlike Anointed Procession from the last question, Eyes in the Skies makes the token and the token has no link to the ability that made the original Angel token. This includes that the second Angel token is not attacking, is not tapped, and it won't get exiled at the end of combat.[/A]\n\n[hr]\n[Q] I don't understand what [c]Emrakul, the World Anew[/c] has protection from. Can you clarify this?[/Q]\n\n[A] Emrakul has protection from spells and separately protection from permanents cast \"this turn\". This turn is whichever turn it currently is, even if it's been many turns since Emrakul herself was cast. \n\nSo for example, if I cast [c]Visara the Dreadful[/c] and gave her some [c]Lightning Greaves[/c] the same turn I cast her, she can't target and destroy Emrakul that turn. However, if I pass to my opponent's turn, Visara can now kill Emrakul as it's no longer the same turn Visara was cast. If I used [c]Goryo's Vengeance[/c] to reanimate Visara, then Visara could kill Emrakul that same turn as Visara wasn't cast at all.\n\nEmrakul's protection ability acts similar to having protection from Auras. Auras when cast target what they will enchant, so Emrakul is safe from most Auras. However, on later turns, an Aura could be moved from its original target, to enchant Emrakul. For example, you could move [c]Pacifism[/c] from a 1/1 Goblin token to Emrakul using [c]Crown of the Ages[/c]. \n[/A]\n\n[hr]\n[Q] I cast [c]Season of Weaving[/c] choosing the two paws mode (to copy my [c]Arcanis the Omnipotent[/c]) and the three paws mode. Will I have to put one Arcanis into my graveyard due to the legend rule before bouncing all nonland and nontoken permanents?[/Q]\n\n[A] You will not and you can not. The legend rule is a state based action. It's never checked in the middle of resolving a spell. You will put the original Arcanis into your hand before Season of Weaving fully resolves. The legend rule doesn't come into play during this situation.[/A]\n\n[hr]\n[Q] If I cast [c]Righteous Confluence[/c] choosing mode two once to exile my opponent's [c]Leyline of Sanctity[/c] and mode three twice to gain 10 total life, and the opponent responds by [c]Boomerang[/c]ing the Leyline back to their hand, do I still gain 10 life?[/Q]\n\n[A] You do not. Righteous Confluence had only one target, Leyline of Sanctity, and that target has disappeared. If a spell loses all of its targets by the time it goes to resolve, it fizzles and none of its effects happen. [/A]\n\n[hr]\n[Q] I just cast [c]Cultivate[/c] putting a [c]Swamp[/c] onto the battlefield and a [c]Forest[/c] into my hand. I haven't played a land from my hand yet this turn. Can I still play the Forest as my land drop for the turn, or did the Swamp use up my land drop for the turn?[/Q]\n\n[A] You may still play the Forest. Putting a land onto the battlefield with a spell or ability doesn't use up your one land drop per turn.[/A]\n\n[hr]\n\nEach Question in my last article had a hidden reference to a different pop-culture pig. With ten different questions there were ten different pigs. The spoiler below has the answer key to those references.\n[spoiler]\nQuestion 1) Charlotte's Web - Wilbur the Pig and Charlotte the Spider\nQuestion 2) Jim Henson's Muppets - Miss Piggy, Kermit the Frog, and Fozzie Bear.\nQuestion 3) The Three Little Pigs and the Big Bad Wolf\nQuestion 4) Angry Birds Video Game (Birds vs Pigs)\nQuestion 5) Looney Tunes - Bugs Bunny, Porky Pig, and Daffy Duck\nQuestion 6) Babe the 1995 Movie - Babe the Pig, Sheep for Babe to herd, and Farmer Arthur Hoggett\nQuestion 7) Legend of Zelda - Link an Elf Warrior, Zelda an Elf Noble, and Ganon (pig form of Ganondorf)\nQuestion 8) The Lion King - Timon the Meerkat, Pumbaa the Warthog, and some Hyenas for them to fight.\nQuestion 9) Toy Story - Woody the Cowboy, Buzz the Spaceman, Rex the T-Rex, and Hamm the Piggy Bank.\nQuestion 10) Winnie the Pooh - Pooh the Bear, Tigger the Tiger, and Piglet the Pig.[/spoiler]\n\n- Justin Hovdenes AKA Hovey\nLevel 2 Magic Judge\nRapid City, SD"
          },
          "metadata": {}
        }
      ]
    },
    {
      "cell_type": "markdown",
      "source": [
        "------------------\n",
        "\n",
        "## Now, let's translate the entire article!\n",
        "\n",
        "I want to be able to obtain:\n",
        "\n",
        "- the entire raw text,\n",
        "- its splitting into paragraphs,\n",
        "- their translations,\n",
        "\n",
        "just from a given (or the latest) article ID."
      ],
      "metadata": {
        "id": "GIPJTz0aeNYh"
      }
    },
    {
      "cell_type": "code",
      "source": [
        "from tqdm.notebook import tqdm"
      ],
      "metadata": {
        "id": "BJphBvkX18kw"
      },
      "execution_count": 28,
      "outputs": []
    },
    {
      "cell_type": "code",
      "source": [
        "def get_and_translate_article_text(article_id=None, translate=False):\n",
        "\n",
        "    if article_id is None:\n",
        "        try:\n",
        "            article_id = get_latest_article_id()\n",
        "        except:\n",
        "            article_id = 4376  # etc, see https://www.cranial-insertion.com/staff/articles for the entire list\n",
        "\n",
        "    latest_article_text = get_article_text(article_id)\n",
        "\n",
        "    article_content = latest_article_text\n",
        "    article_paragraphs = article_content.split(\"\\n\\n\")\n",
        "    translated_paragraphs = []\n",
        "\n",
        "    for i, paragraph in tqdm(enumerate(article_paragraphs)):\n",
        "        print(f\"\\n\\n{i}-th English paragraph (of length {len(paragraph)} letters and {len(paragraph.split(' '))} words)\")\n",
        "        print_paragraph(paragraph)\n",
        "\n",
        "        if translate:\n",
        "            translated_paragraph = en2fr(paragraph)\n",
        "            print(f\"Translated {i}-th paragraph in French (of length {len(translated_paragraph)} letters and {len(translated_paragraph.split(' '))} words)\")\n",
        "            print_paragraph(translated_paragraph)\n",
        "            translated_paragraphs.append(translated_paragraph)\n",
        "\n",
        "    return article_id, latest_article_text, article_paragraphs, translated_paragraphs"
      ],
      "metadata": {
        "id": "RFYeo4gO0xdY"
      },
      "execution_count": 88,
      "outputs": []
    },
    {
      "cell_type": "code",
      "source": [
        "%%time\n",
        "article_id, latest_article_text, article_paragraphs, translated_paragraphs = get_and_translate_article_text(article_id, translate=True)"
      ],
      "metadata": {
        "colab": {
          "base_uri": "https://localhost:8080/",
          "height": 1000,
          "referenced_widgets": [
            "ff41aea390694f358d6623ad5a44ce50",
            "5203346d92d04688a3f6f59f2853fee6",
            "017b0ad4cc6f47f988d3894bfe90dd2c",
            "f9c8e7a012bc498e879fa6a7d7c42a86",
            "aa6bb36973254e48aebc140936912c65",
            "92615269faf349f0a1538e936127b79e",
            "58b4560073d542fa8b251dfba7150f8c",
            "20638ccd0c1c40bf8bc2ff843f8eaaa1",
            "2d0ab01e1b544e9482993540dce7c807",
            "3849528894b2444bbd44b39ee23b8ecd",
            "a854ece7118b482899e2ddf8269697b4"
          ]
        },
        "id": "5FpIJ8QceN2N",
        "outputId": "13cbeafb-255e-46b0-884c-f8b6e9ed3455"
      },
      "execution_count": 147,
      "outputs": [
        {
          "output_type": "stream",
          "name": "stdout",
          "text": [
            "Reading the article at URL https://www.cranial-insertion.com/staff/articles/4376/edit ...\n",
            "Using French language and my admin cookie...\n",
            "The web page has been read and it's title is « <title>Cranial Insertion | Manage Articles</title> » !\n"
          ]
        },
        {
          "output_type": "display_data",
          "data": {
            "text/plain": [
              "0it [00:00, ?it/s]"
            ],
            "application/vnd.jupyter.widget-view+json": {
              "version_major": 2,
              "version_minor": 0,
              "model_id": "ff41aea390694f358d6623ad5a44ce50"
            }
          },
          "metadata": {}
        },
        {
          "output_type": "stream",
          "name": "stdout",
          "text": [
            "\n",
            "\n",
            "0-th English paragraph (of length 93 letters and 12 words)\n"
          ]
        },
        {
          "output_type": "display_data",
          "data": {
            "text/plain": [
              "<IPython.core.display.Markdown object>"
            ],
            "text/markdown": "> [cright=Living Death]\"Alex, the answer is \"What would be an\nexample of an oximoron?\"[/cright]"
          },
          "metadata": {}
        },
        {
          "output_type": "stream",
          "name": "stdout",
          "text": [
            "Translated 0-th paragraph in French (of length 87 letters and 10 words)\n"
          ]
        },
        {
          "output_type": "display_data",
          "data": {
            "text/plain": [
              "<IPython.core.display.Markdown object>"
            ],
            "text/markdown": "> [crightLiving Death]\"Alex, la réponse est \"Quel serait un exemple d'oximoron?\"[/cright]"
          },
          "metadata": {}
        },
        {
          "output_type": "stream",
          "name": "stdout",
          "text": [
            "\n",
            "\n",
            "1-th English paragraph (of length 226 letters and 38 words)\n"
          ]
        },
        {
          "output_type": "display_data",
          "data": {
            "text/plain": [
              "<IPython.core.display.Markdown object>"
            ],
            "text/markdown": "> Today we have a collection of questions found on the IRC Chatroom #magicjudges-rules and the Facebook group Ask the Judge - [b]Magic[/b]: The Gathering Rules and Policy Questions. Feel free to join us in either or both groups."
          },
          "metadata": {}
        },
        {
          "output_type": "stream",
          "name": "stdout",
          "text": [
            "Translated 1-th paragraph in French (of length 254 letters and 39 words)\n"
          ]
        },
        {
          "output_type": "display_data",
          "data": {
            "text/plain": [
              "<IPython.core.display.Markdown object>"
            ],
            "text/markdown": "> Aujourd'hui, nous avons une collection de questions trouvées sur le IRC Chatroom magicjudges-rules et le groupe Facebook Ask the Judge - [b]Magic[/b]: The Gathering Rules and Policy Questions. N'hésitez pas à nous rejoindre dans l'un ou les deux groupes."
          },
          "metadata": {}
        },
        {
          "output_type": "stream",
          "name": "stdout",
          "text": [
            "\n",
            "\n",
            "2-th English paragraph (of length 360 letters and 55 words)\n"
          ]
        },
        {
          "output_type": "display_data",
          "data": {
            "text/plain": [
              "<IPython.core.display.Markdown object>"
            ],
            "text/markdown": "> If you have any [b]Magic[/b] questions burning at the back of your brain, you can send them to us. We may even use them in a future article. If you have a short question, you can send it to us via our Twitter account at [url=https://twitter.com/CranialTweet]@CranialTweet[/url], and you can send us longer questions at [email]moko@cranialinsertion.com[/email]."
          },
          "metadata": {}
        },
        {
          "output_type": "stream",
          "name": "stdout",
          "text": [
            "Translated 2-th paragraph in French (of length 408 letters and 52 words)\n"
          ]
        },
        {
          "output_type": "display_data",
          "data": {
            "text/plain": [
              "<IPython.core.display.Markdown object>"
            ],
            "text/markdown": "> Si vous avez des questions magiques qui brûlent à l'arrière de votre cerveau, vous pouvez nous les envoyer..Nous pourrions même les utiliser dans un prochain article..Si vous avez une petite question, vous pouvez nous l'envoyer via notre compte Twitter à [urlhttps://twitter.com/CranialTweet]CranialTweet[/url], et vous pouvez nous envoyer des questions plus longues à [email]mokocranialinsertion.com[/email]"
          },
          "metadata": {}
        },
        {
          "output_type": "stream",
          "name": "stdout",
          "text": [
            "\n",
            "\n",
            "3-th English paragraph (of length 231 letters and 35 words)\n"
          ]
        },
        {
          "output_type": "display_data",
          "data": {
            "text/plain": [
              "<IPython.core.display.Markdown object>"
            ],
            "text/markdown": "> [hr]\n[Q] I have two [c]Squire[/c]s on the battlefield and I have [c]Custodi Soulbinders[/c] and four copies of [c]Bear Cub[/c] in my graveyard. If I cast [c]Living Death[/c], how many +1/+1 counters will Soulbinders enter with?[/Q]"
          },
          "metadata": {}
        },
        {
          "output_type": "stream",
          "name": "stdout",
          "text": [
            "Translated 3-th paragraph in French (of length 245 letters and 36 words)\n"
          ]
        },
        {
          "output_type": "display_data",
          "data": {
            "text/plain": [
              "<IPython.core.display.Markdown object>"
            ],
            "text/markdown": "> [hr] [Q] J'ai deux [c]Squire[/c]s sur le champ de bataille et j'ai [c]Custodi Soulbinders[/c] et quatre copies de [c]Bear Cub[/c] dans mon cimetière. Si je lance [c]Living Death[/c], combien de marqueurs +1/+1 Soulbinders entrera-t-il avec ?[/Q]"
          },
          "metadata": {}
        },
        {
          "output_type": "stream",
          "name": "stdout",
          "text": [
            "\n",
            "\n",
            "4-th English paragraph (of length 341 letters and 56 words)\n"
          ]
        },
        {
          "output_type": "display_data",
          "data": {
            "text/plain": [
              "<IPython.core.display.Markdown object>"
            ],
            "text/markdown": "> [A] Custodi Soulbinders will enter with zero +1/+1 counters. Souldbinders and the Bears will enter simultaneously. Soulbinders' first ability is a replacement effect that checks to see how many creatures are on the battlefield just before it enters. At that point there are no creatures on the board, so it gets no counters as it enters.[/A]"
          },
          "metadata": {}
        },
        {
          "output_type": "stream",
          "name": "stdout",
          "text": [
            "Translated 4-th paragraph in French (of length 369 letters and 59 words)\n"
          ]
        },
        {
          "output_type": "display_data",
          "data": {
            "text/plain": [
              "<IPython.core.display.Markdown object>"
            ],
            "text/markdown": "> [A] Custodi Soulbinders entrera avec zéro marqueur +1/+1. Souldbinders et les Bears entreront simultanément. La première capacité de Soulbinders est un effet de remplacement qui vérifie le nombre de créatures sur le champ de bataille juste avant d'entrer. À ce moment-là, il n'y a pas de créatures sur le plateau, donc il ne reçoit pas de marqueurs lorsqu'il entre.[/A]"
          },
          "metadata": {}
        },
        {
          "output_type": "stream",
          "name": "stdout",
          "text": [
            "\n",
            "\n",
            "5-th English paragraph (of length 266 letters and 44 words)\n"
          ]
        },
        {
          "output_type": "display_data",
          "data": {
            "text/plain": [
              "<IPython.core.display.Markdown object>"
            ],
            "text/markdown": "> [hr]\n[Q] My commander is [c]Grimgrin, Corpse-Born[/c]. Grimgrin was [c]Murder[/c]ed last turn and I choose to move him to the command zone. I control [c]Rooftop Storm[/c]. If I try to cast Grimgrin from the command zone, will he cost [m]2[/m] or will he be free?[/Q]"
          },
          "metadata": {}
        },
        {
          "output_type": "stream",
          "name": "stdout",
          "text": [
            "Translated 5-th paragraph in French (of length 293 letters and 44 words)\n"
          ]
        },
        {
          "output_type": "display_data",
          "data": {
            "text/plain": [
              "<IPython.core.display.Markdown object>"
            ],
            "text/markdown": "> [hr] [Q] Mon commandant est [c]Griggrin, Corpse-Born[/c]. Grimgrin a été [c]Murder[/c] dernier tour et je choisis de le déplacer dans la zone de commandement. Je contrôle [c]Rooftop Storm[/c]. Si j'essaie de lancer Grimgrin de la zone de commandement, va-t-il coûter [m]2[/m] ou sera-il libre?"
          },
          "metadata": {}
        },
        {
          "output_type": "stream",
          "name": "stdout",
          "text": [
            "\n",
            "\n",
            "6-th English paragraph (of length 291 letters and 51 words)\n"
          ]
        },
        {
          "output_type": "display_data",
          "data": {
            "text/plain": [
              "<IPython.core.display.Markdown object>"
            ],
            "text/markdown": "> [A] He will cost [m]2[/m]. \nCommander \"tax\" is an additional cost that must be paid in addition to the normal cost for casting your commander. Rooftop Storm gives you the option of replacing the normal cost of casting your Zombies with [m]0[/m]. This has no effect on additional costs.  [/A]"
          },
          "metadata": {}
        },
        {
          "output_type": "stream",
          "name": "stdout",
          "text": [
            "Translated 6-th paragraph in French (of length 309 letters and 51 words)\n"
          ]
        },
        {
          "output_type": "display_data",
          "data": {
            "text/plain": [
              "<IPython.core.display.Markdown object>"
            ],
            "text/markdown": "> [A] Il vous en coûtera [m]2[/m]. Commander \"taxe\" est un coût supplémentaire qui doit être payé en plus du coût normal pour lancer votre commandant. Rooftop Storm vous donne la possibilité de remplacer le coût normal de lancer vos Zombies par [m]0[/m]. Cela n'a aucun effet sur les coûts supplémentaires. [/A]"
          },
          "metadata": {}
        },
        {
          "output_type": "stream",
          "name": "stdout",
          "text": [
            "\n",
            "\n",
            "7-th English paragraph (of length 161 letters and 26 words)\n"
          ]
        },
        {
          "output_type": "display_data",
          "data": {
            "text/plain": [
              "<IPython.core.display.Markdown object>"
            ],
            "text/markdown": "> [hr]\n[Q] My opponent exiled [c]Wheel of Fate[/c] with [c]Reckless Impulse[/c]. She now claims she can cast Wheel of Fate because it's in exile. Is that true?[/Q]"
          },
          "metadata": {}
        },
        {
          "output_type": "stream",
          "name": "stdout",
          "text": [
            "Translated 7-th paragraph in French (of length 182 letters and 28 words)\n"
          ]
        },
        {
          "output_type": "display_data",
          "data": {
            "text/plain": [
              "<IPython.core.display.Markdown object>"
            ],
            "text/markdown": "> [hr] [Q] Mon adversaire a exilé [c]Wheel of Fate[/c] avec [c]Reckless Impulse[/c]. Elle prétend maintenant qu'elle peut lancer Wheel of Fate parce que c'est en exil. Est-ce vrai?[/Q]"
          },
          "metadata": {}
        },
        {
          "output_type": "stream",
          "name": "stdout",
          "text": [
            "\n",
            "\n",
            "8-th English paragraph (of length 176 letters and 34 words)\n"
          ]
        },
        {
          "output_type": "display_data",
          "data": {
            "text/plain": [
              "<IPython.core.display.Markdown object>"
            ],
            "text/markdown": "> [A] Your opponent is wrong. The part of suspend that lets you cast a card with no mana cost is casting it without paying its mana cost, not that it's casting it from exile.[/A]"
          },
          "metadata": {}
        },
        {
          "output_type": "stream",
          "name": "stdout",
          "text": [
            "Translated 8-th paragraph in French (of length 182 letters and 36 words)\n"
          ]
        },
        {
          "output_type": "display_data",
          "data": {
            "text/plain": [
              "<IPython.core.display.Markdown object>"
            ],
            "text/markdown": "> [A] Votre adversaire a tort. La partie de suspension qui vous permet de lancer une carte sans coût de mana est de la lancer sans payer son coût de mana, pas qu'il la jette de l'exil."
          },
          "metadata": {}
        },
        {
          "output_type": "stream",
          "name": "stdout",
          "text": [
            "\n",
            "\n",
            "9-th English paragraph (of length 378 letters and 58 words)\n"
          ]
        },
        {
          "output_type": "display_data",
          "data": {
            "text/plain": [
              "<IPython.core.display.Markdown object>"
            ],
            "text/markdown": "> [hr]\n[Q] I control four [c]Bear Cub[/c]s, [c]Agrus Kos, Eternal Soldier[/c], and [c]Thundering Raiju[/c]. None of my creatures are currently modified. I attack with the Raiju and have its attack trigger target Agrus. When Agrus's ability triggers because he became targeted, I pay the cost. After all these triggers resolve, how much damage will Raiju deal to each opponent?[/Q]"
          },
          "metadata": {}
        },
        {
          "output_type": "stream",
          "name": "stdout",
          "text": [
            "Translated 9-th paragraph in French (of length 422 letters and 61 words)\n"
          ]
        },
        {
          "output_type": "display_data",
          "data": {
            "text/plain": [
              "<IPython.core.display.Markdown object>"
            ],
            "text/markdown": "> [hr] [Q] Je contrôle quatre [c] Ours Cub[/c]s, [c]Agrus Kos, Eternal Soldier[/c] et [c]Thundering Raiju[/c].Aucune de mes créatures n'est actuellement modifiée.J'attaque avec le Raiju et ai sa cible de déclenchement d'attaque Agrus.Quand la capacité d'Agrus se déclenche parce qu'il a été ciblé, je paie le coût.Après que tous ces déclencheurs se soient résolus, combien de dégâts Raiju infligera-t-il à chaque adversaire?"
          },
          "metadata": {}
        },
        {
          "output_type": "stream",
          "name": "stdout",
          "text": [
            "\n",
            "\n",
            "10-th English paragraph (of length 102 letters and 17 words)\n"
          ]
        },
        {
          "output_type": "display_data",
          "data": {
            "text/plain": [
              "<IPython.core.display.Markdown object>"
            ],
            "text/markdown": "> [A] The Answer is between 15-19 damage, depending on when you let the trigger targeting Raiju resolve."
          },
          "metadata": {}
        },
        {
          "output_type": "stream",
          "name": "stdout",
          "text": [
            "Translated 10-th paragraph in French (of length 134 letters and 25 words)\n"
          ]
        },
        {
          "output_type": "display_data",
          "data": {
            "text/plain": [
              "<IPython.core.display.Markdown object>"
            ],
            "text/markdown": "> [A] La réponse se situe entre 15 et 19 points de dégâts, selon le moment où vous laissez le déclencheur cibler la résolution de Raiju."
          },
          "metadata": {}
        },
        {
          "output_type": "stream",
          "name": "stdout",
          "text": [
            "\n",
            "\n",
            "11-th English paragraph (of length 280 letters and 52 words)\n"
          ]
        },
        {
          "output_type": "display_data",
          "data": {
            "text/plain": [
              "<IPython.core.display.Markdown object>"
            ],
            "text/markdown": "> When Agrus's trigger resolves, it creates five copies of Raiju's trigger, one for each Bear and one for Raiju, making a total of six Raiju triggers. The last trigger to resolve has to be the one targeting Agrus, and the other five resolve before it in the order of your choosing. "
          },
          "metadata": {}
        },
        {
          "output_type": "stream",
          "name": "stdout",
          "text": [
            "Translated 11-th paragraph in French (of length 306 letters and 53 words)\n"
          ]
        },
        {
          "output_type": "display_data",
          "data": {
            "text/plain": [
              "<IPython.core.display.Markdown object>"
            ],
            "text/markdown": "> Lorsque le déclencheur d'Agrus se résout, il crée cinq copies du déclencheur de Raiju, une pour chaque Ours et une pour Raiju, ce qui fait un total de six déclencheurs de Raiju. Le dernier déclencheur à résoudre doit être celui ciblant Agrus, et les cinq autres résolvent avant dans l'ordre de votre choix."
          },
          "metadata": {}
        },
        {
          "output_type": "stream",
          "name": "stdout",
          "text": [
            "\n",
            "\n",
            "12-th English paragraph (of length 155 letters and 25 words)\n"
          ]
        },
        {
          "output_type": "display_data",
          "data": {
            "text/plain": [
              "<IPython.core.display.Markdown object>"
            ],
            "text/markdown": "> For our first example, we will have the trigger targeting Raiju resolve first, then the four triggers targeting Bears, and finally the one targeting Agrus."
          },
          "metadata": {}
        },
        {
          "output_type": "stream",
          "name": "stdout",
          "text": [
            "Translated 12-th paragraph in French (of length 174 letters and 27 words)\n"
          ]
        },
        {
          "output_type": "display_data",
          "data": {
            "text/plain": [
              "<IPython.core.display.Markdown object>"
            ],
            "text/markdown": "> Pour notre premier exemple, nous aurons le déclencheur ciblant la résolution de Raiju en premier, puis les quatre déclencheurs ciblant les ours, et enfin celui ciblant Agrus."
          },
          "metadata": {}
        },
        {
          "output_type": "stream",
          "name": "stdout",
          "text": [
            "\n",
            "\n",
            "13-th English paragraph (of length 538 letters and 98 words)\n"
          ]
        },
        {
          "output_type": "display_data",
          "data": {
            "text/plain": [
              "<IPython.core.display.Markdown object>"
            ],
            "text/markdown": "> Raiju gets a +1/+1 counter, no damage is dealt as Raiju only checks modified creatures other than himself. Total damage 0.\nBear #1 gets a +1/+1 counter, 1 damage is dealt as there is only one modified creature other than Raiju. Total damage 1.\nBear #2 gets a +1/+1 counter, 2 damage is dealt as there are now two modified creatures. Total damage 3.\nBear #3 gets a +1/+1 counter, 3 damage is dealt. Total damage 6.\nBear #4 gets a counter, 4 damage is dealt. Total damage of 10.\nAgrus get a a counter, 5 damage is dealt. Total damage of 15."
          },
          "metadata": {}
        },
        {
          "output_type": "stream",
          "name": "stdout",
          "text": [
            "Translated 13-th paragraph in French (of length 623 letters and 100 words)\n"
          ]
        },
        {
          "output_type": "display_data",
          "data": {
            "text/plain": [
              "<IPython.core.display.Markdown object>"
            ],
            "text/markdown": "> Raiju obtient un marqueur +1/+1, aucun dégât n'est infligé car Raiju ne vérifie que les créatures modifiées autres que lui-même..Total des dégâts 0.Ours 1 obtient un marqueur +1/+1, 1 dégât est infligé car il n'y a qu'une seule créature modifiée autre que Raiju.Total des dégâts 1.Ours 2 obtient un marqueur +1/+1, 2 dégâts sont infligés car il y a maintenant deux créatures modifiées.Total des dégâts 3.Ours 3 obtient un marqueur +1/+1, 3 dégâts sont infligés.Total des dégâts 6.Ours 4 obtient un marqueur, 4 dégâts sont infligés.Dégâts totaux de 10.Agrus obtenir un compteur, 5 dégâts sont infligés.Total des dégâts de 15"
          },
          "metadata": {}
        },
        {
          "output_type": "stream",
          "name": "stdout",
          "text": [
            "\n",
            "\n",
            "14-th English paragraph (of length 357 letters and 63 words)\n"
          ]
        },
        {
          "output_type": "display_data",
          "data": {
            "text/plain": [
              "<IPython.core.display.Markdown object>"
            ],
            "text/markdown": "> Now let's have the four Bears' triggers resolve first, then Raiju, followed by Agrus.\nBear #1, 1 damage is dealt. Total damage 1.\nBear #2, 2 damage is dealt. Total damage 3.\nBear #3, 3 damage id dealt. Total damage 6.\nBear #4, 4 damage is dealt. Total damage is 10.\nRaiju, 4 damage is dealt. Total damage is 14.\nAgrus, 5 damage is dealt. Total damage is 19."
          },
          "metadata": {}
        },
        {
          "output_type": "stream",
          "name": "stdout",
          "text": [
            "Translated 14-th paragraph in French (of length 464 letters and 76 words)\n"
          ]
        },
        {
          "output_type": "display_data",
          "data": {
            "text/plain": [
              "<IPython.core.display.Markdown object>"
            ],
            "text/markdown": "> Maintenant, faisons résoudre les déclencheurs des quatre ours en premier, puis Raiju, suivi d'Agrus..Ours 1, 1 dégâts est infligé.Total des dégâts 1.Ours 2, 2 dégâts sont infligés.Total des dégâts 3.Ours 3, 3 points de dégâts infligés.Total des dégâts 6.Ours 4, 4 points de dégâts sont infligés.Le total des dégâts est de 10.Raiju, 4 points de dégâts sont infligés.Le total des dégâts est de 14.Agrus, 5 points de dégâts sont infligés.Le total des dégâts est de 19"
          },
          "metadata": {}
        },
        {
          "output_type": "stream",
          "name": "stdout",
          "text": [
            "\n",
            "\n",
            "15-th English paragraph (of length 80 letters and 13 words)\n"
          ]
        },
        {
          "output_type": "display_data",
          "data": {
            "text/plain": [
              "<IPython.core.display.Markdown object>"
            ],
            "text/markdown": "> The later the trigger targeting Raiju resolves, the more the total damage.\n [/A]"
          },
          "metadata": {}
        },
        {
          "output_type": "stream",
          "name": "stdout",
          "text": [
            "Translated 15-th paragraph in French (of length 90 letters and 14 words)\n"
          ]
        },
        {
          "output_type": "display_data",
          "data": {
            "text/plain": [
              "<IPython.core.display.Markdown object>"
            ],
            "text/markdown": "> Plus le déclencheur ciblant Raiju est tardif, plus les dégâts totaux sont importants. [/A]"
          },
          "metadata": {}
        },
        {
          "output_type": "stream",
          "name": "stdout",
          "text": [
            "\n",
            "\n",
            "16-th English paragraph (of length 208 letters and 24 words)\n"
          ]
        },
        {
          "output_type": "display_data",
          "data": {
            "text/plain": [
              "<IPython.core.display.Markdown object>"
            ],
            "text/markdown": "> [hr]\n[cleft=Grafdigger's Cage]Alex, the answer is \"What is used to \nkeep the dead from escaping their graves?\"[/cleft][Q] Does [c]Grafdigger's Cage[/c] stop [c]Abhorrent Oculus[/c] from manifest-dreading?[/Q]"
          },
          "metadata": {}
        },
        {
          "output_type": "stream",
          "name": "stdout",
          "text": [
            "Translated 16-th paragraph in French (of length 236 letters and 30 words)\n"
          ]
        },
        {
          "output_type": "display_data",
          "data": {
            "text/plain": [
              "<IPython.core.display.Markdown object>"
            ],
            "text/markdown": "> [hr] [cleftCage de Graffiteur]Alex, la réponse est \"Qu'est-ce qui est utilisé pour empêcher les morts de s'échapper de leurs tombes?\"[/cleft][Q] Est-ce que [c]Cage de Graffiteur[/c] empêche [c]Oculus odieux[/c] de manifest-dreading?[/Q]"
          },
          "metadata": {}
        },
        {
          "output_type": "stream",
          "name": "stdout",
          "text": [
            "\n",
            "\n",
            "17-th English paragraph (of length 388 letters and 69 words)\n"
          ]
        },
        {
          "output_type": "display_data",
          "data": {
            "text/plain": [
              "<IPython.core.display.Markdown object>"
            ],
            "text/markdown": "> [A] Well, in the important ways, yes. They still \"manifest dread\", but some parts they can't complete. Manifest Dread is \"Look at the top two cards of your library. Manifest one of them, then put the cards you looked at that were not manifested this way into your graveyard.\" Since you can't put a creature from your library into play, both cards looked at are put into the graveyard.[/A]"
          },
          "metadata": {}
        },
        {
          "output_type": "stream",
          "name": "stdout",
          "text": [
            "Translated 17-th paragraph in French (of length 488 letters and 73 words)\n"
          ]
        },
        {
          "output_type": "display_data",
          "data": {
            "text/plain": [
              "<IPython.core.display.Markdown object>"
            ],
            "text/markdown": "> [A] Eh bien, dans les moyens importants, oui.Ils \"manifestent encore de l'effroi\", mais certaines parties ne peuvent pas être complétées.Manifest Dread est \"Regardez les deux cartes du dessus de votre bibliothèque.Manifestez l'un d'eux, puis mettez les cartes que vous avez regardées qui n'ont pas été manifestées de cette façon dans votre cimetière..Puisque vous ne pouvez pas mettre en jeu une créature de votre bibliothèque, les deux cartes regardées sont mises dans le cimetière..[/A]"
          },
          "metadata": {}
        },
        {
          "output_type": "stream",
          "name": "stdout",
          "text": [
            "\n",
            "\n",
            "18-th English paragraph (of length 328 letters and 56 words)\n"
          ]
        },
        {
          "output_type": "display_data",
          "data": {
            "text/plain": [
              "<IPython.core.display.Markdown object>"
            ],
            "text/markdown": "> [hr]\n[Q] Last turn my opponent stole my [c]Bear Cub[/c] by casting [c]Sower of Temptation[/c]. This turn I used [c]Ovinize[/c] to make the Sower lose all its abilities. I did this because I think I'll get my Bear Cub back, since the Sower no longer has the \"steal your creature\" ability. My opponent disagrees. Who is right?[/Q]"
          },
          "metadata": {}
        },
        {
          "output_type": "stream",
          "name": "stdout",
          "text": [
            "Translated 18-th paragraph in French (of length 323 letters and 53 words)\n"
          ]
        },
        {
          "output_type": "display_data",
          "data": {
            "text/plain": [
              "<IPython.core.display.Markdown object>"
            ],
            "text/markdown": "> [hr] [Q] Dernier tour, mon adversaire a volé mon [c]Bear Cub[/c] en lançant [c]Sower of Temptation[/c]. Ce tour, j'ai utilisé [c]Ovinize[/c] pour faire perdre au semeur toutes ses capacités. J'ai fait cela parce que je pense que je vais récupérer mon Bear Cub, puisque le semeur n'a plus la capacité \"voler votre créature\"."
          },
          "metadata": {}
        },
        {
          "output_type": "stream",
          "name": "stdout",
          "text": [
            "\n",
            "\n",
            "19-th English paragraph (of length 164 letters and 26 words)\n"
          ]
        },
        {
          "output_type": "display_data",
          "data": {
            "text/plain": [
              "<IPython.core.display.Markdown object>"
            ],
            "text/markdown": "> [A] Your opponent is correct. Removing the enters ability (that creates an effect with a duration) after the ability has resolved, doesn't stop it from functioning."
          },
          "metadata": {}
        },
        {
          "output_type": "stream",
          "name": "stdout",
          "text": [
            "Translated 19-th paragraph in French (of length 133 letters and 23 words)\n"
          ]
        },
        {
          "output_type": "display_data",
          "data": {
            "text/plain": [
              "<IPython.core.display.Markdown object>"
            ],
            "text/markdown": "> Retirer la capacité d'entrée (qui crée un effet avec une durée) après que la capacité a été résolue, ne l'empêche pas de fonctionner."
          },
          "metadata": {}
        },
        {
          "output_type": "stream",
          "name": "stdout",
          "text": [
            "\n",
            "\n",
            "20-th English paragraph (of length 370 letters and 60 words)\n"
          ]
        },
        {
          "output_type": "display_data",
          "data": {
            "text/plain": [
              "<IPython.core.display.Markdown object>"
            ],
            "text/markdown": "> If it helps, an example that seems more intuitive would be the following: My opponent used [c]Rootwater Matriarch[/c] to steel my [c]Hill Giant[/c] enchanted with [c]Spirit Link[/c]. Killing the Matriarch won't get the Hill Giant back, even though that removes where the steal ability came from. The duration is based on whether or not the Hill Giant is still enchanted."
          },
          "metadata": {}
        },
        {
          "output_type": "stream",
          "name": "stdout",
          "text": [
            "Translated 20-th paragraph in French (of length 398 letters and 66 words)\n"
          ]
        },
        {
          "output_type": "display_data",
          "data": {
            "text/plain": [
              "<IPython.core.display.Markdown object>"
            ],
            "text/markdown": "> Si cela aide, un exemple qui semble plus intuitif serait le suivant : Mon adversaire a utilisé [c]Rootwater Matriarch[/c] pour renforcer mon [c]Hill Giant[/c] enchanté par [c]Spirit Link[/c].Tuer la Matriarche ne ramènera pas le Géant de la Colline, même si cela enlève l'endroit d'où venait la capacité de vol..La durée est basée sur le fait que le Géant de la Colline soit encore enchanté ou non."
          },
          "metadata": {}
        },
        {
          "output_type": "stream",
          "name": "stdout",
          "text": [
            "\n",
            "\n",
            "21-th English paragraph (of length 193 letters and 32 words)\n"
          ]
        },
        {
          "output_type": "display_data",
          "data": {
            "text/plain": [
              "<IPython.core.display.Markdown object>"
            ],
            "text/markdown": "> So with the original question, removing Sower's abilities doesn't stop the steal effect. You have to remove the Sower to gain the creature back because that ends the duration of the effect.[/A]"
          },
          "metadata": {}
        },
        {
          "output_type": "stream",
          "name": "stdout",
          "text": [
            "Translated 21-th paragraph in French (of length 191 letters and 33 words)\n"
          ]
        },
        {
          "output_type": "display_data",
          "data": {
            "text/plain": [
              "<IPython.core.display.Markdown object>"
            ],
            "text/markdown": "> Donc, avec la question d'origine, retirer les capacités du Semeur n'arrête pas l'effet de vol. Vous devez retirer le Semeur pour récupérer la créature, car cela met fin à la durée de l'effet."
          },
          "metadata": {}
        },
        {
          "output_type": "stream",
          "name": "stdout",
          "text": [
            "\n",
            "\n",
            "22-th English paragraph (of length 162 letters and 23 words)\n"
          ]
        },
        {
          "output_type": "display_data",
          "data": {
            "text/plain": [
              "<IPython.core.display.Markdown object>"
            ],
            "text/markdown": "> [hr]\n[Q] So continuing with the last question, what if instead of [c]Ovinize[/c]ing the [c]Sower of Temptation[/c] I phased it out with [c]Reality Ripple[/c]?[/Q]"
          },
          "metadata": {}
        },
        {
          "output_type": "stream",
          "name": "stdout",
          "text": [
            "Translated 22-th paragraph in French (of length 193 letters and 26 words)\n"
          ]
        },
        {
          "output_type": "display_data",
          "data": {
            "text/plain": [
              "<IPython.core.display.Markdown object>"
            ],
            "text/markdown": "> [hr] [Q] Donc, en continuant avec la dernière question, que se passerait-il si au lieu de [c]Ovinize[/c]le Semeur de Tentation[/c] je l'éliminais progressivement avec [c]Reality Ripple[/c]?[/Q]"
          },
          "metadata": {}
        },
        {
          "output_type": "stream",
          "name": "stdout",
          "text": [
            "\n",
            "\n",
            "23-th English paragraph (of length 260 letters and 46 words)\n"
          ]
        },
        {
          "output_type": "display_data",
          "data": {
            "text/plain": [
              "<IPython.core.display.Markdown object>"
            ],
            "text/markdown": "> [A] You would get your creature back. If a creature phases out, it's treated as though it's no longer on the battlefield. The duration of its effect has been met, so the effect ends and the stolen creature returns to its last controller, usually its owner.[/A]"
          },
          "metadata": {}
        },
        {
          "output_type": "stream",
          "name": "stdout",
          "text": [
            "Translated 23-th paragraph in French (of length 310 letters and 50 words)\n"
          ]
        },
        {
          "output_type": "display_data",
          "data": {
            "text/plain": [
              "<IPython.core.display.Markdown object>"
            ],
            "text/markdown": "> [A] Vous récupéreriez votre créature. Si une créature sort progressivement, elle est traitée comme si elle n'était plus sur le champ de bataille. La durée de son effet a été atteinte, de sorte que l'effet se termine et que la créature volée retourne à son dernier contrôleur, généralement son propriétaire.[/A]"
          },
          "metadata": {}
        },
        {
          "output_type": "stream",
          "name": "stdout",
          "text": [
            "\n",
            "\n",
            "24-th English paragraph (of length 226 letters and 32 words)\n"
          ]
        },
        {
          "output_type": "display_data",
          "data": {
            "text/plain": [
              "<IPython.core.display.Markdown object>"
            ],
            "text/markdown": "> [hr]\n[Q] I block my opponent's attacking [c]Bear Cub[/c] with [c]Manor Gargoyle[/c]. After combat ends, the opponent then casts [c]Disfigure[/c] targeting my Gargoyle. They claim they just killed my Gargoyle. Is this true?[/Q]"
          },
          "metadata": {}
        },
        {
          "output_type": "stream",
          "name": "stdout",
          "text": [
            "Translated 24-th paragraph in French (of length 247 letters and 35 words)\n"
          ]
        },
        {
          "output_type": "display_data",
          "data": {
            "text/plain": [
              "<IPython.core.display.Markdown object>"
            ],
            "text/markdown": "> [hr] [Q] Je bloque l'attaque de mon adversaire [c]Bear Cub[/c] avec [c]Manor Gargoyle[/c]. Après la fin du combat, l'adversaire lance alors [c]Défigure[/c] ciblant ma Gargouille. Ils prétendent qu'ils viennent de tuer ma Gargoyle. Est-ce vrai?[/Q]"
          },
          "metadata": {}
        },
        {
          "output_type": "stream",
          "name": "stdout",
          "text": [
            "\n",
            "\n",
            "25-th English paragraph (of length 535 letters and 90 words)\n"
          ]
        },
        {
          "output_type": "display_data",
          "data": {
            "text/plain": [
              "<IPython.core.display.Markdown object>"
            ],
            "text/markdown": "> [A] It is not true, your Gargoyle lives through this. Many new players make this same wrong assumption. Damage doesn't reduce toughness. You have a 2/2 Gargoyle with 2 damage marked on it. Because it's indestructible, the state based action that tries to destroy it for having equal or more damage than it has toughness fails to do anything. If they want to get your Gargoyle into the graveyard, they need to give it enough [c=Dismember]-X/-X to make its toughness 0 or less[/c], or force you to [c=Diabolic Edict]sacrifice it[/c].[/A]"
          },
          "metadata": {}
        },
        {
          "output_type": "stream",
          "name": "stdout",
          "text": [
            "Translated 25-th paragraph in French (of length 609 letters and 95 words)\n"
          ]
        },
        {
          "output_type": "display_data",
          "data": {
            "text/plain": [
              "<IPython.core.display.Markdown object>"
            ],
            "text/markdown": "> [A] Ce n'est pas vrai, votre Gargoyle vit à travers cette.Beaucoup de nouveaux joueurs font la même hypothèse erronée.Les dommages ne réduisent pas la ténacité.Vous avez une gargouille 2/2 avec 2 dégâts marqués dessus.Parce qu'il est indestructible, l'action basée sur l'état qui tente de le détruire pour avoir des dégâts égaux ou plus qu'il n'a la dureté ne parvient pas à faire quoi que ce soit..S'ils veulent faire entrer votre Gargouille dans le cimetière, ils doivent lui donner assez de [cDismember]-X/-X pour rendre son endurance 0 ou moins[/c], ou vous forcer à [cDiabolic Edict]sacrifice it[/c].[/A]"
          },
          "metadata": {}
        },
        {
          "output_type": "stream",
          "name": "stdout",
          "text": [
            "\n",
            "\n",
            "26-th English paragraph (of length 120 letters and 20 words)\n"
          ]
        },
        {
          "output_type": "display_data",
          "data": {
            "text/plain": [
              "<IPython.core.display.Markdown object>"
            ],
            "text/markdown": "> [hr]\n[Q] If [c]Ragavan, Nimble Pilferer[/c] is my commander, can I cast him for his dash cost from the command zone?[/Q]"
          },
          "metadata": {}
        },
        {
          "output_type": "stream",
          "name": "stdout",
          "text": [
            "Translated 26-th paragraph in French (of length 141 letters and 24 words)\n"
          ]
        },
        {
          "output_type": "display_data",
          "data": {
            "text/plain": [
              "<IPython.core.display.Markdown object>"
            ],
            "text/markdown": "> [hr] [Q] Si [c]Ragavan, Nimble Pilferer[/c] est mon commandant, puis-je le jeter pour son coût de tableau de bord de la zone de commande?[/Q]"
          },
          "metadata": {}
        },
        {
          "output_type": "stream",
          "name": "stdout",
          "text": [
            "\n",
            "\n",
            "27-th English paragraph (of length 129 letters and 27 words)\n"
          ]
        },
        {
          "output_type": "display_data",
          "data": {
            "text/plain": [
              "<IPython.core.display.Markdown object>"
            ],
            "text/markdown": "> [A] Yes, you can. Dash can be used from any zone, so long as you are allowed to cast that card from that same zone normally. [/A]"
          },
          "metadata": {}
        },
        {
          "output_type": "stream",
          "name": "stdout",
          "text": [
            "Translated 27-th paragraph in French (of length 171 letters and 31 words)\n"
          ]
        },
        {
          "output_type": "display_data",
          "data": {
            "text/plain": [
              "<IPython.core.display.Markdown object>"
            ],
            "text/markdown": "> [A] Oui, vous pouvez. Dash peut être utilisé à partir de n'importe quelle zone, tant que vous êtes autorisé à lancer cette carte à partir de la même zone normalement. [/A]"
          },
          "metadata": {}
        },
        {
          "output_type": "stream",
          "name": "stdout",
          "text": [
            "\n",
            "\n",
            "28-th English paragraph (of length 108 letters and 20 words)\n"
          ]
        },
        {
          "output_type": "display_data",
          "data": {
            "text/plain": [
              "<IPython.core.display.Markdown object>"
            ],
            "text/markdown": "> [hr]\n[Q] Following up with the last question, do I have to pay commander tax if I dash out my commander?[/Q]"
          },
          "metadata": {}
        },
        {
          "output_type": "stream",
          "name": "stdout",
          "text": [
            "Translated 28-th paragraph in French (of length 121 letters and 21 words)\n"
          ]
        },
        {
          "output_type": "display_data",
          "data": {
            "text/plain": [
              "<IPython.core.display.Markdown object>"
            ],
            "text/markdown": "> [hr] [Q] Suite à la dernière question, dois-je payer la taxe de commandant si je me précipite hors de mon commandant?[/Q]"
          },
          "metadata": {}
        },
        {
          "output_type": "stream",
          "name": "stdout",
          "text": [
            "\n",
            "\n",
            "29-th English paragraph (of length 350 letters and 64 words)\n"
          ]
        },
        {
          "output_type": "display_data",
          "data": {
            "text/plain": [
              "<IPython.core.display.Markdown object>"
            ],
            "text/markdown": "> [A] Yes, you do. Suppose you cast Ragavan normally on turn one, then later he died and returned to the command zone. When you go to dash him he now costs [m]3[/m][m]R[/m] to dash. Then if he dies again and returns to the command zone, the next time you go to cast him he costs either [m]4[/m][m]R[/m] to cast normally or [m]5[/m][m]R[/m] to dash.[/A]"
          },
          "metadata": {}
        },
        {
          "output_type": "stream",
          "name": "stdout",
          "text": [
            "Translated 29-th paragraph in French (of length 372 letters and 72 words)\n"
          ]
        },
        {
          "output_type": "display_data",
          "data": {
            "text/plain": [
              "<IPython.core.display.Markdown object>"
            ],
            "text/markdown": "> [A] Oui, vous le faites. Supposons que vous lancez Ragavan normalement au premier tour, puis plus tard il est mort et est retourné à la zone de commande. Lorsque vous allez le lancer, il coûte maintenant [m] 3 [/m] [m] R [/m] à lancer. Puis s'il meurt à nouveau et retourne à la zone de commande, la prochaine fois que vous allez le lancer, il coûte soit [m] 4 [/m] R [/m]"
          },
          "metadata": {}
        },
        {
          "output_type": "stream",
          "name": "stdout",
          "text": [
            "\n",
            "\n",
            "30-th English paragraph (of length 199 letters and 37 words)\n"
          ]
        },
        {
          "output_type": "display_data",
          "data": {
            "text/plain": [
              "<IPython.core.display.Markdown object>"
            ],
            "text/markdown": "> [hr]\n[Q] I have eight cards in my hand. I go to my cleanup step and discard [c]Blazing Rootwalla[/c] to get down to maximum hand size. Can I cast the Rootwalla even though I'm in my cleanup step?[/Q]"
          },
          "metadata": {}
        },
        {
          "output_type": "stream",
          "name": "stdout",
          "text": [
            "Translated 30-th paragraph in French (of length 234 letters and 42 words)\n"
          ]
        },
        {
          "output_type": "display_data",
          "data": {
            "text/plain": [
              "<IPython.core.display.Markdown object>"
            ],
            "text/markdown": "> [hr] [Q] J'ai huit cartes dans ma main. Je vais à mon étape de nettoyage et je jette [c]Blazing Rootwalla[/c] pour descendre à la taille maximale de la main. Puis-je lancer le Rootwalla même si je suis dans mon étape de nettoyage?[/Q]"
          },
          "metadata": {}
        },
        {
          "output_type": "stream",
          "name": "stdout",
          "text": [
            "\n",
            "\n",
            "31-th English paragraph (of length 264 letters and 45 words)\n"
          ]
        },
        {
          "output_type": "display_data",
          "data": {
            "text/plain": [
              "<IPython.core.display.Markdown object>"
            ],
            "text/markdown": "> [A] Yes, you can. During most cleanup steps, no players get priority. However, if an ability triggers during the cleanup step, or a state based action applies during a cleanup step, then the active player gains priority and may cast spells and activate abilities. "
          },
          "metadata": {}
        },
        {
          "output_type": "stream",
          "name": "stdout",
          "text": [
            "Translated 31-th paragraph in French (of length 339 letters and 55 words)\n"
          ]
        },
        {
          "output_type": "display_data",
          "data": {
            "text/plain": [
              "<IPython.core.display.Markdown object>"
            ],
            "text/markdown": "> [A] Oui, vous pouvez. Pendant la plupart des étapes de nettoyage, aucun joueur n'obtient la priorité. Cependant, si une capacité se déclenche pendant l'étape de nettoyage, ou si une action basée sur l'état s'applique pendant une étape de nettoyage, alors le joueur actif gagne en priorité et peut lancer des sorts et activer des capacités."
          },
          "metadata": {}
        },
        {
          "output_type": "stream",
          "name": "stdout",
          "text": [
            "\n",
            "\n",
            "32-th English paragraph (of length 97 letters and 19 words)\n"
          ]
        },
        {
          "output_type": "display_data",
          "data": {
            "text/plain": [
              "<IPython.core.display.Markdown object>"
            ],
            "text/markdown": "> This is when you can cast the Rootwalla, as discarding it to madness puts a trigger on the stack."
          },
          "metadata": {}
        },
        {
          "output_type": "stream",
          "name": "stdout",
          "text": [
            "Translated 32-th paragraph in French (of length 113 letters and 22 words)\n"
          ]
        },
        {
          "output_type": "display_data",
          "data": {
            "text/plain": [
              "<IPython.core.display.Markdown object>"
            ],
            "text/markdown": "> C'est à ce moment-là que vous pouvez lancer le Rootwalla, car le jeter à la folie met un déclencheur sur la pile."
          },
          "metadata": {}
        },
        {
          "output_type": "stream",
          "name": "stdout",
          "text": [
            "\n",
            "\n",
            "33-th English paragraph (of length 350 letters and 65 words)\n"
          ]
        },
        {
          "output_type": "display_data",
          "data": {
            "text/plain": [
              "<IPython.core.display.Markdown object>"
            ],
            "text/markdown": "> A normal priority pass will begin from here and until all players pass in succession with an empty stack, players may add new items to the stack when they have priority. Once all players pass with an empty stack, this cleanup step ends and a new one begins. If that new cleanup ends normally, then the game will move on to the next player's turn.[/A]"
          },
          "metadata": {}
        },
        {
          "output_type": "stream",
          "name": "stdout",
          "text": [
            "Translated 33-th paragraph in French (of length 436 letters and 74 words)\n"
          ]
        },
        {
          "output_type": "display_data",
          "data": {
            "text/plain": [
              "<IPython.core.display.Markdown object>"
            ],
            "text/markdown": "> Une passe de priorité normale commencera à partir d'ici et jusqu'à ce que tous les joueurs passent successivement avec une pile vide, les joueurs peuvent ajouter de nouveaux objets à la pile quand ils ont la priorité. Une fois que tous les joueurs passent avec une pile vide, cette étape de nettoyage se termine et une nouvelle commence. Si ce nouveau nettoyage se termine normalement, alors la partie passera au tour du joueur suivant."
          },
          "metadata": {}
        },
        {
          "output_type": "stream",
          "name": "stdout",
          "text": [
            "\n",
            "\n",
            "34-th English paragraph (of length 295 letters and 46 words)\n"
          ]
        },
        {
          "output_type": "display_data",
          "data": {
            "text/plain": [
              "<IPython.core.display.Markdown object>"
            ],
            "text/markdown": "> [hr]\n[Q] While resolving [c]Burning Inquiry[/c] I discarded [c]Basking Rootwalla[/c] and two [c]Mountain[/c]s. My opponent controls a [c]Rest in Peace[/c]. My opponent claims I can't cast the Rootwalla for its Madness cost as it got exiled by Rest in Peace when I discarded it. Is this true?[/Q]"
          },
          "metadata": {}
        },
        {
          "output_type": "stream",
          "name": "stdout",
          "text": [
            "Translated 34-th paragraph in French (of length 214 letters and 40 words)\n"
          ]
        },
        {
          "output_type": "display_data",
          "data": {
            "text/plain": [
              "<IPython.core.display.Markdown object>"
            ],
            "text/markdown": "> [hr] [Q] Mon adversaire contrôle un [c]Repos en paix[/c]. Mon adversaire prétend que je ne peux pas lancer le Rootwalla pour son coût de folie car il a été exilé par Rest in Peace quand je l'ai rejeté. Est-ce vrai?"
          },
          "metadata": {}
        },
        {
          "output_type": "stream",
          "name": "stdout",
          "text": [
            "\n",
            "\n",
            "35-th English paragraph (of length 564 letters and 106 words)\n"
          ]
        },
        {
          "output_type": "display_data",
          "data": {
            "text/plain": [
              "<IPython.core.display.Markdown object>"
            ],
            "text/markdown": "> [A] Your opponent is wrong. You can cast your Rootwalla for its madness cost. The Rootwalla hasn't been exiled by Rest in Peace yet. This is because madness doesn't quite work the way most people think it does. If a card with madness gets discarded, it goes to exile instead of being put into its owner's graveyard. Then the next time a player would get priority, a trigger allowing its owner to cast it for its madness cost is put on the stack. When this trigger resolves, the owner may cast the card, but if they don't then the card is put into their graveyard. "
          },
          "metadata": {}
        },
        {
          "output_type": "stream",
          "name": "stdout",
          "text": [
            "Translated 35-th paragraph in French (of length 665 letters and 110 words)\n"
          ]
        },
        {
          "output_type": "display_data",
          "data": {
            "text/plain": [
              "<IPython.core.display.Markdown object>"
            ],
            "text/markdown": "> [A] Votre adversaire a tort.Vous pouvez lancer votre Rootwalla pour son coût de folie.Le Rootwalla n'a pas encore été exilé par Rest in Peace.C'est parce que la folie ne fonctionne pas comme la plupart des gens pensent qu'elle fonctionne..Si une carte avec la folie est rejetée, elle va à l'exil au lieu d'être mise dans le cimetière de son propriétaire.Ensuite, la prochaine fois qu'un joueur obtiendra la priorité, un déclencheur permettant à son propriétaire de le lancer pour son coût de folie est mis sur la pile..Lorsque ce déclencheur est résolu, le propriétaire peut lancer la carte, mais s'il ne le fait pas, la carte est placée dans son cimetière..(suite)"
          },
          "metadata": {}
        },
        {
          "output_type": "stream",
          "name": "stdout",
          "text": [
            "\n",
            "\n",
            "36-th English paragraph (of length 193 letters and 37 words)\n"
          ]
        },
        {
          "output_type": "display_data",
          "data": {
            "text/plain": [
              "<IPython.core.display.Markdown object>"
            ],
            "text/markdown": "> To get back to the original question, Rest in Peace can only exile a discarded Madness card after the owner has decided not to cast it for madness and choses to let it go to the graveyard.\n[/A]"
          },
          "metadata": {}
        },
        {
          "output_type": "stream",
          "name": "stdout",
          "text": [
            "Translated 36-th paragraph in French (of length 211 letters and 39 words)\n"
          ]
        },
        {
          "output_type": "display_data",
          "data": {
            "text/plain": [
              "<IPython.core.display.Markdown object>"
            ],
            "text/markdown": "> Pour revenir à la question initiale, Rest in Peace ne peut exiler une carte Madness abandonnée que lorsque le propriétaire a décidé de ne pas la lancer pour la folie et a choisi de la laisser aller au cimetière."
          },
          "metadata": {}
        },
        {
          "output_type": "stream",
          "name": "stdout",
          "text": [
            "\n",
            "\n",
            "37-th English paragraph (of length 276 letters and 46 words)\n"
          ]
        },
        {
          "output_type": "display_data",
          "data": {
            "text/plain": [
              "<IPython.core.display.Markdown object>"
            ],
            "text/markdown": "> [hr]\n[Q] My opponent pays [m]3[/m][m]U[/m] to gain level 2 on their [c]Stormchaser's Talent[/c]. Before it becomes level 2, I [c]Boomerang[/c] it to their hand. The opponent says they still get to return an instant or sorcery to their hand, I say they don't, who is right?[/Q]"
          },
          "metadata": {}
        },
        {
          "output_type": "stream",
          "name": "stdout",
          "text": [
            "Translated 37-th paragraph in French (of length 316 letters and 53 words)\n"
          ]
        },
        {
          "output_type": "display_data",
          "data": {
            "text/plain": [
              "<IPython.core.display.Markdown object>"
            ],
            "text/markdown": "> [hr] [Q] Mon adversaire paie [m]3[/m][m]U[/m] pour gagner le niveau 2 sur son Talent [/c]Stormchaser[/c]. Avant qu'il ne devienne le niveau 2, je [c] Boomerang[/c] à leur main. L'adversaire dit qu'il peut toujours retourner un instant ou de la sorcellerie à leur main, je dis qu'ils ne le font pas, qui a raison?[/Q]"
          },
          "metadata": {}
        },
        {
          "output_type": "stream",
          "name": "stdout",
          "text": [
            "\n",
            "\n",
            "38-th English paragraph (of length 372 letters and 70 words)\n"
          ]
        },
        {
          "output_type": "display_data",
          "data": {
            "text/plain": [
              "<IPython.core.display.Markdown object>"
            ],
            "text/markdown": "> [A] You are correct, they do not. Gaining a level is an ability that uses the stack and can be responded to. Stormchaser's level 2 ability is a trigger that triggers upon it becoming level 2 and happens only after it becomes level 2. If it's not on the battlefield when its level 2 ability resolves, there is no ability to trigger (nor a permanent to become level 2). [/A]"
          },
          "metadata": {}
        },
        {
          "output_type": "stream",
          "name": "stdout",
          "text": [
            "Translated 38-th paragraph in French (of length 440 letters and 76 words)\n"
          ]
        },
        {
          "output_type": "display_data",
          "data": {
            "text/plain": [
              "<IPython.core.display.Markdown object>"
            ],
            "text/markdown": "> Tu as raison, ils n'ont pas.Gagner un niveau est une capacité qui utilise la pile et à laquelle on peut répondre..La capacité de niveau 2 de Stormchaser est un déclencheur qui se déclenche lorsqu'il devient de niveau 2 et n'arrive qu'après qu'il devienne de niveau 2..S'il n'est pas sur le champ de bataille lorsque sa capacité de niveau 2 est résolue, il n'y a pas de capacité de déclenchement (ni de permanent pour devenir niveau 2)..[/A]"
          },
          "metadata": {}
        },
        {
          "output_type": "stream",
          "name": "stdout",
          "text": [
            "\n",
            "\n",
            "39-th English paragraph (of length 292 letters and 42 words)\n"
          ]
        },
        {
          "output_type": "display_data",
          "data": {
            "text/plain": [
              "<IPython.core.display.Markdown object>"
            ],
            "text/markdown": "> [hr]\n[cright=Bear Cub|PO2]Alex, the answer is \"What is another\nname for Ursine Child?\"[/cright][Q] I enchanted my opponent's [c]Bear Cub[/c] with my [c]Sigil of Sleep[/c]. If the Bear Cub goes unblocked attacking me, who chooses which creature I control gets returned to its owner's hand?[/Q]"
          },
          "metadata": {}
        },
        {
          "output_type": "stream",
          "name": "stdout",
          "text": [
            "Translated 39-th paragraph in French (of length 183 letters and 28 words)\n"
          ]
        },
        {
          "output_type": "display_data",
          "data": {
            "text/plain": [
              "<IPython.core.display.Markdown object>"
            ],
            "text/markdown": "> [hr] [crightBear CubPO2]Alex, la réponse est \"Quel est un autre nom pour Ursine Child ?\"[/cright][Q] J'ai enchanté le [c]Bear Cub[/c] de mon adversaire avec mon [c]Sigil of Sleep[/c]."
          },
          "metadata": {}
        },
        {
          "output_type": "stream",
          "name": "stdout",
          "text": [
            "\n",
            "\n",
            "40-th English paragraph (of length 60 letters and 12 words)\n"
          ]
        },
        {
          "output_type": "display_data",
          "data": {
            "text/plain": [
              "<IPython.core.display.Markdown object>"
            ],
            "text/markdown": "> [A] You get to choose as you control the Sigil of Sleep.[/A]"
          },
          "metadata": {}
        },
        {
          "output_type": "stream",
          "name": "stdout",
          "text": [
            "Translated 40-th paragraph in French (of length 60 letters and 10 words)\n"
          ]
        },
        {
          "output_type": "display_data",
          "data": {
            "text/plain": [
              "<IPython.core.display.Markdown object>"
            ],
            "text/markdown": "> [A] Vous pouvez choisir en contrôlant le Sigil of Sleep.[/A]"
          },
          "metadata": {}
        },
        {
          "output_type": "stream",
          "name": "stdout",
          "text": [
            "\n",
            "\n",
            "41-th English paragraph (of length 175 letters and 29 words)\n"
          ]
        },
        {
          "output_type": "display_data",
          "data": {
            "text/plain": [
              "<IPython.core.display.Markdown object>"
            ],
            "text/markdown": "> [hr]\n[Q] I attack with [c]Geist of Saint Traft[/c] while I control [c]Anointed Procession[/c]. When combat ends, will both Angel tokens get exiled or do I get to keep one?[/Q]"
          },
          "metadata": {}
        },
        {
          "output_type": "stream",
          "name": "stdout",
          "text": [
            "Translated 41-th paragraph in French (of length 208 letters and 34 words)\n"
          ]
        },
        {
          "output_type": "display_data",
          "data": {
            "text/plain": [
              "<IPython.core.display.Markdown object>"
            ],
            "text/markdown": "> [hr] [Q] J'attaque avec [c]Geist de Saint Traft[/c] pendant que je contrôle [c]Procession ointe[/c]. Quand le combat se termine, les deux jetons Ange seront-ils exilés ou est-ce que je peux en garder un ?[/Q]"
          },
          "metadata": {}
        },
        {
          "output_type": "stream",
          "name": "stdout",
          "text": [
            "\n",
            "\n",
            "42-th English paragraph (of length 232 letters and 39 words)\n"
          ]
        },
        {
          "output_type": "display_data",
          "data": {
            "text/plain": [
              "<IPython.core.display.Markdown object>"
            ],
            "text/markdown": "> [A] Both still get exiled. Saint Traft's triggered ability still made both tokens and tracks them to be exiled at the end of combat. Procession doesn't make tokens, it just changes how many tokens other cards and abilities make.[/A]"
          },
          "metadata": {}
        },
        {
          "output_type": "stream",
          "name": "stdout",
          "text": [
            "Translated 42-th paragraph in French (of length 278 letters and 50 words)\n"
          ]
        },
        {
          "output_type": "display_data",
          "data": {
            "text/plain": [
              "<IPython.core.display.Markdown object>"
            ],
            "text/markdown": "> [A] Les deux sont toujours exilés. La capacité déclenchée de Saint Traft a toujours fait les deux jetons et les suit pour être exilés à la fin du combat. La procession ne fait pas de jetons, elle change simplement le nombre de jetons que font les autres cartes et capacités.[/A]"
          },
          "metadata": {}
        },
        {
          "output_type": "stream",
          "name": "stdout",
          "text": [
            "\n",
            "\n",
            "43-th English paragraph (of length 221 letters and 39 words)\n"
          ]
        },
        {
          "output_type": "display_data",
          "data": {
            "text/plain": [
              "<IPython.core.display.Markdown object>"
            ],
            "text/markdown": "> [hr]\n[Q] I attack with [c]Geist of Saint Traft[/c], but before blocks, I cast [c]Eyes in the Skies[/c] choosing to populate the Angel token. When combat ends, will both Angel tokens get exiled or do I get to keep one?[/Q]"
          },
          "metadata": {}
        },
        {
          "output_type": "stream",
          "name": "stdout",
          "text": [
            "Translated 43-th paragraph in French (of length 265 letters and 46 words)\n"
          ]
        },
        {
          "output_type": "display_data",
          "data": {
            "text/plain": [
              "<IPython.core.display.Markdown object>"
            ],
            "text/markdown": "> [hr] [Q] J'attaque avec [c]Geist of Saint Traft[/c], mais avant les blocs, je lance [c]Eyes in the Skies[/c] en choisissant de remplir le jeton Angel. Quand le combat se termine, est-ce que les deux jetons Angel seront exilés ou est-ce que je peux en garder un?[/Q]"
          },
          "metadata": {}
        },
        {
          "output_type": "stream",
          "name": "stdout",
          "text": [
            "\n",
            "\n",
            "44-th English paragraph (of length 341 letters and 65 words)\n"
          ]
        },
        {
          "output_type": "display_data",
          "data": {
            "text/plain": [
              "<IPython.core.display.Markdown object>"
            ],
            "text/markdown": "> [A] You get to keep the one made by Eyes in the Skies. Unlike Anointed Procession from the last question, Eyes in the Skies makes the token and the token has no link to the ability that made the original Angel token. This includes that the second Angel token is not attacking, is not tapped, and it won't get exiled at the end of combat.[/A]"
          },
          "metadata": {}
        },
        {
          "output_type": "stream",
          "name": "stdout",
          "text": [
            "Translated 44-th paragraph in French (of length 360 letters and 69 words)\n"
          ]
        },
        {
          "output_type": "display_data",
          "data": {
            "text/plain": [
              "<IPython.core.display.Markdown object>"
            ],
            "text/markdown": "> [A] Vous obtenez de garder celui fait par les yeux dans les cieux. Contrairement à la procession ointe de la dernière question, les yeux dans les cieux fait le jeton et le jeton n'a aucun lien avec la capacité qui a fait le jeton Ange original. Cela inclut que le deuxième jeton Ange n'attaque pas, n'est pas tapoté, et il ne sera pas exilé à la fin du combat."
          },
          "metadata": {}
        },
        {
          "output_type": "stream",
          "name": "stdout",
          "text": [
            "\n",
            "\n",
            "45-th English paragraph (of length 110 letters and 16 words)\n"
          ]
        },
        {
          "output_type": "display_data",
          "data": {
            "text/plain": [
              "<IPython.core.display.Markdown object>"
            ],
            "text/markdown": "> [hr]\n[Q] I don't understand what [c]Emrakul, the World Anew[/c] has protection from. Can you clarify this?[/Q]"
          },
          "metadata": {}
        },
        {
          "output_type": "stream",
          "name": "stdout",
          "text": [
            "Translated 45-th paragraph in French (of length 111 letters and 17 words)\n"
          ]
        },
        {
          "output_type": "display_data",
          "data": {
            "text/plain": [
              "<IPython.core.display.Markdown object>"
            ],
            "text/markdown": "> [hr] [Q] Je ne comprends pas de quoi [c]Emrakul, le Monde Anew[/c] est protégé. Pouvez-vous clarifier cela?[/Q]"
          },
          "metadata": {}
        },
        {
          "output_type": "stream",
          "name": "stdout",
          "text": [
            "\n",
            "\n",
            "46-th English paragraph (of length 205 letters and 34 words)\n"
          ]
        },
        {
          "output_type": "display_data",
          "data": {
            "text/plain": [
              "<IPython.core.display.Markdown object>"
            ],
            "text/markdown": "> [A] Emrakul has protection from spells and separately protection from permanents cast \"this turn\". This turn is whichever turn it currently is, even if it's been many turns since Emrakul herself was cast. "
          },
          "metadata": {}
        },
        {
          "output_type": "stream",
          "name": "stdout",
          "text": [
            "Translated 46-th paragraph in French (of length 229 letters and 37 words)\n"
          ]
        },
        {
          "output_type": "display_data",
          "data": {
            "text/plain": [
              "<IPython.core.display.Markdown object>"
            ],
            "text/markdown": "> [A] Emrakul a une protection contre les sorts et une protection séparée contre les permanents lancés \"ce tour\". Ce tour est celui qu'il est actuellement, même si cela fait plusieurs tours depuis qu'Emrakul elle-même a été lancée."
          },
          "metadata": {}
        },
        {
          "output_type": "stream",
          "name": "stdout",
          "text": [
            "\n",
            "\n",
            "47-th English paragraph (of length 420 letters and 74 words)\n"
          ]
        },
        {
          "output_type": "display_data",
          "data": {
            "text/plain": [
              "<IPython.core.display.Markdown object>"
            ],
            "text/markdown": "> So for example, if I cast [c]Visara the Dreadful[/c] and gave her some [c]Lightning Greaves[/c] the same turn I cast her, she can't target and destroy Emrakul that turn. However, if I pass to my opponent's turn, Visara can now kill Emrakul as it's no longer the same turn Visara was cast. If I used [c]Goryo's Vengeance[/c] to reanimate Visara, then Visara could kill Emrakul that same turn as Visara wasn't cast at all."
          },
          "metadata": {}
        },
        {
          "output_type": "stream",
          "name": "stdout",
          "text": [
            "Translated 47-th paragraph in French (of length 454 letters and 74 words)\n"
          ]
        },
        {
          "output_type": "display_data",
          "data": {
            "text/plain": [
              "<IPython.core.display.Markdown object>"
            ],
            "text/markdown": "> Ainsi, par exemple, si je lance [c]Visara l'Effroyable [/c] et lui donne quelques [c]Lightning Greaves [/c] le même tour que je la lance, elle ne peut pas cibler et détruire Emrakul qui tourne.Cependant, si je passe au tour de mon adversaire, Visara peut maintenant tuer Emrakul car ce n'est plus le même tour que Visara a été jeté..Si j'utilisais [c]Goryo's Vengeance[/c] pour réanimer Visara, alors Visara pourrait tuer Emrakul le même tour que Visara."
          },
          "metadata": {}
        },
        {
          "output_type": "stream",
          "name": "stdout",
          "text": [
            "\n",
            "\n",
            "48-th English paragraph (of length 368 letters and 60 words)\n"
          ]
        },
        {
          "output_type": "display_data",
          "data": {
            "text/plain": [
              "<IPython.core.display.Markdown object>"
            ],
            "text/markdown": "> Emrakul's protection ability acts similar to having protection from Auras. Auras when cast target what they will enchant, so Emrakul is safe from most Auras. However, on later turns, an Aura could be moved from its original target, to enchant Emrakul. For example, you could move [c]Pacifism[/c] from a 1/1 Goblin token to Emrakul using [c]Crown of the Ages[/c]. \n[/A]"
          },
          "metadata": {}
        },
        {
          "output_type": "stream",
          "name": "stdout",
          "text": [
            "Translated 48-th paragraph in French (of length 439 letters and 63 words)\n"
          ]
        },
        {
          "output_type": "display_data",
          "data": {
            "text/plain": [
              "<IPython.core.display.Markdown object>"
            ],
            "text/markdown": "> La capacité de protection d'Emrakul est similaire à celle d'une protection contre les auras.Les auras quand elles sont lancées ciblent ce qu'elles enchanteront, donc Emrakul est à l'abri de la plupart des auras..Cependant, plus tard, une aura pourrait être déplacée de sa cible d'origine, pour enchanter Emrakul..Par exemple, vous pouvez déplacer [c]Pacifisme[/c] d'un jeton 1/1 Gobelin à Emrakul en utilisant [c]Couronne des âges[/c].[/A]"
          },
          "metadata": {}
        },
        {
          "output_type": "stream",
          "name": "stdout",
          "text": [
            "\n",
            "\n",
            "49-th English paragraph (of length 264 letters and 44 words)\n"
          ]
        },
        {
          "output_type": "display_data",
          "data": {
            "text/plain": [
              "<IPython.core.display.Markdown object>"
            ],
            "text/markdown": "> [hr]\n[Q] I cast [c]Season of Weaving[/c] choosing the two paws mode (to copy my [c]Arcanis the Omnipotent[/c]) and the three paws mode. Will I have to put one Arcanis into my graveyard due to the legend rule before bouncing all nonland and nontoken permanents?[/Q]"
          },
          "metadata": {}
        },
        {
          "output_type": "stream",
          "name": "stdout",
          "text": [
            "Translated 49-th paragraph in French (of length 309 letters and 50 words)\n"
          ]
        },
        {
          "output_type": "display_data",
          "data": {
            "text/plain": [
              "<IPython.core.display.Markdown object>"
            ],
            "text/markdown": "> [hr] [Q] Je lance [c]Season of Weaving[/c] en choisissant le mode à deux pattes (pour copier mon [c]Arcanis l'Omnipotent[/c]) et le mode à trois pattes. Devrai-je mettre un Arcanis dans mon cimetière en raison de la règle de légende avant de rebondir tous les permanents non terrestres et non symboliques?[/Q]"
          },
          "metadata": {}
        },
        {
          "output_type": "stream",
          "name": "stdout",
          "text": [
            "\n",
            "\n",
            "50-th English paragraph (of length 285 letters and 51 words)\n"
          ]
        },
        {
          "output_type": "display_data",
          "data": {
            "text/plain": [
              "<IPython.core.display.Markdown object>"
            ],
            "text/markdown": "> [A] You will not and you can not. The legend rule is a state based action. It's never checked in the middle of resolving a spell. You will put the original Arcanis into your hand before Season of Weaving fully resolves. The legend rule doesn't come into play during this situation.[/A]"
          },
          "metadata": {}
        },
        {
          "output_type": "stream",
          "name": "stdout",
          "text": [
            "Translated 50-th paragraph in French (of length 343 letters and 62 words)\n"
          ]
        },
        {
          "output_type": "display_data",
          "data": {
            "text/plain": [
              "<IPython.core.display.Markdown object>"
            ],
            "text/markdown": "> [A] Vous ne le ferez pas et vous ne pouvez pas. La règle de la légende est une action basée sur l'état. Elle n'est jamais vérifiée au milieu de la résolution d'un sort. Vous mettrez l'Arcanis original dans votre main avant que la saison de tissage ne soit entièrement résolue. La règle de la légende n'entre pas en jeu pendant cette situation."
          },
          "metadata": {}
        },
        {
          "output_type": "stream",
          "name": "stdout",
          "text": [
            "\n",
            "\n",
            "51-th English paragraph (of length 273 letters and 44 words)\n"
          ]
        },
        {
          "output_type": "display_data",
          "data": {
            "text/plain": [
              "<IPython.core.display.Markdown object>"
            ],
            "text/markdown": "> [hr]\n[Q] If I cast [c]Righteous Confluence[/c] choosing mode two once to exile my opponent's [c]Leyline of Sanctity[/c] and mode three twice to gain 10 total life, and the opponent responds by [c]Boomerang[/c]ing the Leyline back to their hand, do I still gain 10 life?[/Q]"
          },
          "metadata": {}
        },
        {
          "output_type": "stream",
          "name": "stdout",
          "text": [
            "Translated 51-th paragraph in French (of length 331 letters and 58 words)\n"
          ]
        },
        {
          "output_type": "display_data",
          "data": {
            "text/plain": [
              "<IPython.core.display.Markdown object>"
            ],
            "text/markdown": "> [hr] [Q] Si je lance [c]Confluence juste[/c] en choisissant le mode deux une fois pour exiler la [c]Ligne de sainteté de mon adversaire[/c] et le mode trois deux fois pour gagner 10 points de vie, et que l'adversaire répond en [c]Boomerang[/c]en remettant la Leyline à sa main, est-ce que je gagne quand même 10 points de vie ?[/Q]"
          },
          "metadata": {}
        },
        {
          "output_type": "stream",
          "name": "stdout",
          "text": [
            "\n",
            "\n",
            "52-th English paragraph (of length 227 letters and 42 words)\n"
          ]
        },
        {
          "output_type": "display_data",
          "data": {
            "text/plain": [
              "<IPython.core.display.Markdown object>"
            ],
            "text/markdown": "> [A] You do not. Righteous Confluence had only one target, Leyline of Sanctity, and that target has disappeared. If a spell loses all of its targets by the time it goes to resolve, it fizzles and none of its effects happen. [/A]"
          },
          "metadata": {}
        },
        {
          "output_type": "stream",
          "name": "stdout",
          "text": [
            "Translated 52-th paragraph in French (of length 237 letters and 44 words)\n"
          ]
        },
        {
          "output_type": "display_data",
          "data": {
            "text/plain": [
              "<IPython.core.display.Markdown object>"
            ],
            "text/markdown": "> [A] Vous ne l'avez pas. Confluence Juste n'avait qu'une seule cible, Leyline of Sanctity, et cette cible a disparu. Si un sort perd toutes ses cibles au moment où il va se résoudre, il s'écroule et aucun de ses effets ne se produit. [/A]"
          },
          "metadata": {}
        },
        {
          "output_type": "stream",
          "name": "stdout",
          "text": [
            "\n",
            "\n",
            "53-th English paragraph (of length 280 letters and 53 words)\n"
          ]
        },
        {
          "output_type": "display_data",
          "data": {
            "text/plain": [
              "<IPython.core.display.Markdown object>"
            ],
            "text/markdown": "> [hr]\n[Q] I just cast [c]Cultivate[/c] putting a [c]Swamp[/c] onto the battlefield and a [c]Forest[/c] into my hand. I haven't played a land from my hand yet this turn. Can I still play the Forest as my land drop for the turn, or did the Swamp use up my land drop for the turn?[/Q]"
          },
          "metadata": {}
        },
        {
          "output_type": "stream",
          "name": "stdout",
          "text": [
            "Translated 53-th paragraph in French (of length 308 letters and 56 words)\n"
          ]
        },
        {
          "output_type": "display_data",
          "data": {
            "text/plain": [
              "<IPython.core.display.Markdown object>"
            ],
            "text/markdown": "> [hr] [Q] Je viens de lancer [c]Cultivate[/c] mettre un [c]Swamp[/c] sur le champ de bataille et un [c]Forest[/c] dans ma main. Je n'ai pas encore joué une terre de ma main ce tour. Puis-je encore jouer la forêt comme ma terre tomber pour le tour, ou le marais a-t-il utilisé ma terre tomber pour le tour?[/Q]"
          },
          "metadata": {}
        },
        {
          "output_type": "stream",
          "name": "stdout",
          "text": [
            "\n",
            "\n",
            "54-th English paragraph (of length 142 letters and 27 words)\n"
          ]
        },
        {
          "output_type": "display_data",
          "data": {
            "text/plain": [
              "<IPython.core.display.Markdown object>"
            ],
            "text/markdown": "> [A] You may still play the Forest. Putting a land onto the battlefield with a spell or ability doesn't use up your one land drop per turn.[/A]"
          },
          "metadata": {}
        },
        {
          "output_type": "stream",
          "name": "stdout",
          "text": [
            "Translated 54-th paragraph in French (of length 169 letters and 31 words)\n"
          ]
        },
        {
          "output_type": "display_data",
          "data": {
            "text/plain": [
              "<IPython.core.display.Markdown object>"
            ],
            "text/markdown": "> [A] Vous pouvez toujours jouer à la Forêt. Mettre une terre sur le champ de bataille avec un sort ou une capacité n'épuise pas votre seule largage de terre par tour.[/A]"
          },
          "metadata": {}
        },
        {
          "output_type": "stream",
          "name": "stdout",
          "text": [
            "\n",
            "\n",
            "55-th English paragraph (of length 4 letters and 1 words)\n"
          ]
        },
        {
          "output_type": "display_data",
          "data": {
            "text/plain": [
              "<IPython.core.display.Markdown object>"
            ],
            "text/markdown": "> [hr]"
          },
          "metadata": {}
        },
        {
          "output_type": "stream",
          "name": "stdout",
          "text": [
            "Translated 55-th paragraph in French (of length 4 letters and 1 words)\n"
          ]
        },
        {
          "output_type": "display_data",
          "data": {
            "text/plain": [
              "<IPython.core.display.Markdown object>"
            ],
            "text/markdown": "> [hr]"
          },
          "metadata": {}
        },
        {
          "output_type": "stream",
          "name": "stdout",
          "text": [
            "\n",
            "\n",
            "56-th English paragraph (of length 1037 letters and 175 words)\n"
          ]
        },
        {
          "output_type": "display_data",
          "data": {
            "text/plain": [
              "<IPython.core.display.Markdown object>"
            ],
            "text/markdown": "> Each Question in my last article had a hidden reference to a different pop-culture pig. With ten different questions there were ten different pigs. The spoiler below has the answer key to those references.\n[spoiler]\nQuestion 1) Charlotte's Web - Wilbur the Pig and Charlotte the Spider\nQuestion 2) Jim Henson's Muppets - Miss Piggy, Kermit the Frog, and Fozzie Bear.\nQuestion 3) The Three Little Pigs and the Big Bad Wolf\nQuestion 4) Angry Birds Video Game (Birds vs Pigs)\nQuestion 5) Looney Tunes - Bugs Bunny, Porky Pig, and Daffy Duck\nQuestion 6) Babe the 1995 Movie - Babe the Pig, Sheep for Babe to herd, and Farmer Arthur Hoggett\nQuestion 7) Legend of Zelda - Link an Elf Warrior, Zelda an Elf Noble, and Ganon (pig form of Ganondorf)\nQuestion 8) The Lion King - Timon the Meerkat, Pumbaa the Warthog, and some Hyenas for them to fight.\nQuestion 9) Toy Story - Woody the Cowboy, Buzz the Spaceman, Rex the T-Rex, and Hamm the Piggy Bank.\nQuestion 10) Winnie the Pooh - Pooh the Bear, Tigger the Tiger, and Piglet the Pig.[/spoiler]"
          },
          "metadata": {}
        },
        {
          "output_type": "stream",
          "name": "stdout",
          "text": [
            "Translated 56-th paragraph in French (of length 897 letters and 148 words)\n"
          ]
        },
        {
          "output_type": "display_data",
          "data": {
            "text/plain": [
              "<IPython.core.display.Markdown object>"
            ],
            "text/markdown": "> Chaque question de mon dernier article contenait une référence cachée à un cochon de culture pop différent..Avec dix questions différentes, il y avait dix cochons différents..Le spoiler ci-dessous a la clé de réponse à ces références.[spoiler] Question 1) Charlotte's Web - Wilbur le cochon et Charlotte l'araignée Question 2) Jim Henson's Muppets - Miss Piggy, Kermit la grenouille et Fozzie Bear.Question 3) Les trois petits cochons et le grand méchant loup Question 4) Angry Birds Jeu vidéo (Oiseaux vs cochons) Question 5) Looney Tunes - Bugs Bunny, Porky Pig et Daffy Duck Question 6) Babe the 1995 Movie - Babe the Pig, Sheep for Babe to troupeau, et le fermier Arthur Hoggett Question 7) Legend of Zelda - Link an Elf Warrior.Toy Story - Woody le Cowboy, Buzz le Spaceman, Rex le T-Rex, et Hamm la tirelire.Winnie l'ourson - L'ourson l'ourson, Tigrou le tigre et Cochon le cochon.[/spoiler]"
          },
          "metadata": {}
        },
        {
          "output_type": "stream",
          "name": "stdout",
          "text": [
            "\n",
            "\n",
            "57-th English paragraph (of length 62 letters and 10 words)\n"
          ]
        },
        {
          "output_type": "display_data",
          "data": {
            "text/plain": [
              "<IPython.core.display.Markdown object>"
            ],
            "text/markdown": "> - Justin Hovdenes AKA Hovey\nLevel 2 Magic Judge\nRapid City, SD"
          },
          "metadata": {}
        },
        {
          "output_type": "stream",
          "name": "stdout",
          "text": [
            "Translated 57-th paragraph in French (of length 65 letters and 12 words)\n"
          ]
        },
        {
          "output_type": "display_data",
          "data": {
            "text/plain": [
              "<IPython.core.display.Markdown object>"
            ],
            "text/markdown": "> - Justin Hovdenes alias Hovey Niveau 2 Magic Judge Rapid City, SD"
          },
          "metadata": {}
        },
        {
          "output_type": "stream",
          "name": "stdout",
          "text": [
            "CPU times: user 41.9 s, sys: 108 ms, total: 42.1 s\n",
            "Wall time: 43.3 s\n"
          ]
        }
      ]
    },
    {
      "cell_type": "markdown",
      "source": [
        "40 seconds to generate these 57 first draft of translation, I think that's a great performance!"
      ],
      "metadata": {
        "id": "rMMsps8ZeclM"
      }
    },
    {
      "cell_type": "code",
      "source": [
        "latest_article_link = f\"https://www.cranial-insertion.com/article/{article_id}\"\n",
        "print(\"- The latest article is here:\", latest_article_link)\n",
        "print(\"- It was published on:\", latest_article_published_data)\n",
        "print(\"- The article ID is:\", article_id)"
      ],
      "metadata": {
        "colab": {
          "base_uri": "https://localhost:8080/"
        },
        "id": "f-PSDxuofAG7",
        "outputId": "1cf86922-ee70-4264-e606-7886872ef7c0"
      },
      "execution_count": 30,
      "outputs": [
        {
          "output_type": "stream",
          "name": "stdout",
          "text": [
            "- The latest article is here: https://www.cranial-insertion.com/article/4376\n",
            "- It was published on: Mon, 31 Mar 2025 00:00:00 EDT\n",
            "- The article ID is: 4376\n"
          ]
        }
      ]
    },
    {
      "cell_type": "code",
      "source": [
        "print(\"- Its title in English is:\")\n",
        "print_paragraph(latest_article_title)\n",
        "latest_article_title_french = en2fr(latest_article_title)\n",
        "print(\"- A suggestion of a title in French is:\")\n",
        "print_paragraph(latest_article_title_french)"
      ],
      "metadata": {
        "colab": {
          "base_uri": "https://localhost:8080/",
          "height": 142
        },
        "id": "1_WTyCzQfVwY",
        "outputId": "70c6bd63-83bd-4c9a-910a-29dbbced5b62"
      },
      "execution_count": 31,
      "outputs": [
        {
          "output_type": "stream",
          "name": "stdout",
          "text": [
            "- Its title in English is:\n"
          ]
        },
        {
          "output_type": "display_data",
          "data": {
            "text/plain": [
              "<IPython.core.display.Markdown object>"
            ],
            "text/markdown": "> Cranial Insertion: All in Jeopardy (Can you answer in the form of a question?)"
          },
          "metadata": {}
        },
        {
          "output_type": "stream",
          "name": "stdout",
          "text": [
            "- A suggestion of a title in French is:\n"
          ]
        },
        {
          "output_type": "display_data",
          "data": {
            "text/plain": [
              "<IPython.core.display.Markdown object>"
            ],
            "text/markdown": "> Cranial Insertion: All in Jeopardy (Pouvez-vous répondre sous la forme d'une question?)"
          },
          "metadata": {}
        }
      ]
    },
    {
      "cell_type": "markdown",
      "source": [
        "Let's now generate the content to write to the Google doc:\n",
        "\n",
        "Google doc does **not** support Markdown markup, of course (it's more a clone of Microsoft Word), so the markup I use below is not rendered correctly by default. There is a hack below for that (for titles and lists, nothing more)."
      ],
      "metadata": {
        "id": "bd_MKTebqDq6"
      }
    },
    {
      "cell_type": "code",
      "source": [
        "def generate_content_to_write(article_id, article_paragraphs, translated_paragraphs, translate=False):\n",
        "\n",
        "    latest_article_link = f\"https://www.cranial-insertion.com/article/{article_id}\"\n",
        "\n",
        "    entire_content_to_write = f\"\"\"\n",
        "    # TITLE: « {latest_article_title} »\n",
        "\n",
        "    - Une suggestion pour la traduction de ce titre en français est :\n",
        "    TITRE : « {latest_article_title_french} »\n",
        "\n",
        "    - Le dernier article vient de cette page web : {latest_article_link}\n",
        "    - Il a été publié le : {latest_article_published_data}\n",
        "\n",
        "    -----------------------------------------------------\n",
        "    \"\"\"\n",
        "\n",
        "    for i in range(len(article_paragraphs)):\n",
        "        paragraph = article_paragraphs[i]\n",
        "        #print(f\"\\n\\n{i}-th English paragraph: \")\n",
        "\n",
        "        if translate:\n",
        "            paragraph = paragraph.replace(\"\\n\", \"\\n    \")\n",
        "            entire_content_to_write += f\"\\n\\n    {paragraph}\"\n",
        "            translated_paragraph = translated_paragraphs[i]\n",
        "            #print(f\"Translated {i}-th paragraph in French: \")\n",
        "            entire_content_to_write += f\"\\n\\n{translated_paragraph}\"\n",
        "        else:\n",
        "            entire_content_to_write += f\"\\n\\n{paragraph}\"\n",
        "\n",
        "    return entire_content_to_write"
      ],
      "metadata": {
        "id": "c7tNZkMueaZW"
      },
      "execution_count": 91,
      "outputs": []
    },
    {
      "cell_type": "markdown",
      "source": [
        "We are now ready to us the previous functions:"
      ],
      "metadata": {
        "id": "PON1DEVH56TX"
      }
    },
    {
      "cell_type": "code",
      "source": [
        "%%time\n",
        "\n",
        "article_id = get_latest_article_id()\n",
        "\n",
        "article_id, latest_article_text, article_paragraphs, translated_paragraphs = get_and_translate_article_text(article_id)\n",
        "\n",
        "entire_content_to_write = generate_content_to_write(article_id, article_paragraphs, translated_paragraphs)\n",
        "\n",
        "print(\"The entire content to write is:\")\n",
        "print_paragraph(entire_content_to_write)"
      ],
      "metadata": {
        "id": "3si97HMw4Owa"
      },
      "execution_count": null,
      "outputs": []
    },
    {
      "cell_type": "markdown",
      "source": [
        "---------\n",
        "\n",
        "## Great! Now, let's upload this text automatically to a new tab in our Google doc!\n",
        "\n",
        "First, I'll use a personnal Google doc, to test things out."
      ],
      "metadata": {
        "id": "xaYhOfotSK7u"
      }
    },
    {
      "cell_type": "code",
      "source": [
        "print_paragraph(entire_content_to_write[:1000])"
      ],
      "metadata": {
        "colab": {
          "base_uri": "https://localhost:8080/",
          "height": 364
        },
        "id": "J-1pXpvsqobC",
        "outputId": "2eb7ffb0-dd05-4c44-944b-5b233d981f4c"
      },
      "execution_count": 115,
      "outputs": [
        {
          "output_type": "display_data",
          "data": {
            "text/plain": [
              "<IPython.core.display.Markdown object>"
            ],
            "text/markdown": "> \n# TITLE: « Cranial Insertion: All in Jeopardy (Can you answer in the form of a question?) »\n\nA suggestion of a translation of this title in French is:\nTITRE : « Cranial Insertion: All in Jeopardy (Pouvez-vous répondre sous la forme d'une question?) »\n\n- It was published on: Mon, 31 Mar 2025 00:00:00 EDT\n- The article ID is: 4376\n- The latest article is from this webpage:\n    http://www.cranial-insertion.com/article/4376\n\n-----------------------------------------------------\n\n\n> [cright=Living Death]\"Alex, the answer is \"What would be an\nexample of an oximoron?\"[/cright]\n\n[crightLiving Death]\"Alex, la réponse est \"Quel serait un exemple d'oximoron?\"[/cright]\n\n> Today we have a collection of questions found on the IRC Chatroom #magicjudges-rules and the Facebook group Ask the Judge - [b]Magic[/b]: The Gathering Rules and Policy Questions. Feel free to join us in either or both groups.\n\nAujourd'hui, nous avons une collection de questions trouvées sur le IRC Chatroom magicjudges-rules et "
          },
          "metadata": {}
        }
      ]
    },
    {
      "cell_type": "code",
      "source": [
        "our_google_doc_url = \"https://docs.google.com/document/d/1DzS5Fq6iug9qnxwP0iAehLIBrTM8iQL50-AKO8REaDo/edit?usp=sharing\"\n",
        "print(\"The Google doc URL is:\")\n",
        "print(our_google_doc_url)\n",
        "\n",
        "our_google_doc_id = our_google_doc_url.split(\"/\")[-2]\n",
        "print(\"The Google doc ID is:\")\n",
        "print(our_google_doc_id)"
      ],
      "metadata": {
        "colab": {
          "base_uri": "https://localhost:8080/"
        },
        "id": "FK81Q1nLR3av",
        "outputId": "5ceede14-2291-47f2-e980-c93398be19e1"
      },
      "execution_count": 33,
      "outputs": [
        {
          "output_type": "stream",
          "name": "stdout",
          "text": [
            "The Google doc URL is:\n",
            "https://docs.google.com/document/d/1DzS5Fq6iug9qnxwP0iAehLIBrTM8iQL50-AKO8REaDo/edit?usp=sharing\n",
            "The Google doc ID is:\n",
            "1DzS5Fq6iug9qnxwP0iAehLIBrTM8iQL50-AKO8REaDo\n"
          ]
        }
      ]
    },
    {
      "cell_type": "markdown",
      "source": [
        "Let's try to write a text in a new tab of this Google doc.\n",
        "It requires this code:"
      ],
      "metadata": {
        "id": "o6D9LJh7bI7n"
      }
    },
    {
      "cell_type": "code",
      "source": [
        "from googleapiclient.discovery import build\n",
        "from google.colab import auth\n",
        "\n",
        "auth.authenticate_user()"
      ],
      "metadata": {
        "id": "m7MTa4VvcXYB"
      },
      "execution_count": 34,
      "outputs": []
    },
    {
      "cell_type": "code",
      "source": [
        "default_content_to_write_to_this_google_doc = \"\"\"\n",
        "# Title of level 1\n",
        "## Title of level 2\n",
        "### Title of level 3\n",
        "\n",
        "*Hello, world!*\n",
        "**WHO awesome!**\n",
        "\n",
        "> Sent from a Google colab notebook running Python! Code by @Naereen\n",
        "\n",
        "Using <https://colab.research.google.com/> for free (but maybe soon for Pro).\n",
        "See [this page for more information](https://colab.research.google.com/signup).\n",
        "\"\"\""
      ],
      "metadata": {
        "id": "5_gfykqbcxLn"
      },
      "execution_count": 35,
      "outputs": []
    },
    {
      "cell_type": "markdown",
      "source": [
        "Thanks to <https://github.com/PragatiGunai1097/google-docs-markdown-formatter/blob/main/MarkdownMeeting_ToGoogleDoc_.ipynb>:"
      ],
      "metadata": {
        "id": "veDgBLD56wqW"
      }
    },
    {
      "cell_type": "code",
      "source": [
        "# Step 3: Parse markdown to structure content\n",
        "def markdown_to_requests(md_content, index=0):\n",
        "    lines = md_content.split(\"\\n\")\n",
        "    requests = []\n",
        "    index = index + 1\n",
        "\n",
        "    for line in lines:\n",
        "        if line.startswith(\"# \"):  # Heading 1\n",
        "            requests.append({\"insertText\": {\"location\": {\"index\": index}, \"text\": line[2:] + \"\\n\"}})\n",
        "            index += len(line[2:]) + 1\n",
        "            requests.append({\n",
        "                \"updateParagraphStyle\": {\n",
        "                    \"range\": {\"startIndex\": index - len(line[2:]) - 1, \"endIndex\": index - 1},\n",
        "                    \"paragraphStyle\": {\n",
        "                        \"namedStyleType\": \"HEADING_1\",  # Use HEADING_1 for main heading\n",
        "                    },\n",
        "                    \"fields\": \"namedStyleType\",\n",
        "                    #\"textStyle\": {\"bold\": True, \"fontSize\": {\"magnitude\": 24, #\"unit\": \"PT\"}},\n",
        "                    #\"fields\": \"bold,fontSize\"\n",
        "                }\n",
        "            })\n",
        "        elif line.startswith(\"## \"):  # Heading 2\n",
        "            requests.append({\"insertText\": {\"location\": {\"index\": index}, \"text\": line[3:] + \"\\n\"}})\n",
        "            index += len(line[3:]) + 1\n",
        "            requests.append({\n",
        "                \"updateParagraphStyle\": {\n",
        "                    \"range\": {\"startIndex\": index - len(line[3:]) - 1, \"endIndex\": index - 1},\n",
        "                    \"paragraphStyle\": {\n",
        "                        \"namedStyleType\": \"HEADING_2\",  # Use HEADING_2 for main heading\n",
        "                    },\n",
        "                    \"fields\": \"namedStyleType\",\n",
        "                    #\"textStyle\": {\"bold\": True, \"fontSize\": {\"magnitude\": 18, \"unit\": \"PT\"}},\n",
        "                    #\"fields\": \"bold,fontSize\"\n",
        "                }\n",
        "            })\n",
        "        elif line.startswith(\"### \"):  # Heading 3\n",
        "            requests.append({\"insertText\": {\"location\": {\"index\": index}, \"text\": line[4:] + \"\\n\"}})\n",
        "            index += len(line[4:]) + 1\n",
        "            requests.append({\n",
        "                \"updateParagraphStyle\": {\n",
        "                    \"range\": {\"startIndex\": index - len(line[4:]) - 1, \"endIndex\": index - 1},\n",
        "                    \"paragraphStyle\": {\n",
        "                        \"namedStyleType\": \"HEADING_3\",  # Use HEADING_3 for main heading\n",
        "                    },\n",
        "                    \"fields\": \"namedStyleType\",\n",
        "                    #\"textStyle\": {\"bold\": True, \"fontSize\": {\"magnitude\": 16, \"unit\": \"PT\"}},\n",
        "                    #\"fields\": \"bold,fontSize\"\n",
        "                }\n",
        "            })\n",
        "        elif line.startswith(\"#### \"):  # Heading 4\n",
        "            requests.append({\"insertText\": {\"location\": {\"index\": index}, \"text\": line[5:] + \"\\n\"}})\n",
        "            index += len(line[5:]) + 1\n",
        "            requests.append({\n",
        "                \"updateParagraphStyle\": {\n",
        "                    \"range\": {\"startIndex\": index - len(line[5:]) - 1, \"endIndex\": index - 1},\n",
        "                    \"paragraphStyle\": {\n",
        "                        \"namedStyleType\": \"HEADING_4\",  # Use HEADING_4 for main heading\n",
        "                    },\n",
        "                    \"fields\": \"namedStyleType\",\n",
        "                    #\"textStyle\": {\"bold\": True, \"fontSize\": {\"magnitude\": 16, \"unit\": \"PT\"}},\n",
        "                    #\"fields\": \"bold,fontSize\"\n",
        "                }\n",
        "            })\n",
        "        elif line.startswith(\"- [ ]\"):  # Checkboxes\n",
        "            requests.append({\"insertText\": {\"location\": {\"index\": index}, \"text\": \"☐ \" + line[6:] + \"\\n\"}})\n",
        "            index += len(\"☐ \" + line[6:]) + 1\n",
        "        elif line.startswith(\"- \"):  # Bullet points\n",
        "            requests.append({\"insertText\": {\"location\": {\"index\": index}, \"text\": \"• \" + line[2:] + \"\\n\"}})\n",
        "            index += len(\"• \" + line[2:]) + 1\n",
        "        elif line.strip():  # Normal text\n",
        "            requests.append({\"insertText\": {\"location\": {\"index\": index}, \"text\": line + \"\\n\"}})\n",
        "            index += len(line) + 1\n",
        "        else:  # Blank lines\n",
        "            requests.append({\"insertText\": {\"location\": {\"index\": index}, \"text\": \"\\n\"}})\n",
        "            index += 1\n",
        "\n",
        "    return requests"
      ],
      "metadata": {
        "id": "g9PGbbKd6tPV"
      },
      "execution_count": 67,
      "outputs": []
    },
    {
      "cell_type": "markdown",
      "source": [
        "We can use a simple request, or the more-complex request from above:"
      ],
      "metadata": {
        "id": "knQrGPYqO8qM"
      }
    },
    {
      "cell_type": "code",
      "source": [
        "# If modifying these scopes, delete the file token.json.\n",
        "SCOPES = ['https://www.googleapis.com/auth/documents']\n",
        "# The ID of the document to insert text into.\n",
        "DOCUMENT_ID = '1DzS5Fq6iug9qnxwP0iAehLIBrTM8iQL50-AKO8REaDo'\n",
        "\n",
        "def write_content_to_google_doc(content_to_write=default_content_to_write_to_this_google_doc, markdown=False):\n",
        "    service = build('docs', 'v1', credentials=None)\n",
        "\n",
        "    # Create a new tab/section in the document.\n",
        "    requests = [\n",
        "        {'insertText':\n",
        "            {\n",
        "                'location': {'index': 1},\n",
        "                'text':\n",
        "                    content_to_write\n",
        "            }\n",
        "        },\n",
        "    ]\n",
        "\n",
        "    # Convert the markdown content into Google Docs API requests\n",
        "    if markdown:\n",
        "        requests = markdown_to_requests(content_to_write)\n",
        "\n",
        "    result = service.documents().batchUpdate(documentId=DOCUMENT_ID, body={'requests': requests}).execute()\n",
        "    print(result)\n",
        "\n",
        "    print(f\"The Google doc at this URL has been modified with the desired content of length {len(content_to_write)}:\")\n",
        "    print(our_google_doc_url)"
      ],
      "metadata": {
        "id": "lCmOXGghbjd0"
      },
      "execution_count": 68,
      "outputs": []
    },
    {
      "cell_type": "markdown",
      "source": [
        "I wanted to be able to create a new tab, but apparently this can't be done using the current version of Google Docs API."
      ],
      "metadata": {
        "id": "-x0EmjlmebBf"
      }
    },
    {
      "cell_type": "code",
      "source": [
        "# prompt: Create a new tab in this Google document, using the Google Docs API requests\n",
        "def create_new_tab_in_google_doc(content, new_tab_name=\"New tab\", markdown=False, document_id=DOCUMENT_ID):\n",
        "    \"\"\"Creates a new tab/section in a Google Doc and inserts content.\n",
        "\n",
        "    Args:\n",
        "        content: The content to insert into the new tab.\n",
        "        document_id: The ID of the Google Doc.\n",
        "    \"\"\"\n",
        "    try:\n",
        "        service = build('docs', 'v1', credentials=None)\n",
        "        # Find the current document's last index\n",
        "        document = service.documents().get(documentId=document_id).execute()\n",
        "        last_index = document['body']['content'][-1]['endIndex']\n",
        "        print(f\"last_index = {last_index} ...\")\n",
        "        last_index = 1\n",
        "        # Create a new section at the end\n",
        "        requests = [\n",
        "            {\n",
        "                'insertSectionBreak': {\n",
        "                    'location': {'index': last_index},\n",
        "                    'sectionType': 'NEXT_PAGE'  # Or SECTION_BREAK\n",
        "                }\n",
        "            }\n",
        "        ]\n",
        "\n",
        "        # Set the name of the section\n",
        "        requests += [\n",
        "            {\n",
        "                \"updateSectionStyle\": {\n",
        "                    \"sectionStyle\": {\n",
        "                        \"sectionType\": \"NEXT_PAGE\",\n",
        "                        #\"info\": {\n",
        "                        #    \"sectionId\": new_tab_name, # new_tab_name is used as sectionId\n",
        "                        #    \"displayName\": new_tab_name\n",
        "                        #}\n",
        "                    },\n",
        "                    \"range\": {\n",
        "                        \"startIndex\": last_index + 1,\n",
        "                        \"endIndex\": last_index + 2,\n",
        "                    },\n",
        "                    #\"fields\": \"info.displayName,info.sectionId\"\n",
        "                    \"fields\": \"*\"\n",
        "                }\n",
        "            }\n",
        "        ]\n",
        "\n",
        "        # Write the text as a basic index in the current tab\n",
        "        if not markdown:\n",
        "            requests += [\n",
        "                {'insertText': {\n",
        "                    'location': {'index': last_index + 1},\n",
        "                    'text': content\n",
        "                }}\n",
        "            ]\n",
        "        else:\n",
        "            # Convert the markdown content into Google Docs API requests\n",
        "            requests += markdown_to_requests(content, index=last_index+2)\n",
        "\n",
        "        # Execute the requests\n",
        "        result = service.documents().batchUpdate(\n",
        "            documentId=document_id, body={'requests': requests}).execute()\n",
        "        print(f\"Successfully created a new tab in the Google Doc: {result}\")\n",
        "    except Exception as e:\n",
        "        print(f\"An error occurred: {e}\")\n",
        "        raise e"
      ],
      "metadata": {
        "id": "bDeyCSerPIzj"
      },
      "execution_count": 85,
      "outputs": []
    },
    {
      "cell_type": "markdown",
      "source": [
        "We can now test it! It should support basic formatting using Markdown."
      ],
      "metadata": {
        "id": "FwHHkRvl7mJV"
      }
    },
    {
      "cell_type": "code",
      "source": [
        "%%time\n",
        "write_content_to_google_doc(default_content_to_write_to_this_google_doc, markdown=True)"
      ],
      "metadata": {
        "colab": {
          "base_uri": "https://localhost:8080/"
        },
        "id": "vXsx1cxTrwHa",
        "outputId": "bb3f8dc2-c212-4cd9-bf95-39bbe163ff4e"
      },
      "execution_count": 78,
      "outputs": [
        {
          "output_type": "stream",
          "name": "stdout",
          "text": [
            "{'replies': [{}], 'writeControl': {'requiredRevisionId': 'ALBJ4LvFW-EtzfvML7O3Dya5CHgs_dmY-s7wXlijx-8_A4cljaaBq2bl_-lOzZGfNrJEhqxb_1hn2mEH5Ldj-w'}, 'documentId': '1DzS5Fq6iug9qnxwP0iAehLIBrTM8iQL50-AKO8REaDo'}\n",
            "The Google doc at this URL has been modified with the desired content of length 324:\n",
            "https://docs.google.com/document/d/1DzS5Fq6iug9qnxwP0iAehLIBrTM8iQL50-AKO8REaDo/edit?usp=sharing\n",
            "CPU times: user 188 ms, sys: 9.95 ms, total: 198 ms\n",
            "Wall time: 738 ms\n"
          ]
        }
      ]
    },
    {
      "cell_type": "markdown",
      "source": [
        "I tried for a long time different requests to add a new tab, but I'm pretty sure it's not supported by the API."
      ],
      "metadata": {
        "id": "Zl6XydcydnH0"
      }
    },
    {
      "cell_type": "code",
      "source": [
        "%%time\n",
        "if False:\n",
        "    # Example usage (replace with your actual content)\n",
        "    new_tab_content = \"This is the content of the new tab.\"\n",
        "\n",
        "    create_new_tab_in_google_doc(new_tab_content, new_tab_name=\"Nouvel onglet\")"
      ],
      "metadata": {
        "colab": {
          "base_uri": "https://localhost:8080/",
          "height": 446
        },
        "id": "jTGYzJyeRC4u",
        "outputId": "6f2f60e4-ede5-43c3-feb9-ba03038d34d1"
      },
      "execution_count": 90,
      "outputs": [
        {
          "output_type": "stream",
          "name": "stdout",
          "text": [
            "last_index = 2 ...\n",
            "An error occurred: <HttpError 400 when requesting https://docs.googleapis.com/v1/documents/1DzS5Fq6iug9qnxwP0iAehLIBrTM8iQL50-AKO8REaDo:batchUpdate?alt=json returned \"Invalid requests[1].updateSectionStyle: A value for top margin must be specified in order to update it.\". Details: \"Invalid requests[1].updateSectionStyle: A value for top margin must be specified in order to update it.\">\n"
          ]
        },
        {
          "output_type": "error",
          "ename": "HttpError",
          "evalue": "<HttpError 400 when requesting https://docs.googleapis.com/v1/documents/1DzS5Fq6iug9qnxwP0iAehLIBrTM8iQL50-AKO8REaDo:batchUpdate?alt=json returned \"Invalid requests[1].updateSectionStyle: A value for top margin must be specified in order to update it.\". Details: \"Invalid requests[1].updateSectionStyle: A value for top margin must be specified in order to update it.\">",
          "traceback": [
            "\u001b[0;31m---------------------------------------------------------------------------\u001b[0m",
            "\u001b[0;31mHttpError\u001b[0m                                 Traceback (most recent call last)",
            "\u001b[0;32m<timed exec>\u001b[0m in \u001b[0;36m<module>\u001b[0;34m\u001b[0m\n",
            "\u001b[0;32m<ipython-input-85-e811ab330d4d>\u001b[0m in \u001b[0;36mcreate_new_tab_in_google_doc\u001b[0;34m(content, new_tab_name, markdown, document_id)\u001b[0m\n\u001b[1;32m     63\u001b[0m     \u001b[0;32mexcept\u001b[0m \u001b[0mException\u001b[0m \u001b[0;32mas\u001b[0m \u001b[0me\u001b[0m\u001b[0;34m:\u001b[0m\u001b[0;34m\u001b[0m\u001b[0;34m\u001b[0m\u001b[0m\n\u001b[1;32m     64\u001b[0m         \u001b[0mprint\u001b[0m\u001b[0;34m(\u001b[0m\u001b[0;34mf\"An error occurred: {e}\"\u001b[0m\u001b[0;34m)\u001b[0m\u001b[0;34m\u001b[0m\u001b[0;34m\u001b[0m\u001b[0m\n\u001b[0;32m---> 65\u001b[0;31m         \u001b[0;32mraise\u001b[0m \u001b[0me\u001b[0m\u001b[0;34m\u001b[0m\u001b[0;34m\u001b[0m\u001b[0m\n\u001b[0m",
            "\u001b[0;32m<ipython-input-85-e811ab330d4d>\u001b[0m in \u001b[0;36mcreate_new_tab_in_google_doc\u001b[0;34m(content, new_tab_name, markdown, document_id)\u001b[0m\n\u001b[1;32m     59\u001b[0m         \u001b[0;31m# Execute the requests\u001b[0m\u001b[0;34m\u001b[0m\u001b[0;34m\u001b[0m\u001b[0m\n\u001b[1;32m     60\u001b[0m         result = service.documents().batchUpdate(\n\u001b[0;32m---> 61\u001b[0;31m             documentId=document_id, body={'requests': requests}).execute()\n\u001b[0m\u001b[1;32m     62\u001b[0m         \u001b[0mprint\u001b[0m\u001b[0;34m(\u001b[0m\u001b[0;34mf\"Successfully created a new tab in the Google Doc: {result}\"\u001b[0m\u001b[0;34m)\u001b[0m\u001b[0;34m\u001b[0m\u001b[0;34m\u001b[0m\u001b[0m\n\u001b[1;32m     63\u001b[0m     \u001b[0;32mexcept\u001b[0m \u001b[0mException\u001b[0m \u001b[0;32mas\u001b[0m \u001b[0me\u001b[0m\u001b[0;34m:\u001b[0m\u001b[0;34m\u001b[0m\u001b[0;34m\u001b[0m\u001b[0m\n",
            "\u001b[0;32m/usr/local/lib/python3.11/dist-packages/googleapiclient/_helpers.py\u001b[0m in \u001b[0;36mpositional_wrapper\u001b[0;34m(*args, **kwargs)\u001b[0m\n\u001b[1;32m    128\u001b[0m                 \u001b[0;32melif\u001b[0m \u001b[0mpositional_parameters_enforcement\u001b[0m \u001b[0;34m==\u001b[0m \u001b[0mPOSITIONAL_WARNING\u001b[0m\u001b[0;34m:\u001b[0m\u001b[0;34m\u001b[0m\u001b[0;34m\u001b[0m\u001b[0m\n\u001b[1;32m    129\u001b[0m                     \u001b[0mlogger\u001b[0m\u001b[0;34m.\u001b[0m\u001b[0mwarning\u001b[0m\u001b[0;34m(\u001b[0m\u001b[0mmessage\u001b[0m\u001b[0;34m)\u001b[0m\u001b[0;34m\u001b[0m\u001b[0;34m\u001b[0m\u001b[0m\n\u001b[0;32m--> 130\u001b[0;31m             \u001b[0;32mreturn\u001b[0m \u001b[0mwrapped\u001b[0m\u001b[0;34m(\u001b[0m\u001b[0;34m*\u001b[0m\u001b[0margs\u001b[0m\u001b[0;34m,\u001b[0m \u001b[0;34m**\u001b[0m\u001b[0mkwargs\u001b[0m\u001b[0;34m)\u001b[0m\u001b[0;34m\u001b[0m\u001b[0;34m\u001b[0m\u001b[0m\n\u001b[0m\u001b[1;32m    131\u001b[0m \u001b[0;34m\u001b[0m\u001b[0m\n\u001b[1;32m    132\u001b[0m         \u001b[0;32mreturn\u001b[0m \u001b[0mpositional_wrapper\u001b[0m\u001b[0;34m\u001b[0m\u001b[0;34m\u001b[0m\u001b[0m\n",
            "\u001b[0;32m/usr/local/lib/python3.11/dist-packages/googleapiclient/http.py\u001b[0m in \u001b[0;36mexecute\u001b[0;34m(self, http, num_retries)\u001b[0m\n\u001b[1;32m    936\u001b[0m             \u001b[0mcallback\u001b[0m\u001b[0;34m(\u001b[0m\u001b[0mresp\u001b[0m\u001b[0;34m)\u001b[0m\u001b[0;34m\u001b[0m\u001b[0;34m\u001b[0m\u001b[0m\n\u001b[1;32m    937\u001b[0m         \u001b[0;32mif\u001b[0m \u001b[0mresp\u001b[0m\u001b[0;34m.\u001b[0m\u001b[0mstatus\u001b[0m \u001b[0;34m>=\u001b[0m \u001b[0;36m300\u001b[0m\u001b[0;34m:\u001b[0m\u001b[0;34m\u001b[0m\u001b[0;34m\u001b[0m\u001b[0m\n\u001b[0;32m--> 938\u001b[0;31m             \u001b[0;32mraise\u001b[0m \u001b[0mHttpError\u001b[0m\u001b[0;34m(\u001b[0m\u001b[0mresp\u001b[0m\u001b[0;34m,\u001b[0m \u001b[0mcontent\u001b[0m\u001b[0;34m,\u001b[0m \u001b[0muri\u001b[0m\u001b[0;34m=\u001b[0m\u001b[0mself\u001b[0m\u001b[0;34m.\u001b[0m\u001b[0muri\u001b[0m\u001b[0;34m)\u001b[0m\u001b[0;34m\u001b[0m\u001b[0;34m\u001b[0m\u001b[0m\n\u001b[0m\u001b[1;32m    939\u001b[0m         \u001b[0;32mreturn\u001b[0m \u001b[0mself\u001b[0m\u001b[0;34m.\u001b[0m\u001b[0mpostproc\u001b[0m\u001b[0;34m(\u001b[0m\u001b[0mresp\u001b[0m\u001b[0;34m,\u001b[0m \u001b[0mcontent\u001b[0m\u001b[0;34m)\u001b[0m\u001b[0;34m\u001b[0m\u001b[0;34m\u001b[0m\u001b[0m\n\u001b[1;32m    940\u001b[0m \u001b[0;34m\u001b[0m\u001b[0m\n",
            "\u001b[0;31mHttpError\u001b[0m: <HttpError 400 when requesting https://docs.googleapis.com/v1/documents/1DzS5Fq6iug9qnxwP0iAehLIBrTM8iQL50-AKO8REaDo:batchUpdate?alt=json returned \"Invalid requests[1].updateSectionStyle: A value for top margin must be specified in order to update it.\". Details: \"Invalid requests[1].updateSectionStyle: A value for top margin must be specified in order to update it.\">"
          ]
        }
      ]
    },
    {
      "cell_type": "markdown",
      "source": [
        "Now, if adding this first line worked, let's update the Google doc with all the paragraphs and their draft of translation."
      ],
      "metadata": {
        "id": "3QTYT3JUdziD"
      }
    },
    {
      "cell_type": "code",
      "source": [
        "def get_article_translate_it_then_upload_to_google_doc(article_id=None, translate=False):\n",
        "    if article_id is None:\n",
        "        article_id = get_latest_article_id()\n",
        "    print(f\"- The latest article ID is: {article_id}... Downloading it, then translating it...\")\n",
        "\n",
        "    article_id, latest_article_text, article_paragraphs, translated_paragraphs = get_and_translate_article_text(article_id, translate=translate)\n",
        "\n",
        "    print(\"- Generating the Markdown content to write to Google doc:\")\n",
        "    entire_content_to_write = generate_content_to_write(article_id, article_paragraphs, translated_paragraphs, translate=translate)\n",
        "\n",
        "    print(\"- The entire content to write is:\")\n",
        "    print_paragraph(entire_content_to_write)\n",
        "\n",
        "    return write_content_to_google_doc(entire_content_to_write, markdown=True)"
      ],
      "metadata": {
        "id": "C6AggNmisJJA"
      },
      "execution_count": 92,
      "outputs": []
    },
    {
      "cell_type": "code",
      "source": [
        "%%time\n",
        "get_article_translate_it_then_upload_to_google_doc(article_id=get_latest_article_id(), translate=False)"
      ],
      "metadata": {
        "colab": {
          "base_uri": "https://localhost:8080/",
          "height": 1000,
          "referenced_widgets": [
            "0bae1ba4e15a4548aaa60d0957d4c5ba",
            "8abcc7398394411bb082bf47e626a733",
            "cb348874eab840f6859adf537ccaafe2",
            "90fe83f8484e44a99446503ebdeb257e",
            "9c14d5fd37dd435da3a6427fe8359691",
            "3e8f3f20d1b64a6c9c1b047f10037ecd",
            "68df28fbb0b14efd899b8912dc80a1db",
            "c8aac8f400ef43aba52cf8c87145d178",
            "7608c9fb84ce49e8a9dddd98f6bade6a",
            "c29b7b89769845948708b91b5248ef04",
            "995d14b9487b446aae6fd235e50ebdfd"
          ]
        },
        "id": "TGHFak3x8xXf",
        "outputId": "be73c5c9-f5ea-4cf9-c832-a10c42ae909c"
      },
      "execution_count": 95,
      "outputs": [
        {
          "output_type": "stream",
          "name": "stdout",
          "text": [
            "- The latest article ID is: 4376... Downloading it, then translating it...\n",
            "Reading the article at URL https://www.cranial-insertion.com/staff/articles/4376/edit ...\n",
            "Using French language and my admin cookie...\n",
            "The web page has been read and it's title is « <title>Cranial Insertion | Manage Articles</title> » !\n"
          ]
        },
        {
          "output_type": "display_data",
          "data": {
            "text/plain": [
              "0it [00:00, ?it/s]"
            ],
            "application/vnd.jupyter.widget-view+json": {
              "version_major": 2,
              "version_minor": 0,
              "model_id": "0bae1ba4e15a4548aaa60d0957d4c5ba"
            }
          },
          "metadata": {}
        },
        {
          "output_type": "stream",
          "name": "stdout",
          "text": [
            "\n",
            "\n",
            "0-th English paragraph (of length 93 letters and 12 words)\n"
          ]
        },
        {
          "output_type": "display_data",
          "data": {
            "text/plain": [
              "<IPython.core.display.Markdown object>"
            ],
            "text/markdown": "> [cright=Living Death]\"Alex, the answer is \"What would be an\nexample of an oximoron?\"[/cright]"
          },
          "metadata": {}
        },
        {
          "output_type": "stream",
          "name": "stdout",
          "text": [
            "\n",
            "\n",
            "1-th English paragraph (of length 226 letters and 38 words)\n"
          ]
        },
        {
          "output_type": "display_data",
          "data": {
            "text/plain": [
              "<IPython.core.display.Markdown object>"
            ],
            "text/markdown": "> Today we have a collection of questions found on the IRC Chatroom #magicjudges-rules and the Facebook group Ask the Judge - [b]Magic[/b]: The Gathering Rules and Policy Questions. Feel free to join us in either or both groups."
          },
          "metadata": {}
        },
        {
          "output_type": "stream",
          "name": "stdout",
          "text": [
            "\n",
            "\n",
            "2-th English paragraph (of length 360 letters and 55 words)\n"
          ]
        },
        {
          "output_type": "display_data",
          "data": {
            "text/plain": [
              "<IPython.core.display.Markdown object>"
            ],
            "text/markdown": "> If you have any [b]Magic[/b] questions burning at the back of your brain, you can send them to us. We may even use them in a future article. If you have a short question, you can send it to us via our Twitter account at [url=https://twitter.com/CranialTweet]@CranialTweet[/url], and you can send us longer questions at [email]moko@cranialinsertion.com[/email]."
          },
          "metadata": {}
        },
        {
          "output_type": "stream",
          "name": "stdout",
          "text": [
            "\n",
            "\n",
            "3-th English paragraph (of length 231 letters and 35 words)\n"
          ]
        },
        {
          "output_type": "display_data",
          "data": {
            "text/plain": [
              "<IPython.core.display.Markdown object>"
            ],
            "text/markdown": "> [hr]\n[Q] I have two [c]Squire[/c]s on the battlefield and I have [c]Custodi Soulbinders[/c] and four copies of [c]Bear Cub[/c] in my graveyard. If I cast [c]Living Death[/c], how many +1/+1 counters will Soulbinders enter with?[/Q]"
          },
          "metadata": {}
        },
        {
          "output_type": "stream",
          "name": "stdout",
          "text": [
            "\n",
            "\n",
            "4-th English paragraph (of length 341 letters and 56 words)\n"
          ]
        },
        {
          "output_type": "display_data",
          "data": {
            "text/plain": [
              "<IPython.core.display.Markdown object>"
            ],
            "text/markdown": "> [A] Custodi Soulbinders will enter with zero +1/+1 counters. Souldbinders and the Bears will enter simultaneously. Soulbinders' first ability is a replacement effect that checks to see how many creatures are on the battlefield just before it enters. At that point there are no creatures on the board, so it gets no counters as it enters.[/A]"
          },
          "metadata": {}
        },
        {
          "output_type": "stream",
          "name": "stdout",
          "text": [
            "\n",
            "\n",
            "5-th English paragraph (of length 266 letters and 44 words)\n"
          ]
        },
        {
          "output_type": "display_data",
          "data": {
            "text/plain": [
              "<IPython.core.display.Markdown object>"
            ],
            "text/markdown": "> [hr]\n[Q] My commander is [c]Grimgrin, Corpse-Born[/c]. Grimgrin was [c]Murder[/c]ed last turn and I choose to move him to the command zone. I control [c]Rooftop Storm[/c]. If I try to cast Grimgrin from the command zone, will he cost [m]2[/m] or will he be free?[/Q]"
          },
          "metadata": {}
        },
        {
          "output_type": "stream",
          "name": "stdout",
          "text": [
            "\n",
            "\n",
            "6-th English paragraph (of length 291 letters and 51 words)\n"
          ]
        },
        {
          "output_type": "display_data",
          "data": {
            "text/plain": [
              "<IPython.core.display.Markdown object>"
            ],
            "text/markdown": "> [A] He will cost [m]2[/m]. \nCommander \"tax\" is an additional cost that must be paid in addition to the normal cost for casting your commander. Rooftop Storm gives you the option of replacing the normal cost of casting your Zombies with [m]0[/m]. This has no effect on additional costs.  [/A]"
          },
          "metadata": {}
        },
        {
          "output_type": "stream",
          "name": "stdout",
          "text": [
            "\n",
            "\n",
            "7-th English paragraph (of length 161 letters and 26 words)\n"
          ]
        },
        {
          "output_type": "display_data",
          "data": {
            "text/plain": [
              "<IPython.core.display.Markdown object>"
            ],
            "text/markdown": "> [hr]\n[Q] My opponent exiled [c]Wheel of Fate[/c] with [c]Reckless Impulse[/c]. She now claims she can cast Wheel of Fate because it's in exile. Is that true?[/Q]"
          },
          "metadata": {}
        },
        {
          "output_type": "stream",
          "name": "stdout",
          "text": [
            "\n",
            "\n",
            "8-th English paragraph (of length 176 letters and 34 words)\n"
          ]
        },
        {
          "output_type": "display_data",
          "data": {
            "text/plain": [
              "<IPython.core.display.Markdown object>"
            ],
            "text/markdown": "> [A] Your opponent is wrong. The part of suspend that lets you cast a card with no mana cost is casting it without paying its mana cost, not that it's casting it from exile.[/A]"
          },
          "metadata": {}
        },
        {
          "output_type": "stream",
          "name": "stdout",
          "text": [
            "\n",
            "\n",
            "9-th English paragraph (of length 378 letters and 58 words)\n"
          ]
        },
        {
          "output_type": "display_data",
          "data": {
            "text/plain": [
              "<IPython.core.display.Markdown object>"
            ],
            "text/markdown": "> [hr]\n[Q] I control four [c]Bear Cub[/c]s, [c]Agrus Kos, Eternal Soldier[/c], and [c]Thundering Raiju[/c]. None of my creatures are currently modified. I attack with the Raiju and have its attack trigger target Agrus. When Agrus's ability triggers because he became targeted, I pay the cost. After all these triggers resolve, how much damage will Raiju deal to each opponent?[/Q]"
          },
          "metadata": {}
        },
        {
          "output_type": "stream",
          "name": "stdout",
          "text": [
            "\n",
            "\n",
            "10-th English paragraph (of length 102 letters and 17 words)\n"
          ]
        },
        {
          "output_type": "display_data",
          "data": {
            "text/plain": [
              "<IPython.core.display.Markdown object>"
            ],
            "text/markdown": "> [A] The Answer is between 15-19 damage, depending on when you let the trigger targeting Raiju resolve."
          },
          "metadata": {}
        },
        {
          "output_type": "stream",
          "name": "stdout",
          "text": [
            "\n",
            "\n",
            "11-th English paragraph (of length 280 letters and 52 words)\n"
          ]
        },
        {
          "output_type": "display_data",
          "data": {
            "text/plain": [
              "<IPython.core.display.Markdown object>"
            ],
            "text/markdown": "> When Agrus's trigger resolves, it creates five copies of Raiju's trigger, one for each Bear and one for Raiju, making a total of six Raiju triggers. The last trigger to resolve has to be the one targeting Agrus, and the other five resolve before it in the order of your choosing. "
          },
          "metadata": {}
        },
        {
          "output_type": "stream",
          "name": "stdout",
          "text": [
            "\n",
            "\n",
            "12-th English paragraph (of length 155 letters and 25 words)\n"
          ]
        },
        {
          "output_type": "display_data",
          "data": {
            "text/plain": [
              "<IPython.core.display.Markdown object>"
            ],
            "text/markdown": "> For our first example, we will have the trigger targeting Raiju resolve first, then the four triggers targeting Bears, and finally the one targeting Agrus."
          },
          "metadata": {}
        },
        {
          "output_type": "stream",
          "name": "stdout",
          "text": [
            "\n",
            "\n",
            "13-th English paragraph (of length 538 letters and 98 words)\n"
          ]
        },
        {
          "output_type": "display_data",
          "data": {
            "text/plain": [
              "<IPython.core.display.Markdown object>"
            ],
            "text/markdown": "> Raiju gets a +1/+1 counter, no damage is dealt as Raiju only checks modified creatures other than himself. Total damage 0.\nBear #1 gets a +1/+1 counter, 1 damage is dealt as there is only one modified creature other than Raiju. Total damage 1.\nBear #2 gets a +1/+1 counter, 2 damage is dealt as there are now two modified creatures. Total damage 3.\nBear #3 gets a +1/+1 counter, 3 damage is dealt. Total damage 6.\nBear #4 gets a counter, 4 damage is dealt. Total damage of 10.\nAgrus get a a counter, 5 damage is dealt. Total damage of 15."
          },
          "metadata": {}
        },
        {
          "output_type": "stream",
          "name": "stdout",
          "text": [
            "\n",
            "\n",
            "14-th English paragraph (of length 357 letters and 63 words)\n"
          ]
        },
        {
          "output_type": "display_data",
          "data": {
            "text/plain": [
              "<IPython.core.display.Markdown object>"
            ],
            "text/markdown": "> Now let's have the four Bears' triggers resolve first, then Raiju, followed by Agrus.\nBear #1, 1 damage is dealt. Total damage 1.\nBear #2, 2 damage is dealt. Total damage 3.\nBear #3, 3 damage id dealt. Total damage 6.\nBear #4, 4 damage is dealt. Total damage is 10.\nRaiju, 4 damage is dealt. Total damage is 14.\nAgrus, 5 damage is dealt. Total damage is 19."
          },
          "metadata": {}
        },
        {
          "output_type": "stream",
          "name": "stdout",
          "text": [
            "\n",
            "\n",
            "15-th English paragraph (of length 80 letters and 13 words)\n"
          ]
        },
        {
          "output_type": "display_data",
          "data": {
            "text/plain": [
              "<IPython.core.display.Markdown object>"
            ],
            "text/markdown": "> The later the trigger targeting Raiju resolves, the more the total damage.\n [/A]"
          },
          "metadata": {}
        },
        {
          "output_type": "stream",
          "name": "stdout",
          "text": [
            "\n",
            "\n",
            "16-th English paragraph (of length 208 letters and 24 words)\n"
          ]
        },
        {
          "output_type": "display_data",
          "data": {
            "text/plain": [
              "<IPython.core.display.Markdown object>"
            ],
            "text/markdown": "> [hr]\n[cleft=Grafdigger's Cage]Alex, the answer is \"What is used to \nkeep the dead from escaping their graves?\"[/cleft][Q] Does [c]Grafdigger's Cage[/c] stop [c]Abhorrent Oculus[/c] from manifest-dreading?[/Q]"
          },
          "metadata": {}
        },
        {
          "output_type": "stream",
          "name": "stdout",
          "text": [
            "\n",
            "\n",
            "17-th English paragraph (of length 388 letters and 69 words)\n"
          ]
        },
        {
          "output_type": "display_data",
          "data": {
            "text/plain": [
              "<IPython.core.display.Markdown object>"
            ],
            "text/markdown": "> [A] Well, in the important ways, yes. They still \"manifest dread\", but some parts they can't complete. Manifest Dread is \"Look at the top two cards of your library. Manifest one of them, then put the cards you looked at that were not manifested this way into your graveyard.\" Since you can't put a creature from your library into play, both cards looked at are put into the graveyard.[/A]"
          },
          "metadata": {}
        },
        {
          "output_type": "stream",
          "name": "stdout",
          "text": [
            "\n",
            "\n",
            "18-th English paragraph (of length 328 letters and 56 words)\n"
          ]
        },
        {
          "output_type": "display_data",
          "data": {
            "text/plain": [
              "<IPython.core.display.Markdown object>"
            ],
            "text/markdown": "> [hr]\n[Q] Last turn my opponent stole my [c]Bear Cub[/c] by casting [c]Sower of Temptation[/c]. This turn I used [c]Ovinize[/c] to make the Sower lose all its abilities. I did this because I think I'll get my Bear Cub back, since the Sower no longer has the \"steal your creature\" ability. My opponent disagrees. Who is right?[/Q]"
          },
          "metadata": {}
        },
        {
          "output_type": "stream",
          "name": "stdout",
          "text": [
            "\n",
            "\n",
            "19-th English paragraph (of length 164 letters and 26 words)\n"
          ]
        },
        {
          "output_type": "display_data",
          "data": {
            "text/plain": [
              "<IPython.core.display.Markdown object>"
            ],
            "text/markdown": "> [A] Your opponent is correct. Removing the enters ability (that creates an effect with a duration) after the ability has resolved, doesn't stop it from functioning."
          },
          "metadata": {}
        },
        {
          "output_type": "stream",
          "name": "stdout",
          "text": [
            "\n",
            "\n",
            "20-th English paragraph (of length 370 letters and 60 words)\n"
          ]
        },
        {
          "output_type": "display_data",
          "data": {
            "text/plain": [
              "<IPython.core.display.Markdown object>"
            ],
            "text/markdown": "> If it helps, an example that seems more intuitive would be the following: My opponent used [c]Rootwater Matriarch[/c] to steel my [c]Hill Giant[/c] enchanted with [c]Spirit Link[/c]. Killing the Matriarch won't get the Hill Giant back, even though that removes where the steal ability came from. The duration is based on whether or not the Hill Giant is still enchanted."
          },
          "metadata": {}
        },
        {
          "output_type": "stream",
          "name": "stdout",
          "text": [
            "\n",
            "\n",
            "21-th English paragraph (of length 193 letters and 32 words)\n"
          ]
        },
        {
          "output_type": "display_data",
          "data": {
            "text/plain": [
              "<IPython.core.display.Markdown object>"
            ],
            "text/markdown": "> So with the original question, removing Sower's abilities doesn't stop the steal effect. You have to remove the Sower to gain the creature back because that ends the duration of the effect.[/A]"
          },
          "metadata": {}
        },
        {
          "output_type": "stream",
          "name": "stdout",
          "text": [
            "\n",
            "\n",
            "22-th English paragraph (of length 162 letters and 23 words)\n"
          ]
        },
        {
          "output_type": "display_data",
          "data": {
            "text/plain": [
              "<IPython.core.display.Markdown object>"
            ],
            "text/markdown": "> [hr]\n[Q] So continuing with the last question, what if instead of [c]Ovinize[/c]ing the [c]Sower of Temptation[/c] I phased it out with [c]Reality Ripple[/c]?[/Q]"
          },
          "metadata": {}
        },
        {
          "output_type": "stream",
          "name": "stdout",
          "text": [
            "\n",
            "\n",
            "23-th English paragraph (of length 260 letters and 46 words)\n"
          ]
        },
        {
          "output_type": "display_data",
          "data": {
            "text/plain": [
              "<IPython.core.display.Markdown object>"
            ],
            "text/markdown": "> [A] You would get your creature back. If a creature phases out, it's treated as though it's no longer on the battlefield. The duration of its effect has been met, so the effect ends and the stolen creature returns to its last controller, usually its owner.[/A]"
          },
          "metadata": {}
        },
        {
          "output_type": "stream",
          "name": "stdout",
          "text": [
            "\n",
            "\n",
            "24-th English paragraph (of length 226 letters and 32 words)\n"
          ]
        },
        {
          "output_type": "display_data",
          "data": {
            "text/plain": [
              "<IPython.core.display.Markdown object>"
            ],
            "text/markdown": "> [hr]\n[Q] I block my opponent's attacking [c]Bear Cub[/c] with [c]Manor Gargoyle[/c]. After combat ends, the opponent then casts [c]Disfigure[/c] targeting my Gargoyle. They claim they just killed my Gargoyle. Is this true?[/Q]"
          },
          "metadata": {}
        },
        {
          "output_type": "stream",
          "name": "stdout",
          "text": [
            "\n",
            "\n",
            "25-th English paragraph (of length 535 letters and 90 words)\n"
          ]
        },
        {
          "output_type": "display_data",
          "data": {
            "text/plain": [
              "<IPython.core.display.Markdown object>"
            ],
            "text/markdown": "> [A] It is not true, your Gargoyle lives through this. Many new players make this same wrong assumption. Damage doesn't reduce toughness. You have a 2/2 Gargoyle with 2 damage marked on it. Because it's indestructible, the state based action that tries to destroy it for having equal or more damage than it has toughness fails to do anything. If they want to get your Gargoyle into the graveyard, they need to give it enough [c=Dismember]-X/-X to make its toughness 0 or less[/c], or force you to [c=Diabolic Edict]sacrifice it[/c].[/A]"
          },
          "metadata": {}
        },
        {
          "output_type": "stream",
          "name": "stdout",
          "text": [
            "\n",
            "\n",
            "26-th English paragraph (of length 120 letters and 20 words)\n"
          ]
        },
        {
          "output_type": "display_data",
          "data": {
            "text/plain": [
              "<IPython.core.display.Markdown object>"
            ],
            "text/markdown": "> [hr]\n[Q] If [c]Ragavan, Nimble Pilferer[/c] is my commander, can I cast him for his dash cost from the command zone?[/Q]"
          },
          "metadata": {}
        },
        {
          "output_type": "stream",
          "name": "stdout",
          "text": [
            "\n",
            "\n",
            "27-th English paragraph (of length 129 letters and 27 words)\n"
          ]
        },
        {
          "output_type": "display_data",
          "data": {
            "text/plain": [
              "<IPython.core.display.Markdown object>"
            ],
            "text/markdown": "> [A] Yes, you can. Dash can be used from any zone, so long as you are allowed to cast that card from that same zone normally. [/A]"
          },
          "metadata": {}
        },
        {
          "output_type": "stream",
          "name": "stdout",
          "text": [
            "\n",
            "\n",
            "28-th English paragraph (of length 108 letters and 20 words)\n"
          ]
        },
        {
          "output_type": "display_data",
          "data": {
            "text/plain": [
              "<IPython.core.display.Markdown object>"
            ],
            "text/markdown": "> [hr]\n[Q] Following up with the last question, do I have to pay commander tax if I dash out my commander?[/Q]"
          },
          "metadata": {}
        },
        {
          "output_type": "stream",
          "name": "stdout",
          "text": [
            "\n",
            "\n",
            "29-th English paragraph (of length 350 letters and 64 words)\n"
          ]
        },
        {
          "output_type": "display_data",
          "data": {
            "text/plain": [
              "<IPython.core.display.Markdown object>"
            ],
            "text/markdown": "> [A] Yes, you do. Suppose you cast Ragavan normally on turn one, then later he died and returned to the command zone. When you go to dash him he now costs [m]3[/m][m]R[/m] to dash. Then if he dies again and returns to the command zone, the next time you go to cast him he costs either [m]4[/m][m]R[/m] to cast normally or [m]5[/m][m]R[/m] to dash.[/A]"
          },
          "metadata": {}
        },
        {
          "output_type": "stream",
          "name": "stdout",
          "text": [
            "\n",
            "\n",
            "30-th English paragraph (of length 199 letters and 37 words)\n"
          ]
        },
        {
          "output_type": "display_data",
          "data": {
            "text/plain": [
              "<IPython.core.display.Markdown object>"
            ],
            "text/markdown": "> [hr]\n[Q] I have eight cards in my hand. I go to my cleanup step and discard [c]Blazing Rootwalla[/c] to get down to maximum hand size. Can I cast the Rootwalla even though I'm in my cleanup step?[/Q]"
          },
          "metadata": {}
        },
        {
          "output_type": "stream",
          "name": "stdout",
          "text": [
            "\n",
            "\n",
            "31-th English paragraph (of length 264 letters and 45 words)\n"
          ]
        },
        {
          "output_type": "display_data",
          "data": {
            "text/plain": [
              "<IPython.core.display.Markdown object>"
            ],
            "text/markdown": "> [A] Yes, you can. During most cleanup steps, no players get priority. However, if an ability triggers during the cleanup step, or a state based action applies during a cleanup step, then the active player gains priority and may cast spells and activate abilities. "
          },
          "metadata": {}
        },
        {
          "output_type": "stream",
          "name": "stdout",
          "text": [
            "\n",
            "\n",
            "32-th English paragraph (of length 97 letters and 19 words)\n"
          ]
        },
        {
          "output_type": "display_data",
          "data": {
            "text/plain": [
              "<IPython.core.display.Markdown object>"
            ],
            "text/markdown": "> This is when you can cast the Rootwalla, as discarding it to madness puts a trigger on the stack."
          },
          "metadata": {}
        },
        {
          "output_type": "stream",
          "name": "stdout",
          "text": [
            "\n",
            "\n",
            "33-th English paragraph (of length 350 letters and 65 words)\n"
          ]
        },
        {
          "output_type": "display_data",
          "data": {
            "text/plain": [
              "<IPython.core.display.Markdown object>"
            ],
            "text/markdown": "> A normal priority pass will begin from here and until all players pass in succession with an empty stack, players may add new items to the stack when they have priority. Once all players pass with an empty stack, this cleanup step ends and a new one begins. If that new cleanup ends normally, then the game will move on to the next player's turn.[/A]"
          },
          "metadata": {}
        },
        {
          "output_type": "stream",
          "name": "stdout",
          "text": [
            "\n",
            "\n",
            "34-th English paragraph (of length 295 letters and 46 words)\n"
          ]
        },
        {
          "output_type": "display_data",
          "data": {
            "text/plain": [
              "<IPython.core.display.Markdown object>"
            ],
            "text/markdown": "> [hr]\n[Q] While resolving [c]Burning Inquiry[/c] I discarded [c]Basking Rootwalla[/c] and two [c]Mountain[/c]s. My opponent controls a [c]Rest in Peace[/c]. My opponent claims I can't cast the Rootwalla for its Madness cost as it got exiled by Rest in Peace when I discarded it. Is this true?[/Q]"
          },
          "metadata": {}
        },
        {
          "output_type": "stream",
          "name": "stdout",
          "text": [
            "\n",
            "\n",
            "35-th English paragraph (of length 564 letters and 106 words)\n"
          ]
        },
        {
          "output_type": "display_data",
          "data": {
            "text/plain": [
              "<IPython.core.display.Markdown object>"
            ],
            "text/markdown": "> [A] Your opponent is wrong. You can cast your Rootwalla for its madness cost. The Rootwalla hasn't been exiled by Rest in Peace yet. This is because madness doesn't quite work the way most people think it does. If a card with madness gets discarded, it goes to exile instead of being put into its owner's graveyard. Then the next time a player would get priority, a trigger allowing its owner to cast it for its madness cost is put on the stack. When this trigger resolves, the owner may cast the card, but if they don't then the card is put into their graveyard. "
          },
          "metadata": {}
        },
        {
          "output_type": "stream",
          "name": "stdout",
          "text": [
            "\n",
            "\n",
            "36-th English paragraph (of length 193 letters and 37 words)\n"
          ]
        },
        {
          "output_type": "display_data",
          "data": {
            "text/plain": [
              "<IPython.core.display.Markdown object>"
            ],
            "text/markdown": "> To get back to the original question, Rest in Peace can only exile a discarded Madness card after the owner has decided not to cast it for madness and choses to let it go to the graveyard.\n[/A]"
          },
          "metadata": {}
        },
        {
          "output_type": "stream",
          "name": "stdout",
          "text": [
            "\n",
            "\n",
            "37-th English paragraph (of length 276 letters and 46 words)\n"
          ]
        },
        {
          "output_type": "display_data",
          "data": {
            "text/plain": [
              "<IPython.core.display.Markdown object>"
            ],
            "text/markdown": "> [hr]\n[Q] My opponent pays [m]3[/m][m]U[/m] to gain level 2 on their [c]Stormchaser's Talent[/c]. Before it becomes level 2, I [c]Boomerang[/c] it to their hand. The opponent says they still get to return an instant or sorcery to their hand, I say they don't, who is right?[/Q]"
          },
          "metadata": {}
        },
        {
          "output_type": "stream",
          "name": "stdout",
          "text": [
            "\n",
            "\n",
            "38-th English paragraph (of length 372 letters and 70 words)\n"
          ]
        },
        {
          "output_type": "display_data",
          "data": {
            "text/plain": [
              "<IPython.core.display.Markdown object>"
            ],
            "text/markdown": "> [A] You are correct, they do not. Gaining a level is an ability that uses the stack and can be responded to. Stormchaser's level 2 ability is a trigger that triggers upon it becoming level 2 and happens only after it becomes level 2. If it's not on the battlefield when its level 2 ability resolves, there is no ability to trigger (nor a permanent to become level 2). [/A]"
          },
          "metadata": {}
        },
        {
          "output_type": "stream",
          "name": "stdout",
          "text": [
            "\n",
            "\n",
            "39-th English paragraph (of length 292 letters and 42 words)\n"
          ]
        },
        {
          "output_type": "display_data",
          "data": {
            "text/plain": [
              "<IPython.core.display.Markdown object>"
            ],
            "text/markdown": "> [hr]\n[cright=Bear Cub|PO2]Alex, the answer is \"What is another\nname for Ursine Child?\"[/cright][Q] I enchanted my opponent's [c]Bear Cub[/c] with my [c]Sigil of Sleep[/c]. If the Bear Cub goes unblocked attacking me, who chooses which creature I control gets returned to its owner's hand?[/Q]"
          },
          "metadata": {}
        },
        {
          "output_type": "stream",
          "name": "stdout",
          "text": [
            "\n",
            "\n",
            "40-th English paragraph (of length 60 letters and 12 words)\n"
          ]
        },
        {
          "output_type": "display_data",
          "data": {
            "text/plain": [
              "<IPython.core.display.Markdown object>"
            ],
            "text/markdown": "> [A] You get to choose as you control the Sigil of Sleep.[/A]"
          },
          "metadata": {}
        },
        {
          "output_type": "stream",
          "name": "stdout",
          "text": [
            "\n",
            "\n",
            "41-th English paragraph (of length 175 letters and 29 words)\n"
          ]
        },
        {
          "output_type": "display_data",
          "data": {
            "text/plain": [
              "<IPython.core.display.Markdown object>"
            ],
            "text/markdown": "> [hr]\n[Q] I attack with [c]Geist of Saint Traft[/c] while I control [c]Anointed Procession[/c]. When combat ends, will both Angel tokens get exiled or do I get to keep one?[/Q]"
          },
          "metadata": {}
        },
        {
          "output_type": "stream",
          "name": "stdout",
          "text": [
            "\n",
            "\n",
            "42-th English paragraph (of length 232 letters and 39 words)\n"
          ]
        },
        {
          "output_type": "display_data",
          "data": {
            "text/plain": [
              "<IPython.core.display.Markdown object>"
            ],
            "text/markdown": "> [A] Both still get exiled. Saint Traft's triggered ability still made both tokens and tracks them to be exiled at the end of combat. Procession doesn't make tokens, it just changes how many tokens other cards and abilities make.[/A]"
          },
          "metadata": {}
        },
        {
          "output_type": "stream",
          "name": "stdout",
          "text": [
            "\n",
            "\n",
            "43-th English paragraph (of length 221 letters and 39 words)\n"
          ]
        },
        {
          "output_type": "display_data",
          "data": {
            "text/plain": [
              "<IPython.core.display.Markdown object>"
            ],
            "text/markdown": "> [hr]\n[Q] I attack with [c]Geist of Saint Traft[/c], but before blocks, I cast [c]Eyes in the Skies[/c] choosing to populate the Angel token. When combat ends, will both Angel tokens get exiled or do I get to keep one?[/Q]"
          },
          "metadata": {}
        },
        {
          "output_type": "stream",
          "name": "stdout",
          "text": [
            "\n",
            "\n",
            "44-th English paragraph (of length 341 letters and 65 words)\n"
          ]
        },
        {
          "output_type": "display_data",
          "data": {
            "text/plain": [
              "<IPython.core.display.Markdown object>"
            ],
            "text/markdown": "> [A] You get to keep the one made by Eyes in the Skies. Unlike Anointed Procession from the last question, Eyes in the Skies makes the token and the token has no link to the ability that made the original Angel token. This includes that the second Angel token is not attacking, is not tapped, and it won't get exiled at the end of combat.[/A]"
          },
          "metadata": {}
        },
        {
          "output_type": "stream",
          "name": "stdout",
          "text": [
            "\n",
            "\n",
            "45-th English paragraph (of length 110 letters and 16 words)\n"
          ]
        },
        {
          "output_type": "display_data",
          "data": {
            "text/plain": [
              "<IPython.core.display.Markdown object>"
            ],
            "text/markdown": "> [hr]\n[Q] I don't understand what [c]Emrakul, the World Anew[/c] has protection from. Can you clarify this?[/Q]"
          },
          "metadata": {}
        },
        {
          "output_type": "stream",
          "name": "stdout",
          "text": [
            "\n",
            "\n",
            "46-th English paragraph (of length 205 letters and 34 words)\n"
          ]
        },
        {
          "output_type": "display_data",
          "data": {
            "text/plain": [
              "<IPython.core.display.Markdown object>"
            ],
            "text/markdown": "> [A] Emrakul has protection from spells and separately protection from permanents cast \"this turn\". This turn is whichever turn it currently is, even if it's been many turns since Emrakul herself was cast. "
          },
          "metadata": {}
        },
        {
          "output_type": "stream",
          "name": "stdout",
          "text": [
            "\n",
            "\n",
            "47-th English paragraph (of length 420 letters and 74 words)\n"
          ]
        },
        {
          "output_type": "display_data",
          "data": {
            "text/plain": [
              "<IPython.core.display.Markdown object>"
            ],
            "text/markdown": "> So for example, if I cast [c]Visara the Dreadful[/c] and gave her some [c]Lightning Greaves[/c] the same turn I cast her, she can't target and destroy Emrakul that turn. However, if I pass to my opponent's turn, Visara can now kill Emrakul as it's no longer the same turn Visara was cast. If I used [c]Goryo's Vengeance[/c] to reanimate Visara, then Visara could kill Emrakul that same turn as Visara wasn't cast at all."
          },
          "metadata": {}
        },
        {
          "output_type": "stream",
          "name": "stdout",
          "text": [
            "\n",
            "\n",
            "48-th English paragraph (of length 368 letters and 60 words)\n"
          ]
        },
        {
          "output_type": "display_data",
          "data": {
            "text/plain": [
              "<IPython.core.display.Markdown object>"
            ],
            "text/markdown": "> Emrakul's protection ability acts similar to having protection from Auras. Auras when cast target what they will enchant, so Emrakul is safe from most Auras. However, on later turns, an Aura could be moved from its original target, to enchant Emrakul. For example, you could move [c]Pacifism[/c] from a 1/1 Goblin token to Emrakul using [c]Crown of the Ages[/c]. \n[/A]"
          },
          "metadata": {}
        },
        {
          "output_type": "stream",
          "name": "stdout",
          "text": [
            "\n",
            "\n",
            "49-th English paragraph (of length 264 letters and 44 words)\n"
          ]
        },
        {
          "output_type": "display_data",
          "data": {
            "text/plain": [
              "<IPython.core.display.Markdown object>"
            ],
            "text/markdown": "> [hr]\n[Q] I cast [c]Season of Weaving[/c] choosing the two paws mode (to copy my [c]Arcanis the Omnipotent[/c]) and the three paws mode. Will I have to put one Arcanis into my graveyard due to the legend rule before bouncing all nonland and nontoken permanents?[/Q]"
          },
          "metadata": {}
        },
        {
          "output_type": "stream",
          "name": "stdout",
          "text": [
            "\n",
            "\n",
            "50-th English paragraph (of length 285 letters and 51 words)\n"
          ]
        },
        {
          "output_type": "display_data",
          "data": {
            "text/plain": [
              "<IPython.core.display.Markdown object>"
            ],
            "text/markdown": "> [A] You will not and you can not. The legend rule is a state based action. It's never checked in the middle of resolving a spell. You will put the original Arcanis into your hand before Season of Weaving fully resolves. The legend rule doesn't come into play during this situation.[/A]"
          },
          "metadata": {}
        },
        {
          "output_type": "stream",
          "name": "stdout",
          "text": [
            "\n",
            "\n",
            "51-th English paragraph (of length 273 letters and 44 words)\n"
          ]
        },
        {
          "output_type": "display_data",
          "data": {
            "text/plain": [
              "<IPython.core.display.Markdown object>"
            ],
            "text/markdown": "> [hr]\n[Q] If I cast [c]Righteous Confluence[/c] choosing mode two once to exile my opponent's [c]Leyline of Sanctity[/c] and mode three twice to gain 10 total life, and the opponent responds by [c]Boomerang[/c]ing the Leyline back to their hand, do I still gain 10 life?[/Q]"
          },
          "metadata": {}
        },
        {
          "output_type": "stream",
          "name": "stdout",
          "text": [
            "\n",
            "\n",
            "52-th English paragraph (of length 227 letters and 42 words)\n"
          ]
        },
        {
          "output_type": "display_data",
          "data": {
            "text/plain": [
              "<IPython.core.display.Markdown object>"
            ],
            "text/markdown": "> [A] You do not. Righteous Confluence had only one target, Leyline of Sanctity, and that target has disappeared. If a spell loses all of its targets by the time it goes to resolve, it fizzles and none of its effects happen. [/A]"
          },
          "metadata": {}
        },
        {
          "output_type": "stream",
          "name": "stdout",
          "text": [
            "\n",
            "\n",
            "53-th English paragraph (of length 280 letters and 53 words)\n"
          ]
        },
        {
          "output_type": "display_data",
          "data": {
            "text/plain": [
              "<IPython.core.display.Markdown object>"
            ],
            "text/markdown": "> [hr]\n[Q] I just cast [c]Cultivate[/c] putting a [c]Swamp[/c] onto the battlefield and a [c]Forest[/c] into my hand. I haven't played a land from my hand yet this turn. Can I still play the Forest as my land drop for the turn, or did the Swamp use up my land drop for the turn?[/Q]"
          },
          "metadata": {}
        },
        {
          "output_type": "stream",
          "name": "stdout",
          "text": [
            "\n",
            "\n",
            "54-th English paragraph (of length 142 letters and 27 words)\n"
          ]
        },
        {
          "output_type": "display_data",
          "data": {
            "text/plain": [
              "<IPython.core.display.Markdown object>"
            ],
            "text/markdown": "> [A] You may still play the Forest. Putting a land onto the battlefield with a spell or ability doesn't use up your one land drop per turn.[/A]"
          },
          "metadata": {}
        },
        {
          "output_type": "stream",
          "name": "stdout",
          "text": [
            "\n",
            "\n",
            "55-th English paragraph (of length 4 letters and 1 words)\n"
          ]
        },
        {
          "output_type": "display_data",
          "data": {
            "text/plain": [
              "<IPython.core.display.Markdown object>"
            ],
            "text/markdown": "> [hr]"
          },
          "metadata": {}
        },
        {
          "output_type": "stream",
          "name": "stdout",
          "text": [
            "\n",
            "\n",
            "56-th English paragraph (of length 1037 letters and 175 words)\n"
          ]
        },
        {
          "output_type": "display_data",
          "data": {
            "text/plain": [
              "<IPython.core.display.Markdown object>"
            ],
            "text/markdown": "> Each Question in my last article had a hidden reference to a different pop-culture pig. With ten different questions there were ten different pigs. The spoiler below has the answer key to those references.\n[spoiler]\nQuestion 1) Charlotte's Web - Wilbur the Pig and Charlotte the Spider\nQuestion 2) Jim Henson's Muppets - Miss Piggy, Kermit the Frog, and Fozzie Bear.\nQuestion 3) The Three Little Pigs and the Big Bad Wolf\nQuestion 4) Angry Birds Video Game (Birds vs Pigs)\nQuestion 5) Looney Tunes - Bugs Bunny, Porky Pig, and Daffy Duck\nQuestion 6) Babe the 1995 Movie - Babe the Pig, Sheep for Babe to herd, and Farmer Arthur Hoggett\nQuestion 7) Legend of Zelda - Link an Elf Warrior, Zelda an Elf Noble, and Ganon (pig form of Ganondorf)\nQuestion 8) The Lion King - Timon the Meerkat, Pumbaa the Warthog, and some Hyenas for them to fight.\nQuestion 9) Toy Story - Woody the Cowboy, Buzz the Spaceman, Rex the T-Rex, and Hamm the Piggy Bank.\nQuestion 10) Winnie the Pooh - Pooh the Bear, Tigger the Tiger, and Piglet the Pig.[/spoiler]"
          },
          "metadata": {}
        },
        {
          "output_type": "stream",
          "name": "stdout",
          "text": [
            "\n",
            "\n",
            "57-th English paragraph (of length 62 letters and 10 words)\n"
          ]
        },
        {
          "output_type": "display_data",
          "data": {
            "text/plain": [
              "<IPython.core.display.Markdown object>"
            ],
            "text/markdown": "> - Justin Hovdenes AKA Hovey\nLevel 2 Magic Judge\nRapid City, SD"
          },
          "metadata": {}
        },
        {
          "output_type": "stream",
          "name": "stdout",
          "text": [
            "- Generating the Markdown content to write to Google doc:\n",
            "The entire content to write is:\n"
          ]
        },
        {
          "output_type": "display_data",
          "data": {
            "text/plain": [
              "<IPython.core.display.Markdown object>"
            ],
            "text/markdown": "> \n    # TITLE: « Cranial Insertion: All in Jeopardy (Can you answer in the form of a question?) »\n\n    - Une suggestion pour la traduction de ce titre en français est :\n    TITRE : « Cranial Insertion: All in Jeopardy (Pouvez-vous répondre sous la forme d'une question?) »\n\n    - Le dernier article vient de cette page web : https://www.cranial-insertion.com/article/4376\n    - Il a été publié le : Mon, 31 Mar 2025 00:00:00 EDT\n\n    -----------------------------------------------------\n    \n\n[cright=Living Death]\"Alex, the answer is \"What would be an\nexample of an oximoron?\"[/cright]\n\nToday we have a collection of questions found on the IRC Chatroom #magicjudges-rules and the Facebook group Ask the Judge - [b]Magic[/b]: The Gathering Rules and Policy Questions. Feel free to join us in either or both groups.\n\nIf you have any [b]Magic[/b] questions burning at the back of your brain, you can send them to us. We may even use them in a future article. If you have a short question, you can send it to us via our Twitter account at [url=https://twitter.com/CranialTweet]@CranialTweet[/url], and you can send us longer questions at [email]moko@cranialinsertion.com[/email].\n\n[hr]\n[Q] I have two [c]Squire[/c]s on the battlefield and I have [c]Custodi Soulbinders[/c] and four copies of [c]Bear Cub[/c] in my graveyard. If I cast [c]Living Death[/c], how many +1/+1 counters will Soulbinders enter with?[/Q]\n\n[A] Custodi Soulbinders will enter with zero +1/+1 counters. Souldbinders and the Bears will enter simultaneously. Soulbinders' first ability is a replacement effect that checks to see how many creatures are on the battlefield just before it enters. At that point there are no creatures on the board, so it gets no counters as it enters.[/A]\n\n[hr]\n[Q] My commander is [c]Grimgrin, Corpse-Born[/c]. Grimgrin was [c]Murder[/c]ed last turn and I choose to move him to the command zone. I control [c]Rooftop Storm[/c]. If I try to cast Grimgrin from the command zone, will he cost [m]2[/m] or will he be free?[/Q]\n\n[A] He will cost [m]2[/m]. \nCommander \"tax\" is an additional cost that must be paid in addition to the normal cost for casting your commander. Rooftop Storm gives you the option of replacing the normal cost of casting your Zombies with [m]0[/m]. This has no effect on additional costs.  [/A]\n\n[hr]\n[Q] My opponent exiled [c]Wheel of Fate[/c] with [c]Reckless Impulse[/c]. She now claims she can cast Wheel of Fate because it's in exile. Is that true?[/Q]\n\n[A] Your opponent is wrong. The part of suspend that lets you cast a card with no mana cost is casting it without paying its mana cost, not that it's casting it from exile.[/A]\n\n[hr]\n[Q] I control four [c]Bear Cub[/c]s, [c]Agrus Kos, Eternal Soldier[/c], and [c]Thundering Raiju[/c]. None of my creatures are currently modified. I attack with the Raiju and have its attack trigger target Agrus. When Agrus's ability triggers because he became targeted, I pay the cost. After all these triggers resolve, how much damage will Raiju deal to each opponent?[/Q]\n\n[A] The Answer is between 15-19 damage, depending on when you let the trigger targeting Raiju resolve.\n\nWhen Agrus's trigger resolves, it creates five copies of Raiju's trigger, one for each Bear and one for Raiju, making a total of six Raiju triggers. The last trigger to resolve has to be the one targeting Agrus, and the other five resolve before it in the order of your choosing. \n\nFor our first example, we will have the trigger targeting Raiju resolve first, then the four triggers targeting Bears, and finally the one targeting Agrus.\n\nRaiju gets a +1/+1 counter, no damage is dealt as Raiju only checks modified creatures other than himself. Total damage 0.\nBear #1 gets a +1/+1 counter, 1 damage is dealt as there is only one modified creature other than Raiju. Total damage 1.\nBear #2 gets a +1/+1 counter, 2 damage is dealt as there are now two modified creatures. Total damage 3.\nBear #3 gets a +1/+1 counter, 3 damage is dealt. Total damage 6.\nBear #4 gets a counter, 4 damage is dealt. Total damage of 10.\nAgrus get a a counter, 5 damage is dealt. Total damage of 15.\n\nNow let's have the four Bears' triggers resolve first, then Raiju, followed by Agrus.\nBear #1, 1 damage is dealt. Total damage 1.\nBear #2, 2 damage is dealt. Total damage 3.\nBear #3, 3 damage id dealt. Total damage 6.\nBear #4, 4 damage is dealt. Total damage is 10.\nRaiju, 4 damage is dealt. Total damage is 14.\nAgrus, 5 damage is dealt. Total damage is 19.\n\nThe later the trigger targeting Raiju resolves, the more the total damage.\n [/A]\n\n[hr]\n[cleft=Grafdigger's Cage]Alex, the answer is \"What is used to \nkeep the dead from escaping their graves?\"[/cleft][Q] Does [c]Grafdigger's Cage[/c] stop [c]Abhorrent Oculus[/c] from manifest-dreading?[/Q]\n\n[A] Well, in the important ways, yes. They still \"manifest dread\", but some parts they can't complete. Manifest Dread is \"Look at the top two cards of your library. Manifest one of them, then put the cards you looked at that were not manifested this way into your graveyard.\" Since you can't put a creature from your library into play, both cards looked at are put into the graveyard.[/A]\n\n[hr]\n[Q] Last turn my opponent stole my [c]Bear Cub[/c] by casting [c]Sower of Temptation[/c]. This turn I used [c]Ovinize[/c] to make the Sower lose all its abilities. I did this because I think I'll get my Bear Cub back, since the Sower no longer has the \"steal your creature\" ability. My opponent disagrees. Who is right?[/Q]\n\n[A] Your opponent is correct. Removing the enters ability (that creates an effect with a duration) after the ability has resolved, doesn't stop it from functioning.\n\nIf it helps, an example that seems more intuitive would be the following: My opponent used [c]Rootwater Matriarch[/c] to steel my [c]Hill Giant[/c] enchanted with [c]Spirit Link[/c]. Killing the Matriarch won't get the Hill Giant back, even though that removes where the steal ability came from. The duration is based on whether or not the Hill Giant is still enchanted.\n\nSo with the original question, removing Sower's abilities doesn't stop the steal effect. You have to remove the Sower to gain the creature back because that ends the duration of the effect.[/A]\n\n[hr]\n[Q] So continuing with the last question, what if instead of [c]Ovinize[/c]ing the [c]Sower of Temptation[/c] I phased it out with [c]Reality Ripple[/c]?[/Q]\n\n[A] You would get your creature back. If a creature phases out, it's treated as though it's no longer on the battlefield. The duration of its effect has been met, so the effect ends and the stolen creature returns to its last controller, usually its owner.[/A]\n\n[hr]\n[Q] I block my opponent's attacking [c]Bear Cub[/c] with [c]Manor Gargoyle[/c]. After combat ends, the opponent then casts [c]Disfigure[/c] targeting my Gargoyle. They claim they just killed my Gargoyle. Is this true?[/Q]\n\n[A] It is not true, your Gargoyle lives through this. Many new players make this same wrong assumption. Damage doesn't reduce toughness. You have a 2/2 Gargoyle with 2 damage marked on it. Because it's indestructible, the state based action that tries to destroy it for having equal or more damage than it has toughness fails to do anything. If they want to get your Gargoyle into the graveyard, they need to give it enough [c=Dismember]-X/-X to make its toughness 0 or less[/c], or force you to [c=Diabolic Edict]sacrifice it[/c].[/A]\n\n[hr]\n[Q] If [c]Ragavan, Nimble Pilferer[/c] is my commander, can I cast him for his dash cost from the command zone?[/Q]\n\n[A] Yes, you can. Dash can be used from any zone, so long as you are allowed to cast that card from that same zone normally. [/A]\n\n[hr]\n[Q] Following up with the last question, do I have to pay commander tax if I dash out my commander?[/Q]\n\n[A] Yes, you do. Suppose you cast Ragavan normally on turn one, then later he died and returned to the command zone. When you go to dash him he now costs [m]3[/m][m]R[/m] to dash. Then if he dies again and returns to the command zone, the next time you go to cast him he costs either [m]4[/m][m]R[/m] to cast normally or [m]5[/m][m]R[/m] to dash.[/A]\n\n[hr]\n[Q] I have eight cards in my hand. I go to my cleanup step and discard [c]Blazing Rootwalla[/c] to get down to maximum hand size. Can I cast the Rootwalla even though I'm in my cleanup step?[/Q]\n\n[A] Yes, you can. During most cleanup steps, no players get priority. However, if an ability triggers during the cleanup step, or a state based action applies during a cleanup step, then the active player gains priority and may cast spells and activate abilities. \n\nThis is when you can cast the Rootwalla, as discarding it to madness puts a trigger on the stack.\n\nA normal priority pass will begin from here and until all players pass in succession with an empty stack, players may add new items to the stack when they have priority. Once all players pass with an empty stack, this cleanup step ends and a new one begins. If that new cleanup ends normally, then the game will move on to the next player's turn.[/A]\n\n[hr]\n[Q] While resolving [c]Burning Inquiry[/c] I discarded [c]Basking Rootwalla[/c] and two [c]Mountain[/c]s. My opponent controls a [c]Rest in Peace[/c]. My opponent claims I can't cast the Rootwalla for its Madness cost as it got exiled by Rest in Peace when I discarded it. Is this true?[/Q]\n\n[A] Your opponent is wrong. You can cast your Rootwalla for its madness cost. The Rootwalla hasn't been exiled by Rest in Peace yet. This is because madness doesn't quite work the way most people think it does. If a card with madness gets discarded, it goes to exile instead of being put into its owner's graveyard. Then the next time a player would get priority, a trigger allowing its owner to cast it for its madness cost is put on the stack. When this trigger resolves, the owner may cast the card, but if they don't then the card is put into their graveyard. \n\nTo get back to the original question, Rest in Peace can only exile a discarded Madness card after the owner has decided not to cast it for madness and choses to let it go to the graveyard.\n[/A]\n\n[hr]\n[Q] My opponent pays [m]3[/m][m]U[/m] to gain level 2 on their [c]Stormchaser's Talent[/c]. Before it becomes level 2, I [c]Boomerang[/c] it to their hand. The opponent says they still get to return an instant or sorcery to their hand, I say they don't, who is right?[/Q]\n\n[A] You are correct, they do not. Gaining a level is an ability that uses the stack and can be responded to. Stormchaser's level 2 ability is a trigger that triggers upon it becoming level 2 and happens only after it becomes level 2. If it's not on the battlefield when its level 2 ability resolves, there is no ability to trigger (nor a permanent to become level 2). [/A]\n\n[hr]\n[cright=Bear Cub|PO2]Alex, the answer is \"What is another\nname for Ursine Child?\"[/cright][Q] I enchanted my opponent's [c]Bear Cub[/c] with my [c]Sigil of Sleep[/c]. If the Bear Cub goes unblocked attacking me, who chooses which creature I control gets returned to its owner's hand?[/Q]\n\n[A] You get to choose as you control the Sigil of Sleep.[/A]\n\n[hr]\n[Q] I attack with [c]Geist of Saint Traft[/c] while I control [c]Anointed Procession[/c]. When combat ends, will both Angel tokens get exiled or do I get to keep one?[/Q]\n\n[A] Both still get exiled. Saint Traft's triggered ability still made both tokens and tracks them to be exiled at the end of combat. Procession doesn't make tokens, it just changes how many tokens other cards and abilities make.[/A]\n\n[hr]\n[Q] I attack with [c]Geist of Saint Traft[/c], but before blocks, I cast [c]Eyes in the Skies[/c] choosing to populate the Angel token. When combat ends, will both Angel tokens get exiled or do I get to keep one?[/Q]\n\n[A] You get to keep the one made by Eyes in the Skies. Unlike Anointed Procession from the last question, Eyes in the Skies makes the token and the token has no link to the ability that made the original Angel token. This includes that the second Angel token is not attacking, is not tapped, and it won't get exiled at the end of combat.[/A]\n\n[hr]\n[Q] I don't understand what [c]Emrakul, the World Anew[/c] has protection from. Can you clarify this?[/Q]\n\n[A] Emrakul has protection from spells and separately protection from permanents cast \"this turn\". This turn is whichever turn it currently is, even if it's been many turns since Emrakul herself was cast. \n\nSo for example, if I cast [c]Visara the Dreadful[/c] and gave her some [c]Lightning Greaves[/c] the same turn I cast her, she can't target and destroy Emrakul that turn. However, if I pass to my opponent's turn, Visara can now kill Emrakul as it's no longer the same turn Visara was cast. If I used [c]Goryo's Vengeance[/c] to reanimate Visara, then Visara could kill Emrakul that same turn as Visara wasn't cast at all.\n\nEmrakul's protection ability acts similar to having protection from Auras. Auras when cast target what they will enchant, so Emrakul is safe from most Auras. However, on later turns, an Aura could be moved from its original target, to enchant Emrakul. For example, you could move [c]Pacifism[/c] from a 1/1 Goblin token to Emrakul using [c]Crown of the Ages[/c]. \n[/A]\n\n[hr]\n[Q] I cast [c]Season of Weaving[/c] choosing the two paws mode (to copy my [c]Arcanis the Omnipotent[/c]) and the three paws mode. Will I have to put one Arcanis into my graveyard due to the legend rule before bouncing all nonland and nontoken permanents?[/Q]\n\n[A] You will not and you can not. The legend rule is a state based action. It's never checked in the middle of resolving a spell. You will put the original Arcanis into your hand before Season of Weaving fully resolves. The legend rule doesn't come into play during this situation.[/A]\n\n[hr]\n[Q] If I cast [c]Righteous Confluence[/c] choosing mode two once to exile my opponent's [c]Leyline of Sanctity[/c] and mode three twice to gain 10 total life, and the opponent responds by [c]Boomerang[/c]ing the Leyline back to their hand, do I still gain 10 life?[/Q]\n\n[A] You do not. Righteous Confluence had only one target, Leyline of Sanctity, and that target has disappeared. If a spell loses all of its targets by the time it goes to resolve, it fizzles and none of its effects happen. [/A]\n\n[hr]\n[Q] I just cast [c]Cultivate[/c] putting a [c]Swamp[/c] onto the battlefield and a [c]Forest[/c] into my hand. I haven't played a land from my hand yet this turn. Can I still play the Forest as my land drop for the turn, or did the Swamp use up my land drop for the turn?[/Q]\n\n[A] You may still play the Forest. Putting a land onto the battlefield with a spell or ability doesn't use up your one land drop per turn.[/A]\n\n[hr]\n\nEach Question in my last article had a hidden reference to a different pop-culture pig. With ten different questions there were ten different pigs. The spoiler below has the answer key to those references.\n[spoiler]\nQuestion 1) Charlotte's Web - Wilbur the Pig and Charlotte the Spider\nQuestion 2) Jim Henson's Muppets - Miss Piggy, Kermit the Frog, and Fozzie Bear.\nQuestion 3) The Three Little Pigs and the Big Bad Wolf\nQuestion 4) Angry Birds Video Game (Birds vs Pigs)\nQuestion 5) Looney Tunes - Bugs Bunny, Porky Pig, and Daffy Duck\nQuestion 6) Babe the 1995 Movie - Babe the Pig, Sheep for Babe to herd, and Farmer Arthur Hoggett\nQuestion 7) Legend of Zelda - Link an Elf Warrior, Zelda an Elf Noble, and Ganon (pig form of Ganondorf)\nQuestion 8) The Lion King - Timon the Meerkat, Pumbaa the Warthog, and some Hyenas for them to fight.\nQuestion 9) Toy Story - Woody the Cowboy, Buzz the Spaceman, Rex the T-Rex, and Hamm the Piggy Bank.\nQuestion 10) Winnie the Pooh - Pooh the Bear, Tigger the Tiger, and Piglet the Pig.[/spoiler]\n\n- Justin Hovdenes AKA Hovey\nLevel 2 Magic Judge\nRapid City, SD"
          },
          "metadata": {}
        },
        {
          "output_type": "stream",
          "name": "stdout",
          "text": [
            "{'replies': [{}, {}, {}, {}, {}, {}, {}, {}, {}, {}, {}, {}, {}, {}, {}, {}, {}, {}, {}, {}, {}, {}, {}, {}, {}, {}, {}, {}, {}, {}, {}, {}, {}, {}, {}, {}, {}, {}, {}, {}, {}, {}, {}, {}, {}, {}, {}, {}, {}, {}, {}, {}, {}, {}, {}, {}, {}, {}, {}, {}, {}, {}, {}, {}, {}, {}, {}, {}, {}, {}, {}, {}, {}, {}, {}, {}, {}, {}, {}, {}, {}, {}, {}, {}, {}, {}, {}, {}, {}, {}, {}, {}, {}, {}, {}, {}, {}, {}, {}, {}, {}, {}, {}, {}, {}, {}, {}, {}, {}, {}, {}, {}, {}, {}, {}, {}, {}, {}, {}, {}, {}, {}, {}, {}, {}, {}, {}, {}, {}, {}, {}, {}, {}, {}, {}, {}, {}, {}, {}, {}, {}, {}, {}, {}, {}, {}, {}, {}, {}, {}, {}, {}, {}, {}, {}, {}, {}, {}, {}, {}, {}, {}, {}, {}, {}, {}, {}, {}, {}, {}, {}, {}, {}, {}, {}, {}, {}, {}], 'writeControl': {'requiredRevisionId': 'ALBJ4Lvf-aR1vWR3U4DLEgKLHARlbWPKDeFG9Gik11P3M39mcj5fxPa4nWODJwU3SaQ7NsirbZUjnVTEcvEyHQ'}, 'documentId': '1DzS5Fq6iug9qnxwP0iAehLIBrTM8iQL50-AKO8REaDo'}\n",
            "The Google doc at this URL has been modified with the desired content of length 15791:\n",
            "https://docs.google.com/document/d/1DzS5Fq6iug9qnxwP0iAehLIBrTM8iQL50-AKO8REaDo/edit?usp=sharing\n",
            "CPU times: user 519 ms, sys: 15.7 ms, total: 535 ms\n",
            "Wall time: 2.25 s\n"
          ]
        }
      ]
    },
    {
      "cell_type": "markdown",
      "source": [
        "----------\n",
        "\n",
        "## Automatically send a short message to our Discord now that our Google doc has been set up for this weekend's translation job\n",
        "\n",
        "First, I'll use my own private Discord server to try this out.\n",
        "Then if everything works, I'll use our Discord server.\n",
        "\n",
        "I'm following [this article](https://www.makerhacks.com/python-messages-discord/), after I created a webhook on my server by following [the official tutorial](https://support.discord.com/hc/en-us/articles/228383668-Intro-to-Webhooks)."
      ],
      "metadata": {
        "id": "xkaPUbcGSYjW"
      }
    },
    {
      "cell_type": "code",
      "source": [
        "# web library\n",
        "import http.client"
      ],
      "metadata": {
        "id": "Lh2Fwwc8Tiyf"
      },
      "execution_count": 96,
      "outputs": []
    },
    {
      "cell_type": "code",
      "source": [
        "# your webhook URL\n",
        "my_webhook_url = \"\"\"https://discord.com/api/webhooks/1358504126408818940/0gRa5xMe1d8-JxImSqsHFeZUu0EK338RD5sa0GedxqFtGp8DHAEfqHvltnRRbfFl7F_x\"\"\"\n",
        "\n",
        "def send_message_to_Discord(message, webhookurl=my_webhook_url):\n",
        "    print(f\"Starting to send the following message to my Discord server:\\n{message}\")\n",
        "\n",
        "    # compile the form data (BOUNDARY can be anything)\n",
        "    formdata = u\"------:::BOUNDARY:::\\r\\nContent-Disposition: form-data; name=\\\"content\\\"\\r\\n\\r\\n\" + message + u\"\\r\\n------:::BOUNDARY:::--\"\n",
        "\n",
        "    # See https://stackoverflow.com/questions/74722329/how-to-send-accented-characters-with-diacritics-in-http-request-payload#74722361\n",
        "    # formdata = formdata.encode('iso-8859-1')\n",
        "    formdata = formdata.encode('utf-8')\n",
        "\n",
        "    # get the connection and make the request\n",
        "    connection = http.client.HTTPSConnection(\"discord.com\")\n",
        "    connection.request(\"POST\", webhookurl, formdata, {\n",
        "        'content-type': \"multipart/form-data; boundary=----:::BOUNDARY:::\",\n",
        "        'cache-control': \"no-cache\",\n",
        "        # 'encoding': 'utf-8'\n",
        "    })\n",
        "\n",
        "    # get the response\n",
        "    response = connection.getresponse()\n",
        "    result = response.read()\n",
        "\n",
        "    # return back to the calling function with the result\n",
        "    result_decoded_in_utf8 = result.decode(\"utf-8\")\n",
        "    print(\"Success!\")\n",
        "    if result_decoded_in_utf8:\n",
        "        print(result_decoded_in_utf8)\n",
        "    return result_decoded_in_utf8"
      ],
      "metadata": {
        "id": "hiwWwM7dTglF"
      },
      "execution_count": 97,
      "outputs": []
    },
    {
      "cell_type": "code",
      "source": [
        "send_message_to_Discord(u\"*Hello, world!*\\n> Sent from a Google colab notebook running Python! Code by Naereen\")"
      ],
      "metadata": {
        "colab": {
          "base_uri": "https://localhost:8080/",
          "height": 104
        },
        "id": "dJYLq6H5T4f1",
        "outputId": "d0a10ab3-6df2-44ac-db79-1f713c2b9f78"
      },
      "execution_count": 98,
      "outputs": [
        {
          "output_type": "stream",
          "name": "stdout",
          "text": [
            "Starting to send the following message to my Discord server:\n",
            "*Hello, world!*\n",
            "> Sent from a Google colab notebook running Python! Code by Naereen\n",
            "Success!\n"
          ]
        },
        {
          "output_type": "execute_result",
          "data": {
            "text/plain": [
              "''"
            ],
            "application/vnd.google.colaboratory.intrinsic+json": {
              "type": "string"
            }
          },
          "metadata": {},
          "execution_count": 98
        }
      ]
    },
    {
      "cell_type": "markdown",
      "source": [
        "--------------------------\n",
        "\n",
        "## Do it all in one function: download article, translate it (if running on GPU), upload to GDoc, notify the team, make coffee!"
      ],
      "metadata": {
        "id": "hBrNRIkbta0d"
      }
    },
    {
      "cell_type": "code",
      "source": [
        "def do_all_then_notifyme(article_id=None, translate=False):\n",
        "    if article_id is None:\n",
        "        article_id = get_latest_article_id()\n",
        "    print(f\"- The latest article ID is: {article_id}... Downloading it...\")\n",
        "    if translate:\n",
        "        print(\"Then translating it...\")\n",
        "    print(\"Then uploading it to our Google doc...\")\n",
        "\n",
        "    get_article_translate_it_then_upload_to_google_doc(article_id, translate=translate)\n",
        "\n",
        "    latest_article_link = f\"https://www.cranial-insertion.com/article/{article_id}\"\n",
        "\n",
        "    message_for_Discord = f\"\"\"||@everyone|| [Notre Google doc partagé]({our_google_doc_url}) a été mis à jour, avec le brouillon de traduction pour [le nouvel article hebdomadaire]({latest_article_link}).\n",
        "\n",
        "Cet article s'intitule \"{latest_article_title}\", a été publié le {latest_article_published_data}, et son ID est {article_id}.\n",
        "\n",
        "> Envoyé automatiquement depuis un notebook Python executé sur Google Colab! Code by @Naereen\n",
        "\"\"\"\n",
        "    print_paragraph(message_for_Discord)\n",
        "\n",
        "    return send_message_to_Discord(message_for_Discord)"
      ],
      "metadata": {
        "id": "HXzmvFj_tgTx"
      },
      "execution_count": 99,
      "outputs": []
    },
    {
      "cell_type": "markdown",
      "source": [
        "Let's try!"
      ],
      "metadata": {
        "id": "c5HP3NWPgy49"
      }
    },
    {
      "cell_type": "code",
      "source": [
        "%%time\n",
        "do_all_then_notifyme(translate=running_on_GPU)"
      ],
      "metadata": {
        "colab": {
          "base_uri": "https://localhost:8080/",
          "height": 1000,
          "referenced_widgets": [
            "6589bfcecd684110b029a807b7bb7abe",
            "357a0f0c978f41eca39ab97f4b89f80f",
            "daaf07904df7465dbb297339968e1a1c",
            "f5c3792264ea4399818e993eb77166d9",
            "982e0c96d916450088fff3f16c655a72",
            "a3bd6e9797404438b2cc22b9873218fa",
            "1029ae8eaf2348ca8254d870529d7cdd",
            "74d90cba621c4075a473f6732038f2a6",
            "ec4e574d966142c287cb7dc12827b828",
            "6fa175360b0c4a65bae72237ab1e7750",
            "479dadabbd4d44d383c5a02062d73557"
          ]
        },
        "id": "ZUc1dqgwvcEP",
        "outputId": "8bda43b7-052f-40e7-f566-7c52bb42d799"
      },
      "execution_count": 102,
      "outputs": [
        {
          "output_type": "stream",
          "name": "stdout",
          "text": [
            "- The latest article ID is: 4376... Downloading it...\n",
            "Then uploading it to our Google doc...\n",
            "- The latest article ID is: 4376... Downloading it, then translating it...\n",
            "Reading the article at URL https://www.cranial-insertion.com/staff/articles/4376/edit ...\n",
            "Using French language and my admin cookie...\n",
            "The web page has been read and it's title is « <title>Cranial Insertion | Manage Articles</title> » !\n"
          ]
        },
        {
          "output_type": "display_data",
          "data": {
            "text/plain": [
              "0it [00:00, ?it/s]"
            ],
            "application/vnd.jupyter.widget-view+json": {
              "version_major": 2,
              "version_minor": 0,
              "model_id": "6589bfcecd684110b029a807b7bb7abe"
            }
          },
          "metadata": {}
        },
        {
          "output_type": "stream",
          "name": "stdout",
          "text": [
            "\n",
            "\n",
            "0-th English paragraph (of length 93 letters and 12 words)\n"
          ]
        },
        {
          "output_type": "display_data",
          "data": {
            "text/plain": [
              "<IPython.core.display.Markdown object>"
            ],
            "text/markdown": "> [cright=Living Death]\"Alex, the answer is \"What would be an\nexample of an oximoron?\"[/cright]"
          },
          "metadata": {}
        },
        {
          "output_type": "stream",
          "name": "stdout",
          "text": [
            "\n",
            "\n",
            "1-th English paragraph (of length 226 letters and 38 words)\n"
          ]
        },
        {
          "output_type": "display_data",
          "data": {
            "text/plain": [
              "<IPython.core.display.Markdown object>"
            ],
            "text/markdown": "> Today we have a collection of questions found on the IRC Chatroom #magicjudges-rules and the Facebook group Ask the Judge - [b]Magic[/b]: The Gathering Rules and Policy Questions. Feel free to join us in either or both groups."
          },
          "metadata": {}
        },
        {
          "output_type": "stream",
          "name": "stdout",
          "text": [
            "\n",
            "\n",
            "2-th English paragraph (of length 360 letters and 55 words)\n"
          ]
        },
        {
          "output_type": "display_data",
          "data": {
            "text/plain": [
              "<IPython.core.display.Markdown object>"
            ],
            "text/markdown": "> If you have any [b]Magic[/b] questions burning at the back of your brain, you can send them to us. We may even use them in a future article. If you have a short question, you can send it to us via our Twitter account at [url=https://twitter.com/CranialTweet]@CranialTweet[/url], and you can send us longer questions at [email]moko@cranialinsertion.com[/email]."
          },
          "metadata": {}
        },
        {
          "output_type": "stream",
          "name": "stdout",
          "text": [
            "\n",
            "\n",
            "3-th English paragraph (of length 231 letters and 35 words)\n"
          ]
        },
        {
          "output_type": "display_data",
          "data": {
            "text/plain": [
              "<IPython.core.display.Markdown object>"
            ],
            "text/markdown": "> [hr]\n[Q] I have two [c]Squire[/c]s on the battlefield and I have [c]Custodi Soulbinders[/c] and four copies of [c]Bear Cub[/c] in my graveyard. If I cast [c]Living Death[/c], how many +1/+1 counters will Soulbinders enter with?[/Q]"
          },
          "metadata": {}
        },
        {
          "output_type": "stream",
          "name": "stdout",
          "text": [
            "\n",
            "\n",
            "4-th English paragraph (of length 341 letters and 56 words)\n"
          ]
        },
        {
          "output_type": "display_data",
          "data": {
            "text/plain": [
              "<IPython.core.display.Markdown object>"
            ],
            "text/markdown": "> [A] Custodi Soulbinders will enter with zero +1/+1 counters. Souldbinders and the Bears will enter simultaneously. Soulbinders' first ability is a replacement effect that checks to see how many creatures are on the battlefield just before it enters. At that point there are no creatures on the board, so it gets no counters as it enters.[/A]"
          },
          "metadata": {}
        },
        {
          "output_type": "stream",
          "name": "stdout",
          "text": [
            "\n",
            "\n",
            "5-th English paragraph (of length 266 letters and 44 words)\n"
          ]
        },
        {
          "output_type": "display_data",
          "data": {
            "text/plain": [
              "<IPython.core.display.Markdown object>"
            ],
            "text/markdown": "> [hr]\n[Q] My commander is [c]Grimgrin, Corpse-Born[/c]. Grimgrin was [c]Murder[/c]ed last turn and I choose to move him to the command zone. I control [c]Rooftop Storm[/c]. If I try to cast Grimgrin from the command zone, will he cost [m]2[/m] or will he be free?[/Q]"
          },
          "metadata": {}
        },
        {
          "output_type": "stream",
          "name": "stdout",
          "text": [
            "\n",
            "\n",
            "6-th English paragraph (of length 291 letters and 51 words)\n"
          ]
        },
        {
          "output_type": "display_data",
          "data": {
            "text/plain": [
              "<IPython.core.display.Markdown object>"
            ],
            "text/markdown": "> [A] He will cost [m]2[/m]. \nCommander \"tax\" is an additional cost that must be paid in addition to the normal cost for casting your commander. Rooftop Storm gives you the option of replacing the normal cost of casting your Zombies with [m]0[/m]. This has no effect on additional costs.  [/A]"
          },
          "metadata": {}
        },
        {
          "output_type": "stream",
          "name": "stdout",
          "text": [
            "\n",
            "\n",
            "7-th English paragraph (of length 161 letters and 26 words)\n"
          ]
        },
        {
          "output_type": "display_data",
          "data": {
            "text/plain": [
              "<IPython.core.display.Markdown object>"
            ],
            "text/markdown": "> [hr]\n[Q] My opponent exiled [c]Wheel of Fate[/c] with [c]Reckless Impulse[/c]. She now claims she can cast Wheel of Fate because it's in exile. Is that true?[/Q]"
          },
          "metadata": {}
        },
        {
          "output_type": "stream",
          "name": "stdout",
          "text": [
            "\n",
            "\n",
            "8-th English paragraph (of length 176 letters and 34 words)\n"
          ]
        },
        {
          "output_type": "display_data",
          "data": {
            "text/plain": [
              "<IPython.core.display.Markdown object>"
            ],
            "text/markdown": "> [A] Your opponent is wrong. The part of suspend that lets you cast a card with no mana cost is casting it without paying its mana cost, not that it's casting it from exile.[/A]"
          },
          "metadata": {}
        },
        {
          "output_type": "stream",
          "name": "stdout",
          "text": [
            "\n",
            "\n",
            "9-th English paragraph (of length 378 letters and 58 words)\n"
          ]
        },
        {
          "output_type": "display_data",
          "data": {
            "text/plain": [
              "<IPython.core.display.Markdown object>"
            ],
            "text/markdown": "> [hr]\n[Q] I control four [c]Bear Cub[/c]s, [c]Agrus Kos, Eternal Soldier[/c], and [c]Thundering Raiju[/c]. None of my creatures are currently modified. I attack with the Raiju and have its attack trigger target Agrus. When Agrus's ability triggers because he became targeted, I pay the cost. After all these triggers resolve, how much damage will Raiju deal to each opponent?[/Q]"
          },
          "metadata": {}
        },
        {
          "output_type": "stream",
          "name": "stdout",
          "text": [
            "\n",
            "\n",
            "10-th English paragraph (of length 102 letters and 17 words)\n"
          ]
        },
        {
          "output_type": "display_data",
          "data": {
            "text/plain": [
              "<IPython.core.display.Markdown object>"
            ],
            "text/markdown": "> [A] The Answer is between 15-19 damage, depending on when you let the trigger targeting Raiju resolve."
          },
          "metadata": {}
        },
        {
          "output_type": "stream",
          "name": "stdout",
          "text": [
            "\n",
            "\n",
            "11-th English paragraph (of length 280 letters and 52 words)\n"
          ]
        },
        {
          "output_type": "display_data",
          "data": {
            "text/plain": [
              "<IPython.core.display.Markdown object>"
            ],
            "text/markdown": "> When Agrus's trigger resolves, it creates five copies of Raiju's trigger, one for each Bear and one for Raiju, making a total of six Raiju triggers. The last trigger to resolve has to be the one targeting Agrus, and the other five resolve before it in the order of your choosing. "
          },
          "metadata": {}
        },
        {
          "output_type": "stream",
          "name": "stdout",
          "text": [
            "\n",
            "\n",
            "12-th English paragraph (of length 155 letters and 25 words)\n"
          ]
        },
        {
          "output_type": "display_data",
          "data": {
            "text/plain": [
              "<IPython.core.display.Markdown object>"
            ],
            "text/markdown": "> For our first example, we will have the trigger targeting Raiju resolve first, then the four triggers targeting Bears, and finally the one targeting Agrus."
          },
          "metadata": {}
        },
        {
          "output_type": "stream",
          "name": "stdout",
          "text": [
            "\n",
            "\n",
            "13-th English paragraph (of length 538 letters and 98 words)\n"
          ]
        },
        {
          "output_type": "display_data",
          "data": {
            "text/plain": [
              "<IPython.core.display.Markdown object>"
            ],
            "text/markdown": "> Raiju gets a +1/+1 counter, no damage is dealt as Raiju only checks modified creatures other than himself. Total damage 0.\nBear #1 gets a +1/+1 counter, 1 damage is dealt as there is only one modified creature other than Raiju. Total damage 1.\nBear #2 gets a +1/+1 counter, 2 damage is dealt as there are now two modified creatures. Total damage 3.\nBear #3 gets a +1/+1 counter, 3 damage is dealt. Total damage 6.\nBear #4 gets a counter, 4 damage is dealt. Total damage of 10.\nAgrus get a a counter, 5 damage is dealt. Total damage of 15."
          },
          "metadata": {}
        },
        {
          "output_type": "stream",
          "name": "stdout",
          "text": [
            "\n",
            "\n",
            "14-th English paragraph (of length 357 letters and 63 words)\n"
          ]
        },
        {
          "output_type": "display_data",
          "data": {
            "text/plain": [
              "<IPython.core.display.Markdown object>"
            ],
            "text/markdown": "> Now let's have the four Bears' triggers resolve first, then Raiju, followed by Agrus.\nBear #1, 1 damage is dealt. Total damage 1.\nBear #2, 2 damage is dealt. Total damage 3.\nBear #3, 3 damage id dealt. Total damage 6.\nBear #4, 4 damage is dealt. Total damage is 10.\nRaiju, 4 damage is dealt. Total damage is 14.\nAgrus, 5 damage is dealt. Total damage is 19."
          },
          "metadata": {}
        },
        {
          "output_type": "stream",
          "name": "stdout",
          "text": [
            "\n",
            "\n",
            "15-th English paragraph (of length 80 letters and 13 words)\n"
          ]
        },
        {
          "output_type": "display_data",
          "data": {
            "text/plain": [
              "<IPython.core.display.Markdown object>"
            ],
            "text/markdown": "> The later the trigger targeting Raiju resolves, the more the total damage.\n [/A]"
          },
          "metadata": {}
        },
        {
          "output_type": "stream",
          "name": "stdout",
          "text": [
            "\n",
            "\n",
            "16-th English paragraph (of length 208 letters and 24 words)\n"
          ]
        },
        {
          "output_type": "display_data",
          "data": {
            "text/plain": [
              "<IPython.core.display.Markdown object>"
            ],
            "text/markdown": "> [hr]\n[cleft=Grafdigger's Cage]Alex, the answer is \"What is used to \nkeep the dead from escaping their graves?\"[/cleft][Q] Does [c]Grafdigger's Cage[/c] stop [c]Abhorrent Oculus[/c] from manifest-dreading?[/Q]"
          },
          "metadata": {}
        },
        {
          "output_type": "stream",
          "name": "stdout",
          "text": [
            "\n",
            "\n",
            "17-th English paragraph (of length 388 letters and 69 words)\n"
          ]
        },
        {
          "output_type": "display_data",
          "data": {
            "text/plain": [
              "<IPython.core.display.Markdown object>"
            ],
            "text/markdown": "> [A] Well, in the important ways, yes. They still \"manifest dread\", but some parts they can't complete. Manifest Dread is \"Look at the top two cards of your library. Manifest one of them, then put the cards you looked at that were not manifested this way into your graveyard.\" Since you can't put a creature from your library into play, both cards looked at are put into the graveyard.[/A]"
          },
          "metadata": {}
        },
        {
          "output_type": "stream",
          "name": "stdout",
          "text": [
            "\n",
            "\n",
            "18-th English paragraph (of length 328 letters and 56 words)\n"
          ]
        },
        {
          "output_type": "display_data",
          "data": {
            "text/plain": [
              "<IPython.core.display.Markdown object>"
            ],
            "text/markdown": "> [hr]\n[Q] Last turn my opponent stole my [c]Bear Cub[/c] by casting [c]Sower of Temptation[/c]. This turn I used [c]Ovinize[/c] to make the Sower lose all its abilities. I did this because I think I'll get my Bear Cub back, since the Sower no longer has the \"steal your creature\" ability. My opponent disagrees. Who is right?[/Q]"
          },
          "metadata": {}
        },
        {
          "output_type": "stream",
          "name": "stdout",
          "text": [
            "\n",
            "\n",
            "19-th English paragraph (of length 164 letters and 26 words)\n"
          ]
        },
        {
          "output_type": "display_data",
          "data": {
            "text/plain": [
              "<IPython.core.display.Markdown object>"
            ],
            "text/markdown": "> [A] Your opponent is correct. Removing the enters ability (that creates an effect with a duration) after the ability has resolved, doesn't stop it from functioning."
          },
          "metadata": {}
        },
        {
          "output_type": "stream",
          "name": "stdout",
          "text": [
            "\n",
            "\n",
            "20-th English paragraph (of length 370 letters and 60 words)\n"
          ]
        },
        {
          "output_type": "display_data",
          "data": {
            "text/plain": [
              "<IPython.core.display.Markdown object>"
            ],
            "text/markdown": "> If it helps, an example that seems more intuitive would be the following: My opponent used [c]Rootwater Matriarch[/c] to steel my [c]Hill Giant[/c] enchanted with [c]Spirit Link[/c]. Killing the Matriarch won't get the Hill Giant back, even though that removes where the steal ability came from. The duration is based on whether or not the Hill Giant is still enchanted."
          },
          "metadata": {}
        },
        {
          "output_type": "stream",
          "name": "stdout",
          "text": [
            "\n",
            "\n",
            "21-th English paragraph (of length 193 letters and 32 words)\n"
          ]
        },
        {
          "output_type": "display_data",
          "data": {
            "text/plain": [
              "<IPython.core.display.Markdown object>"
            ],
            "text/markdown": "> So with the original question, removing Sower's abilities doesn't stop the steal effect. You have to remove the Sower to gain the creature back because that ends the duration of the effect.[/A]"
          },
          "metadata": {}
        },
        {
          "output_type": "stream",
          "name": "stdout",
          "text": [
            "\n",
            "\n",
            "22-th English paragraph (of length 162 letters and 23 words)\n"
          ]
        },
        {
          "output_type": "display_data",
          "data": {
            "text/plain": [
              "<IPython.core.display.Markdown object>"
            ],
            "text/markdown": "> [hr]\n[Q] So continuing with the last question, what if instead of [c]Ovinize[/c]ing the [c]Sower of Temptation[/c] I phased it out with [c]Reality Ripple[/c]?[/Q]"
          },
          "metadata": {}
        },
        {
          "output_type": "stream",
          "name": "stdout",
          "text": [
            "\n",
            "\n",
            "23-th English paragraph (of length 260 letters and 46 words)\n"
          ]
        },
        {
          "output_type": "display_data",
          "data": {
            "text/plain": [
              "<IPython.core.display.Markdown object>"
            ],
            "text/markdown": "> [A] You would get your creature back. If a creature phases out, it's treated as though it's no longer on the battlefield. The duration of its effect has been met, so the effect ends and the stolen creature returns to its last controller, usually its owner.[/A]"
          },
          "metadata": {}
        },
        {
          "output_type": "stream",
          "name": "stdout",
          "text": [
            "\n",
            "\n",
            "24-th English paragraph (of length 226 letters and 32 words)\n"
          ]
        },
        {
          "output_type": "display_data",
          "data": {
            "text/plain": [
              "<IPython.core.display.Markdown object>"
            ],
            "text/markdown": "> [hr]\n[Q] I block my opponent's attacking [c]Bear Cub[/c] with [c]Manor Gargoyle[/c]. After combat ends, the opponent then casts [c]Disfigure[/c] targeting my Gargoyle. They claim they just killed my Gargoyle. Is this true?[/Q]"
          },
          "metadata": {}
        },
        {
          "output_type": "stream",
          "name": "stdout",
          "text": [
            "\n",
            "\n",
            "25-th English paragraph (of length 535 letters and 90 words)\n"
          ]
        },
        {
          "output_type": "display_data",
          "data": {
            "text/plain": [
              "<IPython.core.display.Markdown object>"
            ],
            "text/markdown": "> [A] It is not true, your Gargoyle lives through this. Many new players make this same wrong assumption. Damage doesn't reduce toughness. You have a 2/2 Gargoyle with 2 damage marked on it. Because it's indestructible, the state based action that tries to destroy it for having equal or more damage than it has toughness fails to do anything. If they want to get your Gargoyle into the graveyard, they need to give it enough [c=Dismember]-X/-X to make its toughness 0 or less[/c], or force you to [c=Diabolic Edict]sacrifice it[/c].[/A]"
          },
          "metadata": {}
        },
        {
          "output_type": "stream",
          "name": "stdout",
          "text": [
            "\n",
            "\n",
            "26-th English paragraph (of length 120 letters and 20 words)\n"
          ]
        },
        {
          "output_type": "display_data",
          "data": {
            "text/plain": [
              "<IPython.core.display.Markdown object>"
            ],
            "text/markdown": "> [hr]\n[Q] If [c]Ragavan, Nimble Pilferer[/c] is my commander, can I cast him for his dash cost from the command zone?[/Q]"
          },
          "metadata": {}
        },
        {
          "output_type": "stream",
          "name": "stdout",
          "text": [
            "\n",
            "\n",
            "27-th English paragraph (of length 129 letters and 27 words)\n"
          ]
        },
        {
          "output_type": "display_data",
          "data": {
            "text/plain": [
              "<IPython.core.display.Markdown object>"
            ],
            "text/markdown": "> [A] Yes, you can. Dash can be used from any zone, so long as you are allowed to cast that card from that same zone normally. [/A]"
          },
          "metadata": {}
        },
        {
          "output_type": "stream",
          "name": "stdout",
          "text": [
            "\n",
            "\n",
            "28-th English paragraph (of length 108 letters and 20 words)\n"
          ]
        },
        {
          "output_type": "display_data",
          "data": {
            "text/plain": [
              "<IPython.core.display.Markdown object>"
            ],
            "text/markdown": "> [hr]\n[Q] Following up with the last question, do I have to pay commander tax if I dash out my commander?[/Q]"
          },
          "metadata": {}
        },
        {
          "output_type": "stream",
          "name": "stdout",
          "text": [
            "\n",
            "\n",
            "29-th English paragraph (of length 350 letters and 64 words)\n"
          ]
        },
        {
          "output_type": "display_data",
          "data": {
            "text/plain": [
              "<IPython.core.display.Markdown object>"
            ],
            "text/markdown": "> [A] Yes, you do. Suppose you cast Ragavan normally on turn one, then later he died and returned to the command zone. When you go to dash him he now costs [m]3[/m][m]R[/m] to dash. Then if he dies again and returns to the command zone, the next time you go to cast him he costs either [m]4[/m][m]R[/m] to cast normally or [m]5[/m][m]R[/m] to dash.[/A]"
          },
          "metadata": {}
        },
        {
          "output_type": "stream",
          "name": "stdout",
          "text": [
            "\n",
            "\n",
            "30-th English paragraph (of length 199 letters and 37 words)\n"
          ]
        },
        {
          "output_type": "display_data",
          "data": {
            "text/plain": [
              "<IPython.core.display.Markdown object>"
            ],
            "text/markdown": "> [hr]\n[Q] I have eight cards in my hand. I go to my cleanup step and discard [c]Blazing Rootwalla[/c] to get down to maximum hand size. Can I cast the Rootwalla even though I'm in my cleanup step?[/Q]"
          },
          "metadata": {}
        },
        {
          "output_type": "stream",
          "name": "stdout",
          "text": [
            "\n",
            "\n",
            "31-th English paragraph (of length 264 letters and 45 words)\n"
          ]
        },
        {
          "output_type": "display_data",
          "data": {
            "text/plain": [
              "<IPython.core.display.Markdown object>"
            ],
            "text/markdown": "> [A] Yes, you can. During most cleanup steps, no players get priority. However, if an ability triggers during the cleanup step, or a state based action applies during a cleanup step, then the active player gains priority and may cast spells and activate abilities. "
          },
          "metadata": {}
        },
        {
          "output_type": "stream",
          "name": "stdout",
          "text": [
            "\n",
            "\n",
            "32-th English paragraph (of length 97 letters and 19 words)\n"
          ]
        },
        {
          "output_type": "display_data",
          "data": {
            "text/plain": [
              "<IPython.core.display.Markdown object>"
            ],
            "text/markdown": "> This is when you can cast the Rootwalla, as discarding it to madness puts a trigger on the stack."
          },
          "metadata": {}
        },
        {
          "output_type": "stream",
          "name": "stdout",
          "text": [
            "\n",
            "\n",
            "33-th English paragraph (of length 350 letters and 65 words)\n"
          ]
        },
        {
          "output_type": "display_data",
          "data": {
            "text/plain": [
              "<IPython.core.display.Markdown object>"
            ],
            "text/markdown": "> A normal priority pass will begin from here and until all players pass in succession with an empty stack, players may add new items to the stack when they have priority. Once all players pass with an empty stack, this cleanup step ends and a new one begins. If that new cleanup ends normally, then the game will move on to the next player's turn.[/A]"
          },
          "metadata": {}
        },
        {
          "output_type": "stream",
          "name": "stdout",
          "text": [
            "\n",
            "\n",
            "34-th English paragraph (of length 295 letters and 46 words)\n"
          ]
        },
        {
          "output_type": "display_data",
          "data": {
            "text/plain": [
              "<IPython.core.display.Markdown object>"
            ],
            "text/markdown": "> [hr]\n[Q] While resolving [c]Burning Inquiry[/c] I discarded [c]Basking Rootwalla[/c] and two [c]Mountain[/c]s. My opponent controls a [c]Rest in Peace[/c]. My opponent claims I can't cast the Rootwalla for its Madness cost as it got exiled by Rest in Peace when I discarded it. Is this true?[/Q]"
          },
          "metadata": {}
        },
        {
          "output_type": "stream",
          "name": "stdout",
          "text": [
            "\n",
            "\n",
            "35-th English paragraph (of length 564 letters and 106 words)\n"
          ]
        },
        {
          "output_type": "display_data",
          "data": {
            "text/plain": [
              "<IPython.core.display.Markdown object>"
            ],
            "text/markdown": "> [A] Your opponent is wrong. You can cast your Rootwalla for its madness cost. The Rootwalla hasn't been exiled by Rest in Peace yet. This is because madness doesn't quite work the way most people think it does. If a card with madness gets discarded, it goes to exile instead of being put into its owner's graveyard. Then the next time a player would get priority, a trigger allowing its owner to cast it for its madness cost is put on the stack. When this trigger resolves, the owner may cast the card, but if they don't then the card is put into their graveyard. "
          },
          "metadata": {}
        },
        {
          "output_type": "stream",
          "name": "stdout",
          "text": [
            "\n",
            "\n",
            "36-th English paragraph (of length 193 letters and 37 words)\n"
          ]
        },
        {
          "output_type": "display_data",
          "data": {
            "text/plain": [
              "<IPython.core.display.Markdown object>"
            ],
            "text/markdown": "> To get back to the original question, Rest in Peace can only exile a discarded Madness card after the owner has decided not to cast it for madness and choses to let it go to the graveyard.\n[/A]"
          },
          "metadata": {}
        },
        {
          "output_type": "stream",
          "name": "stdout",
          "text": [
            "\n",
            "\n",
            "37-th English paragraph (of length 276 letters and 46 words)\n"
          ]
        },
        {
          "output_type": "display_data",
          "data": {
            "text/plain": [
              "<IPython.core.display.Markdown object>"
            ],
            "text/markdown": "> [hr]\n[Q] My opponent pays [m]3[/m][m]U[/m] to gain level 2 on their [c]Stormchaser's Talent[/c]. Before it becomes level 2, I [c]Boomerang[/c] it to their hand. The opponent says they still get to return an instant or sorcery to their hand, I say they don't, who is right?[/Q]"
          },
          "metadata": {}
        },
        {
          "output_type": "stream",
          "name": "stdout",
          "text": [
            "\n",
            "\n",
            "38-th English paragraph (of length 372 letters and 70 words)\n"
          ]
        },
        {
          "output_type": "display_data",
          "data": {
            "text/plain": [
              "<IPython.core.display.Markdown object>"
            ],
            "text/markdown": "> [A] You are correct, they do not. Gaining a level is an ability that uses the stack and can be responded to. Stormchaser's level 2 ability is a trigger that triggers upon it becoming level 2 and happens only after it becomes level 2. If it's not on the battlefield when its level 2 ability resolves, there is no ability to trigger (nor a permanent to become level 2). [/A]"
          },
          "metadata": {}
        },
        {
          "output_type": "stream",
          "name": "stdout",
          "text": [
            "\n",
            "\n",
            "39-th English paragraph (of length 292 letters and 42 words)\n"
          ]
        },
        {
          "output_type": "display_data",
          "data": {
            "text/plain": [
              "<IPython.core.display.Markdown object>"
            ],
            "text/markdown": "> [hr]\n[cright=Bear Cub|PO2]Alex, the answer is \"What is another\nname for Ursine Child?\"[/cright][Q] I enchanted my opponent's [c]Bear Cub[/c] with my [c]Sigil of Sleep[/c]. If the Bear Cub goes unblocked attacking me, who chooses which creature I control gets returned to its owner's hand?[/Q]"
          },
          "metadata": {}
        },
        {
          "output_type": "stream",
          "name": "stdout",
          "text": [
            "\n",
            "\n",
            "40-th English paragraph (of length 60 letters and 12 words)\n"
          ]
        },
        {
          "output_type": "display_data",
          "data": {
            "text/plain": [
              "<IPython.core.display.Markdown object>"
            ],
            "text/markdown": "> [A] You get to choose as you control the Sigil of Sleep.[/A]"
          },
          "metadata": {}
        },
        {
          "output_type": "stream",
          "name": "stdout",
          "text": [
            "\n",
            "\n",
            "41-th English paragraph (of length 175 letters and 29 words)\n"
          ]
        },
        {
          "output_type": "display_data",
          "data": {
            "text/plain": [
              "<IPython.core.display.Markdown object>"
            ],
            "text/markdown": "> [hr]\n[Q] I attack with [c]Geist of Saint Traft[/c] while I control [c]Anointed Procession[/c]. When combat ends, will both Angel tokens get exiled or do I get to keep one?[/Q]"
          },
          "metadata": {}
        },
        {
          "output_type": "stream",
          "name": "stdout",
          "text": [
            "\n",
            "\n",
            "42-th English paragraph (of length 232 letters and 39 words)\n"
          ]
        },
        {
          "output_type": "display_data",
          "data": {
            "text/plain": [
              "<IPython.core.display.Markdown object>"
            ],
            "text/markdown": "> [A] Both still get exiled. Saint Traft's triggered ability still made both tokens and tracks them to be exiled at the end of combat. Procession doesn't make tokens, it just changes how many tokens other cards and abilities make.[/A]"
          },
          "metadata": {}
        },
        {
          "output_type": "stream",
          "name": "stdout",
          "text": [
            "\n",
            "\n",
            "43-th English paragraph (of length 221 letters and 39 words)\n"
          ]
        },
        {
          "output_type": "display_data",
          "data": {
            "text/plain": [
              "<IPython.core.display.Markdown object>"
            ],
            "text/markdown": "> [hr]\n[Q] I attack with [c]Geist of Saint Traft[/c], but before blocks, I cast [c]Eyes in the Skies[/c] choosing to populate the Angel token. When combat ends, will both Angel tokens get exiled or do I get to keep one?[/Q]"
          },
          "metadata": {}
        },
        {
          "output_type": "stream",
          "name": "stdout",
          "text": [
            "\n",
            "\n",
            "44-th English paragraph (of length 341 letters and 65 words)\n"
          ]
        },
        {
          "output_type": "display_data",
          "data": {
            "text/plain": [
              "<IPython.core.display.Markdown object>"
            ],
            "text/markdown": "> [A] You get to keep the one made by Eyes in the Skies. Unlike Anointed Procession from the last question, Eyes in the Skies makes the token and the token has no link to the ability that made the original Angel token. This includes that the second Angel token is not attacking, is not tapped, and it won't get exiled at the end of combat.[/A]"
          },
          "metadata": {}
        },
        {
          "output_type": "stream",
          "name": "stdout",
          "text": [
            "\n",
            "\n",
            "45-th English paragraph (of length 110 letters and 16 words)\n"
          ]
        },
        {
          "output_type": "display_data",
          "data": {
            "text/plain": [
              "<IPython.core.display.Markdown object>"
            ],
            "text/markdown": "> [hr]\n[Q] I don't understand what [c]Emrakul, the World Anew[/c] has protection from. Can you clarify this?[/Q]"
          },
          "metadata": {}
        },
        {
          "output_type": "stream",
          "name": "stdout",
          "text": [
            "\n",
            "\n",
            "46-th English paragraph (of length 205 letters and 34 words)\n"
          ]
        },
        {
          "output_type": "display_data",
          "data": {
            "text/plain": [
              "<IPython.core.display.Markdown object>"
            ],
            "text/markdown": "> [A] Emrakul has protection from spells and separately protection from permanents cast \"this turn\". This turn is whichever turn it currently is, even if it's been many turns since Emrakul herself was cast. "
          },
          "metadata": {}
        },
        {
          "output_type": "stream",
          "name": "stdout",
          "text": [
            "\n",
            "\n",
            "47-th English paragraph (of length 420 letters and 74 words)\n"
          ]
        },
        {
          "output_type": "display_data",
          "data": {
            "text/plain": [
              "<IPython.core.display.Markdown object>"
            ],
            "text/markdown": "> So for example, if I cast [c]Visara the Dreadful[/c] and gave her some [c]Lightning Greaves[/c] the same turn I cast her, she can't target and destroy Emrakul that turn. However, if I pass to my opponent's turn, Visara can now kill Emrakul as it's no longer the same turn Visara was cast. If I used [c]Goryo's Vengeance[/c] to reanimate Visara, then Visara could kill Emrakul that same turn as Visara wasn't cast at all."
          },
          "metadata": {}
        },
        {
          "output_type": "stream",
          "name": "stdout",
          "text": [
            "\n",
            "\n",
            "48-th English paragraph (of length 368 letters and 60 words)\n"
          ]
        },
        {
          "output_type": "display_data",
          "data": {
            "text/plain": [
              "<IPython.core.display.Markdown object>"
            ],
            "text/markdown": "> Emrakul's protection ability acts similar to having protection from Auras. Auras when cast target what they will enchant, so Emrakul is safe from most Auras. However, on later turns, an Aura could be moved from its original target, to enchant Emrakul. For example, you could move [c]Pacifism[/c] from a 1/1 Goblin token to Emrakul using [c]Crown of the Ages[/c]. \n[/A]"
          },
          "metadata": {}
        },
        {
          "output_type": "stream",
          "name": "stdout",
          "text": [
            "\n",
            "\n",
            "49-th English paragraph (of length 264 letters and 44 words)\n"
          ]
        },
        {
          "output_type": "display_data",
          "data": {
            "text/plain": [
              "<IPython.core.display.Markdown object>"
            ],
            "text/markdown": "> [hr]\n[Q] I cast [c]Season of Weaving[/c] choosing the two paws mode (to copy my [c]Arcanis the Omnipotent[/c]) and the three paws mode. Will I have to put one Arcanis into my graveyard due to the legend rule before bouncing all nonland and nontoken permanents?[/Q]"
          },
          "metadata": {}
        },
        {
          "output_type": "stream",
          "name": "stdout",
          "text": [
            "\n",
            "\n",
            "50-th English paragraph (of length 285 letters and 51 words)\n"
          ]
        },
        {
          "output_type": "display_data",
          "data": {
            "text/plain": [
              "<IPython.core.display.Markdown object>"
            ],
            "text/markdown": "> [A] You will not and you can not. The legend rule is a state based action. It's never checked in the middle of resolving a spell. You will put the original Arcanis into your hand before Season of Weaving fully resolves. The legend rule doesn't come into play during this situation.[/A]"
          },
          "metadata": {}
        },
        {
          "output_type": "stream",
          "name": "stdout",
          "text": [
            "\n",
            "\n",
            "51-th English paragraph (of length 273 letters and 44 words)\n"
          ]
        },
        {
          "output_type": "display_data",
          "data": {
            "text/plain": [
              "<IPython.core.display.Markdown object>"
            ],
            "text/markdown": "> [hr]\n[Q] If I cast [c]Righteous Confluence[/c] choosing mode two once to exile my opponent's [c]Leyline of Sanctity[/c] and mode three twice to gain 10 total life, and the opponent responds by [c]Boomerang[/c]ing the Leyline back to their hand, do I still gain 10 life?[/Q]"
          },
          "metadata": {}
        },
        {
          "output_type": "stream",
          "name": "stdout",
          "text": [
            "\n",
            "\n",
            "52-th English paragraph (of length 227 letters and 42 words)\n"
          ]
        },
        {
          "output_type": "display_data",
          "data": {
            "text/plain": [
              "<IPython.core.display.Markdown object>"
            ],
            "text/markdown": "> [A] You do not. Righteous Confluence had only one target, Leyline of Sanctity, and that target has disappeared. If a spell loses all of its targets by the time it goes to resolve, it fizzles and none of its effects happen. [/A]"
          },
          "metadata": {}
        },
        {
          "output_type": "stream",
          "name": "stdout",
          "text": [
            "\n",
            "\n",
            "53-th English paragraph (of length 280 letters and 53 words)\n"
          ]
        },
        {
          "output_type": "display_data",
          "data": {
            "text/plain": [
              "<IPython.core.display.Markdown object>"
            ],
            "text/markdown": "> [hr]\n[Q] I just cast [c]Cultivate[/c] putting a [c]Swamp[/c] onto the battlefield and a [c]Forest[/c] into my hand. I haven't played a land from my hand yet this turn. Can I still play the Forest as my land drop for the turn, or did the Swamp use up my land drop for the turn?[/Q]"
          },
          "metadata": {}
        },
        {
          "output_type": "stream",
          "name": "stdout",
          "text": [
            "\n",
            "\n",
            "54-th English paragraph (of length 142 letters and 27 words)\n"
          ]
        },
        {
          "output_type": "display_data",
          "data": {
            "text/plain": [
              "<IPython.core.display.Markdown object>"
            ],
            "text/markdown": "> [A] You may still play the Forest. Putting a land onto the battlefield with a spell or ability doesn't use up your one land drop per turn.[/A]"
          },
          "metadata": {}
        },
        {
          "output_type": "stream",
          "name": "stdout",
          "text": [
            "\n",
            "\n",
            "55-th English paragraph (of length 4 letters and 1 words)\n"
          ]
        },
        {
          "output_type": "display_data",
          "data": {
            "text/plain": [
              "<IPython.core.display.Markdown object>"
            ],
            "text/markdown": "> [hr]"
          },
          "metadata": {}
        },
        {
          "output_type": "stream",
          "name": "stdout",
          "text": [
            "\n",
            "\n",
            "56-th English paragraph (of length 1037 letters and 175 words)\n"
          ]
        },
        {
          "output_type": "display_data",
          "data": {
            "text/plain": [
              "<IPython.core.display.Markdown object>"
            ],
            "text/markdown": "> Each Question in my last article had a hidden reference to a different pop-culture pig. With ten different questions there were ten different pigs. The spoiler below has the answer key to those references.\n[spoiler]\nQuestion 1) Charlotte's Web - Wilbur the Pig and Charlotte the Spider\nQuestion 2) Jim Henson's Muppets - Miss Piggy, Kermit the Frog, and Fozzie Bear.\nQuestion 3) The Three Little Pigs and the Big Bad Wolf\nQuestion 4) Angry Birds Video Game (Birds vs Pigs)\nQuestion 5) Looney Tunes - Bugs Bunny, Porky Pig, and Daffy Duck\nQuestion 6) Babe the 1995 Movie - Babe the Pig, Sheep for Babe to herd, and Farmer Arthur Hoggett\nQuestion 7) Legend of Zelda - Link an Elf Warrior, Zelda an Elf Noble, and Ganon (pig form of Ganondorf)\nQuestion 8) The Lion King - Timon the Meerkat, Pumbaa the Warthog, and some Hyenas for them to fight.\nQuestion 9) Toy Story - Woody the Cowboy, Buzz the Spaceman, Rex the T-Rex, and Hamm the Piggy Bank.\nQuestion 10) Winnie the Pooh - Pooh the Bear, Tigger the Tiger, and Piglet the Pig.[/spoiler]"
          },
          "metadata": {}
        },
        {
          "output_type": "stream",
          "name": "stdout",
          "text": [
            "\n",
            "\n",
            "57-th English paragraph (of length 62 letters and 10 words)\n"
          ]
        },
        {
          "output_type": "display_data",
          "data": {
            "text/plain": [
              "<IPython.core.display.Markdown object>"
            ],
            "text/markdown": "> - Justin Hovdenes AKA Hovey\nLevel 2 Magic Judge\nRapid City, SD"
          },
          "metadata": {}
        },
        {
          "output_type": "stream",
          "name": "stdout",
          "text": [
            "- Generating the Markdown content to write to Google doc:\n",
            "The entire content to write is:\n"
          ]
        },
        {
          "output_type": "display_data",
          "data": {
            "text/plain": [
              "<IPython.core.display.Markdown object>"
            ],
            "text/markdown": "> \n    # TITLE: « Cranial Insertion: All in Jeopardy (Can you answer in the form of a question?) »\n\n    - Une suggestion pour la traduction de ce titre en français est :\n    TITRE : « Cranial Insertion: All in Jeopardy (Pouvez-vous répondre sous la forme d'une question?) »\n\n    - Le dernier article vient de cette page web : https://www.cranial-insertion.com/article/4376\n    - Il a été publié le : Mon, 31 Mar 2025 00:00:00 EDT\n\n    -----------------------------------------------------\n    \n\n[cright=Living Death]\"Alex, the answer is \"What would be an\nexample of an oximoron?\"[/cright]\n\nToday we have a collection of questions found on the IRC Chatroom #magicjudges-rules and the Facebook group Ask the Judge - [b]Magic[/b]: The Gathering Rules and Policy Questions. Feel free to join us in either or both groups.\n\nIf you have any [b]Magic[/b] questions burning at the back of your brain, you can send them to us. We may even use them in a future article. If you have a short question, you can send it to us via our Twitter account at [url=https://twitter.com/CranialTweet]@CranialTweet[/url], and you can send us longer questions at [email]moko@cranialinsertion.com[/email].\n\n[hr]\n[Q] I have two [c]Squire[/c]s on the battlefield and I have [c]Custodi Soulbinders[/c] and four copies of [c]Bear Cub[/c] in my graveyard. If I cast [c]Living Death[/c], how many +1/+1 counters will Soulbinders enter with?[/Q]\n\n[A] Custodi Soulbinders will enter with zero +1/+1 counters. Souldbinders and the Bears will enter simultaneously. Soulbinders' first ability is a replacement effect that checks to see how many creatures are on the battlefield just before it enters. At that point there are no creatures on the board, so it gets no counters as it enters.[/A]\n\n[hr]\n[Q] My commander is [c]Grimgrin, Corpse-Born[/c]. Grimgrin was [c]Murder[/c]ed last turn and I choose to move him to the command zone. I control [c]Rooftop Storm[/c]. If I try to cast Grimgrin from the command zone, will he cost [m]2[/m] or will he be free?[/Q]\n\n[A] He will cost [m]2[/m]. \nCommander \"tax\" is an additional cost that must be paid in addition to the normal cost for casting your commander. Rooftop Storm gives you the option of replacing the normal cost of casting your Zombies with [m]0[/m]. This has no effect on additional costs.  [/A]\n\n[hr]\n[Q] My opponent exiled [c]Wheel of Fate[/c] with [c]Reckless Impulse[/c]. She now claims she can cast Wheel of Fate because it's in exile. Is that true?[/Q]\n\n[A] Your opponent is wrong. The part of suspend that lets you cast a card with no mana cost is casting it without paying its mana cost, not that it's casting it from exile.[/A]\n\n[hr]\n[Q] I control four [c]Bear Cub[/c]s, [c]Agrus Kos, Eternal Soldier[/c], and [c]Thundering Raiju[/c]. None of my creatures are currently modified. I attack with the Raiju and have its attack trigger target Agrus. When Agrus's ability triggers because he became targeted, I pay the cost. After all these triggers resolve, how much damage will Raiju deal to each opponent?[/Q]\n\n[A] The Answer is between 15-19 damage, depending on when you let the trigger targeting Raiju resolve.\n\nWhen Agrus's trigger resolves, it creates five copies of Raiju's trigger, one for each Bear and one for Raiju, making a total of six Raiju triggers. The last trigger to resolve has to be the one targeting Agrus, and the other five resolve before it in the order of your choosing. \n\nFor our first example, we will have the trigger targeting Raiju resolve first, then the four triggers targeting Bears, and finally the one targeting Agrus.\n\nRaiju gets a +1/+1 counter, no damage is dealt as Raiju only checks modified creatures other than himself. Total damage 0.\nBear #1 gets a +1/+1 counter, 1 damage is dealt as there is only one modified creature other than Raiju. Total damage 1.\nBear #2 gets a +1/+1 counter, 2 damage is dealt as there are now two modified creatures. Total damage 3.\nBear #3 gets a +1/+1 counter, 3 damage is dealt. Total damage 6.\nBear #4 gets a counter, 4 damage is dealt. Total damage of 10.\nAgrus get a a counter, 5 damage is dealt. Total damage of 15.\n\nNow let's have the four Bears' triggers resolve first, then Raiju, followed by Agrus.\nBear #1, 1 damage is dealt. Total damage 1.\nBear #2, 2 damage is dealt. Total damage 3.\nBear #3, 3 damage id dealt. Total damage 6.\nBear #4, 4 damage is dealt. Total damage is 10.\nRaiju, 4 damage is dealt. Total damage is 14.\nAgrus, 5 damage is dealt. Total damage is 19.\n\nThe later the trigger targeting Raiju resolves, the more the total damage.\n [/A]\n\n[hr]\n[cleft=Grafdigger's Cage]Alex, the answer is \"What is used to \nkeep the dead from escaping their graves?\"[/cleft][Q] Does [c]Grafdigger's Cage[/c] stop [c]Abhorrent Oculus[/c] from manifest-dreading?[/Q]\n\n[A] Well, in the important ways, yes. They still \"manifest dread\", but some parts they can't complete. Manifest Dread is \"Look at the top two cards of your library. Manifest one of them, then put the cards you looked at that were not manifested this way into your graveyard.\" Since you can't put a creature from your library into play, both cards looked at are put into the graveyard.[/A]\n\n[hr]\n[Q] Last turn my opponent stole my [c]Bear Cub[/c] by casting [c]Sower of Temptation[/c]. This turn I used [c]Ovinize[/c] to make the Sower lose all its abilities. I did this because I think I'll get my Bear Cub back, since the Sower no longer has the \"steal your creature\" ability. My opponent disagrees. Who is right?[/Q]\n\n[A] Your opponent is correct. Removing the enters ability (that creates an effect with a duration) after the ability has resolved, doesn't stop it from functioning.\n\nIf it helps, an example that seems more intuitive would be the following: My opponent used [c]Rootwater Matriarch[/c] to steel my [c]Hill Giant[/c] enchanted with [c]Spirit Link[/c]. Killing the Matriarch won't get the Hill Giant back, even though that removes where the steal ability came from. The duration is based on whether or not the Hill Giant is still enchanted.\n\nSo with the original question, removing Sower's abilities doesn't stop the steal effect. You have to remove the Sower to gain the creature back because that ends the duration of the effect.[/A]\n\n[hr]\n[Q] So continuing with the last question, what if instead of [c]Ovinize[/c]ing the [c]Sower of Temptation[/c] I phased it out with [c]Reality Ripple[/c]?[/Q]\n\n[A] You would get your creature back. If a creature phases out, it's treated as though it's no longer on the battlefield. The duration of its effect has been met, so the effect ends and the stolen creature returns to its last controller, usually its owner.[/A]\n\n[hr]\n[Q] I block my opponent's attacking [c]Bear Cub[/c] with [c]Manor Gargoyle[/c]. After combat ends, the opponent then casts [c]Disfigure[/c] targeting my Gargoyle. They claim they just killed my Gargoyle. Is this true?[/Q]\n\n[A] It is not true, your Gargoyle lives through this. Many new players make this same wrong assumption. Damage doesn't reduce toughness. You have a 2/2 Gargoyle with 2 damage marked on it. Because it's indestructible, the state based action that tries to destroy it for having equal or more damage than it has toughness fails to do anything. If they want to get your Gargoyle into the graveyard, they need to give it enough [c=Dismember]-X/-X to make its toughness 0 or less[/c], or force you to [c=Diabolic Edict]sacrifice it[/c].[/A]\n\n[hr]\n[Q] If [c]Ragavan, Nimble Pilferer[/c] is my commander, can I cast him for his dash cost from the command zone?[/Q]\n\n[A] Yes, you can. Dash can be used from any zone, so long as you are allowed to cast that card from that same zone normally. [/A]\n\n[hr]\n[Q] Following up with the last question, do I have to pay commander tax if I dash out my commander?[/Q]\n\n[A] Yes, you do. Suppose you cast Ragavan normally on turn one, then later he died and returned to the command zone. When you go to dash him he now costs [m]3[/m][m]R[/m] to dash. Then if he dies again and returns to the command zone, the next time you go to cast him he costs either [m]4[/m][m]R[/m] to cast normally or [m]5[/m][m]R[/m] to dash.[/A]\n\n[hr]\n[Q] I have eight cards in my hand. I go to my cleanup step and discard [c]Blazing Rootwalla[/c] to get down to maximum hand size. Can I cast the Rootwalla even though I'm in my cleanup step?[/Q]\n\n[A] Yes, you can. During most cleanup steps, no players get priority. However, if an ability triggers during the cleanup step, or a state based action applies during a cleanup step, then the active player gains priority and may cast spells and activate abilities. \n\nThis is when you can cast the Rootwalla, as discarding it to madness puts a trigger on the stack.\n\nA normal priority pass will begin from here and until all players pass in succession with an empty stack, players may add new items to the stack when they have priority. Once all players pass with an empty stack, this cleanup step ends and a new one begins. If that new cleanup ends normally, then the game will move on to the next player's turn.[/A]\n\n[hr]\n[Q] While resolving [c]Burning Inquiry[/c] I discarded [c]Basking Rootwalla[/c] and two [c]Mountain[/c]s. My opponent controls a [c]Rest in Peace[/c]. My opponent claims I can't cast the Rootwalla for its Madness cost as it got exiled by Rest in Peace when I discarded it. Is this true?[/Q]\n\n[A] Your opponent is wrong. You can cast your Rootwalla for its madness cost. The Rootwalla hasn't been exiled by Rest in Peace yet. This is because madness doesn't quite work the way most people think it does. If a card with madness gets discarded, it goes to exile instead of being put into its owner's graveyard. Then the next time a player would get priority, a trigger allowing its owner to cast it for its madness cost is put on the stack. When this trigger resolves, the owner may cast the card, but if they don't then the card is put into their graveyard. \n\nTo get back to the original question, Rest in Peace can only exile a discarded Madness card after the owner has decided not to cast it for madness and choses to let it go to the graveyard.\n[/A]\n\n[hr]\n[Q] My opponent pays [m]3[/m][m]U[/m] to gain level 2 on their [c]Stormchaser's Talent[/c]. Before it becomes level 2, I [c]Boomerang[/c] it to their hand. The opponent says they still get to return an instant or sorcery to their hand, I say they don't, who is right?[/Q]\n\n[A] You are correct, they do not. Gaining a level is an ability that uses the stack and can be responded to. Stormchaser's level 2 ability is a trigger that triggers upon it becoming level 2 and happens only after it becomes level 2. If it's not on the battlefield when its level 2 ability resolves, there is no ability to trigger (nor a permanent to become level 2). [/A]\n\n[hr]\n[cright=Bear Cub|PO2]Alex, the answer is \"What is another\nname for Ursine Child?\"[/cright][Q] I enchanted my opponent's [c]Bear Cub[/c] with my [c]Sigil of Sleep[/c]. If the Bear Cub goes unblocked attacking me, who chooses which creature I control gets returned to its owner's hand?[/Q]\n\n[A] You get to choose as you control the Sigil of Sleep.[/A]\n\n[hr]\n[Q] I attack with [c]Geist of Saint Traft[/c] while I control [c]Anointed Procession[/c]. When combat ends, will both Angel tokens get exiled or do I get to keep one?[/Q]\n\n[A] Both still get exiled. Saint Traft's triggered ability still made both tokens and tracks them to be exiled at the end of combat. Procession doesn't make tokens, it just changes how many tokens other cards and abilities make.[/A]\n\n[hr]\n[Q] I attack with [c]Geist of Saint Traft[/c], but before blocks, I cast [c]Eyes in the Skies[/c] choosing to populate the Angel token. When combat ends, will both Angel tokens get exiled or do I get to keep one?[/Q]\n\n[A] You get to keep the one made by Eyes in the Skies. Unlike Anointed Procession from the last question, Eyes in the Skies makes the token and the token has no link to the ability that made the original Angel token. This includes that the second Angel token is not attacking, is not tapped, and it won't get exiled at the end of combat.[/A]\n\n[hr]\n[Q] I don't understand what [c]Emrakul, the World Anew[/c] has protection from. Can you clarify this?[/Q]\n\n[A] Emrakul has protection from spells and separately protection from permanents cast \"this turn\". This turn is whichever turn it currently is, even if it's been many turns since Emrakul herself was cast. \n\nSo for example, if I cast [c]Visara the Dreadful[/c] and gave her some [c]Lightning Greaves[/c] the same turn I cast her, she can't target and destroy Emrakul that turn. However, if I pass to my opponent's turn, Visara can now kill Emrakul as it's no longer the same turn Visara was cast. If I used [c]Goryo's Vengeance[/c] to reanimate Visara, then Visara could kill Emrakul that same turn as Visara wasn't cast at all.\n\nEmrakul's protection ability acts similar to having protection from Auras. Auras when cast target what they will enchant, so Emrakul is safe from most Auras. However, on later turns, an Aura could be moved from its original target, to enchant Emrakul. For example, you could move [c]Pacifism[/c] from a 1/1 Goblin token to Emrakul using [c]Crown of the Ages[/c]. \n[/A]\n\n[hr]\n[Q] I cast [c]Season of Weaving[/c] choosing the two paws mode (to copy my [c]Arcanis the Omnipotent[/c]) and the three paws mode. Will I have to put one Arcanis into my graveyard due to the legend rule before bouncing all nonland and nontoken permanents?[/Q]\n\n[A] You will not and you can not. The legend rule is a state based action. It's never checked in the middle of resolving a spell. You will put the original Arcanis into your hand before Season of Weaving fully resolves. The legend rule doesn't come into play during this situation.[/A]\n\n[hr]\n[Q] If I cast [c]Righteous Confluence[/c] choosing mode two once to exile my opponent's [c]Leyline of Sanctity[/c] and mode three twice to gain 10 total life, and the opponent responds by [c]Boomerang[/c]ing the Leyline back to their hand, do I still gain 10 life?[/Q]\n\n[A] You do not. Righteous Confluence had only one target, Leyline of Sanctity, and that target has disappeared. If a spell loses all of its targets by the time it goes to resolve, it fizzles and none of its effects happen. [/A]\n\n[hr]\n[Q] I just cast [c]Cultivate[/c] putting a [c]Swamp[/c] onto the battlefield and a [c]Forest[/c] into my hand. I haven't played a land from my hand yet this turn. Can I still play the Forest as my land drop for the turn, or did the Swamp use up my land drop for the turn?[/Q]\n\n[A] You may still play the Forest. Putting a land onto the battlefield with a spell or ability doesn't use up your one land drop per turn.[/A]\n\n[hr]\n\nEach Question in my last article had a hidden reference to a different pop-culture pig. With ten different questions there were ten different pigs. The spoiler below has the answer key to those references.\n[spoiler]\nQuestion 1) Charlotte's Web - Wilbur the Pig and Charlotte the Spider\nQuestion 2) Jim Henson's Muppets - Miss Piggy, Kermit the Frog, and Fozzie Bear.\nQuestion 3) The Three Little Pigs and the Big Bad Wolf\nQuestion 4) Angry Birds Video Game (Birds vs Pigs)\nQuestion 5) Looney Tunes - Bugs Bunny, Porky Pig, and Daffy Duck\nQuestion 6) Babe the 1995 Movie - Babe the Pig, Sheep for Babe to herd, and Farmer Arthur Hoggett\nQuestion 7) Legend of Zelda - Link an Elf Warrior, Zelda an Elf Noble, and Ganon (pig form of Ganondorf)\nQuestion 8) The Lion King - Timon the Meerkat, Pumbaa the Warthog, and some Hyenas for them to fight.\nQuestion 9) Toy Story - Woody the Cowboy, Buzz the Spaceman, Rex the T-Rex, and Hamm the Piggy Bank.\nQuestion 10) Winnie the Pooh - Pooh the Bear, Tigger the Tiger, and Piglet the Pig.[/spoiler]\n\n- Justin Hovdenes AKA Hovey\nLevel 2 Magic Judge\nRapid City, SD"
          },
          "metadata": {}
        },
        {
          "output_type": "stream",
          "name": "stdout",
          "text": [
            "{'replies': [{}, {}, {}, {}, {}, {}, {}, {}, {}, {}, {}, {}, {}, {}, {}, {}, {}, {}, {}, {}, {}, {}, {}, {}, {}, {}, {}, {}, {}, {}, {}, {}, {}, {}, {}, {}, {}, {}, {}, {}, {}, {}, {}, {}, {}, {}, {}, {}, {}, {}, {}, {}, {}, {}, {}, {}, {}, {}, {}, {}, {}, {}, {}, {}, {}, {}, {}, {}, {}, {}, {}, {}, {}, {}, {}, {}, {}, {}, {}, {}, {}, {}, {}, {}, {}, {}, {}, {}, {}, {}, {}, {}, {}, {}, {}, {}, {}, {}, {}, {}, {}, {}, {}, {}, {}, {}, {}, {}, {}, {}, {}, {}, {}, {}, {}, {}, {}, {}, {}, {}, {}, {}, {}, {}, {}, {}, {}, {}, {}, {}, {}, {}, {}, {}, {}, {}, {}, {}, {}, {}, {}, {}, {}, {}, {}, {}, {}, {}, {}, {}, {}, {}, {}, {}, {}, {}, {}, {}, {}, {}, {}, {}, {}, {}, {}, {}, {}, {}, {}, {}, {}, {}, {}, {}, {}, {}, {}, {}], 'writeControl': {'requiredRevisionId': 'ALBJ4LsPa7aFSC00gFRAKkLEQnBrbtoKHU2y4dT7qxRhOpUd00nYiqWrR9VlSiWS1tYUDKeFIkSqznCMTzRSGw'}, 'documentId': '1DzS5Fq6iug9qnxwP0iAehLIBrTM8iQL50-AKO8REaDo'}\n",
            "The Google doc at this URL has been modified with the desired content of length 15791:\n",
            "https://docs.google.com/document/d/1DzS5Fq6iug9qnxwP0iAehLIBrTM8iQL50-AKO8REaDo/edit?usp=sharing\n"
          ]
        },
        {
          "output_type": "display_data",
          "data": {
            "text/plain": [
              "<IPython.core.display.Markdown object>"
            ],
            "text/markdown": "> ||@everyone|| [Notre Google doc partagé](https://docs.google.com/document/d/1DzS5Fq6iug9qnxwP0iAehLIBrTM8iQL50-AKO8REaDo/edit?usp=sharing) a été mis à jour, avec le brouillon de traduction pour [le nouvel article hebdomadaire](https://www.cranial-insertion.com/article/4376).\n\nCet article s'intitule \"Cranial Insertion: All in Jeopardy (Can you answer in the form of a question?)\", a été publié le Mon, 31 Mar 2025 00:00:00 EDT, et son ID est 4376.\n\n> Envoyé automatiquement depuis un notebook Python executé sur Google Colab! Code by @Naereen\n"
          },
          "metadata": {}
        },
        {
          "output_type": "stream",
          "name": "stdout",
          "text": [
            "Starting to send the following message to my Discord server:\n",
            "||@everyone|| [Notre Google doc partagé](https://docs.google.com/document/d/1DzS5Fq6iug9qnxwP0iAehLIBrTM8iQL50-AKO8REaDo/edit?usp=sharing) a été mis à jour, avec le brouillon de traduction pour [le nouvel article hebdomadaire](https://www.cranial-insertion.com/article/4376).\n",
            "\n",
            "Cet article s'intitule \"Cranial Insertion: All in Jeopardy (Can you answer in the form of a question?)\", a été publié le Mon, 31 Mar 2025 00:00:00 EDT, et son ID est 4376.\n",
            "\n",
            "> Envoyé automatiquement depuis un notebook Python executé sur Google Colab! Code by @Naereen\n",
            "\n",
            "Success!\n",
            "CPU times: user 520 ms, sys: 26.2 ms, total: 546 ms\n",
            "Wall time: 2.39 s\n"
          ]
        },
        {
          "output_type": "execute_result",
          "data": {
            "text/plain": [
              "''"
            ],
            "application/vnd.google.colaboratory.intrinsic+json": {
              "type": "string"
            }
          },
          "metadata": {},
          "execution_count": 102
        }
      ]
    },
    {
      "cell_type": "markdown",
      "source": [
        "------------\n",
        "\n",
        "## Old notebook, on finetuning Google's T5 model: TODO adapt this to finetune [Helsinki-NLP/opus-mt-tc-big-en-fr](https://huggingface.co/Helsinki-NLP/opus-mt-tc-big-en-fr) for Magic: the Gathering keywords and cardnames\n",
        "\n",
        "See:\n",
        "\n",
        "- <https://huggingface.co/docs/transformers/tasks/translation>\n",
        "- <https://colab.research.google.com/github/huggingface/notebooks/blob/main/examples/translation-tf.ipynb>"
      ],
      "metadata": {
        "id": "RZ5Oxd7c72Vg"
      }
    },
    {
      "cell_type": "code",
      "execution_count": 2,
      "metadata": {
        "id": "a6FNxmBJ6AdP",
        "colab": {
          "base_uri": "https://localhost:8080/",
          "height": 0
        },
        "outputId": "47194ab1-e6fe-4180-fdd9-3e7a9e8ff6e1"
      },
      "outputs": [
        {
          "output_type": "stream",
          "name": "stdout",
          "text": [
            "Requirement already satisfied: transformers in /usr/local/lib/python3.11/dist-packages (4.50.3)\n",
            "Requirement already satisfied: datasets in /usr/local/lib/python3.11/dist-packages (3.5.0)\n",
            "Requirement already satisfied: filelock in /usr/local/lib/python3.11/dist-packages (from transformers) (3.18.0)\n",
            "Requirement already satisfied: huggingface-hub<1.0,>=0.26.0 in /usr/local/lib/python3.11/dist-packages (from transformers) (0.30.1)\n",
            "Requirement already satisfied: numpy>=1.17 in /usr/local/lib/python3.11/dist-packages (from transformers) (2.0.2)\n",
            "Requirement already satisfied: packaging>=20.0 in /usr/local/lib/python3.11/dist-packages (from transformers) (24.2)\n",
            "Requirement already satisfied: pyyaml>=5.1 in /usr/local/lib/python3.11/dist-packages (from transformers) (6.0.2)\n",
            "Requirement already satisfied: regex!=2019.12.17 in /usr/local/lib/python3.11/dist-packages (from transformers) (2024.11.6)\n",
            "Requirement already satisfied: requests in /usr/local/lib/python3.11/dist-packages (from transformers) (2.32.3)\n",
            "Requirement already satisfied: tokenizers<0.22,>=0.21 in /usr/local/lib/python3.11/dist-packages (from transformers) (0.21.1)\n",
            "Requirement already satisfied: safetensors>=0.4.3 in /usr/local/lib/python3.11/dist-packages (from transformers) (0.5.3)\n",
            "Requirement already satisfied: tqdm>=4.27 in /usr/local/lib/python3.11/dist-packages (from transformers) (4.67.1)\n",
            "Requirement already satisfied: pyarrow>=15.0.0 in /usr/local/lib/python3.11/dist-packages (from datasets) (18.1.0)\n",
            "Requirement already satisfied: dill<0.3.9,>=0.3.0 in /usr/local/lib/python3.11/dist-packages (from datasets) (0.3.8)\n",
            "Requirement already satisfied: pandas in /usr/local/lib/python3.11/dist-packages (from datasets) (2.2.2)\n",
            "Requirement already satisfied: xxhash in /usr/local/lib/python3.11/dist-packages (from datasets) (3.5.0)\n",
            "Requirement already satisfied: multiprocess<0.70.17 in /usr/local/lib/python3.11/dist-packages (from datasets) (0.70.16)\n",
            "Requirement already satisfied: fsspec<=2024.12.0,>=2023.1.0 in /usr/local/lib/python3.11/dist-packages (from fsspec[http]<=2024.12.0,>=2023.1.0->datasets) (2024.12.0)\n",
            "Requirement already satisfied: aiohttp in /usr/local/lib/python3.11/dist-packages (from datasets) (3.11.15)\n",
            "Requirement already satisfied: aiohappyeyeballs>=2.3.0 in /usr/local/lib/python3.11/dist-packages (from aiohttp->datasets) (2.6.1)\n",
            "Requirement already satisfied: aiosignal>=1.1.2 in /usr/local/lib/python3.11/dist-packages (from aiohttp->datasets) (1.3.2)\n",
            "Requirement already satisfied: attrs>=17.3.0 in /usr/local/lib/python3.11/dist-packages (from aiohttp->datasets) (25.3.0)\n",
            "Requirement already satisfied: frozenlist>=1.1.1 in /usr/local/lib/python3.11/dist-packages (from aiohttp->datasets) (1.5.0)\n",
            "Requirement already satisfied: multidict<7.0,>=4.5 in /usr/local/lib/python3.11/dist-packages (from aiohttp->datasets) (6.3.1)\n",
            "Requirement already satisfied: propcache>=0.2.0 in /usr/local/lib/python3.11/dist-packages (from aiohttp->datasets) (0.3.1)\n",
            "Requirement already satisfied: yarl<2.0,>=1.17.0 in /usr/local/lib/python3.11/dist-packages (from aiohttp->datasets) (1.18.3)\n",
            "Requirement already satisfied: typing-extensions>=3.7.4.3 in /usr/local/lib/python3.11/dist-packages (from huggingface-hub<1.0,>=0.26.0->transformers) (4.13.0)\n",
            "Requirement already satisfied: charset-normalizer<4,>=2 in /usr/local/lib/python3.11/dist-packages (from requests->transformers) (3.4.1)\n",
            "Requirement already satisfied: idna<4,>=2.5 in /usr/local/lib/python3.11/dist-packages (from requests->transformers) (3.10)\n",
            "Requirement already satisfied: urllib3<3,>=1.21.1 in /usr/local/lib/python3.11/dist-packages (from requests->transformers) (2.3.0)\n",
            "Requirement already satisfied: certifi>=2017.4.17 in /usr/local/lib/python3.11/dist-packages (from requests->transformers) (2025.1.31)\n",
            "Requirement already satisfied: python-dateutil>=2.8.2 in /usr/local/lib/python3.11/dist-packages (from pandas->datasets) (2.8.2)\n",
            "Requirement already satisfied: pytz>=2020.1 in /usr/local/lib/python3.11/dist-packages (from pandas->datasets) (2025.2)\n",
            "Requirement already satisfied: tzdata>=2022.7 in /usr/local/lib/python3.11/dist-packages (from pandas->datasets) (2025.2)\n",
            "Requirement already satisfied: six>=1.5 in /usr/local/lib/python3.11/dist-packages (from python-dateutil>=2.8.2->pandas->datasets) (1.17.0)\n"
          ]
        }
      ],
      "source": [
        "# Transformers installation\n",
        "! pip install transformers datasets\n",
        "# To install from source instead of the last release, comment the command above and uncomment the following one.\n",
        "# ! pip install git+https://github.com/huggingface/transformers.git"
      ]
    },
    {
      "cell_type": "markdown",
      "metadata": {
        "id": "7XcGjf986Adg"
      },
      "source": [
        "## Translation"
      ]
    },
    {
      "cell_type": "code",
      "execution_count": 3,
      "metadata": {
        "hide_input": true,
        "id": "hsjY2wut6Adg",
        "outputId": "845fbe74-f5f9-46ae-dc68-5c21c2ead33b",
        "colab": {
          "base_uri": "https://localhost:8080/",
          "height": 371
        }
      },
      "outputs": [
        {
          "output_type": "stream",
          "name": "stderr",
          "text": [
            "/usr/local/lib/python3.11/dist-packages/IPython/core/display.py:724: UserWarning: Consider using IPython.display.IFrame instead\n",
            "  warnings.warn(\"Consider using IPython.display.IFrame instead\")\n"
          ]
        },
        {
          "output_type": "execute_result",
          "data": {
            "text/plain": [
              "<IPython.core.display.HTML object>"
            ],
            "text/html": [
              "<iframe width=\"560\" height=\"315\" src=\"https://www.youtube.com/embed/1JvfrvZgi6c?rel=0&amp;controls=0&amp;showinfo=0\" frameborder=\"0\" allowfullscreen></iframe>"
            ]
          },
          "metadata": {},
          "execution_count": 3
        }
      ],
      "source": [
        "#@title\n",
        "from IPython.display import HTML\n",
        "\n",
        "HTML('<iframe width=\"560\" height=\"315\" src=\"https://www.youtube.com/embed/1JvfrvZgi6c?rel=0&amp;controls=0&amp;showinfo=0\" frameborder=\"0\" allowfullscreen></iframe>')"
      ]
    },
    {
      "cell_type": "markdown",
      "metadata": {
        "id": "SkZHqBwa6Adg"
      },
      "source": [
        "Translation converts a sequence of text from one language to another. It is one of several tasks you can formulate as a sequence-to-sequence problem, a powerful framework for returning some output from an input, like translation or summarization. Translation systems are commonly used for translation between different language texts, but it can also be used for speech or some combination in between like text-to-speech or speech-to-text.\n",
        "\n",
        "This guide will show you how to:\n",
        "\n",
        "1. Finetune [T5](https://huggingface.co/t5-small) on the English-French subset of the [OPUS Books](https://huggingface.co/datasets/opus_books) dataset to translate English text to French.\n",
        "2. Use your finetuned model for inference.\n",
        "\n",
        "<Tip>\n",
        "The task illustrated in this tutorial is supported by the following model architectures:\n",
        "\n",
        "<!--This tip is automatically generated by `make fix-copies`, do not fill manually!-->\n",
        "\n",
        "[BART](https://huggingface.co/docs/transformers/main/en/tasks/../model_doc/bart), [BigBird-Pegasus](https://huggingface.co/docs/transformers/main/en/tasks/../model_doc/bigbird_pegasus), [Blenderbot](https://huggingface.co/docs/transformers/main/en/tasks/../model_doc/blenderbot), [BlenderbotSmall](https://huggingface.co/docs/transformers/main/en/tasks/../model_doc/blenderbot-small), [Encoder decoder](https://huggingface.co/docs/transformers/main/en/tasks/../model_doc/encoder-decoder), [FairSeq Machine-Translation](https://huggingface.co/docs/transformers/main/en/tasks/../model_doc/fsmt), [GPTSAN-japanese](https://huggingface.co/docs/transformers/main/en/tasks/../model_doc/gptsan-japanese), [LED](https://huggingface.co/docs/transformers/main/en/tasks/../model_doc/led), [LongT5](https://huggingface.co/docs/transformers/main/en/tasks/../model_doc/longt5), [M2M100](https://huggingface.co/docs/transformers/main/en/tasks/../model_doc/m2m_100), [Marian](https://huggingface.co/docs/transformers/main/en/tasks/../model_doc/marian), [mBART](https://huggingface.co/docs/transformers/main/en/tasks/../model_doc/mbart), [MT5](https://huggingface.co/docs/transformers/main/en/tasks/../model_doc/mt5), [MVP](https://huggingface.co/docs/transformers/main/en/tasks/../model_doc/mvp), [NLLB](https://huggingface.co/docs/transformers/main/en/tasks/../model_doc/nllb), [NLLB-MOE](https://huggingface.co/docs/transformers/main/en/tasks/../model_doc/nllb-moe), [Pegasus](https://huggingface.co/docs/transformers/main/en/tasks/../model_doc/pegasus), [PEGASUS-X](https://huggingface.co/docs/transformers/main/en/tasks/../model_doc/pegasus_x), [PLBart](https://huggingface.co/docs/transformers/main/en/tasks/../model_doc/plbart), [ProphetNet](https://huggingface.co/docs/transformers/main/en/tasks/../model_doc/prophetnet), [SwitchTransformers](https://huggingface.co/docs/transformers/main/en/tasks/../model_doc/switch_transformers), [T5](https://huggingface.co/docs/transformers/main/en/tasks/../model_doc/t5), [XLM-ProphetNet](https://huggingface.co/docs/transformers/main/en/tasks/../model_doc/xlm-prophetnet)\n",
        "\n",
        "<!--End of the generated tip-->\n",
        "\n",
        "</Tip>\n",
        "\n",
        "Before you begin, make sure you have all the necessary libraries installed:\n",
        "\n",
        "```bash\n",
        "pip install transformers datasets evaluate sacrebleu\n",
        "```\n",
        "\n",
        "We encourage you to login to your Hugging Face account so you can upload and share your model with the community. When prompted, enter your token to login:"
      ]
    },
    {
      "cell_type": "code",
      "source": [
        "!pip install transformers datasets evaluate sacrebleu"
      ],
      "metadata": {
        "colab": {
          "base_uri": "https://localhost:8080/",
          "height": 0
        },
        "id": "gBoFXWZF9XJG",
        "outputId": "26506c48-3e49-4420-f857-fc0df4c6549f"
      },
      "execution_count": 4,
      "outputs": [
        {
          "output_type": "stream",
          "name": "stdout",
          "text": [
            "Requirement already satisfied: transformers in /usr/local/lib/python3.11/dist-packages (4.50.3)\n",
            "Requirement already satisfied: datasets in /usr/local/lib/python3.11/dist-packages (3.5.0)\n",
            "Requirement already satisfied: evaluate in /usr/local/lib/python3.11/dist-packages (0.4.3)\n",
            "Requirement already satisfied: sacrebleu in /usr/local/lib/python3.11/dist-packages (2.5.1)\n",
            "Requirement already satisfied: filelock in /usr/local/lib/python3.11/dist-packages (from transformers) (3.18.0)\n",
            "Requirement already satisfied: huggingface-hub<1.0,>=0.26.0 in /usr/local/lib/python3.11/dist-packages (from transformers) (0.30.1)\n",
            "Requirement already satisfied: numpy>=1.17 in /usr/local/lib/python3.11/dist-packages (from transformers) (2.0.2)\n",
            "Requirement already satisfied: packaging>=20.0 in /usr/local/lib/python3.11/dist-packages (from transformers) (24.2)\n",
            "Requirement already satisfied: pyyaml>=5.1 in /usr/local/lib/python3.11/dist-packages (from transformers) (6.0.2)\n",
            "Requirement already satisfied: regex!=2019.12.17 in /usr/local/lib/python3.11/dist-packages (from transformers) (2024.11.6)\n",
            "Requirement already satisfied: requests in /usr/local/lib/python3.11/dist-packages (from transformers) (2.32.3)\n",
            "Requirement already satisfied: tokenizers<0.22,>=0.21 in /usr/local/lib/python3.11/dist-packages (from transformers) (0.21.1)\n",
            "Requirement already satisfied: safetensors>=0.4.3 in /usr/local/lib/python3.11/dist-packages (from transformers) (0.5.3)\n",
            "Requirement already satisfied: tqdm>=4.27 in /usr/local/lib/python3.11/dist-packages (from transformers) (4.67.1)\n",
            "Requirement already satisfied: pyarrow>=15.0.0 in /usr/local/lib/python3.11/dist-packages (from datasets) (18.1.0)\n",
            "Requirement already satisfied: dill<0.3.9,>=0.3.0 in /usr/local/lib/python3.11/dist-packages (from datasets) (0.3.8)\n",
            "Requirement already satisfied: pandas in /usr/local/lib/python3.11/dist-packages (from datasets) (2.2.2)\n",
            "Requirement already satisfied: xxhash in /usr/local/lib/python3.11/dist-packages (from datasets) (3.5.0)\n",
            "Requirement already satisfied: multiprocess<0.70.17 in /usr/local/lib/python3.11/dist-packages (from datasets) (0.70.16)\n",
            "Requirement already satisfied: fsspec<=2024.12.0,>=2023.1.0 in /usr/local/lib/python3.11/dist-packages (from fsspec[http]<=2024.12.0,>=2023.1.0->datasets) (2024.12.0)\n",
            "Requirement already satisfied: aiohttp in /usr/local/lib/python3.11/dist-packages (from datasets) (3.11.15)\n",
            "Requirement already satisfied: portalocker in /usr/local/lib/python3.11/dist-packages (from sacrebleu) (3.1.1)\n",
            "Requirement already satisfied: tabulate>=0.8.9 in /usr/local/lib/python3.11/dist-packages (from sacrebleu) (0.9.0)\n",
            "Requirement already satisfied: colorama in /usr/local/lib/python3.11/dist-packages (from sacrebleu) (0.4.6)\n",
            "Requirement already satisfied: lxml in /usr/local/lib/python3.11/dist-packages (from sacrebleu) (5.3.1)\n",
            "Requirement already satisfied: aiohappyeyeballs>=2.3.0 in /usr/local/lib/python3.11/dist-packages (from aiohttp->datasets) (2.6.1)\n",
            "Requirement already satisfied: aiosignal>=1.1.2 in /usr/local/lib/python3.11/dist-packages (from aiohttp->datasets) (1.3.2)\n",
            "Requirement already satisfied: attrs>=17.3.0 in /usr/local/lib/python3.11/dist-packages (from aiohttp->datasets) (25.3.0)\n",
            "Requirement already satisfied: frozenlist>=1.1.1 in /usr/local/lib/python3.11/dist-packages (from aiohttp->datasets) (1.5.0)\n",
            "Requirement already satisfied: multidict<7.0,>=4.5 in /usr/local/lib/python3.11/dist-packages (from aiohttp->datasets) (6.3.1)\n",
            "Requirement already satisfied: propcache>=0.2.0 in /usr/local/lib/python3.11/dist-packages (from aiohttp->datasets) (0.3.1)\n",
            "Requirement already satisfied: yarl<2.0,>=1.17.0 in /usr/local/lib/python3.11/dist-packages (from aiohttp->datasets) (1.18.3)\n",
            "Requirement already satisfied: typing-extensions>=3.7.4.3 in /usr/local/lib/python3.11/dist-packages (from huggingface-hub<1.0,>=0.26.0->transformers) (4.13.0)\n",
            "Requirement already satisfied: charset-normalizer<4,>=2 in /usr/local/lib/python3.11/dist-packages (from requests->transformers) (3.4.1)\n",
            "Requirement already satisfied: idna<4,>=2.5 in /usr/local/lib/python3.11/dist-packages (from requests->transformers) (3.10)\n",
            "Requirement already satisfied: urllib3<3,>=1.21.1 in /usr/local/lib/python3.11/dist-packages (from requests->transformers) (2.3.0)\n",
            "Requirement already satisfied: certifi>=2017.4.17 in /usr/local/lib/python3.11/dist-packages (from requests->transformers) (2025.1.31)\n",
            "Requirement already satisfied: python-dateutil>=2.8.2 in /usr/local/lib/python3.11/dist-packages (from pandas->datasets) (2.8.2)\n",
            "Requirement already satisfied: pytz>=2020.1 in /usr/local/lib/python3.11/dist-packages (from pandas->datasets) (2025.2)\n",
            "Requirement already satisfied: tzdata>=2022.7 in /usr/local/lib/python3.11/dist-packages (from pandas->datasets) (2025.2)\n",
            "Requirement already satisfied: six>=1.5 in /usr/local/lib/python3.11/dist-packages (from python-dateutil>=2.8.2->pandas->datasets) (1.17.0)\n"
          ]
        }
      ]
    },
    {
      "cell_type": "code",
      "execution_count": 5,
      "metadata": {
        "id": "Jbqhq41C6Adg",
        "colab": {
          "base_uri": "https://localhost:8080/",
          "height": 359,
          "referenced_widgets": [
            "cc5919ed0be044198714bc4b13680a7c",
            "afa5ba9dddbd491cac3938bd56d92a31",
            "e2c4e57fd6af451aa8c7fae5e16d2c5d",
            "81fe52950e33465f91b94b2baca5c8b7",
            "dcc401555e854647b6824f4dc6a32d49",
            "a558ca46c3dc4829bec23d621bb0b906",
            "2dd458b8d68b468780105ee2911e4e13",
            "f104586396724bcb8fdd8fc8a2922b78",
            "01d74a97cc624612bec7908fa6e4278a",
            "c88bba5841aa4715bf215be287fce3a5",
            "131bbf1f04c646f4907e41a13777873a",
            "1f72ecccba3c40fd9542766889dc5c1b",
            "9131086c1c984352a26a28e0e8f30451",
            "2103b167b3f44d3cbfe24a648eb27727",
            "67c33022471c414d9d0d014bcc8b4306",
            "a50dfa20dc7e4610ace2675bfed350c3",
            "cdd9204d59df4adbb75a0408987247b2"
          ]
        },
        "outputId": "a0962c94-ac45-43cf-c8b9-53d181aa19a4"
      },
      "outputs": [
        {
          "output_type": "display_data",
          "data": {
            "text/plain": [
              "VBox(children=(HTML(value='<center> <img\\nsrc=https://huggingface.co/front/assets/huggingface_logo-noborder.sv…"
            ],
            "application/vnd.jupyter.widget-view+json": {
              "version_major": 2,
              "version_minor": 0,
              "model_id": "cc5919ed0be044198714bc4b13680a7c"
            }
          },
          "metadata": {}
        }
      ],
      "source": [
        "from huggingface_hub import notebook_login\n",
        "\n",
        "notebook_login()"
      ]
    },
    {
      "cell_type": "markdown",
      "metadata": {
        "id": "xBitibTC6Adg"
      },
      "source": [
        "## Load OPUS Books dataset"
      ]
    },
    {
      "cell_type": "markdown",
      "metadata": {
        "id": "zMOpkNih6Adg"
      },
      "source": [
        "Start by loading the English-French subset of the [OPUS Books](https://huggingface.co/datasets/opus_books) dataset from the 🤗 Datasets library:"
      ]
    },
    {
      "cell_type": "code",
      "execution_count": 6,
      "metadata": {
        "id": "QODX2k9f6Adg"
      },
      "outputs": [],
      "source": [
        "from datasets import load_dataset\n",
        "\n",
        "books = load_dataset(\"opus_books\", \"en-fr\")"
      ]
    },
    {
      "cell_type": "markdown",
      "metadata": {
        "id": "tsgpdcxw6Adg"
      },
      "source": [
        "Split the dataset into a train and test set with the [train_test_split](https://huggingface.co/docs/datasets/main/en/package_reference/main_classes#datasets.Dataset.train_test_split) method:"
      ]
    },
    {
      "cell_type": "code",
      "execution_count": 7,
      "metadata": {
        "id": "4wkn3Msc6Adg"
      },
      "outputs": [],
      "source": [
        "books = books[\"train\"].train_test_split(test_size=0.2)"
      ]
    },
    {
      "cell_type": "markdown",
      "metadata": {
        "id": "boDljw576Adg"
      },
      "source": [
        "Then take a look at an example:"
      ]
    },
    {
      "cell_type": "code",
      "execution_count": 8,
      "metadata": {
        "id": "78LmUoys6Adg",
        "outputId": "e48149aa-a718-406f-c72b-175dc8df66dd",
        "colab": {
          "base_uri": "https://localhost:8080/",
          "height": 0
        }
      },
      "outputs": [
        {
          "output_type": "execute_result",
          "data": {
            "text/plain": [
              "{'id': '57272',\n",
              " 'translation': {'en': '\"Do you know that you made a great figure on Christmas Day at the bead of your company of the chamber of accounts, Monsieur President?\"',\n",
              "  'fr': '– Savez-vous que vous aviez bien grande mine, le jour de Noël, à la tête de votre compagnie de la chambre des Comptes, monsieur le président ?'}}"
            ]
          },
          "metadata": {},
          "execution_count": 8
        }
      ],
      "source": [
        "books[\"train\"][0]"
      ]
    },
    {
      "cell_type": "markdown",
      "metadata": {
        "id": "-66Axzz76Adg"
      },
      "source": [
        "`translation`: an English and French translation of the text."
      ]
    },
    {
      "cell_type": "markdown",
      "metadata": {
        "id": "qgiEcSar6Adg"
      },
      "source": [
        "## Preprocess"
      ]
    },
    {
      "cell_type": "code",
      "execution_count": 9,
      "metadata": {
        "cellView": "form",
        "hide_input": true,
        "id": "1OOYuKo46Adg",
        "outputId": "3bcb997a-1a20-49fa-d700-ed2c120b1994",
        "colab": {
          "base_uri": "https://localhost:8080/",
          "height": 371
        }
      },
      "outputs": [
        {
          "output_type": "stream",
          "name": "stderr",
          "text": [
            "/usr/local/lib/python3.11/dist-packages/IPython/core/display.py:724: UserWarning: Consider using IPython.display.IFrame instead\n",
            "  warnings.warn(\"Consider using IPython.display.IFrame instead\")\n"
          ]
        },
        {
          "output_type": "execute_result",
          "data": {
            "text/plain": [
              "<IPython.core.display.HTML object>"
            ],
            "text/html": [
              "<iframe width=\"560\" height=\"315\" src=\"https://www.youtube.com/embed/XAR8jnZZuUs?rel=0&amp;controls=0&amp;showinfo=0\" frameborder=\"0\" allowfullscreen></iframe>"
            ]
          },
          "metadata": {},
          "execution_count": 9
        }
      ],
      "source": [
        "#@title\n",
        "from IPython.display import HTML\n",
        "\n",
        "HTML('<iframe width=\"560\" height=\"315\" src=\"https://www.youtube.com/embed/XAR8jnZZuUs?rel=0&amp;controls=0&amp;showinfo=0\" frameborder=\"0\" allowfullscreen></iframe>')"
      ]
    },
    {
      "cell_type": "markdown",
      "metadata": {
        "id": "Ud0gbsNQ6Adg"
      },
      "source": [
        "The next step is to load a T5 tokenizer to process the English-French language pairs:"
      ]
    },
    {
      "cell_type": "code",
      "execution_count": 10,
      "metadata": {
        "id": "XYX8wgSk6Adg"
      },
      "outputs": [],
      "source": [
        "from transformers import AutoTokenizer\n",
        "\n",
        "checkpoint = \"t5-small\"\n",
        "tokenizer = AutoTokenizer.from_pretrained(checkpoint)"
      ]
    },
    {
      "cell_type": "markdown",
      "metadata": {
        "id": "Y7_H7HbL6Adg"
      },
      "source": [
        "The preprocessing function you want to create needs to:\n",
        "\n",
        "1. Prefix the input with a prompt so T5 knows this is a translation task. Some models capable of multiple NLP tasks require prompting for specific tasks.\n",
        "2. Tokenize the input (English) and target (French) separately because you can't tokenize French text with a tokenizer pretrained on an English vocabulary.\n",
        "3. Truncate sequences to be no longer than the maximum length set by the `max_length` parameter."
      ]
    },
    {
      "cell_type": "code",
      "execution_count": 26,
      "metadata": {
        "id": "SqMh8io06Adg"
      },
      "outputs": [],
      "source": [
        "source_lang = \"en\"\n",
        "target_lang = \"fr\"\n",
        "prefix = \"Translate English to French: \"\n",
        "\n",
        "\n",
        "def preprocess_function(examples):\n",
        "    inputs = [prefix + example[source_lang] for example in examples[\"translation\"]]\n",
        "    targets = [example[target_lang] for example in examples[\"translation\"]]\n",
        "    model_inputs = tokenizer(inputs, text_target=targets, max_length=512, truncation=True, padding=True) # Add padding=True to the tokenizer call\n",
        "    # Add decoder_input_ids to the model inputs, ensuring it's a simple list\n",
        "    # Instead of copying input_ids directly, ensure decoder_input_ids\n",
        "    # are appropriately formatted for sequence-to-sequence tasks.\n",
        "    # For example, you may need to shift the input_ids and add special tokens\n",
        "    # (like a start-of-sequence token) for the decoder.\n",
        "    # Refer to the documentation or tutorials for T5 or the DataCollatorForSeq2Seq\n",
        "    # for how to correctly format decoder_input_ids\n",
        "    #\n",
        "    # Assuming decoder_input_ids should be a shifted version of input_ids:\n",
        "    decoder_input_ids = [ [tokenizer.bos_token_id] + ids[:-1] for ids in model_inputs[\"input_ids\"] ]\n",
        "    model_inputs[\"decoder_input_ids\"] = decoder_input_ids\n",
        "    return model_inputs"
      ]
    },
    {
      "cell_type": "markdown",
      "metadata": {
        "id": "nA-BSGzX6Adg"
      },
      "source": [
        "To apply the preprocessing function over the entire dataset, use 🤗 Datasets [map](https://huggingface.co/docs/datasets/main/en/package_reference/main_classes#datasets.Dataset.map) method. You can speed up the `map` function by setting `batched=True` to process multiple elements of the dataset at once:"
      ]
    },
    {
      "cell_type": "code",
      "execution_count": 27,
      "metadata": {
        "id": "C0xJzekM6Adg",
        "colab": {
          "base_uri": "https://localhost:8080/",
          "height": 81,
          "referenced_widgets": [
            "5cfdee8fd96a4070931ceb851b74d24a",
            "0384e37292d7450486fadccd1bd30e4d",
            "3764b84238be4a8c92305e1cf8cae2c2",
            "6d36dfb358ea41e0a6e52f1d5e75c173",
            "aab9d42c3be74436959a9f0d1ca23755",
            "c557a51479cb4b16baf0144ad9961de6",
            "654e1d9d0e364f1792f9d153dd60f5b2",
            "5e2fe8fd990e47058369d57341058369",
            "66f61deee8bc4c7c9bf82b8263c41f57",
            "45a20652b07d4a9fb8127947aceea792",
            "21eeed75aa98478c96b4bf5248843875",
            "5b971f657a8b4ae1bad42371be77d371",
            "5ea1518c2c08432e93710d6b8a2647d3",
            "b6b524d4c61a4533a3e0dab9c28667bf",
            "ee3d3502f1cc43e6828db0e374e7a575",
            "5df2e7cc966e4c71b3e255c1c57aeabf",
            "5711d4f52513434ca3037d2b69006541",
            "7f9e37807e694738b8942e56f10e593e",
            "6ef7b26910534363aa92c1f808b0e022",
            "0d68b102fdae4fb8a837b023127ab6a9",
            "b18b510eeaf24828ac736f8f0e7eef73",
            "20514ab08c3a458694cd132330f3d72c"
          ]
        },
        "outputId": "a35adebc-5a6c-4128-eca8-8887a2950a9e"
      },
      "outputs": [
        {
          "output_type": "display_data",
          "data": {
            "text/plain": [
              "Map:   0%|          | 0/101668 [00:00<?, ? examples/s]"
            ],
            "application/vnd.jupyter.widget-view+json": {
              "version_major": 2,
              "version_minor": 0,
              "model_id": "5cfdee8fd96a4070931ceb851b74d24a"
            }
          },
          "metadata": {}
        },
        {
          "output_type": "display_data",
          "data": {
            "text/plain": [
              "Map:   0%|          | 0/25417 [00:00<?, ? examples/s]"
            ],
            "application/vnd.jupyter.widget-view+json": {
              "version_major": 2,
              "version_minor": 0,
              "model_id": "5b971f657a8b4ae1bad42371be77d371"
            }
          },
          "metadata": {}
        }
      ],
      "source": [
        "tokenized_books = books.map(preprocess_function, batched=True)"
      ]
    },
    {
      "cell_type": "markdown",
      "metadata": {
        "id": "laZkj-5o6Adg"
      },
      "source": [
        "Now create a batch of examples using [DataCollatorForSeq2Seq](https://huggingface.co/docs/transformers/main/en/main_classes/data_collator#transformers.DataCollatorForSeq2Seq). It's more efficient to *dynamically pad* the sentences to the longest length in a batch during collation, instead of padding the whole dataset to the maximum length."
      ]
    },
    {
      "cell_type": "code",
      "execution_count": 28,
      "metadata": {
        "id": "sJD5r-cd6Adg"
      },
      "outputs": [],
      "source": [
        "from transformers import DataCollatorForSeq2Seq\n",
        "\n",
        "data_collator = DataCollatorForSeq2Seq(tokenizer=tokenizer, model=checkpoint, return_tensors=\"tf\")"
      ]
    },
    {
      "cell_type": "markdown",
      "metadata": {
        "id": "dY_I1PdM6Adx"
      },
      "source": [
        "## Evaluate"
      ]
    },
    {
      "cell_type": "markdown",
      "metadata": {
        "id": "_l-x1FAs6Adx"
      },
      "source": [
        "Including a metric during training is often helpful for evaluating your model's performance. You can quickly load a evaluation method with the 🤗 [Evaluate](https://huggingface.co/docs/evaluate/index) library. For this task, load the [SacreBLEU](https://huggingface.co/spaces/evaluate-metric/sacrebleu) metric (see the 🤗 Evaluate [quick tour](https://huggingface.co/docs/evaluate/a_quick_tour) to learn more about how to load and compute a metric):"
      ]
    },
    {
      "cell_type": "code",
      "execution_count": 29,
      "metadata": {
        "id": "NQnQsFHI6Adx"
      },
      "outputs": [],
      "source": [
        "import evaluate\n",
        "\n",
        "metric = evaluate.load(\"sacrebleu\")"
      ]
    },
    {
      "cell_type": "markdown",
      "metadata": {
        "id": "_e_RxmXs6Adx"
      },
      "source": [
        "Then create a function that passes your predictions and labels to [compute](https://huggingface.co/docs/evaluate/main/en/package_reference/main_classes#evaluate.EvaluationModule.compute) to calculate the SacreBLEU score:"
      ]
    },
    {
      "cell_type": "code",
      "execution_count": 30,
      "metadata": {
        "id": "lnWDT2-b6Adx"
      },
      "outputs": [],
      "source": [
        "import numpy as np\n",
        "\n",
        "\n",
        "def postprocess_text(preds, labels):\n",
        "    preds = [pred.strip() for pred in preds]\n",
        "    labels = [[label.strip()] for label in labels]\n",
        "\n",
        "    return preds, labels\n",
        "\n",
        "\n",
        "def compute_metrics(eval_preds):\n",
        "    preds, labels = eval_preds\n",
        "    if isinstance(preds, tuple):\n",
        "        preds = preds[0]\n",
        "    decoded_preds = tokenizer.batch_decode(preds, skip_special_tokens=True)\n",
        "\n",
        "    labels = np.where(labels != -100, labels, tokenizer.pad_token_id)\n",
        "    decoded_labels = tokenizer.batch_decode(labels, skip_special_tokens=True)\n",
        "\n",
        "    decoded_preds, decoded_labels = postprocess_text(decoded_preds, decoded_labels)\n",
        "\n",
        "    result = metric.compute(predictions=decoded_preds, references=decoded_labels)\n",
        "    result = {\"bleu\": result[\"score\"]}\n",
        "\n",
        "    prediction_lens = [np.count_nonzero(pred != tokenizer.pad_token_id) for pred in preds]\n",
        "    result[\"gen_len\"] = np.mean(prediction_lens)\n",
        "    result = {k: round(v, 4) for k, v in result.items()}\n",
        "    return result"
      ]
    },
    {
      "cell_type": "markdown",
      "metadata": {
        "id": "Jl0dmVHS6Adx"
      },
      "source": [
        "Your `compute_metrics` function is ready to go now, and you'll return to it when you setup your training."
      ]
    },
    {
      "cell_type": "markdown",
      "metadata": {
        "id": "vqhAiPBR6Adx"
      },
      "source": [
        "## Train"
      ]
    },
    {
      "cell_type": "markdown",
      "metadata": {
        "id": "zG6RCcIA6Adx"
      },
      "source": [
        "<Tip>\n",
        "\n",
        "If you aren't familiar with finetuning a model with Keras, take a look at the basic tutorial [here](https://huggingface.co/docs/transformers/main/en/tasks/../training#train-a-tensorflow-model-with-keras)!\n",
        "\n",
        "</Tip>\n",
        "\n",
        "To finetune a model in TensorFlow, start by setting up an optimizer function, learning rate schedule, and some training hyperparameters:"
      ]
    },
    {
      "cell_type": "code",
      "execution_count": 31,
      "metadata": {
        "id": "dv0eCOCa6Adx"
      },
      "outputs": [],
      "source": [
        "from transformers import AdamWeightDecay\n",
        "\n",
        "optimizer = AdamWeightDecay(learning_rate=2e-5, weight_decay_rate=0.01)"
      ]
    },
    {
      "cell_type": "markdown",
      "metadata": {
        "id": "5KuAV_sK6Adx"
      },
      "source": [
        "Then you can load T5 with [TFAutoModelForSeq2SeqLM](https://huggingface.co/docs/transformers/main/en/model_doc/auto#transformers.TFAutoModelForSeq2SeqLM):"
      ]
    },
    {
      "cell_type": "code",
      "execution_count": 32,
      "metadata": {
        "id": "io1eKhjW6Adx",
        "colab": {
          "base_uri": "https://localhost:8080/",
          "height": 0
        },
        "outputId": "680531cd-2499-45fa-bbbe-a623d3c7300d"
      },
      "outputs": [
        {
          "output_type": "stream",
          "name": "stderr",
          "text": [
            "All PyTorch model weights were used when initializing TFT5ForConditionalGeneration.\n",
            "\n",
            "All the weights of TFT5ForConditionalGeneration were initialized from the PyTorch model.\n",
            "If your task is similar to the task the model of the checkpoint was trained on, you can already use TFT5ForConditionalGeneration for predictions without further training.\n"
          ]
        }
      ],
      "source": [
        "from transformers import TFAutoModelForSeq2SeqLM\n",
        "\n",
        "model = TFAutoModelForSeq2SeqLM.from_pretrained(checkpoint)"
      ]
    },
    {
      "cell_type": "markdown",
      "metadata": {
        "id": "QZSk70JT6Adx"
      },
      "source": [
        "Convert your datasets to the `tf.data.Dataset` format with [prepare_tf_dataset()](https://huggingface.co/docs/transformers/main/en/main_classes/model#transformers.TFPreTrainedModel.prepare_tf_dataset):"
      ]
    },
    {
      "cell_type": "code",
      "execution_count": 33,
      "metadata": {
        "id": "HKgInBR66Adx",
        "colab": {
          "base_uri": "https://localhost:8080/",
          "height": 443
        },
        "outputId": "5eeb5738-5755-4294-ab55-55aa2862ba59"
      },
      "outputs": [
        {
          "output_type": "error",
          "ename": "ValueError",
          "evalue": "Unable to create tensor, you should probably activate truncation and/or padding with 'padding=True' 'truncation=True' to have batched tensors with the same length. Perhaps your features (`decoder_input_ids` in this case) have excessive nesting (inputs type `list` where type `int` is expected).",
          "traceback": [
            "\u001b[0;31m---------------------------------------------------------------------------\u001b[0m",
            "\u001b[0;31mValueError\u001b[0m                                Traceback (most recent call last)",
            "\u001b[0;32m/usr/local/lib/python3.11/dist-packages/transformers/tokenization_utils_base.py\u001b[0m in \u001b[0;36mconvert_to_tensors\u001b[0;34m(self, tensor_type, prepend_batch_axis)\u001b[0m\n\u001b[1;32m    776\u001b[0m                 \u001b[0;32mif\u001b[0m \u001b[0;32mnot\u001b[0m \u001b[0mis_tensor\u001b[0m\u001b[0;34m(\u001b[0m\u001b[0mvalue\u001b[0m\u001b[0;34m)\u001b[0m\u001b[0;34m:\u001b[0m\u001b[0;34m\u001b[0m\u001b[0;34m\u001b[0m\u001b[0m\n\u001b[0;32m--> 777\u001b[0;31m                     \u001b[0mtensor\u001b[0m \u001b[0;34m=\u001b[0m \u001b[0mas_tensor\u001b[0m\u001b[0;34m(\u001b[0m\u001b[0mvalue\u001b[0m\u001b[0;34m)\u001b[0m\u001b[0;34m\u001b[0m\u001b[0;34m\u001b[0m\u001b[0m\n\u001b[0m\u001b[1;32m    778\u001b[0m \u001b[0;34m\u001b[0m\u001b[0m\n",
            "\u001b[0;32m/usr/local/lib/python3.11/dist-packages/tensorflow/python/ops/weak_tensor_ops.py\u001b[0m in \u001b[0;36mwrapper\u001b[0;34m(*args, **kwargs)\u001b[0m\n\u001b[1;32m    141\u001b[0m     \u001b[0;32mif\u001b[0m \u001b[0;32mnot\u001b[0m \u001b[0mops\u001b[0m\u001b[0;34m.\u001b[0m\u001b[0mis_auto_dtype_conversion_enabled\u001b[0m\u001b[0;34m(\u001b[0m\u001b[0;34m)\u001b[0m\u001b[0;34m:\u001b[0m\u001b[0;34m\u001b[0m\u001b[0;34m\u001b[0m\u001b[0m\n\u001b[0;32m--> 142\u001b[0;31m       \u001b[0;32mreturn\u001b[0m \u001b[0mop\u001b[0m\u001b[0;34m(\u001b[0m\u001b[0;34m*\u001b[0m\u001b[0margs\u001b[0m\u001b[0;34m,\u001b[0m \u001b[0;34m**\u001b[0m\u001b[0mkwargs\u001b[0m\u001b[0;34m)\u001b[0m\u001b[0;34m\u001b[0m\u001b[0;34m\u001b[0m\u001b[0m\n\u001b[0m\u001b[1;32m    143\u001b[0m     \u001b[0mbound_arguments\u001b[0m \u001b[0;34m=\u001b[0m \u001b[0msignature\u001b[0m\u001b[0;34m.\u001b[0m\u001b[0mbind\u001b[0m\u001b[0;34m(\u001b[0m\u001b[0;34m*\u001b[0m\u001b[0margs\u001b[0m\u001b[0;34m,\u001b[0m \u001b[0;34m**\u001b[0m\u001b[0mkwargs\u001b[0m\u001b[0;34m)\u001b[0m\u001b[0;34m\u001b[0m\u001b[0;34m\u001b[0m\u001b[0m\n",
            "\u001b[0;32m/usr/local/lib/python3.11/dist-packages/tensorflow/python/framework/constant_op.py\u001b[0m in \u001b[0;36mconstant\u001b[0;34m(value, dtype, shape, name)\u001b[0m\n\u001b[1;32m    275\u001b[0m   \"\"\"\n\u001b[0;32m--> 276\u001b[0;31m   return _constant_impl(value, dtype, shape, name, verify_shape=False,\n\u001b[0m\u001b[1;32m    277\u001b[0m                         allow_broadcast=True)\n",
            "\u001b[0;32m/usr/local/lib/python3.11/dist-packages/tensorflow/python/framework/constant_op.py\u001b[0m in \u001b[0;36m_constant_impl\u001b[0;34m(value, dtype, shape, name, verify_shape, allow_broadcast)\u001b[0m\n\u001b[1;32m    288\u001b[0m         \u001b[0;32mreturn\u001b[0m \u001b[0m_constant_eager_impl\u001b[0m\u001b[0;34m(\u001b[0m\u001b[0mctx\u001b[0m\u001b[0;34m,\u001b[0m \u001b[0mvalue\u001b[0m\u001b[0;34m,\u001b[0m \u001b[0mdtype\u001b[0m\u001b[0;34m,\u001b[0m \u001b[0mshape\u001b[0m\u001b[0;34m,\u001b[0m \u001b[0mverify_shape\u001b[0m\u001b[0;34m)\u001b[0m\u001b[0;34m\u001b[0m\u001b[0;34m\u001b[0m\u001b[0m\n\u001b[0;32m--> 289\u001b[0;31m     \u001b[0;32mreturn\u001b[0m \u001b[0m_constant_eager_impl\u001b[0m\u001b[0;34m(\u001b[0m\u001b[0mctx\u001b[0m\u001b[0;34m,\u001b[0m \u001b[0mvalue\u001b[0m\u001b[0;34m,\u001b[0m \u001b[0mdtype\u001b[0m\u001b[0;34m,\u001b[0m \u001b[0mshape\u001b[0m\u001b[0;34m,\u001b[0m \u001b[0mverify_shape\u001b[0m\u001b[0;34m)\u001b[0m\u001b[0;34m\u001b[0m\u001b[0;34m\u001b[0m\u001b[0m\n\u001b[0m\u001b[1;32m    290\u001b[0m \u001b[0;34m\u001b[0m\u001b[0m\n",
            "\u001b[0;32m/usr/local/lib/python3.11/dist-packages/tensorflow/python/framework/constant_op.py\u001b[0m in \u001b[0;36m_constant_eager_impl\u001b[0;34m(ctx, value, dtype, shape, verify_shape)\u001b[0m\n\u001b[1;32m    300\u001b[0m   \u001b[0;34m\"\"\"Creates a constant on the current device.\"\"\"\u001b[0m\u001b[0;34m\u001b[0m\u001b[0;34m\u001b[0m\u001b[0m\n\u001b[0;32m--> 301\u001b[0;31m   \u001b[0mt\u001b[0m \u001b[0;34m=\u001b[0m \u001b[0mconvert_to_eager_tensor\u001b[0m\u001b[0;34m(\u001b[0m\u001b[0mvalue\u001b[0m\u001b[0;34m,\u001b[0m \u001b[0mctx\u001b[0m\u001b[0;34m,\u001b[0m \u001b[0mdtype\u001b[0m\u001b[0;34m)\u001b[0m\u001b[0;34m\u001b[0m\u001b[0;34m\u001b[0m\u001b[0m\n\u001b[0m\u001b[1;32m    302\u001b[0m   \u001b[0;32mif\u001b[0m \u001b[0mshape\u001b[0m \u001b[0;32mis\u001b[0m \u001b[0;32mNone\u001b[0m\u001b[0;34m:\u001b[0m\u001b[0;34m\u001b[0m\u001b[0;34m\u001b[0m\u001b[0m\n",
            "\u001b[0;32m/usr/local/lib/python3.11/dist-packages/tensorflow/python/framework/constant_op.py\u001b[0m in \u001b[0;36mconvert_to_eager_tensor\u001b[0;34m(value, ctx, dtype)\u001b[0m\n\u001b[1;32m    107\u001b[0m   \u001b[0mctx\u001b[0m\u001b[0;34m.\u001b[0m\u001b[0mensure_initialized\u001b[0m\u001b[0;34m(\u001b[0m\u001b[0;34m)\u001b[0m\u001b[0;34m\u001b[0m\u001b[0;34m\u001b[0m\u001b[0m\n\u001b[0;32m--> 108\u001b[0;31m   \u001b[0;32mreturn\u001b[0m \u001b[0mops\u001b[0m\u001b[0;34m.\u001b[0m\u001b[0mEagerTensor\u001b[0m\u001b[0;34m(\u001b[0m\u001b[0mvalue\u001b[0m\u001b[0;34m,\u001b[0m \u001b[0mctx\u001b[0m\u001b[0;34m.\u001b[0m\u001b[0mdevice_name\u001b[0m\u001b[0;34m,\u001b[0m \u001b[0mdtype\u001b[0m\u001b[0;34m)\u001b[0m\u001b[0;34m\u001b[0m\u001b[0;34m\u001b[0m\u001b[0m\n\u001b[0m\u001b[1;32m    109\u001b[0m \u001b[0;34m\u001b[0m\u001b[0m\n",
            "\u001b[0;31mValueError\u001b[0m: Attempt to convert a value (None) with an unsupported type (<class 'NoneType'>) to a Tensor.",
            "\nThe above exception was the direct cause of the following exception:\n",
            "\u001b[0;31mValueError\u001b[0m                                Traceback (most recent call last)",
            "\u001b[0;32m<ipython-input-33-add07344649b>\u001b[0m in \u001b[0;36m<cell line: 0>\u001b[0;34m()\u001b[0m\n\u001b[0;32m----> 1\u001b[0;31m tf_train_set = model.prepare_tf_dataset(\n\u001b[0m\u001b[1;32m      2\u001b[0m     \u001b[0mtokenized_books\u001b[0m\u001b[0;34m[\u001b[0m\u001b[0;34m\"train\"\u001b[0m\u001b[0;34m]\u001b[0m\u001b[0;34m,\u001b[0m\u001b[0;34m\u001b[0m\u001b[0;34m\u001b[0m\u001b[0m\n\u001b[1;32m      3\u001b[0m     \u001b[0mshuffle\u001b[0m\u001b[0;34m=\u001b[0m\u001b[0;32mTrue\u001b[0m\u001b[0;34m,\u001b[0m\u001b[0;34m\u001b[0m\u001b[0;34m\u001b[0m\u001b[0m\n\u001b[1;32m      4\u001b[0m     \u001b[0mbatch_size\u001b[0m\u001b[0;34m=\u001b[0m\u001b[0;36m16\u001b[0m\u001b[0;34m,\u001b[0m\u001b[0;34m\u001b[0m\u001b[0;34m\u001b[0m\u001b[0m\n\u001b[1;32m      5\u001b[0m     \u001b[0mcollate_fn\u001b[0m\u001b[0;34m=\u001b[0m\u001b[0mdata_collator\u001b[0m\u001b[0;34m,\u001b[0m\u001b[0;34m\u001b[0m\u001b[0;34m\u001b[0m\u001b[0m\n",
            "\u001b[0;32m/usr/local/lib/python3.11/dist-packages/transformers/modeling_tf_utils.py\u001b[0m in \u001b[0;36mprepare_tf_dataset\u001b[0;34m(self, dataset, batch_size, shuffle, tokenizer, collate_fn, collate_fn_args, drop_remainder, prefetch)\u001b[0m\n\u001b[1;32m   1486\u001b[0m         \u001b[0mmodel_labels\u001b[0m \u001b[0;34m=\u001b[0m \u001b[0mfind_labels\u001b[0m\u001b[0;34m(\u001b[0m\u001b[0mself\u001b[0m\u001b[0;34m.\u001b[0m\u001b[0m__class__\u001b[0m\u001b[0;34m)\u001b[0m\u001b[0;34m\u001b[0m\u001b[0;34m\u001b[0m\u001b[0m\n\u001b[1;32m   1487\u001b[0m         \u001b[0;32mif\u001b[0m \u001b[0;34m\"cols_to_retain\"\u001b[0m \u001b[0;32min\u001b[0m \u001b[0mlist\u001b[0m\u001b[0;34m(\u001b[0m\u001b[0minspect\u001b[0m\u001b[0;34m.\u001b[0m\u001b[0msignature\u001b[0m\u001b[0;34m(\u001b[0m\u001b[0mdataset\u001b[0m\u001b[0;34m.\u001b[0m\u001b[0m_get_output_signature\u001b[0m\u001b[0;34m)\u001b[0m\u001b[0;34m.\u001b[0m\u001b[0mparameters\u001b[0m\u001b[0;34m.\u001b[0m\u001b[0mkeys\u001b[0m\u001b[0;34m(\u001b[0m\u001b[0;34m)\u001b[0m\u001b[0;34m)\u001b[0m\u001b[0;34m:\u001b[0m\u001b[0;34m\u001b[0m\u001b[0;34m\u001b[0m\u001b[0m\n\u001b[0;32m-> 1488\u001b[0;31m             output_signature, _ = dataset._get_output_signature(\n\u001b[0m\u001b[1;32m   1489\u001b[0m                 \u001b[0mdataset\u001b[0m\u001b[0;34m,\u001b[0m\u001b[0;34m\u001b[0m\u001b[0;34m\u001b[0m\u001b[0m\n\u001b[1;32m   1490\u001b[0m                 \u001b[0mbatch_size\u001b[0m\u001b[0;34m=\u001b[0m\u001b[0;32mNone\u001b[0m\u001b[0;34m,\u001b[0m\u001b[0;34m\u001b[0m\u001b[0;34m\u001b[0m\u001b[0m\n",
            "\u001b[0;32m/usr/local/lib/python3.11/dist-packages/datasets/arrow_dataset.py\u001b[0m in \u001b[0;36m_get_output_signature\u001b[0;34m(dataset, collate_fn, collate_fn_args, cols_to_retain, batch_size, num_test_batches)\u001b[0m\n\u001b[1;32m    277\u001b[0m                 \u001b[0mtest_batch\u001b[0m \u001b[0;34m=\u001b[0m \u001b[0;34m{\u001b[0m\u001b[0mkey\u001b[0m\u001b[0;34m:\u001b[0m \u001b[0mvalue\u001b[0m \u001b[0;32mfor\u001b[0m \u001b[0mkey\u001b[0m\u001b[0;34m,\u001b[0m \u001b[0mvalue\u001b[0m \u001b[0;32min\u001b[0m \u001b[0mtest_batch\u001b[0m\u001b[0;34m.\u001b[0m\u001b[0mitems\u001b[0m\u001b[0;34m(\u001b[0m\u001b[0;34m)\u001b[0m \u001b[0;32mif\u001b[0m \u001b[0mkey\u001b[0m \u001b[0;32min\u001b[0m \u001b[0mcols_to_retain\u001b[0m\u001b[0;34m}\u001b[0m\u001b[0;34m\u001b[0m\u001b[0;34m\u001b[0m\u001b[0m\n\u001b[1;32m    278\u001b[0m             \u001b[0mtest_batch\u001b[0m \u001b[0;34m=\u001b[0m \u001b[0;34m[\u001b[0m\u001b[0;34m{\u001b[0m\u001b[0mkey\u001b[0m\u001b[0;34m:\u001b[0m \u001b[0mvalue\u001b[0m\u001b[0;34m[\u001b[0m\u001b[0mi\u001b[0m\u001b[0;34m]\u001b[0m \u001b[0;32mfor\u001b[0m \u001b[0mkey\u001b[0m\u001b[0;34m,\u001b[0m \u001b[0mvalue\u001b[0m \u001b[0;32min\u001b[0m \u001b[0mtest_batch\u001b[0m\u001b[0;34m.\u001b[0m\u001b[0mitems\u001b[0m\u001b[0;34m(\u001b[0m\u001b[0;34m)\u001b[0m\u001b[0;34m}\u001b[0m \u001b[0;32mfor\u001b[0m \u001b[0mi\u001b[0m \u001b[0;32min\u001b[0m \u001b[0mrange\u001b[0m\u001b[0;34m(\u001b[0m\u001b[0mtest_batch_size\u001b[0m\u001b[0;34m)\u001b[0m\u001b[0;34m]\u001b[0m\u001b[0;34m\u001b[0m\u001b[0;34m\u001b[0m\u001b[0m\n\u001b[0;32m--> 279\u001b[0;31m             \u001b[0mtest_batch\u001b[0m \u001b[0;34m=\u001b[0m \u001b[0mcollate_fn\u001b[0m\u001b[0;34m(\u001b[0m\u001b[0mtest_batch\u001b[0m\u001b[0;34m,\u001b[0m \u001b[0;34m**\u001b[0m\u001b[0mcollate_fn_args\u001b[0m\u001b[0;34m)\u001b[0m\u001b[0;34m\u001b[0m\u001b[0;34m\u001b[0m\u001b[0m\n\u001b[0m\u001b[1;32m    280\u001b[0m             \u001b[0mtest_batches\u001b[0m\u001b[0;34m.\u001b[0m\u001b[0mappend\u001b[0m\u001b[0;34m(\u001b[0m\u001b[0mtest_batch\u001b[0m\u001b[0;34m)\u001b[0m\u001b[0;34m\u001b[0m\u001b[0;34m\u001b[0m\u001b[0m\n\u001b[1;32m    281\u001b[0m \u001b[0;34m\u001b[0m\u001b[0m\n",
            "\u001b[0;32m/usr/local/lib/python3.11/dist-packages/transformers/data/data_collator.py\u001b[0m in \u001b[0;36m__call__\u001b[0;34m(self, features, return_tensors)\u001b[0m\n\u001b[1;32m    681\u001b[0m \u001b[0;34m\u001b[0m\u001b[0m\n\u001b[1;32m    682\u001b[0m         \u001b[0;31m# run through tokenizer without labels to ensure no side effects\u001b[0m\u001b[0;34m\u001b[0m\u001b[0;34m\u001b[0m\u001b[0m\n\u001b[0;32m--> 683\u001b[0;31m         batch = pad_without_fast_tokenizer_warning(\n\u001b[0m\u001b[1;32m    684\u001b[0m             \u001b[0mself\u001b[0m\u001b[0;34m.\u001b[0m\u001b[0mtokenizer\u001b[0m\u001b[0;34m,\u001b[0m\u001b[0;34m\u001b[0m\u001b[0;34m\u001b[0m\u001b[0m\n\u001b[1;32m    685\u001b[0m             \u001b[0mnon_labels_features\u001b[0m\u001b[0;34m,\u001b[0m\u001b[0;34m\u001b[0m\u001b[0;34m\u001b[0m\u001b[0m\n",
            "\u001b[0;32m/usr/local/lib/python3.11/dist-packages/transformers/data/data_collator.py\u001b[0m in \u001b[0;36mpad_without_fast_tokenizer_warning\u001b[0;34m(tokenizer, *pad_args, **pad_kwargs)\u001b[0m\n\u001b[1;32m     65\u001b[0m \u001b[0;34m\u001b[0m\u001b[0m\n\u001b[1;32m     66\u001b[0m     \u001b[0;32mtry\u001b[0m\u001b[0;34m:\u001b[0m\u001b[0;34m\u001b[0m\u001b[0;34m\u001b[0m\u001b[0m\n\u001b[0;32m---> 67\u001b[0;31m         \u001b[0mpadded\u001b[0m \u001b[0;34m=\u001b[0m \u001b[0mtokenizer\u001b[0m\u001b[0;34m.\u001b[0m\u001b[0mpad\u001b[0m\u001b[0;34m(\u001b[0m\u001b[0;34m*\u001b[0m\u001b[0mpad_args\u001b[0m\u001b[0;34m,\u001b[0m \u001b[0;34m**\u001b[0m\u001b[0mpad_kwargs\u001b[0m\u001b[0;34m)\u001b[0m\u001b[0;34m\u001b[0m\u001b[0;34m\u001b[0m\u001b[0m\n\u001b[0m\u001b[1;32m     68\u001b[0m     \u001b[0;32mfinally\u001b[0m\u001b[0;34m:\u001b[0m\u001b[0;34m\u001b[0m\u001b[0;34m\u001b[0m\u001b[0m\n\u001b[1;32m     69\u001b[0m         \u001b[0;31m# Restore the state of the warning.\u001b[0m\u001b[0;34m\u001b[0m\u001b[0;34m\u001b[0m\u001b[0m\n",
            "\u001b[0;32m/usr/local/lib/python3.11/dist-packages/transformers/tokenization_utils_base.py\u001b[0m in \u001b[0;36mpad\u001b[0;34m(self, encoded_inputs, padding, max_length, pad_to_multiple_of, padding_side, return_attention_mask, return_tensors, verbose)\u001b[0m\n\u001b[1;32m   3405\u001b[0m                 \u001b[0mbatch_outputs\u001b[0m\u001b[0;34m[\u001b[0m\u001b[0mkey\u001b[0m\u001b[0;34m]\u001b[0m\u001b[0;34m.\u001b[0m\u001b[0mappend\u001b[0m\u001b[0;34m(\u001b[0m\u001b[0mvalue\u001b[0m\u001b[0;34m)\u001b[0m\u001b[0;34m\u001b[0m\u001b[0;34m\u001b[0m\u001b[0m\n\u001b[1;32m   3406\u001b[0m \u001b[0;34m\u001b[0m\u001b[0m\n\u001b[0;32m-> 3407\u001b[0;31m         \u001b[0;32mreturn\u001b[0m \u001b[0mBatchEncoding\u001b[0m\u001b[0;34m(\u001b[0m\u001b[0mbatch_outputs\u001b[0m\u001b[0;34m,\u001b[0m \u001b[0mtensor_type\u001b[0m\u001b[0;34m=\u001b[0m\u001b[0mreturn_tensors\u001b[0m\u001b[0;34m)\u001b[0m\u001b[0;34m\u001b[0m\u001b[0;34m\u001b[0m\u001b[0m\n\u001b[0m\u001b[1;32m   3408\u001b[0m \u001b[0;34m\u001b[0m\u001b[0m\n\u001b[1;32m   3409\u001b[0m     def create_token_type_ids_from_sequences(\n",
            "\u001b[0;32m/usr/local/lib/python3.11/dist-packages/transformers/tokenization_utils_base.py\u001b[0m in \u001b[0;36m__init__\u001b[0;34m(self, data, encoding, tensor_type, prepend_batch_axis, n_sequences)\u001b[0m\n\u001b[1;32m    239\u001b[0m         \u001b[0mself\u001b[0m\u001b[0;34m.\u001b[0m\u001b[0m_n_sequences\u001b[0m \u001b[0;34m=\u001b[0m \u001b[0mn_sequences\u001b[0m\u001b[0;34m\u001b[0m\u001b[0;34m\u001b[0m\u001b[0m\n\u001b[1;32m    240\u001b[0m \u001b[0;34m\u001b[0m\u001b[0m\n\u001b[0;32m--> 241\u001b[0;31m         \u001b[0mself\u001b[0m\u001b[0;34m.\u001b[0m\u001b[0mconvert_to_tensors\u001b[0m\u001b[0;34m(\u001b[0m\u001b[0mtensor_type\u001b[0m\u001b[0;34m=\u001b[0m\u001b[0mtensor_type\u001b[0m\u001b[0;34m,\u001b[0m \u001b[0mprepend_batch_axis\u001b[0m\u001b[0;34m=\u001b[0m\u001b[0mprepend_batch_axis\u001b[0m\u001b[0;34m)\u001b[0m\u001b[0;34m\u001b[0m\u001b[0;34m\u001b[0m\u001b[0m\n\u001b[0m\u001b[1;32m    242\u001b[0m \u001b[0;34m\u001b[0m\u001b[0m\n\u001b[1;32m    243\u001b[0m     \u001b[0;34m@\u001b[0m\u001b[0mproperty\u001b[0m\u001b[0;34m\u001b[0m\u001b[0;34m\u001b[0m\u001b[0m\n",
            "\u001b[0;32m/usr/local/lib/python3.11/dist-packages/transformers/tokenization_utils_base.py\u001b[0m in \u001b[0;36mconvert_to_tensors\u001b[0;34m(self, tensor_type, prepend_batch_axis)\u001b[0m\n\u001b[1;32m    791\u001b[0m                         \u001b[0;34m\"Please see if a fast version of this tokenizer is available to have this feature available.\"\u001b[0m\u001b[0;34m\u001b[0m\u001b[0;34m\u001b[0m\u001b[0m\n\u001b[1;32m    792\u001b[0m                     ) from e\n\u001b[0;32m--> 793\u001b[0;31m                 raise ValueError(\n\u001b[0m\u001b[1;32m    794\u001b[0m                     \u001b[0;34m\"Unable to create tensor, you should probably activate truncation and/or padding with\"\u001b[0m\u001b[0;34m\u001b[0m\u001b[0;34m\u001b[0m\u001b[0m\n\u001b[1;32m    795\u001b[0m                     \u001b[0;34m\" 'padding=True' 'truncation=True' to have batched tensors with the same length. Perhaps your\"\u001b[0m\u001b[0;34m\u001b[0m\u001b[0;34m\u001b[0m\u001b[0m\n",
            "\u001b[0;31mValueError\u001b[0m: Unable to create tensor, you should probably activate truncation and/or padding with 'padding=True' 'truncation=True' to have batched tensors with the same length. Perhaps your features (`decoder_input_ids` in this case) have excessive nesting (inputs type `list` where type `int` is expected)."
          ]
        }
      ],
      "source": [
        "tf_train_set = model.prepare_tf_dataset(\n",
        "    tokenized_books[\"train\"],\n",
        "    shuffle=True,\n",
        "    batch_size=16,\n",
        "    collate_fn=data_collator,\n",
        ")\n",
        "\n",
        "tf_test_set = model.prepare_tf_dataset(\n",
        "    tokenized_books[\"test\"],\n",
        "    shuffle=False,\n",
        "    batch_size=16,\n",
        "    collate_fn=data_collator,\n",
        ")"
      ]
    },
    {
      "cell_type": "markdown",
      "source": [
        "Trying to fix the issue I got on the first experiment... Thanks to Google's Gemini for the suggestions."
      ],
      "metadata": {
        "id": "bL_cJ1AqMuHe"
      }
    },
    {
      "source": [
        "tf_validation_set = model.prepare_tf_dataset(\n",
        "    tokenized_books[\"test\"],\n",
        "    shuffle=False,\n",
        "    batch_size=16,\n",
        "    collate_fn=data_collator,\n",
        ")\n",
        "# Ensure the validation set is prefetched for faster evaluation\n",
        "tf_validation_set = tf_validation_set.prefetch(tf.data.AUTOTUNE)"
      ],
      "cell_type": "code",
      "metadata": {
        "id": "PiyI1jFRMs6Z"
      },
      "execution_count": null,
      "outputs": []
    },
    {
      "cell_type": "markdown",
      "metadata": {
        "id": "pp5J4b586Adx"
      },
      "source": [
        "Configure the model for training with [`compile`](https://keras.io/api/models/model_training_apis/#compile-method). Note that Transformers models all have a default task-relevant loss function, so you don't need to specify one unless you want to:"
      ]
    },
    {
      "cell_type": "code",
      "execution_count": null,
      "metadata": {
        "id": "maP07elR6Adx"
      },
      "outputs": [],
      "source": [
        "import tensorflow as tf\n",
        "\n",
        "model.compile(optimizer=optimizer)  # No loss argument!"
      ]
    },
    {
      "cell_type": "markdown",
      "metadata": {
        "id": "QXU2ELzE6Adx"
      },
      "source": [
        "The last two things to setup before you start training is to compute the SacreBLEU metric from the predictions, and provide a way to push your model to the Hub. Both are done by using [Keras callbacks](https://huggingface.co/docs/transformers/main/en/tasks/../main_classes/keras_callbacks).\n",
        "\n",
        "Pass your `compute_metrics` function to [KerasMetricCallback](https://huggingface.co/docs/transformers/main/en/main_classes/keras_callbacks#transformers.KerasMetricCallback):"
      ]
    },
    {
      "cell_type": "code",
      "execution_count": null,
      "metadata": {
        "id": "TXfowmZj6Adx"
      },
      "outputs": [],
      "source": [
        "from transformers.keras_callbacks import KerasMetricCallback\n",
        "\n",
        "metric_callback = KerasMetricCallback(metric_fn=compute_metrics, eval_dataset=tf_validation_set)"
      ]
    },
    {
      "cell_type": "markdown",
      "metadata": {
        "id": "DzOvJlJa6Adx"
      },
      "source": [
        "Specify where to push your model and tokenizer in the [PushToHubCallback](https://huggingface.co/docs/transformers/main/en/main_classes/keras_callbacks#transformers.PushToHubCallback):"
      ]
    },
    {
      "cell_type": "code",
      "execution_count": null,
      "metadata": {
        "id": "AspDGnSN6Adx"
      },
      "outputs": [],
      "source": [
        "from transformers.keras_callbacks import PushToHubCallback\n",
        "\n",
        "push_to_hub_callback = PushToHubCallback(\n",
        "    # output_dir=\"my_awesome_opus_books_model\",\n",
        "    output_dir=\"my_awesome_opus_books_model\",\n",
        "    tokenizer=tokenizer,\n",
        ")"
      ]
    },
    {
      "cell_type": "markdown",
      "metadata": {
        "id": "LJeF6SHq6Adx"
      },
      "source": [
        "Then bundle your callbacks together:"
      ]
    },
    {
      "cell_type": "code",
      "execution_count": null,
      "metadata": {
        "id": "NBXEL6tg6Adx"
      },
      "outputs": [],
      "source": [
        "callbacks = [metric_callback, push_to_hub_callback]"
      ]
    },
    {
      "cell_type": "markdown",
      "metadata": {
        "id": "mmnfzezn6Adx"
      },
      "source": [
        "Finally, you're ready to start training your model! Call [`fit`](https://keras.io/api/models/model_training_apis/#fit-method) with your training and validation datasets, the number of epochs, and your callbacks to finetune the model:"
      ]
    },
    {
      "cell_type": "code",
      "execution_count": null,
      "metadata": {
        "id": "XyVDcMX16Adx"
      },
      "outputs": [],
      "source": [
        "model.fit(x=tf_train_set, validation_data=tf_test_set, epochs=1, callbacks=callbacks)"
      ]
    },
    {
      "cell_type": "markdown",
      "metadata": {
        "id": "LxALglFi6Adx"
      },
      "source": [
        "Once training is completed, your model is automatically uploaded to the Hub so everyone can use it!\n",
        "\n",
        "<Tip>\n",
        "\n",
        "For a more in-depth example of how to finetune a model for translation, take a look at the corresponding\n",
        "[PyTorch notebook](https://colab.research.google.com/github/huggingface/notebooks/blob/main/examples/translation.ipynb)\n",
        "or [TensorFlow notebook](https://colab.research.google.com/github/huggingface/notebooks/blob/main/examples/translation-tf.ipynb).\n",
        "\n",
        "</Tip>"
      ]
    },
    {
      "cell_type": "markdown",
      "metadata": {
        "id": "Fnfk5lUd6Adx"
      },
      "source": [
        "## Inference"
      ]
    },
    {
      "cell_type": "markdown",
      "metadata": {
        "id": "Xe0QBWPM6Adx"
      },
      "source": [
        "Great, now that you've finetuned a model, you can use it for inference!\n",
        "\n",
        "Come up with some text you'd like to translate to another language. For T5, you need to prefix your input depending on the task you're working on. For translation from English to French, you should prefix your input as shown below:"
      ]
    },
    {
      "cell_type": "code",
      "execution_count": null,
      "metadata": {
        "id": "XDDMujEb6Adx"
      },
      "outputs": [],
      "source": [
        "text = \"translate English to French: Legumes share resources with nitrogen-fixing bacteria.\"\n",
        "\n",
        "text2 = \"translate English to French but ignore short HTML tags: [a]I'm afraid not. Bloodletter of Aclazotz causes your opponent to lose twice the amount of life due the damage that Kotis deals to them, but the X in Kotis's ability is the amount of damage it dealt, not the amount of life that was lost as a result of the damage.[/a]\""
      ]
    },
    {
      "cell_type": "markdown",
      "metadata": {
        "id": "Oy72QRcu6Adx"
      },
      "source": [
        "The simplest way to try out your finetuned model for inference is to use it in a [pipeline()](https://huggingface.co/docs/transformers/main/en/main_classes/pipelines#transformers.pipeline). Instantiate a `pipeline` for translation with your model, and pass your text to it:"
      ]
    },
    {
      "cell_type": "code",
      "execution_count": null,
      "metadata": {
        "id": "vXzENNC66Adx"
      },
      "outputs": [],
      "source": [
        "from transformers import pipeline\n",
        "\n",
        "# translator = pipeline(\"translation\", model=\"my_awesome_opus_books_model\")\n",
        "translator = pipeline(\"translation\", model=\"google-t5/t5-small\")"
      ]
    },
    {
      "cell_type": "code",
      "source": [
        "translator(text)"
      ],
      "metadata": {
        "id": "qAfAA6dmN33G"
      },
      "execution_count": null,
      "outputs": []
    },
    {
      "cell_type": "code",
      "source": [
        "translator(text2)"
      ],
      "metadata": {
        "id": "qd0Z1JTlN3sb"
      },
      "execution_count": null,
      "outputs": []
    },
    {
      "cell_type": "markdown",
      "metadata": {
        "id": "USCUOPKz6Adx"
      },
      "source": [
        "You can also manually replicate the results of the `pipeline` if you'd like:\n",
        "\n",
        "Tokenize the text and return the `input_ids` as TensorFlow tensors:"
      ]
    },
    {
      "cell_type": "code",
      "execution_count": null,
      "metadata": {
        "id": "hq09h1rp6Adx"
      },
      "outputs": [],
      "source": [
        "from transformers import AutoTokenizer\n",
        "\n",
        "tokenizer = AutoTokenizer.from_pretrained(\"my_awesome_opus_books_model\")\n",
        "inputs = tokenizer(text, return_tensors=\"tf\").input_ids"
      ]
    },
    {
      "cell_type": "markdown",
      "metadata": {
        "id": "G7WKp70s6Adx"
      },
      "source": [
        "Use the [generate()](https://huggingface.co/docs/transformers/main/en/main_classes/text_generation#transformers.TFGenerationMixin.generate) method to create the translation. For more details about the different text generation strategies and parameters for controlling generation, check out the [Text Generation](https://huggingface.co/docs/transformers/main/en/tasks/../main_classes/text_generation) API."
      ]
    },
    {
      "cell_type": "code",
      "execution_count": null,
      "metadata": {
        "id": "3X0XecdP6Adx"
      },
      "outputs": [],
      "source": [
        "from transformers import TFAutoModelForSeq2SeqLM\n",
        "\n",
        "model = TFAutoModelForSeq2SeqLM.from_pretrained(\"my_awesome_opus_books_model\")\n",
        "outputs = model.generate(inputs, max_new_tokens=40, do_sample=True, top_k=30, top_p=0.95)"
      ]
    },
    {
      "cell_type": "markdown",
      "metadata": {
        "id": "cLYmupzm6Adx"
      },
      "source": [
        "Decode the generated token ids back into text:"
      ]
    },
    {
      "cell_type": "code",
      "execution_count": null,
      "metadata": {
        "id": "CoUIX18G6Adx"
      },
      "outputs": [],
      "source": [
        "tokenizer.decode(outputs[0], skip_special_tokens=True)"
      ]
    },
    {
      "cell_type": "code",
      "source": [],
      "metadata": {
        "id": "l9oXTlXcQrPB"
      },
      "execution_count": null,
      "outputs": []
    }
  ],
  "metadata": {
    "colab": {
      "provenance": [],
      "collapsed_sections": [
        "chp0GYsGWCYz",
        "cmyAZXr2__Da",
        "SrDH2I2pjxF0",
        "z--6_Yjs71jw",
        "OFRuHX0yPPk2",
        "GIPJTz0aeNYh",
        "xaYhOfotSK7u",
        "RZ5Oxd7c72Vg",
        "7XcGjf986Adg",
        "xBitibTC6Adg",
        "qgiEcSar6Adg",
        "dY_I1PdM6Adx",
        "vqhAiPBR6Adx",
        "Fnfk5lUd6Adx"
      ],
      "gpuType": "T4"
    },
    "language_info": {
      "name": "python"
    },
    "kernelspec": {
      "name": "python3",
      "display_name": "Python 3"
    },
    "accelerator": "GPU",
    "widgets": {
      "application/vnd.jupyter.widget-state+json": {
        "ff41aea390694f358d6623ad5a44ce50": {
          "model_module": "@jupyter-widgets/controls",
          "model_name": "HBoxModel",
          "model_module_version": "1.5.0",
          "state": {
            "_dom_classes": [],
            "_model_module": "@jupyter-widgets/controls",
            "_model_module_version": "1.5.0",
            "_model_name": "HBoxModel",
            "_view_count": null,
            "_view_module": "@jupyter-widgets/controls",
            "_view_module_version": "1.5.0",
            "_view_name": "HBoxView",
            "box_style": "",
            "children": [
              "IPY_MODEL_5203346d92d04688a3f6f59f2853fee6",
              "IPY_MODEL_017b0ad4cc6f47f988d3894bfe90dd2c",
              "IPY_MODEL_f9c8e7a012bc498e879fa6a7d7c42a86"
            ],
            "layout": "IPY_MODEL_aa6bb36973254e48aebc140936912c65"
          }
        },
        "5203346d92d04688a3f6f59f2853fee6": {
          "model_module": "@jupyter-widgets/controls",
          "model_name": "HTMLModel",
          "model_module_version": "1.5.0",
          "state": {
            "_dom_classes": [],
            "_model_module": "@jupyter-widgets/controls",
            "_model_module_version": "1.5.0",
            "_model_name": "HTMLModel",
            "_view_count": null,
            "_view_module": "@jupyter-widgets/controls",
            "_view_module_version": "1.5.0",
            "_view_name": "HTMLView",
            "description": "",
            "description_tooltip": null,
            "layout": "IPY_MODEL_92615269faf349f0a1538e936127b79e",
            "placeholder": "​",
            "style": "IPY_MODEL_58b4560073d542fa8b251dfba7150f8c",
            "value": ""
          }
        },
        "017b0ad4cc6f47f988d3894bfe90dd2c": {
          "model_module": "@jupyter-widgets/controls",
          "model_name": "FloatProgressModel",
          "model_module_version": "1.5.0",
          "state": {
            "_dom_classes": [],
            "_model_module": "@jupyter-widgets/controls",
            "_model_module_version": "1.5.0",
            "_model_name": "FloatProgressModel",
            "_view_count": null,
            "_view_module": "@jupyter-widgets/controls",
            "_view_module_version": "1.5.0",
            "_view_name": "ProgressView",
            "bar_style": "success",
            "description": "",
            "description_tooltip": null,
            "layout": "IPY_MODEL_20638ccd0c1c40bf8bc2ff843f8eaaa1",
            "max": 1,
            "min": 0,
            "orientation": "horizontal",
            "style": "IPY_MODEL_2d0ab01e1b544e9482993540dce7c807",
            "value": 1
          }
        },
        "f9c8e7a012bc498e879fa6a7d7c42a86": {
          "model_module": "@jupyter-widgets/controls",
          "model_name": "HTMLModel",
          "model_module_version": "1.5.0",
          "state": {
            "_dom_classes": [],
            "_model_module": "@jupyter-widgets/controls",
            "_model_module_version": "1.5.0",
            "_model_name": "HTMLModel",
            "_view_count": null,
            "_view_module": "@jupyter-widgets/controls",
            "_view_module_version": "1.5.0",
            "_view_name": "HTMLView",
            "description": "",
            "description_tooltip": null,
            "layout": "IPY_MODEL_3849528894b2444bbd44b39ee23b8ecd",
            "placeholder": "​",
            "style": "IPY_MODEL_a854ece7118b482899e2ddf8269697b4",
            "value": " 58/? [00:42&lt;00:00,  1.40it/s]"
          }
        },
        "aa6bb36973254e48aebc140936912c65": {
          "model_module": "@jupyter-widgets/base",
          "model_name": "LayoutModel",
          "model_module_version": "1.2.0",
          "state": {
            "_model_module": "@jupyter-widgets/base",
            "_model_module_version": "1.2.0",
            "_model_name": "LayoutModel",
            "_view_count": null,
            "_view_module": "@jupyter-widgets/base",
            "_view_module_version": "1.2.0",
            "_view_name": "LayoutView",
            "align_content": null,
            "align_items": null,
            "align_self": null,
            "border": null,
            "bottom": null,
            "display": null,
            "flex": null,
            "flex_flow": null,
            "grid_area": null,
            "grid_auto_columns": null,
            "grid_auto_flow": null,
            "grid_auto_rows": null,
            "grid_column": null,
            "grid_gap": null,
            "grid_row": null,
            "grid_template_areas": null,
            "grid_template_columns": null,
            "grid_template_rows": null,
            "height": null,
            "justify_content": null,
            "justify_items": null,
            "left": null,
            "margin": null,
            "max_height": null,
            "max_width": null,
            "min_height": null,
            "min_width": null,
            "object_fit": null,
            "object_position": null,
            "order": null,
            "overflow": null,
            "overflow_x": null,
            "overflow_y": null,
            "padding": null,
            "right": null,
            "top": null,
            "visibility": null,
            "width": null
          }
        },
        "92615269faf349f0a1538e936127b79e": {
          "model_module": "@jupyter-widgets/base",
          "model_name": "LayoutModel",
          "model_module_version": "1.2.0",
          "state": {
            "_model_module": "@jupyter-widgets/base",
            "_model_module_version": "1.2.0",
            "_model_name": "LayoutModel",
            "_view_count": null,
            "_view_module": "@jupyter-widgets/base",
            "_view_module_version": "1.2.0",
            "_view_name": "LayoutView",
            "align_content": null,
            "align_items": null,
            "align_self": null,
            "border": null,
            "bottom": null,
            "display": null,
            "flex": null,
            "flex_flow": null,
            "grid_area": null,
            "grid_auto_columns": null,
            "grid_auto_flow": null,
            "grid_auto_rows": null,
            "grid_column": null,
            "grid_gap": null,
            "grid_row": null,
            "grid_template_areas": null,
            "grid_template_columns": null,
            "grid_template_rows": null,
            "height": null,
            "justify_content": null,
            "justify_items": null,
            "left": null,
            "margin": null,
            "max_height": null,
            "max_width": null,
            "min_height": null,
            "min_width": null,
            "object_fit": null,
            "object_position": null,
            "order": null,
            "overflow": null,
            "overflow_x": null,
            "overflow_y": null,
            "padding": null,
            "right": null,
            "top": null,
            "visibility": null,
            "width": null
          }
        },
        "58b4560073d542fa8b251dfba7150f8c": {
          "model_module": "@jupyter-widgets/controls",
          "model_name": "DescriptionStyleModel",
          "model_module_version": "1.5.0",
          "state": {
            "_model_module": "@jupyter-widgets/controls",
            "_model_module_version": "1.5.0",
            "_model_name": "DescriptionStyleModel",
            "_view_count": null,
            "_view_module": "@jupyter-widgets/base",
            "_view_module_version": "1.2.0",
            "_view_name": "StyleView",
            "description_width": ""
          }
        },
        "20638ccd0c1c40bf8bc2ff843f8eaaa1": {
          "model_module": "@jupyter-widgets/base",
          "model_name": "LayoutModel",
          "model_module_version": "1.2.0",
          "state": {
            "_model_module": "@jupyter-widgets/base",
            "_model_module_version": "1.2.0",
            "_model_name": "LayoutModel",
            "_view_count": null,
            "_view_module": "@jupyter-widgets/base",
            "_view_module_version": "1.2.0",
            "_view_name": "LayoutView",
            "align_content": null,
            "align_items": null,
            "align_self": null,
            "border": null,
            "bottom": null,
            "display": null,
            "flex": null,
            "flex_flow": null,
            "grid_area": null,
            "grid_auto_columns": null,
            "grid_auto_flow": null,
            "grid_auto_rows": null,
            "grid_column": null,
            "grid_gap": null,
            "grid_row": null,
            "grid_template_areas": null,
            "grid_template_columns": null,
            "grid_template_rows": null,
            "height": null,
            "justify_content": null,
            "justify_items": null,
            "left": null,
            "margin": null,
            "max_height": null,
            "max_width": null,
            "min_height": null,
            "min_width": null,
            "object_fit": null,
            "object_position": null,
            "order": null,
            "overflow": null,
            "overflow_x": null,
            "overflow_y": null,
            "padding": null,
            "right": null,
            "top": null,
            "visibility": null,
            "width": "20px"
          }
        },
        "2d0ab01e1b544e9482993540dce7c807": {
          "model_module": "@jupyter-widgets/controls",
          "model_name": "ProgressStyleModel",
          "model_module_version": "1.5.0",
          "state": {
            "_model_module": "@jupyter-widgets/controls",
            "_model_module_version": "1.5.0",
            "_model_name": "ProgressStyleModel",
            "_view_count": null,
            "_view_module": "@jupyter-widgets/base",
            "_view_module_version": "1.2.0",
            "_view_name": "StyleView",
            "bar_color": null,
            "description_width": ""
          }
        },
        "3849528894b2444bbd44b39ee23b8ecd": {
          "model_module": "@jupyter-widgets/base",
          "model_name": "LayoutModel",
          "model_module_version": "1.2.0",
          "state": {
            "_model_module": "@jupyter-widgets/base",
            "_model_module_version": "1.2.0",
            "_model_name": "LayoutModel",
            "_view_count": null,
            "_view_module": "@jupyter-widgets/base",
            "_view_module_version": "1.2.0",
            "_view_name": "LayoutView",
            "align_content": null,
            "align_items": null,
            "align_self": null,
            "border": null,
            "bottom": null,
            "display": null,
            "flex": null,
            "flex_flow": null,
            "grid_area": null,
            "grid_auto_columns": null,
            "grid_auto_flow": null,
            "grid_auto_rows": null,
            "grid_column": null,
            "grid_gap": null,
            "grid_row": null,
            "grid_template_areas": null,
            "grid_template_columns": null,
            "grid_template_rows": null,
            "height": null,
            "justify_content": null,
            "justify_items": null,
            "left": null,
            "margin": null,
            "max_height": null,
            "max_width": null,
            "min_height": null,
            "min_width": null,
            "object_fit": null,
            "object_position": null,
            "order": null,
            "overflow": null,
            "overflow_x": null,
            "overflow_y": null,
            "padding": null,
            "right": null,
            "top": null,
            "visibility": null,
            "width": null
          }
        },
        "a854ece7118b482899e2ddf8269697b4": {
          "model_module": "@jupyter-widgets/controls",
          "model_name": "DescriptionStyleModel",
          "model_module_version": "1.5.0",
          "state": {
            "_model_module": "@jupyter-widgets/controls",
            "_model_module_version": "1.5.0",
            "_model_name": "DescriptionStyleModel",
            "_view_count": null,
            "_view_module": "@jupyter-widgets/base",
            "_view_module_version": "1.2.0",
            "_view_name": "StyleView",
            "description_width": ""
          }
        },
        "0bae1ba4e15a4548aaa60d0957d4c5ba": {
          "model_module": "@jupyter-widgets/controls",
          "model_name": "HBoxModel",
          "model_module_version": "1.5.0",
          "state": {
            "_dom_classes": [],
            "_model_module": "@jupyter-widgets/controls",
            "_model_module_version": "1.5.0",
            "_model_name": "HBoxModel",
            "_view_count": null,
            "_view_module": "@jupyter-widgets/controls",
            "_view_module_version": "1.5.0",
            "_view_name": "HBoxView",
            "box_style": "",
            "children": [
              "IPY_MODEL_8abcc7398394411bb082bf47e626a733",
              "IPY_MODEL_cb348874eab840f6859adf537ccaafe2",
              "IPY_MODEL_90fe83f8484e44a99446503ebdeb257e"
            ],
            "layout": "IPY_MODEL_9c14d5fd37dd435da3a6427fe8359691"
          }
        },
        "8abcc7398394411bb082bf47e626a733": {
          "model_module": "@jupyter-widgets/controls",
          "model_name": "HTMLModel",
          "model_module_version": "1.5.0",
          "state": {
            "_dom_classes": [],
            "_model_module": "@jupyter-widgets/controls",
            "_model_module_version": "1.5.0",
            "_model_name": "HTMLModel",
            "_view_count": null,
            "_view_module": "@jupyter-widgets/controls",
            "_view_module_version": "1.5.0",
            "_view_name": "HTMLView",
            "description": "",
            "description_tooltip": null,
            "layout": "IPY_MODEL_3e8f3f20d1b64a6c9c1b047f10037ecd",
            "placeholder": "​",
            "style": "IPY_MODEL_68df28fbb0b14efd899b8912dc80a1db",
            "value": ""
          }
        },
        "cb348874eab840f6859adf537ccaafe2": {
          "model_module": "@jupyter-widgets/controls",
          "model_name": "FloatProgressModel",
          "model_module_version": "1.5.0",
          "state": {
            "_dom_classes": [],
            "_model_module": "@jupyter-widgets/controls",
            "_model_module_version": "1.5.0",
            "_model_name": "FloatProgressModel",
            "_view_count": null,
            "_view_module": "@jupyter-widgets/controls",
            "_view_module_version": "1.5.0",
            "_view_name": "ProgressView",
            "bar_style": "success",
            "description": "",
            "description_tooltip": null,
            "layout": "IPY_MODEL_c8aac8f400ef43aba52cf8c87145d178",
            "max": 1,
            "min": 0,
            "orientation": "horizontal",
            "style": "IPY_MODEL_7608c9fb84ce49e8a9dddd98f6bade6a",
            "value": 1
          }
        },
        "90fe83f8484e44a99446503ebdeb257e": {
          "model_module": "@jupyter-widgets/controls",
          "model_name": "HTMLModel",
          "model_module_version": "1.5.0",
          "state": {
            "_dom_classes": [],
            "_model_module": "@jupyter-widgets/controls",
            "_model_module_version": "1.5.0",
            "_model_name": "HTMLModel",
            "_view_count": null,
            "_view_module": "@jupyter-widgets/controls",
            "_view_module_version": "1.5.0",
            "_view_name": "HTMLView",
            "description": "",
            "description_tooltip": null,
            "layout": "IPY_MODEL_c29b7b89769845948708b91b5248ef04",
            "placeholder": "​",
            "style": "IPY_MODEL_995d14b9487b446aae6fd235e50ebdfd",
            "value": " 58/? [00:00&lt;00:00, 204.54it/s]"
          }
        },
        "9c14d5fd37dd435da3a6427fe8359691": {
          "model_module": "@jupyter-widgets/base",
          "model_name": "LayoutModel",
          "model_module_version": "1.2.0",
          "state": {
            "_model_module": "@jupyter-widgets/base",
            "_model_module_version": "1.2.0",
            "_model_name": "LayoutModel",
            "_view_count": null,
            "_view_module": "@jupyter-widgets/base",
            "_view_module_version": "1.2.0",
            "_view_name": "LayoutView",
            "align_content": null,
            "align_items": null,
            "align_self": null,
            "border": null,
            "bottom": null,
            "display": null,
            "flex": null,
            "flex_flow": null,
            "grid_area": null,
            "grid_auto_columns": null,
            "grid_auto_flow": null,
            "grid_auto_rows": null,
            "grid_column": null,
            "grid_gap": null,
            "grid_row": null,
            "grid_template_areas": null,
            "grid_template_columns": null,
            "grid_template_rows": null,
            "height": null,
            "justify_content": null,
            "justify_items": null,
            "left": null,
            "margin": null,
            "max_height": null,
            "max_width": null,
            "min_height": null,
            "min_width": null,
            "object_fit": null,
            "object_position": null,
            "order": null,
            "overflow": null,
            "overflow_x": null,
            "overflow_y": null,
            "padding": null,
            "right": null,
            "top": null,
            "visibility": null,
            "width": null
          }
        },
        "3e8f3f20d1b64a6c9c1b047f10037ecd": {
          "model_module": "@jupyter-widgets/base",
          "model_name": "LayoutModel",
          "model_module_version": "1.2.0",
          "state": {
            "_model_module": "@jupyter-widgets/base",
            "_model_module_version": "1.2.0",
            "_model_name": "LayoutModel",
            "_view_count": null,
            "_view_module": "@jupyter-widgets/base",
            "_view_module_version": "1.2.0",
            "_view_name": "LayoutView",
            "align_content": null,
            "align_items": null,
            "align_self": null,
            "border": null,
            "bottom": null,
            "display": null,
            "flex": null,
            "flex_flow": null,
            "grid_area": null,
            "grid_auto_columns": null,
            "grid_auto_flow": null,
            "grid_auto_rows": null,
            "grid_column": null,
            "grid_gap": null,
            "grid_row": null,
            "grid_template_areas": null,
            "grid_template_columns": null,
            "grid_template_rows": null,
            "height": null,
            "justify_content": null,
            "justify_items": null,
            "left": null,
            "margin": null,
            "max_height": null,
            "max_width": null,
            "min_height": null,
            "min_width": null,
            "object_fit": null,
            "object_position": null,
            "order": null,
            "overflow": null,
            "overflow_x": null,
            "overflow_y": null,
            "padding": null,
            "right": null,
            "top": null,
            "visibility": null,
            "width": null
          }
        },
        "68df28fbb0b14efd899b8912dc80a1db": {
          "model_module": "@jupyter-widgets/controls",
          "model_name": "DescriptionStyleModel",
          "model_module_version": "1.5.0",
          "state": {
            "_model_module": "@jupyter-widgets/controls",
            "_model_module_version": "1.5.0",
            "_model_name": "DescriptionStyleModel",
            "_view_count": null,
            "_view_module": "@jupyter-widgets/base",
            "_view_module_version": "1.2.0",
            "_view_name": "StyleView",
            "description_width": ""
          }
        },
        "c8aac8f400ef43aba52cf8c87145d178": {
          "model_module": "@jupyter-widgets/base",
          "model_name": "LayoutModel",
          "model_module_version": "1.2.0",
          "state": {
            "_model_module": "@jupyter-widgets/base",
            "_model_module_version": "1.2.0",
            "_model_name": "LayoutModel",
            "_view_count": null,
            "_view_module": "@jupyter-widgets/base",
            "_view_module_version": "1.2.0",
            "_view_name": "LayoutView",
            "align_content": null,
            "align_items": null,
            "align_self": null,
            "border": null,
            "bottom": null,
            "display": null,
            "flex": null,
            "flex_flow": null,
            "grid_area": null,
            "grid_auto_columns": null,
            "grid_auto_flow": null,
            "grid_auto_rows": null,
            "grid_column": null,
            "grid_gap": null,
            "grid_row": null,
            "grid_template_areas": null,
            "grid_template_columns": null,
            "grid_template_rows": null,
            "height": null,
            "justify_content": null,
            "justify_items": null,
            "left": null,
            "margin": null,
            "max_height": null,
            "max_width": null,
            "min_height": null,
            "min_width": null,
            "object_fit": null,
            "object_position": null,
            "order": null,
            "overflow": null,
            "overflow_x": null,
            "overflow_y": null,
            "padding": null,
            "right": null,
            "top": null,
            "visibility": null,
            "width": "20px"
          }
        },
        "7608c9fb84ce49e8a9dddd98f6bade6a": {
          "model_module": "@jupyter-widgets/controls",
          "model_name": "ProgressStyleModel",
          "model_module_version": "1.5.0",
          "state": {
            "_model_module": "@jupyter-widgets/controls",
            "_model_module_version": "1.5.0",
            "_model_name": "ProgressStyleModel",
            "_view_count": null,
            "_view_module": "@jupyter-widgets/base",
            "_view_module_version": "1.2.0",
            "_view_name": "StyleView",
            "bar_color": null,
            "description_width": ""
          }
        },
        "c29b7b89769845948708b91b5248ef04": {
          "model_module": "@jupyter-widgets/base",
          "model_name": "LayoutModel",
          "model_module_version": "1.2.0",
          "state": {
            "_model_module": "@jupyter-widgets/base",
            "_model_module_version": "1.2.0",
            "_model_name": "LayoutModel",
            "_view_count": null,
            "_view_module": "@jupyter-widgets/base",
            "_view_module_version": "1.2.0",
            "_view_name": "LayoutView",
            "align_content": null,
            "align_items": null,
            "align_self": null,
            "border": null,
            "bottom": null,
            "display": null,
            "flex": null,
            "flex_flow": null,
            "grid_area": null,
            "grid_auto_columns": null,
            "grid_auto_flow": null,
            "grid_auto_rows": null,
            "grid_column": null,
            "grid_gap": null,
            "grid_row": null,
            "grid_template_areas": null,
            "grid_template_columns": null,
            "grid_template_rows": null,
            "height": null,
            "justify_content": null,
            "justify_items": null,
            "left": null,
            "margin": null,
            "max_height": null,
            "max_width": null,
            "min_height": null,
            "min_width": null,
            "object_fit": null,
            "object_position": null,
            "order": null,
            "overflow": null,
            "overflow_x": null,
            "overflow_y": null,
            "padding": null,
            "right": null,
            "top": null,
            "visibility": null,
            "width": null
          }
        },
        "995d14b9487b446aae6fd235e50ebdfd": {
          "model_module": "@jupyter-widgets/controls",
          "model_name": "DescriptionStyleModel",
          "model_module_version": "1.5.0",
          "state": {
            "_model_module": "@jupyter-widgets/controls",
            "_model_module_version": "1.5.0",
            "_model_name": "DescriptionStyleModel",
            "_view_count": null,
            "_view_module": "@jupyter-widgets/base",
            "_view_module_version": "1.2.0",
            "_view_name": "StyleView",
            "description_width": ""
          }
        },
        "6589bfcecd684110b029a807b7bb7abe": {
          "model_module": "@jupyter-widgets/controls",
          "model_name": "HBoxModel",
          "model_module_version": "1.5.0",
          "state": {
            "_dom_classes": [],
            "_model_module": "@jupyter-widgets/controls",
            "_model_module_version": "1.5.0",
            "_model_name": "HBoxModel",
            "_view_count": null,
            "_view_module": "@jupyter-widgets/controls",
            "_view_module_version": "1.5.0",
            "_view_name": "HBoxView",
            "box_style": "",
            "children": [
              "IPY_MODEL_357a0f0c978f41eca39ab97f4b89f80f",
              "IPY_MODEL_daaf07904df7465dbb297339968e1a1c",
              "IPY_MODEL_f5c3792264ea4399818e993eb77166d9"
            ],
            "layout": "IPY_MODEL_982e0c96d916450088fff3f16c655a72"
          }
        },
        "357a0f0c978f41eca39ab97f4b89f80f": {
          "model_module": "@jupyter-widgets/controls",
          "model_name": "HTMLModel",
          "model_module_version": "1.5.0",
          "state": {
            "_dom_classes": [],
            "_model_module": "@jupyter-widgets/controls",
            "_model_module_version": "1.5.0",
            "_model_name": "HTMLModel",
            "_view_count": null,
            "_view_module": "@jupyter-widgets/controls",
            "_view_module_version": "1.5.0",
            "_view_name": "HTMLView",
            "description": "",
            "description_tooltip": null,
            "layout": "IPY_MODEL_a3bd6e9797404438b2cc22b9873218fa",
            "placeholder": "​",
            "style": "IPY_MODEL_1029ae8eaf2348ca8254d870529d7cdd",
            "value": ""
          }
        },
        "daaf07904df7465dbb297339968e1a1c": {
          "model_module": "@jupyter-widgets/controls",
          "model_name": "FloatProgressModel",
          "model_module_version": "1.5.0",
          "state": {
            "_dom_classes": [],
            "_model_module": "@jupyter-widgets/controls",
            "_model_module_version": "1.5.0",
            "_model_name": "FloatProgressModel",
            "_view_count": null,
            "_view_module": "@jupyter-widgets/controls",
            "_view_module_version": "1.5.0",
            "_view_name": "ProgressView",
            "bar_style": "success",
            "description": "",
            "description_tooltip": null,
            "layout": "IPY_MODEL_74d90cba621c4075a473f6732038f2a6",
            "max": 1,
            "min": 0,
            "orientation": "horizontal",
            "style": "IPY_MODEL_ec4e574d966142c287cb7dc12827b828",
            "value": 1
          }
        },
        "f5c3792264ea4399818e993eb77166d9": {
          "model_module": "@jupyter-widgets/controls",
          "model_name": "HTMLModel",
          "model_module_version": "1.5.0",
          "state": {
            "_dom_classes": [],
            "_model_module": "@jupyter-widgets/controls",
            "_model_module_version": "1.5.0",
            "_model_name": "HTMLModel",
            "_view_count": null,
            "_view_module": "@jupyter-widgets/controls",
            "_view_module_version": "1.5.0",
            "_view_name": "HTMLView",
            "description": "",
            "description_tooltip": null,
            "layout": "IPY_MODEL_6fa175360b0c4a65bae72237ab1e7750",
            "placeholder": "​",
            "style": "IPY_MODEL_479dadabbd4d44d383c5a02062d73557",
            "value": " 58/? [00:00&lt;00:00, 288.11it/s]"
          }
        },
        "982e0c96d916450088fff3f16c655a72": {
          "model_module": "@jupyter-widgets/base",
          "model_name": "LayoutModel",
          "model_module_version": "1.2.0",
          "state": {
            "_model_module": "@jupyter-widgets/base",
            "_model_module_version": "1.2.0",
            "_model_name": "LayoutModel",
            "_view_count": null,
            "_view_module": "@jupyter-widgets/base",
            "_view_module_version": "1.2.0",
            "_view_name": "LayoutView",
            "align_content": null,
            "align_items": null,
            "align_self": null,
            "border": null,
            "bottom": null,
            "display": null,
            "flex": null,
            "flex_flow": null,
            "grid_area": null,
            "grid_auto_columns": null,
            "grid_auto_flow": null,
            "grid_auto_rows": null,
            "grid_column": null,
            "grid_gap": null,
            "grid_row": null,
            "grid_template_areas": null,
            "grid_template_columns": null,
            "grid_template_rows": null,
            "height": null,
            "justify_content": null,
            "justify_items": null,
            "left": null,
            "margin": null,
            "max_height": null,
            "max_width": null,
            "min_height": null,
            "min_width": null,
            "object_fit": null,
            "object_position": null,
            "order": null,
            "overflow": null,
            "overflow_x": null,
            "overflow_y": null,
            "padding": null,
            "right": null,
            "top": null,
            "visibility": null,
            "width": null
          }
        },
        "a3bd6e9797404438b2cc22b9873218fa": {
          "model_module": "@jupyter-widgets/base",
          "model_name": "LayoutModel",
          "model_module_version": "1.2.0",
          "state": {
            "_model_module": "@jupyter-widgets/base",
            "_model_module_version": "1.2.0",
            "_model_name": "LayoutModel",
            "_view_count": null,
            "_view_module": "@jupyter-widgets/base",
            "_view_module_version": "1.2.0",
            "_view_name": "LayoutView",
            "align_content": null,
            "align_items": null,
            "align_self": null,
            "border": null,
            "bottom": null,
            "display": null,
            "flex": null,
            "flex_flow": null,
            "grid_area": null,
            "grid_auto_columns": null,
            "grid_auto_flow": null,
            "grid_auto_rows": null,
            "grid_column": null,
            "grid_gap": null,
            "grid_row": null,
            "grid_template_areas": null,
            "grid_template_columns": null,
            "grid_template_rows": null,
            "height": null,
            "justify_content": null,
            "justify_items": null,
            "left": null,
            "margin": null,
            "max_height": null,
            "max_width": null,
            "min_height": null,
            "min_width": null,
            "object_fit": null,
            "object_position": null,
            "order": null,
            "overflow": null,
            "overflow_x": null,
            "overflow_y": null,
            "padding": null,
            "right": null,
            "top": null,
            "visibility": null,
            "width": null
          }
        },
        "1029ae8eaf2348ca8254d870529d7cdd": {
          "model_module": "@jupyter-widgets/controls",
          "model_name": "DescriptionStyleModel",
          "model_module_version": "1.5.0",
          "state": {
            "_model_module": "@jupyter-widgets/controls",
            "_model_module_version": "1.5.0",
            "_model_name": "DescriptionStyleModel",
            "_view_count": null,
            "_view_module": "@jupyter-widgets/base",
            "_view_module_version": "1.2.0",
            "_view_name": "StyleView",
            "description_width": ""
          }
        },
        "74d90cba621c4075a473f6732038f2a6": {
          "model_module": "@jupyter-widgets/base",
          "model_name": "LayoutModel",
          "model_module_version": "1.2.0",
          "state": {
            "_model_module": "@jupyter-widgets/base",
            "_model_module_version": "1.2.0",
            "_model_name": "LayoutModel",
            "_view_count": null,
            "_view_module": "@jupyter-widgets/base",
            "_view_module_version": "1.2.0",
            "_view_name": "LayoutView",
            "align_content": null,
            "align_items": null,
            "align_self": null,
            "border": null,
            "bottom": null,
            "display": null,
            "flex": null,
            "flex_flow": null,
            "grid_area": null,
            "grid_auto_columns": null,
            "grid_auto_flow": null,
            "grid_auto_rows": null,
            "grid_column": null,
            "grid_gap": null,
            "grid_row": null,
            "grid_template_areas": null,
            "grid_template_columns": null,
            "grid_template_rows": null,
            "height": null,
            "justify_content": null,
            "justify_items": null,
            "left": null,
            "margin": null,
            "max_height": null,
            "max_width": null,
            "min_height": null,
            "min_width": null,
            "object_fit": null,
            "object_position": null,
            "order": null,
            "overflow": null,
            "overflow_x": null,
            "overflow_y": null,
            "padding": null,
            "right": null,
            "top": null,
            "visibility": null,
            "width": "20px"
          }
        },
        "ec4e574d966142c287cb7dc12827b828": {
          "model_module": "@jupyter-widgets/controls",
          "model_name": "ProgressStyleModel",
          "model_module_version": "1.5.0",
          "state": {
            "_model_module": "@jupyter-widgets/controls",
            "_model_module_version": "1.5.0",
            "_model_name": "ProgressStyleModel",
            "_view_count": null,
            "_view_module": "@jupyter-widgets/base",
            "_view_module_version": "1.2.0",
            "_view_name": "StyleView",
            "bar_color": null,
            "description_width": ""
          }
        },
        "6fa175360b0c4a65bae72237ab1e7750": {
          "model_module": "@jupyter-widgets/base",
          "model_name": "LayoutModel",
          "model_module_version": "1.2.0",
          "state": {
            "_model_module": "@jupyter-widgets/base",
            "_model_module_version": "1.2.0",
            "_model_name": "LayoutModel",
            "_view_count": null,
            "_view_module": "@jupyter-widgets/base",
            "_view_module_version": "1.2.0",
            "_view_name": "LayoutView",
            "align_content": null,
            "align_items": null,
            "align_self": null,
            "border": null,
            "bottom": null,
            "display": null,
            "flex": null,
            "flex_flow": null,
            "grid_area": null,
            "grid_auto_columns": null,
            "grid_auto_flow": null,
            "grid_auto_rows": null,
            "grid_column": null,
            "grid_gap": null,
            "grid_row": null,
            "grid_template_areas": null,
            "grid_template_columns": null,
            "grid_template_rows": null,
            "height": null,
            "justify_content": null,
            "justify_items": null,
            "left": null,
            "margin": null,
            "max_height": null,
            "max_width": null,
            "min_height": null,
            "min_width": null,
            "object_fit": null,
            "object_position": null,
            "order": null,
            "overflow": null,
            "overflow_x": null,
            "overflow_y": null,
            "padding": null,
            "right": null,
            "top": null,
            "visibility": null,
            "width": null
          }
        },
        "479dadabbd4d44d383c5a02062d73557": {
          "model_module": "@jupyter-widgets/controls",
          "model_name": "DescriptionStyleModel",
          "model_module_version": "1.5.0",
          "state": {
            "_model_module": "@jupyter-widgets/controls",
            "_model_module_version": "1.5.0",
            "_model_name": "DescriptionStyleModel",
            "_view_count": null,
            "_view_module": "@jupyter-widgets/base",
            "_view_module_version": "1.2.0",
            "_view_name": "StyleView",
            "description_width": ""
          }
        },
        "cc5919ed0be044198714bc4b13680a7c": {
          "model_module": "@jupyter-widgets/controls",
          "model_name": "VBoxModel",
          "model_module_version": "1.5.0",
          "state": {
            "_dom_classes": [],
            "_model_module": "@jupyter-widgets/controls",
            "_model_module_version": "1.5.0",
            "_model_name": "VBoxModel",
            "_view_count": null,
            "_view_module": "@jupyter-widgets/controls",
            "_view_module_version": "1.5.0",
            "_view_name": "VBoxView",
            "box_style": "",
            "children": [
              "IPY_MODEL_afa5ba9dddbd491cac3938bd56d92a31",
              "IPY_MODEL_e2c4e57fd6af451aa8c7fae5e16d2c5d",
              "IPY_MODEL_81fe52950e33465f91b94b2baca5c8b7",
              "IPY_MODEL_dcc401555e854647b6824f4dc6a32d49",
              "IPY_MODEL_a558ca46c3dc4829bec23d621bb0b906"
            ],
            "layout": "IPY_MODEL_2dd458b8d68b468780105ee2911e4e13"
          }
        },
        "afa5ba9dddbd491cac3938bd56d92a31": {
          "model_module": "@jupyter-widgets/controls",
          "model_name": "HTMLModel",
          "model_module_version": "1.5.0",
          "state": {
            "_dom_classes": [],
            "_model_module": "@jupyter-widgets/controls",
            "_model_module_version": "1.5.0",
            "_model_name": "HTMLModel",
            "_view_count": null,
            "_view_module": "@jupyter-widgets/controls",
            "_view_module_version": "1.5.0",
            "_view_name": "HTMLView",
            "description": "",
            "description_tooltip": null,
            "layout": "IPY_MODEL_f104586396724bcb8fdd8fc8a2922b78",
            "placeholder": "​",
            "style": "IPY_MODEL_01d74a97cc624612bec7908fa6e4278a",
            "value": "<center> <img\nsrc=https://huggingface.co/front/assets/huggingface_logo-noborder.svg\nalt='Hugging Face'> <br> Copy a token from <a\nhref=\"https://huggingface.co/settings/tokens\" target=\"_blank\">your Hugging Face\ntokens page</a> and paste it below. <br> Immediately click login after copying\nyour token or it might be stored in plain text in this notebook file. </center>"
          }
        },
        "e2c4e57fd6af451aa8c7fae5e16d2c5d": {
          "model_module": "@jupyter-widgets/controls",
          "model_name": "PasswordModel",
          "model_module_version": "1.5.0",
          "state": {
            "_dom_classes": [],
            "_model_module": "@jupyter-widgets/controls",
            "_model_module_version": "1.5.0",
            "_model_name": "PasswordModel",
            "_view_count": null,
            "_view_module": "@jupyter-widgets/controls",
            "_view_module_version": "1.5.0",
            "_view_name": "PasswordView",
            "continuous_update": true,
            "description": "Token:",
            "description_tooltip": null,
            "disabled": false,
            "layout": "IPY_MODEL_c88bba5841aa4715bf215be287fce3a5",
            "placeholder": "​",
            "style": "IPY_MODEL_131bbf1f04c646f4907e41a13777873a",
            "value": ""
          }
        },
        "81fe52950e33465f91b94b2baca5c8b7": {
          "model_module": "@jupyter-widgets/controls",
          "model_name": "CheckboxModel",
          "model_module_version": "1.5.0",
          "state": {
            "_dom_classes": [],
            "_model_module": "@jupyter-widgets/controls",
            "_model_module_version": "1.5.0",
            "_model_name": "CheckboxModel",
            "_view_count": null,
            "_view_module": "@jupyter-widgets/controls",
            "_view_module_version": "1.5.0",
            "_view_name": "CheckboxView",
            "description": "Add token as git credential?",
            "description_tooltip": null,
            "disabled": false,
            "indent": true,
            "layout": "IPY_MODEL_1f72ecccba3c40fd9542766889dc5c1b",
            "style": "IPY_MODEL_9131086c1c984352a26a28e0e8f30451",
            "value": true
          }
        },
        "dcc401555e854647b6824f4dc6a32d49": {
          "model_module": "@jupyter-widgets/controls",
          "model_name": "ButtonModel",
          "model_module_version": "1.5.0",
          "state": {
            "_dom_classes": [],
            "_model_module": "@jupyter-widgets/controls",
            "_model_module_version": "1.5.0",
            "_model_name": "ButtonModel",
            "_view_count": null,
            "_view_module": "@jupyter-widgets/controls",
            "_view_module_version": "1.5.0",
            "_view_name": "ButtonView",
            "button_style": "",
            "description": "Login",
            "disabled": false,
            "icon": "",
            "layout": "IPY_MODEL_2103b167b3f44d3cbfe24a648eb27727",
            "style": "IPY_MODEL_67c33022471c414d9d0d014bcc8b4306",
            "tooltip": ""
          }
        },
        "a558ca46c3dc4829bec23d621bb0b906": {
          "model_module": "@jupyter-widgets/controls",
          "model_name": "HTMLModel",
          "model_module_version": "1.5.0",
          "state": {
            "_dom_classes": [],
            "_model_module": "@jupyter-widgets/controls",
            "_model_module_version": "1.5.0",
            "_model_name": "HTMLModel",
            "_view_count": null,
            "_view_module": "@jupyter-widgets/controls",
            "_view_module_version": "1.5.0",
            "_view_name": "HTMLView",
            "description": "",
            "description_tooltip": null,
            "layout": "IPY_MODEL_a50dfa20dc7e4610ace2675bfed350c3",
            "placeholder": "​",
            "style": "IPY_MODEL_cdd9204d59df4adbb75a0408987247b2",
            "value": "\n<b>Pro Tip:</b> If you don't already have one, you can create a dedicated\n'notebooks' token with 'write' access, that you can then easily reuse for all\nnotebooks. </center>"
          }
        },
        "2dd458b8d68b468780105ee2911e4e13": {
          "model_module": "@jupyter-widgets/base",
          "model_name": "LayoutModel",
          "model_module_version": "1.2.0",
          "state": {
            "_model_module": "@jupyter-widgets/base",
            "_model_module_version": "1.2.0",
            "_model_name": "LayoutModel",
            "_view_count": null,
            "_view_module": "@jupyter-widgets/base",
            "_view_module_version": "1.2.0",
            "_view_name": "LayoutView",
            "align_content": null,
            "align_items": "center",
            "align_self": null,
            "border": null,
            "bottom": null,
            "display": "flex",
            "flex": null,
            "flex_flow": "column",
            "grid_area": null,
            "grid_auto_columns": null,
            "grid_auto_flow": null,
            "grid_auto_rows": null,
            "grid_column": null,
            "grid_gap": null,
            "grid_row": null,
            "grid_template_areas": null,
            "grid_template_columns": null,
            "grid_template_rows": null,
            "height": null,
            "justify_content": null,
            "justify_items": null,
            "left": null,
            "margin": null,
            "max_height": null,
            "max_width": null,
            "min_height": null,
            "min_width": null,
            "object_fit": null,
            "object_position": null,
            "order": null,
            "overflow": null,
            "overflow_x": null,
            "overflow_y": null,
            "padding": null,
            "right": null,
            "top": null,
            "visibility": null,
            "width": "50%"
          }
        },
        "f104586396724bcb8fdd8fc8a2922b78": {
          "model_module": "@jupyter-widgets/base",
          "model_name": "LayoutModel",
          "model_module_version": "1.2.0",
          "state": {
            "_model_module": "@jupyter-widgets/base",
            "_model_module_version": "1.2.0",
            "_model_name": "LayoutModel",
            "_view_count": null,
            "_view_module": "@jupyter-widgets/base",
            "_view_module_version": "1.2.0",
            "_view_name": "LayoutView",
            "align_content": null,
            "align_items": null,
            "align_self": null,
            "border": null,
            "bottom": null,
            "display": null,
            "flex": null,
            "flex_flow": null,
            "grid_area": null,
            "grid_auto_columns": null,
            "grid_auto_flow": null,
            "grid_auto_rows": null,
            "grid_column": null,
            "grid_gap": null,
            "grid_row": null,
            "grid_template_areas": null,
            "grid_template_columns": null,
            "grid_template_rows": null,
            "height": null,
            "justify_content": null,
            "justify_items": null,
            "left": null,
            "margin": null,
            "max_height": null,
            "max_width": null,
            "min_height": null,
            "min_width": null,
            "object_fit": null,
            "object_position": null,
            "order": null,
            "overflow": null,
            "overflow_x": null,
            "overflow_y": null,
            "padding": null,
            "right": null,
            "top": null,
            "visibility": null,
            "width": null
          }
        },
        "01d74a97cc624612bec7908fa6e4278a": {
          "model_module": "@jupyter-widgets/controls",
          "model_name": "DescriptionStyleModel",
          "model_module_version": "1.5.0",
          "state": {
            "_model_module": "@jupyter-widgets/controls",
            "_model_module_version": "1.5.0",
            "_model_name": "DescriptionStyleModel",
            "_view_count": null,
            "_view_module": "@jupyter-widgets/base",
            "_view_module_version": "1.2.0",
            "_view_name": "StyleView",
            "description_width": ""
          }
        },
        "c88bba5841aa4715bf215be287fce3a5": {
          "model_module": "@jupyter-widgets/base",
          "model_name": "LayoutModel",
          "model_module_version": "1.2.0",
          "state": {
            "_model_module": "@jupyter-widgets/base",
            "_model_module_version": "1.2.0",
            "_model_name": "LayoutModel",
            "_view_count": null,
            "_view_module": "@jupyter-widgets/base",
            "_view_module_version": "1.2.0",
            "_view_name": "LayoutView",
            "align_content": null,
            "align_items": null,
            "align_self": null,
            "border": null,
            "bottom": null,
            "display": null,
            "flex": null,
            "flex_flow": null,
            "grid_area": null,
            "grid_auto_columns": null,
            "grid_auto_flow": null,
            "grid_auto_rows": null,
            "grid_column": null,
            "grid_gap": null,
            "grid_row": null,
            "grid_template_areas": null,
            "grid_template_columns": null,
            "grid_template_rows": null,
            "height": null,
            "justify_content": null,
            "justify_items": null,
            "left": null,
            "margin": null,
            "max_height": null,
            "max_width": null,
            "min_height": null,
            "min_width": null,
            "object_fit": null,
            "object_position": null,
            "order": null,
            "overflow": null,
            "overflow_x": null,
            "overflow_y": null,
            "padding": null,
            "right": null,
            "top": null,
            "visibility": null,
            "width": null
          }
        },
        "131bbf1f04c646f4907e41a13777873a": {
          "model_module": "@jupyter-widgets/controls",
          "model_name": "DescriptionStyleModel",
          "model_module_version": "1.5.0",
          "state": {
            "_model_module": "@jupyter-widgets/controls",
            "_model_module_version": "1.5.0",
            "_model_name": "DescriptionStyleModel",
            "_view_count": null,
            "_view_module": "@jupyter-widgets/base",
            "_view_module_version": "1.2.0",
            "_view_name": "StyleView",
            "description_width": ""
          }
        },
        "1f72ecccba3c40fd9542766889dc5c1b": {
          "model_module": "@jupyter-widgets/base",
          "model_name": "LayoutModel",
          "model_module_version": "1.2.0",
          "state": {
            "_model_module": "@jupyter-widgets/base",
            "_model_module_version": "1.2.0",
            "_model_name": "LayoutModel",
            "_view_count": null,
            "_view_module": "@jupyter-widgets/base",
            "_view_module_version": "1.2.0",
            "_view_name": "LayoutView",
            "align_content": null,
            "align_items": null,
            "align_self": null,
            "border": null,
            "bottom": null,
            "display": null,
            "flex": null,
            "flex_flow": null,
            "grid_area": null,
            "grid_auto_columns": null,
            "grid_auto_flow": null,
            "grid_auto_rows": null,
            "grid_column": null,
            "grid_gap": null,
            "grid_row": null,
            "grid_template_areas": null,
            "grid_template_columns": null,
            "grid_template_rows": null,
            "height": null,
            "justify_content": null,
            "justify_items": null,
            "left": null,
            "margin": null,
            "max_height": null,
            "max_width": null,
            "min_height": null,
            "min_width": null,
            "object_fit": null,
            "object_position": null,
            "order": null,
            "overflow": null,
            "overflow_x": null,
            "overflow_y": null,
            "padding": null,
            "right": null,
            "top": null,
            "visibility": null,
            "width": null
          }
        },
        "9131086c1c984352a26a28e0e8f30451": {
          "model_module": "@jupyter-widgets/controls",
          "model_name": "DescriptionStyleModel",
          "model_module_version": "1.5.0",
          "state": {
            "_model_module": "@jupyter-widgets/controls",
            "_model_module_version": "1.5.0",
            "_model_name": "DescriptionStyleModel",
            "_view_count": null,
            "_view_module": "@jupyter-widgets/base",
            "_view_module_version": "1.2.0",
            "_view_name": "StyleView",
            "description_width": ""
          }
        },
        "2103b167b3f44d3cbfe24a648eb27727": {
          "model_module": "@jupyter-widgets/base",
          "model_name": "LayoutModel",
          "model_module_version": "1.2.0",
          "state": {
            "_model_module": "@jupyter-widgets/base",
            "_model_module_version": "1.2.0",
            "_model_name": "LayoutModel",
            "_view_count": null,
            "_view_module": "@jupyter-widgets/base",
            "_view_module_version": "1.2.0",
            "_view_name": "LayoutView",
            "align_content": null,
            "align_items": null,
            "align_self": null,
            "border": null,
            "bottom": null,
            "display": null,
            "flex": null,
            "flex_flow": null,
            "grid_area": null,
            "grid_auto_columns": null,
            "grid_auto_flow": null,
            "grid_auto_rows": null,
            "grid_column": null,
            "grid_gap": null,
            "grid_row": null,
            "grid_template_areas": null,
            "grid_template_columns": null,
            "grid_template_rows": null,
            "height": null,
            "justify_content": null,
            "justify_items": null,
            "left": null,
            "margin": null,
            "max_height": null,
            "max_width": null,
            "min_height": null,
            "min_width": null,
            "object_fit": null,
            "object_position": null,
            "order": null,
            "overflow": null,
            "overflow_x": null,
            "overflow_y": null,
            "padding": null,
            "right": null,
            "top": null,
            "visibility": null,
            "width": null
          }
        },
        "67c33022471c414d9d0d014bcc8b4306": {
          "model_module": "@jupyter-widgets/controls",
          "model_name": "ButtonStyleModel",
          "model_module_version": "1.5.0",
          "state": {
            "_model_module": "@jupyter-widgets/controls",
            "_model_module_version": "1.5.0",
            "_model_name": "ButtonStyleModel",
            "_view_count": null,
            "_view_module": "@jupyter-widgets/base",
            "_view_module_version": "1.2.0",
            "_view_name": "StyleView",
            "button_color": null,
            "font_weight": ""
          }
        },
        "a50dfa20dc7e4610ace2675bfed350c3": {
          "model_module": "@jupyter-widgets/base",
          "model_name": "LayoutModel",
          "model_module_version": "1.2.0",
          "state": {
            "_model_module": "@jupyter-widgets/base",
            "_model_module_version": "1.2.0",
            "_model_name": "LayoutModel",
            "_view_count": null,
            "_view_module": "@jupyter-widgets/base",
            "_view_module_version": "1.2.0",
            "_view_name": "LayoutView",
            "align_content": null,
            "align_items": null,
            "align_self": null,
            "border": null,
            "bottom": null,
            "display": null,
            "flex": null,
            "flex_flow": null,
            "grid_area": null,
            "grid_auto_columns": null,
            "grid_auto_flow": null,
            "grid_auto_rows": null,
            "grid_column": null,
            "grid_gap": null,
            "grid_row": null,
            "grid_template_areas": null,
            "grid_template_columns": null,
            "grid_template_rows": null,
            "height": null,
            "justify_content": null,
            "justify_items": null,
            "left": null,
            "margin": null,
            "max_height": null,
            "max_width": null,
            "min_height": null,
            "min_width": null,
            "object_fit": null,
            "object_position": null,
            "order": null,
            "overflow": null,
            "overflow_x": null,
            "overflow_y": null,
            "padding": null,
            "right": null,
            "top": null,
            "visibility": null,
            "width": null
          }
        },
        "cdd9204d59df4adbb75a0408987247b2": {
          "model_module": "@jupyter-widgets/controls",
          "model_name": "DescriptionStyleModel",
          "model_module_version": "1.5.0",
          "state": {
            "_model_module": "@jupyter-widgets/controls",
            "_model_module_version": "1.5.0",
            "_model_name": "DescriptionStyleModel",
            "_view_count": null,
            "_view_module": "@jupyter-widgets/base",
            "_view_module_version": "1.2.0",
            "_view_name": "StyleView",
            "description_width": ""
          }
        },
        "5cfdee8fd96a4070931ceb851b74d24a": {
          "model_module": "@jupyter-widgets/controls",
          "model_name": "HBoxModel",
          "model_module_version": "1.5.0",
          "state": {
            "_dom_classes": [],
            "_model_module": "@jupyter-widgets/controls",
            "_model_module_version": "1.5.0",
            "_model_name": "HBoxModel",
            "_view_count": null,
            "_view_module": "@jupyter-widgets/controls",
            "_view_module_version": "1.5.0",
            "_view_name": "HBoxView",
            "box_style": "",
            "children": [
              "IPY_MODEL_0384e37292d7450486fadccd1bd30e4d",
              "IPY_MODEL_3764b84238be4a8c92305e1cf8cae2c2",
              "IPY_MODEL_6d36dfb358ea41e0a6e52f1d5e75c173"
            ],
            "layout": "IPY_MODEL_aab9d42c3be74436959a9f0d1ca23755"
          }
        },
        "0384e37292d7450486fadccd1bd30e4d": {
          "model_module": "@jupyter-widgets/controls",
          "model_name": "HTMLModel",
          "model_module_version": "1.5.0",
          "state": {
            "_dom_classes": [],
            "_model_module": "@jupyter-widgets/controls",
            "_model_module_version": "1.5.0",
            "_model_name": "HTMLModel",
            "_view_count": null,
            "_view_module": "@jupyter-widgets/controls",
            "_view_module_version": "1.5.0",
            "_view_name": "HTMLView",
            "description": "",
            "description_tooltip": null,
            "layout": "IPY_MODEL_c557a51479cb4b16baf0144ad9961de6",
            "placeholder": "​",
            "style": "IPY_MODEL_654e1d9d0e364f1792f9d153dd60f5b2",
            "value": "Map: 100%"
          }
        },
        "3764b84238be4a8c92305e1cf8cae2c2": {
          "model_module": "@jupyter-widgets/controls",
          "model_name": "FloatProgressModel",
          "model_module_version": "1.5.0",
          "state": {
            "_dom_classes": [],
            "_model_module": "@jupyter-widgets/controls",
            "_model_module_version": "1.5.0",
            "_model_name": "FloatProgressModel",
            "_view_count": null,
            "_view_module": "@jupyter-widgets/controls",
            "_view_module_version": "1.5.0",
            "_view_name": "ProgressView",
            "bar_style": "success",
            "description": "",
            "description_tooltip": null,
            "layout": "IPY_MODEL_5e2fe8fd990e47058369d57341058369",
            "max": 101668,
            "min": 0,
            "orientation": "horizontal",
            "style": "IPY_MODEL_66f61deee8bc4c7c9bf82b8263c41f57",
            "value": 101668
          }
        },
        "6d36dfb358ea41e0a6e52f1d5e75c173": {
          "model_module": "@jupyter-widgets/controls",
          "model_name": "HTMLModel",
          "model_module_version": "1.5.0",
          "state": {
            "_dom_classes": [],
            "_model_module": "@jupyter-widgets/controls",
            "_model_module_version": "1.5.0",
            "_model_name": "HTMLModel",
            "_view_count": null,
            "_view_module": "@jupyter-widgets/controls",
            "_view_module_version": "1.5.0",
            "_view_name": "HTMLView",
            "description": "",
            "description_tooltip": null,
            "layout": "IPY_MODEL_45a20652b07d4a9fb8127947aceea792",
            "placeholder": "​",
            "style": "IPY_MODEL_21eeed75aa98478c96b4bf5248843875",
            "value": " 101668/101668 [00:59&lt;00:00, 1829.48 examples/s]"
          }
        },
        "aab9d42c3be74436959a9f0d1ca23755": {
          "model_module": "@jupyter-widgets/base",
          "model_name": "LayoutModel",
          "model_module_version": "1.2.0",
          "state": {
            "_model_module": "@jupyter-widgets/base",
            "_model_module_version": "1.2.0",
            "_model_name": "LayoutModel",
            "_view_count": null,
            "_view_module": "@jupyter-widgets/base",
            "_view_module_version": "1.2.0",
            "_view_name": "LayoutView",
            "align_content": null,
            "align_items": null,
            "align_self": null,
            "border": null,
            "bottom": null,
            "display": null,
            "flex": null,
            "flex_flow": null,
            "grid_area": null,
            "grid_auto_columns": null,
            "grid_auto_flow": null,
            "grid_auto_rows": null,
            "grid_column": null,
            "grid_gap": null,
            "grid_row": null,
            "grid_template_areas": null,
            "grid_template_columns": null,
            "grid_template_rows": null,
            "height": null,
            "justify_content": null,
            "justify_items": null,
            "left": null,
            "margin": null,
            "max_height": null,
            "max_width": null,
            "min_height": null,
            "min_width": null,
            "object_fit": null,
            "object_position": null,
            "order": null,
            "overflow": null,
            "overflow_x": null,
            "overflow_y": null,
            "padding": null,
            "right": null,
            "top": null,
            "visibility": null,
            "width": null
          }
        },
        "c557a51479cb4b16baf0144ad9961de6": {
          "model_module": "@jupyter-widgets/base",
          "model_name": "LayoutModel",
          "model_module_version": "1.2.0",
          "state": {
            "_model_module": "@jupyter-widgets/base",
            "_model_module_version": "1.2.0",
            "_model_name": "LayoutModel",
            "_view_count": null,
            "_view_module": "@jupyter-widgets/base",
            "_view_module_version": "1.2.0",
            "_view_name": "LayoutView",
            "align_content": null,
            "align_items": null,
            "align_self": null,
            "border": null,
            "bottom": null,
            "display": null,
            "flex": null,
            "flex_flow": null,
            "grid_area": null,
            "grid_auto_columns": null,
            "grid_auto_flow": null,
            "grid_auto_rows": null,
            "grid_column": null,
            "grid_gap": null,
            "grid_row": null,
            "grid_template_areas": null,
            "grid_template_columns": null,
            "grid_template_rows": null,
            "height": null,
            "justify_content": null,
            "justify_items": null,
            "left": null,
            "margin": null,
            "max_height": null,
            "max_width": null,
            "min_height": null,
            "min_width": null,
            "object_fit": null,
            "object_position": null,
            "order": null,
            "overflow": null,
            "overflow_x": null,
            "overflow_y": null,
            "padding": null,
            "right": null,
            "top": null,
            "visibility": null,
            "width": null
          }
        },
        "654e1d9d0e364f1792f9d153dd60f5b2": {
          "model_module": "@jupyter-widgets/controls",
          "model_name": "DescriptionStyleModel",
          "model_module_version": "1.5.0",
          "state": {
            "_model_module": "@jupyter-widgets/controls",
            "_model_module_version": "1.5.0",
            "_model_name": "DescriptionStyleModel",
            "_view_count": null,
            "_view_module": "@jupyter-widgets/base",
            "_view_module_version": "1.2.0",
            "_view_name": "StyleView",
            "description_width": ""
          }
        },
        "5e2fe8fd990e47058369d57341058369": {
          "model_module": "@jupyter-widgets/base",
          "model_name": "LayoutModel",
          "model_module_version": "1.2.0",
          "state": {
            "_model_module": "@jupyter-widgets/base",
            "_model_module_version": "1.2.0",
            "_model_name": "LayoutModel",
            "_view_count": null,
            "_view_module": "@jupyter-widgets/base",
            "_view_module_version": "1.2.0",
            "_view_name": "LayoutView",
            "align_content": null,
            "align_items": null,
            "align_self": null,
            "border": null,
            "bottom": null,
            "display": null,
            "flex": null,
            "flex_flow": null,
            "grid_area": null,
            "grid_auto_columns": null,
            "grid_auto_flow": null,
            "grid_auto_rows": null,
            "grid_column": null,
            "grid_gap": null,
            "grid_row": null,
            "grid_template_areas": null,
            "grid_template_columns": null,
            "grid_template_rows": null,
            "height": null,
            "justify_content": null,
            "justify_items": null,
            "left": null,
            "margin": null,
            "max_height": null,
            "max_width": null,
            "min_height": null,
            "min_width": null,
            "object_fit": null,
            "object_position": null,
            "order": null,
            "overflow": null,
            "overflow_x": null,
            "overflow_y": null,
            "padding": null,
            "right": null,
            "top": null,
            "visibility": null,
            "width": null
          }
        },
        "66f61deee8bc4c7c9bf82b8263c41f57": {
          "model_module": "@jupyter-widgets/controls",
          "model_name": "ProgressStyleModel",
          "model_module_version": "1.5.0",
          "state": {
            "_model_module": "@jupyter-widgets/controls",
            "_model_module_version": "1.5.0",
            "_model_name": "ProgressStyleModel",
            "_view_count": null,
            "_view_module": "@jupyter-widgets/base",
            "_view_module_version": "1.2.0",
            "_view_name": "StyleView",
            "bar_color": null,
            "description_width": ""
          }
        },
        "45a20652b07d4a9fb8127947aceea792": {
          "model_module": "@jupyter-widgets/base",
          "model_name": "LayoutModel",
          "model_module_version": "1.2.0",
          "state": {
            "_model_module": "@jupyter-widgets/base",
            "_model_module_version": "1.2.0",
            "_model_name": "LayoutModel",
            "_view_count": null,
            "_view_module": "@jupyter-widgets/base",
            "_view_module_version": "1.2.0",
            "_view_name": "LayoutView",
            "align_content": null,
            "align_items": null,
            "align_self": null,
            "border": null,
            "bottom": null,
            "display": null,
            "flex": null,
            "flex_flow": null,
            "grid_area": null,
            "grid_auto_columns": null,
            "grid_auto_flow": null,
            "grid_auto_rows": null,
            "grid_column": null,
            "grid_gap": null,
            "grid_row": null,
            "grid_template_areas": null,
            "grid_template_columns": null,
            "grid_template_rows": null,
            "height": null,
            "justify_content": null,
            "justify_items": null,
            "left": null,
            "margin": null,
            "max_height": null,
            "max_width": null,
            "min_height": null,
            "min_width": null,
            "object_fit": null,
            "object_position": null,
            "order": null,
            "overflow": null,
            "overflow_x": null,
            "overflow_y": null,
            "padding": null,
            "right": null,
            "top": null,
            "visibility": null,
            "width": null
          }
        },
        "21eeed75aa98478c96b4bf5248843875": {
          "model_module": "@jupyter-widgets/controls",
          "model_name": "DescriptionStyleModel",
          "model_module_version": "1.5.0",
          "state": {
            "_model_module": "@jupyter-widgets/controls",
            "_model_module_version": "1.5.0",
            "_model_name": "DescriptionStyleModel",
            "_view_count": null,
            "_view_module": "@jupyter-widgets/base",
            "_view_module_version": "1.2.0",
            "_view_name": "StyleView",
            "description_width": ""
          }
        },
        "5b971f657a8b4ae1bad42371be77d371": {
          "model_module": "@jupyter-widgets/controls",
          "model_name": "HBoxModel",
          "model_module_version": "1.5.0",
          "state": {
            "_dom_classes": [],
            "_model_module": "@jupyter-widgets/controls",
            "_model_module_version": "1.5.0",
            "_model_name": "HBoxModel",
            "_view_count": null,
            "_view_module": "@jupyter-widgets/controls",
            "_view_module_version": "1.5.0",
            "_view_name": "HBoxView",
            "box_style": "",
            "children": [
              "IPY_MODEL_5ea1518c2c08432e93710d6b8a2647d3",
              "IPY_MODEL_b6b524d4c61a4533a3e0dab9c28667bf",
              "IPY_MODEL_ee3d3502f1cc43e6828db0e374e7a575"
            ],
            "layout": "IPY_MODEL_5df2e7cc966e4c71b3e255c1c57aeabf"
          }
        },
        "5ea1518c2c08432e93710d6b8a2647d3": {
          "model_module": "@jupyter-widgets/controls",
          "model_name": "HTMLModel",
          "model_module_version": "1.5.0",
          "state": {
            "_dom_classes": [],
            "_model_module": "@jupyter-widgets/controls",
            "_model_module_version": "1.5.0",
            "_model_name": "HTMLModel",
            "_view_count": null,
            "_view_module": "@jupyter-widgets/controls",
            "_view_module_version": "1.5.0",
            "_view_name": "HTMLView",
            "description": "",
            "description_tooltip": null,
            "layout": "IPY_MODEL_5711d4f52513434ca3037d2b69006541",
            "placeholder": "​",
            "style": "IPY_MODEL_7f9e37807e694738b8942e56f10e593e",
            "value": "Map: 100%"
          }
        },
        "b6b524d4c61a4533a3e0dab9c28667bf": {
          "model_module": "@jupyter-widgets/controls",
          "model_name": "FloatProgressModel",
          "model_module_version": "1.5.0",
          "state": {
            "_dom_classes": [],
            "_model_module": "@jupyter-widgets/controls",
            "_model_module_version": "1.5.0",
            "_model_name": "FloatProgressModel",
            "_view_count": null,
            "_view_module": "@jupyter-widgets/controls",
            "_view_module_version": "1.5.0",
            "_view_name": "ProgressView",
            "bar_style": "success",
            "description": "",
            "description_tooltip": null,
            "layout": "IPY_MODEL_6ef7b26910534363aa92c1f808b0e022",
            "max": 25417,
            "min": 0,
            "orientation": "horizontal",
            "style": "IPY_MODEL_0d68b102fdae4fb8a837b023127ab6a9",
            "value": 25417
          }
        },
        "ee3d3502f1cc43e6828db0e374e7a575": {
          "model_module": "@jupyter-widgets/controls",
          "model_name": "HTMLModel",
          "model_module_version": "1.5.0",
          "state": {
            "_dom_classes": [],
            "_model_module": "@jupyter-widgets/controls",
            "_model_module_version": "1.5.0",
            "_model_name": "HTMLModel",
            "_view_count": null,
            "_view_module": "@jupyter-widgets/controls",
            "_view_module_version": "1.5.0",
            "_view_name": "HTMLView",
            "description": "",
            "description_tooltip": null,
            "layout": "IPY_MODEL_b18b510eeaf24828ac736f8f0e7eef73",
            "placeholder": "​",
            "style": "IPY_MODEL_20514ab08c3a458694cd132330f3d72c",
            "value": " 25417/25417 [00:14&lt;00:00, 1871.50 examples/s]"
          }
        },
        "5df2e7cc966e4c71b3e255c1c57aeabf": {
          "model_module": "@jupyter-widgets/base",
          "model_name": "LayoutModel",
          "model_module_version": "1.2.0",
          "state": {
            "_model_module": "@jupyter-widgets/base",
            "_model_module_version": "1.2.0",
            "_model_name": "LayoutModel",
            "_view_count": null,
            "_view_module": "@jupyter-widgets/base",
            "_view_module_version": "1.2.0",
            "_view_name": "LayoutView",
            "align_content": null,
            "align_items": null,
            "align_self": null,
            "border": null,
            "bottom": null,
            "display": null,
            "flex": null,
            "flex_flow": null,
            "grid_area": null,
            "grid_auto_columns": null,
            "grid_auto_flow": null,
            "grid_auto_rows": null,
            "grid_column": null,
            "grid_gap": null,
            "grid_row": null,
            "grid_template_areas": null,
            "grid_template_columns": null,
            "grid_template_rows": null,
            "height": null,
            "justify_content": null,
            "justify_items": null,
            "left": null,
            "margin": null,
            "max_height": null,
            "max_width": null,
            "min_height": null,
            "min_width": null,
            "object_fit": null,
            "object_position": null,
            "order": null,
            "overflow": null,
            "overflow_x": null,
            "overflow_y": null,
            "padding": null,
            "right": null,
            "top": null,
            "visibility": null,
            "width": null
          }
        },
        "5711d4f52513434ca3037d2b69006541": {
          "model_module": "@jupyter-widgets/base",
          "model_name": "LayoutModel",
          "model_module_version": "1.2.0",
          "state": {
            "_model_module": "@jupyter-widgets/base",
            "_model_module_version": "1.2.0",
            "_model_name": "LayoutModel",
            "_view_count": null,
            "_view_module": "@jupyter-widgets/base",
            "_view_module_version": "1.2.0",
            "_view_name": "LayoutView",
            "align_content": null,
            "align_items": null,
            "align_self": null,
            "border": null,
            "bottom": null,
            "display": null,
            "flex": null,
            "flex_flow": null,
            "grid_area": null,
            "grid_auto_columns": null,
            "grid_auto_flow": null,
            "grid_auto_rows": null,
            "grid_column": null,
            "grid_gap": null,
            "grid_row": null,
            "grid_template_areas": null,
            "grid_template_columns": null,
            "grid_template_rows": null,
            "height": null,
            "justify_content": null,
            "justify_items": null,
            "left": null,
            "margin": null,
            "max_height": null,
            "max_width": null,
            "min_height": null,
            "min_width": null,
            "object_fit": null,
            "object_position": null,
            "order": null,
            "overflow": null,
            "overflow_x": null,
            "overflow_y": null,
            "padding": null,
            "right": null,
            "top": null,
            "visibility": null,
            "width": null
          }
        },
        "7f9e37807e694738b8942e56f10e593e": {
          "model_module": "@jupyter-widgets/controls",
          "model_name": "DescriptionStyleModel",
          "model_module_version": "1.5.0",
          "state": {
            "_model_module": "@jupyter-widgets/controls",
            "_model_module_version": "1.5.0",
            "_model_name": "DescriptionStyleModel",
            "_view_count": null,
            "_view_module": "@jupyter-widgets/base",
            "_view_module_version": "1.2.0",
            "_view_name": "StyleView",
            "description_width": ""
          }
        },
        "6ef7b26910534363aa92c1f808b0e022": {
          "model_module": "@jupyter-widgets/base",
          "model_name": "LayoutModel",
          "model_module_version": "1.2.0",
          "state": {
            "_model_module": "@jupyter-widgets/base",
            "_model_module_version": "1.2.0",
            "_model_name": "LayoutModel",
            "_view_count": null,
            "_view_module": "@jupyter-widgets/base",
            "_view_module_version": "1.2.0",
            "_view_name": "LayoutView",
            "align_content": null,
            "align_items": null,
            "align_self": null,
            "border": null,
            "bottom": null,
            "display": null,
            "flex": null,
            "flex_flow": null,
            "grid_area": null,
            "grid_auto_columns": null,
            "grid_auto_flow": null,
            "grid_auto_rows": null,
            "grid_column": null,
            "grid_gap": null,
            "grid_row": null,
            "grid_template_areas": null,
            "grid_template_columns": null,
            "grid_template_rows": null,
            "height": null,
            "justify_content": null,
            "justify_items": null,
            "left": null,
            "margin": null,
            "max_height": null,
            "max_width": null,
            "min_height": null,
            "min_width": null,
            "object_fit": null,
            "object_position": null,
            "order": null,
            "overflow": null,
            "overflow_x": null,
            "overflow_y": null,
            "padding": null,
            "right": null,
            "top": null,
            "visibility": null,
            "width": null
          }
        },
        "0d68b102fdae4fb8a837b023127ab6a9": {
          "model_module": "@jupyter-widgets/controls",
          "model_name": "ProgressStyleModel",
          "model_module_version": "1.5.0",
          "state": {
            "_model_module": "@jupyter-widgets/controls",
            "_model_module_version": "1.5.0",
            "_model_name": "ProgressStyleModel",
            "_view_count": null,
            "_view_module": "@jupyter-widgets/base",
            "_view_module_version": "1.2.0",
            "_view_name": "StyleView",
            "bar_color": null,
            "description_width": ""
          }
        },
        "b18b510eeaf24828ac736f8f0e7eef73": {
          "model_module": "@jupyter-widgets/base",
          "model_name": "LayoutModel",
          "model_module_version": "1.2.0",
          "state": {
            "_model_module": "@jupyter-widgets/base",
            "_model_module_version": "1.2.0",
            "_model_name": "LayoutModel",
            "_view_count": null,
            "_view_module": "@jupyter-widgets/base",
            "_view_module_version": "1.2.0",
            "_view_name": "LayoutView",
            "align_content": null,
            "align_items": null,
            "align_self": null,
            "border": null,
            "bottom": null,
            "display": null,
            "flex": null,
            "flex_flow": null,
            "grid_area": null,
            "grid_auto_columns": null,
            "grid_auto_flow": null,
            "grid_auto_rows": null,
            "grid_column": null,
            "grid_gap": null,
            "grid_row": null,
            "grid_template_areas": null,
            "grid_template_columns": null,
            "grid_template_rows": null,
            "height": null,
            "justify_content": null,
            "justify_items": null,
            "left": null,
            "margin": null,
            "max_height": null,
            "max_width": null,
            "min_height": null,
            "min_width": null,
            "object_fit": null,
            "object_position": null,
            "order": null,
            "overflow": null,
            "overflow_x": null,
            "overflow_y": null,
            "padding": null,
            "right": null,
            "top": null,
            "visibility": null,
            "width": null
          }
        },
        "20514ab08c3a458694cd132330f3d72c": {
          "model_module": "@jupyter-widgets/controls",
          "model_name": "DescriptionStyleModel",
          "model_module_version": "1.5.0",
          "state": {
            "_model_module": "@jupyter-widgets/controls",
            "_model_module_version": "1.5.0",
            "_model_name": "DescriptionStyleModel",
            "_view_count": null,
            "_view_module": "@jupyter-widgets/base",
            "_view_module_version": "1.2.0",
            "_view_name": "StyleView",
            "description_width": ""
          }
        }
      }
    }
  },
  "nbformat": 4,
  "nbformat_minor": 0
}