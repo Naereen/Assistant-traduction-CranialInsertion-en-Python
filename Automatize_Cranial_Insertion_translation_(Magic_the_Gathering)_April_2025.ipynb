{
  "cells": [
    {
      "cell_type": "markdown",
      "source": [
        "# **Let's start to automate some translation task for Magic: the Gathering translation**\n",
        "\n",
        "> *A bit of context*: every weekend, a group of passionate and cool French judges work for about 1H30 (for free), on translating the newest article on the (awesome) ✨ [**Cranial Insertion** Magic: the Gathering blog](https://www.cranial-insertion.com/), from 🇺 English to 🇫 French.\n",
        "> I want to automate this task, as much as possible!\n",
        "> *Let's work more now, to work less in the future!*\n",
        "\n",
        "Here is what I would like to obtain: an entirely automated pipeline that takes care of helping us to produce the best translation of these English-written articles covering our favorite game (Magic!), in order to help us thanks to coding and AI, and which helps us be more efficient.\n",
        "\n",
        "I'm thinking about these steps:\n",
        "1. when one of the North-American author submits their weekly article on Cranial Insertion, something should automatically trigger a script running \"on the cloud\" (a free/cheap \"Google Lambda function\" ?) or on the Cranial Insertion hosting server itself,\n",
        "2. this script should do [like I did last year](https://github.com/Naereen/Assistant-traduction-CranialInsertion-en-Python/blob/master/import-the-latest-article.ipynb), by connecting to the Cranial Insertion admin webpage and download the raw text of the newest article. Then it could be sent to the \"cloud\", into a new tab in our shared [Google doc](https://docs.google.com/), named by the date of the day.\n",
        "3. Ideally, this Google doc should be cut in three equally-spacen parts, each with a different color.\n",
        "4. Then, I want to also do [like I did last year in June](https://github.com/Naereen/Assistant-traduction-CranialInsertion-en-Python/blob/master/translate-card-names.ipynb), to translate as much as possible the names of the Magic cards when they are in tags like `[c]Card Name[/c]` or [c=Card Name]Card Name[/c]`.\n",
        "5. If possible, a free and efficient LLM specialized on translation from English to French, like HuggingFace's [Helsinki-NLP/opus-mt-tc-big-en-fr](https://huggingface.co/Helsinki-NLP/opus-mt-tc-big-en-fr) model, could be used to suggest a first draft of a translation, paragraph by paragraph, to help us translate the article.\n",
        "6. Then when this is done and our shared Google doc has been updated to contain what should be read and translated, a message could be posted to our Discord server automatically, to notify the team of translator that the newest article is ready for translation! See <https://www.makerhacks.com/python-messages-discord/>, which requires a [Discord webhook](https://support.discord.com/hc/en-us/articles/228383668-Intro-to-Webhooks).\n",
        "   > If all this works fine, we could improve it by automatically affecting three out of the six translators, to a third of the article's content, and notifying only them in the message sent to Discord.\n",
        "\n",
        "*Note:*\n",
        "- If running this task automatically can't be done easily, I can write a notebook that can run on Google colab or locally on my machine, and run it manually each week.\n",
        "- From Google colab, [it is (of course) possible to save a document to Google Drive](https://stackoverflow.com/questions/64808087/how-do-i-save-files-from-google-colab-to-google-drive#64810963), so it must be possible to edit a Google doc.\n",
        "\n",
        "> More links?\n",
        "> - See <https://huggingface.co/docs/transformers/tasks/translation> for the documentation I followed initially.\n",
        "> - See <https://github.com/Naereen/Assistant-traduction-CranialInsertion-en-Python> for the initial project I wrote (documentation in French) in June 2024."
      ],
      "metadata": {
        "id": "mk1ju3hC_rMj"
      }
    },
    {
      "cell_type": "markdown",
      "source": [
        "## Small signature and versions of some modules"
      ],
      "metadata": {
        "id": "chp0GYsGWCYz"
      }
    },
    {
      "cell_type": "code",
      "source": [
        "!pip install watermark sacremoses tensorflow transformers feedparser requests beautifulsoup4 tqdm scrython nest_asyncio"
      ],
      "metadata": {
        "colab": {
          "base_uri": "https://localhost:8080/"
        },
        "id": "7sHafqedqoK8",
        "outputId": "f3c76518-d560-4ff5-b53b-8a1bf063f824"
      },
      "execution_count": 3,
      "outputs": [
        {
          "output_type": "stream",
          "name": "stdout",
          "text": [
            "Collecting watermark\n",
            "  Downloading watermark-2.5.0-py2.py3-none-any.whl.metadata (1.4 kB)\n",
            "Collecting sacremoses\n",
            "  Downloading sacremoses-0.1.1-py3-none-any.whl.metadata (8.3 kB)\n",
            "Requirement already satisfied: tensorflow in /usr/local/lib/python3.11/dist-packages (2.18.0)\n",
            "Requirement already satisfied: transformers in /usr/local/lib/python3.11/dist-packages (4.48.3)\n",
            "Collecting feedparser\n",
            "  Downloading feedparser-6.0.11-py3-none-any.whl.metadata (2.4 kB)\n",
            "Requirement already satisfied: requests in /usr/local/lib/python3.11/dist-packages (2.32.3)\n",
            "Requirement already satisfied: beautifulsoup4 in /usr/local/lib/python3.11/dist-packages (4.13.3)\n",
            "Requirement already satisfied: tqdm in /usr/local/lib/python3.11/dist-packages (4.67.1)\n",
            "Requirement already satisfied: ipython>=6.0 in /usr/local/lib/python3.11/dist-packages (from watermark) (7.34.0)\n",
            "Requirement already satisfied: importlib-metadata>=1.4 in /usr/local/lib/python3.11/dist-packages (from watermark) (8.6.1)\n",
            "Requirement already satisfied: setuptools in /usr/local/lib/python3.11/dist-packages (from watermark) (75.1.0)\n",
            "Requirement already satisfied: regex in /usr/local/lib/python3.11/dist-packages (from sacremoses) (2024.11.6)\n",
            "Requirement already satisfied: click in /usr/local/lib/python3.11/dist-packages (from sacremoses) (8.1.8)\n",
            "Requirement already satisfied: joblib in /usr/local/lib/python3.11/dist-packages (from sacremoses) (1.4.2)\n",
            "Requirement already satisfied: absl-py>=1.0.0 in /usr/local/lib/python3.11/dist-packages (from tensorflow) (1.4.0)\n",
            "Requirement already satisfied: astunparse>=1.6.0 in /usr/local/lib/python3.11/dist-packages (from tensorflow) (1.6.3)\n",
            "Requirement already satisfied: flatbuffers>=24.3.25 in /usr/local/lib/python3.11/dist-packages (from tensorflow) (25.2.10)\n",
            "Requirement already satisfied: gast!=0.5.0,!=0.5.1,!=0.5.2,>=0.2.1 in /usr/local/lib/python3.11/dist-packages (from tensorflow) (0.6.0)\n",
            "Requirement already satisfied: google-pasta>=0.1.1 in /usr/local/lib/python3.11/dist-packages (from tensorflow) (0.2.0)\n",
            "Requirement already satisfied: libclang>=13.0.0 in /usr/local/lib/python3.11/dist-packages (from tensorflow) (18.1.1)\n",
            "Requirement already satisfied: opt-einsum>=2.3.2 in /usr/local/lib/python3.11/dist-packages (from tensorflow) (3.4.0)\n",
            "Requirement already satisfied: packaging in /usr/local/lib/python3.11/dist-packages (from tensorflow) (24.2)\n",
            "Requirement already satisfied: protobuf!=4.21.0,!=4.21.1,!=4.21.2,!=4.21.3,!=4.21.4,!=4.21.5,<6.0.0dev,>=3.20.3 in /usr/local/lib/python3.11/dist-packages (from tensorflow) (4.25.6)\n",
            "Requirement already satisfied: six>=1.12.0 in /usr/local/lib/python3.11/dist-packages (from tensorflow) (1.17.0)\n",
            "Requirement already satisfied: termcolor>=1.1.0 in /usr/local/lib/python3.11/dist-packages (from tensorflow) (2.5.0)\n",
            "Requirement already satisfied: typing-extensions>=3.6.6 in /usr/local/lib/python3.11/dist-packages (from tensorflow) (4.12.2)\n",
            "Requirement already satisfied: wrapt>=1.11.0 in /usr/local/lib/python3.11/dist-packages (from tensorflow) (1.17.2)\n",
            "Requirement already satisfied: grpcio<2.0,>=1.24.3 in /usr/local/lib/python3.11/dist-packages (from tensorflow) (1.70.0)\n",
            "Requirement already satisfied: tensorboard<2.19,>=2.18 in /usr/local/lib/python3.11/dist-packages (from tensorflow) (2.18.0)\n",
            "Requirement already satisfied: keras>=3.5.0 in /usr/local/lib/python3.11/dist-packages (from tensorflow) (3.8.0)\n",
            "Requirement already satisfied: numpy<2.1.0,>=1.26.0 in /usr/local/lib/python3.11/dist-packages (from tensorflow) (1.26.4)\n",
            "Requirement already satisfied: h5py>=3.11.0 in /usr/local/lib/python3.11/dist-packages (from tensorflow) (3.12.1)\n",
            "Requirement already satisfied: ml-dtypes<0.5.0,>=0.4.0 in /usr/local/lib/python3.11/dist-packages (from tensorflow) (0.4.1)\n",
            "Requirement already satisfied: tensorflow-io-gcs-filesystem>=0.23.1 in /usr/local/lib/python3.11/dist-packages (from tensorflow) (0.37.1)\n",
            "Requirement already satisfied: filelock in /usr/local/lib/python3.11/dist-packages (from transformers) (3.17.0)\n",
            "Requirement already satisfied: huggingface-hub<1.0,>=0.24.0 in /usr/local/lib/python3.11/dist-packages (from transformers) (0.28.1)\n",
            "Requirement already satisfied: pyyaml>=5.1 in /usr/local/lib/python3.11/dist-packages (from transformers) (6.0.2)\n",
            "Requirement already satisfied: tokenizers<0.22,>=0.21 in /usr/local/lib/python3.11/dist-packages (from transformers) (0.21.0)\n",
            "Requirement already satisfied: safetensors>=0.4.1 in /usr/local/lib/python3.11/dist-packages (from transformers) (0.5.3)\n",
            "Collecting sgmllib3k (from feedparser)\n",
            "  Downloading sgmllib3k-1.0.0.tar.gz (5.8 kB)\n",
            "  Preparing metadata (setup.py) ... \u001b[?25l\u001b[?25hdone\n",
            "Requirement already satisfied: charset-normalizer<4,>=2 in /usr/local/lib/python3.11/dist-packages (from requests) (3.4.1)\n",
            "Requirement already satisfied: idna<4,>=2.5 in /usr/local/lib/python3.11/dist-packages (from requests) (3.10)\n",
            "Requirement already satisfied: urllib3<3,>=1.21.1 in /usr/local/lib/python3.11/dist-packages (from requests) (2.3.0)\n",
            "Requirement already satisfied: certifi>=2017.4.17 in /usr/local/lib/python3.11/dist-packages (from requests) (2025.1.31)\n",
            "Requirement already satisfied: soupsieve>1.2 in /usr/local/lib/python3.11/dist-packages (from beautifulsoup4) (2.6)\n",
            "Requirement already satisfied: wheel<1.0,>=0.23.0 in /usr/local/lib/python3.11/dist-packages (from astunparse>=1.6.0->tensorflow) (0.45.1)\n",
            "Requirement already satisfied: fsspec>=2023.5.0 in /usr/local/lib/python3.11/dist-packages (from huggingface-hub<1.0,>=0.24.0->transformers) (2024.10.0)\n",
            "Requirement already satisfied: zipp>=3.20 in /usr/local/lib/python3.11/dist-packages (from importlib-metadata>=1.4->watermark) (3.21.0)\n",
            "Collecting jedi>=0.16 (from ipython>=6.0->watermark)\n",
            "  Downloading jedi-0.19.2-py2.py3-none-any.whl.metadata (22 kB)\n",
            "Requirement already satisfied: decorator in /usr/local/lib/python3.11/dist-packages (from ipython>=6.0->watermark) (4.4.2)\n",
            "Requirement already satisfied: pickleshare in /usr/local/lib/python3.11/dist-packages (from ipython>=6.0->watermark) (0.7.5)\n",
            "Requirement already satisfied: traitlets>=4.2 in /usr/local/lib/python3.11/dist-packages (from ipython>=6.0->watermark) (5.7.1)\n",
            "Requirement already satisfied: prompt-toolkit!=3.0.0,!=3.0.1,<3.1.0,>=2.0.0 in /usr/local/lib/python3.11/dist-packages (from ipython>=6.0->watermark) (3.0.50)\n",
            "Requirement already satisfied: pygments in /usr/local/lib/python3.11/dist-packages (from ipython>=6.0->watermark) (2.18.0)\n",
            "Requirement already satisfied: backcall in /usr/local/lib/python3.11/dist-packages (from ipython>=6.0->watermark) (0.2.0)\n",
            "Requirement already satisfied: matplotlib-inline in /usr/local/lib/python3.11/dist-packages (from ipython>=6.0->watermark) (0.1.7)\n",
            "Requirement already satisfied: pexpect>4.3 in /usr/local/lib/python3.11/dist-packages (from ipython>=6.0->watermark) (4.9.0)\n",
            "Requirement already satisfied: rich in /usr/local/lib/python3.11/dist-packages (from keras>=3.5.0->tensorflow) (13.9.4)\n",
            "Requirement already satisfied: namex in /usr/local/lib/python3.11/dist-packages (from keras>=3.5.0->tensorflow) (0.0.8)\n",
            "Requirement already satisfied: optree in /usr/local/lib/python3.11/dist-packages (from keras>=3.5.0->tensorflow) (0.14.1)\n",
            "Requirement already satisfied: markdown>=2.6.8 in /usr/local/lib/python3.11/dist-packages (from tensorboard<2.19,>=2.18->tensorflow) (3.7)\n",
            "Requirement already satisfied: tensorboard-data-server<0.8.0,>=0.7.0 in /usr/local/lib/python3.11/dist-packages (from tensorboard<2.19,>=2.18->tensorflow) (0.7.2)\n",
            "Requirement already satisfied: werkzeug>=1.0.1 in /usr/local/lib/python3.11/dist-packages (from tensorboard<2.19,>=2.18->tensorflow) (3.1.3)\n",
            "Requirement already satisfied: parso<0.9.0,>=0.8.4 in /usr/local/lib/python3.11/dist-packages (from jedi>=0.16->ipython>=6.0->watermark) (0.8.4)\n",
            "Requirement already satisfied: ptyprocess>=0.5 in /usr/local/lib/python3.11/dist-packages (from pexpect>4.3->ipython>=6.0->watermark) (0.7.0)\n",
            "Requirement already satisfied: wcwidth in /usr/local/lib/python3.11/dist-packages (from prompt-toolkit!=3.0.0,!=3.0.1,<3.1.0,>=2.0.0->ipython>=6.0->watermark) (0.2.13)\n",
            "Requirement already satisfied: MarkupSafe>=2.1.1 in /usr/local/lib/python3.11/dist-packages (from werkzeug>=1.0.1->tensorboard<2.19,>=2.18->tensorflow) (3.0.2)\n",
            "Requirement already satisfied: markdown-it-py>=2.2.0 in /usr/local/lib/python3.11/dist-packages (from rich->keras>=3.5.0->tensorflow) (3.0.0)\n",
            "Requirement already satisfied: mdurl~=0.1 in /usr/local/lib/python3.11/dist-packages (from markdown-it-py>=2.2.0->rich->keras>=3.5.0->tensorflow) (0.1.2)\n",
            "Downloading watermark-2.5.0-py2.py3-none-any.whl (7.7 kB)\n",
            "Downloading sacremoses-0.1.1-py3-none-any.whl (897 kB)\n",
            "\u001b[2K   \u001b[90m━━━━━━━━━━━━━━━━━━━━━━━━━━━━━━━━━━━━━━━━\u001b[0m \u001b[32m897.5/897.5 kB\u001b[0m \u001b[31m18.2 MB/s\u001b[0m eta \u001b[36m0:00:00\u001b[0m\n",
            "\u001b[?25hDownloading feedparser-6.0.11-py3-none-any.whl (81 kB)\n",
            "\u001b[2K   \u001b[90m━━━━━━━━━━━━━━━━━━━━━━━━━━━━━━━━━━━━━━━━\u001b[0m \u001b[32m81.3/81.3 kB\u001b[0m \u001b[31m5.2 MB/s\u001b[0m eta \u001b[36m0:00:00\u001b[0m\n",
            "\u001b[?25hDownloading jedi-0.19.2-py2.py3-none-any.whl (1.6 MB)\n",
            "\u001b[2K   \u001b[90m━━━━━━━━━━━━━━━━━━━━━━━━━━━━━━━━━━━━━━━━\u001b[0m \u001b[32m1.6/1.6 MB\u001b[0m \u001b[31m43.1 MB/s\u001b[0m eta \u001b[36m0:00:00\u001b[0m\n",
            "\u001b[?25hBuilding wheels for collected packages: sgmllib3k\n",
            "  Building wheel for sgmllib3k (setup.py) ... \u001b[?25l\u001b[?25hdone\n",
            "  Created wheel for sgmllib3k: filename=sgmllib3k-1.0.0-py3-none-any.whl size=6047 sha256=9396cfb5e4b0c4ef7dd570362df4f61ae29f7fd8d4f8fe0625e5f15821155f29\n",
            "  Stored in directory: /root/.cache/pip/wheels/3b/25/2a/105d6a15df6914f4d15047691c6c28f9052cc1173e40285d03\n",
            "Successfully built sgmllib3k\n",
            "Installing collected packages: sgmllib3k, sacremoses, jedi, feedparser, watermark\n",
            "Successfully installed feedparser-6.0.11 jedi-0.19.2 sacremoses-0.1.1 sgmllib3k-1.0.0 watermark-2.5.0\n"
          ]
        }
      ]
    },
    {
      "cell_type": "code",
      "source": [
        "%load_ext watermark\n",
        "%watermark -v -m -a \"Lilian Besson (Naereen)\" -gu \"Naereen\" -g -p tensorflow,transformers,feedparser,requests,bs4,tqdm,scrython,nest_asyncio"
      ],
      "metadata": {
        "colab": {
          "base_uri": "https://localhost:8080/"
        },
        "id": "MBghVO5xGhfx",
        "outputId": "bebce46d-e98d-4124-df66-728e4e7de4c9"
      },
      "execution_count": 31,
      "outputs": [
        {
          "output_type": "stream",
          "name": "stdout",
          "text": [
            "The watermark extension is already loaded. To reload it, use:\n",
            "  %reload_ext watermark\n",
            "Author: Lilian Besson (Naereen)\n",
            "\n",
            "Github username: Naereen\n",
            "\n",
            "Python implementation: CPython\n",
            "Python version       : 3.11.11\n",
            "IPython version      : 7.34.0\n",
            "\n",
            "tensorflow  : 2.18.0\n",
            "transformers: 4.48.3\n",
            "feedparser  : 6.0.11\n",
            "requests    : 2.32.3\n",
            "bs4         : 4.13.3\n",
            "tqdm        : 4.67.1\n",
            "scrython    : 1.11.0\n",
            "nest_asyncio: 1.6.0\n",
            "\n",
            "Compiler    : GCC 11.4.0\n",
            "OS          : Linux\n",
            "Release     : 6.1.85+\n",
            "Machine     : x86_64\n",
            "Processor   : x86_64\n",
            "CPU cores   : 2\n",
            "Architecture: 64bit\n",
            "\n",
            "Git hash: \n",
            "\n"
          ]
        }
      ]
    },
    {
      "cell_type": "markdown",
      "source": [
        "----\n",
        "\n",
        "## Using Google's colab GPU and setting up the requirements to translate English-to-French\n",
        "Let's check that the Google Colab notebook runs on a GPU and not a CPU, if possible. Otherwise, inference (translation English to French) will be slower."
      ],
      "metadata": {
        "id": "cmyAZXr2__Da"
      }
    },
    {
      "cell_type": "code",
      "source": [
        "running_on_GPU = True\n",
        "import tensorflow as tf\n",
        "device_name = tf.test.gpu_device_name()\n",
        "if device_name != '/device:GPU:0':\n",
        "    running_on_GPU = False\n",
        "    raise SystemError('GPU device not found')\n",
        "print('Found GPU at: {}'.format(device_name))"
      ],
      "metadata": {
        "colab": {
          "base_uri": "https://localhost:8080/",
          "height": 193
        },
        "id": "hhI4eGSx-67K",
        "outputId": "d387280f-e87f-429d-bb79-02c6b2318e2b"
      },
      "execution_count": 5,
      "outputs": [
        {
          "output_type": "error",
          "ename": "SystemError",
          "evalue": "GPU device not found",
          "traceback": [
            "\u001b[0;31m---------------------------------------------------------------------------\u001b[0m",
            "\u001b[0;31mSystemError\u001b[0m                               Traceback (most recent call last)",
            "\u001b[0;32m<ipython-input-5-922d22d620a4>\u001b[0m in \u001b[0;36m<cell line: 0>\u001b[0;34m()\u001b[0m\n\u001b[1;32m      4\u001b[0m \u001b[0;32mif\u001b[0m \u001b[0mdevice_name\u001b[0m \u001b[0;34m!=\u001b[0m \u001b[0;34m'/device:GPU:0'\u001b[0m\u001b[0;34m:\u001b[0m\u001b[0;34m\u001b[0m\u001b[0;34m\u001b[0m\u001b[0m\n\u001b[1;32m      5\u001b[0m     \u001b[0mrunning_on_GPU\u001b[0m \u001b[0;34m=\u001b[0m \u001b[0;32mFalse\u001b[0m\u001b[0;34m\u001b[0m\u001b[0;34m\u001b[0m\u001b[0m\n\u001b[0;32m----> 6\u001b[0;31m     \u001b[0;32mraise\u001b[0m \u001b[0mSystemError\u001b[0m\u001b[0;34m(\u001b[0m\u001b[0;34m'GPU device not found'\u001b[0m\u001b[0;34m)\u001b[0m\u001b[0;34m\u001b[0m\u001b[0;34m\u001b[0m\u001b[0m\n\u001b[0m\u001b[1;32m      7\u001b[0m \u001b[0mprint\u001b[0m\u001b[0;34m(\u001b[0m\u001b[0;34m'Found GPU at: {}'\u001b[0m\u001b[0;34m.\u001b[0m\u001b[0mformat\u001b[0m\u001b[0;34m(\u001b[0m\u001b[0mdevice_name\u001b[0m\u001b[0;34m)\u001b[0m\u001b[0;34m)\u001b[0m\u001b[0;34m\u001b[0m\u001b[0;34m\u001b[0m\u001b[0m\n",
            "\u001b[0;31mSystemError\u001b[0m: GPU device not found"
          ]
        }
      ]
    },
    {
      "cell_type": "markdown",
      "source": [
        "Let's use this model <https://huggingface.co/Helsinki-NLP/opus-mt-tc-big-en-fr> which is specialized in the translation of natural text written in English, into French.\n",
        "I'll study later on how we could finetune this model to improve its performance on documents related to Magic: the Gathering."
      ],
      "metadata": {
        "id": "B3KtDNhhg_rb"
      }
    },
    {
      "cell_type": "code",
      "source": [
        "%%time\n",
        "from transformers import pipeline\n",
        "pipe_en2fr = pipeline(\"translation\", model=\"Helsinki-NLP/opus-mt-tc-big-en-fr\")"
      ],
      "metadata": {
        "colab": {
          "base_uri": "https://localhost:8080/",
          "height": 377,
          "referenced_widgets": [
            "6487d1c91df24d87b1fa6bd042df52e5",
            "b61e2342753d44d28c5f02a49f8517fb",
            "540aaac9fa2a43cb8ef5af7f7dcfe778",
            "d92eb4dbc6e447febe9e7c0356c55709",
            "5c01e16ff0cd411794d1a84e7462d3bb",
            "cebe2fecbec6472e9703b4620b93c43a",
            "963702157e6d439a8cc4c9b22d372f08",
            "15c204b3a5274508bec2bd661b4428a7",
            "85454192942f41f8a3bcdb8a9d11f20e",
            "c960b1d3af724aa58129c93213021578",
            "da0470c590ec4a28a5cc00596f2237f2",
            "15c1dd37d8884c038cd8e86e8c7eb5f9",
            "1f5eff6cea464ca3a2696b4db691686e",
            "4131dd2a53a8452ebd20988960de9787",
            "276fd1e6ecac47f88eebcaaa9606df97",
            "844c9ab37d3c4483afb3b1b40039b87f",
            "69f08355f44240eaaffb0a24815b1f64",
            "1c7a0d4c5d7142a68a7168fe60fc5959",
            "75f993df5e64448c9c941f6801b06442",
            "c5050c4131ae4f7ba849008034ee7319",
            "6c65467b15f842c0aad2c62a55ed2cac",
            "be2f4477f3c04d809961cf166c4b8a00",
            "1606236199e944619f7c4016f71214f2",
            "9fabecb4ea5d4d389c5bc2397f1f82eb",
            "2bb98eb1de0c4405822a88fa70c9dd6c",
            "9368ea6b8680450f9cc68a5f5a48df29",
            "f1990a8360dc4ed4aadcee6cb143961a",
            "ad93260c20fa4c20b29eccdae461ed2b",
            "eb9fbdb4cb3d44a4a287765be5e177a3",
            "0cd0ba63e1c64797ab3375a5ea30bd36",
            "a25ee559c1b74f429f436f036f37b202",
            "c1901ae8b7ce4fe595149cada9458445",
            "9da33d6251da494796e4929306850ed2",
            "469978797a84457eaf1964263d93e72e",
            "891fc91a08984baea9880bb69f8a3288",
            "8d0aa42db8bf47c4be8810827b03192d",
            "1f6c0b61ada74d93bf2bf2b8350effa6",
            "718eb182302141018cbe11ac95f695de",
            "ff25950f34c34df69ac21292ce9c2b7c",
            "b9f89ac17b1b441d8080c8d672e7ed3a",
            "1b00d54149ca4def91fc1e54017ea624",
            "c6a585969c7e4f89b33fb1461df052ae",
            "cd022be9730742debc5808a177d87fcb",
            "c8ccec7926974b74a969b23168c74112",
            "318463860f874febac237a9c7aa70f78",
            "2d51c6ced2e14c4a8e1b298e80002020",
            "615597be46de464f854353f0e2edd097",
            "369f33e8923e42ca95c788edf7e25aee",
            "d529421039a3420586a5f600b6899c31",
            "9d23ac2ff64949bf978fa175cc5dfe24",
            "0e755a58fd2844d9bdacf70a076c6257",
            "605f4f9a12e04b1d8a19604b6355bd8c",
            "3c3f86f8dbf64303a81c5c857f000813",
            "01fa489f8ffd4881a3de64f6d948e0f9",
            "90312c4d4f844e779d665d4e6b106748",
            "eb576e6733624be6a091cbfd8efdb957",
            "af9fb272c4ec45578d4ff5f719a126a9",
            "c0d6729d3a3341d8a1786ab7468d4722",
            "d99ac5fd9332485d94437989d41c4767",
            "7af427501fa14addb03e51467ec10a3c",
            "4935dcb7dc6c45c89c4e7e8a12bd4c36",
            "6ad6cb9bf8ef405d82091895f36962ee",
            "acde25fc056b46cf8efa853c8e01b95a",
            "ddb2481b0db6424dbe615ed60b73ad28",
            "359392a0921b44e983ae94c4e6d0f086",
            "427c9658957745b7a0d0e9ddbd831e23",
            "95d15cfc3f8b4dec9ed9f7f01339a5e2",
            "6396810c76bc4731958bbb64aba8b715",
            "b3a50df08b2e40c9a03d94f780ebde2b",
            "3ceaa79384b04a3290e5c2931f952b0f",
            "47ffd450619f434c97d0a093b33ffea6",
            "02015f36f531460183976fe956ffc468",
            "bc22058f4dbf4128bf3bdeef21a2977f",
            "825d9a7a260d492fa0bc3fa35e0460b4",
            "2e7b6f13b1f14e4eaeab5d6e493d9e96",
            "bba11f47337c473bb2221c40ff6cb94b",
            "6547471b723543c599f4ab0b5b4dad71",
            "51e6297407974676baa34bcff2babfd3",
            "944945ce7a5f487b8d030ef358f1a9f9",
            "3d6d98aa53434a18b5d75710509c8991",
            "1981dd116f9d40a0a18022d613414115",
            "635b8fa6e0fb4c9294e2f4d837f664a5",
            "a3806d772f9940ffb8d2681953ed881b",
            "2763b18cd0044ab6b9d4562b70bbc18c",
            "efc1acfa011a4ea3865b19e7616af797",
            "5922628c670849eeb2c29990b1008ead",
            "a28664d0dba344e4b6959a984ed4c8ba",
            "a98574fa78a0473f9814e3d264c94c4c"
          ]
        },
        "id": "XuPcCTdO6VTv",
        "outputId": "216472e5-3ff5-470f-a0b9-01e429d3db1e"
      },
      "execution_count": 6,
      "outputs": [
        {
          "output_type": "stream",
          "name": "stderr",
          "text": [
            "/usr/local/lib/python3.11/dist-packages/huggingface_hub/utils/_auth.py:86: UserWarning: \n",
            "Access to the secret `HF_TOKEN` has not been granted on this notebook.\n",
            "You will not be requested again.\n",
            "Please restart the session if you want to be prompted again.\n",
            "  warnings.warn(\n"
          ]
        },
        {
          "output_type": "display_data",
          "data": {
            "text/plain": [
              "config.json:   0%|          | 0.00/1.08k [00:00<?, ?B/s]"
            ],
            "application/vnd.jupyter.widget-view+json": {
              "version_major": 2,
              "version_minor": 0,
              "model_id": "6487d1c91df24d87b1fa6bd042df52e5"
            }
          },
          "metadata": {}
        },
        {
          "output_type": "display_data",
          "data": {
            "text/plain": [
              "model.safetensors:   0%|          | 0.00/461M [00:00<?, ?B/s]"
            ],
            "application/vnd.jupyter.widget-view+json": {
              "version_major": 2,
              "version_minor": 0,
              "model_id": "15c1dd37d8884c038cd8e86e8c7eb5f9"
            }
          },
          "metadata": {}
        },
        {
          "output_type": "display_data",
          "data": {
            "text/plain": [
              "generation_config.json:   0%|          | 0.00/301 [00:00<?, ?B/s]"
            ],
            "application/vnd.jupyter.widget-view+json": {
              "version_major": 2,
              "version_minor": 0,
              "model_id": "1606236199e944619f7c4016f71214f2"
            }
          },
          "metadata": {}
        },
        {
          "output_type": "display_data",
          "data": {
            "text/plain": [
              "tokenizer_config.json:   0%|          | 0.00/337 [00:00<?, ?B/s]"
            ],
            "application/vnd.jupyter.widget-view+json": {
              "version_major": 2,
              "version_minor": 0,
              "model_id": "469978797a84457eaf1964263d93e72e"
            }
          },
          "metadata": {}
        },
        {
          "output_type": "display_data",
          "data": {
            "text/plain": [
              "source.spm:   0%|          | 0.00/802k [00:00<?, ?B/s]"
            ],
            "application/vnd.jupyter.widget-view+json": {
              "version_major": 2,
              "version_minor": 0,
              "model_id": "318463860f874febac237a9c7aa70f78"
            }
          },
          "metadata": {}
        },
        {
          "output_type": "display_data",
          "data": {
            "text/plain": [
              "target.spm:   0%|          | 0.00/820k [00:00<?, ?B/s]"
            ],
            "application/vnd.jupyter.widget-view+json": {
              "version_major": 2,
              "version_minor": 0,
              "model_id": "eb576e6733624be6a091cbfd8efdb957"
            }
          },
          "metadata": {}
        },
        {
          "output_type": "display_data",
          "data": {
            "text/plain": [
              "vocab.json:   0%|          | 0.00/1.33M [00:00<?, ?B/s]"
            ],
            "application/vnd.jupyter.widget-view+json": {
              "version_major": 2,
              "version_minor": 0,
              "model_id": "95d15cfc3f8b4dec9ed9f7f01339a5e2"
            }
          },
          "metadata": {}
        },
        {
          "output_type": "display_data",
          "data": {
            "text/plain": [
              "special_tokens_map.json:   0%|          | 0.00/65.0 [00:00<?, ?B/s]"
            ],
            "application/vnd.jupyter.widget-view+json": {
              "version_major": 2,
              "version_minor": 0,
              "model_id": "51e6297407974676baa34bcff2babfd3"
            }
          },
          "metadata": {}
        },
        {
          "output_type": "stream",
          "name": "stderr",
          "text": [
            "Device set to use cpu\n"
          ]
        }
      ]
    },
    {
      "cell_type": "markdown",
      "source": [
        "We can then very quickly write a function to translate text, and use it on small sentences:"
      ],
      "metadata": {
        "id": "B88SdK7Fmgan"
      }
    },
    {
      "cell_type": "code",
      "source": [
        "def en2fr_small(text):\n",
        "    return pipe_en2fr(text)[0]['translation_text']"
      ],
      "metadata": {
        "id": "3MZKJ7736wyo"
      },
      "execution_count": 7,
      "outputs": []
    },
    {
      "cell_type": "code",
      "source": [
        "%%time\n",
        "print(en2fr_small(\"The Portuguese teacher is very demanding.\"))\n",
        "# expected output: Le professeur de portugais est très exigeant."
      ],
      "metadata": {
        "colab": {
          "base_uri": "https://localhost:8080/"
        },
        "id": "xz8q6e1u6jDc",
        "outputId": "d3d14e66-63a0-4ae6-fba9-d8156612a3ed"
      },
      "execution_count": 8,
      "outputs": [
        {
          "output_type": "stream",
          "name": "stdout",
          "text": [
            "Le professeur de portugais est très exigeant.\n",
            "CPU times: user 1.28 s, sys: 10.2 ms, total: 1.29 s\n",
            "Wall time: 1.39 s\n"
          ]
        }
      ]
    },
    {
      "cell_type": "code",
      "source": [
        "%%time\n",
        "print(en2fr_small(\"Who are you? I am a LLM running on the Google cloud (Google colab).\"))\n",
        "# expected output: Qui êtes-vous? Je suis un LLM fonctionnant sur le cloud Google (Google colab)."
      ],
      "metadata": {
        "colab": {
          "base_uri": "https://localhost:8080/"
        },
        "id": "a6SRhobRHzTC",
        "outputId": "b535a421-e6ab-490c-cd59-1294ae6f7c07"
      },
      "execution_count": 9,
      "outputs": [
        {
          "output_type": "stream",
          "name": "stdout",
          "text": [
            "Qui êtes-vous? Je suis un LLM fonctionnant sur le cloud Google (Google colab).\n",
            "CPU times: user 3.75 s, sys: 13 ms, total: 3.76 s\n",
            "Wall time: 3.77 s\n"
          ]
        }
      ]
    },
    {
      "cell_type": "markdown",
      "source": [
        "I'll print paragraphs using this code:"
      ],
      "metadata": {
        "id": "Ocgrx7CJJ344"
      }
    },
    {
      "cell_type": "code",
      "source": [
        "from IPython.display import display, Markdown\n",
        "def print_paragraph(paragraph):\n",
        "    return display(Markdown(f\"> {paragraph}\"))"
      ],
      "metadata": {
        "id": "QdNc3R39J3LD"
      },
      "execution_count": 10,
      "outputs": []
    },
    {
      "cell_type": "markdown",
      "source": [
        "-----\n",
        "\n",
        "## Splitting a paragraph on sentences, translating each of them, and joining the result"
      ],
      "metadata": {
        "id": "SrDH2I2pjxF0"
      }
    },
    {
      "cell_type": "markdown",
      "source": [
        "Let's improve the `en2fr` translation function:"
      ],
      "metadata": {
        "id": "dLpxqRvumbaS"
      }
    },
    {
      "cell_type": "code",
      "source": [
        "def en2fr(text, split_length=351):\n",
        "    \"\"\" Translate <text> from English to French.\n",
        "\n",
        "    EXPERIMENTAL: If its size is larger than <split_length>, split it by sentences, translate each separately, then join the result.\n",
        "    \"\"\"\n",
        "    if len(text) < split_length:\n",
        "        return pipe_en2fr(text)[0]['translation_text']\n",
        "    else:\n",
        "        sentences = text.split(\".\")\n",
        "        translated_sentences = []\n",
        "        for sentence in sentences:\n",
        "            if len(sentence) > 0:\n",
        "                text = sentence\n",
        "                translated_text = pipe_en2fr(text)[0]['translation_text']\n",
        "                translated_sentences.append(translated_text)\n",
        "        return \".\".join(translated_sentences)"
      ],
      "metadata": {
        "id": "u9v7Z1-xlUj1"
      },
      "execution_count": 11,
      "outputs": []
    },
    {
      "cell_type": "markdown",
      "source": [
        "This small hack I wrote seems to work efficiently, to translate longer texts!"
      ],
      "metadata": {
        "id": "LgfhP3UYoKUW"
      }
    },
    {
      "cell_type": "markdown",
      "source": [
        "--------\n",
        "\n",
        "## Trying to translate automatically a first paragraph from a recent Cranial Insertion article"
      ],
      "metadata": {
        "id": "z--6_Yjs71jw"
      }
    },
    {
      "cell_type": "code",
      "source": [
        "%%time\n",
        "first_paragraph = \"[a]Glacial Dragonhunt as a spell doesn't have a target, so you don't announce a target at the time you cast it. If you choose to discard a card during its resolution and that card turns out to be a nonland card, this triggers a reflexive triggered ability that has a target, and you announce its target when you put that ability on the stack.[/a]\"\n",
        "print(\"The first paragraph in English is:\")\n",
        "print_paragraph(first_paragraph)\n",
        "\n",
        "first_paragraph_fr = en2fr(first_paragraph)\n",
        "print(\"The first paragraph in French is:\")\n",
        "print_paragraph(first_paragraph_fr)"
      ],
      "metadata": {
        "colab": {
          "base_uri": "https://localhost:8080/",
          "height": 264
        },
        "id": "4Pg1wYLAIX2a",
        "outputId": "41f70307-0536-4844-9288-796975395ad5"
      },
      "execution_count": 13,
      "outputs": [
        {
          "output_type": "stream",
          "name": "stdout",
          "text": [
            "The first paragraph in English is:\n"
          ]
        },
        {
          "output_type": "display_data",
          "data": {
            "text/plain": [
              "<IPython.core.display.Markdown object>"
            ],
            "text/markdown": "> [a]Glacial Dragonhunt as a spell doesn't have a target, so you don't announce a target at the time you cast it. If you choose to discard a card during its resolution and that card turns out to be a nonland card, this triggers a reflexive triggered ability that has a target, and you announce its target when you put that ability on the stack.[/a]"
          },
          "metadata": {}
        },
        {
          "output_type": "stream",
          "name": "stdout",
          "text": [
            "The first paragraph in French is:\n"
          ]
        },
        {
          "output_type": "display_data",
          "data": {
            "text/plain": [
              "<IPython.core.display.Markdown object>"
            ],
            "text/markdown": "> [a]La chasse au dragon glaciale en tant que sort n'a pas de cible, donc vous n'annoncez pas de cible au moment où vous la lancez. Si vous choisissez de défausser une carte pendant sa résolution et que cette carte s'avère être une carte non terrestre, cela déclenche une capacité déclenchée par réflexe qui a une cible, et vous annoncez sa cible lorsque vous mettez cette capacité sur la pile."
          },
          "metadata": {}
        },
        {
          "output_type": "stream",
          "name": "stdout",
          "text": [
            "CPU times: user 14.2 s, sys: 111 ms, total: 14.3 s\n",
            "Wall time: 14.4 s\n"
          ]
        }
      ]
    },
    {
      "cell_type": "markdown",
      "source": [
        "This first try of translating a paragraph from [a recent Cranial Insertion article](https://www.cranial-insertion.com/article/4380) is quite a success!\n",
        "**It's very quick: about 1 second to translate a paragraph, when running on a free GPU in Google Colab!**\n",
        "\n",
        "> CPU times: user 765 ms, sys: 1.34 ms, total: 766 ms\n",
        "> Wall time: 765 ms\n",
        "\n",
        "**It is much slower on a CPU (as expected), about 20 times slower:**\n",
        "\n",
        "> CPU times: user 13.8 s, sys: 161 ms, total: 13.9 s\n",
        "> Wall time: 16.1 s"
      ],
      "metadata": {
        "id": "qX7xcxr1NWKp"
      }
    },
    {
      "cell_type": "code",
      "source": [
        "ratio_cpu_to_gpu = round(16.1 / 0.765, 3)\n",
        "print(f\"It is approximately {ratio_cpu_to_gpu} times slower to use the (entirely Free) CPU than to use the (not-free) cheapest GPU.\")"
      ],
      "metadata": {
        "colab": {
          "base_uri": "https://localhost:8080/"
        },
        "id": "AIb2FWUvJgR6",
        "outputId": "26f87227-cd9a-4e74-8a30-a38af97a10d3"
      },
      "execution_count": null,
      "outputs": [
        {
          "output_type": "stream",
          "name": "stdout",
          "text": [
            "It is approximately 21.046 times slower to use the (entirely Free) CPU than to use the (not-free) cheapest GPU.\n"
          ]
        }
      ]
    },
    {
      "cell_type": "markdown",
      "source": [
        "I'm pretty certain that this model cannot translate paragraph which are longer than about 370 caracters, from what I tried.\n",
        "See above, I wrote an improved version of `en2fr`, to split paragraphs into sentences, and translate them one-by-one, if the paragraph is longer than the max lengths."
      ],
      "metadata": {
        "id": "4TRzpQ4Vh6Pa"
      }
    },
    {
      "cell_type": "markdown",
      "source": [
        "On my first experiment, I was using a Google T4 GPU, and:\n",
        "It took about 23 seconds to generate a first draft of a translation for a content lengthy like two thirds (2/3) of a usual-size article.\n",
        "So it should take about 35 seconds to translate a full-size article, that's great!"
      ],
      "metadata": {
        "id": "r8PibcaOXnrb"
      }
    },
    {
      "cell_type": "markdown",
      "source": [
        "------\n",
        "\n",
        "## Failures of the [Helsinki-NLP/opus-mt-tc-big-en-fr](https://huggingface.co/Helsinki-NLP/opus-mt-tc-big-en-fr) model for translating text about Magic: the Gathering (on Cranial Insertion)\n",
        "\n",
        "Here are a few points I observed on which this great NLP LLM fails:\n",
        "\n",
        "- land/nonland => ~~terrestre~~ terrain/non terrain\n",
        "- you => ~~vous~~ tu (on tutoie le lecteur dans les articles Cranial)\n",
        "- reflexive trigger => capacité déclenchée ~~par réflexe~~ réflexive\n",
        "- and most likely MANY MORE!\n",
        "\n",
        "### TODO: check more examples to list here the failures I observed\n",
        "\n",
        "### Future goal: fine-tune this model 🪄\n",
        "One future goal will be to fine-tune the [Helsinki-NLP/opus-mt-tc-big-en-fr](https://huggingface.co/Helsinki-NLP/opus-mt-tc-big-en-fr) model, using the data of all the previously manually translated Cranial Insertion articles (and maybe other sources), in order to fix these issues and improve the overall quality of the translation."
      ],
      "metadata": {
        "id": "B7MIcQJpMRL-"
      }
    },
    {
      "cell_type": "markdown",
      "source": [
        "------\n",
        "\n",
        "## Getting the text of the latest article\n",
        "\n",
        "By using the RSS feed of the Cranial Insertion blog, I'll download the raw content of the newest article."
      ],
      "metadata": {
        "id": "OFRuHX0yPPk2"
      }
    },
    {
      "cell_type": "code",
      "source": [
        "import feedparser"
      ],
      "metadata": {
        "id": "XikPBzQYPbTp"
      },
      "execution_count": 14,
      "outputs": []
    },
    {
      "cell_type": "code",
      "source": [
        "rss_url = \"https://www.cranial-insertion.com/rss\"\n",
        "print(f\"Reading the feed at {rss_url}...\")\n",
        "\n",
        "blog_feed = feedparser.parse(rss_url)\n",
        "print(f\"Succesfully read the feed at {rss_url}, named « {blog_feed.feed.title} »\")"
      ],
      "metadata": {
        "colab": {
          "base_uri": "https://localhost:8080/"
        },
        "id": "zCZ5sm1XPV3N",
        "outputId": "290c930a-003a-4a85-b356-4b4ed09be585"
      },
      "execution_count": 15,
      "outputs": [
        {
          "output_type": "stream",
          "name": "stdout",
          "text": [
            "Reading the feed at https://www.cranial-insertion.com/rss...\n",
            "Succesfully read the feed at https://www.cranial-insertion.com/rss, named « Cranial Insertion »\n"
          ]
        }
      ]
    },
    {
      "cell_type": "code",
      "source": [
        "num_article = 0\n",
        "\n",
        "latest_article_link = blog_feed.entries[num_article].link\n",
        "print(\"- The latest article is here:\", latest_article_link)\n",
        "\n",
        "latest_article_title = blog_feed.entries[num_article].title\n",
        "print(\"- Its title is:\", latest_article_title)\n",
        "\n",
        "latest_article_date = blog_feed.entries[num_article].published\n",
        "print(\"- It was published on:\", latest_article_date)\n",
        "\n",
        "article_id = latest_article_link.split(\"/\")[-1]\n",
        "print(\"- The article ID is:\", article_id)"
      ],
      "metadata": {
        "colab": {
          "base_uri": "https://localhost:8080/"
        },
        "id": "JFYLUczGPqVp",
        "outputId": "3e678087-b925-4c5e-f799-0467d5f045be"
      },
      "execution_count": 16,
      "outputs": [
        {
          "output_type": "stream",
          "name": "stdout",
          "text": [
            "- The latest article is here: http://www.cranial-insertion.com/article/4376\n",
            "- Its title is: Cranial Insertion: All in Jeopardy (Can you answer in the form of a question?)\n",
            "- It was published on: Mon, 31 Mar 2025 00:00:00 EDT\n",
            "- The article ID is: 4376\n"
          ]
        }
      ]
    },
    {
      "cell_type": "code",
      "source": [
        "def get_latest_article_id(num_article=0):\n",
        "    blog_feed = feedparser.parse(rss_url)\n",
        "    latest_article_link = blog_feed.entries[num_article].link\n",
        "    article_id = latest_article_link.split(\"/\")[-1]\n",
        "    return article_id\n",
        "\n",
        "print(f\"The latest article ID is: {get_latest_article_id()}\")"
      ],
      "metadata": {
        "colab": {
          "base_uri": "https://localhost:8080/"
        },
        "id": "Qho1DnlY1FFp",
        "outputId": "f895cb9b-e691-439f-8664-5c3eb16d0de2"
      },
      "execution_count": 17,
      "outputs": [
        {
          "output_type": "stream",
          "name": "stdout",
          "text": [
            "The latest article ID is: 4376\n"
          ]
        }
      ]
    },
    {
      "cell_type": "code",
      "source": [
        "try:\n",
        "    with open(\"cranial-insertion.com.cookies\", 'r') as file:\n",
        "        cranial_insertion_cookie = file.read()\n",
        "    print(\"Cranial Insertion cookie successfully loaded from local file 'cranial-insertion.com.cookies', it can now be used (it's a secret)\")\n",
        "except FileNotFoundError:\n",
        "    from google.colab import userdata\n",
        "    cranial_insertion_cookie = userdata.get('CI_COOKIE')\n",
        "    print(\"Cranial Insertion cookie successfully loaded from Google Colab secrets, it can now be used (it's a secret)\")"
      ],
      "metadata": {
        "colab": {
          "base_uri": "https://localhost:8080/"
        },
        "id": "sqeRe1tJQGOD",
        "outputId": "26db796f-9497-4113-9281-e149a3780f0d"
      },
      "execution_count": 18,
      "outputs": [
        {
          "output_type": "stream",
          "name": "stdout",
          "text": [
            "Cranial Insertion cookie successfully loaded from Google Colab secrets, it can now be used (it's a secret)\n"
          ]
        }
      ]
    },
    {
      "cell_type": "markdown",
      "source": [
        "We need two modules, to get the text of Cranial Insertion articles:"
      ],
      "metadata": {
        "id": "zd7LOB1qybg1"
      }
    },
    {
      "cell_type": "code",
      "source": [
        "import requests\n",
        "from bs4 import BeautifulSoup"
      ],
      "metadata": {
        "id": "HwoxxNIHQiIC"
      },
      "execution_count": 19,
      "outputs": []
    },
    {
      "cell_type": "code",
      "source": [
        "def get_article_text(article_id=article_id):\n",
        "    latest_article_edit_url = f\"https://www.cranial-insertion.com/staff/articles/{article_id}/edit\"\n",
        "    print(f\"Reading the article at URL {latest_article_edit_url} ...\")\n",
        "\n",
        "    cookies = {\n",
        "        'loggedin': cranial_insertion_cookie,\n",
        "        'siteLang': 'fr',\n",
        "    }\n",
        "    print(f\"Using French language and my editor cookie...\")\n",
        "\n",
        "    response = requests.get(latest_article_edit_url, cookies=cookies)\n",
        "    soup = BeautifulSoup(response.text, 'html.parser')\n",
        "    print(f\"The web page has been read and it's title is « {soup.title} » !\")\n",
        "\n",
        "    latest_article_text = soup.find(id=\"thisArticleText\").get_text()\n",
        "    latest_article_title = soup.find(id=\"thisArticleTitle\").get_text()\n",
        "    latest_article_date = soup.find(id=\"thisArticlePubdate\").get_text()\n",
        "\n",
        "    return latest_article_text, latest_article_title, latest_article_date, soup"
      ],
      "metadata": {
        "id": "KpSxEHF0xk7R"
      },
      "execution_count": 34,
      "outputs": []
    },
    {
      "cell_type": "markdown",
      "source": [
        "We can know get the text of any English article, if we know its ID:\n",
        "\n",
        "> I could improve that but there is no need."
      ],
      "metadata": {
        "id": "uRPxLKauyp3E"
      }
    },
    {
      "cell_type": "code",
      "source": [
        "list_of_article_id = [\n",
        "    4380,\n",
        "    4376,\n",
        "    4374,\n",
        "    4371,\n",
        "    # etc, there is 20 years of weekly articles!\n",
        "    # see https://www.cranial-insertion.com/archive for a list\n",
        "]\n",
        "\n",
        "article_id = list_of_article_id[0]\n",
        "try:\n",
        "    latest_article_text, latest_article_title, latest_article_date, soup = get_article_text(article_id)\n",
        "except:\n",
        "    article_id = get_latest_article_id()\n",
        "    latest_article_text, latest_article_title, latest_article_date, soup = get_article_text(article_id)\n",
        "\n",
        "latest_article_link = f\"https://www.cranial-insertion.com/article/{article_id}\"\n",
        "print(\"- The latest article is here:\", latest_article_link)\n",
        "print(f\"- This article {article_id} raw text is:\")\n",
        "display(Markdown(latest_article_text))"
      ],
      "metadata": {
        "colab": {
          "base_uri": "https://localhost:8080/",
          "height": 1000
        },
        "id": "sVKBerzQRod8",
        "outputId": "c9bc98e4-9b81-4efe-e2fe-c745ef17a787"
      },
      "execution_count": 35,
      "outputs": [
        {
          "output_type": "stream",
          "name": "stdout",
          "text": [
            "Reading the article at URL https://www.cranial-insertion.com/staff/articles/4380/edit ...\n",
            "Using French language and my editor cookie...\n",
            "The web page has been read and it's title is « <title>Cranial Insertion | Manage Articles</title> » !\n",
            "- The latest article is here: https://www.cranial-insertion.com/article/4380\n",
            "- This article 4380 raw text is:\n"
          ]
        },
        {
          "output_type": "display_data",
          "data": {
            "text/plain": [
              "<IPython.core.display.Markdown object>"
            ],
            "text/markdown": "[cright=Dragonstorm Forecaster]Today's forecast:\nCloudy with a chance of Dragonstorms[/cright]Greetings and welcome back to another issue of Cranial Insertion! The prereleases for [i]Tarkir: Dragonstorm[/i] are in the books and the set is heading into stores this weekend, so it's time for our first look at the fearsome Dragons -- and I suppose some other creatures, too -- and the new mechanics in this set.\n\nAs always, if you have questions for us, whether they're about [i]Tarkir: Dragonstorm[/i] or [b]Magic[/b] cards from any other set, you can send your questions by email to [email]moko@cranialinsertion.com[/email], or send short questions on X to @CranialTweet. One of our authors will send you an answer, and your question may even appear in a future article.\n\nAnd now, without further ado, let us behold some questions about Dragons!\n\n[hr]\n[q]What counts as a Dragon for [c=Caustic Exhale]behold a Dragon[/c]?[/q]\n\n[a]Something is a Dragon if (and only if) it has the creature type Dragon on its type line, such as [c]Armament Dragon[/c] just to name one of many examples. Having artwork that looks like a Dragon doesn't count -- sorry, [c=Ugin, Eye of the Storms]Ugin[/c] -- and just having the word \"Dragon\" in the card name doesn't count, either -- sorry, [c]Sarkhan, Dragon Ascendant[/c].[/a]\n\n[hr]\n[q]If I choose a Dragon I control to behold for [c]Osseous Exhale[/c] and the Dragon gets destroyed in response, do I still gain 2 life?[/q]\n\n[a]Sure. Osseous Exhale only checks whether a Dragon was beheld at the time it was cast. It doesn't matter if the Dragon is still around at the time Osseous Exhale resolves, you gain 2 life either way.[/a]\n\n[hr]\n[q]If [c]Poised Practitioner[/c] is the second spell I cast in a turn, does it get a +1/+1 counter?[/q]\n\n[a]No. Poised Practitioner needs to be on the battlefield at the time you cast the second spell in a turn for its ability to trigger. If it's the second spell you're casting, it's on the stack at the time you're casting it, so its ability doesn't trigger.[/a]\n\n[hr]\n[q]If I control [c]Taigam, Master Opportunist[/c] and cast [c]Channeled Dragonfire[/c] as my second spell for the turn, do both the original and the copy resolve before Taigam suspends the original?[/q]\n\n[a]No. Taigam's ability goes on the stack above Channeled Dragonfire and resolves first. It makes a copy of Channeled Dragonfire, and then it exiles Channeled Dragonfire with four time counters on it. The copy resolves now-ish, and the suspended one will get a chance to resolve when its last time counter goes off, but the original Channeled Dragonfire won't resolve.[/a]\n\n[hr]\n[q]I control [c]Taigam, Master Opportunist[/c] and the second spell I cast is the Omen spell [c=Stormshriek Feral // Flush Out]Flush Out[/c]. What happens?[/q]\n\n[a]Taigam's ability makes a copy of the spell, and it sees the copiable characteristics of Flush Out, so it puts a copy of Flush Out on the stack. Then it suspends the entire card, Dragon and Omen, with four time counters on it. The Flush Out copy resolves and does its discard+draw thing and then you shuffle it into the library, which means you simply shuffle your library because the copy is not represented by a physical card. Eventually, when the last time counter comes off of the suspended card, you get to cast it for free and you may choose to cast either the Dragon side or the Omen side of it.[/a]\n\n[hr]\n[q]When do I have to announce the target for [c]Glacial Dragonhunt[/c]?[/q]\n\n[a]Glacial Dragonhunt as a spell doesn't have a target, so you don't announce a target at the time you cast it. If you choose to discard a card during its resolution and that card turns out to be a nonland card, this triggers a reflexive triggered ability that has a target, and you announce its target when you put that ability on the stack.[/a]\n\n[hr]\n[q]Does [c]Bloodletter of Aclazotz[/c] double the value of X for [c]Kotis, the Fangkeeper[/c]'s triggered ability?[/q]\n\n[a]I'm afraid not. Bloodletter of Aclazotz causes your opponent to lose twice the amount of life due the damage that Kotis deals to them, but the X in Kotis's ability is the amount of damage it dealt, not the amount of life that was lost as a result of the damage.[/a]\n\n[hr]\n[cleft=Breaching Dragonstorm|TDM|101]When the sky looks like that, RUN![/cleft][q]Speaking of [c]Kotis, the Fangkeeper[/c], what's the time frame for casting the exiled cards?[/q]\n\n[a]Since the ability doesn't specify a duration for the \"you may cast\" effect, it means [i]right now[/i], during the resolution of Kotis's triggered ability. Any cards that you choose not to cast at that time, or that you can't cast because they lack targets or other prerequisites to cast, simply stay in exile indefinitely and uselessly.[/a]\n\n[hr]\n[q]In Two-Headed Giant, does the last part of [c]Betor, Kin to All[/c]'s ability just insta-kill my opposing team?[/q]\n\n[a]As long as the \"toughness 40 or greater\" condition is met, sure. Both players on your opponents' team simultaneously lose half their life rounded up at the same time, and the game sees their shared life total for each player's life total. For example, if the team's life total is 30, each opponent loses 15 life and their team ends up at 0 life. However, note that Betor only counts the total toughness of the creatures that you control individually. It does not consider the creatures your teammate controls.[/a]\n\n[hr]\n[q]If I control [c]The Sibsig Ceremony[/c] and I cast some creature, can I sacrifice it to give [c]Unburied Earthcarver[/c] a counter in response to the Ceremony's trigger and still get a Zombie Cleric token? [/q]\n\n[a]Yes, you can do that. The Ceremony's triggered ability will try and fail to destroy the creature, but the creation of the Zombie Cleric token is not contingent on this destruction, so you still get the token.[/a]\n\n[hr]\n[q]Can I sacrifice a creature token to [c]Sidisi, Regent of the Mire[/c]'s activated ability?[/q]\n\n[a]Sure, as long as you can target a creature card with mana value 1 in your graveyard. To activate Sidisi's ability, you first choose some number for X; then you choose an appropriate target, which is a creature card with mana value X+1 in your graveyard; finally you pay the cost, which involves sacrificing a creature with mana value X other than Sidisi. X=0 is a legal choice for the ability, and a creature token has a mana value of 0 (usually, unless it's a copy of something that has a nonzero mana value). [/a]\n\n[hr]\n[q]After I draw cards with [c]Narset, Jeskai Waymaster[/c]'s ability, can I cast any of the cards I drew?[/q]\n\n[a]If they're instants or have flash, sure. Narset's ability triggers and resolves in your end step, and players get priority in the end step, so you get the opportunity to cast spells from among the cards you drew.[/a]\n\n[hr]\n[q]For chapter III of [c]Awaken the Honored Dead[/c], when do I choose the target? Can I target the card I discarded?[/q]\n\n[a]Choosing to discard a card triggers a reflexive ability that requires a target, so you only choose a target after you discard. This means that you could target and bring back the card you just discarded, provided that it's a creature or land card, but this only benefits you if some triggered ability notices the card entering or leaving the graveyard. Otherwise, you achieve the same end result of the card being in your hand by simply choosing not to discard it in the first place.[/a]\n\n[hr]\n[q]Can I target [c]Zurgo's Vanguard[/c] with [c]Smile at Death[/c]'s triggered ability?[/q]\n\n[a]That depends on how many creatures you control. The ability that defines Zurgo's Vanguard's power is a characteristic-defining ability that functions at all times and in all zones, including in your graveyard, so Zurgo's Vanguard's power is only small enough to be a legal target for the ability if you control at most two creatures.[/a]\n\n[hr]\n[cright=Call the Spirit Dragons]Who you gonna call?[/cright][q]Does [c]Call the Spirit Dragons[/c]'s ability go on the stack even if I don't control a Dragon? In other words, could I respond to the trigger by casting a Dragon with flash and give it a +1/+1 counter with the ability?[/q]\n\n[a]Sure, that works. Call the Spirit Dragons's ability does not have an intervening-if clause that gets checked at the time the ability triggers. The ability goes on the stack regardless of how many Dragons you control, so you can make more Dragons in response to the ability.[/a]\n\n[hr]\n[q]If [c]Effortless Master[/c] is the second spell I cast in a turn, does it get the +1/+1 counters?[/q]\n\n[a]Absolutely. As Effortless Master resolves, the replacement effect checks how many spells you've cast this turn, and you have cast two or more spells this turn, so the condition for Effortless Master to get counters is satisfied.[/a]\n\n[hr]\n[q]If [c]New Way Forward[/c] deals an amount of damage that's lethal to my opponent but also causes me to draw more cards than I have left in my library, what happens?[/q]\n\n[a]The game ends in a draw. The delayed triggered ability from New Way Forward's prevention effect deals damage to your opponent and causes you to draw a bunch of cards, and then state-based actions are checked. State-based actions see that your opponent is at 0 or less life and that you've attempted to draw from an empty library, so both of you lose the game at the same time and the game is a draw.[/a]\n\n[hr]\n[q]If I control [c]Hollowmurk Siege[/c] with Sultai chosen, do I draw a card when [c]Host of the Hereafter[/c] enters with counters on it?[/q]\n\n[a]Yup! An ability that triggers when a counter is put on a permanent also triggers when a permanent enters with a counter on it. Also note that the ability would ordinarily trigger twice because Host of the Hereafter enters with two counters, but the ability is limited to triggering once each turn.[/a]\n\n[hr]\n[q]If [c]Mardu Siegebreaker[/c]'s ability triggers twice due to [c]Panharmonicon[/c] for example, what happens when its attack trigger resolves?[/q]\n\n[a]Thanks to Panharmonicon, there are two cards that fit the description of \"the exiled card\", and the ability simply performs its actions on both of those cards, so you'll make tapped and attacking token copies of both cards for each opponent.[/a]\n\n[hr]\n[q]What happens if [c]Mardu Siegebreaker[/c]'s ability exiles a [c=Cubwarden]mutate pile[/c]?[/q]\n\n[a]You'll get a very similar situation as in the previous question. Mardu Siegebreaker exiles one creature, but it turns into several individual cards in exile. All of those cards are \"the exiled card\", so you'll make token copies of each of those cards for each opponent.[/a]\n\n[hr]\n\nAnd that's all the time we have for today's episode. Thanks for reading, and until next time, watch out for stormy weather!\n\n- Carsten Haese\n"
          },
          "metadata": {}
        }
      ]
    },
    {
      "cell_type": "markdown",
      "source": [
        "----------------------\n",
        "\n",
        "## Translate the tags for Card Name to their French versions TODO: finish this!\n",
        "\n",
        "I already did this back in June 2024, I'm just going to do it again."
      ],
      "metadata": {
        "id": "svX500mBxev_"
      }
    },
    {
      "cell_type": "code",
      "source": [
        "print_paragraph(latest_article_text[:1000])"
      ],
      "metadata": {
        "colab": {
          "base_uri": "https://localhost:8080/",
          "height": 243
        },
        "id": "RhudjvbUxfWi",
        "outputId": "9d846e5c-fc45-484f-f4ca-ebb888cfd51d"
      },
      "execution_count": 41,
      "outputs": [
        {
          "output_type": "display_data",
          "data": {
            "text/plain": [
              "<IPython.core.display.Markdown object>"
            ],
            "text/markdown": "> [cright=Dragonstorm Forecaster]Today's forecast:\nCloudy with a chance of Dragonstorms[/cright]Greetings and welcome back to another issue of Cranial Insertion! The prereleases for [i]Tarkir: Dragonstorm[/i] are in the books and the set is heading into stores this weekend, so it's time for our first look at the fearsome Dragons -- and I suppose some other creatures, too -- and the new mechanics in this set.\n\nAs always, if you have questions for us, whether they're about [i]Tarkir: Dragonstorm[/i] or [b]Magic[/b] cards from any other set, you can send your questions by email to [email]moko@cranialinsertion.com[/email], or send short questions on X to @CranialTweet. One of our authors will send you an answer, and your question may even appear in a future article.\n\nAnd now, without further ado, let us behold some questions about Dragons!\n\n[hr]\n[q]What counts as a Dragon for [c=Caustic Exhale]behold a Dragon[/c]?[/q]\n\n[a]Something is a Dragon if (and only if) it has the creature type Dragon"
          },
          "metadata": {}
        }
      ]
    },
    {
      "cell_type": "code",
      "source": [
        "import re\n",
        "find_card_tag_name = re.compile(r\"\\[c\\][\\w ,']+\\[/c\\]\")\n",
        "\n",
        "card_tag_names = find_card_tag_name.findall(latest_article_text)\n",
        "\n",
        "for i, card_tag_name in enumerate(card_tag_names):\n",
        "    print(f\"The {i+1}-th card tag found in the article was named « {card_tag_name} »\")"
      ],
      "metadata": {
        "colab": {
          "base_uri": "https://localhost:8080/"
        },
        "id": "jNtZKlKfxxh1",
        "outputId": "2c774646-b989-4e77-a8b1-593922558e71"
      },
      "execution_count": 27,
      "outputs": [
        {
          "output_type": "stream",
          "name": "stdout",
          "text": [
            "The 1-th card tag found in the article was named « [c]Armament Dragon[/c] »\n",
            "The 2-th card tag found in the article was named « [c]Sarkhan, Dragon Ascendant[/c] »\n",
            "The 3-th card tag found in the article was named « [c]Osseous Exhale[/c] »\n",
            "The 4-th card tag found in the article was named « [c]Poised Practitioner[/c] »\n",
            "The 5-th card tag found in the article was named « [c]Taigam, Master Opportunist[/c] »\n",
            "The 6-th card tag found in the article was named « [c]Channeled Dragonfire[/c] »\n",
            "The 7-th card tag found in the article was named « [c]Taigam, Master Opportunist[/c] »\n",
            "The 8-th card tag found in the article was named « [c]Glacial Dragonhunt[/c] »\n",
            "The 9-th card tag found in the article was named « [c]Bloodletter of Aclazotz[/c] »\n",
            "The 10-th card tag found in the article was named « [c]Kotis, the Fangkeeper[/c] »\n",
            "The 11-th card tag found in the article was named « [c]Kotis, the Fangkeeper[/c] »\n",
            "The 12-th card tag found in the article was named « [c]Betor, Kin to All[/c] »\n",
            "The 13-th card tag found in the article was named « [c]The Sibsig Ceremony[/c] »\n",
            "The 14-th card tag found in the article was named « [c]Unburied Earthcarver[/c] »\n",
            "The 15-th card tag found in the article was named « [c]Sidisi, Regent of the Mire[/c] »\n",
            "The 16-th card tag found in the article was named « [c]Narset, Jeskai Waymaster[/c] »\n",
            "The 17-th card tag found in the article was named « [c]Awaken the Honored Dead[/c] »\n",
            "The 18-th card tag found in the article was named « [c]Zurgo's Vanguard[/c] »\n",
            "The 19-th card tag found in the article was named « [c]Smile at Death[/c] »\n",
            "The 20-th card tag found in the article was named « [c]Call the Spirit Dragons[/c] »\n",
            "The 21-th card tag found in the article was named « [c]Effortless Master[/c] »\n",
            "The 22-th card tag found in the article was named « [c]New Way Forward[/c] »\n",
            "The 23-th card tag found in the article was named « [c]Hollowmurk Siege[/c] »\n",
            "The 24-th card tag found in the article was named « [c]Host of the Hereafter[/c] »\n",
            "The 25-th card tag found in the article was named « [c]Mardu Siegebreaker[/c] »\n",
            "The 26-th card tag found in the article was named « [c]Panharmonicon[/c] »\n",
            "The 27-th card tag found in the article was named « [c]Mardu Siegebreaker[/c] »\n"
          ]
        }
      ]
    },
    {
      "cell_type": "markdown",
      "source": [
        "I need this, apparently... to use Scrython module (<https://pypi.org/project/scrython/>)."
      ],
      "metadata": {
        "id": "FREe6Dh_FXEt"
      }
    },
    {
      "cell_type": "code",
      "source": [
        "import nest_asyncio\n",
        "nest_asyncio.apply()\n",
        "from pprint import pprint"
      ],
      "metadata": {
        "colab": {
          "base_uri": "https://localhost:8080/",
          "height": 444
        },
        "id": "aToIGgPlzdyX",
        "outputId": "6cf95a63-4a19-4105-e7e0-dd40eb259fc4"
      },
      "execution_count": 28,
      "outputs": [
        {
          "output_type": "stream",
          "name": "stdout",
          "text": [
            "Collecting scrython\n",
            "  Downloading scrython-1.11.0-py3-none-any.whl.metadata (496 bytes)\n",
            "Requirement already satisfied: aiohttp in /usr/local/lib/python3.11/dist-packages (from scrython) (3.11.13)\n",
            "Collecting asyncio (from scrython)\n",
            "  Downloading asyncio-3.4.3-py3-none-any.whl.metadata (1.7 kB)\n",
            "Requirement already satisfied: aiohappyeyeballs>=2.3.0 in /usr/local/lib/python3.11/dist-packages (from aiohttp->scrython) (2.4.6)\n",
            "Requirement already satisfied: aiosignal>=1.1.2 in /usr/local/lib/python3.11/dist-packages (from aiohttp->scrython) (1.3.2)\n",
            "Requirement already satisfied: attrs>=17.3.0 in /usr/local/lib/python3.11/dist-packages (from aiohttp->scrython) (25.1.0)\n",
            "Requirement already satisfied: frozenlist>=1.1.1 in /usr/local/lib/python3.11/dist-packages (from aiohttp->scrython) (1.5.0)\n",
            "Requirement already satisfied: multidict<7.0,>=4.5 in /usr/local/lib/python3.11/dist-packages (from aiohttp->scrython) (6.1.0)\n",
            "Requirement already satisfied: propcache>=0.2.0 in /usr/local/lib/python3.11/dist-packages (from aiohttp->scrython) (0.3.0)\n",
            "Requirement already satisfied: yarl<2.0,>=1.17.0 in /usr/local/lib/python3.11/dist-packages (from aiohttp->scrython) (1.18.3)\n",
            "Requirement already satisfied: idna>=2.0 in /usr/local/lib/python3.11/dist-packages (from yarl<2.0,>=1.17.0->aiohttp->scrython) (3.10)\n",
            "Downloading scrython-1.11.0-py3-none-any.whl (35 kB)\n",
            "Downloading asyncio-3.4.3-py3-none-any.whl (101 kB)\n",
            "\u001b[2K   \u001b[90m━━━━━━━━━━━━━━━━━━━━━━━━━━━━━━━━━━━━━━━━\u001b[0m \u001b[32m101.8/101.8 kB\u001b[0m \u001b[31m5.3 MB/s\u001b[0m eta \u001b[36m0:00:00\u001b[0m\n",
            "\u001b[?25hInstalling collected packages: asyncio, scrython\n",
            "Successfully installed asyncio-3.4.3 scrython-1.11.0\n"
          ]
        },
        {
          "output_type": "display_data",
          "data": {
            "application/vnd.colab-display-data+json": {
              "pip_warning": {
                "packages": [
                  "asyncio"
                ]
              },
              "id": "e3214d0f8a3742b789189d761ea63420"
            }
          },
          "metadata": {}
        },
        {
          "output_type": "stream",
          "name": "stdout",
          "text": [
            "Requirement already satisfied: nest_asyncio in /usr/local/lib/python3.11/dist-packages (1.6.0)\n"
          ]
        }
      ]
    },
    {
      "cell_type": "markdown",
      "source": [
        "I wrote a first function to translate the name of an English card into French, using mtgsdk python module (<https://github.com/MagicTheGathering/mtg-sdk-python>) to access the great MTG API <https://docs.magicthegathering.io/>:"
      ],
      "metadata": {
        "id": "DV3mVMraFlch"
      }
    },
    {
      "cell_type": "code",
      "source": [
        "%%time\n",
        "!pip install mtgsdk\n",
        "import mtgsdk  # https://github.com/MagicTheGathering/mtg-sdk-python\n",
        "\n",
        "def translate_cardname_mtgsdk(cardname=\"Thalia, Guardian of Thraben\", lang='fr', language='French'):\n",
        "    cards = mtgsdk.Card.where(name=cardname).all()\n",
        "\n",
        "    cardname_fr = cardname\n",
        "    for card in cards:\n",
        "        if card.foreign_names:\n",
        "            foreign_name_fr = [ fn for fn in card.foreign_names if fn['language'] == language ]\n",
        "            # print(f\"Looking using card.foreign_names in {language} language:\")\n",
        "            # pprint(foreign_name_fr)\n",
        "            if len(foreign_name_fr) > 0:\n",
        "                if foreign_name_fr[0]['name']:\n",
        "                    cardname_fr = foreign_name_fr[0]['name']\n",
        "        else:\n",
        "            # print(f\"Looking using card.set: {card.set}, and name\")\n",
        "            cards_fr = mtgsdk.Card.where(set=card.set, name=cardname, lang=lang).all()\n",
        "            for card_fr in cards_fr:\n",
        "                if card_fr.name:\n",
        "                    cardname_fr = card_fr.name\n",
        "        if cardname_fr and cardname_fr != cardname:\n",
        "            return cardname_fr\n",
        "\n",
        "# Demo:\n",
        "cardname = \"Thalia, Guardian of Thraben\" # my favorite card lol lol\n",
        "print(f\"The card name in English is « {cardname} »\")\n",
        "cardname_fr = translate_cardname_mtgsdk(cardname)\n",
        "print(f\"The card name in French is « {cardname_fr} »\")"
      ],
      "metadata": {
        "colab": {
          "base_uri": "https://localhost:8080/"
        },
        "id": "wUxb9I7A_Fgd",
        "outputId": "e8027ac6-c178-4ec1-f2c8-9b06c4e6dd27"
      },
      "execution_count": 61,
      "outputs": [
        {
          "output_type": "stream",
          "name": "stdout",
          "text": [
            "Requirement already satisfied: mtgsdk in /usr/local/lib/python3.11/dist-packages (1.3.1)\n",
            "The card name in English is « Thalia, Guardian of Thraben »\n",
            "The card name in French is « Thalia, vigile de Thraben »\n",
            "CPU times: user 123 ms, sys: 15.7 ms, total: 139 ms\n",
            "Wall time: 8.44 s\n"
          ]
        }
      ]
    },
    {
      "cell_type": "markdown",
      "source": [
        "A second translation function, using scrython module (<https://pypi.org/project/scrython/>):"
      ],
      "metadata": {
        "id": "aQGU1xqwFMpx"
      }
    },
    {
      "cell_type": "code",
      "source": [
        "!pip install scrython\n",
        "import scrython\n",
        "\n",
        "def translate_cardname_scrython(cardname=\"Thalia, Guardian of Thraben\", lang='fr'):\n",
        "    card = scrython.cards.Named(fuzzy=cardname)\n",
        "    #print(f\"\\n# Card name in English = « {card.name()} »\")\n",
        "    # get the card Object of the translated version of this card\n",
        "    set_code = card.set_code()\n",
        "    collector_number = card.collector_number()\n",
        "    try:\n",
        "        search_card_fr = scrython.Collector(code=set_code, collector_number=collector_number, lang=lang)\n",
        "        cardname_fr = search_card_fr.printed_name()\n",
        "        #print(f\"Nom de la carte en Français = « {cardname_fr} »\")\n",
        "        return cardname_fr\n",
        "    except scrython.ScryfallError:\n",
        "        #print(f\"Nom de la carte en Français = pas trouvé !!!\")\n",
        "        return cardname\n",
        "\n",
        "# Demo:\n",
        "cardname = \"Thalia, Guardian of Thraben\" # my favorite card lol lol\n",
        "print(f\"The card name in English is « {cardname} »\")\n",
        "cardname_fr = translate_cardname_scrython(cardname)\n",
        "print(f\"The card name in French is « {cardname_fr} »\")"
      ],
      "metadata": {
        "colab": {
          "base_uri": "https://localhost:8080/"
        },
        "id": "C2c3GP8jFBzO",
        "outputId": "76256b7f-a5fe-476f-c243-e4985b9730e4"
      },
      "execution_count": 62,
      "outputs": [
        {
          "output_type": "stream",
          "name": "stdout",
          "text": [
            "Requirement already satisfied: scrython in /usr/local/lib/python3.11/dist-packages (1.11.0)\n",
            "Requirement already satisfied: aiohttp in /usr/local/lib/python3.11/dist-packages (from scrython) (3.11.13)\n",
            "Requirement already satisfied: asyncio in /usr/local/lib/python3.11/dist-packages (from scrython) (3.4.3)\n",
            "Requirement already satisfied: aiohappyeyeballs>=2.3.0 in /usr/local/lib/python3.11/dist-packages (from aiohttp->scrython) (2.4.6)\n",
            "Requirement already satisfied: aiosignal>=1.1.2 in /usr/local/lib/python3.11/dist-packages (from aiohttp->scrython) (1.3.2)\n",
            "Requirement already satisfied: attrs>=17.3.0 in /usr/local/lib/python3.11/dist-packages (from aiohttp->scrython) (25.1.0)\n",
            "Requirement already satisfied: frozenlist>=1.1.1 in /usr/local/lib/python3.11/dist-packages (from aiohttp->scrython) (1.5.0)\n",
            "Requirement already satisfied: multidict<7.0,>=4.5 in /usr/local/lib/python3.11/dist-packages (from aiohttp->scrython) (6.1.0)\n",
            "Requirement already satisfied: propcache>=0.2.0 in /usr/local/lib/python3.11/dist-packages (from aiohttp->scrython) (0.3.0)\n",
            "Requirement already satisfied: yarl<2.0,>=1.17.0 in /usr/local/lib/python3.11/dist-packages (from aiohttp->scrython) (1.18.3)\n",
            "Requirement already satisfied: idna>=2.0 in /usr/local/lib/python3.11/dist-packages (from yarl<2.0,>=1.17.0->aiohttp->scrython) (3.10)\n",
            "The card name in English is « Thalia, Guardian of Thraben »\n",
            "The card name in French is « Thalia, gardienne de Thraben »\n"
          ]
        }
      ]
    },
    {
      "cell_type": "markdown",
      "source": [
        "I think I have to try to write a function using Magic-Ville (<https://www.magic-ville.com/fr/>) webpage or API, as they are the quickest website to provide French names...\n",
        "As I'm writing this, Tarkir: Dragonstorm has been pre-released, and both the mtgsdk and the Scrython approach fail on the newest cards... but they are translated on Magic-Ville!"
      ],
      "metadata": {
        "id": "2NReJQ6kHt--"
      }
    },
    {
      "cell_type": "code",
      "source": [
        "import urllib.parse\n",
        "\n",
        "def url_encode_cardname(cardname):\n",
        "  \"\"\"URL encodes the given card name.\"\"\"\n",
        "  return urllib.parse.quote(cardname)\n",
        "\n",
        "# Example usage (assuming 'CARDNAME' is defined somewhere):\n",
        "cardname = \"Thalia, Guardian of Thraben\"\n",
        "encoded_cardname = url_encode_cardname(cardname)\n",
        "print(encoded_cardname)\n",
        "\n",
        "cardname = \"Ugin, Eye of the Storms\"\n",
        "encoded_cardname = url_encode_cardname(cardname)\n",
        "print(encoded_cardname)"
      ],
      "metadata": {
        "colab": {
          "base_uri": "https://localhost:8080/"
        },
        "id": "840DsbSNKJfx",
        "outputId": "91cc50e6-5bfc-422d-c40e-23416d74a126"
      },
      "execution_count": 99,
      "outputs": [
        {
          "output_type": "stream",
          "name": "stdout",
          "text": [
            "Thalia%2C%20Guardian%20of%20Thraben\n",
            "Ugin%2C%20Eye%20of%20the%20Storms\n"
          ]
        }
      ]
    },
    {
      "cell_type": "code",
      "source": [
        "!pip install requests chardet\n",
        "import requests\n",
        "import chardet\n",
        "\n",
        "def search_magic_ville(cardname):\n",
        "    encoded_cardname = url_encode_cardname(cardname)\n",
        "    url = f\"https://magic-ville.com/fr/resultats?color_search=1&spe_options=selected&type_search=1&costx=1&endx=1&forx=1&recherche_titre={encoded_cardname}&fra=1&eng=1&graph_aff=1&ordre=NAMEFRA\"\n",
        "    response = requests.get(url) #, headers={'content-encoding': 'ISO-8'})\n",
        "    # response.encoding = 'ISO-8859-1'\n",
        "    # response.encoding = 'UTF-8'\n",
        "\n",
        "    # Use `requests` to check the encoding first (which may already work)\n",
        "    if response.encoding == 'ISO-8859-1':  # a common fallback encoding when auto-detect fails\n",
        "        # Guess the encoding using chardet if `requests` doesn't work well\n",
        "        result = chardet.detect(response.content)\n",
        "        encoding = result['encoding']\n",
        "        print(f\"Guessed Encoding: {encoding}\")\n",
        "    else:\n",
        "        encoding = response.encoding\n",
        "        print(f\"Encoding from response headers: {encoding}\")\n",
        "\n",
        "    return response.text\n",
        "\n",
        "from bs4 import BeautifulSoup\n",
        "\n",
        "def get_main_div(html_content):\n",
        "    soup = BeautifulSoup(html_content, 'html.parser')\n",
        "    main_div = soup.find(id='r_main1')\n",
        "    return main_div\n",
        "\n",
        "def extract_second_td_text(main_div):\n",
        "    \"\"\"\n",
        "    Extracts the text content of the second <td> tag with class \"S13\"\n",
        "    within a specific structure of the main_div.\n",
        "    \"\"\"\n",
        "    try:\n",
        "        table = main_div.find('table')\n",
        "        tbody = table  #.find('tbody')\n",
        "        tr = tbody.find('tr')\n",
        "        td_tags = tr.find_all('td', class_='S13')\n",
        "        if len(td_tags) >= 2:\n",
        "            return td_tags[1].get_text(strip=True)\n",
        "        #else:\n",
        "        #    print(\"Error: Less than two <td> tags with class 'S13' found.\")\n",
        "    except AttributeError:\n",
        "        print(\"Error: Could not find the table, tbody, tr, or <td> tags.\")\n",
        "    return"
      ],
      "metadata": {
        "colab": {
          "base_uri": "https://localhost:8080/"
        },
        "id": "xToxcqZiHtbC",
        "outputId": "3bc2c904-9fcf-4054-87b5-916a841eeab8"
      },
      "execution_count": 108,
      "outputs": [
        {
          "output_type": "stream",
          "name": "stdout",
          "text": [
            "Requirement already satisfied: chardet in /usr/local/lib/python3.11/dist-packages (5.2.0)\n"
          ]
        }
      ]
    },
    {
      "cell_type": "code",
      "source": [
        "%%time\n",
        "\n",
        "def translate_cardname_magic_ville(cardname):\n",
        "    result_page = search_magic_ville(cardname)\n",
        "    main_div = get_main_div(result_page)\n",
        "    cardname_fr = extract_second_td_text(main_div)\n",
        "    title2 = None\n",
        "    if cardname_fr is None or cardname_fr == cardname:\n",
        "        soup = BeautifulSoup(result_page, 'html.parser')\n",
        "        try:\n",
        "            title = soup.find('title').get_text()\n",
        "            print(f\"title = {title}\")\n",
        "        except Exception as exc:\n",
        "            print(\"Error:\", exc)\n",
        "            #print(f\"soup = {soup}\")\n",
        "            magic_ville_card_id = str(soup).replace('<script>location=\"', '').replace('\";</script>', '')\n",
        "            magic_ville_URL = f\"https://magic-ville.com/fr/{magic_ville_card_id}\"\n",
        "\n",
        "            response = requests.get(magic_ville_URL)#, headers={'content-encoding': 'UTF-8'})\n",
        "            #response.encoding = 'ISO-8859-1'\n",
        "            # response.encoding = 'UTF-8'\n",
        "\n",
        "            # Use `requests` to check the encoding first (which may already work)\n",
        "            if response.encoding == 'ISO-8859-1':  # a common fallback encoding when auto-detect fails\n",
        "                # Guess the encoding using chardet if `requests` doesn't work well\n",
        "                result = chardet.detect(response.content)\n",
        "                encoding = result['encoding']\n",
        "                print(f\"Guessed Encoding: {encoding}\")\n",
        "            else:\n",
        "                encoding = response.encoding\n",
        "                print(f\"Encoding from response headers: {encoding}\")\n",
        "\n",
        "            response_text = response.text\n",
        "            soup = BeautifulSoup(response_text, 'html.parser')\n",
        "            #print(f\"soup = {soup}\")\n",
        "            title = soup.find('title').get_text().replace(' - magic-ville.com', '')\n",
        "            print(f\"title = {title}\")\n",
        "            title2 = soup.find('div', class_='S16').get_text(strip=True)\n",
        "            print(f\"title2 = {title2}\")\n",
        "\n",
        "        cardname_fr = title\n",
        "        print(f\"cardname_fr = {cardname_fr}\")\n",
        "        print(f\"title2 = {title2}\")\n",
        "    return cardname_fr  #, title2\n",
        "\n",
        "\n",
        "# Demo:\n",
        "#cardname = \"Thalia, Guardian of Thraben\" # my favorite card lol lol\n",
        "#print(f\"The card name in English is « {cardname} »\")\n",
        "#cardname_fr = translate_cardname_magic_ville(cardname)\n",
        "#print(f\"The card name in French is « {cardname_fr} »\")\n",
        "\n",
        "cardname = \"Ugin, Eye of the Storms\"  # a recent card\n",
        "print(f\"The card name in English is « {cardname} »\")\n",
        "cardname_fr = translate_cardname_magic_ville(cardname)\n",
        "print(f\"The card name in French is « {cardname_fr} »\")"
      ],
      "metadata": {
        "colab": {
          "base_uri": "https://localhost:8080/"
        },
        "id": "_ynwJmVoLF36",
        "outputId": "e95bf8c4-a235-4391-d9b5-6a36f71af1fd"
      },
      "execution_count": 107,
      "outputs": [
        {
          "output_type": "stream",
          "name": "stdout",
          "text": [
            "The card name in English is « Ugin, Eye of the Storms »\n",
            "Error: Could not find the table, tbody, tr, or <td> tags.\n",
            "Error: 'NoneType' object has no attribute 'get_text'\n",
            "title = Ugin, l'il des tempêtes\n",
            "title2 = Ugin, l'il des tempêtes\n",
            "cardname_fr = Ugin, l'il des tempêtes\n",
            "title2 = Ugin, l'il des tempêtes\n",
            "The card name in French is « Ugin, l'il des tempêtes »\n",
            "CPU times: user 206 ms, sys: 22.6 ms, total: 229 ms\n",
            "Wall time: 27 s\n"
          ]
        }
      ]
    },
    {
      "cell_type": "markdown",
      "source": [
        "Of course, I'm unlucky enough to have picked the ONLY card in Tarkir: Dragonstorm with a weird non-LATIN1 symbol in its name...\n",
        "\n",
        "> Ugin, l'Œil des tempêtes => Ugin, l'il des tempêtes!\n",
        "\n",
        "OUPSIE. I tried and tried, nothing worked to get a sucessful handling of the encoding of the [Magic-Ville.com website](https://magic-ville.com/fr/carte.php?tdm409) <https://magic-ville.com/fr/carte.php?tdm409>."
      ],
      "metadata": {
        "id": "zXg1iYSjSknV"
      }
    },
    {
      "cell_type": "markdown",
      "source": [
        "So we can hopefully be more robust, by having three translation functions instead of a single one:"
      ],
      "metadata": {
        "id": "-62_Yq1kGDwq"
      }
    },
    {
      "cell_type": "code",
      "source": [
        "%%time\n",
        "def translate_cardname(cardname=\"Thalia, guardian of Thraben\", lang='fr', language='French'):\n",
        "    cardname_fr = translate_cardname_scrython(cardname, lang=lang)\n",
        "    if cardname_fr is None or cardname_fr == cardname:\n",
        "        cardname_fr = translate_cardname_mtgsdk(cardname, lang=lang, language=language)\n",
        "    if cardname_fr is None or cardname_fr == cardname:\n",
        "        assert(lang == 'fr')\n",
        "        assert(language == 'French')\n",
        "        cardname_fr = translate_cardname_magic_ville(cardname)\n",
        "\n",
        "    if cardname_fr is None or cardname_fr == cardname:\n",
        "        print(f\"Could not find a {language} name for « {cardname} »\")\n",
        "        return cardname\n",
        "    return cardname_fr\n",
        "\n",
        "# Demo\n",
        "for cardname in [\n",
        "        \"Black Lotus\",  # No French name! https://gatherer.wizards.com/Pages/Search/Default.aspx?name=+[Black Lotus]\n",
        "        \"Soulherder\",   # Should work!\n",
        "        \"Goblin Matron\",# Should work!\n",
        "        \"Thalia, Guardian of Thraben\",# Should work!\n",
        "        \"+2 Mace\", # ne marche pas\n",
        "        \"Ugin, Eye of the Storms\", # Does not work  yet with first two methods, but should work using https://www.Magic-Ville.com/fr/\n",
        "    ]:\n",
        "        # Demo:\n",
        "        print(f\"\\nThe card name in English is « {cardname} »\")\n",
        "        cardname_fr = translate_cardname(cardname)\n",
        "        print(f\"The card name in French is « {cardname_fr} »\")"
      ],
      "metadata": {
        "colab": {
          "base_uri": "https://localhost:8080/"
        },
        "id": "Tx-tJIzIxxWH",
        "outputId": "20bb6f9b-5d01-4ded-a776-cea69c553e55"
      },
      "execution_count": 63,
      "outputs": [
        {
          "output_type": "stream",
          "name": "stdout",
          "text": [
            "\n",
            "The card name in English is « Black Lotus »\n",
            "Could not find a French name for « Black Lotus »\n",
            "The card name in French is « Black Lotus »\n",
            "\n",
            "The card name in English is « Soulherder »\n",
            "The card name in French is « Berger des âmes »\n",
            "\n",
            "The card name in English is « Goblin Matron »\n",
            "The card name in French is « Matrone gobeline »\n",
            "\n",
            "The card name in English is « Thalia, Guardian of Thraben »\n",
            "The card name in French is « Thalia, gardienne de Thraben »\n",
            "\n",
            "The card name in English is « +2 Mace »\n",
            "Could not find a French name for « +2 Mace »\n",
            "The card name in French is « +2 Mace »\n",
            "CPU times: user 385 ms, sys: 56.7 ms, total: 441 ms\n",
            "Wall time: 9.42 s\n"
          ]
        }
      ]
    },
    {
      "cell_type": "markdown",
      "source": [
        "Now we're ready to try to translate the carnames tags automatically:"
      ],
      "metadata": {
        "id": "fqS2SYG7G8ty"
      }
    },
    {
      "cell_type": "code",
      "source": [
        "print_paragraph(latest_article_text[1000:3000])"
      ],
      "metadata": {
        "colab": {
          "base_uri": "https://localhost:8080/",
          "height": 406
        },
        "id": "c8JplESg9Vpd",
        "outputId": "32d634c8-e0d7-4684-ae51-ff522b4abc94"
      },
      "execution_count": 45,
      "outputs": [
        {
          "output_type": "display_data",
          "data": {
            "text/plain": [
              "<IPython.core.display.Markdown object>"
            ],
            "text/markdown": ">  on its type line, such as [c]Armament Dragon[/c] just to name one of many examples. Having artwork that looks like a Dragon doesn't count -- sorry, [c=Ugin, Eye of the Storms]Ugin[/c] -- and just having the word \"Dragon\" in the card name doesn't count, either -- sorry, [c]Sarkhan, Dragon Ascendant[/c].[/a]\n\n[hr]\n[q]If I choose a Dragon I control to behold for [c]Osseous Exhale[/c] and the Dragon gets destroyed in response, do I still gain 2 life?[/q]\n\n[a]Sure. Osseous Exhale only checks whether a Dragon was beheld at the time it was cast. It doesn't matter if the Dragon is still around at the time Osseous Exhale resolves, you gain 2 life either way.[/a]\n\n[hr]\n[q]If [c]Poised Practitioner[/c] is the second spell I cast in a turn, does it get a +1/+1 counter?[/q]\n\n[a]No. Poised Practitioner needs to be on the battlefield at the time you cast the second spell in a turn for its ability to trigger. If it's the second spell you're casting, it's on the stack at the time you're casting it, so its ability doesn't trigger.[/a]\n\n[hr]\n[q]If I control [c]Taigam, Master Opportunist[/c] and cast [c]Channeled Dragonfire[/c] as my second spell for the turn, do both the original and the copy resolve before Taigam suspends the original?[/q]\n\n[a]No. Taigam's ability goes on the stack above Channeled Dragonfire and resolves first. It makes a copy of Channeled Dragonfire, and then it exiles Channeled Dragonfire with four time counters on it. The copy resolves now-ish, and the suspended one will get a chance to resolve when its last time counter goes off, but the original Channeled Dragonfire won't resolve.[/a]\n\n[hr]\n[q]I control [c]Taigam, Master Opportunist[/c] and the second spell I cast is the Omen spell [c=Stormshriek Feral // Flush Out]Flush Out[/c]. What happens?[/q]\n\n[a]Taigam's ability makes a copy of the spell, and it sees the copiable characteristics of Flush Out, so it puts a copy of Flush Out on the stack. Then it suspends the entire card, Dragon and Omen, with four time cou"
          },
          "metadata": {}
        }
      ]
    },
    {
      "cell_type": "code",
      "source": [
        "%%time\n",
        "\n",
        "for i, card_tag_name in enumerate(card_tag_names):\n",
        "    cardname = card_tag_name.replace('[c]', '').replace('[/c]', '')\n",
        "    print(f\"The {i+1}-th card found is withing a tag « {card_tag_name} », named « {cardname} »...\")\n",
        "    cardname_fr = translate_cardname(cardname)\n",
        "    if cardname != cardname_fr:\n",
        "        print(f\"  => elle semble traduite en « {cardname_fr} »\")\n",
        "        latest_article_text = latest_article_text.replace(\n",
        "            f\"{card_tag_name}\",\n",
        "            f\"[c={cardname}]{cardname_fr}[/c]\"\n",
        "        )\n",
        "\n",
        "print_paragraph(latest_article_text[1000:3000])"
      ],
      "metadata": {
        "colab": {
          "base_uri": "https://localhost:8080/",
          "height": 1000
        },
        "id": "dPWgD-647T8x",
        "outputId": "49d10ca9-0707-4af4-cd1c-288a3c3c5136"
      },
      "execution_count": 64,
      "outputs": [
        {
          "output_type": "stream",
          "name": "stdout",
          "text": [
            "The 1-th card found is withing a tag « [c]Armament Dragon[/c] », named « Armament Dragon »...\n",
            "Could not find a French name for « Armament Dragon »\n",
            "The 2-th card found is withing a tag « [c]Sarkhan, Dragon Ascendant[/c] », named « Sarkhan, Dragon Ascendant »...\n",
            "Could not find a French name for « Sarkhan, Dragon Ascendant »\n",
            "The 3-th card found is withing a tag « [c]Osseous Exhale[/c] », named « Osseous Exhale »...\n",
            "Could not find a French name for « Osseous Exhale »\n",
            "The 4-th card found is withing a tag « [c]Poised Practitioner[/c] », named « Poised Practitioner »...\n",
            "Could not find a French name for « Poised Practitioner »\n",
            "The 5-th card found is withing a tag « [c]Taigam, Master Opportunist[/c] », named « Taigam, Master Opportunist »...\n",
            "Could not find a French name for « Taigam, Master Opportunist »\n",
            "The 6-th card found is withing a tag « [c]Channeled Dragonfire[/c] », named « Channeled Dragonfire »...\n",
            "Could not find a French name for « Channeled Dragonfire »\n",
            "The 7-th card found is withing a tag « [c]Taigam, Master Opportunist[/c] », named « Taigam, Master Opportunist »...\n",
            "Could not find a French name for « Taigam, Master Opportunist »\n",
            "The 8-th card found is withing a tag « [c]Glacial Dragonhunt[/c] », named « Glacial Dragonhunt »...\n",
            "Could not find a French name for « Glacial Dragonhunt »\n",
            "The 9-th card found is withing a tag « [c]Bloodletter of Aclazotz[/c] », named « Bloodletter of Aclazotz »...\n",
            "  => elle semble traduite en « Gravesang d'Aclazotz »\n",
            "The 10-th card found is withing a tag « [c]Kotis, the Fangkeeper[/c] », named « Kotis, the Fangkeeper »...\n",
            "Could not find a French name for « Kotis, the Fangkeeper »\n",
            "The 11-th card found is withing a tag « [c]Kotis, the Fangkeeper[/c] », named « Kotis, the Fangkeeper »...\n",
            "Could not find a French name for « Kotis, the Fangkeeper »\n",
            "The 12-th card found is withing a tag « [c]Betor, Kin to All[/c] », named « Betor, Kin to All »...\n",
            "Could not find a French name for « Betor, Kin to All »\n",
            "The 13-th card found is withing a tag « [c]The Sibsig Ceremony[/c] », named « The Sibsig Ceremony »...\n",
            "Could not find a French name for « The Sibsig Ceremony »\n",
            "The 14-th card found is withing a tag « [c]Unburied Earthcarver[/c] », named « Unburied Earthcarver »...\n",
            "Could not find a French name for « Unburied Earthcarver »\n",
            "The 15-th card found is withing a tag « [c]Sidisi, Regent of the Mire[/c] », named « Sidisi, Regent of the Mire »...\n",
            "Could not find a French name for « Sidisi, Regent of the Mire »\n",
            "The 16-th card found is withing a tag « [c]Narset, Jeskai Waymaster[/c] », named « Narset, Jeskai Waymaster »...\n",
            "Could not find a French name for « Narset, Jeskai Waymaster »\n",
            "The 17-th card found is withing a tag « [c]Awaken the Honored Dead[/c] », named « Awaken the Honored Dead »...\n",
            "Could not find a French name for « Awaken the Honored Dead »\n",
            "The 18-th card found is withing a tag « [c]Zurgo's Vanguard[/c] », named « Zurgo's Vanguard »...\n",
            "Could not find a French name for « Zurgo's Vanguard »\n",
            "The 19-th card found is withing a tag « [c]Smile at Death[/c] », named « Smile at Death »...\n",
            "Could not find a French name for « Smile at Death »\n",
            "The 20-th card found is withing a tag « [c]Call the Spirit Dragons[/c] », named « Call the Spirit Dragons »...\n",
            "Could not find a French name for « Call the Spirit Dragons »\n",
            "The 21-th card found is withing a tag « [c]Effortless Master[/c] », named « Effortless Master »...\n",
            "Could not find a French name for « Effortless Master »\n",
            "The 22-th card found is withing a tag « [c]New Way Forward[/c] », named « New Way Forward »...\n",
            "Could not find a French name for « New Way Forward »\n",
            "The 23-th card found is withing a tag « [c]Hollowmurk Siege[/c] », named « Hollowmurk Siege »...\n",
            "Could not find a French name for « Hollowmurk Siege »\n",
            "The 24-th card found is withing a tag « [c]Host of the Hereafter[/c] », named « Host of the Hereafter »...\n",
            "Could not find a French name for « Host of the Hereafter »\n",
            "The 25-th card found is withing a tag « [c]Mardu Siegebreaker[/c] », named « Mardu Siegebreaker »...\n",
            "Could not find a French name for « Mardu Siegebreaker »\n",
            "The 26-th card found is withing a tag « [c]Panharmonicon[/c] », named « Panharmonicon »...\n",
            "  => elle semble traduite en « Panharmonicus »\n",
            "The 27-th card found is withing a tag « [c]Mardu Siegebreaker[/c] », named « Mardu Siegebreaker »...\n",
            "Could not find a French name for « Mardu Siegebreaker »\n"
          ]
        },
        {
          "output_type": "display_data",
          "data": {
            "text/plain": [
              "<IPython.core.display.Markdown object>"
            ],
            "text/markdown": ">  on its type line, such as [c]Armament Dragon[/c] just to name one of many examples. Having artwork that looks like a Dragon doesn't count -- sorry, [c=Ugin, Eye of the Storms]Ugin[/c] -- and just having the word \"Dragon\" in the card name doesn't count, either -- sorry, [c]Sarkhan, Dragon Ascendant[/c].[/a]\n\n[hr]\n[q]If I choose a Dragon I control to behold for [c]Osseous Exhale[/c] and the Dragon gets destroyed in response, do I still gain 2 life?[/q]\n\n[a]Sure. Osseous Exhale only checks whether a Dragon was beheld at the time it was cast. It doesn't matter if the Dragon is still around at the time Osseous Exhale resolves, you gain 2 life either way.[/a]\n\n[hr]\n[q]If [c]Poised Practitioner[/c] is the second spell I cast in a turn, does it get a +1/+1 counter?[/q]\n\n[a]No. Poised Practitioner needs to be on the battlefield at the time you cast the second spell in a turn for its ability to trigger. If it's the second spell you're casting, it's on the stack at the time you're casting it, so its ability doesn't trigger.[/a]\n\n[hr]\n[q]If I control [c]Taigam, Master Opportunist[/c] and cast [c]Channeled Dragonfire[/c] as my second spell for the turn, do both the original and the copy resolve before Taigam suspends the original?[/q]\n\n[a]No. Taigam's ability goes on the stack above Channeled Dragonfire and resolves first. It makes a copy of Channeled Dragonfire, and then it exiles Channeled Dragonfire with four time counters on it. The copy resolves now-ish, and the suspended one will get a chance to resolve when its last time counter goes off, but the original Channeled Dragonfire won't resolve.[/a]\n\n[hr]\n[q]I control [c]Taigam, Master Opportunist[/c] and the second spell I cast is the Omen spell [c=Stormshriek Feral // Flush Out]Flush Out[/c]. What happens?[/q]\n\n[a]Taigam's ability makes a copy of the spell, and it sees the copiable characteristics of Flush Out, so it puts a copy of Flush Out on the stack. Then it suspends the entire card, Dragon and Omen, with four time cou"
          },
          "metadata": {}
        },
        {
          "output_type": "stream",
          "name": "stdout",
          "text": [
            "CPU times: user 823 ms, sys: 91.6 ms, total: 914 ms\n",
            "Wall time: 17.8 s\n"
          ]
        }
      ]
    },
    {
      "cell_type": "markdown",
      "source": [
        "Now that it worked using a few cells, on a given article, let's write a function which does exactly this but on a given text, so we can add it in the translation pipeline."
      ],
      "metadata": {
        "id": "BbvVLALF8CWG"
      }
    },
    {
      "cell_type": "code",
      "source": [
        "def translate_card_tag_names(latest_article_text, lang='fr'):\n",
        "    import re\n",
        "    find_card_tag_name = re.compile(r\"\\[c\\][\\w ,']+\\[/c\\]\")\n",
        "\n",
        "    card_tag_names = find_card_tag_name.findall(latest_article_text)\n",
        "\n",
        "    for i, card_tag_name in enumerate(card_tag_names):\n",
        "        cardname = card_tag_name.replace('[c]', '').replace('[/c]', '')\n",
        "        print(f\"The {i+1}-th card found is withing a tag « {card_tag_name} », named « {cardname} »...\")\n",
        "        cardname_fr = translate_cardname(cardname, lang=lang)\n",
        "        if cardname != cardname_fr:\n",
        "            print(f\"  => elle semble traduite en « {cardname_fr} »\")\n",
        "            latest_article_text = latest_article_text.replace(\n",
        "                f\"{card_tag_name}\",\n",
        "                f\"[c={cardname}]{cardname_fr}[/c]\"\n",
        "            )\n",
        "    return latest_article_text"
      ],
      "metadata": {
        "id": "9FNHlHJm8MM1"
      },
      "execution_count": 44,
      "outputs": []
    },
    {
      "cell_type": "code",
      "source": [
        "%%time\n",
        "latest_article_text = translate_cardname(latest_article_text)\n",
        "print_paragraph(latest_article_text)"
      ],
      "metadata": {
        "id": "i45jOUYk9JJs"
      },
      "execution_count": null,
      "outputs": []
    },
    {
      "cell_type": "markdown",
      "source": [
        "------------------\n",
        "\n",
        "## Now, let's translate the entire article!\n",
        "\n",
        "I want to be able to obtain:\n",
        "\n",
        "- the entire raw text,\n",
        "- its splitting into paragraphs,\n",
        "- their translations,\n",
        "\n",
        "just from a given (or the latest) article ID."
      ],
      "metadata": {
        "id": "GIPJTz0aeNYh"
      }
    },
    {
      "cell_type": "code",
      "source": [
        "from tqdm.notebook import tqdm"
      ],
      "metadata": {
        "id": "BJphBvkX18kw"
      },
      "execution_count": 24,
      "outputs": []
    },
    {
      "cell_type": "code",
      "source": [
        "def get_and_translate_article_text(article_id=None, translate=False):\n",
        "\n",
        "    if article_id is None:\n",
        "        try:\n",
        "            article_id = get_latest_article_id()\n",
        "        except:\n",
        "            article_id = 4380  # etc, see https://www.cranial-insertion.com/archive for the entire list\n",
        "\n",
        "    latest_article_text, latest_article_title, latest_article_date, soup = get_article_text(article_id)\n",
        "\n",
        "    article_content = latest_article_text\n",
        "    article_paragraphs = article_content.split(\"\\n\\n\")\n",
        "    translated_paragraphs = []\n",
        "\n",
        "    for i, paragraph in tqdm(enumerate(article_paragraphs)):\n",
        "        print(f\"\\n\\n{i}-th English paragraph (of length {len(paragraph)} letters and {len(paragraph.split(' '))} words)\")\n",
        "        print_paragraph(paragraph)\n",
        "\n",
        "        if translate:\n",
        "            translated_paragraph = en2fr(paragraph)\n",
        "            print(f\"Translated {i}-th paragraph in French (of length {len(translated_paragraph)} letters and {len(translated_paragraph.split(' '))} words)\")\n",
        "            print_paragraph(translated_paragraph)\n",
        "            translated_paragraphs.append(translated_paragraph)\n",
        "\n",
        "    return article_id, latest_article_text, latest_article_title, latest_article_date, article_paragraphs, translated_paragraphs"
      ],
      "metadata": {
        "id": "RFYeo4gO0xdY"
      },
      "execution_count": 25,
      "outputs": []
    },
    {
      "cell_type": "code",
      "source": [
        "%%time\n",
        "article_id, latest_article_text, latest_article_title, latest_article_date, article_paragraphs, translated_paragraphs = get_and_translate_article_text(article_id, translate=True)"
      ],
      "metadata": {
        "colab": {
          "base_uri": "https://localhost:8080/",
          "height": 1000,
          "referenced_widgets": [
            "ff41aea390694f358d6623ad5a44ce50",
            "5203346d92d04688a3f6f59f2853fee6",
            "017b0ad4cc6f47f988d3894bfe90dd2c",
            "f9c8e7a012bc498e879fa6a7d7c42a86",
            "aa6bb36973254e48aebc140936912c65",
            "92615269faf349f0a1538e936127b79e",
            "58b4560073d542fa8b251dfba7150f8c",
            "20638ccd0c1c40bf8bc2ff843f8eaaa1",
            "2d0ab01e1b544e9482993540dce7c807",
            "3849528894b2444bbd44b39ee23b8ecd",
            "a854ece7118b482899e2ddf8269697b4"
          ]
        },
        "id": "5FpIJ8QceN2N",
        "outputId": "13cbeafb-255e-46b0-884c-f8b6e9ed3455"
      },
      "execution_count": null,
      "outputs": [
        {
          "output_type": "stream",
          "name": "stdout",
          "text": [
            "Reading the article at URL https://www.cranial-insertion.com/staff/articles/4376/edit ...\n",
            "Using French language and my admin cookie...\n",
            "The web page has been read and it's title is « <title>Cranial Insertion | Manage Articles</title> » !\n"
          ]
        },
        {
          "output_type": "display_data",
          "data": {
            "text/plain": [
              "0it [00:00, ?it/s]"
            ],
            "application/vnd.jupyter.widget-view+json": {
              "version_major": 2,
              "version_minor": 0,
              "model_id": "ff41aea390694f358d6623ad5a44ce50"
            }
          },
          "metadata": {}
        },
        {
          "output_type": "stream",
          "name": "stdout",
          "text": [
            "\n",
            "\n",
            "0-th English paragraph (of length 93 letters and 12 words)\n"
          ]
        },
        {
          "output_type": "display_data",
          "data": {
            "text/plain": [
              "<IPython.core.display.Markdown object>"
            ],
            "text/markdown": "> [cright=Living Death]\"Alex, the answer is \"What would be an\nexample of an oximoron?\"[/cright]"
          },
          "metadata": {}
        },
        {
          "output_type": "stream",
          "name": "stdout",
          "text": [
            "Translated 0-th paragraph in French (of length 87 letters and 10 words)\n"
          ]
        },
        {
          "output_type": "display_data",
          "data": {
            "text/plain": [
              "<IPython.core.display.Markdown object>"
            ],
            "text/markdown": "> [crightLiving Death]\"Alex, la réponse est \"Quel serait un exemple d'oximoron?\"[/cright]"
          },
          "metadata": {}
        },
        {
          "output_type": "stream",
          "name": "stdout",
          "text": [
            "\n",
            "\n",
            "1-th English paragraph (of length 226 letters and 38 words)\n"
          ]
        },
        {
          "output_type": "display_data",
          "data": {
            "text/plain": [
              "<IPython.core.display.Markdown object>"
            ],
            "text/markdown": "> Today we have a collection of questions found on the IRC Chatroom #magicjudges-rules and the Facebook group Ask the Judge - [b]Magic[/b]: The Gathering Rules and Policy Questions. Feel free to join us in either or both groups."
          },
          "metadata": {}
        },
        {
          "output_type": "stream",
          "name": "stdout",
          "text": [
            "Translated 1-th paragraph in French (of length 254 letters and 39 words)\n"
          ]
        },
        {
          "output_type": "display_data",
          "data": {
            "text/plain": [
              "<IPython.core.display.Markdown object>"
            ],
            "text/markdown": "> Aujourd'hui, nous avons une collection de questions trouvées sur le IRC Chatroom magicjudges-rules et le groupe Facebook Ask the Judge - [b]Magic[/b]: The Gathering Rules and Policy Questions. N'hésitez pas à nous rejoindre dans l'un ou les deux groupes."
          },
          "metadata": {}
        },
        {
          "output_type": "stream",
          "name": "stdout",
          "text": [
            "\n",
            "\n",
            "2-th English paragraph (of length 360 letters and 55 words)\n"
          ]
        },
        {
          "output_type": "display_data",
          "data": {
            "text/plain": [
              "<IPython.core.display.Markdown object>"
            ],
            "text/markdown": "> If you have any [b]Magic[/b] questions burning at the back of your brain, you can send them to us. We may even use them in a future article. If you have a short question, you can send it to us via our Twitter account at [url=https://twitter.com/CranialTweet]@CranialTweet[/url], and you can send us longer questions at [email]moko@cranialinsertion.com[/email]."
          },
          "metadata": {}
        },
        {
          "output_type": "stream",
          "name": "stdout",
          "text": [
            "Translated 2-th paragraph in French (of length 408 letters and 52 words)\n"
          ]
        },
        {
          "output_type": "display_data",
          "data": {
            "text/plain": [
              "<IPython.core.display.Markdown object>"
            ],
            "text/markdown": "> Si vous avez des questions magiques qui brûlent à l'arrière de votre cerveau, vous pouvez nous les envoyer..Nous pourrions même les utiliser dans un prochain article..Si vous avez une petite question, vous pouvez nous l'envoyer via notre compte Twitter à [urlhttps://twitter.com/CranialTweet]CranialTweet[/url], et vous pouvez nous envoyer des questions plus longues à [email]mokocranialinsertion.com[/email]"
          },
          "metadata": {}
        },
        {
          "output_type": "stream",
          "name": "stdout",
          "text": [
            "\n",
            "\n",
            "3-th English paragraph (of length 231 letters and 35 words)\n"
          ]
        },
        {
          "output_type": "display_data",
          "data": {
            "text/plain": [
              "<IPython.core.display.Markdown object>"
            ],
            "text/markdown": "> [hr]\n[Q] I have two [c]Squire[/c]s on the battlefield and I have [c]Custodi Soulbinders[/c] and four copies of [c]Bear Cub[/c] in my graveyard. If I cast [c]Living Death[/c], how many +1/+1 counters will Soulbinders enter with?[/Q]"
          },
          "metadata": {}
        },
        {
          "output_type": "stream",
          "name": "stdout",
          "text": [
            "Translated 3-th paragraph in French (of length 245 letters and 36 words)\n"
          ]
        },
        {
          "output_type": "display_data",
          "data": {
            "text/plain": [
              "<IPython.core.display.Markdown object>"
            ],
            "text/markdown": "> [hr] [Q] J'ai deux [c]Squire[/c]s sur le champ de bataille et j'ai [c]Custodi Soulbinders[/c] et quatre copies de [c]Bear Cub[/c] dans mon cimetière. Si je lance [c]Living Death[/c], combien de marqueurs +1/+1 Soulbinders entrera-t-il avec ?[/Q]"
          },
          "metadata": {}
        },
        {
          "output_type": "stream",
          "name": "stdout",
          "text": [
            "\n",
            "\n",
            "4-th English paragraph (of length 341 letters and 56 words)\n"
          ]
        },
        {
          "output_type": "display_data",
          "data": {
            "text/plain": [
              "<IPython.core.display.Markdown object>"
            ],
            "text/markdown": "> [A] Custodi Soulbinders will enter with zero +1/+1 counters. Souldbinders and the Bears will enter simultaneously. Soulbinders' first ability is a replacement effect that checks to see how many creatures are on the battlefield just before it enters. At that point there are no creatures on the board, so it gets no counters as it enters.[/A]"
          },
          "metadata": {}
        },
        {
          "output_type": "stream",
          "name": "stdout",
          "text": [
            "Translated 4-th paragraph in French (of length 369 letters and 59 words)\n"
          ]
        },
        {
          "output_type": "display_data",
          "data": {
            "text/plain": [
              "<IPython.core.display.Markdown object>"
            ],
            "text/markdown": "> [A] Custodi Soulbinders entrera avec zéro marqueur +1/+1. Souldbinders et les Bears entreront simultanément. La première capacité de Soulbinders est un effet de remplacement qui vérifie le nombre de créatures sur le champ de bataille juste avant d'entrer. À ce moment-là, il n'y a pas de créatures sur le plateau, donc il ne reçoit pas de marqueurs lorsqu'il entre.[/A]"
          },
          "metadata": {}
        },
        {
          "output_type": "stream",
          "name": "stdout",
          "text": [
            "\n",
            "\n",
            "5-th English paragraph (of length 266 letters and 44 words)\n"
          ]
        },
        {
          "output_type": "display_data",
          "data": {
            "text/plain": [
              "<IPython.core.display.Markdown object>"
            ],
            "text/markdown": "> [hr]\n[Q] My commander is [c]Grimgrin, Corpse-Born[/c]. Grimgrin was [c]Murder[/c]ed last turn and I choose to move him to the command zone. I control [c]Rooftop Storm[/c]. If I try to cast Grimgrin from the command zone, will he cost [m]2[/m] or will he be free?[/Q]"
          },
          "metadata": {}
        },
        {
          "output_type": "stream",
          "name": "stdout",
          "text": [
            "Translated 5-th paragraph in French (of length 293 letters and 44 words)\n"
          ]
        },
        {
          "output_type": "display_data",
          "data": {
            "text/plain": [
              "<IPython.core.display.Markdown object>"
            ],
            "text/markdown": "> [hr] [Q] Mon commandant est [c]Griggrin, Corpse-Born[/c]. Grimgrin a été [c]Murder[/c] dernier tour et je choisis de le déplacer dans la zone de commandement. Je contrôle [c]Rooftop Storm[/c]. Si j'essaie de lancer Grimgrin de la zone de commandement, va-t-il coûter [m]2[/m] ou sera-il libre?"
          },
          "metadata": {}
        },
        {
          "output_type": "stream",
          "name": "stdout",
          "text": [
            "\n",
            "\n",
            "6-th English paragraph (of length 291 letters and 51 words)\n"
          ]
        },
        {
          "output_type": "display_data",
          "data": {
            "text/plain": [
              "<IPython.core.display.Markdown object>"
            ],
            "text/markdown": "> [A] He will cost [m]2[/m]. \nCommander \"tax\" is an additional cost that must be paid in addition to the normal cost for casting your commander. Rooftop Storm gives you the option of replacing the normal cost of casting your Zombies with [m]0[/m]. This has no effect on additional costs.  [/A]"
          },
          "metadata": {}
        },
        {
          "output_type": "stream",
          "name": "stdout",
          "text": [
            "Translated 6-th paragraph in French (of length 309 letters and 51 words)\n"
          ]
        },
        {
          "output_type": "display_data",
          "data": {
            "text/plain": [
              "<IPython.core.display.Markdown object>"
            ],
            "text/markdown": "> [A] Il vous en coûtera [m]2[/m]. Commander \"taxe\" est un coût supplémentaire qui doit être payé en plus du coût normal pour lancer votre commandant. Rooftop Storm vous donne la possibilité de remplacer le coût normal de lancer vos Zombies par [m]0[/m]. Cela n'a aucun effet sur les coûts supplémentaires. [/A]"
          },
          "metadata": {}
        },
        {
          "output_type": "stream",
          "name": "stdout",
          "text": [
            "\n",
            "\n",
            "7-th English paragraph (of length 161 letters and 26 words)\n"
          ]
        },
        {
          "output_type": "display_data",
          "data": {
            "text/plain": [
              "<IPython.core.display.Markdown object>"
            ],
            "text/markdown": "> [hr]\n[Q] My opponent exiled [c]Wheel of Fate[/c] with [c]Reckless Impulse[/c]. She now claims she can cast Wheel of Fate because it's in exile. Is that true?[/Q]"
          },
          "metadata": {}
        },
        {
          "output_type": "stream",
          "name": "stdout",
          "text": [
            "Translated 7-th paragraph in French (of length 182 letters and 28 words)\n"
          ]
        },
        {
          "output_type": "display_data",
          "data": {
            "text/plain": [
              "<IPython.core.display.Markdown object>"
            ],
            "text/markdown": "> [hr] [Q] Mon adversaire a exilé [c]Wheel of Fate[/c] avec [c]Reckless Impulse[/c]. Elle prétend maintenant qu'elle peut lancer Wheel of Fate parce que c'est en exil. Est-ce vrai?[/Q]"
          },
          "metadata": {}
        },
        {
          "output_type": "stream",
          "name": "stdout",
          "text": [
            "\n",
            "\n",
            "8-th English paragraph (of length 176 letters and 34 words)\n"
          ]
        },
        {
          "output_type": "display_data",
          "data": {
            "text/plain": [
              "<IPython.core.display.Markdown object>"
            ],
            "text/markdown": "> [A] Your opponent is wrong. The part of suspend that lets you cast a card with no mana cost is casting it without paying its mana cost, not that it's casting it from exile.[/A]"
          },
          "metadata": {}
        },
        {
          "output_type": "stream",
          "name": "stdout",
          "text": [
            "Translated 8-th paragraph in French (of length 182 letters and 36 words)\n"
          ]
        },
        {
          "output_type": "display_data",
          "data": {
            "text/plain": [
              "<IPython.core.display.Markdown object>"
            ],
            "text/markdown": "> [A] Votre adversaire a tort. La partie de suspension qui vous permet de lancer une carte sans coût de mana est de la lancer sans payer son coût de mana, pas qu'il la jette de l'exil."
          },
          "metadata": {}
        },
        {
          "output_type": "stream",
          "name": "stdout",
          "text": [
            "\n",
            "\n",
            "9-th English paragraph (of length 378 letters and 58 words)\n"
          ]
        },
        {
          "output_type": "display_data",
          "data": {
            "text/plain": [
              "<IPython.core.display.Markdown object>"
            ],
            "text/markdown": "> [hr]\n[Q] I control four [c]Bear Cub[/c]s, [c]Agrus Kos, Eternal Soldier[/c], and [c]Thundering Raiju[/c]. None of my creatures are currently modified. I attack with the Raiju and have its attack trigger target Agrus. When Agrus's ability triggers because he became targeted, I pay the cost. After all these triggers resolve, how much damage will Raiju deal to each opponent?[/Q]"
          },
          "metadata": {}
        },
        {
          "output_type": "stream",
          "name": "stdout",
          "text": [
            "Translated 9-th paragraph in French (of length 422 letters and 61 words)\n"
          ]
        },
        {
          "output_type": "display_data",
          "data": {
            "text/plain": [
              "<IPython.core.display.Markdown object>"
            ],
            "text/markdown": "> [hr] [Q] Je contrôle quatre [c] Ours Cub[/c]s, [c]Agrus Kos, Eternal Soldier[/c] et [c]Thundering Raiju[/c].Aucune de mes créatures n'est actuellement modifiée.J'attaque avec le Raiju et ai sa cible de déclenchement d'attaque Agrus.Quand la capacité d'Agrus se déclenche parce qu'il a été ciblé, je paie le coût.Après que tous ces déclencheurs se soient résolus, combien de dégâts Raiju infligera-t-il à chaque adversaire?"
          },
          "metadata": {}
        },
        {
          "output_type": "stream",
          "name": "stdout",
          "text": [
            "\n",
            "\n",
            "10-th English paragraph (of length 102 letters and 17 words)\n"
          ]
        },
        {
          "output_type": "display_data",
          "data": {
            "text/plain": [
              "<IPython.core.display.Markdown object>"
            ],
            "text/markdown": "> [A] The Answer is between 15-19 damage, depending on when you let the trigger targeting Raiju resolve."
          },
          "metadata": {}
        },
        {
          "output_type": "stream",
          "name": "stdout",
          "text": [
            "Translated 10-th paragraph in French (of length 134 letters and 25 words)\n"
          ]
        },
        {
          "output_type": "display_data",
          "data": {
            "text/plain": [
              "<IPython.core.display.Markdown object>"
            ],
            "text/markdown": "> [A] La réponse se situe entre 15 et 19 points de dégâts, selon le moment où vous laissez le déclencheur cibler la résolution de Raiju."
          },
          "metadata": {}
        },
        {
          "output_type": "stream",
          "name": "stdout",
          "text": [
            "\n",
            "\n",
            "11-th English paragraph (of length 280 letters and 52 words)\n"
          ]
        },
        {
          "output_type": "display_data",
          "data": {
            "text/plain": [
              "<IPython.core.display.Markdown object>"
            ],
            "text/markdown": "> When Agrus's trigger resolves, it creates five copies of Raiju's trigger, one for each Bear and one for Raiju, making a total of six Raiju triggers. The last trigger to resolve has to be the one targeting Agrus, and the other five resolve before it in the order of your choosing. "
          },
          "metadata": {}
        },
        {
          "output_type": "stream",
          "name": "stdout",
          "text": [
            "Translated 11-th paragraph in French (of length 306 letters and 53 words)\n"
          ]
        },
        {
          "output_type": "display_data",
          "data": {
            "text/plain": [
              "<IPython.core.display.Markdown object>"
            ],
            "text/markdown": "> Lorsque le déclencheur d'Agrus se résout, il crée cinq copies du déclencheur de Raiju, une pour chaque Ours et une pour Raiju, ce qui fait un total de six déclencheurs de Raiju. Le dernier déclencheur à résoudre doit être celui ciblant Agrus, et les cinq autres résolvent avant dans l'ordre de votre choix."
          },
          "metadata": {}
        },
        {
          "output_type": "stream",
          "name": "stdout",
          "text": [
            "\n",
            "\n",
            "12-th English paragraph (of length 155 letters and 25 words)\n"
          ]
        },
        {
          "output_type": "display_data",
          "data": {
            "text/plain": [
              "<IPython.core.display.Markdown object>"
            ],
            "text/markdown": "> For our first example, we will have the trigger targeting Raiju resolve first, then the four triggers targeting Bears, and finally the one targeting Agrus."
          },
          "metadata": {}
        },
        {
          "output_type": "stream",
          "name": "stdout",
          "text": [
            "Translated 12-th paragraph in French (of length 174 letters and 27 words)\n"
          ]
        },
        {
          "output_type": "display_data",
          "data": {
            "text/plain": [
              "<IPython.core.display.Markdown object>"
            ],
            "text/markdown": "> Pour notre premier exemple, nous aurons le déclencheur ciblant la résolution de Raiju en premier, puis les quatre déclencheurs ciblant les ours, et enfin celui ciblant Agrus."
          },
          "metadata": {}
        },
        {
          "output_type": "stream",
          "name": "stdout",
          "text": [
            "\n",
            "\n",
            "13-th English paragraph (of length 538 letters and 98 words)\n"
          ]
        },
        {
          "output_type": "display_data",
          "data": {
            "text/plain": [
              "<IPython.core.display.Markdown object>"
            ],
            "text/markdown": "> Raiju gets a +1/+1 counter, no damage is dealt as Raiju only checks modified creatures other than himself. Total damage 0.\nBear #1 gets a +1/+1 counter, 1 damage is dealt as there is only one modified creature other than Raiju. Total damage 1.\nBear #2 gets a +1/+1 counter, 2 damage is dealt as there are now two modified creatures. Total damage 3.\nBear #3 gets a +1/+1 counter, 3 damage is dealt. Total damage 6.\nBear #4 gets a counter, 4 damage is dealt. Total damage of 10.\nAgrus get a a counter, 5 damage is dealt. Total damage of 15."
          },
          "metadata": {}
        },
        {
          "output_type": "stream",
          "name": "stdout",
          "text": [
            "Translated 13-th paragraph in French (of length 623 letters and 100 words)\n"
          ]
        },
        {
          "output_type": "display_data",
          "data": {
            "text/plain": [
              "<IPython.core.display.Markdown object>"
            ],
            "text/markdown": "> Raiju obtient un marqueur +1/+1, aucun dégât n'est infligé car Raiju ne vérifie que les créatures modifiées autres que lui-même..Total des dégâts 0.Ours 1 obtient un marqueur +1/+1, 1 dégât est infligé car il n'y a qu'une seule créature modifiée autre que Raiju.Total des dégâts 1.Ours 2 obtient un marqueur +1/+1, 2 dégâts sont infligés car il y a maintenant deux créatures modifiées.Total des dégâts 3.Ours 3 obtient un marqueur +1/+1, 3 dégâts sont infligés.Total des dégâts 6.Ours 4 obtient un marqueur, 4 dégâts sont infligés.Dégâts totaux de 10.Agrus obtenir un compteur, 5 dégâts sont infligés.Total des dégâts de 15"
          },
          "metadata": {}
        },
        {
          "output_type": "stream",
          "name": "stdout",
          "text": [
            "\n",
            "\n",
            "14-th English paragraph (of length 357 letters and 63 words)\n"
          ]
        },
        {
          "output_type": "display_data",
          "data": {
            "text/plain": [
              "<IPython.core.display.Markdown object>"
            ],
            "text/markdown": "> Now let's have the four Bears' triggers resolve first, then Raiju, followed by Agrus.\nBear #1, 1 damage is dealt. Total damage 1.\nBear #2, 2 damage is dealt. Total damage 3.\nBear #3, 3 damage id dealt. Total damage 6.\nBear #4, 4 damage is dealt. Total damage is 10.\nRaiju, 4 damage is dealt. Total damage is 14.\nAgrus, 5 damage is dealt. Total damage is 19."
          },
          "metadata": {}
        },
        {
          "output_type": "stream",
          "name": "stdout",
          "text": [
            "Translated 14-th paragraph in French (of length 464 letters and 76 words)\n"
          ]
        },
        {
          "output_type": "display_data",
          "data": {
            "text/plain": [
              "<IPython.core.display.Markdown object>"
            ],
            "text/markdown": "> Maintenant, faisons résoudre les déclencheurs des quatre ours en premier, puis Raiju, suivi d'Agrus..Ours 1, 1 dégâts est infligé.Total des dégâts 1.Ours 2, 2 dégâts sont infligés.Total des dégâts 3.Ours 3, 3 points de dégâts infligés.Total des dégâts 6.Ours 4, 4 points de dégâts sont infligés.Le total des dégâts est de 10.Raiju, 4 points de dégâts sont infligés.Le total des dégâts est de 14.Agrus, 5 points de dégâts sont infligés.Le total des dégâts est de 19"
          },
          "metadata": {}
        },
        {
          "output_type": "stream",
          "name": "stdout",
          "text": [
            "\n",
            "\n",
            "15-th English paragraph (of length 80 letters and 13 words)\n"
          ]
        },
        {
          "output_type": "display_data",
          "data": {
            "text/plain": [
              "<IPython.core.display.Markdown object>"
            ],
            "text/markdown": "> The later the trigger targeting Raiju resolves, the more the total damage.\n [/A]"
          },
          "metadata": {}
        },
        {
          "output_type": "stream",
          "name": "stdout",
          "text": [
            "Translated 15-th paragraph in French (of length 90 letters and 14 words)\n"
          ]
        },
        {
          "output_type": "display_data",
          "data": {
            "text/plain": [
              "<IPython.core.display.Markdown object>"
            ],
            "text/markdown": "> Plus le déclencheur ciblant Raiju est tardif, plus les dégâts totaux sont importants. [/A]"
          },
          "metadata": {}
        },
        {
          "output_type": "stream",
          "name": "stdout",
          "text": [
            "\n",
            "\n",
            "16-th English paragraph (of length 208 letters and 24 words)\n"
          ]
        },
        {
          "output_type": "display_data",
          "data": {
            "text/plain": [
              "<IPython.core.display.Markdown object>"
            ],
            "text/markdown": "> [hr]\n[cleft=Grafdigger's Cage]Alex, the answer is \"What is used to \nkeep the dead from escaping their graves?\"[/cleft][Q] Does [c]Grafdigger's Cage[/c] stop [c]Abhorrent Oculus[/c] from manifest-dreading?[/Q]"
          },
          "metadata": {}
        },
        {
          "output_type": "stream",
          "name": "stdout",
          "text": [
            "Translated 16-th paragraph in French (of length 236 letters and 30 words)\n"
          ]
        },
        {
          "output_type": "display_data",
          "data": {
            "text/plain": [
              "<IPython.core.display.Markdown object>"
            ],
            "text/markdown": "> [hr] [cleftCage de Graffiteur]Alex, la réponse est \"Qu'est-ce qui est utilisé pour empêcher les morts de s'échapper de leurs tombes?\"[/cleft][Q] Est-ce que [c]Cage de Graffiteur[/c] empêche [c]Oculus odieux[/c] de manifest-dreading?[/Q]"
          },
          "metadata": {}
        },
        {
          "output_type": "stream",
          "name": "stdout",
          "text": [
            "\n",
            "\n",
            "17-th English paragraph (of length 388 letters and 69 words)\n"
          ]
        },
        {
          "output_type": "display_data",
          "data": {
            "text/plain": [
              "<IPython.core.display.Markdown object>"
            ],
            "text/markdown": "> [A] Well, in the important ways, yes. They still \"manifest dread\", but some parts they can't complete. Manifest Dread is \"Look at the top two cards of your library. Manifest one of them, then put the cards you looked at that were not manifested this way into your graveyard.\" Since you can't put a creature from your library into play, both cards looked at are put into the graveyard.[/A]"
          },
          "metadata": {}
        },
        {
          "output_type": "stream",
          "name": "stdout",
          "text": [
            "Translated 17-th paragraph in French (of length 488 letters and 73 words)\n"
          ]
        },
        {
          "output_type": "display_data",
          "data": {
            "text/plain": [
              "<IPython.core.display.Markdown object>"
            ],
            "text/markdown": "> [A] Eh bien, dans les moyens importants, oui.Ils \"manifestent encore de l'effroi\", mais certaines parties ne peuvent pas être complétées.Manifest Dread est \"Regardez les deux cartes du dessus de votre bibliothèque.Manifestez l'un d'eux, puis mettez les cartes que vous avez regardées qui n'ont pas été manifestées de cette façon dans votre cimetière..Puisque vous ne pouvez pas mettre en jeu une créature de votre bibliothèque, les deux cartes regardées sont mises dans le cimetière..[/A]"
          },
          "metadata": {}
        },
        {
          "output_type": "stream",
          "name": "stdout",
          "text": [
            "\n",
            "\n",
            "18-th English paragraph (of length 328 letters and 56 words)\n"
          ]
        },
        {
          "output_type": "display_data",
          "data": {
            "text/plain": [
              "<IPython.core.display.Markdown object>"
            ],
            "text/markdown": "> [hr]\n[Q] Last turn my opponent stole my [c]Bear Cub[/c] by casting [c]Sower of Temptation[/c]. This turn I used [c]Ovinize[/c] to make the Sower lose all its abilities. I did this because I think I'll get my Bear Cub back, since the Sower no longer has the \"steal your creature\" ability. My opponent disagrees. Who is right?[/Q]"
          },
          "metadata": {}
        },
        {
          "output_type": "stream",
          "name": "stdout",
          "text": [
            "Translated 18-th paragraph in French (of length 323 letters and 53 words)\n"
          ]
        },
        {
          "output_type": "display_data",
          "data": {
            "text/plain": [
              "<IPython.core.display.Markdown object>"
            ],
            "text/markdown": "> [hr] [Q] Dernier tour, mon adversaire a volé mon [c]Bear Cub[/c] en lançant [c]Sower of Temptation[/c]. Ce tour, j'ai utilisé [c]Ovinize[/c] pour faire perdre au semeur toutes ses capacités. J'ai fait cela parce que je pense que je vais récupérer mon Bear Cub, puisque le semeur n'a plus la capacité \"voler votre créature\"."
          },
          "metadata": {}
        },
        {
          "output_type": "stream",
          "name": "stdout",
          "text": [
            "\n",
            "\n",
            "19-th English paragraph (of length 164 letters and 26 words)\n"
          ]
        },
        {
          "output_type": "display_data",
          "data": {
            "text/plain": [
              "<IPython.core.display.Markdown object>"
            ],
            "text/markdown": "> [A] Your opponent is correct. Removing the enters ability (that creates an effect with a duration) after the ability has resolved, doesn't stop it from functioning."
          },
          "metadata": {}
        },
        {
          "output_type": "stream",
          "name": "stdout",
          "text": [
            "Translated 19-th paragraph in French (of length 133 letters and 23 words)\n"
          ]
        },
        {
          "output_type": "display_data",
          "data": {
            "text/plain": [
              "<IPython.core.display.Markdown object>"
            ],
            "text/markdown": "> Retirer la capacité d'entrée (qui crée un effet avec une durée) après que la capacité a été résolue, ne l'empêche pas de fonctionner."
          },
          "metadata": {}
        },
        {
          "output_type": "stream",
          "name": "stdout",
          "text": [
            "\n",
            "\n",
            "20-th English paragraph (of length 370 letters and 60 words)\n"
          ]
        },
        {
          "output_type": "display_data",
          "data": {
            "text/plain": [
              "<IPython.core.display.Markdown object>"
            ],
            "text/markdown": "> If it helps, an example that seems more intuitive would be the following: My opponent used [c]Rootwater Matriarch[/c] to steel my [c]Hill Giant[/c] enchanted with [c]Spirit Link[/c]. Killing the Matriarch won't get the Hill Giant back, even though that removes where the steal ability came from. The duration is based on whether or not the Hill Giant is still enchanted."
          },
          "metadata": {}
        },
        {
          "output_type": "stream",
          "name": "stdout",
          "text": [
            "Translated 20-th paragraph in French (of length 398 letters and 66 words)\n"
          ]
        },
        {
          "output_type": "display_data",
          "data": {
            "text/plain": [
              "<IPython.core.display.Markdown object>"
            ],
            "text/markdown": "> Si cela aide, un exemple qui semble plus intuitif serait le suivant : Mon adversaire a utilisé [c]Rootwater Matriarch[/c] pour renforcer mon [c]Hill Giant[/c] enchanté par [c]Spirit Link[/c].Tuer la Matriarche ne ramènera pas le Géant de la Colline, même si cela enlève l'endroit d'où venait la capacité de vol..La durée est basée sur le fait que le Géant de la Colline soit encore enchanté ou non."
          },
          "metadata": {}
        },
        {
          "output_type": "stream",
          "name": "stdout",
          "text": [
            "\n",
            "\n",
            "21-th English paragraph (of length 193 letters and 32 words)\n"
          ]
        },
        {
          "output_type": "display_data",
          "data": {
            "text/plain": [
              "<IPython.core.display.Markdown object>"
            ],
            "text/markdown": "> So with the original question, removing Sower's abilities doesn't stop the steal effect. You have to remove the Sower to gain the creature back because that ends the duration of the effect.[/A]"
          },
          "metadata": {}
        },
        {
          "output_type": "stream",
          "name": "stdout",
          "text": [
            "Translated 21-th paragraph in French (of length 191 letters and 33 words)\n"
          ]
        },
        {
          "output_type": "display_data",
          "data": {
            "text/plain": [
              "<IPython.core.display.Markdown object>"
            ],
            "text/markdown": "> Donc, avec la question d'origine, retirer les capacités du Semeur n'arrête pas l'effet de vol. Vous devez retirer le Semeur pour récupérer la créature, car cela met fin à la durée de l'effet."
          },
          "metadata": {}
        },
        {
          "output_type": "stream",
          "name": "stdout",
          "text": [
            "\n",
            "\n",
            "22-th English paragraph (of length 162 letters and 23 words)\n"
          ]
        },
        {
          "output_type": "display_data",
          "data": {
            "text/plain": [
              "<IPython.core.display.Markdown object>"
            ],
            "text/markdown": "> [hr]\n[Q] So continuing with the last question, what if instead of [c]Ovinize[/c]ing the [c]Sower of Temptation[/c] I phased it out with [c]Reality Ripple[/c]?[/Q]"
          },
          "metadata": {}
        },
        {
          "output_type": "stream",
          "name": "stdout",
          "text": [
            "Translated 22-th paragraph in French (of length 193 letters and 26 words)\n"
          ]
        },
        {
          "output_type": "display_data",
          "data": {
            "text/plain": [
              "<IPython.core.display.Markdown object>"
            ],
            "text/markdown": "> [hr] [Q] Donc, en continuant avec la dernière question, que se passerait-il si au lieu de [c]Ovinize[/c]le Semeur de Tentation[/c] je l'éliminais progressivement avec [c]Reality Ripple[/c]?[/Q]"
          },
          "metadata": {}
        },
        {
          "output_type": "stream",
          "name": "stdout",
          "text": [
            "\n",
            "\n",
            "23-th English paragraph (of length 260 letters and 46 words)\n"
          ]
        },
        {
          "output_type": "display_data",
          "data": {
            "text/plain": [
              "<IPython.core.display.Markdown object>"
            ],
            "text/markdown": "> [A] You would get your creature back. If a creature phases out, it's treated as though it's no longer on the battlefield. The duration of its effect has been met, so the effect ends and the stolen creature returns to its last controller, usually its owner.[/A]"
          },
          "metadata": {}
        },
        {
          "output_type": "stream",
          "name": "stdout",
          "text": [
            "Translated 23-th paragraph in French (of length 310 letters and 50 words)\n"
          ]
        },
        {
          "output_type": "display_data",
          "data": {
            "text/plain": [
              "<IPython.core.display.Markdown object>"
            ],
            "text/markdown": "> [A] Vous récupéreriez votre créature. Si une créature sort progressivement, elle est traitée comme si elle n'était plus sur le champ de bataille. La durée de son effet a été atteinte, de sorte que l'effet se termine et que la créature volée retourne à son dernier contrôleur, généralement son propriétaire.[/A]"
          },
          "metadata": {}
        },
        {
          "output_type": "stream",
          "name": "stdout",
          "text": [
            "\n",
            "\n",
            "24-th English paragraph (of length 226 letters and 32 words)\n"
          ]
        },
        {
          "output_type": "display_data",
          "data": {
            "text/plain": [
              "<IPython.core.display.Markdown object>"
            ],
            "text/markdown": "> [hr]\n[Q] I block my opponent's attacking [c]Bear Cub[/c] with [c]Manor Gargoyle[/c]. After combat ends, the opponent then casts [c]Disfigure[/c] targeting my Gargoyle. They claim they just killed my Gargoyle. Is this true?[/Q]"
          },
          "metadata": {}
        },
        {
          "output_type": "stream",
          "name": "stdout",
          "text": [
            "Translated 24-th paragraph in French (of length 247 letters and 35 words)\n"
          ]
        },
        {
          "output_type": "display_data",
          "data": {
            "text/plain": [
              "<IPython.core.display.Markdown object>"
            ],
            "text/markdown": "> [hr] [Q] Je bloque l'attaque de mon adversaire [c]Bear Cub[/c] avec [c]Manor Gargoyle[/c]. Après la fin du combat, l'adversaire lance alors [c]Défigure[/c] ciblant ma Gargouille. Ils prétendent qu'ils viennent de tuer ma Gargoyle. Est-ce vrai?[/Q]"
          },
          "metadata": {}
        },
        {
          "output_type": "stream",
          "name": "stdout",
          "text": [
            "\n",
            "\n",
            "25-th English paragraph (of length 535 letters and 90 words)\n"
          ]
        },
        {
          "output_type": "display_data",
          "data": {
            "text/plain": [
              "<IPython.core.display.Markdown object>"
            ],
            "text/markdown": "> [A] It is not true, your Gargoyle lives through this. Many new players make this same wrong assumption. Damage doesn't reduce toughness. You have a 2/2 Gargoyle with 2 damage marked on it. Because it's indestructible, the state based action that tries to destroy it for having equal or more damage than it has toughness fails to do anything. If they want to get your Gargoyle into the graveyard, they need to give it enough [c=Dismember]-X/-X to make its toughness 0 or less[/c], or force you to [c=Diabolic Edict]sacrifice it[/c].[/A]"
          },
          "metadata": {}
        },
        {
          "output_type": "stream",
          "name": "stdout",
          "text": [
            "Translated 25-th paragraph in French (of length 609 letters and 95 words)\n"
          ]
        },
        {
          "output_type": "display_data",
          "data": {
            "text/plain": [
              "<IPython.core.display.Markdown object>"
            ],
            "text/markdown": "> [A] Ce n'est pas vrai, votre Gargoyle vit à travers cette.Beaucoup de nouveaux joueurs font la même hypothèse erronée.Les dommages ne réduisent pas la ténacité.Vous avez une gargouille 2/2 avec 2 dégâts marqués dessus.Parce qu'il est indestructible, l'action basée sur l'état qui tente de le détruire pour avoir des dégâts égaux ou plus qu'il n'a la dureté ne parvient pas à faire quoi que ce soit..S'ils veulent faire entrer votre Gargouille dans le cimetière, ils doivent lui donner assez de [cDismember]-X/-X pour rendre son endurance 0 ou moins[/c], ou vous forcer à [cDiabolic Edict]sacrifice it[/c].[/A]"
          },
          "metadata": {}
        },
        {
          "output_type": "stream",
          "name": "stdout",
          "text": [
            "\n",
            "\n",
            "26-th English paragraph (of length 120 letters and 20 words)\n"
          ]
        },
        {
          "output_type": "display_data",
          "data": {
            "text/plain": [
              "<IPython.core.display.Markdown object>"
            ],
            "text/markdown": "> [hr]\n[Q] If [c]Ragavan, Nimble Pilferer[/c] is my commander, can I cast him for his dash cost from the command zone?[/Q]"
          },
          "metadata": {}
        },
        {
          "output_type": "stream",
          "name": "stdout",
          "text": [
            "Translated 26-th paragraph in French (of length 141 letters and 24 words)\n"
          ]
        },
        {
          "output_type": "display_data",
          "data": {
            "text/plain": [
              "<IPython.core.display.Markdown object>"
            ],
            "text/markdown": "> [hr] [Q] Si [c]Ragavan, Nimble Pilferer[/c] est mon commandant, puis-je le jeter pour son coût de tableau de bord de la zone de commande?[/Q]"
          },
          "metadata": {}
        },
        {
          "output_type": "stream",
          "name": "stdout",
          "text": [
            "\n",
            "\n",
            "27-th English paragraph (of length 129 letters and 27 words)\n"
          ]
        },
        {
          "output_type": "display_data",
          "data": {
            "text/plain": [
              "<IPython.core.display.Markdown object>"
            ],
            "text/markdown": "> [A] Yes, you can. Dash can be used from any zone, so long as you are allowed to cast that card from that same zone normally. [/A]"
          },
          "metadata": {}
        },
        {
          "output_type": "stream",
          "name": "stdout",
          "text": [
            "Translated 27-th paragraph in French (of length 171 letters and 31 words)\n"
          ]
        },
        {
          "output_type": "display_data",
          "data": {
            "text/plain": [
              "<IPython.core.display.Markdown object>"
            ],
            "text/markdown": "> [A] Oui, vous pouvez. Dash peut être utilisé à partir de n'importe quelle zone, tant que vous êtes autorisé à lancer cette carte à partir de la même zone normalement. [/A]"
          },
          "metadata": {}
        },
        {
          "output_type": "stream",
          "name": "stdout",
          "text": [
            "\n",
            "\n",
            "28-th English paragraph (of length 108 letters and 20 words)\n"
          ]
        },
        {
          "output_type": "display_data",
          "data": {
            "text/plain": [
              "<IPython.core.display.Markdown object>"
            ],
            "text/markdown": "> [hr]\n[Q] Following up with the last question, do I have to pay commander tax if I dash out my commander?[/Q]"
          },
          "metadata": {}
        },
        {
          "output_type": "stream",
          "name": "stdout",
          "text": [
            "Translated 28-th paragraph in French (of length 121 letters and 21 words)\n"
          ]
        },
        {
          "output_type": "display_data",
          "data": {
            "text/plain": [
              "<IPython.core.display.Markdown object>"
            ],
            "text/markdown": "> [hr] [Q] Suite à la dernière question, dois-je payer la taxe de commandant si je me précipite hors de mon commandant?[/Q]"
          },
          "metadata": {}
        },
        {
          "output_type": "stream",
          "name": "stdout",
          "text": [
            "\n",
            "\n",
            "29-th English paragraph (of length 350 letters and 64 words)\n"
          ]
        },
        {
          "output_type": "display_data",
          "data": {
            "text/plain": [
              "<IPython.core.display.Markdown object>"
            ],
            "text/markdown": "> [A] Yes, you do. Suppose you cast Ragavan normally on turn one, then later he died and returned to the command zone. When you go to dash him he now costs [m]3[/m][m]R[/m] to dash. Then if he dies again and returns to the command zone, the next time you go to cast him he costs either [m]4[/m][m]R[/m] to cast normally or [m]5[/m][m]R[/m] to dash.[/A]"
          },
          "metadata": {}
        },
        {
          "output_type": "stream",
          "name": "stdout",
          "text": [
            "Translated 29-th paragraph in French (of length 372 letters and 72 words)\n"
          ]
        },
        {
          "output_type": "display_data",
          "data": {
            "text/plain": [
              "<IPython.core.display.Markdown object>"
            ],
            "text/markdown": "> [A] Oui, vous le faites. Supposons que vous lancez Ragavan normalement au premier tour, puis plus tard il est mort et est retourné à la zone de commande. Lorsque vous allez le lancer, il coûte maintenant [m] 3 [/m] [m] R [/m] à lancer. Puis s'il meurt à nouveau et retourne à la zone de commande, la prochaine fois que vous allez le lancer, il coûte soit [m] 4 [/m] R [/m]"
          },
          "metadata": {}
        },
        {
          "output_type": "stream",
          "name": "stdout",
          "text": [
            "\n",
            "\n",
            "30-th English paragraph (of length 199 letters and 37 words)\n"
          ]
        },
        {
          "output_type": "display_data",
          "data": {
            "text/plain": [
              "<IPython.core.display.Markdown object>"
            ],
            "text/markdown": "> [hr]\n[Q] I have eight cards in my hand. I go to my cleanup step and discard [c]Blazing Rootwalla[/c] to get down to maximum hand size. Can I cast the Rootwalla even though I'm in my cleanup step?[/Q]"
          },
          "metadata": {}
        },
        {
          "output_type": "stream",
          "name": "stdout",
          "text": [
            "Translated 30-th paragraph in French (of length 234 letters and 42 words)\n"
          ]
        },
        {
          "output_type": "display_data",
          "data": {
            "text/plain": [
              "<IPython.core.display.Markdown object>"
            ],
            "text/markdown": "> [hr] [Q] J'ai huit cartes dans ma main. Je vais à mon étape de nettoyage et je jette [c]Blazing Rootwalla[/c] pour descendre à la taille maximale de la main. Puis-je lancer le Rootwalla même si je suis dans mon étape de nettoyage?[/Q]"
          },
          "metadata": {}
        },
        {
          "output_type": "stream",
          "name": "stdout",
          "text": [
            "\n",
            "\n",
            "31-th English paragraph (of length 264 letters and 45 words)\n"
          ]
        },
        {
          "output_type": "display_data",
          "data": {
            "text/plain": [
              "<IPython.core.display.Markdown object>"
            ],
            "text/markdown": "> [A] Yes, you can. During most cleanup steps, no players get priority. However, if an ability triggers during the cleanup step, or a state based action applies during a cleanup step, then the active player gains priority and may cast spells and activate abilities. "
          },
          "metadata": {}
        },
        {
          "output_type": "stream",
          "name": "stdout",
          "text": [
            "Translated 31-th paragraph in French (of length 339 letters and 55 words)\n"
          ]
        },
        {
          "output_type": "display_data",
          "data": {
            "text/plain": [
              "<IPython.core.display.Markdown object>"
            ],
            "text/markdown": "> [A] Oui, vous pouvez. Pendant la plupart des étapes de nettoyage, aucun joueur n'obtient la priorité. Cependant, si une capacité se déclenche pendant l'étape de nettoyage, ou si une action basée sur l'état s'applique pendant une étape de nettoyage, alors le joueur actif gagne en priorité et peut lancer des sorts et activer des capacités."
          },
          "metadata": {}
        },
        {
          "output_type": "stream",
          "name": "stdout",
          "text": [
            "\n",
            "\n",
            "32-th English paragraph (of length 97 letters and 19 words)\n"
          ]
        },
        {
          "output_type": "display_data",
          "data": {
            "text/plain": [
              "<IPython.core.display.Markdown object>"
            ],
            "text/markdown": "> This is when you can cast the Rootwalla, as discarding it to madness puts a trigger on the stack."
          },
          "metadata": {}
        },
        {
          "output_type": "stream",
          "name": "stdout",
          "text": [
            "Translated 32-th paragraph in French (of length 113 letters and 22 words)\n"
          ]
        },
        {
          "output_type": "display_data",
          "data": {
            "text/plain": [
              "<IPython.core.display.Markdown object>"
            ],
            "text/markdown": "> C'est à ce moment-là que vous pouvez lancer le Rootwalla, car le jeter à la folie met un déclencheur sur la pile."
          },
          "metadata": {}
        },
        {
          "output_type": "stream",
          "name": "stdout",
          "text": [
            "\n",
            "\n",
            "33-th English paragraph (of length 350 letters and 65 words)\n"
          ]
        },
        {
          "output_type": "display_data",
          "data": {
            "text/plain": [
              "<IPython.core.display.Markdown object>"
            ],
            "text/markdown": "> A normal priority pass will begin from here and until all players pass in succession with an empty stack, players may add new items to the stack when they have priority. Once all players pass with an empty stack, this cleanup step ends and a new one begins. If that new cleanup ends normally, then the game will move on to the next player's turn.[/A]"
          },
          "metadata": {}
        },
        {
          "output_type": "stream",
          "name": "stdout",
          "text": [
            "Translated 33-th paragraph in French (of length 436 letters and 74 words)\n"
          ]
        },
        {
          "output_type": "display_data",
          "data": {
            "text/plain": [
              "<IPython.core.display.Markdown object>"
            ],
            "text/markdown": "> Une passe de priorité normale commencera à partir d'ici et jusqu'à ce que tous les joueurs passent successivement avec une pile vide, les joueurs peuvent ajouter de nouveaux objets à la pile quand ils ont la priorité. Une fois que tous les joueurs passent avec une pile vide, cette étape de nettoyage se termine et une nouvelle commence. Si ce nouveau nettoyage se termine normalement, alors la partie passera au tour du joueur suivant."
          },
          "metadata": {}
        },
        {
          "output_type": "stream",
          "name": "stdout",
          "text": [
            "\n",
            "\n",
            "34-th English paragraph (of length 295 letters and 46 words)\n"
          ]
        },
        {
          "output_type": "display_data",
          "data": {
            "text/plain": [
              "<IPython.core.display.Markdown object>"
            ],
            "text/markdown": "> [hr]\n[Q] While resolving [c]Burning Inquiry[/c] I discarded [c]Basking Rootwalla[/c] and two [c]Mountain[/c]s. My opponent controls a [c]Rest in Peace[/c]. My opponent claims I can't cast the Rootwalla for its Madness cost as it got exiled by Rest in Peace when I discarded it. Is this true?[/Q]"
          },
          "metadata": {}
        },
        {
          "output_type": "stream",
          "name": "stdout",
          "text": [
            "Translated 34-th paragraph in French (of length 214 letters and 40 words)\n"
          ]
        },
        {
          "output_type": "display_data",
          "data": {
            "text/plain": [
              "<IPython.core.display.Markdown object>"
            ],
            "text/markdown": "> [hr] [Q] Mon adversaire contrôle un [c]Repos en paix[/c]. Mon adversaire prétend que je ne peux pas lancer le Rootwalla pour son coût de folie car il a été exilé par Rest in Peace quand je l'ai rejeté. Est-ce vrai?"
          },
          "metadata": {}
        },
        {
          "output_type": "stream",
          "name": "stdout",
          "text": [
            "\n",
            "\n",
            "35-th English paragraph (of length 564 letters and 106 words)\n"
          ]
        },
        {
          "output_type": "display_data",
          "data": {
            "text/plain": [
              "<IPython.core.display.Markdown object>"
            ],
            "text/markdown": "> [A] Your opponent is wrong. You can cast your Rootwalla for its madness cost. The Rootwalla hasn't been exiled by Rest in Peace yet. This is because madness doesn't quite work the way most people think it does. If a card with madness gets discarded, it goes to exile instead of being put into its owner's graveyard. Then the next time a player would get priority, a trigger allowing its owner to cast it for its madness cost is put on the stack. When this trigger resolves, the owner may cast the card, but if they don't then the card is put into their graveyard. "
          },
          "metadata": {}
        },
        {
          "output_type": "stream",
          "name": "stdout",
          "text": [
            "Translated 35-th paragraph in French (of length 665 letters and 110 words)\n"
          ]
        },
        {
          "output_type": "display_data",
          "data": {
            "text/plain": [
              "<IPython.core.display.Markdown object>"
            ],
            "text/markdown": "> [A] Votre adversaire a tort.Vous pouvez lancer votre Rootwalla pour son coût de folie.Le Rootwalla n'a pas encore été exilé par Rest in Peace.C'est parce que la folie ne fonctionne pas comme la plupart des gens pensent qu'elle fonctionne..Si une carte avec la folie est rejetée, elle va à l'exil au lieu d'être mise dans le cimetière de son propriétaire.Ensuite, la prochaine fois qu'un joueur obtiendra la priorité, un déclencheur permettant à son propriétaire de le lancer pour son coût de folie est mis sur la pile..Lorsque ce déclencheur est résolu, le propriétaire peut lancer la carte, mais s'il ne le fait pas, la carte est placée dans son cimetière..(suite)"
          },
          "metadata": {}
        },
        {
          "output_type": "stream",
          "name": "stdout",
          "text": [
            "\n",
            "\n",
            "36-th English paragraph (of length 193 letters and 37 words)\n"
          ]
        },
        {
          "output_type": "display_data",
          "data": {
            "text/plain": [
              "<IPython.core.display.Markdown object>"
            ],
            "text/markdown": "> To get back to the original question, Rest in Peace can only exile a discarded Madness card after the owner has decided not to cast it for madness and choses to let it go to the graveyard.\n[/A]"
          },
          "metadata": {}
        },
        {
          "output_type": "stream",
          "name": "stdout",
          "text": [
            "Translated 36-th paragraph in French (of length 211 letters and 39 words)\n"
          ]
        },
        {
          "output_type": "display_data",
          "data": {
            "text/plain": [
              "<IPython.core.display.Markdown object>"
            ],
            "text/markdown": "> Pour revenir à la question initiale, Rest in Peace ne peut exiler une carte Madness abandonnée que lorsque le propriétaire a décidé de ne pas la lancer pour la folie et a choisi de la laisser aller au cimetière."
          },
          "metadata": {}
        },
        {
          "output_type": "stream",
          "name": "stdout",
          "text": [
            "\n",
            "\n",
            "37-th English paragraph (of length 276 letters and 46 words)\n"
          ]
        },
        {
          "output_type": "display_data",
          "data": {
            "text/plain": [
              "<IPython.core.display.Markdown object>"
            ],
            "text/markdown": "> [hr]\n[Q] My opponent pays [m]3[/m][m]U[/m] to gain level 2 on their [c]Stormchaser's Talent[/c]. Before it becomes level 2, I [c]Boomerang[/c] it to their hand. The opponent says they still get to return an instant or sorcery to their hand, I say they don't, who is right?[/Q]"
          },
          "metadata": {}
        },
        {
          "output_type": "stream",
          "name": "stdout",
          "text": [
            "Translated 37-th paragraph in French (of length 316 letters and 53 words)\n"
          ]
        },
        {
          "output_type": "display_data",
          "data": {
            "text/plain": [
              "<IPython.core.display.Markdown object>"
            ],
            "text/markdown": "> [hr] [Q] Mon adversaire paie [m]3[/m][m]U[/m] pour gagner le niveau 2 sur son Talent [/c]Stormchaser[/c]. Avant qu'il ne devienne le niveau 2, je [c] Boomerang[/c] à leur main. L'adversaire dit qu'il peut toujours retourner un instant ou de la sorcellerie à leur main, je dis qu'ils ne le font pas, qui a raison?[/Q]"
          },
          "metadata": {}
        },
        {
          "output_type": "stream",
          "name": "stdout",
          "text": [
            "\n",
            "\n",
            "38-th English paragraph (of length 372 letters and 70 words)\n"
          ]
        },
        {
          "output_type": "display_data",
          "data": {
            "text/plain": [
              "<IPython.core.display.Markdown object>"
            ],
            "text/markdown": "> [A] You are correct, they do not. Gaining a level is an ability that uses the stack and can be responded to. Stormchaser's level 2 ability is a trigger that triggers upon it becoming level 2 and happens only after it becomes level 2. If it's not on the battlefield when its level 2 ability resolves, there is no ability to trigger (nor a permanent to become level 2). [/A]"
          },
          "metadata": {}
        },
        {
          "output_type": "stream",
          "name": "stdout",
          "text": [
            "Translated 38-th paragraph in French (of length 440 letters and 76 words)\n"
          ]
        },
        {
          "output_type": "display_data",
          "data": {
            "text/plain": [
              "<IPython.core.display.Markdown object>"
            ],
            "text/markdown": "> Tu as raison, ils n'ont pas.Gagner un niveau est une capacité qui utilise la pile et à laquelle on peut répondre..La capacité de niveau 2 de Stormchaser est un déclencheur qui se déclenche lorsqu'il devient de niveau 2 et n'arrive qu'après qu'il devienne de niveau 2..S'il n'est pas sur le champ de bataille lorsque sa capacité de niveau 2 est résolue, il n'y a pas de capacité de déclenchement (ni de permanent pour devenir niveau 2)..[/A]"
          },
          "metadata": {}
        },
        {
          "output_type": "stream",
          "name": "stdout",
          "text": [
            "\n",
            "\n",
            "39-th English paragraph (of length 292 letters and 42 words)\n"
          ]
        },
        {
          "output_type": "display_data",
          "data": {
            "text/plain": [
              "<IPython.core.display.Markdown object>"
            ],
            "text/markdown": "> [hr]\n[cright=Bear Cub|PO2]Alex, the answer is \"What is another\nname for Ursine Child?\"[/cright][Q] I enchanted my opponent's [c]Bear Cub[/c] with my [c]Sigil of Sleep[/c]. If the Bear Cub goes unblocked attacking me, who chooses which creature I control gets returned to its owner's hand?[/Q]"
          },
          "metadata": {}
        },
        {
          "output_type": "stream",
          "name": "stdout",
          "text": [
            "Translated 39-th paragraph in French (of length 183 letters and 28 words)\n"
          ]
        },
        {
          "output_type": "display_data",
          "data": {
            "text/plain": [
              "<IPython.core.display.Markdown object>"
            ],
            "text/markdown": "> [hr] [crightBear CubPO2]Alex, la réponse est \"Quel est un autre nom pour Ursine Child ?\"[/cright][Q] J'ai enchanté le [c]Bear Cub[/c] de mon adversaire avec mon [c]Sigil of Sleep[/c]."
          },
          "metadata": {}
        },
        {
          "output_type": "stream",
          "name": "stdout",
          "text": [
            "\n",
            "\n",
            "40-th English paragraph (of length 60 letters and 12 words)\n"
          ]
        },
        {
          "output_type": "display_data",
          "data": {
            "text/plain": [
              "<IPython.core.display.Markdown object>"
            ],
            "text/markdown": "> [A] You get to choose as you control the Sigil of Sleep.[/A]"
          },
          "metadata": {}
        },
        {
          "output_type": "stream",
          "name": "stdout",
          "text": [
            "Translated 40-th paragraph in French (of length 60 letters and 10 words)\n"
          ]
        },
        {
          "output_type": "display_data",
          "data": {
            "text/plain": [
              "<IPython.core.display.Markdown object>"
            ],
            "text/markdown": "> [A] Vous pouvez choisir en contrôlant le Sigil of Sleep.[/A]"
          },
          "metadata": {}
        },
        {
          "output_type": "stream",
          "name": "stdout",
          "text": [
            "\n",
            "\n",
            "41-th English paragraph (of length 175 letters and 29 words)\n"
          ]
        },
        {
          "output_type": "display_data",
          "data": {
            "text/plain": [
              "<IPython.core.display.Markdown object>"
            ],
            "text/markdown": "> [hr]\n[Q] I attack with [c]Geist of Saint Traft[/c] while I control [c]Anointed Procession[/c]. When combat ends, will both Angel tokens get exiled or do I get to keep one?[/Q]"
          },
          "metadata": {}
        },
        {
          "output_type": "stream",
          "name": "stdout",
          "text": [
            "Translated 41-th paragraph in French (of length 208 letters and 34 words)\n"
          ]
        },
        {
          "output_type": "display_data",
          "data": {
            "text/plain": [
              "<IPython.core.display.Markdown object>"
            ],
            "text/markdown": "> [hr] [Q] J'attaque avec [c]Geist de Saint Traft[/c] pendant que je contrôle [c]Procession ointe[/c]. Quand le combat se termine, les deux jetons Ange seront-ils exilés ou est-ce que je peux en garder un ?[/Q]"
          },
          "metadata": {}
        },
        {
          "output_type": "stream",
          "name": "stdout",
          "text": [
            "\n",
            "\n",
            "42-th English paragraph (of length 232 letters and 39 words)\n"
          ]
        },
        {
          "output_type": "display_data",
          "data": {
            "text/plain": [
              "<IPython.core.display.Markdown object>"
            ],
            "text/markdown": "> [A] Both still get exiled. Saint Traft's triggered ability still made both tokens and tracks them to be exiled at the end of combat. Procession doesn't make tokens, it just changes how many tokens other cards and abilities make.[/A]"
          },
          "metadata": {}
        },
        {
          "output_type": "stream",
          "name": "stdout",
          "text": [
            "Translated 42-th paragraph in French (of length 278 letters and 50 words)\n"
          ]
        },
        {
          "output_type": "display_data",
          "data": {
            "text/plain": [
              "<IPython.core.display.Markdown object>"
            ],
            "text/markdown": "> [A] Les deux sont toujours exilés. La capacité déclenchée de Saint Traft a toujours fait les deux jetons et les suit pour être exilés à la fin du combat. La procession ne fait pas de jetons, elle change simplement le nombre de jetons que font les autres cartes et capacités.[/A]"
          },
          "metadata": {}
        },
        {
          "output_type": "stream",
          "name": "stdout",
          "text": [
            "\n",
            "\n",
            "43-th English paragraph (of length 221 letters and 39 words)\n"
          ]
        },
        {
          "output_type": "display_data",
          "data": {
            "text/plain": [
              "<IPython.core.display.Markdown object>"
            ],
            "text/markdown": "> [hr]\n[Q] I attack with [c]Geist of Saint Traft[/c], but before blocks, I cast [c]Eyes in the Skies[/c] choosing to populate the Angel token. When combat ends, will both Angel tokens get exiled or do I get to keep one?[/Q]"
          },
          "metadata": {}
        },
        {
          "output_type": "stream",
          "name": "stdout",
          "text": [
            "Translated 43-th paragraph in French (of length 265 letters and 46 words)\n"
          ]
        },
        {
          "output_type": "display_data",
          "data": {
            "text/plain": [
              "<IPython.core.display.Markdown object>"
            ],
            "text/markdown": "> [hr] [Q] J'attaque avec [c]Geist of Saint Traft[/c], mais avant les blocs, je lance [c]Eyes in the Skies[/c] en choisissant de remplir le jeton Angel. Quand le combat se termine, est-ce que les deux jetons Angel seront exilés ou est-ce que je peux en garder un?[/Q]"
          },
          "metadata": {}
        },
        {
          "output_type": "stream",
          "name": "stdout",
          "text": [
            "\n",
            "\n",
            "44-th English paragraph (of length 341 letters and 65 words)\n"
          ]
        },
        {
          "output_type": "display_data",
          "data": {
            "text/plain": [
              "<IPython.core.display.Markdown object>"
            ],
            "text/markdown": "> [A] You get to keep the one made by Eyes in the Skies. Unlike Anointed Procession from the last question, Eyes in the Skies makes the token and the token has no link to the ability that made the original Angel token. This includes that the second Angel token is not attacking, is not tapped, and it won't get exiled at the end of combat.[/A]"
          },
          "metadata": {}
        },
        {
          "output_type": "stream",
          "name": "stdout",
          "text": [
            "Translated 44-th paragraph in French (of length 360 letters and 69 words)\n"
          ]
        },
        {
          "output_type": "display_data",
          "data": {
            "text/plain": [
              "<IPython.core.display.Markdown object>"
            ],
            "text/markdown": "> [A] Vous obtenez de garder celui fait par les yeux dans les cieux. Contrairement à la procession ointe de la dernière question, les yeux dans les cieux fait le jeton et le jeton n'a aucun lien avec la capacité qui a fait le jeton Ange original. Cela inclut que le deuxième jeton Ange n'attaque pas, n'est pas tapoté, et il ne sera pas exilé à la fin du combat."
          },
          "metadata": {}
        },
        {
          "output_type": "stream",
          "name": "stdout",
          "text": [
            "\n",
            "\n",
            "45-th English paragraph (of length 110 letters and 16 words)\n"
          ]
        },
        {
          "output_type": "display_data",
          "data": {
            "text/plain": [
              "<IPython.core.display.Markdown object>"
            ],
            "text/markdown": "> [hr]\n[Q] I don't understand what [c]Emrakul, the World Anew[/c] has protection from. Can you clarify this?[/Q]"
          },
          "metadata": {}
        },
        {
          "output_type": "stream",
          "name": "stdout",
          "text": [
            "Translated 45-th paragraph in French (of length 111 letters and 17 words)\n"
          ]
        },
        {
          "output_type": "display_data",
          "data": {
            "text/plain": [
              "<IPython.core.display.Markdown object>"
            ],
            "text/markdown": "> [hr] [Q] Je ne comprends pas de quoi [c]Emrakul, le Monde Anew[/c] est protégé. Pouvez-vous clarifier cela?[/Q]"
          },
          "metadata": {}
        },
        {
          "output_type": "stream",
          "name": "stdout",
          "text": [
            "\n",
            "\n",
            "46-th English paragraph (of length 205 letters and 34 words)\n"
          ]
        },
        {
          "output_type": "display_data",
          "data": {
            "text/plain": [
              "<IPython.core.display.Markdown object>"
            ],
            "text/markdown": "> [A] Emrakul has protection from spells and separately protection from permanents cast \"this turn\". This turn is whichever turn it currently is, even if it's been many turns since Emrakul herself was cast. "
          },
          "metadata": {}
        },
        {
          "output_type": "stream",
          "name": "stdout",
          "text": [
            "Translated 46-th paragraph in French (of length 229 letters and 37 words)\n"
          ]
        },
        {
          "output_type": "display_data",
          "data": {
            "text/plain": [
              "<IPython.core.display.Markdown object>"
            ],
            "text/markdown": "> [A] Emrakul a une protection contre les sorts et une protection séparée contre les permanents lancés \"ce tour\". Ce tour est celui qu'il est actuellement, même si cela fait plusieurs tours depuis qu'Emrakul elle-même a été lancée."
          },
          "metadata": {}
        },
        {
          "output_type": "stream",
          "name": "stdout",
          "text": [
            "\n",
            "\n",
            "47-th English paragraph (of length 420 letters and 74 words)\n"
          ]
        },
        {
          "output_type": "display_data",
          "data": {
            "text/plain": [
              "<IPython.core.display.Markdown object>"
            ],
            "text/markdown": "> So for example, if I cast [c]Visara the Dreadful[/c] and gave her some [c]Lightning Greaves[/c] the same turn I cast her, she can't target and destroy Emrakul that turn. However, if I pass to my opponent's turn, Visara can now kill Emrakul as it's no longer the same turn Visara was cast. If I used [c]Goryo's Vengeance[/c] to reanimate Visara, then Visara could kill Emrakul that same turn as Visara wasn't cast at all."
          },
          "metadata": {}
        },
        {
          "output_type": "stream",
          "name": "stdout",
          "text": [
            "Translated 47-th paragraph in French (of length 454 letters and 74 words)\n"
          ]
        },
        {
          "output_type": "display_data",
          "data": {
            "text/plain": [
              "<IPython.core.display.Markdown object>"
            ],
            "text/markdown": "> Ainsi, par exemple, si je lance [c]Visara l'Effroyable [/c] et lui donne quelques [c]Lightning Greaves [/c] le même tour que je la lance, elle ne peut pas cibler et détruire Emrakul qui tourne.Cependant, si je passe au tour de mon adversaire, Visara peut maintenant tuer Emrakul car ce n'est plus le même tour que Visara a été jeté..Si j'utilisais [c]Goryo's Vengeance[/c] pour réanimer Visara, alors Visara pourrait tuer Emrakul le même tour que Visara."
          },
          "metadata": {}
        },
        {
          "output_type": "stream",
          "name": "stdout",
          "text": [
            "\n",
            "\n",
            "48-th English paragraph (of length 368 letters and 60 words)\n"
          ]
        },
        {
          "output_type": "display_data",
          "data": {
            "text/plain": [
              "<IPython.core.display.Markdown object>"
            ],
            "text/markdown": "> Emrakul's protection ability acts similar to having protection from Auras. Auras when cast target what they will enchant, so Emrakul is safe from most Auras. However, on later turns, an Aura could be moved from its original target, to enchant Emrakul. For example, you could move [c]Pacifism[/c] from a 1/1 Goblin token to Emrakul using [c]Crown of the Ages[/c]. \n[/A]"
          },
          "metadata": {}
        },
        {
          "output_type": "stream",
          "name": "stdout",
          "text": [
            "Translated 48-th paragraph in French (of length 439 letters and 63 words)\n"
          ]
        },
        {
          "output_type": "display_data",
          "data": {
            "text/plain": [
              "<IPython.core.display.Markdown object>"
            ],
            "text/markdown": "> La capacité de protection d'Emrakul est similaire à celle d'une protection contre les auras.Les auras quand elles sont lancées ciblent ce qu'elles enchanteront, donc Emrakul est à l'abri de la plupart des auras..Cependant, plus tard, une aura pourrait être déplacée de sa cible d'origine, pour enchanter Emrakul..Par exemple, vous pouvez déplacer [c]Pacifisme[/c] d'un jeton 1/1 Gobelin à Emrakul en utilisant [c]Couronne des âges[/c].[/A]"
          },
          "metadata": {}
        },
        {
          "output_type": "stream",
          "name": "stdout",
          "text": [
            "\n",
            "\n",
            "49-th English paragraph (of length 264 letters and 44 words)\n"
          ]
        },
        {
          "output_type": "display_data",
          "data": {
            "text/plain": [
              "<IPython.core.display.Markdown object>"
            ],
            "text/markdown": "> [hr]\n[Q] I cast [c]Season of Weaving[/c] choosing the two paws mode (to copy my [c]Arcanis the Omnipotent[/c]) and the three paws mode. Will I have to put one Arcanis into my graveyard due to the legend rule before bouncing all nonland and nontoken permanents?[/Q]"
          },
          "metadata": {}
        },
        {
          "output_type": "stream",
          "name": "stdout",
          "text": [
            "Translated 49-th paragraph in French (of length 309 letters and 50 words)\n"
          ]
        },
        {
          "output_type": "display_data",
          "data": {
            "text/plain": [
              "<IPython.core.display.Markdown object>"
            ],
            "text/markdown": "> [hr] [Q] Je lance [c]Season of Weaving[/c] en choisissant le mode à deux pattes (pour copier mon [c]Arcanis l'Omnipotent[/c]) et le mode à trois pattes. Devrai-je mettre un Arcanis dans mon cimetière en raison de la règle de légende avant de rebondir tous les permanents non terrestres et non symboliques?[/Q]"
          },
          "metadata": {}
        },
        {
          "output_type": "stream",
          "name": "stdout",
          "text": [
            "\n",
            "\n",
            "50-th English paragraph (of length 285 letters and 51 words)\n"
          ]
        },
        {
          "output_type": "display_data",
          "data": {
            "text/plain": [
              "<IPython.core.display.Markdown object>"
            ],
            "text/markdown": "> [A] You will not and you can not. The legend rule is a state based action. It's never checked in the middle of resolving a spell. You will put the original Arcanis into your hand before Season of Weaving fully resolves. The legend rule doesn't come into play during this situation.[/A]"
          },
          "metadata": {}
        },
        {
          "output_type": "stream",
          "name": "stdout",
          "text": [
            "Translated 50-th paragraph in French (of length 343 letters and 62 words)\n"
          ]
        },
        {
          "output_type": "display_data",
          "data": {
            "text/plain": [
              "<IPython.core.display.Markdown object>"
            ],
            "text/markdown": "> [A] Vous ne le ferez pas et vous ne pouvez pas. La règle de la légende est une action basée sur l'état. Elle n'est jamais vérifiée au milieu de la résolution d'un sort. Vous mettrez l'Arcanis original dans votre main avant que la saison de tissage ne soit entièrement résolue. La règle de la légende n'entre pas en jeu pendant cette situation."
          },
          "metadata": {}
        },
        {
          "output_type": "stream",
          "name": "stdout",
          "text": [
            "\n",
            "\n",
            "51-th English paragraph (of length 273 letters and 44 words)\n"
          ]
        },
        {
          "output_type": "display_data",
          "data": {
            "text/plain": [
              "<IPython.core.display.Markdown object>"
            ],
            "text/markdown": "> [hr]\n[Q] If I cast [c]Righteous Confluence[/c] choosing mode two once to exile my opponent's [c]Leyline of Sanctity[/c] and mode three twice to gain 10 total life, and the opponent responds by [c]Boomerang[/c]ing the Leyline back to their hand, do I still gain 10 life?[/Q]"
          },
          "metadata": {}
        },
        {
          "output_type": "stream",
          "name": "stdout",
          "text": [
            "Translated 51-th paragraph in French (of length 331 letters and 58 words)\n"
          ]
        },
        {
          "output_type": "display_data",
          "data": {
            "text/plain": [
              "<IPython.core.display.Markdown object>"
            ],
            "text/markdown": "> [hr] [Q] Si je lance [c]Confluence juste[/c] en choisissant le mode deux une fois pour exiler la [c]Ligne de sainteté de mon adversaire[/c] et le mode trois deux fois pour gagner 10 points de vie, et que l'adversaire répond en [c]Boomerang[/c]en remettant la Leyline à sa main, est-ce que je gagne quand même 10 points de vie ?[/Q]"
          },
          "metadata": {}
        },
        {
          "output_type": "stream",
          "name": "stdout",
          "text": [
            "\n",
            "\n",
            "52-th English paragraph (of length 227 letters and 42 words)\n"
          ]
        },
        {
          "output_type": "display_data",
          "data": {
            "text/plain": [
              "<IPython.core.display.Markdown object>"
            ],
            "text/markdown": "> [A] You do not. Righteous Confluence had only one target, Leyline of Sanctity, and that target has disappeared. If a spell loses all of its targets by the time it goes to resolve, it fizzles and none of its effects happen. [/A]"
          },
          "metadata": {}
        },
        {
          "output_type": "stream",
          "name": "stdout",
          "text": [
            "Translated 52-th paragraph in French (of length 237 letters and 44 words)\n"
          ]
        },
        {
          "output_type": "display_data",
          "data": {
            "text/plain": [
              "<IPython.core.display.Markdown object>"
            ],
            "text/markdown": "> [A] Vous ne l'avez pas. Confluence Juste n'avait qu'une seule cible, Leyline of Sanctity, et cette cible a disparu. Si un sort perd toutes ses cibles au moment où il va se résoudre, il s'écroule et aucun de ses effets ne se produit. [/A]"
          },
          "metadata": {}
        },
        {
          "output_type": "stream",
          "name": "stdout",
          "text": [
            "\n",
            "\n",
            "53-th English paragraph (of length 280 letters and 53 words)\n"
          ]
        },
        {
          "output_type": "display_data",
          "data": {
            "text/plain": [
              "<IPython.core.display.Markdown object>"
            ],
            "text/markdown": "> [hr]\n[Q] I just cast [c]Cultivate[/c] putting a [c]Swamp[/c] onto the battlefield and a [c]Forest[/c] into my hand. I haven't played a land from my hand yet this turn. Can I still play the Forest as my land drop for the turn, or did the Swamp use up my land drop for the turn?[/Q]"
          },
          "metadata": {}
        },
        {
          "output_type": "stream",
          "name": "stdout",
          "text": [
            "Translated 53-th paragraph in French (of length 308 letters and 56 words)\n"
          ]
        },
        {
          "output_type": "display_data",
          "data": {
            "text/plain": [
              "<IPython.core.display.Markdown object>"
            ],
            "text/markdown": "> [hr] [Q] Je viens de lancer [c]Cultivate[/c] mettre un [c]Swamp[/c] sur le champ de bataille et un [c]Forest[/c] dans ma main. Je n'ai pas encore joué une terre de ma main ce tour. Puis-je encore jouer la forêt comme ma terre tomber pour le tour, ou le marais a-t-il utilisé ma terre tomber pour le tour?[/Q]"
          },
          "metadata": {}
        },
        {
          "output_type": "stream",
          "name": "stdout",
          "text": [
            "\n",
            "\n",
            "54-th English paragraph (of length 142 letters and 27 words)\n"
          ]
        },
        {
          "output_type": "display_data",
          "data": {
            "text/plain": [
              "<IPython.core.display.Markdown object>"
            ],
            "text/markdown": "> [A] You may still play the Forest. Putting a land onto the battlefield with a spell or ability doesn't use up your one land drop per turn.[/A]"
          },
          "metadata": {}
        },
        {
          "output_type": "stream",
          "name": "stdout",
          "text": [
            "Translated 54-th paragraph in French (of length 169 letters and 31 words)\n"
          ]
        },
        {
          "output_type": "display_data",
          "data": {
            "text/plain": [
              "<IPython.core.display.Markdown object>"
            ],
            "text/markdown": "> [A] Vous pouvez toujours jouer à la Forêt. Mettre une terre sur le champ de bataille avec un sort ou une capacité n'épuise pas votre seule largage de terre par tour.[/A]"
          },
          "metadata": {}
        },
        {
          "output_type": "stream",
          "name": "stdout",
          "text": [
            "\n",
            "\n",
            "55-th English paragraph (of length 4 letters and 1 words)\n"
          ]
        },
        {
          "output_type": "display_data",
          "data": {
            "text/plain": [
              "<IPython.core.display.Markdown object>"
            ],
            "text/markdown": "> [hr]"
          },
          "metadata": {}
        },
        {
          "output_type": "stream",
          "name": "stdout",
          "text": [
            "Translated 55-th paragraph in French (of length 4 letters and 1 words)\n"
          ]
        },
        {
          "output_type": "display_data",
          "data": {
            "text/plain": [
              "<IPython.core.display.Markdown object>"
            ],
            "text/markdown": "> [hr]"
          },
          "metadata": {}
        },
        {
          "output_type": "stream",
          "name": "stdout",
          "text": [
            "\n",
            "\n",
            "56-th English paragraph (of length 1037 letters and 175 words)\n"
          ]
        },
        {
          "output_type": "display_data",
          "data": {
            "text/plain": [
              "<IPython.core.display.Markdown object>"
            ],
            "text/markdown": "> Each Question in my last article had a hidden reference to a different pop-culture pig. With ten different questions there were ten different pigs. The spoiler below has the answer key to those references.\n[spoiler]\nQuestion 1) Charlotte's Web - Wilbur the Pig and Charlotte the Spider\nQuestion 2) Jim Henson's Muppets - Miss Piggy, Kermit the Frog, and Fozzie Bear.\nQuestion 3) The Three Little Pigs and the Big Bad Wolf\nQuestion 4) Angry Birds Video Game (Birds vs Pigs)\nQuestion 5) Looney Tunes - Bugs Bunny, Porky Pig, and Daffy Duck\nQuestion 6) Babe the 1995 Movie - Babe the Pig, Sheep for Babe to herd, and Farmer Arthur Hoggett\nQuestion 7) Legend of Zelda - Link an Elf Warrior, Zelda an Elf Noble, and Ganon (pig form of Ganondorf)\nQuestion 8) The Lion King - Timon the Meerkat, Pumbaa the Warthog, and some Hyenas for them to fight.\nQuestion 9) Toy Story - Woody the Cowboy, Buzz the Spaceman, Rex the T-Rex, and Hamm the Piggy Bank.\nQuestion 10) Winnie the Pooh - Pooh the Bear, Tigger the Tiger, and Piglet the Pig.[/spoiler]"
          },
          "metadata": {}
        },
        {
          "output_type": "stream",
          "name": "stdout",
          "text": [
            "Translated 56-th paragraph in French (of length 897 letters and 148 words)\n"
          ]
        },
        {
          "output_type": "display_data",
          "data": {
            "text/plain": [
              "<IPython.core.display.Markdown object>"
            ],
            "text/markdown": "> Chaque question de mon dernier article contenait une référence cachée à un cochon de culture pop différent..Avec dix questions différentes, il y avait dix cochons différents..Le spoiler ci-dessous a la clé de réponse à ces références.[spoiler] Question 1) Charlotte's Web - Wilbur le cochon et Charlotte l'araignée Question 2) Jim Henson's Muppets - Miss Piggy, Kermit la grenouille et Fozzie Bear.Question 3) Les trois petits cochons et le grand méchant loup Question 4) Angry Birds Jeu vidéo (Oiseaux vs cochons) Question 5) Looney Tunes - Bugs Bunny, Porky Pig et Daffy Duck Question 6) Babe the 1995 Movie - Babe the Pig, Sheep for Babe to troupeau, et le fermier Arthur Hoggett Question 7) Legend of Zelda - Link an Elf Warrior.Toy Story - Woody le Cowboy, Buzz le Spaceman, Rex le T-Rex, et Hamm la tirelire.Winnie l'ourson - L'ourson l'ourson, Tigrou le tigre et Cochon le cochon.[/spoiler]"
          },
          "metadata": {}
        },
        {
          "output_type": "stream",
          "name": "stdout",
          "text": [
            "\n",
            "\n",
            "57-th English paragraph (of length 62 letters and 10 words)\n"
          ]
        },
        {
          "output_type": "display_data",
          "data": {
            "text/plain": [
              "<IPython.core.display.Markdown object>"
            ],
            "text/markdown": "> - Justin Hovdenes AKA Hovey\nLevel 2 Magic Judge\nRapid City, SD"
          },
          "metadata": {}
        },
        {
          "output_type": "stream",
          "name": "stdout",
          "text": [
            "Translated 57-th paragraph in French (of length 65 letters and 12 words)\n"
          ]
        },
        {
          "output_type": "display_data",
          "data": {
            "text/plain": [
              "<IPython.core.display.Markdown object>"
            ],
            "text/markdown": "> - Justin Hovdenes alias Hovey Niveau 2 Magic Judge Rapid City, SD"
          },
          "metadata": {}
        },
        {
          "output_type": "stream",
          "name": "stdout",
          "text": [
            "CPU times: user 41.9 s, sys: 108 ms, total: 42.1 s\n",
            "Wall time: 43.3 s\n"
          ]
        }
      ]
    },
    {
      "cell_type": "markdown",
      "source": [
        "40 seconds to generate these 57 first draft of translation, I think that's a great performance!"
      ],
      "metadata": {
        "id": "rMMsps8ZeclM"
      }
    },
    {
      "cell_type": "code",
      "source": [
        "latest_article_link = f\"https://www.cranial-insertion.com/article/{article_id}\"\n",
        "\n",
        "print(\"- The latest article is here:\", latest_article_link)\n",
        "print(\"- It was published on:\", latest_article_date)\n",
        "print(\"- The article ID is:\", article_id)"
      ],
      "metadata": {
        "colab": {
          "base_uri": "https://localhost:8080/"
        },
        "id": "f-PSDxuofAG7",
        "outputId": "a28838ba-00db-4f38-a1e6-b78bf91999cc"
      },
      "execution_count": 38,
      "outputs": [
        {
          "output_type": "stream",
          "name": "stdout",
          "text": [
            "- The latest article is here: https://www.cranial-insertion.com/article/4380\n",
            "- It was published on: 04/07/2025\n",
            "- The article ID is: 4380\n"
          ]
        }
      ]
    },
    {
      "cell_type": "code",
      "source": [
        "print(\"- Its title in English is:\")\n",
        "print_paragraph(latest_article_title)\n",
        "latest_article_title_french = en2fr(latest_article_title)\n",
        "print(\"- A suggestion of a title in French is:\")\n",
        "print_paragraph(latest_article_title_french)"
      ],
      "metadata": {
        "colab": {
          "base_uri": "https://localhost:8080/",
          "height": 142
        },
        "id": "1_WTyCzQfVwY",
        "outputId": "bfe7149e-6973-4899-c912-db3d5dbbe909"
      },
      "execution_count": 40,
      "outputs": [
        {
          "output_type": "stream",
          "name": "stdout",
          "text": [
            "- Its title in English is:\n"
          ]
        },
        {
          "output_type": "display_data",
          "data": {
            "text/plain": [
              "<IPython.core.display.Markdown object>"
            ],
            "text/markdown": "> Cloudy With a Chance of Dragonstorms"
          },
          "metadata": {}
        },
        {
          "output_type": "stream",
          "name": "stdout",
          "text": [
            "- A suggestion of a title in French is:\n"
          ]
        },
        {
          "output_type": "display_data",
          "data": {
            "text/plain": [
              "<IPython.core.display.Markdown object>"
            ],
            "text/markdown": "> Nuageux avec une chance de Dragonstorms"
          },
          "metadata": {}
        }
      ]
    },
    {
      "cell_type": "markdown",
      "source": [
        "Let's now generate the content to write to the Google doc:\n",
        "\n",
        "Google doc does **not** support Markdown markup, of course (it's more a clone of Microsoft Word), so the markup I use below is not rendered correctly by default. There is a hack below for that (for titles and lists, nothing more)."
      ],
      "metadata": {
        "id": "bd_MKTebqDq6"
      }
    },
    {
      "cell_type": "code",
      "source": [
        "def generate_content_to_write(article_id, article_paragraphs, translated_paragraphs, latest_article_title, latest_article_date, translate=False):\n",
        "\n",
        "    latest_article_link = f\"https://www.cranial-insertion.com/article/{article_id}\"\n",
        "\n",
        "    print(\"- Its title in English is:\")\n",
        "    print_paragraph(latest_article_title)\n",
        "    latest_article_title_french = en2fr(latest_article_title)\n",
        "    print(\"- A suggestion of a title in French is:\")\n",
        "    print_paragraph(latest_article_title_french)\n",
        "\n",
        "    entire_content_to_write = f\"\"\"# TITLE: « {latest_article_title} »\n",
        "\n",
        "Une suggestion automatique de traduction de ce titre est :\n",
        "\n",
        "## TITRE : « {latest_article_title_french} »\n",
        "\n",
        "- Cet article vient de cette page web : {latest_article_link}\n",
        "- Il a été ou sera publié le : {latest_article_date}\n",
        "\n",
        "--------------------------------------------------------\n",
        "    \"\"\"\n",
        "\n",
        "    for i in range(len(article_paragraphs)):\n",
        "        paragraph = article_paragraphs[i]\n",
        "        #print(f\"\\n\\n{i}-th English paragraph: \")\n",
        "\n",
        "        if translate:\n",
        "            paragraph = paragraph.replace(\"\\n\", \"\\n    \")\n",
        "            entire_content_to_write += f\"\\n\\n    {paragraph}\"\n",
        "            translated_paragraph = translated_paragraphs[i]\n",
        "            #print(f\"Translated {i}-th paragraph in French: \")\n",
        "            entire_content_to_write += f\"\\n\\n{translated_paragraph}\"\n",
        "        else:\n",
        "            entire_content_to_write += f\"\\n\\n{paragraph}\"\n",
        "\n",
        "    return entire_content_to_write"
      ],
      "metadata": {
        "id": "c7tNZkMueaZW"
      },
      "execution_count": null,
      "outputs": []
    },
    {
      "cell_type": "markdown",
      "source": [
        "We are now ready to us the previous functions:"
      ],
      "metadata": {
        "id": "PON1DEVH56TX"
      }
    },
    {
      "cell_type": "code",
      "source": [
        "%%time\n",
        "\n",
        "article_id = get_latest_article_id()\n",
        "\n",
        "article_id, latest_article_text, latest_article_title, latest_article_date, article_paragraphs, translated_paragraphs = get_and_translate_article_text(article_id, translate=True)\n",
        "\n",
        "entire_content_to_write = generate_content_to_write(article_id, article_paragraphs, translated_paragraphs, latest_article_title, latest_article_date, translate=True)\n",
        "\n",
        "print(\"The entire content to write is:\")\n",
        "print_paragraph(entire_content_to_write)"
      ],
      "metadata": {
        "id": "3si97HMw4Owa"
      },
      "execution_count": null,
      "outputs": []
    },
    {
      "cell_type": "markdown",
      "source": [
        "---------\n",
        "\n",
        "## Great! Now, let's upload this text automatically to a new tab in our Google doc!\n",
        "\n",
        "First, I'll use a personnal Google doc, to test things out."
      ],
      "metadata": {
        "id": "xaYhOfotSK7u"
      }
    },
    {
      "cell_type": "code",
      "source": [
        "print_paragraph(entire_content_to_write[:1000])"
      ],
      "metadata": {
        "colab": {
          "base_uri": "https://localhost:8080/",
          "height": 364
        },
        "id": "J-1pXpvsqobC",
        "outputId": "2eb7ffb0-dd05-4c44-944b-5b233d981f4c"
      },
      "execution_count": null,
      "outputs": [
        {
          "output_type": "display_data",
          "data": {
            "text/plain": [
              "<IPython.core.display.Markdown object>"
            ],
            "text/markdown": "> \n# TITLE: « Cranial Insertion: All in Jeopardy (Can you answer in the form of a question?) »\n\nA suggestion of a translation of this title in French is:\nTITRE : « Cranial Insertion: All in Jeopardy (Pouvez-vous répondre sous la forme d'une question?) »\n\n- It was published on: Mon, 31 Mar 2025 00:00:00 EDT\n- The article ID is: 4376\n- The latest article is from this webpage:\n    http://www.cranial-insertion.com/article/4376\n\n-----------------------------------------------------\n\n\n> [cright=Living Death]\"Alex, the answer is \"What would be an\nexample of an oximoron?\"[/cright]\n\n[crightLiving Death]\"Alex, la réponse est \"Quel serait un exemple d'oximoron?\"[/cright]\n\n> Today we have a collection of questions found on the IRC Chatroom #magicjudges-rules and the Facebook group Ask the Judge - [b]Magic[/b]: The Gathering Rules and Policy Questions. Feel free to join us in either or both groups.\n\nAujourd'hui, nous avons une collection de questions trouvées sur le IRC Chatroom magicjudges-rules et "
          },
          "metadata": {}
        }
      ]
    },
    {
      "cell_type": "code",
      "source": [
        "our_google_doc_url = \"https://docs.google.com/document/d/1DzS5Fq6iug9qnxwP0iAehLIBrTM8iQL50-AKO8REaDo/edit?usp=sharing\"\n",
        "print(\"The Google doc URL is:\")\n",
        "print(our_google_doc_url)\n",
        "\n",
        "our_google_doc_id = our_google_doc_url.split(\"/\")[-2]\n",
        "print(\"The Google doc ID is:\")\n",
        "print(our_google_doc_id)"
      ],
      "metadata": {
        "colab": {
          "base_uri": "https://localhost:8080/"
        },
        "id": "FK81Q1nLR3av",
        "outputId": "5ceede14-2291-47f2-e980-c93398be19e1"
      },
      "execution_count": null,
      "outputs": [
        {
          "output_type": "stream",
          "name": "stdout",
          "text": [
            "The Google doc URL is:\n",
            "https://docs.google.com/document/d/1DzS5Fq6iug9qnxwP0iAehLIBrTM8iQL50-AKO8REaDo/edit?usp=sharing\n",
            "The Google doc ID is:\n",
            "1DzS5Fq6iug9qnxwP0iAehLIBrTM8iQL50-AKO8REaDo\n"
          ]
        }
      ]
    },
    {
      "cell_type": "markdown",
      "source": [
        "Let's try to write a text in a new tab of this Google doc.\n",
        "It requires this code:"
      ],
      "metadata": {
        "id": "o6D9LJh7bI7n"
      }
    },
    {
      "cell_type": "code",
      "source": [
        "from googleapiclient.discovery import build\n",
        "from google.colab import auth\n",
        "\n",
        "auth.authenticate_user()"
      ],
      "metadata": {
        "id": "m7MTa4VvcXYB"
      },
      "execution_count": null,
      "outputs": []
    },
    {
      "cell_type": "code",
      "source": [
        "default_content_to_write_to_this_google_doc = \"\"\"\n",
        "# Title of level 1\n",
        "## Title of level 2\n",
        "### Title of level 3\n",
        "\n",
        "*Hello, world!*\n",
        "**WHO awesome!**\n",
        "\n",
        "> Sent from a Google colab notebook running Python! Code by @Naereen\n",
        "\n",
        "Using <https://colab.research.google.com/> for free (but maybe soon for Pro).\n",
        "See [this page for more information](https://colab.research.google.com/signup).\n",
        "\"\"\""
      ],
      "metadata": {
        "id": "5_gfykqbcxLn"
      },
      "execution_count": null,
      "outputs": []
    },
    {
      "cell_type": "markdown",
      "source": [
        "Thanks to <https://github.com/PragatiGunai1097/google-docs-markdown-formatter/blob/main/MarkdownMeeting_ToGoogleDoc_.ipynb>:"
      ],
      "metadata": {
        "id": "veDgBLD56wqW"
      }
    },
    {
      "cell_type": "code",
      "source": [
        "# Step 3: Parse markdown to structure content\n",
        "def markdown_to_requests(md_content, index=0):\n",
        "    lines = md_content.split(\"\\n\")\n",
        "    requests = []\n",
        "    index = index + 1\n",
        "\n",
        "    for line in lines:\n",
        "        if line.startswith(\"# \"):  # Heading 1\n",
        "            requests.append({\"insertText\": {\"location\": {\"index\": index}, \"text\": line[2:] + \"\\n\"}})\n",
        "            index += len(line[2:]) + 1\n",
        "            requests.append({\n",
        "                \"updateParagraphStyle\": {\n",
        "                    \"range\": {\"startIndex\": index - len(line[2:]) - 1, \"endIndex\": index - 1},\n",
        "                    \"paragraphStyle\": {\n",
        "                        \"namedStyleType\": \"HEADING_1\",  # Use HEADING_1 for main heading\n",
        "                    },\n",
        "                    \"fields\": \"namedStyleType\",\n",
        "                }\n",
        "            })\n",
        "        elif line.startswith(\"## \"):  # Heading 2\n",
        "            requests.append({\"insertText\": {\"location\": {\"index\": index}, \"text\": line[3:] + \"\\n\"}})\n",
        "            index += len(line[3:]) + 1\n",
        "            requests.append({\n",
        "                \"updateParagraphStyle\": {\n",
        "                    \"range\": {\"startIndex\": index - len(line[3:]) - 1, \"endIndex\": index - 1},\n",
        "                    \"paragraphStyle\": {\n",
        "                        \"namedStyleType\": \"HEADING_2\",  # Use HEADING_2 for main heading\n",
        "                    },\n",
        "                    \"fields\": \"namedStyleType\",\n",
        "                }\n",
        "            })\n",
        "        elif line.startswith(\"### \"):  # Heading 3\n",
        "            requests.append({\"insertText\": {\"location\": {\"index\": index}, \"text\": line[4:] + \"\\n\"}})\n",
        "            index += len(line[4:]) + 1\n",
        "            requests.append({\n",
        "                \"updateParagraphStyle\": {\n",
        "                    \"range\": {\"startIndex\": index - len(line[4:]) - 1, \"endIndex\": index - 1},\n",
        "                    \"paragraphStyle\": {\n",
        "                        \"namedStyleType\": \"HEADING_3\",  # Use HEADING_3 for main heading\n",
        "                    },\n",
        "                    \"fields\": \"namedStyleType\",\n",
        "                }\n",
        "            })\n",
        "        elif line.startswith(\"#### \"):  # Heading 4\n",
        "            requests.append({\"insertText\": {\"location\": {\"index\": index}, \"text\": line[5:] + \"\\n\"}})\n",
        "            index += len(line[5:]) + 1\n",
        "            requests.append({\n",
        "                \"updateParagraphStyle\": {\n",
        "                    \"range\": {\"startIndex\": index - len(line[5:]) - 1, \"endIndex\": index - 1},\n",
        "                    \"paragraphStyle\": {\n",
        "                        \"namedStyleType\": \"HEADING_4\",  # Use HEADING_4 for main heading\n",
        "                    },\n",
        "                    \"fields\": \"namedStyleType\",\n",
        "                }\n",
        "            })\n",
        "        elif line.startswith(\"- [ ]\"):  # Checkboxes\n",
        "            requests.append({\"insertText\": {\"location\": {\"index\": index}, \"text\": \"☐ \" + line[6:] + \"\\n\"}})\n",
        "            index += len(\"☐ \" + line[6:]) + 1\n",
        "        elif line.startswith(\"- \"):  # Bullet points\n",
        "            requests.append({\"insertText\": {\"location\": {\"index\": index}, \"text\": \"• \" + line[2:] + \"\\n\"}})\n",
        "            index += len(\"• \" + line[2:]) + 1\n",
        "        elif line.strip():  # Normal text\n",
        "            requests.append({\"insertText\": {\"location\": {\"index\": index}, \"text\": line + \"\\n\"}})\n",
        "            index += len(line) + 1\n",
        "        else:  # Blank lines\n",
        "            requests.append({\"insertText\": {\"location\": {\"index\": index}, \"text\": \"\\n\"}})\n",
        "            index += 1\n",
        "\n",
        "    return requests"
      ],
      "metadata": {
        "id": "g9PGbbKd6tPV"
      },
      "execution_count": null,
      "outputs": []
    },
    {
      "cell_type": "markdown",
      "source": [
        "We can use a simple request, or the more-complex request from above:"
      ],
      "metadata": {
        "id": "knQrGPYqO8qM"
      }
    },
    {
      "cell_type": "code",
      "source": [
        "# If modifying these scopes, delete the file token.json.\n",
        "SCOPES = ['https://www.googleapis.com/auth/documents']\n",
        "# The ID of the document to insert text into.\n",
        "DOCUMENT_ID = '1DzS5Fq6iug9qnxwP0iAehLIBrTM8iQL50-AKO8REaDo'\n",
        "\n",
        "def write_content_to_google_doc(content_to_write=default_content_to_write_to_this_google_doc, markdown=False):\n",
        "    service = build('docs', 'v1', credentials=None)\n",
        "\n",
        "    # Create a new tab/section in the document.\n",
        "    requests = [\n",
        "        {'insertText':\n",
        "            {\n",
        "                'location': {'index': 1},\n",
        "                'text':\n",
        "                    content_to_write\n",
        "            }\n",
        "        },\n",
        "    ]\n",
        "\n",
        "    # Convert the markdown content into Google Docs API requests\n",
        "    if markdown:\n",
        "        requests = markdown_to_requests(content_to_write)\n",
        "\n",
        "    result = service.documents().batchUpdate(documentId=DOCUMENT_ID, body={'requests': requests}).execute()\n",
        "    print(result)\n",
        "\n",
        "    print(f\"The Google doc at this URL has been modified with the desired content of length {len(content_to_write)}:\")\n",
        "    print(our_google_doc_url)"
      ],
      "metadata": {
        "id": "lCmOXGghbjd0"
      },
      "execution_count": null,
      "outputs": []
    },
    {
      "cell_type": "markdown",
      "source": [
        "I wanted to be able to create a new tab, but apparently this can't be done using the current version of Google Docs API."
      ],
      "metadata": {
        "id": "-x0EmjlmebBf"
      }
    },
    {
      "cell_type": "code",
      "source": [
        "# prompt: Create a new tab in this Google document, using the Google Docs API requests\n",
        "def create_new_tab_in_google_doc(content, new_tab_name=\"New tab\", markdown=False, document_id=DOCUMENT_ID):\n",
        "    \"\"\"Creates a new tab/section in a Google Doc and inserts content.\n",
        "\n",
        "    Args:\n",
        "        content: The content to insert into the new tab.\n",
        "        document_id: The ID of the Google Doc.\n",
        "    \"\"\"\n",
        "    try:\n",
        "        service = build('docs', 'v1', credentials=None)\n",
        "        # Find the current document's last index\n",
        "        document = service.documents().get(documentId=document_id).execute()\n",
        "        last_index = document['body']['content'][-1]['endIndex']\n",
        "        print(f\"last_index = {last_index} ...\")\n",
        "        last_index = 1\n",
        "        # Create a new section at the end\n",
        "        requests = [\n",
        "            {\n",
        "                'insertSectionBreak': {\n",
        "                    'location': {'index': last_index},\n",
        "                    'sectionType': 'NEXT_PAGE'  # Or SECTION_BREAK\n",
        "                }\n",
        "            }\n",
        "        ]\n",
        "\n",
        "        # Set the name of the section\n",
        "        requests += [\n",
        "            {\n",
        "                \"updateSectionStyle\": {\n",
        "                    \"sectionStyle\": {\n",
        "                        \"sectionType\": \"NEXT_PAGE\",\n",
        "                        #\"info\": {\n",
        "                        #    \"sectionId\": new_tab_name, # new_tab_name is used as sectionId\n",
        "                        #    \"displayName\": new_tab_name\n",
        "                        #}\n",
        "                    },\n",
        "                    \"range\": {\n",
        "                        \"startIndex\": last_index + 1,\n",
        "                        \"endIndex\": last_index + 2,\n",
        "                    },\n",
        "                    #\"fields\": \"info.displayName,info.sectionId\"\n",
        "                    \"fields\": \"*\"\n",
        "                }\n",
        "            }\n",
        "        ]\n",
        "\n",
        "        # Write the text as a basic index in the current tab\n",
        "        if not markdown:\n",
        "            requests += [\n",
        "                {'insertText': {\n",
        "                    'location': {'index': last_index + 1},\n",
        "                    'text': content\n",
        "                }}\n",
        "            ]\n",
        "        else:\n",
        "            # Convert the markdown content into Google Docs API requests\n",
        "            requests += markdown_to_requests(content, index=last_index+2)\n",
        "\n",
        "        # Execute the requests\n",
        "        result = service.documents().batchUpdate(\n",
        "            documentId=document_id, body={'requests': requests}).execute()\n",
        "        print(f\"Successfully created a new tab in the Google Doc: {result}\")\n",
        "    except Exception as e:\n",
        "        print(f\"An error occurred: {e}\")\n",
        "        raise e"
      ],
      "metadata": {
        "id": "bDeyCSerPIzj"
      },
      "execution_count": null,
      "outputs": []
    },
    {
      "cell_type": "markdown",
      "source": [
        "We can now test it! It should support basic formatting using Markdown."
      ],
      "metadata": {
        "id": "FwHHkRvl7mJV"
      }
    },
    {
      "cell_type": "code",
      "source": [
        "%%time\n",
        "write_content_to_google_doc(default_content_to_write_to_this_google_doc, markdown=True)"
      ],
      "metadata": {
        "colab": {
          "base_uri": "https://localhost:8080/"
        },
        "id": "vXsx1cxTrwHa",
        "outputId": "bb3f8dc2-c212-4cd9-bf95-39bbe163ff4e"
      },
      "execution_count": null,
      "outputs": [
        {
          "output_type": "stream",
          "name": "stdout",
          "text": [
            "{'replies': [{}], 'writeControl': {'requiredRevisionId': 'ALBJ4LvFW-EtzfvML7O3Dya5CHgs_dmY-s7wXlijx-8_A4cljaaBq2bl_-lOzZGfNrJEhqxb_1hn2mEH5Ldj-w'}, 'documentId': '1DzS5Fq6iug9qnxwP0iAehLIBrTM8iQL50-AKO8REaDo'}\n",
            "The Google doc at this URL has been modified with the desired content of length 324:\n",
            "https://docs.google.com/document/d/1DzS5Fq6iug9qnxwP0iAehLIBrTM8iQL50-AKO8REaDo/edit?usp=sharing\n",
            "CPU times: user 188 ms, sys: 9.95 ms, total: 198 ms\n",
            "Wall time: 738 ms\n"
          ]
        }
      ]
    },
    {
      "cell_type": "markdown",
      "source": [
        "I tried for a long time different requests to add a new tab, but I'm pretty sure it's not supported by the API. See <https://googleapis.github.io/google-api-python-client/docs/dyn/docs_v1.documents.html> for instance."
      ],
      "metadata": {
        "id": "Zl6XydcydnH0"
      }
    },
    {
      "cell_type": "code",
      "source": [
        "%%time\n",
        "if False:\n",
        "    # Example usage (replace with your actual content)\n",
        "    new_tab_content = \"This is the content of the new tab.\"\n",
        "\n",
        "    create_new_tab_in_google_doc(new_tab_content, new_tab_name=\"Nouvel onglet\")"
      ],
      "metadata": {
        "colab": {
          "base_uri": "https://localhost:8080/",
          "height": 446
        },
        "id": "jTGYzJyeRC4u",
        "outputId": "6f2f60e4-ede5-43c3-feb9-ba03038d34d1"
      },
      "execution_count": null,
      "outputs": [
        {
          "output_type": "stream",
          "name": "stdout",
          "text": [
            "last_index = 2 ...\n",
            "An error occurred: <HttpError 400 when requesting https://docs.googleapis.com/v1/documents/1DzS5Fq6iug9qnxwP0iAehLIBrTM8iQL50-AKO8REaDo:batchUpdate?alt=json returned \"Invalid requests[1].updateSectionStyle: A value for top margin must be specified in order to update it.\". Details: \"Invalid requests[1].updateSectionStyle: A value for top margin must be specified in order to update it.\">\n"
          ]
        },
        {
          "output_type": "error",
          "ename": "HttpError",
          "evalue": "<HttpError 400 when requesting https://docs.googleapis.com/v1/documents/1DzS5Fq6iug9qnxwP0iAehLIBrTM8iQL50-AKO8REaDo:batchUpdate?alt=json returned \"Invalid requests[1].updateSectionStyle: A value for top margin must be specified in order to update it.\". Details: \"Invalid requests[1].updateSectionStyle: A value for top margin must be specified in order to update it.\">",
          "traceback": [
            "\u001b[0;31m---------------------------------------------------------------------------\u001b[0m",
            "\u001b[0;31mHttpError\u001b[0m                                 Traceback (most recent call last)",
            "\u001b[0;32m<timed exec>\u001b[0m in \u001b[0;36m<module>\u001b[0;34m\u001b[0m\n",
            "\u001b[0;32m<ipython-input-85-e811ab330d4d>\u001b[0m in \u001b[0;36mcreate_new_tab_in_google_doc\u001b[0;34m(content, new_tab_name, markdown, document_id)\u001b[0m\n\u001b[1;32m     63\u001b[0m     \u001b[0;32mexcept\u001b[0m \u001b[0mException\u001b[0m \u001b[0;32mas\u001b[0m \u001b[0me\u001b[0m\u001b[0;34m:\u001b[0m\u001b[0;34m\u001b[0m\u001b[0;34m\u001b[0m\u001b[0m\n\u001b[1;32m     64\u001b[0m         \u001b[0mprint\u001b[0m\u001b[0;34m(\u001b[0m\u001b[0;34mf\"An error occurred: {e}\"\u001b[0m\u001b[0;34m)\u001b[0m\u001b[0;34m\u001b[0m\u001b[0;34m\u001b[0m\u001b[0m\n\u001b[0;32m---> 65\u001b[0;31m         \u001b[0;32mraise\u001b[0m \u001b[0me\u001b[0m\u001b[0;34m\u001b[0m\u001b[0;34m\u001b[0m\u001b[0m\n\u001b[0m",
            "\u001b[0;32m<ipython-input-85-e811ab330d4d>\u001b[0m in \u001b[0;36mcreate_new_tab_in_google_doc\u001b[0;34m(content, new_tab_name, markdown, document_id)\u001b[0m\n\u001b[1;32m     59\u001b[0m         \u001b[0;31m# Execute the requests\u001b[0m\u001b[0;34m\u001b[0m\u001b[0;34m\u001b[0m\u001b[0m\n\u001b[1;32m     60\u001b[0m         result = service.documents().batchUpdate(\n\u001b[0;32m---> 61\u001b[0;31m             documentId=document_id, body={'requests': requests}).execute()\n\u001b[0m\u001b[1;32m     62\u001b[0m         \u001b[0mprint\u001b[0m\u001b[0;34m(\u001b[0m\u001b[0;34mf\"Successfully created a new tab in the Google Doc: {result}\"\u001b[0m\u001b[0;34m)\u001b[0m\u001b[0;34m\u001b[0m\u001b[0;34m\u001b[0m\u001b[0m\n\u001b[1;32m     63\u001b[0m     \u001b[0;32mexcept\u001b[0m \u001b[0mException\u001b[0m \u001b[0;32mas\u001b[0m \u001b[0me\u001b[0m\u001b[0;34m:\u001b[0m\u001b[0;34m\u001b[0m\u001b[0;34m\u001b[0m\u001b[0m\n",
            "\u001b[0;32m/usr/local/lib/python3.11/dist-packages/googleapiclient/_helpers.py\u001b[0m in \u001b[0;36mpositional_wrapper\u001b[0;34m(*args, **kwargs)\u001b[0m\n\u001b[1;32m    128\u001b[0m                 \u001b[0;32melif\u001b[0m \u001b[0mpositional_parameters_enforcement\u001b[0m \u001b[0;34m==\u001b[0m \u001b[0mPOSITIONAL_WARNING\u001b[0m\u001b[0;34m:\u001b[0m\u001b[0;34m\u001b[0m\u001b[0;34m\u001b[0m\u001b[0m\n\u001b[1;32m    129\u001b[0m                     \u001b[0mlogger\u001b[0m\u001b[0;34m.\u001b[0m\u001b[0mwarning\u001b[0m\u001b[0;34m(\u001b[0m\u001b[0mmessage\u001b[0m\u001b[0;34m)\u001b[0m\u001b[0;34m\u001b[0m\u001b[0;34m\u001b[0m\u001b[0m\n\u001b[0;32m--> 130\u001b[0;31m             \u001b[0;32mreturn\u001b[0m \u001b[0mwrapped\u001b[0m\u001b[0;34m(\u001b[0m\u001b[0;34m*\u001b[0m\u001b[0margs\u001b[0m\u001b[0;34m,\u001b[0m \u001b[0;34m**\u001b[0m\u001b[0mkwargs\u001b[0m\u001b[0;34m)\u001b[0m\u001b[0;34m\u001b[0m\u001b[0;34m\u001b[0m\u001b[0m\n\u001b[0m\u001b[1;32m    131\u001b[0m \u001b[0;34m\u001b[0m\u001b[0m\n\u001b[1;32m    132\u001b[0m         \u001b[0;32mreturn\u001b[0m \u001b[0mpositional_wrapper\u001b[0m\u001b[0;34m\u001b[0m\u001b[0;34m\u001b[0m\u001b[0m\n",
            "\u001b[0;32m/usr/local/lib/python3.11/dist-packages/googleapiclient/http.py\u001b[0m in \u001b[0;36mexecute\u001b[0;34m(self, http, num_retries)\u001b[0m\n\u001b[1;32m    936\u001b[0m             \u001b[0mcallback\u001b[0m\u001b[0;34m(\u001b[0m\u001b[0mresp\u001b[0m\u001b[0;34m)\u001b[0m\u001b[0;34m\u001b[0m\u001b[0;34m\u001b[0m\u001b[0m\n\u001b[1;32m    937\u001b[0m         \u001b[0;32mif\u001b[0m \u001b[0mresp\u001b[0m\u001b[0;34m.\u001b[0m\u001b[0mstatus\u001b[0m \u001b[0;34m>=\u001b[0m \u001b[0;36m300\u001b[0m\u001b[0;34m:\u001b[0m\u001b[0;34m\u001b[0m\u001b[0;34m\u001b[0m\u001b[0m\n\u001b[0;32m--> 938\u001b[0;31m             \u001b[0;32mraise\u001b[0m \u001b[0mHttpError\u001b[0m\u001b[0;34m(\u001b[0m\u001b[0mresp\u001b[0m\u001b[0;34m,\u001b[0m \u001b[0mcontent\u001b[0m\u001b[0;34m,\u001b[0m \u001b[0muri\u001b[0m\u001b[0;34m=\u001b[0m\u001b[0mself\u001b[0m\u001b[0;34m.\u001b[0m\u001b[0muri\u001b[0m\u001b[0;34m)\u001b[0m\u001b[0;34m\u001b[0m\u001b[0;34m\u001b[0m\u001b[0m\n\u001b[0m\u001b[1;32m    939\u001b[0m         \u001b[0;32mreturn\u001b[0m \u001b[0mself\u001b[0m\u001b[0;34m.\u001b[0m\u001b[0mpostproc\u001b[0m\u001b[0;34m(\u001b[0m\u001b[0mresp\u001b[0m\u001b[0;34m,\u001b[0m \u001b[0mcontent\u001b[0m\u001b[0;34m)\u001b[0m\u001b[0;34m\u001b[0m\u001b[0;34m\u001b[0m\u001b[0m\n\u001b[1;32m    940\u001b[0m \u001b[0;34m\u001b[0m\u001b[0m\n",
            "\u001b[0;31mHttpError\u001b[0m: <HttpError 400 when requesting https://docs.googleapis.com/v1/documents/1DzS5Fq6iug9qnxwP0iAehLIBrTM8iQL50-AKO8REaDo:batchUpdate?alt=json returned \"Invalid requests[1].updateSectionStyle: A value for top margin must be specified in order to update it.\". Details: \"Invalid requests[1].updateSectionStyle: A value for top margin must be specified in order to update it.\">"
          ]
        }
      ]
    },
    {
      "cell_type": "markdown",
      "source": [
        "Now, if adding this first line worked, let's update the Google doc with all the paragraphs and their draft of translation."
      ],
      "metadata": {
        "id": "3QTYT3JUdziD"
      }
    },
    {
      "cell_type": "code",
      "source": [
        "def get_article_translate_it_then_upload_to_google_doc(article_id=None, translate=False):\n",
        "    if article_id is None:\n",
        "        article_id = get_latest_article_id()\n",
        "    print(f\"- The latest article ID is: {article_id}... Downloading it, then translating it...\")\n",
        "\n",
        "    article_id, latest_article_text, latest_article_title, latest_article_date, article_paragraphs, translated_paragraphs = get_and_translate_article_text(article_id, translate=translate)\n",
        "\n",
        "    print(\"- Generating the Markdown content to write to Google doc:\")\n",
        "    entire_content_to_write = generate_content_to_write(article_id, article_paragraphs, translated_paragraphs, latest_article_title, latest_article_date, translate=translate)\n",
        "\n",
        "    print(\"- The entire content to write is:\")\n",
        "    print_paragraph(entire_content_to_write)\n",
        "\n",
        "    write_content_to_google_doc(entire_content_to_write, markdown=True)\n",
        "\n",
        "    return latest_article_title, latest_article_date"
      ],
      "metadata": {
        "id": "C6AggNmisJJA"
      },
      "execution_count": null,
      "outputs": []
    },
    {
      "cell_type": "code",
      "source": [
        "%%time\n",
        "if False:\n",
        "    get_article_translate_it_then_upload_to_google_doc(article_id=get_latest_article_id(), translate=False)"
      ],
      "metadata": {
        "colab": {
          "base_uri": "https://localhost:8080/",
          "height": 1000,
          "referenced_widgets": [
            "0bae1ba4e15a4548aaa60d0957d4c5ba",
            "8abcc7398394411bb082bf47e626a733",
            "cb348874eab840f6859adf537ccaafe2",
            "90fe83f8484e44a99446503ebdeb257e",
            "9c14d5fd37dd435da3a6427fe8359691",
            "3e8f3f20d1b64a6c9c1b047f10037ecd",
            "68df28fbb0b14efd899b8912dc80a1db",
            "c8aac8f400ef43aba52cf8c87145d178",
            "7608c9fb84ce49e8a9dddd98f6bade6a",
            "c29b7b89769845948708b91b5248ef04",
            "995d14b9487b446aae6fd235e50ebdfd"
          ]
        },
        "id": "TGHFak3x8xXf",
        "outputId": "be73c5c9-f5ea-4cf9-c832-a10c42ae909c"
      },
      "execution_count": null,
      "outputs": [
        {
          "output_type": "stream",
          "name": "stdout",
          "text": [
            "- The latest article ID is: 4376... Downloading it, then translating it...\n",
            "Reading the article at URL https://www.cranial-insertion.com/staff/articles/4376/edit ...\n",
            "Using French language and my admin cookie...\n",
            "The web page has been read and it's title is « <title>Cranial Insertion | Manage Articles</title> » !\n"
          ]
        },
        {
          "output_type": "display_data",
          "data": {
            "text/plain": [
              "0it [00:00, ?it/s]"
            ],
            "application/vnd.jupyter.widget-view+json": {
              "version_major": 2,
              "version_minor": 0,
              "model_id": "0bae1ba4e15a4548aaa60d0957d4c5ba"
            }
          },
          "metadata": {}
        },
        {
          "output_type": "stream",
          "name": "stdout",
          "text": [
            "\n",
            "\n",
            "0-th English paragraph (of length 93 letters and 12 words)\n"
          ]
        },
        {
          "output_type": "display_data",
          "data": {
            "text/plain": [
              "<IPython.core.display.Markdown object>"
            ],
            "text/markdown": "> [cright=Living Death]\"Alex, the answer is \"What would be an\nexample of an oximoron?\"[/cright]"
          },
          "metadata": {}
        },
        {
          "output_type": "stream",
          "name": "stdout",
          "text": [
            "\n",
            "\n",
            "1-th English paragraph (of length 226 letters and 38 words)\n"
          ]
        },
        {
          "output_type": "display_data",
          "data": {
            "text/plain": [
              "<IPython.core.display.Markdown object>"
            ],
            "text/markdown": "> Today we have a collection of questions found on the IRC Chatroom #magicjudges-rules and the Facebook group Ask the Judge - [b]Magic[/b]: The Gathering Rules and Policy Questions. Feel free to join us in either or both groups."
          },
          "metadata": {}
        },
        {
          "output_type": "stream",
          "name": "stdout",
          "text": [
            "\n",
            "\n",
            "2-th English paragraph (of length 360 letters and 55 words)\n"
          ]
        },
        {
          "output_type": "display_data",
          "data": {
            "text/plain": [
              "<IPython.core.display.Markdown object>"
            ],
            "text/markdown": "> If you have any [b]Magic[/b] questions burning at the back of your brain, you can send them to us. We may even use them in a future article. If you have a short question, you can send it to us via our Twitter account at [url=https://twitter.com/CranialTweet]@CranialTweet[/url], and you can send us longer questions at [email]moko@cranialinsertion.com[/email]."
          },
          "metadata": {}
        },
        {
          "output_type": "stream",
          "name": "stdout",
          "text": [
            "\n",
            "\n",
            "3-th English paragraph (of length 231 letters and 35 words)\n"
          ]
        },
        {
          "output_type": "display_data",
          "data": {
            "text/plain": [
              "<IPython.core.display.Markdown object>"
            ],
            "text/markdown": "> [hr]\n[Q] I have two [c]Squire[/c]s on the battlefield and I have [c]Custodi Soulbinders[/c] and four copies of [c]Bear Cub[/c] in my graveyard. If I cast [c]Living Death[/c], how many +1/+1 counters will Soulbinders enter with?[/Q]"
          },
          "metadata": {}
        },
        {
          "output_type": "stream",
          "name": "stdout",
          "text": [
            "\n",
            "\n",
            "4-th English paragraph (of length 341 letters and 56 words)\n"
          ]
        },
        {
          "output_type": "display_data",
          "data": {
            "text/plain": [
              "<IPython.core.display.Markdown object>"
            ],
            "text/markdown": "> [A] Custodi Soulbinders will enter with zero +1/+1 counters. Souldbinders and the Bears will enter simultaneously. Soulbinders' first ability is a replacement effect that checks to see how many creatures are on the battlefield just before it enters. At that point there are no creatures on the board, so it gets no counters as it enters.[/A]"
          },
          "metadata": {}
        },
        {
          "output_type": "stream",
          "name": "stdout",
          "text": [
            "\n",
            "\n",
            "5-th English paragraph (of length 266 letters and 44 words)\n"
          ]
        },
        {
          "output_type": "display_data",
          "data": {
            "text/plain": [
              "<IPython.core.display.Markdown object>"
            ],
            "text/markdown": "> [hr]\n[Q] My commander is [c]Grimgrin, Corpse-Born[/c]. Grimgrin was [c]Murder[/c]ed last turn and I choose to move him to the command zone. I control [c]Rooftop Storm[/c]. If I try to cast Grimgrin from the command zone, will he cost [m]2[/m] or will he be free?[/Q]"
          },
          "metadata": {}
        },
        {
          "output_type": "stream",
          "name": "stdout",
          "text": [
            "\n",
            "\n",
            "6-th English paragraph (of length 291 letters and 51 words)\n"
          ]
        },
        {
          "output_type": "display_data",
          "data": {
            "text/plain": [
              "<IPython.core.display.Markdown object>"
            ],
            "text/markdown": "> [A] He will cost [m]2[/m]. \nCommander \"tax\" is an additional cost that must be paid in addition to the normal cost for casting your commander. Rooftop Storm gives you the option of replacing the normal cost of casting your Zombies with [m]0[/m]. This has no effect on additional costs.  [/A]"
          },
          "metadata": {}
        },
        {
          "output_type": "stream",
          "name": "stdout",
          "text": [
            "\n",
            "\n",
            "7-th English paragraph (of length 161 letters and 26 words)\n"
          ]
        },
        {
          "output_type": "display_data",
          "data": {
            "text/plain": [
              "<IPython.core.display.Markdown object>"
            ],
            "text/markdown": "> [hr]\n[Q] My opponent exiled [c]Wheel of Fate[/c] with [c]Reckless Impulse[/c]. She now claims she can cast Wheel of Fate because it's in exile. Is that true?[/Q]"
          },
          "metadata": {}
        },
        {
          "output_type": "stream",
          "name": "stdout",
          "text": [
            "\n",
            "\n",
            "8-th English paragraph (of length 176 letters and 34 words)\n"
          ]
        },
        {
          "output_type": "display_data",
          "data": {
            "text/plain": [
              "<IPython.core.display.Markdown object>"
            ],
            "text/markdown": "> [A] Your opponent is wrong. The part of suspend that lets you cast a card with no mana cost is casting it without paying its mana cost, not that it's casting it from exile.[/A]"
          },
          "metadata": {}
        },
        {
          "output_type": "stream",
          "name": "stdout",
          "text": [
            "\n",
            "\n",
            "9-th English paragraph (of length 378 letters and 58 words)\n"
          ]
        },
        {
          "output_type": "display_data",
          "data": {
            "text/plain": [
              "<IPython.core.display.Markdown object>"
            ],
            "text/markdown": "> [hr]\n[Q] I control four [c]Bear Cub[/c]s, [c]Agrus Kos, Eternal Soldier[/c], and [c]Thundering Raiju[/c]. None of my creatures are currently modified. I attack with the Raiju and have its attack trigger target Agrus. When Agrus's ability triggers because he became targeted, I pay the cost. After all these triggers resolve, how much damage will Raiju deal to each opponent?[/Q]"
          },
          "metadata": {}
        },
        {
          "output_type": "stream",
          "name": "stdout",
          "text": [
            "\n",
            "\n",
            "10-th English paragraph (of length 102 letters and 17 words)\n"
          ]
        },
        {
          "output_type": "display_data",
          "data": {
            "text/plain": [
              "<IPython.core.display.Markdown object>"
            ],
            "text/markdown": "> [A] The Answer is between 15-19 damage, depending on when you let the trigger targeting Raiju resolve."
          },
          "metadata": {}
        },
        {
          "output_type": "stream",
          "name": "stdout",
          "text": [
            "\n",
            "\n",
            "11-th English paragraph (of length 280 letters and 52 words)\n"
          ]
        },
        {
          "output_type": "display_data",
          "data": {
            "text/plain": [
              "<IPython.core.display.Markdown object>"
            ],
            "text/markdown": "> When Agrus's trigger resolves, it creates five copies of Raiju's trigger, one for each Bear and one for Raiju, making a total of six Raiju triggers. The last trigger to resolve has to be the one targeting Agrus, and the other five resolve before it in the order of your choosing. "
          },
          "metadata": {}
        },
        {
          "output_type": "stream",
          "name": "stdout",
          "text": [
            "\n",
            "\n",
            "12-th English paragraph (of length 155 letters and 25 words)\n"
          ]
        },
        {
          "output_type": "display_data",
          "data": {
            "text/plain": [
              "<IPython.core.display.Markdown object>"
            ],
            "text/markdown": "> For our first example, we will have the trigger targeting Raiju resolve first, then the four triggers targeting Bears, and finally the one targeting Agrus."
          },
          "metadata": {}
        },
        {
          "output_type": "stream",
          "name": "stdout",
          "text": [
            "\n",
            "\n",
            "13-th English paragraph (of length 538 letters and 98 words)\n"
          ]
        },
        {
          "output_type": "display_data",
          "data": {
            "text/plain": [
              "<IPython.core.display.Markdown object>"
            ],
            "text/markdown": "> Raiju gets a +1/+1 counter, no damage is dealt as Raiju only checks modified creatures other than himself. Total damage 0.\nBear #1 gets a +1/+1 counter, 1 damage is dealt as there is only one modified creature other than Raiju. Total damage 1.\nBear #2 gets a +1/+1 counter, 2 damage is dealt as there are now two modified creatures. Total damage 3.\nBear #3 gets a +1/+1 counter, 3 damage is dealt. Total damage 6.\nBear #4 gets a counter, 4 damage is dealt. Total damage of 10.\nAgrus get a a counter, 5 damage is dealt. Total damage of 15."
          },
          "metadata": {}
        },
        {
          "output_type": "stream",
          "name": "stdout",
          "text": [
            "\n",
            "\n",
            "14-th English paragraph (of length 357 letters and 63 words)\n"
          ]
        },
        {
          "output_type": "display_data",
          "data": {
            "text/plain": [
              "<IPython.core.display.Markdown object>"
            ],
            "text/markdown": "> Now let's have the four Bears' triggers resolve first, then Raiju, followed by Agrus.\nBear #1, 1 damage is dealt. Total damage 1.\nBear #2, 2 damage is dealt. Total damage 3.\nBear #3, 3 damage id dealt. Total damage 6.\nBear #4, 4 damage is dealt. Total damage is 10.\nRaiju, 4 damage is dealt. Total damage is 14.\nAgrus, 5 damage is dealt. Total damage is 19."
          },
          "metadata": {}
        },
        {
          "output_type": "stream",
          "name": "stdout",
          "text": [
            "\n",
            "\n",
            "15-th English paragraph (of length 80 letters and 13 words)\n"
          ]
        },
        {
          "output_type": "display_data",
          "data": {
            "text/plain": [
              "<IPython.core.display.Markdown object>"
            ],
            "text/markdown": "> The later the trigger targeting Raiju resolves, the more the total damage.\n [/A]"
          },
          "metadata": {}
        },
        {
          "output_type": "stream",
          "name": "stdout",
          "text": [
            "\n",
            "\n",
            "16-th English paragraph (of length 208 letters and 24 words)\n"
          ]
        },
        {
          "output_type": "display_data",
          "data": {
            "text/plain": [
              "<IPython.core.display.Markdown object>"
            ],
            "text/markdown": "> [hr]\n[cleft=Grafdigger's Cage]Alex, the answer is \"What is used to \nkeep the dead from escaping their graves?\"[/cleft][Q] Does [c]Grafdigger's Cage[/c] stop [c]Abhorrent Oculus[/c] from manifest-dreading?[/Q]"
          },
          "metadata": {}
        },
        {
          "output_type": "stream",
          "name": "stdout",
          "text": [
            "\n",
            "\n",
            "17-th English paragraph (of length 388 letters and 69 words)\n"
          ]
        },
        {
          "output_type": "display_data",
          "data": {
            "text/plain": [
              "<IPython.core.display.Markdown object>"
            ],
            "text/markdown": "> [A] Well, in the important ways, yes. They still \"manifest dread\", but some parts they can't complete. Manifest Dread is \"Look at the top two cards of your library. Manifest one of them, then put the cards you looked at that were not manifested this way into your graveyard.\" Since you can't put a creature from your library into play, both cards looked at are put into the graveyard.[/A]"
          },
          "metadata": {}
        },
        {
          "output_type": "stream",
          "name": "stdout",
          "text": [
            "\n",
            "\n",
            "18-th English paragraph (of length 328 letters and 56 words)\n"
          ]
        },
        {
          "output_type": "display_data",
          "data": {
            "text/plain": [
              "<IPython.core.display.Markdown object>"
            ],
            "text/markdown": "> [hr]\n[Q] Last turn my opponent stole my [c]Bear Cub[/c] by casting [c]Sower of Temptation[/c]. This turn I used [c]Ovinize[/c] to make the Sower lose all its abilities. I did this because I think I'll get my Bear Cub back, since the Sower no longer has the \"steal your creature\" ability. My opponent disagrees. Who is right?[/Q]"
          },
          "metadata": {}
        },
        {
          "output_type": "stream",
          "name": "stdout",
          "text": [
            "\n",
            "\n",
            "19-th English paragraph (of length 164 letters and 26 words)\n"
          ]
        },
        {
          "output_type": "display_data",
          "data": {
            "text/plain": [
              "<IPython.core.display.Markdown object>"
            ],
            "text/markdown": "> [A] Your opponent is correct. Removing the enters ability (that creates an effect with a duration) after the ability has resolved, doesn't stop it from functioning."
          },
          "metadata": {}
        },
        {
          "output_type": "stream",
          "name": "stdout",
          "text": [
            "\n",
            "\n",
            "20-th English paragraph (of length 370 letters and 60 words)\n"
          ]
        },
        {
          "output_type": "display_data",
          "data": {
            "text/plain": [
              "<IPython.core.display.Markdown object>"
            ],
            "text/markdown": "> If it helps, an example that seems more intuitive would be the following: My opponent used [c]Rootwater Matriarch[/c] to steel my [c]Hill Giant[/c] enchanted with [c]Spirit Link[/c]. Killing the Matriarch won't get the Hill Giant back, even though that removes where the steal ability came from. The duration is based on whether or not the Hill Giant is still enchanted."
          },
          "metadata": {}
        },
        {
          "output_type": "stream",
          "name": "stdout",
          "text": [
            "\n",
            "\n",
            "21-th English paragraph (of length 193 letters and 32 words)\n"
          ]
        },
        {
          "output_type": "display_data",
          "data": {
            "text/plain": [
              "<IPython.core.display.Markdown object>"
            ],
            "text/markdown": "> So with the original question, removing Sower's abilities doesn't stop the steal effect. You have to remove the Sower to gain the creature back because that ends the duration of the effect.[/A]"
          },
          "metadata": {}
        },
        {
          "output_type": "stream",
          "name": "stdout",
          "text": [
            "\n",
            "\n",
            "22-th English paragraph (of length 162 letters and 23 words)\n"
          ]
        },
        {
          "output_type": "display_data",
          "data": {
            "text/plain": [
              "<IPython.core.display.Markdown object>"
            ],
            "text/markdown": "> [hr]\n[Q] So continuing with the last question, what if instead of [c]Ovinize[/c]ing the [c]Sower of Temptation[/c] I phased it out with [c]Reality Ripple[/c]?[/Q]"
          },
          "metadata": {}
        },
        {
          "output_type": "stream",
          "name": "stdout",
          "text": [
            "\n",
            "\n",
            "23-th English paragraph (of length 260 letters and 46 words)\n"
          ]
        },
        {
          "output_type": "display_data",
          "data": {
            "text/plain": [
              "<IPython.core.display.Markdown object>"
            ],
            "text/markdown": "> [A] You would get your creature back. If a creature phases out, it's treated as though it's no longer on the battlefield. The duration of its effect has been met, so the effect ends and the stolen creature returns to its last controller, usually its owner.[/A]"
          },
          "metadata": {}
        },
        {
          "output_type": "stream",
          "name": "stdout",
          "text": [
            "\n",
            "\n",
            "24-th English paragraph (of length 226 letters and 32 words)\n"
          ]
        },
        {
          "output_type": "display_data",
          "data": {
            "text/plain": [
              "<IPython.core.display.Markdown object>"
            ],
            "text/markdown": "> [hr]\n[Q] I block my opponent's attacking [c]Bear Cub[/c] with [c]Manor Gargoyle[/c]. After combat ends, the opponent then casts [c]Disfigure[/c] targeting my Gargoyle. They claim they just killed my Gargoyle. Is this true?[/Q]"
          },
          "metadata": {}
        },
        {
          "output_type": "stream",
          "name": "stdout",
          "text": [
            "\n",
            "\n",
            "25-th English paragraph (of length 535 letters and 90 words)\n"
          ]
        },
        {
          "output_type": "display_data",
          "data": {
            "text/plain": [
              "<IPython.core.display.Markdown object>"
            ],
            "text/markdown": "> [A] It is not true, your Gargoyle lives through this. Many new players make this same wrong assumption. Damage doesn't reduce toughness. You have a 2/2 Gargoyle with 2 damage marked on it. Because it's indestructible, the state based action that tries to destroy it for having equal or more damage than it has toughness fails to do anything. If they want to get your Gargoyle into the graveyard, they need to give it enough [c=Dismember]-X/-X to make its toughness 0 or less[/c], or force you to [c=Diabolic Edict]sacrifice it[/c].[/A]"
          },
          "metadata": {}
        },
        {
          "output_type": "stream",
          "name": "stdout",
          "text": [
            "\n",
            "\n",
            "26-th English paragraph (of length 120 letters and 20 words)\n"
          ]
        },
        {
          "output_type": "display_data",
          "data": {
            "text/plain": [
              "<IPython.core.display.Markdown object>"
            ],
            "text/markdown": "> [hr]\n[Q] If [c]Ragavan, Nimble Pilferer[/c] is my commander, can I cast him for his dash cost from the command zone?[/Q]"
          },
          "metadata": {}
        },
        {
          "output_type": "stream",
          "name": "stdout",
          "text": [
            "\n",
            "\n",
            "27-th English paragraph (of length 129 letters and 27 words)\n"
          ]
        },
        {
          "output_type": "display_data",
          "data": {
            "text/plain": [
              "<IPython.core.display.Markdown object>"
            ],
            "text/markdown": "> [A] Yes, you can. Dash can be used from any zone, so long as you are allowed to cast that card from that same zone normally. [/A]"
          },
          "metadata": {}
        },
        {
          "output_type": "stream",
          "name": "stdout",
          "text": [
            "\n",
            "\n",
            "28-th English paragraph (of length 108 letters and 20 words)\n"
          ]
        },
        {
          "output_type": "display_data",
          "data": {
            "text/plain": [
              "<IPython.core.display.Markdown object>"
            ],
            "text/markdown": "> [hr]\n[Q] Following up with the last question, do I have to pay commander tax if I dash out my commander?[/Q]"
          },
          "metadata": {}
        },
        {
          "output_type": "stream",
          "name": "stdout",
          "text": [
            "\n",
            "\n",
            "29-th English paragraph (of length 350 letters and 64 words)\n"
          ]
        },
        {
          "output_type": "display_data",
          "data": {
            "text/plain": [
              "<IPython.core.display.Markdown object>"
            ],
            "text/markdown": "> [A] Yes, you do. Suppose you cast Ragavan normally on turn one, then later he died and returned to the command zone. When you go to dash him he now costs [m]3[/m][m]R[/m] to dash. Then if he dies again and returns to the command zone, the next time you go to cast him he costs either [m]4[/m][m]R[/m] to cast normally or [m]5[/m][m]R[/m] to dash.[/A]"
          },
          "metadata": {}
        },
        {
          "output_type": "stream",
          "name": "stdout",
          "text": [
            "\n",
            "\n",
            "30-th English paragraph (of length 199 letters and 37 words)\n"
          ]
        },
        {
          "output_type": "display_data",
          "data": {
            "text/plain": [
              "<IPython.core.display.Markdown object>"
            ],
            "text/markdown": "> [hr]\n[Q] I have eight cards in my hand. I go to my cleanup step and discard [c]Blazing Rootwalla[/c] to get down to maximum hand size. Can I cast the Rootwalla even though I'm in my cleanup step?[/Q]"
          },
          "metadata": {}
        },
        {
          "output_type": "stream",
          "name": "stdout",
          "text": [
            "\n",
            "\n",
            "31-th English paragraph (of length 264 letters and 45 words)\n"
          ]
        },
        {
          "output_type": "display_data",
          "data": {
            "text/plain": [
              "<IPython.core.display.Markdown object>"
            ],
            "text/markdown": "> [A] Yes, you can. During most cleanup steps, no players get priority. However, if an ability triggers during the cleanup step, or a state based action applies during a cleanup step, then the active player gains priority and may cast spells and activate abilities. "
          },
          "metadata": {}
        },
        {
          "output_type": "stream",
          "name": "stdout",
          "text": [
            "\n",
            "\n",
            "32-th English paragraph (of length 97 letters and 19 words)\n"
          ]
        },
        {
          "output_type": "display_data",
          "data": {
            "text/plain": [
              "<IPython.core.display.Markdown object>"
            ],
            "text/markdown": "> This is when you can cast the Rootwalla, as discarding it to madness puts a trigger on the stack."
          },
          "metadata": {}
        },
        {
          "output_type": "stream",
          "name": "stdout",
          "text": [
            "\n",
            "\n",
            "33-th English paragraph (of length 350 letters and 65 words)\n"
          ]
        },
        {
          "output_type": "display_data",
          "data": {
            "text/plain": [
              "<IPython.core.display.Markdown object>"
            ],
            "text/markdown": "> A normal priority pass will begin from here and until all players pass in succession with an empty stack, players may add new items to the stack when they have priority. Once all players pass with an empty stack, this cleanup step ends and a new one begins. If that new cleanup ends normally, then the game will move on to the next player's turn.[/A]"
          },
          "metadata": {}
        },
        {
          "output_type": "stream",
          "name": "stdout",
          "text": [
            "\n",
            "\n",
            "34-th English paragraph (of length 295 letters and 46 words)\n"
          ]
        },
        {
          "output_type": "display_data",
          "data": {
            "text/plain": [
              "<IPython.core.display.Markdown object>"
            ],
            "text/markdown": "> [hr]\n[Q] While resolving [c]Burning Inquiry[/c] I discarded [c]Basking Rootwalla[/c] and two [c]Mountain[/c]s. My opponent controls a [c]Rest in Peace[/c]. My opponent claims I can't cast the Rootwalla for its Madness cost as it got exiled by Rest in Peace when I discarded it. Is this true?[/Q]"
          },
          "metadata": {}
        },
        {
          "output_type": "stream",
          "name": "stdout",
          "text": [
            "\n",
            "\n",
            "35-th English paragraph (of length 564 letters and 106 words)\n"
          ]
        },
        {
          "output_type": "display_data",
          "data": {
            "text/plain": [
              "<IPython.core.display.Markdown object>"
            ],
            "text/markdown": "> [A] Your opponent is wrong. You can cast your Rootwalla for its madness cost. The Rootwalla hasn't been exiled by Rest in Peace yet. This is because madness doesn't quite work the way most people think it does. If a card with madness gets discarded, it goes to exile instead of being put into its owner's graveyard. Then the next time a player would get priority, a trigger allowing its owner to cast it for its madness cost is put on the stack. When this trigger resolves, the owner may cast the card, but if they don't then the card is put into their graveyard. "
          },
          "metadata": {}
        },
        {
          "output_type": "stream",
          "name": "stdout",
          "text": [
            "\n",
            "\n",
            "36-th English paragraph (of length 193 letters and 37 words)\n"
          ]
        },
        {
          "output_type": "display_data",
          "data": {
            "text/plain": [
              "<IPython.core.display.Markdown object>"
            ],
            "text/markdown": "> To get back to the original question, Rest in Peace can only exile a discarded Madness card after the owner has decided not to cast it for madness and choses to let it go to the graveyard.\n[/A]"
          },
          "metadata": {}
        },
        {
          "output_type": "stream",
          "name": "stdout",
          "text": [
            "\n",
            "\n",
            "37-th English paragraph (of length 276 letters and 46 words)\n"
          ]
        },
        {
          "output_type": "display_data",
          "data": {
            "text/plain": [
              "<IPython.core.display.Markdown object>"
            ],
            "text/markdown": "> [hr]\n[Q] My opponent pays [m]3[/m][m]U[/m] to gain level 2 on their [c]Stormchaser's Talent[/c]. Before it becomes level 2, I [c]Boomerang[/c] it to their hand. The opponent says they still get to return an instant or sorcery to their hand, I say they don't, who is right?[/Q]"
          },
          "metadata": {}
        },
        {
          "output_type": "stream",
          "name": "stdout",
          "text": [
            "\n",
            "\n",
            "38-th English paragraph (of length 372 letters and 70 words)\n"
          ]
        },
        {
          "output_type": "display_data",
          "data": {
            "text/plain": [
              "<IPython.core.display.Markdown object>"
            ],
            "text/markdown": "> [A] You are correct, they do not. Gaining a level is an ability that uses the stack and can be responded to. Stormchaser's level 2 ability is a trigger that triggers upon it becoming level 2 and happens only after it becomes level 2. If it's not on the battlefield when its level 2 ability resolves, there is no ability to trigger (nor a permanent to become level 2). [/A]"
          },
          "metadata": {}
        },
        {
          "output_type": "stream",
          "name": "stdout",
          "text": [
            "\n",
            "\n",
            "39-th English paragraph (of length 292 letters and 42 words)\n"
          ]
        },
        {
          "output_type": "display_data",
          "data": {
            "text/plain": [
              "<IPython.core.display.Markdown object>"
            ],
            "text/markdown": "> [hr]\n[cright=Bear Cub|PO2]Alex, the answer is \"What is another\nname for Ursine Child?\"[/cright][Q] I enchanted my opponent's [c]Bear Cub[/c] with my [c]Sigil of Sleep[/c]. If the Bear Cub goes unblocked attacking me, who chooses which creature I control gets returned to its owner's hand?[/Q]"
          },
          "metadata": {}
        },
        {
          "output_type": "stream",
          "name": "stdout",
          "text": [
            "\n",
            "\n",
            "40-th English paragraph (of length 60 letters and 12 words)\n"
          ]
        },
        {
          "output_type": "display_data",
          "data": {
            "text/plain": [
              "<IPython.core.display.Markdown object>"
            ],
            "text/markdown": "> [A] You get to choose as you control the Sigil of Sleep.[/A]"
          },
          "metadata": {}
        },
        {
          "output_type": "stream",
          "name": "stdout",
          "text": [
            "\n",
            "\n",
            "41-th English paragraph (of length 175 letters and 29 words)\n"
          ]
        },
        {
          "output_type": "display_data",
          "data": {
            "text/plain": [
              "<IPython.core.display.Markdown object>"
            ],
            "text/markdown": "> [hr]\n[Q] I attack with [c]Geist of Saint Traft[/c] while I control [c]Anointed Procession[/c]. When combat ends, will both Angel tokens get exiled or do I get to keep one?[/Q]"
          },
          "metadata": {}
        },
        {
          "output_type": "stream",
          "name": "stdout",
          "text": [
            "\n",
            "\n",
            "42-th English paragraph (of length 232 letters and 39 words)\n"
          ]
        },
        {
          "output_type": "display_data",
          "data": {
            "text/plain": [
              "<IPython.core.display.Markdown object>"
            ],
            "text/markdown": "> [A] Both still get exiled. Saint Traft's triggered ability still made both tokens and tracks them to be exiled at the end of combat. Procession doesn't make tokens, it just changes how many tokens other cards and abilities make.[/A]"
          },
          "metadata": {}
        },
        {
          "output_type": "stream",
          "name": "stdout",
          "text": [
            "\n",
            "\n",
            "43-th English paragraph (of length 221 letters and 39 words)\n"
          ]
        },
        {
          "output_type": "display_data",
          "data": {
            "text/plain": [
              "<IPython.core.display.Markdown object>"
            ],
            "text/markdown": "> [hr]\n[Q] I attack with [c]Geist of Saint Traft[/c], but before blocks, I cast [c]Eyes in the Skies[/c] choosing to populate the Angel token. When combat ends, will both Angel tokens get exiled or do I get to keep one?[/Q]"
          },
          "metadata": {}
        },
        {
          "output_type": "stream",
          "name": "stdout",
          "text": [
            "\n",
            "\n",
            "44-th English paragraph (of length 341 letters and 65 words)\n"
          ]
        },
        {
          "output_type": "display_data",
          "data": {
            "text/plain": [
              "<IPython.core.display.Markdown object>"
            ],
            "text/markdown": "> [A] You get to keep the one made by Eyes in the Skies. Unlike Anointed Procession from the last question, Eyes in the Skies makes the token and the token has no link to the ability that made the original Angel token. This includes that the second Angel token is not attacking, is not tapped, and it won't get exiled at the end of combat.[/A]"
          },
          "metadata": {}
        },
        {
          "output_type": "stream",
          "name": "stdout",
          "text": [
            "\n",
            "\n",
            "45-th English paragraph (of length 110 letters and 16 words)\n"
          ]
        },
        {
          "output_type": "display_data",
          "data": {
            "text/plain": [
              "<IPython.core.display.Markdown object>"
            ],
            "text/markdown": "> [hr]\n[Q] I don't understand what [c]Emrakul, the World Anew[/c] has protection from. Can you clarify this?[/Q]"
          },
          "metadata": {}
        },
        {
          "output_type": "stream",
          "name": "stdout",
          "text": [
            "\n",
            "\n",
            "46-th English paragraph (of length 205 letters and 34 words)\n"
          ]
        },
        {
          "output_type": "display_data",
          "data": {
            "text/plain": [
              "<IPython.core.display.Markdown object>"
            ],
            "text/markdown": "> [A] Emrakul has protection from spells and separately protection from permanents cast \"this turn\". This turn is whichever turn it currently is, even if it's been many turns since Emrakul herself was cast. "
          },
          "metadata": {}
        },
        {
          "output_type": "stream",
          "name": "stdout",
          "text": [
            "\n",
            "\n",
            "47-th English paragraph (of length 420 letters and 74 words)\n"
          ]
        },
        {
          "output_type": "display_data",
          "data": {
            "text/plain": [
              "<IPython.core.display.Markdown object>"
            ],
            "text/markdown": "> So for example, if I cast [c]Visara the Dreadful[/c] and gave her some [c]Lightning Greaves[/c] the same turn I cast her, she can't target and destroy Emrakul that turn. However, if I pass to my opponent's turn, Visara can now kill Emrakul as it's no longer the same turn Visara was cast. If I used [c]Goryo's Vengeance[/c] to reanimate Visara, then Visara could kill Emrakul that same turn as Visara wasn't cast at all."
          },
          "metadata": {}
        },
        {
          "output_type": "stream",
          "name": "stdout",
          "text": [
            "\n",
            "\n",
            "48-th English paragraph (of length 368 letters and 60 words)\n"
          ]
        },
        {
          "output_type": "display_data",
          "data": {
            "text/plain": [
              "<IPython.core.display.Markdown object>"
            ],
            "text/markdown": "> Emrakul's protection ability acts similar to having protection from Auras. Auras when cast target what they will enchant, so Emrakul is safe from most Auras. However, on later turns, an Aura could be moved from its original target, to enchant Emrakul. For example, you could move [c]Pacifism[/c] from a 1/1 Goblin token to Emrakul using [c]Crown of the Ages[/c]. \n[/A]"
          },
          "metadata": {}
        },
        {
          "output_type": "stream",
          "name": "stdout",
          "text": [
            "\n",
            "\n",
            "49-th English paragraph (of length 264 letters and 44 words)\n"
          ]
        },
        {
          "output_type": "display_data",
          "data": {
            "text/plain": [
              "<IPython.core.display.Markdown object>"
            ],
            "text/markdown": "> [hr]\n[Q] I cast [c]Season of Weaving[/c] choosing the two paws mode (to copy my [c]Arcanis the Omnipotent[/c]) and the three paws mode. Will I have to put one Arcanis into my graveyard due to the legend rule before bouncing all nonland and nontoken permanents?[/Q]"
          },
          "metadata": {}
        },
        {
          "output_type": "stream",
          "name": "stdout",
          "text": [
            "\n",
            "\n",
            "50-th English paragraph (of length 285 letters and 51 words)\n"
          ]
        },
        {
          "output_type": "display_data",
          "data": {
            "text/plain": [
              "<IPython.core.display.Markdown object>"
            ],
            "text/markdown": "> [A] You will not and you can not. The legend rule is a state based action. It's never checked in the middle of resolving a spell. You will put the original Arcanis into your hand before Season of Weaving fully resolves. The legend rule doesn't come into play during this situation.[/A]"
          },
          "metadata": {}
        },
        {
          "output_type": "stream",
          "name": "stdout",
          "text": [
            "\n",
            "\n",
            "51-th English paragraph (of length 273 letters and 44 words)\n"
          ]
        },
        {
          "output_type": "display_data",
          "data": {
            "text/plain": [
              "<IPython.core.display.Markdown object>"
            ],
            "text/markdown": "> [hr]\n[Q] If I cast [c]Righteous Confluence[/c] choosing mode two once to exile my opponent's [c]Leyline of Sanctity[/c] and mode three twice to gain 10 total life, and the opponent responds by [c]Boomerang[/c]ing the Leyline back to their hand, do I still gain 10 life?[/Q]"
          },
          "metadata": {}
        },
        {
          "output_type": "stream",
          "name": "stdout",
          "text": [
            "\n",
            "\n",
            "52-th English paragraph (of length 227 letters and 42 words)\n"
          ]
        },
        {
          "output_type": "display_data",
          "data": {
            "text/plain": [
              "<IPython.core.display.Markdown object>"
            ],
            "text/markdown": "> [A] You do not. Righteous Confluence had only one target, Leyline of Sanctity, and that target has disappeared. If a spell loses all of its targets by the time it goes to resolve, it fizzles and none of its effects happen. [/A]"
          },
          "metadata": {}
        },
        {
          "output_type": "stream",
          "name": "stdout",
          "text": [
            "\n",
            "\n",
            "53-th English paragraph (of length 280 letters and 53 words)\n"
          ]
        },
        {
          "output_type": "display_data",
          "data": {
            "text/plain": [
              "<IPython.core.display.Markdown object>"
            ],
            "text/markdown": "> [hr]\n[Q] I just cast [c]Cultivate[/c] putting a [c]Swamp[/c] onto the battlefield and a [c]Forest[/c] into my hand. I haven't played a land from my hand yet this turn. Can I still play the Forest as my land drop for the turn, or did the Swamp use up my land drop for the turn?[/Q]"
          },
          "metadata": {}
        },
        {
          "output_type": "stream",
          "name": "stdout",
          "text": [
            "\n",
            "\n",
            "54-th English paragraph (of length 142 letters and 27 words)\n"
          ]
        },
        {
          "output_type": "display_data",
          "data": {
            "text/plain": [
              "<IPython.core.display.Markdown object>"
            ],
            "text/markdown": "> [A] You may still play the Forest. Putting a land onto the battlefield with a spell or ability doesn't use up your one land drop per turn.[/A]"
          },
          "metadata": {}
        },
        {
          "output_type": "stream",
          "name": "stdout",
          "text": [
            "\n",
            "\n",
            "55-th English paragraph (of length 4 letters and 1 words)\n"
          ]
        },
        {
          "output_type": "display_data",
          "data": {
            "text/plain": [
              "<IPython.core.display.Markdown object>"
            ],
            "text/markdown": "> [hr]"
          },
          "metadata": {}
        },
        {
          "output_type": "stream",
          "name": "stdout",
          "text": [
            "\n",
            "\n",
            "56-th English paragraph (of length 1037 letters and 175 words)\n"
          ]
        },
        {
          "output_type": "display_data",
          "data": {
            "text/plain": [
              "<IPython.core.display.Markdown object>"
            ],
            "text/markdown": "> Each Question in my last article had a hidden reference to a different pop-culture pig. With ten different questions there were ten different pigs. The spoiler below has the answer key to those references.\n[spoiler]\nQuestion 1) Charlotte's Web - Wilbur the Pig and Charlotte the Spider\nQuestion 2) Jim Henson's Muppets - Miss Piggy, Kermit the Frog, and Fozzie Bear.\nQuestion 3) The Three Little Pigs and the Big Bad Wolf\nQuestion 4) Angry Birds Video Game (Birds vs Pigs)\nQuestion 5) Looney Tunes - Bugs Bunny, Porky Pig, and Daffy Duck\nQuestion 6) Babe the 1995 Movie - Babe the Pig, Sheep for Babe to herd, and Farmer Arthur Hoggett\nQuestion 7) Legend of Zelda - Link an Elf Warrior, Zelda an Elf Noble, and Ganon (pig form of Ganondorf)\nQuestion 8) The Lion King - Timon the Meerkat, Pumbaa the Warthog, and some Hyenas for them to fight.\nQuestion 9) Toy Story - Woody the Cowboy, Buzz the Spaceman, Rex the T-Rex, and Hamm the Piggy Bank.\nQuestion 10) Winnie the Pooh - Pooh the Bear, Tigger the Tiger, and Piglet the Pig.[/spoiler]"
          },
          "metadata": {}
        },
        {
          "output_type": "stream",
          "name": "stdout",
          "text": [
            "\n",
            "\n",
            "57-th English paragraph (of length 62 letters and 10 words)\n"
          ]
        },
        {
          "output_type": "display_data",
          "data": {
            "text/plain": [
              "<IPython.core.display.Markdown object>"
            ],
            "text/markdown": "> - Justin Hovdenes AKA Hovey\nLevel 2 Magic Judge\nRapid City, SD"
          },
          "metadata": {}
        },
        {
          "output_type": "stream",
          "name": "stdout",
          "text": [
            "- Generating the Markdown content to write to Google doc:\n",
            "The entire content to write is:\n"
          ]
        },
        {
          "output_type": "display_data",
          "data": {
            "text/plain": [
              "<IPython.core.display.Markdown object>"
            ],
            "text/markdown": "> \n    # TITLE: « Cranial Insertion: All in Jeopardy (Can you answer in the form of a question?) »\n\n    - Une suggestion pour la traduction de ce titre en français est :\n    TITRE : « Cranial Insertion: All in Jeopardy (Pouvez-vous répondre sous la forme d'une question?) »\n\n    - Le dernier article vient de cette page web : https://www.cranial-insertion.com/article/4376\n    - Il a été publié le : Mon, 31 Mar 2025 00:00:00 EDT\n\n    -----------------------------------------------------\n    \n\n[cright=Living Death]\"Alex, the answer is \"What would be an\nexample of an oximoron?\"[/cright]\n\nToday we have a collection of questions found on the IRC Chatroom #magicjudges-rules and the Facebook group Ask the Judge - [b]Magic[/b]: The Gathering Rules and Policy Questions. Feel free to join us in either or both groups.\n\nIf you have any [b]Magic[/b] questions burning at the back of your brain, you can send them to us. We may even use them in a future article. If you have a short question, you can send it to us via our Twitter account at [url=https://twitter.com/CranialTweet]@CranialTweet[/url], and you can send us longer questions at [email]moko@cranialinsertion.com[/email].\n\n[hr]\n[Q] I have two [c]Squire[/c]s on the battlefield and I have [c]Custodi Soulbinders[/c] and four copies of [c]Bear Cub[/c] in my graveyard. If I cast [c]Living Death[/c], how many +1/+1 counters will Soulbinders enter with?[/Q]\n\n[A] Custodi Soulbinders will enter with zero +1/+1 counters. Souldbinders and the Bears will enter simultaneously. Soulbinders' first ability is a replacement effect that checks to see how many creatures are on the battlefield just before it enters. At that point there are no creatures on the board, so it gets no counters as it enters.[/A]\n\n[hr]\n[Q] My commander is [c]Grimgrin, Corpse-Born[/c]. Grimgrin was [c]Murder[/c]ed last turn and I choose to move him to the command zone. I control [c]Rooftop Storm[/c]. If I try to cast Grimgrin from the command zone, will he cost [m]2[/m] or will he be free?[/Q]\n\n[A] He will cost [m]2[/m]. \nCommander \"tax\" is an additional cost that must be paid in addition to the normal cost for casting your commander. Rooftop Storm gives you the option of replacing the normal cost of casting your Zombies with [m]0[/m]. This has no effect on additional costs.  [/A]\n\n[hr]\n[Q] My opponent exiled [c]Wheel of Fate[/c] with [c]Reckless Impulse[/c]. She now claims she can cast Wheel of Fate because it's in exile. Is that true?[/Q]\n\n[A] Your opponent is wrong. The part of suspend that lets you cast a card with no mana cost is casting it without paying its mana cost, not that it's casting it from exile.[/A]\n\n[hr]\n[Q] I control four [c]Bear Cub[/c]s, [c]Agrus Kos, Eternal Soldier[/c], and [c]Thundering Raiju[/c]. None of my creatures are currently modified. I attack with the Raiju and have its attack trigger target Agrus. When Agrus's ability triggers because he became targeted, I pay the cost. After all these triggers resolve, how much damage will Raiju deal to each opponent?[/Q]\n\n[A] The Answer is between 15-19 damage, depending on when you let the trigger targeting Raiju resolve.\n\nWhen Agrus's trigger resolves, it creates five copies of Raiju's trigger, one for each Bear and one for Raiju, making a total of six Raiju triggers. The last trigger to resolve has to be the one targeting Agrus, and the other five resolve before it in the order of your choosing. \n\nFor our first example, we will have the trigger targeting Raiju resolve first, then the four triggers targeting Bears, and finally the one targeting Agrus.\n\nRaiju gets a +1/+1 counter, no damage is dealt as Raiju only checks modified creatures other than himself. Total damage 0.\nBear #1 gets a +1/+1 counter, 1 damage is dealt as there is only one modified creature other than Raiju. Total damage 1.\nBear #2 gets a +1/+1 counter, 2 damage is dealt as there are now two modified creatures. Total damage 3.\nBear #3 gets a +1/+1 counter, 3 damage is dealt. Total damage 6.\nBear #4 gets a counter, 4 damage is dealt. Total damage of 10.\nAgrus get a a counter, 5 damage is dealt. Total damage of 15.\n\nNow let's have the four Bears' triggers resolve first, then Raiju, followed by Agrus.\nBear #1, 1 damage is dealt. Total damage 1.\nBear #2, 2 damage is dealt. Total damage 3.\nBear #3, 3 damage id dealt. Total damage 6.\nBear #4, 4 damage is dealt. Total damage is 10.\nRaiju, 4 damage is dealt. Total damage is 14.\nAgrus, 5 damage is dealt. Total damage is 19.\n\nThe later the trigger targeting Raiju resolves, the more the total damage.\n [/A]\n\n[hr]\n[cleft=Grafdigger's Cage]Alex, the answer is \"What is used to \nkeep the dead from escaping their graves?\"[/cleft][Q] Does [c]Grafdigger's Cage[/c] stop [c]Abhorrent Oculus[/c] from manifest-dreading?[/Q]\n\n[A] Well, in the important ways, yes. They still \"manifest dread\", but some parts they can't complete. Manifest Dread is \"Look at the top two cards of your library. Manifest one of them, then put the cards you looked at that were not manifested this way into your graveyard.\" Since you can't put a creature from your library into play, both cards looked at are put into the graveyard.[/A]\n\n[hr]\n[Q] Last turn my opponent stole my [c]Bear Cub[/c] by casting [c]Sower of Temptation[/c]. This turn I used [c]Ovinize[/c] to make the Sower lose all its abilities. I did this because I think I'll get my Bear Cub back, since the Sower no longer has the \"steal your creature\" ability. My opponent disagrees. Who is right?[/Q]\n\n[A] Your opponent is correct. Removing the enters ability (that creates an effect with a duration) after the ability has resolved, doesn't stop it from functioning.\n\nIf it helps, an example that seems more intuitive would be the following: My opponent used [c]Rootwater Matriarch[/c] to steel my [c]Hill Giant[/c] enchanted with [c]Spirit Link[/c]. Killing the Matriarch won't get the Hill Giant back, even though that removes where the steal ability came from. The duration is based on whether or not the Hill Giant is still enchanted.\n\nSo with the original question, removing Sower's abilities doesn't stop the steal effect. You have to remove the Sower to gain the creature back because that ends the duration of the effect.[/A]\n\n[hr]\n[Q] So continuing with the last question, what if instead of [c]Ovinize[/c]ing the [c]Sower of Temptation[/c] I phased it out with [c]Reality Ripple[/c]?[/Q]\n\n[A] You would get your creature back. If a creature phases out, it's treated as though it's no longer on the battlefield. The duration of its effect has been met, so the effect ends and the stolen creature returns to its last controller, usually its owner.[/A]\n\n[hr]\n[Q] I block my opponent's attacking [c]Bear Cub[/c] with [c]Manor Gargoyle[/c]. After combat ends, the opponent then casts [c]Disfigure[/c] targeting my Gargoyle. They claim they just killed my Gargoyle. Is this true?[/Q]\n\n[A] It is not true, your Gargoyle lives through this. Many new players make this same wrong assumption. Damage doesn't reduce toughness. You have a 2/2 Gargoyle with 2 damage marked on it. Because it's indestructible, the state based action that tries to destroy it for having equal or more damage than it has toughness fails to do anything. If they want to get your Gargoyle into the graveyard, they need to give it enough [c=Dismember]-X/-X to make its toughness 0 or less[/c], or force you to [c=Diabolic Edict]sacrifice it[/c].[/A]\n\n[hr]\n[Q] If [c]Ragavan, Nimble Pilferer[/c] is my commander, can I cast him for his dash cost from the command zone?[/Q]\n\n[A] Yes, you can. Dash can be used from any zone, so long as you are allowed to cast that card from that same zone normally. [/A]\n\n[hr]\n[Q] Following up with the last question, do I have to pay commander tax if I dash out my commander?[/Q]\n\n[A] Yes, you do. Suppose you cast Ragavan normally on turn one, then later he died and returned to the command zone. When you go to dash him he now costs [m]3[/m][m]R[/m] to dash. Then if he dies again and returns to the command zone, the next time you go to cast him he costs either [m]4[/m][m]R[/m] to cast normally or [m]5[/m][m]R[/m] to dash.[/A]\n\n[hr]\n[Q] I have eight cards in my hand. I go to my cleanup step and discard [c]Blazing Rootwalla[/c] to get down to maximum hand size. Can I cast the Rootwalla even though I'm in my cleanup step?[/Q]\n\n[A] Yes, you can. During most cleanup steps, no players get priority. However, if an ability triggers during the cleanup step, or a state based action applies during a cleanup step, then the active player gains priority and may cast spells and activate abilities. \n\nThis is when you can cast the Rootwalla, as discarding it to madness puts a trigger on the stack.\n\nA normal priority pass will begin from here and until all players pass in succession with an empty stack, players may add new items to the stack when they have priority. Once all players pass with an empty stack, this cleanup step ends and a new one begins. If that new cleanup ends normally, then the game will move on to the next player's turn.[/A]\n\n[hr]\n[Q] While resolving [c]Burning Inquiry[/c] I discarded [c]Basking Rootwalla[/c] and two [c]Mountain[/c]s. My opponent controls a [c]Rest in Peace[/c]. My opponent claims I can't cast the Rootwalla for its Madness cost as it got exiled by Rest in Peace when I discarded it. Is this true?[/Q]\n\n[A] Your opponent is wrong. You can cast your Rootwalla for its madness cost. The Rootwalla hasn't been exiled by Rest in Peace yet. This is because madness doesn't quite work the way most people think it does. If a card with madness gets discarded, it goes to exile instead of being put into its owner's graveyard. Then the next time a player would get priority, a trigger allowing its owner to cast it for its madness cost is put on the stack. When this trigger resolves, the owner may cast the card, but if they don't then the card is put into their graveyard. \n\nTo get back to the original question, Rest in Peace can only exile a discarded Madness card after the owner has decided not to cast it for madness and choses to let it go to the graveyard.\n[/A]\n\n[hr]\n[Q] My opponent pays [m]3[/m][m]U[/m] to gain level 2 on their [c]Stormchaser's Talent[/c]. Before it becomes level 2, I [c]Boomerang[/c] it to their hand. The opponent says they still get to return an instant or sorcery to their hand, I say they don't, who is right?[/Q]\n\n[A] You are correct, they do not. Gaining a level is an ability that uses the stack and can be responded to. Stormchaser's level 2 ability is a trigger that triggers upon it becoming level 2 and happens only after it becomes level 2. If it's not on the battlefield when its level 2 ability resolves, there is no ability to trigger (nor a permanent to become level 2). [/A]\n\n[hr]\n[cright=Bear Cub|PO2]Alex, the answer is \"What is another\nname for Ursine Child?\"[/cright][Q] I enchanted my opponent's [c]Bear Cub[/c] with my [c]Sigil of Sleep[/c]. If the Bear Cub goes unblocked attacking me, who chooses which creature I control gets returned to its owner's hand?[/Q]\n\n[A] You get to choose as you control the Sigil of Sleep.[/A]\n\n[hr]\n[Q] I attack with [c]Geist of Saint Traft[/c] while I control [c]Anointed Procession[/c]. When combat ends, will both Angel tokens get exiled or do I get to keep one?[/Q]\n\n[A] Both still get exiled. Saint Traft's triggered ability still made both tokens and tracks them to be exiled at the end of combat. Procession doesn't make tokens, it just changes how many tokens other cards and abilities make.[/A]\n\n[hr]\n[Q] I attack with [c]Geist of Saint Traft[/c], but before blocks, I cast [c]Eyes in the Skies[/c] choosing to populate the Angel token. When combat ends, will both Angel tokens get exiled or do I get to keep one?[/Q]\n\n[A] You get to keep the one made by Eyes in the Skies. Unlike Anointed Procession from the last question, Eyes in the Skies makes the token and the token has no link to the ability that made the original Angel token. This includes that the second Angel token is not attacking, is not tapped, and it won't get exiled at the end of combat.[/A]\n\n[hr]\n[Q] I don't understand what [c]Emrakul, the World Anew[/c] has protection from. Can you clarify this?[/Q]\n\n[A] Emrakul has protection from spells and separately protection from permanents cast \"this turn\". This turn is whichever turn it currently is, even if it's been many turns since Emrakul herself was cast. \n\nSo for example, if I cast [c]Visara the Dreadful[/c] and gave her some [c]Lightning Greaves[/c] the same turn I cast her, she can't target and destroy Emrakul that turn. However, if I pass to my opponent's turn, Visara can now kill Emrakul as it's no longer the same turn Visara was cast. If I used [c]Goryo's Vengeance[/c] to reanimate Visara, then Visara could kill Emrakul that same turn as Visara wasn't cast at all.\n\nEmrakul's protection ability acts similar to having protection from Auras. Auras when cast target what they will enchant, so Emrakul is safe from most Auras. However, on later turns, an Aura could be moved from its original target, to enchant Emrakul. For example, you could move [c]Pacifism[/c] from a 1/1 Goblin token to Emrakul using [c]Crown of the Ages[/c]. \n[/A]\n\n[hr]\n[Q] I cast [c]Season of Weaving[/c] choosing the two paws mode (to copy my [c]Arcanis the Omnipotent[/c]) and the three paws mode. Will I have to put one Arcanis into my graveyard due to the legend rule before bouncing all nonland and nontoken permanents?[/Q]\n\n[A] You will not and you can not. The legend rule is a state based action. It's never checked in the middle of resolving a spell. You will put the original Arcanis into your hand before Season of Weaving fully resolves. The legend rule doesn't come into play during this situation.[/A]\n\n[hr]\n[Q] If I cast [c]Righteous Confluence[/c] choosing mode two once to exile my opponent's [c]Leyline of Sanctity[/c] and mode three twice to gain 10 total life, and the opponent responds by [c]Boomerang[/c]ing the Leyline back to their hand, do I still gain 10 life?[/Q]\n\n[A] You do not. Righteous Confluence had only one target, Leyline of Sanctity, and that target has disappeared. If a spell loses all of its targets by the time it goes to resolve, it fizzles and none of its effects happen. [/A]\n\n[hr]\n[Q] I just cast [c]Cultivate[/c] putting a [c]Swamp[/c] onto the battlefield and a [c]Forest[/c] into my hand. I haven't played a land from my hand yet this turn. Can I still play the Forest as my land drop for the turn, or did the Swamp use up my land drop for the turn?[/Q]\n\n[A] You may still play the Forest. Putting a land onto the battlefield with a spell or ability doesn't use up your one land drop per turn.[/A]\n\n[hr]\n\nEach Question in my last article had a hidden reference to a different pop-culture pig. With ten different questions there were ten different pigs. The spoiler below has the answer key to those references.\n[spoiler]\nQuestion 1) Charlotte's Web - Wilbur the Pig and Charlotte the Spider\nQuestion 2) Jim Henson's Muppets - Miss Piggy, Kermit the Frog, and Fozzie Bear.\nQuestion 3) The Three Little Pigs and the Big Bad Wolf\nQuestion 4) Angry Birds Video Game (Birds vs Pigs)\nQuestion 5) Looney Tunes - Bugs Bunny, Porky Pig, and Daffy Duck\nQuestion 6) Babe the 1995 Movie - Babe the Pig, Sheep for Babe to herd, and Farmer Arthur Hoggett\nQuestion 7) Legend of Zelda - Link an Elf Warrior, Zelda an Elf Noble, and Ganon (pig form of Ganondorf)\nQuestion 8) The Lion King - Timon the Meerkat, Pumbaa the Warthog, and some Hyenas for them to fight.\nQuestion 9) Toy Story - Woody the Cowboy, Buzz the Spaceman, Rex the T-Rex, and Hamm the Piggy Bank.\nQuestion 10) Winnie the Pooh - Pooh the Bear, Tigger the Tiger, and Piglet the Pig.[/spoiler]\n\n- Justin Hovdenes AKA Hovey\nLevel 2 Magic Judge\nRapid City, SD"
          },
          "metadata": {}
        },
        {
          "output_type": "stream",
          "name": "stdout",
          "text": [
            "{'replies': [{}, {}, {}, {}, {}, {}, {}, {}, {}, {}, {}, {}, {}, {}, {}, {}, {}, {}, {}, {}, {}, {}, {}, {}, {}, {}, {}, {}, {}, {}, {}, {}, {}, {}, {}, {}, {}, {}, {}, {}, {}, {}, {}, {}, {}, {}, {}, {}, {}, {}, {}, {}, {}, {}, {}, {}, {}, {}, {}, {}, {}, {}, {}, {}, {}, {}, {}, {}, {}, {}, {}, {}, {}, {}, {}, {}, {}, {}, {}, {}, {}, {}, {}, {}, {}, {}, {}, {}, {}, {}, {}, {}, {}, {}, {}, {}, {}, {}, {}, {}, {}, {}, {}, {}, {}, {}, {}, {}, {}, {}, {}, {}, {}, {}, {}, {}, {}, {}, {}, {}, {}, {}, {}, {}, {}, {}, {}, {}, {}, {}, {}, {}, {}, {}, {}, {}, {}, {}, {}, {}, {}, {}, {}, {}, {}, {}, {}, {}, {}, {}, {}, {}, {}, {}, {}, {}, {}, {}, {}, {}, {}, {}, {}, {}, {}, {}, {}, {}, {}, {}, {}, {}, {}, {}, {}, {}, {}, {}], 'writeControl': {'requiredRevisionId': 'ALBJ4Lvf-aR1vWR3U4DLEgKLHARlbWPKDeFG9Gik11P3M39mcj5fxPa4nWODJwU3SaQ7NsirbZUjnVTEcvEyHQ'}, 'documentId': '1DzS5Fq6iug9qnxwP0iAehLIBrTM8iQL50-AKO8REaDo'}\n",
            "The Google doc at this URL has been modified with the desired content of length 15791:\n",
            "https://docs.google.com/document/d/1DzS5Fq6iug9qnxwP0iAehLIBrTM8iQL50-AKO8REaDo/edit?usp=sharing\n",
            "CPU times: user 519 ms, sys: 15.7 ms, total: 535 ms\n",
            "Wall time: 2.25 s\n"
          ]
        }
      ]
    },
    {
      "cell_type": "markdown",
      "source": [
        "----------\n",
        "\n",
        "## Automatically send a short message to our Discord now that our Google doc has been set up for this weekend's translation job\n",
        "\n",
        "First, I'll use my own private Discord server to try this out.\n",
        "Then if everything works, I'll use our Discord server.\n",
        "\n",
        "I'm following [this article](https://www.makerhacks.com/python-messages-discord/), after I created a webhook on my server by following [the official tutorial](https://support.discord.com/hc/en-us/articles/228383668-Intro-to-Webhooks)."
      ],
      "metadata": {
        "id": "xkaPUbcGSYjW"
      }
    },
    {
      "cell_type": "code",
      "source": [
        "# web library\n",
        "import http.client"
      ],
      "metadata": {
        "id": "Lh2Fwwc8Tiyf"
      },
      "execution_count": null,
      "outputs": []
    },
    {
      "cell_type": "code",
      "source": [
        "# your webhook URL\n",
        "my_webhook_url = \"\"\"https://discord.com/api/webhooks/1358504126408818940/0gRa5xMe1d8-JxImSqsHFeZUu0EK338RD5sa0GedxqFtGp8DHAEfqHvltnRRbfFl7F_x\"\"\"\n",
        "\n",
        "def send_message_to_Discord(message, webhookurl=my_webhook_url):\n",
        "    print(f\"Starting to send the following message to my Discord server:\\n{message}\")\n",
        "\n",
        "    # compile the form data (BOUNDARY can be anything)\n",
        "    formdata = u\"------:::BOUNDARY:::\\r\\nContent-Disposition: form-data; name=\\\"content\\\"\\r\\n\\r\\n\" + message + u\"\\r\\n------:::BOUNDARY:::--\"\n",
        "\n",
        "    # See https://stackoverflow.com/questions/74722329/how-to-send-accented-characters-with-diacritics-in-http-request-payload#74722361\n",
        "    formdata = formdata.encode('utf-8')\n",
        "\n",
        "    # get the connection and make the request\n",
        "    connection = http.client.HTTPSConnection(\"discord.com\")\n",
        "    connection.request(\"POST\", webhookurl, formdata, {\n",
        "        'content-type': \"multipart/form-data; boundary=----:::BOUNDARY:::\",\n",
        "        'cache-control': \"no-cache\",\n",
        "    })\n",
        "\n",
        "    # get the response\n",
        "    response = connection.getresponse()\n",
        "    result = response.read()\n",
        "\n",
        "    # return back to the calling function with the result\n",
        "    result_decoded_in_utf8 = result.decode(\"utf-8\")\n",
        "    print(\"Success!\")\n",
        "    if result_decoded_in_utf8:\n",
        "        print(result_decoded_in_utf8)\n",
        "    return result_decoded_in_utf8"
      ],
      "metadata": {
        "id": "hiwWwM7dTglF"
      },
      "execution_count": null,
      "outputs": []
    },
    {
      "cell_type": "code",
      "source": [
        "send_message_to_Discord(u\"*Hello, world!*\\n> Sent from a Google colab notebook running Python! Code by Naereen\")"
      ],
      "metadata": {
        "colab": {
          "base_uri": "https://localhost:8080/",
          "height": 104
        },
        "id": "dJYLq6H5T4f1",
        "outputId": "d0a10ab3-6df2-44ac-db79-1f713c2b9f78"
      },
      "execution_count": null,
      "outputs": [
        {
          "output_type": "stream",
          "name": "stdout",
          "text": [
            "Starting to send the following message to my Discord server:\n",
            "*Hello, world!*\n",
            "> Sent from a Google colab notebook running Python! Code by Naereen\n",
            "Success!\n"
          ]
        },
        {
          "output_type": "execute_result",
          "data": {
            "text/plain": [
              "''"
            ],
            "application/vnd.google.colaboratory.intrinsic+json": {
              "type": "string"
            }
          },
          "metadata": {},
          "execution_count": 98
        }
      ]
    },
    {
      "cell_type": "markdown",
      "source": [
        "--------------------------\n",
        "\n",
        "## Do it all in one function: download article, translate it (if running on GPU), upload to GDoc, notify the team, make coffee!"
      ],
      "metadata": {
        "id": "hBrNRIkbta0d"
      }
    },
    {
      "cell_type": "code",
      "source": [
        "def do_all_then_notifyme(article_id=None, translate=False):\n",
        "    if article_id is None:\n",
        "        article_id = get_latest_article_id()\n",
        "    print(f\"- The latest article ID is: {article_id}... Downloading it...\")\n",
        "    if translate:\n",
        "        print(\"Then translating it...\")\n",
        "    print(\"Then uploading it to our Google doc...\")\n",
        "\n",
        "    latest_article_title, latest_article_date = get_article_translate_it_then_upload_to_google_doc(article_id, translate=translate)\n",
        "\n",
        "    latest_article_link = f\"https://www.cranial-insertion.com/article/{article_id}\"\n",
        "\n",
        "    message_for_Discord = f\"\"\"||@everyone|| [Notre Google doc partagé]({our_google_doc_url}) a été mis à jour, avec le brouillon de traduction pour [le nouvel article hebdomadaire]({latest_article_link}).\n",
        "\n",
        "Cet article s'intitule \"{latest_article_title}\", a été publié le {latest_article_date}, et son ID est {article_id}.\n",
        "\n",
        "> Envoyé automatiquement depuis un notebook Python executé sur Google Colab! Code by @naereen\n",
        "\"\"\"\n",
        "    print_paragraph(message_for_Discord)\n",
        "\n",
        "    return send_message_to_Discord(message_for_Discord)"
      ],
      "metadata": {
        "id": "HXzmvFj_tgTx"
      },
      "execution_count": null,
      "outputs": []
    },
    {
      "cell_type": "markdown",
      "source": [
        "Let's try!"
      ],
      "metadata": {
        "id": "c5HP3NWPgy49"
      }
    },
    {
      "cell_type": "code",
      "source": [
        "%%time\n",
        "do_all_then_notifyme(translate=running_on_GPU)"
      ],
      "metadata": {
        "colab": {
          "base_uri": "https://localhost:8080/",
          "height": 1000,
          "referenced_widgets": [
            "6589bfcecd684110b029a807b7bb7abe",
            "357a0f0c978f41eca39ab97f4b89f80f",
            "daaf07904df7465dbb297339968e1a1c",
            "f5c3792264ea4399818e993eb77166d9",
            "982e0c96d916450088fff3f16c655a72",
            "a3bd6e9797404438b2cc22b9873218fa",
            "1029ae8eaf2348ca8254d870529d7cdd",
            "74d90cba621c4075a473f6732038f2a6",
            "ec4e574d966142c287cb7dc12827b828",
            "6fa175360b0c4a65bae72237ab1e7750",
            "479dadabbd4d44d383c5a02062d73557"
          ]
        },
        "id": "ZUc1dqgwvcEP",
        "outputId": "8bda43b7-052f-40e7-f566-7c52bb42d799"
      },
      "execution_count": null,
      "outputs": [
        {
          "output_type": "stream",
          "name": "stdout",
          "text": [
            "- The latest article ID is: 4376... Downloading it...\n",
            "Then uploading it to our Google doc...\n",
            "- The latest article ID is: 4376... Downloading it, then translating it...\n",
            "Reading the article at URL https://www.cranial-insertion.com/staff/articles/4376/edit ...\n",
            "Using French language and my admin cookie...\n",
            "The web page has been read and it's title is « <title>Cranial Insertion | Manage Articles</title> » !\n"
          ]
        },
        {
          "output_type": "display_data",
          "data": {
            "text/plain": [
              "0it [00:00, ?it/s]"
            ],
            "application/vnd.jupyter.widget-view+json": {
              "version_major": 2,
              "version_minor": 0,
              "model_id": "6589bfcecd684110b029a807b7bb7abe"
            }
          },
          "metadata": {}
        },
        {
          "output_type": "stream",
          "name": "stdout",
          "text": [
            "\n",
            "\n",
            "0-th English paragraph (of length 93 letters and 12 words)\n"
          ]
        },
        {
          "output_type": "display_data",
          "data": {
            "text/plain": [
              "<IPython.core.display.Markdown object>"
            ],
            "text/markdown": "> [cright=Living Death]\"Alex, the answer is \"What would be an\nexample of an oximoron?\"[/cright]"
          },
          "metadata": {}
        },
        {
          "output_type": "stream",
          "name": "stdout",
          "text": [
            "\n",
            "\n",
            "1-th English paragraph (of length 226 letters and 38 words)\n"
          ]
        },
        {
          "output_type": "display_data",
          "data": {
            "text/plain": [
              "<IPython.core.display.Markdown object>"
            ],
            "text/markdown": "> Today we have a collection of questions found on the IRC Chatroom #magicjudges-rules and the Facebook group Ask the Judge - [b]Magic[/b]: The Gathering Rules and Policy Questions. Feel free to join us in either or both groups."
          },
          "metadata": {}
        },
        {
          "output_type": "stream",
          "name": "stdout",
          "text": [
            "\n",
            "\n",
            "2-th English paragraph (of length 360 letters and 55 words)\n"
          ]
        },
        {
          "output_type": "display_data",
          "data": {
            "text/plain": [
              "<IPython.core.display.Markdown object>"
            ],
            "text/markdown": "> If you have any [b]Magic[/b] questions burning at the back of your brain, you can send them to us. We may even use them in a future article. If you have a short question, you can send it to us via our Twitter account at [url=https://twitter.com/CranialTweet]@CranialTweet[/url], and you can send us longer questions at [email]moko@cranialinsertion.com[/email]."
          },
          "metadata": {}
        },
        {
          "output_type": "stream",
          "name": "stdout",
          "text": [
            "\n",
            "\n",
            "3-th English paragraph (of length 231 letters and 35 words)\n"
          ]
        },
        {
          "output_type": "display_data",
          "data": {
            "text/plain": [
              "<IPython.core.display.Markdown object>"
            ],
            "text/markdown": "> [hr]\n[Q] I have two [c]Squire[/c]s on the battlefield and I have [c]Custodi Soulbinders[/c] and four copies of [c]Bear Cub[/c] in my graveyard. If I cast [c]Living Death[/c], how many +1/+1 counters will Soulbinders enter with?[/Q]"
          },
          "metadata": {}
        },
        {
          "output_type": "stream",
          "name": "stdout",
          "text": [
            "\n",
            "\n",
            "4-th English paragraph (of length 341 letters and 56 words)\n"
          ]
        },
        {
          "output_type": "display_data",
          "data": {
            "text/plain": [
              "<IPython.core.display.Markdown object>"
            ],
            "text/markdown": "> [A] Custodi Soulbinders will enter with zero +1/+1 counters. Souldbinders and the Bears will enter simultaneously. Soulbinders' first ability is a replacement effect that checks to see how many creatures are on the battlefield just before it enters. At that point there are no creatures on the board, so it gets no counters as it enters.[/A]"
          },
          "metadata": {}
        },
        {
          "output_type": "stream",
          "name": "stdout",
          "text": [
            "\n",
            "\n",
            "5-th English paragraph (of length 266 letters and 44 words)\n"
          ]
        },
        {
          "output_type": "display_data",
          "data": {
            "text/plain": [
              "<IPython.core.display.Markdown object>"
            ],
            "text/markdown": "> [hr]\n[Q] My commander is [c]Grimgrin, Corpse-Born[/c]. Grimgrin was [c]Murder[/c]ed last turn and I choose to move him to the command zone. I control [c]Rooftop Storm[/c]. If I try to cast Grimgrin from the command zone, will he cost [m]2[/m] or will he be free?[/Q]"
          },
          "metadata": {}
        },
        {
          "output_type": "stream",
          "name": "stdout",
          "text": [
            "\n",
            "\n",
            "6-th English paragraph (of length 291 letters and 51 words)\n"
          ]
        },
        {
          "output_type": "display_data",
          "data": {
            "text/plain": [
              "<IPython.core.display.Markdown object>"
            ],
            "text/markdown": "> [A] He will cost [m]2[/m]. \nCommander \"tax\" is an additional cost that must be paid in addition to the normal cost for casting your commander. Rooftop Storm gives you the option of replacing the normal cost of casting your Zombies with [m]0[/m]. This has no effect on additional costs.  [/A]"
          },
          "metadata": {}
        },
        {
          "output_type": "stream",
          "name": "stdout",
          "text": [
            "\n",
            "\n",
            "7-th English paragraph (of length 161 letters and 26 words)\n"
          ]
        },
        {
          "output_type": "display_data",
          "data": {
            "text/plain": [
              "<IPython.core.display.Markdown object>"
            ],
            "text/markdown": "> [hr]\n[Q] My opponent exiled [c]Wheel of Fate[/c] with [c]Reckless Impulse[/c]. She now claims she can cast Wheel of Fate because it's in exile. Is that true?[/Q]"
          },
          "metadata": {}
        },
        {
          "output_type": "stream",
          "name": "stdout",
          "text": [
            "\n",
            "\n",
            "8-th English paragraph (of length 176 letters and 34 words)\n"
          ]
        },
        {
          "output_type": "display_data",
          "data": {
            "text/plain": [
              "<IPython.core.display.Markdown object>"
            ],
            "text/markdown": "> [A] Your opponent is wrong. The part of suspend that lets you cast a card with no mana cost is casting it without paying its mana cost, not that it's casting it from exile.[/A]"
          },
          "metadata": {}
        },
        {
          "output_type": "stream",
          "name": "stdout",
          "text": [
            "\n",
            "\n",
            "9-th English paragraph (of length 378 letters and 58 words)\n"
          ]
        },
        {
          "output_type": "display_data",
          "data": {
            "text/plain": [
              "<IPython.core.display.Markdown object>"
            ],
            "text/markdown": "> [hr]\n[Q] I control four [c]Bear Cub[/c]s, [c]Agrus Kos, Eternal Soldier[/c], and [c]Thundering Raiju[/c]. None of my creatures are currently modified. I attack with the Raiju and have its attack trigger target Agrus. When Agrus's ability triggers because he became targeted, I pay the cost. After all these triggers resolve, how much damage will Raiju deal to each opponent?[/Q]"
          },
          "metadata": {}
        },
        {
          "output_type": "stream",
          "name": "stdout",
          "text": [
            "\n",
            "\n",
            "10-th English paragraph (of length 102 letters and 17 words)\n"
          ]
        },
        {
          "output_type": "display_data",
          "data": {
            "text/plain": [
              "<IPython.core.display.Markdown object>"
            ],
            "text/markdown": "> [A] The Answer is between 15-19 damage, depending on when you let the trigger targeting Raiju resolve."
          },
          "metadata": {}
        },
        {
          "output_type": "stream",
          "name": "stdout",
          "text": [
            "\n",
            "\n",
            "11-th English paragraph (of length 280 letters and 52 words)\n"
          ]
        },
        {
          "output_type": "display_data",
          "data": {
            "text/plain": [
              "<IPython.core.display.Markdown object>"
            ],
            "text/markdown": "> When Agrus's trigger resolves, it creates five copies of Raiju's trigger, one for each Bear and one for Raiju, making a total of six Raiju triggers. The last trigger to resolve has to be the one targeting Agrus, and the other five resolve before it in the order of your choosing. "
          },
          "metadata": {}
        },
        {
          "output_type": "stream",
          "name": "stdout",
          "text": [
            "\n",
            "\n",
            "12-th English paragraph (of length 155 letters and 25 words)\n"
          ]
        },
        {
          "output_type": "display_data",
          "data": {
            "text/plain": [
              "<IPython.core.display.Markdown object>"
            ],
            "text/markdown": "> For our first example, we will have the trigger targeting Raiju resolve first, then the four triggers targeting Bears, and finally the one targeting Agrus."
          },
          "metadata": {}
        },
        {
          "output_type": "stream",
          "name": "stdout",
          "text": [
            "\n",
            "\n",
            "13-th English paragraph (of length 538 letters and 98 words)\n"
          ]
        },
        {
          "output_type": "display_data",
          "data": {
            "text/plain": [
              "<IPython.core.display.Markdown object>"
            ],
            "text/markdown": "> Raiju gets a +1/+1 counter, no damage is dealt as Raiju only checks modified creatures other than himself. Total damage 0.\nBear #1 gets a +1/+1 counter, 1 damage is dealt as there is only one modified creature other than Raiju. Total damage 1.\nBear #2 gets a +1/+1 counter, 2 damage is dealt as there are now two modified creatures. Total damage 3.\nBear #3 gets a +1/+1 counter, 3 damage is dealt. Total damage 6.\nBear #4 gets a counter, 4 damage is dealt. Total damage of 10.\nAgrus get a a counter, 5 damage is dealt. Total damage of 15."
          },
          "metadata": {}
        },
        {
          "output_type": "stream",
          "name": "stdout",
          "text": [
            "\n",
            "\n",
            "14-th English paragraph (of length 357 letters and 63 words)\n"
          ]
        },
        {
          "output_type": "display_data",
          "data": {
            "text/plain": [
              "<IPython.core.display.Markdown object>"
            ],
            "text/markdown": "> Now let's have the four Bears' triggers resolve first, then Raiju, followed by Agrus.\nBear #1, 1 damage is dealt. Total damage 1.\nBear #2, 2 damage is dealt. Total damage 3.\nBear #3, 3 damage id dealt. Total damage 6.\nBear #4, 4 damage is dealt. Total damage is 10.\nRaiju, 4 damage is dealt. Total damage is 14.\nAgrus, 5 damage is dealt. Total damage is 19."
          },
          "metadata": {}
        },
        {
          "output_type": "stream",
          "name": "stdout",
          "text": [
            "\n",
            "\n",
            "15-th English paragraph (of length 80 letters and 13 words)\n"
          ]
        },
        {
          "output_type": "display_data",
          "data": {
            "text/plain": [
              "<IPython.core.display.Markdown object>"
            ],
            "text/markdown": "> The later the trigger targeting Raiju resolves, the more the total damage.\n [/A]"
          },
          "metadata": {}
        },
        {
          "output_type": "stream",
          "name": "stdout",
          "text": [
            "\n",
            "\n",
            "16-th English paragraph (of length 208 letters and 24 words)\n"
          ]
        },
        {
          "output_type": "display_data",
          "data": {
            "text/plain": [
              "<IPython.core.display.Markdown object>"
            ],
            "text/markdown": "> [hr]\n[cleft=Grafdigger's Cage]Alex, the answer is \"What is used to \nkeep the dead from escaping their graves?\"[/cleft][Q] Does [c]Grafdigger's Cage[/c] stop [c]Abhorrent Oculus[/c] from manifest-dreading?[/Q]"
          },
          "metadata": {}
        },
        {
          "output_type": "stream",
          "name": "stdout",
          "text": [
            "\n",
            "\n",
            "17-th English paragraph (of length 388 letters and 69 words)\n"
          ]
        },
        {
          "output_type": "display_data",
          "data": {
            "text/plain": [
              "<IPython.core.display.Markdown object>"
            ],
            "text/markdown": "> [A] Well, in the important ways, yes. They still \"manifest dread\", but some parts they can't complete. Manifest Dread is \"Look at the top two cards of your library. Manifest one of them, then put the cards you looked at that were not manifested this way into your graveyard.\" Since you can't put a creature from your library into play, both cards looked at are put into the graveyard.[/A]"
          },
          "metadata": {}
        },
        {
          "output_type": "stream",
          "name": "stdout",
          "text": [
            "\n",
            "\n",
            "18-th English paragraph (of length 328 letters and 56 words)\n"
          ]
        },
        {
          "output_type": "display_data",
          "data": {
            "text/plain": [
              "<IPython.core.display.Markdown object>"
            ],
            "text/markdown": "> [hr]\n[Q] Last turn my opponent stole my [c]Bear Cub[/c] by casting [c]Sower of Temptation[/c]. This turn I used [c]Ovinize[/c] to make the Sower lose all its abilities. I did this because I think I'll get my Bear Cub back, since the Sower no longer has the \"steal your creature\" ability. My opponent disagrees. Who is right?[/Q]"
          },
          "metadata": {}
        },
        {
          "output_type": "stream",
          "name": "stdout",
          "text": [
            "\n",
            "\n",
            "19-th English paragraph (of length 164 letters and 26 words)\n"
          ]
        },
        {
          "output_type": "display_data",
          "data": {
            "text/plain": [
              "<IPython.core.display.Markdown object>"
            ],
            "text/markdown": "> [A] Your opponent is correct. Removing the enters ability (that creates an effect with a duration) after the ability has resolved, doesn't stop it from functioning."
          },
          "metadata": {}
        },
        {
          "output_type": "stream",
          "name": "stdout",
          "text": [
            "\n",
            "\n",
            "20-th English paragraph (of length 370 letters and 60 words)\n"
          ]
        },
        {
          "output_type": "display_data",
          "data": {
            "text/plain": [
              "<IPython.core.display.Markdown object>"
            ],
            "text/markdown": "> If it helps, an example that seems more intuitive would be the following: My opponent used [c]Rootwater Matriarch[/c] to steel my [c]Hill Giant[/c] enchanted with [c]Spirit Link[/c]. Killing the Matriarch won't get the Hill Giant back, even though that removes where the steal ability came from. The duration is based on whether or not the Hill Giant is still enchanted."
          },
          "metadata": {}
        },
        {
          "output_type": "stream",
          "name": "stdout",
          "text": [
            "\n",
            "\n",
            "21-th English paragraph (of length 193 letters and 32 words)\n"
          ]
        },
        {
          "output_type": "display_data",
          "data": {
            "text/plain": [
              "<IPython.core.display.Markdown object>"
            ],
            "text/markdown": "> So with the original question, removing Sower's abilities doesn't stop the steal effect. You have to remove the Sower to gain the creature back because that ends the duration of the effect.[/A]"
          },
          "metadata": {}
        },
        {
          "output_type": "stream",
          "name": "stdout",
          "text": [
            "\n",
            "\n",
            "22-th English paragraph (of length 162 letters and 23 words)\n"
          ]
        },
        {
          "output_type": "display_data",
          "data": {
            "text/plain": [
              "<IPython.core.display.Markdown object>"
            ],
            "text/markdown": "> [hr]\n[Q] So continuing with the last question, what if instead of [c]Ovinize[/c]ing the [c]Sower of Temptation[/c] I phased it out with [c]Reality Ripple[/c]?[/Q]"
          },
          "metadata": {}
        },
        {
          "output_type": "stream",
          "name": "stdout",
          "text": [
            "\n",
            "\n",
            "23-th English paragraph (of length 260 letters and 46 words)\n"
          ]
        },
        {
          "output_type": "display_data",
          "data": {
            "text/plain": [
              "<IPython.core.display.Markdown object>"
            ],
            "text/markdown": "> [A] You would get your creature back. If a creature phases out, it's treated as though it's no longer on the battlefield. The duration of its effect has been met, so the effect ends and the stolen creature returns to its last controller, usually its owner.[/A]"
          },
          "metadata": {}
        },
        {
          "output_type": "stream",
          "name": "stdout",
          "text": [
            "\n",
            "\n",
            "24-th English paragraph (of length 226 letters and 32 words)\n"
          ]
        },
        {
          "output_type": "display_data",
          "data": {
            "text/plain": [
              "<IPython.core.display.Markdown object>"
            ],
            "text/markdown": "> [hr]\n[Q] I block my opponent's attacking [c]Bear Cub[/c] with [c]Manor Gargoyle[/c]. After combat ends, the opponent then casts [c]Disfigure[/c] targeting my Gargoyle. They claim they just killed my Gargoyle. Is this true?[/Q]"
          },
          "metadata": {}
        },
        {
          "output_type": "stream",
          "name": "stdout",
          "text": [
            "\n",
            "\n",
            "25-th English paragraph (of length 535 letters and 90 words)\n"
          ]
        },
        {
          "output_type": "display_data",
          "data": {
            "text/plain": [
              "<IPython.core.display.Markdown object>"
            ],
            "text/markdown": "> [A] It is not true, your Gargoyle lives through this. Many new players make this same wrong assumption. Damage doesn't reduce toughness. You have a 2/2 Gargoyle with 2 damage marked on it. Because it's indestructible, the state based action that tries to destroy it for having equal or more damage than it has toughness fails to do anything. If they want to get your Gargoyle into the graveyard, they need to give it enough [c=Dismember]-X/-X to make its toughness 0 or less[/c], or force you to [c=Diabolic Edict]sacrifice it[/c].[/A]"
          },
          "metadata": {}
        },
        {
          "output_type": "stream",
          "name": "stdout",
          "text": [
            "\n",
            "\n",
            "26-th English paragraph (of length 120 letters and 20 words)\n"
          ]
        },
        {
          "output_type": "display_data",
          "data": {
            "text/plain": [
              "<IPython.core.display.Markdown object>"
            ],
            "text/markdown": "> [hr]\n[Q] If [c]Ragavan, Nimble Pilferer[/c] is my commander, can I cast him for his dash cost from the command zone?[/Q]"
          },
          "metadata": {}
        },
        {
          "output_type": "stream",
          "name": "stdout",
          "text": [
            "\n",
            "\n",
            "27-th English paragraph (of length 129 letters and 27 words)\n"
          ]
        },
        {
          "output_type": "display_data",
          "data": {
            "text/plain": [
              "<IPython.core.display.Markdown object>"
            ],
            "text/markdown": "> [A] Yes, you can. Dash can be used from any zone, so long as you are allowed to cast that card from that same zone normally. [/A]"
          },
          "metadata": {}
        },
        {
          "output_type": "stream",
          "name": "stdout",
          "text": [
            "\n",
            "\n",
            "28-th English paragraph (of length 108 letters and 20 words)\n"
          ]
        },
        {
          "output_type": "display_data",
          "data": {
            "text/plain": [
              "<IPython.core.display.Markdown object>"
            ],
            "text/markdown": "> [hr]\n[Q] Following up with the last question, do I have to pay commander tax if I dash out my commander?[/Q]"
          },
          "metadata": {}
        },
        {
          "output_type": "stream",
          "name": "stdout",
          "text": [
            "\n",
            "\n",
            "29-th English paragraph (of length 350 letters and 64 words)\n"
          ]
        },
        {
          "output_type": "display_data",
          "data": {
            "text/plain": [
              "<IPython.core.display.Markdown object>"
            ],
            "text/markdown": "> [A] Yes, you do. Suppose you cast Ragavan normally on turn one, then later he died and returned to the command zone. When you go to dash him he now costs [m]3[/m][m]R[/m] to dash. Then if he dies again and returns to the command zone, the next time you go to cast him he costs either [m]4[/m][m]R[/m] to cast normally or [m]5[/m][m]R[/m] to dash.[/A]"
          },
          "metadata": {}
        },
        {
          "output_type": "stream",
          "name": "stdout",
          "text": [
            "\n",
            "\n",
            "30-th English paragraph (of length 199 letters and 37 words)\n"
          ]
        },
        {
          "output_type": "display_data",
          "data": {
            "text/plain": [
              "<IPython.core.display.Markdown object>"
            ],
            "text/markdown": "> [hr]\n[Q] I have eight cards in my hand. I go to my cleanup step and discard [c]Blazing Rootwalla[/c] to get down to maximum hand size. Can I cast the Rootwalla even though I'm in my cleanup step?[/Q]"
          },
          "metadata": {}
        },
        {
          "output_type": "stream",
          "name": "stdout",
          "text": [
            "\n",
            "\n",
            "31-th English paragraph (of length 264 letters and 45 words)\n"
          ]
        },
        {
          "output_type": "display_data",
          "data": {
            "text/plain": [
              "<IPython.core.display.Markdown object>"
            ],
            "text/markdown": "> [A] Yes, you can. During most cleanup steps, no players get priority. However, if an ability triggers during the cleanup step, or a state based action applies during a cleanup step, then the active player gains priority and may cast spells and activate abilities. "
          },
          "metadata": {}
        },
        {
          "output_type": "stream",
          "name": "stdout",
          "text": [
            "\n",
            "\n",
            "32-th English paragraph (of length 97 letters and 19 words)\n"
          ]
        },
        {
          "output_type": "display_data",
          "data": {
            "text/plain": [
              "<IPython.core.display.Markdown object>"
            ],
            "text/markdown": "> This is when you can cast the Rootwalla, as discarding it to madness puts a trigger on the stack."
          },
          "metadata": {}
        },
        {
          "output_type": "stream",
          "name": "stdout",
          "text": [
            "\n",
            "\n",
            "33-th English paragraph (of length 350 letters and 65 words)\n"
          ]
        },
        {
          "output_type": "display_data",
          "data": {
            "text/plain": [
              "<IPython.core.display.Markdown object>"
            ],
            "text/markdown": "> A normal priority pass will begin from here and until all players pass in succession with an empty stack, players may add new items to the stack when they have priority. Once all players pass with an empty stack, this cleanup step ends and a new one begins. If that new cleanup ends normally, then the game will move on to the next player's turn.[/A]"
          },
          "metadata": {}
        },
        {
          "output_type": "stream",
          "name": "stdout",
          "text": [
            "\n",
            "\n",
            "34-th English paragraph (of length 295 letters and 46 words)\n"
          ]
        },
        {
          "output_type": "display_data",
          "data": {
            "text/plain": [
              "<IPython.core.display.Markdown object>"
            ],
            "text/markdown": "> [hr]\n[Q] While resolving [c]Burning Inquiry[/c] I discarded [c]Basking Rootwalla[/c] and two [c]Mountain[/c]s. My opponent controls a [c]Rest in Peace[/c]. My opponent claims I can't cast the Rootwalla for its Madness cost as it got exiled by Rest in Peace when I discarded it. Is this true?[/Q]"
          },
          "metadata": {}
        },
        {
          "output_type": "stream",
          "name": "stdout",
          "text": [
            "\n",
            "\n",
            "35-th English paragraph (of length 564 letters and 106 words)\n"
          ]
        },
        {
          "output_type": "display_data",
          "data": {
            "text/plain": [
              "<IPython.core.display.Markdown object>"
            ],
            "text/markdown": "> [A] Your opponent is wrong. You can cast your Rootwalla for its madness cost. The Rootwalla hasn't been exiled by Rest in Peace yet. This is because madness doesn't quite work the way most people think it does. If a card with madness gets discarded, it goes to exile instead of being put into its owner's graveyard. Then the next time a player would get priority, a trigger allowing its owner to cast it for its madness cost is put on the stack. When this trigger resolves, the owner may cast the card, but if they don't then the card is put into their graveyard. "
          },
          "metadata": {}
        },
        {
          "output_type": "stream",
          "name": "stdout",
          "text": [
            "\n",
            "\n",
            "36-th English paragraph (of length 193 letters and 37 words)\n"
          ]
        },
        {
          "output_type": "display_data",
          "data": {
            "text/plain": [
              "<IPython.core.display.Markdown object>"
            ],
            "text/markdown": "> To get back to the original question, Rest in Peace can only exile a discarded Madness card after the owner has decided not to cast it for madness and choses to let it go to the graveyard.\n[/A]"
          },
          "metadata": {}
        },
        {
          "output_type": "stream",
          "name": "stdout",
          "text": [
            "\n",
            "\n",
            "37-th English paragraph (of length 276 letters and 46 words)\n"
          ]
        },
        {
          "output_type": "display_data",
          "data": {
            "text/plain": [
              "<IPython.core.display.Markdown object>"
            ],
            "text/markdown": "> [hr]\n[Q] My opponent pays [m]3[/m][m]U[/m] to gain level 2 on their [c]Stormchaser's Talent[/c]. Before it becomes level 2, I [c]Boomerang[/c] it to their hand. The opponent says they still get to return an instant or sorcery to their hand, I say they don't, who is right?[/Q]"
          },
          "metadata": {}
        },
        {
          "output_type": "stream",
          "name": "stdout",
          "text": [
            "\n",
            "\n",
            "38-th English paragraph (of length 372 letters and 70 words)\n"
          ]
        },
        {
          "output_type": "display_data",
          "data": {
            "text/plain": [
              "<IPython.core.display.Markdown object>"
            ],
            "text/markdown": "> [A] You are correct, they do not. Gaining a level is an ability that uses the stack and can be responded to. Stormchaser's level 2 ability is a trigger that triggers upon it becoming level 2 and happens only after it becomes level 2. If it's not on the battlefield when its level 2 ability resolves, there is no ability to trigger (nor a permanent to become level 2). [/A]"
          },
          "metadata": {}
        },
        {
          "output_type": "stream",
          "name": "stdout",
          "text": [
            "\n",
            "\n",
            "39-th English paragraph (of length 292 letters and 42 words)\n"
          ]
        },
        {
          "output_type": "display_data",
          "data": {
            "text/plain": [
              "<IPython.core.display.Markdown object>"
            ],
            "text/markdown": "> [hr]\n[cright=Bear Cub|PO2]Alex, the answer is \"What is another\nname for Ursine Child?\"[/cright][Q] I enchanted my opponent's [c]Bear Cub[/c] with my [c]Sigil of Sleep[/c]. If the Bear Cub goes unblocked attacking me, who chooses which creature I control gets returned to its owner's hand?[/Q]"
          },
          "metadata": {}
        },
        {
          "output_type": "stream",
          "name": "stdout",
          "text": [
            "\n",
            "\n",
            "40-th English paragraph (of length 60 letters and 12 words)\n"
          ]
        },
        {
          "output_type": "display_data",
          "data": {
            "text/plain": [
              "<IPython.core.display.Markdown object>"
            ],
            "text/markdown": "> [A] You get to choose as you control the Sigil of Sleep.[/A]"
          },
          "metadata": {}
        },
        {
          "output_type": "stream",
          "name": "stdout",
          "text": [
            "\n",
            "\n",
            "41-th English paragraph (of length 175 letters and 29 words)\n"
          ]
        },
        {
          "output_type": "display_data",
          "data": {
            "text/plain": [
              "<IPython.core.display.Markdown object>"
            ],
            "text/markdown": "> [hr]\n[Q] I attack with [c]Geist of Saint Traft[/c] while I control [c]Anointed Procession[/c]. When combat ends, will both Angel tokens get exiled or do I get to keep one?[/Q]"
          },
          "metadata": {}
        },
        {
          "output_type": "stream",
          "name": "stdout",
          "text": [
            "\n",
            "\n",
            "42-th English paragraph (of length 232 letters and 39 words)\n"
          ]
        },
        {
          "output_type": "display_data",
          "data": {
            "text/plain": [
              "<IPython.core.display.Markdown object>"
            ],
            "text/markdown": "> [A] Both still get exiled. Saint Traft's triggered ability still made both tokens and tracks them to be exiled at the end of combat. Procession doesn't make tokens, it just changes how many tokens other cards and abilities make.[/A]"
          },
          "metadata": {}
        },
        {
          "output_type": "stream",
          "name": "stdout",
          "text": [
            "\n",
            "\n",
            "43-th English paragraph (of length 221 letters and 39 words)\n"
          ]
        },
        {
          "output_type": "display_data",
          "data": {
            "text/plain": [
              "<IPython.core.display.Markdown object>"
            ],
            "text/markdown": "> [hr]\n[Q] I attack with [c]Geist of Saint Traft[/c], but before blocks, I cast [c]Eyes in the Skies[/c] choosing to populate the Angel token. When combat ends, will both Angel tokens get exiled or do I get to keep one?[/Q]"
          },
          "metadata": {}
        },
        {
          "output_type": "stream",
          "name": "stdout",
          "text": [
            "\n",
            "\n",
            "44-th English paragraph (of length 341 letters and 65 words)\n"
          ]
        },
        {
          "output_type": "display_data",
          "data": {
            "text/plain": [
              "<IPython.core.display.Markdown object>"
            ],
            "text/markdown": "> [A] You get to keep the one made by Eyes in the Skies. Unlike Anointed Procession from the last question, Eyes in the Skies makes the token and the token has no link to the ability that made the original Angel token. This includes that the second Angel token is not attacking, is not tapped, and it won't get exiled at the end of combat.[/A]"
          },
          "metadata": {}
        },
        {
          "output_type": "stream",
          "name": "stdout",
          "text": [
            "\n",
            "\n",
            "45-th English paragraph (of length 110 letters and 16 words)\n"
          ]
        },
        {
          "output_type": "display_data",
          "data": {
            "text/plain": [
              "<IPython.core.display.Markdown object>"
            ],
            "text/markdown": "> [hr]\n[Q] I don't understand what [c]Emrakul, the World Anew[/c] has protection from. Can you clarify this?[/Q]"
          },
          "metadata": {}
        },
        {
          "output_type": "stream",
          "name": "stdout",
          "text": [
            "\n",
            "\n",
            "46-th English paragraph (of length 205 letters and 34 words)\n"
          ]
        },
        {
          "output_type": "display_data",
          "data": {
            "text/plain": [
              "<IPython.core.display.Markdown object>"
            ],
            "text/markdown": "> [A] Emrakul has protection from spells and separately protection from permanents cast \"this turn\". This turn is whichever turn it currently is, even if it's been many turns since Emrakul herself was cast. "
          },
          "metadata": {}
        },
        {
          "output_type": "stream",
          "name": "stdout",
          "text": [
            "\n",
            "\n",
            "47-th English paragraph (of length 420 letters and 74 words)\n"
          ]
        },
        {
          "output_type": "display_data",
          "data": {
            "text/plain": [
              "<IPython.core.display.Markdown object>"
            ],
            "text/markdown": "> So for example, if I cast [c]Visara the Dreadful[/c] and gave her some [c]Lightning Greaves[/c] the same turn I cast her, she can't target and destroy Emrakul that turn. However, if I pass to my opponent's turn, Visara can now kill Emrakul as it's no longer the same turn Visara was cast. If I used [c]Goryo's Vengeance[/c] to reanimate Visara, then Visara could kill Emrakul that same turn as Visara wasn't cast at all."
          },
          "metadata": {}
        },
        {
          "output_type": "stream",
          "name": "stdout",
          "text": [
            "\n",
            "\n",
            "48-th English paragraph (of length 368 letters and 60 words)\n"
          ]
        },
        {
          "output_type": "display_data",
          "data": {
            "text/plain": [
              "<IPython.core.display.Markdown object>"
            ],
            "text/markdown": "> Emrakul's protection ability acts similar to having protection from Auras. Auras when cast target what they will enchant, so Emrakul is safe from most Auras. However, on later turns, an Aura could be moved from its original target, to enchant Emrakul. For example, you could move [c]Pacifism[/c] from a 1/1 Goblin token to Emrakul using [c]Crown of the Ages[/c]. \n[/A]"
          },
          "metadata": {}
        },
        {
          "output_type": "stream",
          "name": "stdout",
          "text": [
            "\n",
            "\n",
            "49-th English paragraph (of length 264 letters and 44 words)\n"
          ]
        },
        {
          "output_type": "display_data",
          "data": {
            "text/plain": [
              "<IPython.core.display.Markdown object>"
            ],
            "text/markdown": "> [hr]\n[Q] I cast [c]Season of Weaving[/c] choosing the two paws mode (to copy my [c]Arcanis the Omnipotent[/c]) and the three paws mode. Will I have to put one Arcanis into my graveyard due to the legend rule before bouncing all nonland and nontoken permanents?[/Q]"
          },
          "metadata": {}
        },
        {
          "output_type": "stream",
          "name": "stdout",
          "text": [
            "\n",
            "\n",
            "50-th English paragraph (of length 285 letters and 51 words)\n"
          ]
        },
        {
          "output_type": "display_data",
          "data": {
            "text/plain": [
              "<IPython.core.display.Markdown object>"
            ],
            "text/markdown": "> [A] You will not and you can not. The legend rule is a state based action. It's never checked in the middle of resolving a spell. You will put the original Arcanis into your hand before Season of Weaving fully resolves. The legend rule doesn't come into play during this situation.[/A]"
          },
          "metadata": {}
        },
        {
          "output_type": "stream",
          "name": "stdout",
          "text": [
            "\n",
            "\n",
            "51-th English paragraph (of length 273 letters and 44 words)\n"
          ]
        },
        {
          "output_type": "display_data",
          "data": {
            "text/plain": [
              "<IPython.core.display.Markdown object>"
            ],
            "text/markdown": "> [hr]\n[Q] If I cast [c]Righteous Confluence[/c] choosing mode two once to exile my opponent's [c]Leyline of Sanctity[/c] and mode three twice to gain 10 total life, and the opponent responds by [c]Boomerang[/c]ing the Leyline back to their hand, do I still gain 10 life?[/Q]"
          },
          "metadata": {}
        },
        {
          "output_type": "stream",
          "name": "stdout",
          "text": [
            "\n",
            "\n",
            "52-th English paragraph (of length 227 letters and 42 words)\n"
          ]
        },
        {
          "output_type": "display_data",
          "data": {
            "text/plain": [
              "<IPython.core.display.Markdown object>"
            ],
            "text/markdown": "> [A] You do not. Righteous Confluence had only one target, Leyline of Sanctity, and that target has disappeared. If a spell loses all of its targets by the time it goes to resolve, it fizzles and none of its effects happen. [/A]"
          },
          "metadata": {}
        },
        {
          "output_type": "stream",
          "name": "stdout",
          "text": [
            "\n",
            "\n",
            "53-th English paragraph (of length 280 letters and 53 words)\n"
          ]
        },
        {
          "output_type": "display_data",
          "data": {
            "text/plain": [
              "<IPython.core.display.Markdown object>"
            ],
            "text/markdown": "> [hr]\n[Q] I just cast [c]Cultivate[/c] putting a [c]Swamp[/c] onto the battlefield and a [c]Forest[/c] into my hand. I haven't played a land from my hand yet this turn. Can I still play the Forest as my land drop for the turn, or did the Swamp use up my land drop for the turn?[/Q]"
          },
          "metadata": {}
        },
        {
          "output_type": "stream",
          "name": "stdout",
          "text": [
            "\n",
            "\n",
            "54-th English paragraph (of length 142 letters and 27 words)\n"
          ]
        },
        {
          "output_type": "display_data",
          "data": {
            "text/plain": [
              "<IPython.core.display.Markdown object>"
            ],
            "text/markdown": "> [A] You may still play the Forest. Putting a land onto the battlefield with a spell or ability doesn't use up your one land drop per turn.[/A]"
          },
          "metadata": {}
        },
        {
          "output_type": "stream",
          "name": "stdout",
          "text": [
            "\n",
            "\n",
            "55-th English paragraph (of length 4 letters and 1 words)\n"
          ]
        },
        {
          "output_type": "display_data",
          "data": {
            "text/plain": [
              "<IPython.core.display.Markdown object>"
            ],
            "text/markdown": "> [hr]"
          },
          "metadata": {}
        },
        {
          "output_type": "stream",
          "name": "stdout",
          "text": [
            "\n",
            "\n",
            "56-th English paragraph (of length 1037 letters and 175 words)\n"
          ]
        },
        {
          "output_type": "display_data",
          "data": {
            "text/plain": [
              "<IPython.core.display.Markdown object>"
            ],
            "text/markdown": "> Each Question in my last article had a hidden reference to a different pop-culture pig. With ten different questions there were ten different pigs. The spoiler below has the answer key to those references.\n[spoiler]\nQuestion 1) Charlotte's Web - Wilbur the Pig and Charlotte the Spider\nQuestion 2) Jim Henson's Muppets - Miss Piggy, Kermit the Frog, and Fozzie Bear.\nQuestion 3) The Three Little Pigs and the Big Bad Wolf\nQuestion 4) Angry Birds Video Game (Birds vs Pigs)\nQuestion 5) Looney Tunes - Bugs Bunny, Porky Pig, and Daffy Duck\nQuestion 6) Babe the 1995 Movie - Babe the Pig, Sheep for Babe to herd, and Farmer Arthur Hoggett\nQuestion 7) Legend of Zelda - Link an Elf Warrior, Zelda an Elf Noble, and Ganon (pig form of Ganondorf)\nQuestion 8) The Lion King - Timon the Meerkat, Pumbaa the Warthog, and some Hyenas for them to fight.\nQuestion 9) Toy Story - Woody the Cowboy, Buzz the Spaceman, Rex the T-Rex, and Hamm the Piggy Bank.\nQuestion 10) Winnie the Pooh - Pooh the Bear, Tigger the Tiger, and Piglet the Pig.[/spoiler]"
          },
          "metadata": {}
        },
        {
          "output_type": "stream",
          "name": "stdout",
          "text": [
            "\n",
            "\n",
            "57-th English paragraph (of length 62 letters and 10 words)\n"
          ]
        },
        {
          "output_type": "display_data",
          "data": {
            "text/plain": [
              "<IPython.core.display.Markdown object>"
            ],
            "text/markdown": "> - Justin Hovdenes AKA Hovey\nLevel 2 Magic Judge\nRapid City, SD"
          },
          "metadata": {}
        },
        {
          "output_type": "stream",
          "name": "stdout",
          "text": [
            "- Generating the Markdown content to write to Google doc:\n",
            "The entire content to write is:\n"
          ]
        },
        {
          "output_type": "display_data",
          "data": {
            "text/plain": [
              "<IPython.core.display.Markdown object>"
            ],
            "text/markdown": "> \n    # TITLE: « Cranial Insertion: All in Jeopardy (Can you answer in the form of a question?) »\n\n    - Une suggestion pour la traduction de ce titre en français est :\n    TITRE : « Cranial Insertion: All in Jeopardy (Pouvez-vous répondre sous la forme d'une question?) »\n\n    - Le dernier article vient de cette page web : https://www.cranial-insertion.com/article/4376\n    - Il a été publié le : Mon, 31 Mar 2025 00:00:00 EDT\n\n    -----------------------------------------------------\n    \n\n[cright=Living Death]\"Alex, the answer is \"What would be an\nexample of an oximoron?\"[/cright]\n\nToday we have a collection of questions found on the IRC Chatroom #magicjudges-rules and the Facebook group Ask the Judge - [b]Magic[/b]: The Gathering Rules and Policy Questions. Feel free to join us in either or both groups.\n\nIf you have any [b]Magic[/b] questions burning at the back of your brain, you can send them to us. We may even use them in a future article. If you have a short question, you can send it to us via our Twitter account at [url=https://twitter.com/CranialTweet]@CranialTweet[/url], and you can send us longer questions at [email]moko@cranialinsertion.com[/email].\n\n[hr]\n[Q] I have two [c]Squire[/c]s on the battlefield and I have [c]Custodi Soulbinders[/c] and four copies of [c]Bear Cub[/c] in my graveyard. If I cast [c]Living Death[/c], how many +1/+1 counters will Soulbinders enter with?[/Q]\n\n[A] Custodi Soulbinders will enter with zero +1/+1 counters. Souldbinders and the Bears will enter simultaneously. Soulbinders' first ability is a replacement effect that checks to see how many creatures are on the battlefield just before it enters. At that point there are no creatures on the board, so it gets no counters as it enters.[/A]\n\n[hr]\n[Q] My commander is [c]Grimgrin, Corpse-Born[/c]. Grimgrin was [c]Murder[/c]ed last turn and I choose to move him to the command zone. I control [c]Rooftop Storm[/c]. If I try to cast Grimgrin from the command zone, will he cost [m]2[/m] or will he be free?[/Q]\n\n[A] He will cost [m]2[/m]. \nCommander \"tax\" is an additional cost that must be paid in addition to the normal cost for casting your commander. Rooftop Storm gives you the option of replacing the normal cost of casting your Zombies with [m]0[/m]. This has no effect on additional costs.  [/A]\n\n[hr]\n[Q] My opponent exiled [c]Wheel of Fate[/c] with [c]Reckless Impulse[/c]. She now claims she can cast Wheel of Fate because it's in exile. Is that true?[/Q]\n\n[A] Your opponent is wrong. The part of suspend that lets you cast a card with no mana cost is casting it without paying its mana cost, not that it's casting it from exile.[/A]\n\n[hr]\n[Q] I control four [c]Bear Cub[/c]s, [c]Agrus Kos, Eternal Soldier[/c], and [c]Thundering Raiju[/c]. None of my creatures are currently modified. I attack with the Raiju and have its attack trigger target Agrus. When Agrus's ability triggers because he became targeted, I pay the cost. After all these triggers resolve, how much damage will Raiju deal to each opponent?[/Q]\n\n[A] The Answer is between 15-19 damage, depending on when you let the trigger targeting Raiju resolve.\n\nWhen Agrus's trigger resolves, it creates five copies of Raiju's trigger, one for each Bear and one for Raiju, making a total of six Raiju triggers. The last trigger to resolve has to be the one targeting Agrus, and the other five resolve before it in the order of your choosing. \n\nFor our first example, we will have the trigger targeting Raiju resolve first, then the four triggers targeting Bears, and finally the one targeting Agrus.\n\nRaiju gets a +1/+1 counter, no damage is dealt as Raiju only checks modified creatures other than himself. Total damage 0.\nBear #1 gets a +1/+1 counter, 1 damage is dealt as there is only one modified creature other than Raiju. Total damage 1.\nBear #2 gets a +1/+1 counter, 2 damage is dealt as there are now two modified creatures. Total damage 3.\nBear #3 gets a +1/+1 counter, 3 damage is dealt. Total damage 6.\nBear #4 gets a counter, 4 damage is dealt. Total damage of 10.\nAgrus get a a counter, 5 damage is dealt. Total damage of 15.\n\nNow let's have the four Bears' triggers resolve first, then Raiju, followed by Agrus.\nBear #1, 1 damage is dealt. Total damage 1.\nBear #2, 2 damage is dealt. Total damage 3.\nBear #3, 3 damage id dealt. Total damage 6.\nBear #4, 4 damage is dealt. Total damage is 10.\nRaiju, 4 damage is dealt. Total damage is 14.\nAgrus, 5 damage is dealt. Total damage is 19.\n\nThe later the trigger targeting Raiju resolves, the more the total damage.\n [/A]\n\n[hr]\n[cleft=Grafdigger's Cage]Alex, the answer is \"What is used to \nkeep the dead from escaping their graves?\"[/cleft][Q] Does [c]Grafdigger's Cage[/c] stop [c]Abhorrent Oculus[/c] from manifest-dreading?[/Q]\n\n[A] Well, in the important ways, yes. They still \"manifest dread\", but some parts they can't complete. Manifest Dread is \"Look at the top two cards of your library. Manifest one of them, then put the cards you looked at that were not manifested this way into your graveyard.\" Since you can't put a creature from your library into play, both cards looked at are put into the graveyard.[/A]\n\n[hr]\n[Q] Last turn my opponent stole my [c]Bear Cub[/c] by casting [c]Sower of Temptation[/c]. This turn I used [c]Ovinize[/c] to make the Sower lose all its abilities. I did this because I think I'll get my Bear Cub back, since the Sower no longer has the \"steal your creature\" ability. My opponent disagrees. Who is right?[/Q]\n\n[A] Your opponent is correct. Removing the enters ability (that creates an effect with a duration) after the ability has resolved, doesn't stop it from functioning.\n\nIf it helps, an example that seems more intuitive would be the following: My opponent used [c]Rootwater Matriarch[/c] to steel my [c]Hill Giant[/c] enchanted with [c]Spirit Link[/c]. Killing the Matriarch won't get the Hill Giant back, even though that removes where the steal ability came from. The duration is based on whether or not the Hill Giant is still enchanted.\n\nSo with the original question, removing Sower's abilities doesn't stop the steal effect. You have to remove the Sower to gain the creature back because that ends the duration of the effect.[/A]\n\n[hr]\n[Q] So continuing with the last question, what if instead of [c]Ovinize[/c]ing the [c]Sower of Temptation[/c] I phased it out with [c]Reality Ripple[/c]?[/Q]\n\n[A] You would get your creature back. If a creature phases out, it's treated as though it's no longer on the battlefield. The duration of its effect has been met, so the effect ends and the stolen creature returns to its last controller, usually its owner.[/A]\n\n[hr]\n[Q] I block my opponent's attacking [c]Bear Cub[/c] with [c]Manor Gargoyle[/c]. After combat ends, the opponent then casts [c]Disfigure[/c] targeting my Gargoyle. They claim they just killed my Gargoyle. Is this true?[/Q]\n\n[A] It is not true, your Gargoyle lives through this. Many new players make this same wrong assumption. Damage doesn't reduce toughness. You have a 2/2 Gargoyle with 2 damage marked on it. Because it's indestructible, the state based action that tries to destroy it for having equal or more damage than it has toughness fails to do anything. If they want to get your Gargoyle into the graveyard, they need to give it enough [c=Dismember]-X/-X to make its toughness 0 or less[/c], or force you to [c=Diabolic Edict]sacrifice it[/c].[/A]\n\n[hr]\n[Q] If [c]Ragavan, Nimble Pilferer[/c] is my commander, can I cast him for his dash cost from the command zone?[/Q]\n\n[A] Yes, you can. Dash can be used from any zone, so long as you are allowed to cast that card from that same zone normally. [/A]\n\n[hr]\n[Q] Following up with the last question, do I have to pay commander tax if I dash out my commander?[/Q]\n\n[A] Yes, you do. Suppose you cast Ragavan normally on turn one, then later he died and returned to the command zone. When you go to dash him he now costs [m]3[/m][m]R[/m] to dash. Then if he dies again and returns to the command zone, the next time you go to cast him he costs either [m]4[/m][m]R[/m] to cast normally or [m]5[/m][m]R[/m] to dash.[/A]\n\n[hr]\n[Q] I have eight cards in my hand. I go to my cleanup step and discard [c]Blazing Rootwalla[/c] to get down to maximum hand size. Can I cast the Rootwalla even though I'm in my cleanup step?[/Q]\n\n[A] Yes, you can. During most cleanup steps, no players get priority. However, if an ability triggers during the cleanup step, or a state based action applies during a cleanup step, then the active player gains priority and may cast spells and activate abilities. \n\nThis is when you can cast the Rootwalla, as discarding it to madness puts a trigger on the stack.\n\nA normal priority pass will begin from here and until all players pass in succession with an empty stack, players may add new items to the stack when they have priority. Once all players pass with an empty stack, this cleanup step ends and a new one begins. If that new cleanup ends normally, then the game will move on to the next player's turn.[/A]\n\n[hr]\n[Q] While resolving [c]Burning Inquiry[/c] I discarded [c]Basking Rootwalla[/c] and two [c]Mountain[/c]s. My opponent controls a [c]Rest in Peace[/c]. My opponent claims I can't cast the Rootwalla for its Madness cost as it got exiled by Rest in Peace when I discarded it. Is this true?[/Q]\n\n[A] Your opponent is wrong. You can cast your Rootwalla for its madness cost. The Rootwalla hasn't been exiled by Rest in Peace yet. This is because madness doesn't quite work the way most people think it does. If a card with madness gets discarded, it goes to exile instead of being put into its owner's graveyard. Then the next time a player would get priority, a trigger allowing its owner to cast it for its madness cost is put on the stack. When this trigger resolves, the owner may cast the card, but if they don't then the card is put into their graveyard. \n\nTo get back to the original question, Rest in Peace can only exile a discarded Madness card after the owner has decided not to cast it for madness and choses to let it go to the graveyard.\n[/A]\n\n[hr]\n[Q] My opponent pays [m]3[/m][m]U[/m] to gain level 2 on their [c]Stormchaser's Talent[/c]. Before it becomes level 2, I [c]Boomerang[/c] it to their hand. The opponent says they still get to return an instant or sorcery to their hand, I say they don't, who is right?[/Q]\n\n[A] You are correct, they do not. Gaining a level is an ability that uses the stack and can be responded to. Stormchaser's level 2 ability is a trigger that triggers upon it becoming level 2 and happens only after it becomes level 2. If it's not on the battlefield when its level 2 ability resolves, there is no ability to trigger (nor a permanent to become level 2). [/A]\n\n[hr]\n[cright=Bear Cub|PO2]Alex, the answer is \"What is another\nname for Ursine Child?\"[/cright][Q] I enchanted my opponent's [c]Bear Cub[/c] with my [c]Sigil of Sleep[/c]. If the Bear Cub goes unblocked attacking me, who chooses which creature I control gets returned to its owner's hand?[/Q]\n\n[A] You get to choose as you control the Sigil of Sleep.[/A]\n\n[hr]\n[Q] I attack with [c]Geist of Saint Traft[/c] while I control [c]Anointed Procession[/c]. When combat ends, will both Angel tokens get exiled or do I get to keep one?[/Q]\n\n[A] Both still get exiled. Saint Traft's triggered ability still made both tokens and tracks them to be exiled at the end of combat. Procession doesn't make tokens, it just changes how many tokens other cards and abilities make.[/A]\n\n[hr]\n[Q] I attack with [c]Geist of Saint Traft[/c], but before blocks, I cast [c]Eyes in the Skies[/c] choosing to populate the Angel token. When combat ends, will both Angel tokens get exiled or do I get to keep one?[/Q]\n\n[A] You get to keep the one made by Eyes in the Skies. Unlike Anointed Procession from the last question, Eyes in the Skies makes the token and the token has no link to the ability that made the original Angel token. This includes that the second Angel token is not attacking, is not tapped, and it won't get exiled at the end of combat.[/A]\n\n[hr]\n[Q] I don't understand what [c]Emrakul, the World Anew[/c] has protection from. Can you clarify this?[/Q]\n\n[A] Emrakul has protection from spells and separately protection from permanents cast \"this turn\". This turn is whichever turn it currently is, even if it's been many turns since Emrakul herself was cast. \n\nSo for example, if I cast [c]Visara the Dreadful[/c] and gave her some [c]Lightning Greaves[/c] the same turn I cast her, she can't target and destroy Emrakul that turn. However, if I pass to my opponent's turn, Visara can now kill Emrakul as it's no longer the same turn Visara was cast. If I used [c]Goryo's Vengeance[/c] to reanimate Visara, then Visara could kill Emrakul that same turn as Visara wasn't cast at all.\n\nEmrakul's protection ability acts similar to having protection from Auras. Auras when cast target what they will enchant, so Emrakul is safe from most Auras. However, on later turns, an Aura could be moved from its original target, to enchant Emrakul. For example, you could move [c]Pacifism[/c] from a 1/1 Goblin token to Emrakul using [c]Crown of the Ages[/c]. \n[/A]\n\n[hr]\n[Q] I cast [c]Season of Weaving[/c] choosing the two paws mode (to copy my [c]Arcanis the Omnipotent[/c]) and the three paws mode. Will I have to put one Arcanis into my graveyard due to the legend rule before bouncing all nonland and nontoken permanents?[/Q]\n\n[A] You will not and you can not. The legend rule is a state based action. It's never checked in the middle of resolving a spell. You will put the original Arcanis into your hand before Season of Weaving fully resolves. The legend rule doesn't come into play during this situation.[/A]\n\n[hr]\n[Q] If I cast [c]Righteous Confluence[/c] choosing mode two once to exile my opponent's [c]Leyline of Sanctity[/c] and mode three twice to gain 10 total life, and the opponent responds by [c]Boomerang[/c]ing the Leyline back to their hand, do I still gain 10 life?[/Q]\n\n[A] You do not. Righteous Confluence had only one target, Leyline of Sanctity, and that target has disappeared. If a spell loses all of its targets by the time it goes to resolve, it fizzles and none of its effects happen. [/A]\n\n[hr]\n[Q] I just cast [c]Cultivate[/c] putting a [c]Swamp[/c] onto the battlefield and a [c]Forest[/c] into my hand. I haven't played a land from my hand yet this turn. Can I still play the Forest as my land drop for the turn, or did the Swamp use up my land drop for the turn?[/Q]\n\n[A] You may still play the Forest. Putting a land onto the battlefield with a spell or ability doesn't use up your one land drop per turn.[/A]\n\n[hr]\n\nEach Question in my last article had a hidden reference to a different pop-culture pig. With ten different questions there were ten different pigs. The spoiler below has the answer key to those references.\n[spoiler]\nQuestion 1) Charlotte's Web - Wilbur the Pig and Charlotte the Spider\nQuestion 2) Jim Henson's Muppets - Miss Piggy, Kermit the Frog, and Fozzie Bear.\nQuestion 3) The Three Little Pigs and the Big Bad Wolf\nQuestion 4) Angry Birds Video Game (Birds vs Pigs)\nQuestion 5) Looney Tunes - Bugs Bunny, Porky Pig, and Daffy Duck\nQuestion 6) Babe the 1995 Movie - Babe the Pig, Sheep for Babe to herd, and Farmer Arthur Hoggett\nQuestion 7) Legend of Zelda - Link an Elf Warrior, Zelda an Elf Noble, and Ganon (pig form of Ganondorf)\nQuestion 8) The Lion King - Timon the Meerkat, Pumbaa the Warthog, and some Hyenas for them to fight.\nQuestion 9) Toy Story - Woody the Cowboy, Buzz the Spaceman, Rex the T-Rex, and Hamm the Piggy Bank.\nQuestion 10) Winnie the Pooh - Pooh the Bear, Tigger the Tiger, and Piglet the Pig.[/spoiler]\n\n- Justin Hovdenes AKA Hovey\nLevel 2 Magic Judge\nRapid City, SD"
          },
          "metadata": {}
        },
        {
          "output_type": "stream",
          "name": "stdout",
          "text": [
            "{'replies': [{}, {}, {}, {}, {}, {}, {}, {}, {}, {}, {}, {}, {}, {}, {}, {}, {}, {}, {}, {}, {}, {}, {}, {}, {}, {}, {}, {}, {}, {}, {}, {}, {}, {}, {}, {}, {}, {}, {}, {}, {}, {}, {}, {}, {}, {}, {}, {}, {}, {}, {}, {}, {}, {}, {}, {}, {}, {}, {}, {}, {}, {}, {}, {}, {}, {}, {}, {}, {}, {}, {}, {}, {}, {}, {}, {}, {}, {}, {}, {}, {}, {}, {}, {}, {}, {}, {}, {}, {}, {}, {}, {}, {}, {}, {}, {}, {}, {}, {}, {}, {}, {}, {}, {}, {}, {}, {}, {}, {}, {}, {}, {}, {}, {}, {}, {}, {}, {}, {}, {}, {}, {}, {}, {}, {}, {}, {}, {}, {}, {}, {}, {}, {}, {}, {}, {}, {}, {}, {}, {}, {}, {}, {}, {}, {}, {}, {}, {}, {}, {}, {}, {}, {}, {}, {}, {}, {}, {}, {}, {}, {}, {}, {}, {}, {}, {}, {}, {}, {}, {}, {}, {}, {}, {}, {}, {}, {}, {}], 'writeControl': {'requiredRevisionId': 'ALBJ4LsPa7aFSC00gFRAKkLEQnBrbtoKHU2y4dT7qxRhOpUd00nYiqWrR9VlSiWS1tYUDKeFIkSqznCMTzRSGw'}, 'documentId': '1DzS5Fq6iug9qnxwP0iAehLIBrTM8iQL50-AKO8REaDo'}\n",
            "The Google doc at this URL has been modified with the desired content of length 15791:\n",
            "https://docs.google.com/document/d/1DzS5Fq6iug9qnxwP0iAehLIBrTM8iQL50-AKO8REaDo/edit?usp=sharing\n"
          ]
        },
        {
          "output_type": "display_data",
          "data": {
            "text/plain": [
              "<IPython.core.display.Markdown object>"
            ],
            "text/markdown": "> ||@everyone|| [Notre Google doc partagé](https://docs.google.com/document/d/1DzS5Fq6iug9qnxwP0iAehLIBrTM8iQL50-AKO8REaDo/edit?usp=sharing) a été mis à jour, avec le brouillon de traduction pour [le nouvel article hebdomadaire](https://www.cranial-insertion.com/article/4376).\n\nCet article s'intitule \"Cranial Insertion: All in Jeopardy (Can you answer in the form of a question?)\", a été publié le Mon, 31 Mar 2025 00:00:00 EDT, et son ID est 4376.\n\n> Envoyé automatiquement depuis un notebook Python executé sur Google Colab! Code by @Naereen\n"
          },
          "metadata": {}
        },
        {
          "output_type": "stream",
          "name": "stdout",
          "text": [
            "Starting to send the following message to my Discord server:\n",
            "||@everyone|| [Notre Google doc partagé](https://docs.google.com/document/d/1DzS5Fq6iug9qnxwP0iAehLIBrTM8iQL50-AKO8REaDo/edit?usp=sharing) a été mis à jour, avec le brouillon de traduction pour [le nouvel article hebdomadaire](https://www.cranial-insertion.com/article/4376).\n",
            "\n",
            "Cet article s'intitule \"Cranial Insertion: All in Jeopardy (Can you answer in the form of a question?)\", a été publié le Mon, 31 Mar 2025 00:00:00 EDT, et son ID est 4376.\n",
            "\n",
            "> Envoyé automatiquement depuis un notebook Python executé sur Google Colab! Code by @Naereen\n",
            "\n",
            "Success!\n",
            "CPU times: user 520 ms, sys: 26.2 ms, total: 546 ms\n",
            "Wall time: 2.39 s\n"
          ]
        },
        {
          "output_type": "execute_result",
          "data": {
            "text/plain": [
              "''"
            ],
            "application/vnd.google.colaboratory.intrinsic+json": {
              "type": "string"
            }
          },
          "metadata": {},
          "execution_count": 102
        }
      ]
    },
    {
      "cell_type": "markdown",
      "source": [
        "Let's try to translate the latest article, on the CPU (free):"
      ],
      "metadata": {
        "id": "JrI8IQsukJQg"
      }
    },
    {
      "cell_type": "code",
      "source": [
        "%%time\n",
        "do_all_then_notifyme(translate=True)"
      ],
      "metadata": {
        "colab": {
          "base_uri": "https://localhost:8080/",
          "height": 1000,
          "referenced_widgets": [
            "e2e2ee1c898a44df869381d61a070816",
            "d8185418d9c442ada7541ef13bb9e1d5",
            "f7959696a22547c3ba9704006cf96b31",
            "48239e4f90044491af310931a9b3ea07",
            "06cf189412874f38873d124f3b05ae64",
            "ab2f5e41c9d0406b8145a310e08a2344",
            "81167ebcdb284a8cbdf29a1f4cd57ecf",
            "8e1d5282555c44378a9fe5ea431415ab",
            "0c7e64c064d44f4ab3e9b425a98de000",
            "9b2e2c9d330445069217a72a8ca6b307",
            "64ab607c929843949b936ef7720b79d9"
          ]
        },
        "id": "BF1dk9-hkIqO",
        "outputId": "a77c0753-4bae-4d44-c469-221a48768cd6"
      },
      "execution_count": null,
      "outputs": [
        {
          "output_type": "stream",
          "name": "stdout",
          "text": [
            "- The latest article ID is: 4376... Downloading it...\n",
            "Then translating it...\n",
            "Then uploading it to our Google doc...\n",
            "- The latest article ID is: 4376... Downloading it, then translating it...\n",
            "Reading the article at URL https://www.cranial-insertion.com/staff/articles/4376/edit ...\n",
            "Using French language and my admin cookie...\n",
            "The web page has been read and it's title is « <title>Cranial Insertion | Manage Articles</title> » !\n"
          ]
        },
        {
          "output_type": "display_data",
          "data": {
            "text/plain": [
              "0it [00:00, ?it/s]"
            ],
            "application/vnd.jupyter.widget-view+json": {
              "version_major": 2,
              "version_minor": 0,
              "model_id": "e2e2ee1c898a44df869381d61a070816"
            }
          },
          "metadata": {}
        },
        {
          "output_type": "stream",
          "name": "stdout",
          "text": [
            "\n",
            "\n",
            "0-th English paragraph (of length 93 letters and 12 words)\n"
          ]
        },
        {
          "output_type": "display_data",
          "data": {
            "text/plain": [
              "<IPython.core.display.Markdown object>"
            ],
            "text/markdown": "> [cright=Living Death]\"Alex, the answer is \"What would be an\nexample of an oximoron?\"[/cright]"
          },
          "metadata": {}
        },
        {
          "output_type": "stream",
          "name": "stdout",
          "text": [
            "Translated 0-th paragraph in French (of length 87 letters and 10 words)\n"
          ]
        },
        {
          "output_type": "display_data",
          "data": {
            "text/plain": [
              "<IPython.core.display.Markdown object>"
            ],
            "text/markdown": "> [crightLiving Death]\"Alex, la réponse est \"Quel serait un exemple d'oximoron?\"[/cright]"
          },
          "metadata": {}
        },
        {
          "output_type": "stream",
          "name": "stdout",
          "text": [
            "\n",
            "\n",
            "1-th English paragraph (of length 226 letters and 38 words)\n"
          ]
        },
        {
          "output_type": "display_data",
          "data": {
            "text/plain": [
              "<IPython.core.display.Markdown object>"
            ],
            "text/markdown": "> Today we have a collection of questions found on the IRC Chatroom #magicjudges-rules and the Facebook group Ask the Judge - [b]Magic[/b]: The Gathering Rules and Policy Questions. Feel free to join us in either or both groups."
          },
          "metadata": {}
        },
        {
          "output_type": "stream",
          "name": "stdout",
          "text": [
            "Translated 1-th paragraph in French (of length 254 letters and 39 words)\n"
          ]
        },
        {
          "output_type": "display_data",
          "data": {
            "text/plain": [
              "<IPython.core.display.Markdown object>"
            ],
            "text/markdown": "> Aujourd'hui, nous avons une collection de questions trouvées sur le IRC Chatroom magicjudges-rules et le groupe Facebook Ask the Judge - [b]Magic[/b]: The Gathering Rules and Policy Questions. N'hésitez pas à nous rejoindre dans l'un ou les deux groupes."
          },
          "metadata": {}
        },
        {
          "output_type": "stream",
          "name": "stdout",
          "text": [
            "\n",
            "\n",
            "2-th English paragraph (of length 360 letters and 55 words)\n"
          ]
        },
        {
          "output_type": "display_data",
          "data": {
            "text/plain": [
              "<IPython.core.display.Markdown object>"
            ],
            "text/markdown": "> If you have any [b]Magic[/b] questions burning at the back of your brain, you can send them to us. We may even use them in a future article. If you have a short question, you can send it to us via our Twitter account at [url=https://twitter.com/CranialTweet]@CranialTweet[/url], and you can send us longer questions at [email]moko@cranialinsertion.com[/email]."
          },
          "metadata": {}
        },
        {
          "output_type": "stream",
          "name": "stdout",
          "text": [
            "Translated 2-th paragraph in French (of length 408 letters and 52 words)\n"
          ]
        },
        {
          "output_type": "display_data",
          "data": {
            "text/plain": [
              "<IPython.core.display.Markdown object>"
            ],
            "text/markdown": "> Si vous avez des questions magiques qui brûlent à l'arrière de votre cerveau, vous pouvez nous les envoyer..Nous pourrions même les utiliser dans un prochain article..Si vous avez une petite question, vous pouvez nous l'envoyer via notre compte Twitter à [urlhttps://twitter.com/CranialTweet]CranialTweet[/url], et vous pouvez nous envoyer des questions plus longues à [email]mokocranialinsertion.com[/email]"
          },
          "metadata": {}
        },
        {
          "output_type": "stream",
          "name": "stdout",
          "text": [
            "\n",
            "\n",
            "3-th English paragraph (of length 231 letters and 35 words)\n"
          ]
        },
        {
          "output_type": "display_data",
          "data": {
            "text/plain": [
              "<IPython.core.display.Markdown object>"
            ],
            "text/markdown": "> [hr]\n[Q] I have two [c]Squire[/c]s on the battlefield and I have [c]Custodi Soulbinders[/c] and four copies of [c]Bear Cub[/c] in my graveyard. If I cast [c]Living Death[/c], how many +1/+1 counters will Soulbinders enter with?[/Q]"
          },
          "metadata": {}
        },
        {
          "output_type": "stream",
          "name": "stdout",
          "text": [
            "Translated 3-th paragraph in French (of length 245 letters and 36 words)\n"
          ]
        },
        {
          "output_type": "display_data",
          "data": {
            "text/plain": [
              "<IPython.core.display.Markdown object>"
            ],
            "text/markdown": "> [hr] [Q] J'ai deux [c]Squire[/c]s sur le champ de bataille et j'ai [c]Custodi Soulbinders[/c] et quatre copies de [c]Bear Cub[/c] dans mon cimetière. Si je lance [c]Living Death[/c], combien de marqueurs +1/+1 Soulbinders entrera-t-il avec ?[/Q]"
          },
          "metadata": {}
        },
        {
          "output_type": "stream",
          "name": "stdout",
          "text": [
            "\n",
            "\n",
            "4-th English paragraph (of length 341 letters and 56 words)\n"
          ]
        },
        {
          "output_type": "display_data",
          "data": {
            "text/plain": [
              "<IPython.core.display.Markdown object>"
            ],
            "text/markdown": "> [A] Custodi Soulbinders will enter with zero +1/+1 counters. Souldbinders and the Bears will enter simultaneously. Soulbinders' first ability is a replacement effect that checks to see how many creatures are on the battlefield just before it enters. At that point there are no creatures on the board, so it gets no counters as it enters.[/A]"
          },
          "metadata": {}
        },
        {
          "output_type": "stream",
          "name": "stdout",
          "text": [
            "Translated 4-th paragraph in French (of length 369 letters and 59 words)\n"
          ]
        },
        {
          "output_type": "display_data",
          "data": {
            "text/plain": [
              "<IPython.core.display.Markdown object>"
            ],
            "text/markdown": "> [A] Custodi Soulbinders entrera avec zéro marqueur +1/+1. Souldbinders et les Bears entreront simultanément. La première capacité de Soulbinders est un effet de remplacement qui vérifie le nombre de créatures sur le champ de bataille juste avant d'entrer. À ce moment-là, il n'y a pas de créatures sur le plateau, donc il ne reçoit pas de marqueurs lorsqu'il entre.[/A]"
          },
          "metadata": {}
        },
        {
          "output_type": "stream",
          "name": "stdout",
          "text": [
            "\n",
            "\n",
            "5-th English paragraph (of length 266 letters and 44 words)\n"
          ]
        },
        {
          "output_type": "display_data",
          "data": {
            "text/plain": [
              "<IPython.core.display.Markdown object>"
            ],
            "text/markdown": "> [hr]\n[Q] My commander is [c]Grimgrin, Corpse-Born[/c]. Grimgrin was [c]Murder[/c]ed last turn and I choose to move him to the command zone. I control [c]Rooftop Storm[/c]. If I try to cast Grimgrin from the command zone, will he cost [m]2[/m] or will he be free?[/Q]"
          },
          "metadata": {}
        },
        {
          "output_type": "stream",
          "name": "stdout",
          "text": [
            "Translated 5-th paragraph in French (of length 293 letters and 44 words)\n"
          ]
        },
        {
          "output_type": "display_data",
          "data": {
            "text/plain": [
              "<IPython.core.display.Markdown object>"
            ],
            "text/markdown": "> [hr] [Q] Mon commandant est [c]Griggrin, Corpse-Born[/c]. Grimgrin a été [c]Murder[/c] dernier tour et je choisis de le déplacer dans la zone de commandement. Je contrôle [c]Rooftop Storm[/c]. Si j'essaie de lancer Grimgrin de la zone de commandement, va-t-il coûter [m]2[/m] ou sera-il libre?"
          },
          "metadata": {}
        },
        {
          "output_type": "stream",
          "name": "stdout",
          "text": [
            "\n",
            "\n",
            "6-th English paragraph (of length 291 letters and 51 words)\n"
          ]
        },
        {
          "output_type": "display_data",
          "data": {
            "text/plain": [
              "<IPython.core.display.Markdown object>"
            ],
            "text/markdown": "> [A] He will cost [m]2[/m]. \nCommander \"tax\" is an additional cost that must be paid in addition to the normal cost for casting your commander. Rooftop Storm gives you the option of replacing the normal cost of casting your Zombies with [m]0[/m]. This has no effect on additional costs.  [/A]"
          },
          "metadata": {}
        },
        {
          "output_type": "stream",
          "name": "stdout",
          "text": [
            "Translated 6-th paragraph in French (of length 309 letters and 51 words)\n"
          ]
        },
        {
          "output_type": "display_data",
          "data": {
            "text/plain": [
              "<IPython.core.display.Markdown object>"
            ],
            "text/markdown": "> [A] Il vous en coûtera [m]2[/m]. Commander \"taxe\" est un coût supplémentaire qui doit être payé en plus du coût normal pour lancer votre commandant. Rooftop Storm vous donne la possibilité de remplacer le coût normal de lancer vos Zombies par [m]0[/m]. Cela n'a aucun effet sur les coûts supplémentaires. [/A]"
          },
          "metadata": {}
        },
        {
          "output_type": "stream",
          "name": "stdout",
          "text": [
            "\n",
            "\n",
            "7-th English paragraph (of length 161 letters and 26 words)\n"
          ]
        },
        {
          "output_type": "display_data",
          "data": {
            "text/plain": [
              "<IPython.core.display.Markdown object>"
            ],
            "text/markdown": "> [hr]\n[Q] My opponent exiled [c]Wheel of Fate[/c] with [c]Reckless Impulse[/c]. She now claims she can cast Wheel of Fate because it's in exile. Is that true?[/Q]"
          },
          "metadata": {}
        },
        {
          "output_type": "stream",
          "name": "stdout",
          "text": [
            "Translated 7-th paragraph in French (of length 182 letters and 28 words)\n"
          ]
        },
        {
          "output_type": "display_data",
          "data": {
            "text/plain": [
              "<IPython.core.display.Markdown object>"
            ],
            "text/markdown": "> [hr] [Q] Mon adversaire a exilé [c]Wheel of Fate[/c] avec [c]Reckless Impulse[/c]. Elle prétend maintenant qu'elle peut lancer Wheel of Fate parce que c'est en exil. Est-ce vrai?[/Q]"
          },
          "metadata": {}
        },
        {
          "output_type": "stream",
          "name": "stdout",
          "text": [
            "\n",
            "\n",
            "8-th English paragraph (of length 176 letters and 34 words)\n"
          ]
        },
        {
          "output_type": "display_data",
          "data": {
            "text/plain": [
              "<IPython.core.display.Markdown object>"
            ],
            "text/markdown": "> [A] Your opponent is wrong. The part of suspend that lets you cast a card with no mana cost is casting it without paying its mana cost, not that it's casting it from exile.[/A]"
          },
          "metadata": {}
        },
        {
          "output_type": "stream",
          "name": "stdout",
          "text": [
            "Translated 8-th paragraph in French (of length 182 letters and 36 words)\n"
          ]
        },
        {
          "output_type": "display_data",
          "data": {
            "text/plain": [
              "<IPython.core.display.Markdown object>"
            ],
            "text/markdown": "> [A] Votre adversaire a tort. La partie de suspension qui vous permet de lancer une carte sans coût de mana est de la lancer sans payer son coût de mana, pas qu'il la jette de l'exil."
          },
          "metadata": {}
        },
        {
          "output_type": "stream",
          "name": "stdout",
          "text": [
            "\n",
            "\n",
            "9-th English paragraph (of length 378 letters and 58 words)\n"
          ]
        },
        {
          "output_type": "display_data",
          "data": {
            "text/plain": [
              "<IPython.core.display.Markdown object>"
            ],
            "text/markdown": "> [hr]\n[Q] I control four [c]Bear Cub[/c]s, [c]Agrus Kos, Eternal Soldier[/c], and [c]Thundering Raiju[/c]. None of my creatures are currently modified. I attack with the Raiju and have its attack trigger target Agrus. When Agrus's ability triggers because he became targeted, I pay the cost. After all these triggers resolve, how much damage will Raiju deal to each opponent?[/Q]"
          },
          "metadata": {}
        },
        {
          "output_type": "stream",
          "name": "stdout",
          "text": [
            "Translated 9-th paragraph in French (of length 422 letters and 61 words)\n"
          ]
        },
        {
          "output_type": "display_data",
          "data": {
            "text/plain": [
              "<IPython.core.display.Markdown object>"
            ],
            "text/markdown": "> [hr] [Q] Je contrôle quatre [c] Ours Cub[/c]s, [c]Agrus Kos, Eternal Soldier[/c] et [c]Thundering Raiju[/c].Aucune de mes créatures n'est actuellement modifiée.J'attaque avec le Raiju et ai sa cible de déclenchement d'attaque Agrus.Quand la capacité d'Agrus se déclenche parce qu'il a été ciblé, je paie le coût.Après que tous ces déclencheurs se soient résolus, combien de dégâts Raiju infligera-t-il à chaque adversaire?"
          },
          "metadata": {}
        },
        {
          "output_type": "stream",
          "name": "stdout",
          "text": [
            "\n",
            "\n",
            "10-th English paragraph (of length 102 letters and 17 words)\n"
          ]
        },
        {
          "output_type": "display_data",
          "data": {
            "text/plain": [
              "<IPython.core.display.Markdown object>"
            ],
            "text/markdown": "> [A] The Answer is between 15-19 damage, depending on when you let the trigger targeting Raiju resolve."
          },
          "metadata": {}
        },
        {
          "output_type": "stream",
          "name": "stdout",
          "text": [
            "Translated 10-th paragraph in French (of length 134 letters and 25 words)\n"
          ]
        },
        {
          "output_type": "display_data",
          "data": {
            "text/plain": [
              "<IPython.core.display.Markdown object>"
            ],
            "text/markdown": "> [A] La réponse se situe entre 15 et 19 points de dégâts, selon le moment où vous laissez le déclencheur cibler la résolution de Raiju."
          },
          "metadata": {}
        },
        {
          "output_type": "stream",
          "name": "stdout",
          "text": [
            "\n",
            "\n",
            "11-th English paragraph (of length 280 letters and 52 words)\n"
          ]
        },
        {
          "output_type": "display_data",
          "data": {
            "text/plain": [
              "<IPython.core.display.Markdown object>"
            ],
            "text/markdown": "> When Agrus's trigger resolves, it creates five copies of Raiju's trigger, one for each Bear and one for Raiju, making a total of six Raiju triggers. The last trigger to resolve has to be the one targeting Agrus, and the other five resolve before it in the order of your choosing. "
          },
          "metadata": {}
        },
        {
          "output_type": "stream",
          "name": "stdout",
          "text": [
            "Translated 11-th paragraph in French (of length 306 letters and 53 words)\n"
          ]
        },
        {
          "output_type": "display_data",
          "data": {
            "text/plain": [
              "<IPython.core.display.Markdown object>"
            ],
            "text/markdown": "> Lorsque le déclencheur d'Agrus se résout, il crée cinq copies du déclencheur de Raiju, une pour chaque Ours et une pour Raiju, ce qui fait un total de six déclencheurs de Raiju. Le dernier déclencheur à résoudre doit être celui ciblant Agrus, et les cinq autres résolvent avant dans l'ordre de votre choix."
          },
          "metadata": {}
        },
        {
          "output_type": "stream",
          "name": "stdout",
          "text": [
            "\n",
            "\n",
            "12-th English paragraph (of length 155 letters and 25 words)\n"
          ]
        },
        {
          "output_type": "display_data",
          "data": {
            "text/plain": [
              "<IPython.core.display.Markdown object>"
            ],
            "text/markdown": "> For our first example, we will have the trigger targeting Raiju resolve first, then the four triggers targeting Bears, and finally the one targeting Agrus."
          },
          "metadata": {}
        },
        {
          "output_type": "stream",
          "name": "stdout",
          "text": [
            "Translated 12-th paragraph in French (of length 174 letters and 27 words)\n"
          ]
        },
        {
          "output_type": "display_data",
          "data": {
            "text/plain": [
              "<IPython.core.display.Markdown object>"
            ],
            "text/markdown": "> Pour notre premier exemple, nous aurons le déclencheur ciblant la résolution de Raiju en premier, puis les quatre déclencheurs ciblant les ours, et enfin celui ciblant Agrus."
          },
          "metadata": {}
        },
        {
          "output_type": "stream",
          "name": "stdout",
          "text": [
            "\n",
            "\n",
            "13-th English paragraph (of length 538 letters and 98 words)\n"
          ]
        },
        {
          "output_type": "display_data",
          "data": {
            "text/plain": [
              "<IPython.core.display.Markdown object>"
            ],
            "text/markdown": "> Raiju gets a +1/+1 counter, no damage is dealt as Raiju only checks modified creatures other than himself. Total damage 0.\nBear #1 gets a +1/+1 counter, 1 damage is dealt as there is only one modified creature other than Raiju. Total damage 1.\nBear #2 gets a +1/+1 counter, 2 damage is dealt as there are now two modified creatures. Total damage 3.\nBear #3 gets a +1/+1 counter, 3 damage is dealt. Total damage 6.\nBear #4 gets a counter, 4 damage is dealt. Total damage of 10.\nAgrus get a a counter, 5 damage is dealt. Total damage of 15."
          },
          "metadata": {}
        },
        {
          "output_type": "stream",
          "name": "stdout",
          "text": [
            "Translated 13-th paragraph in French (of length 623 letters and 100 words)\n"
          ]
        },
        {
          "output_type": "display_data",
          "data": {
            "text/plain": [
              "<IPython.core.display.Markdown object>"
            ],
            "text/markdown": "> Raiju obtient un marqueur +1/+1, aucun dégât n'est infligé car Raiju ne vérifie que les créatures modifiées autres que lui-même..Total des dégâts 0.Ours 1 obtient un marqueur +1/+1, 1 dégât est infligé car il n'y a qu'une seule créature modifiée autre que Raiju.Total des dégâts 1.Ours 2 obtient un marqueur +1/+1, 2 dégâts sont infligés car il y a maintenant deux créatures modifiées.Total des dégâts 3.Ours 3 obtient un marqueur +1/+1, 3 dégâts sont infligés.Total des dégâts 6.Ours 4 obtient un marqueur, 4 dégâts sont infligés.Dégâts totaux de 10.Agrus obtenir un compteur, 5 dégâts sont infligés.Total des dégâts de 15"
          },
          "metadata": {}
        },
        {
          "output_type": "stream",
          "name": "stdout",
          "text": [
            "\n",
            "\n",
            "14-th English paragraph (of length 357 letters and 63 words)\n"
          ]
        },
        {
          "output_type": "display_data",
          "data": {
            "text/plain": [
              "<IPython.core.display.Markdown object>"
            ],
            "text/markdown": "> Now let's have the four Bears' triggers resolve first, then Raiju, followed by Agrus.\nBear #1, 1 damage is dealt. Total damage 1.\nBear #2, 2 damage is dealt. Total damage 3.\nBear #3, 3 damage id dealt. Total damage 6.\nBear #4, 4 damage is dealt. Total damage is 10.\nRaiju, 4 damage is dealt. Total damage is 14.\nAgrus, 5 damage is dealt. Total damage is 19."
          },
          "metadata": {}
        },
        {
          "output_type": "stream",
          "name": "stdout",
          "text": [
            "Translated 14-th paragraph in French (of length 464 letters and 76 words)\n"
          ]
        },
        {
          "output_type": "display_data",
          "data": {
            "text/plain": [
              "<IPython.core.display.Markdown object>"
            ],
            "text/markdown": "> Maintenant, faisons résoudre les déclencheurs des quatre ours en premier, puis Raiju, suivi d'Agrus..Ours 1, 1 dégâts est infligé.Total des dégâts 1.Ours 2, 2 dégâts sont infligés.Total des dégâts 3.Ours 3, 3 points de dégâts infligés.Total des dégâts 6.Ours 4, 4 points de dégâts sont infligés.Le total des dégâts est de 10.Raiju, 4 points de dégâts sont infligés.Le total des dégâts est de 14.Agrus, 5 points de dégâts sont infligés.Le total des dégâts est de 19"
          },
          "metadata": {}
        },
        {
          "output_type": "stream",
          "name": "stdout",
          "text": [
            "\n",
            "\n",
            "15-th English paragraph (of length 80 letters and 13 words)\n"
          ]
        },
        {
          "output_type": "display_data",
          "data": {
            "text/plain": [
              "<IPython.core.display.Markdown object>"
            ],
            "text/markdown": "> The later the trigger targeting Raiju resolves, the more the total damage.\n [/A]"
          },
          "metadata": {}
        },
        {
          "output_type": "stream",
          "name": "stdout",
          "text": [
            "Translated 15-th paragraph in French (of length 90 letters and 14 words)\n"
          ]
        },
        {
          "output_type": "display_data",
          "data": {
            "text/plain": [
              "<IPython.core.display.Markdown object>"
            ],
            "text/markdown": "> Plus le déclencheur ciblant Raiju est tardif, plus les dégâts totaux sont importants. [/A]"
          },
          "metadata": {}
        },
        {
          "output_type": "stream",
          "name": "stdout",
          "text": [
            "\n",
            "\n",
            "16-th English paragraph (of length 208 letters and 24 words)\n"
          ]
        },
        {
          "output_type": "display_data",
          "data": {
            "text/plain": [
              "<IPython.core.display.Markdown object>"
            ],
            "text/markdown": "> [hr]\n[cleft=Grafdigger's Cage]Alex, the answer is \"What is used to \nkeep the dead from escaping their graves?\"[/cleft][Q] Does [c]Grafdigger's Cage[/c] stop [c]Abhorrent Oculus[/c] from manifest-dreading?[/Q]"
          },
          "metadata": {}
        },
        {
          "output_type": "stream",
          "name": "stdout",
          "text": [
            "Translated 16-th paragraph in French (of length 236 letters and 30 words)\n"
          ]
        },
        {
          "output_type": "display_data",
          "data": {
            "text/plain": [
              "<IPython.core.display.Markdown object>"
            ],
            "text/markdown": "> [hr] [cleftCage de Graffiteur]Alex, la réponse est \"Qu'est-ce qui est utilisé pour empêcher les morts de s'échapper de leurs tombes?\"[/cleft][Q] Est-ce que [c]Cage de Graffiteur[/c] empêche [c]Oculus odieux[/c] de manifest-dreading?[/Q]"
          },
          "metadata": {}
        },
        {
          "output_type": "stream",
          "name": "stdout",
          "text": [
            "\n",
            "\n",
            "17-th English paragraph (of length 388 letters and 69 words)\n"
          ]
        },
        {
          "output_type": "display_data",
          "data": {
            "text/plain": [
              "<IPython.core.display.Markdown object>"
            ],
            "text/markdown": "> [A] Well, in the important ways, yes. They still \"manifest dread\", but some parts they can't complete. Manifest Dread is \"Look at the top two cards of your library. Manifest one of them, then put the cards you looked at that were not manifested this way into your graveyard.\" Since you can't put a creature from your library into play, both cards looked at are put into the graveyard.[/A]"
          },
          "metadata": {}
        },
        {
          "output_type": "stream",
          "name": "stdout",
          "text": [
            "Translated 17-th paragraph in French (of length 488 letters and 73 words)\n"
          ]
        },
        {
          "output_type": "display_data",
          "data": {
            "text/plain": [
              "<IPython.core.display.Markdown object>"
            ],
            "text/markdown": "> [A] Eh bien, dans les moyens importants, oui.Ils \"manifestent encore de l'effroi\", mais certaines parties ne peuvent pas être complétées.Manifest Dread est \"Regardez les deux cartes du dessus de votre bibliothèque.Manifestez l'un d'eux, puis mettez les cartes que vous avez regardées qui n'ont pas été manifestées de cette façon dans votre cimetière..Puisque vous ne pouvez pas mettre en jeu une créature de votre bibliothèque, les deux cartes regardées sont mises dans le cimetière..[/A]"
          },
          "metadata": {}
        },
        {
          "output_type": "stream",
          "name": "stdout",
          "text": [
            "\n",
            "\n",
            "18-th English paragraph (of length 328 letters and 56 words)\n"
          ]
        },
        {
          "output_type": "display_data",
          "data": {
            "text/plain": [
              "<IPython.core.display.Markdown object>"
            ],
            "text/markdown": "> [hr]\n[Q] Last turn my opponent stole my [c]Bear Cub[/c] by casting [c]Sower of Temptation[/c]. This turn I used [c]Ovinize[/c] to make the Sower lose all its abilities. I did this because I think I'll get my Bear Cub back, since the Sower no longer has the \"steal your creature\" ability. My opponent disagrees. Who is right?[/Q]"
          },
          "metadata": {}
        },
        {
          "output_type": "stream",
          "name": "stdout",
          "text": [
            "Translated 18-th paragraph in French (of length 323 letters and 53 words)\n"
          ]
        },
        {
          "output_type": "display_data",
          "data": {
            "text/plain": [
              "<IPython.core.display.Markdown object>"
            ],
            "text/markdown": "> [hr] [Q] Dernier tour, mon adversaire a volé mon [c]Bear Cub[/c] en lançant [c]Sower of Temptation[/c]. Ce tour, j'ai utilisé [c]Ovinize[/c] pour faire perdre au semeur toutes ses capacités. J'ai fait cela parce que je pense que je vais récupérer mon Bear Cub, puisque le semeur n'a plus la capacité \"voler votre créature\"."
          },
          "metadata": {}
        },
        {
          "output_type": "stream",
          "name": "stdout",
          "text": [
            "\n",
            "\n",
            "19-th English paragraph (of length 164 letters and 26 words)\n"
          ]
        },
        {
          "output_type": "display_data",
          "data": {
            "text/plain": [
              "<IPython.core.display.Markdown object>"
            ],
            "text/markdown": "> [A] Your opponent is correct. Removing the enters ability (that creates an effect with a duration) after the ability has resolved, doesn't stop it from functioning."
          },
          "metadata": {}
        },
        {
          "output_type": "stream",
          "name": "stdout",
          "text": [
            "Translated 19-th paragraph in French (of length 133 letters and 23 words)\n"
          ]
        },
        {
          "output_type": "display_data",
          "data": {
            "text/plain": [
              "<IPython.core.display.Markdown object>"
            ],
            "text/markdown": "> Retirer la capacité d'entrée (qui crée un effet avec une durée) après que la capacité a été résolue, ne l'empêche pas de fonctionner."
          },
          "metadata": {}
        },
        {
          "output_type": "stream",
          "name": "stdout",
          "text": [
            "\n",
            "\n",
            "20-th English paragraph (of length 370 letters and 60 words)\n"
          ]
        },
        {
          "output_type": "display_data",
          "data": {
            "text/plain": [
              "<IPython.core.display.Markdown object>"
            ],
            "text/markdown": "> If it helps, an example that seems more intuitive would be the following: My opponent used [c]Rootwater Matriarch[/c] to steel my [c]Hill Giant[/c] enchanted with [c]Spirit Link[/c]. Killing the Matriarch won't get the Hill Giant back, even though that removes where the steal ability came from. The duration is based on whether or not the Hill Giant is still enchanted."
          },
          "metadata": {}
        },
        {
          "output_type": "stream",
          "name": "stdout",
          "text": [
            "Translated 20-th paragraph in French (of length 398 letters and 66 words)\n"
          ]
        },
        {
          "output_type": "display_data",
          "data": {
            "text/plain": [
              "<IPython.core.display.Markdown object>"
            ],
            "text/markdown": "> Si cela aide, un exemple qui semble plus intuitif serait le suivant : Mon adversaire a utilisé [c]Rootwater Matriarch[/c] pour renforcer mon [c]Hill Giant[/c] enchanté par [c]Spirit Link[/c].Tuer la Matriarche ne ramènera pas le Géant de la Colline, même si cela enlève l'endroit d'où venait la capacité de vol..La durée est basée sur le fait que le Géant de la Colline soit encore enchanté ou non."
          },
          "metadata": {}
        },
        {
          "output_type": "stream",
          "name": "stdout",
          "text": [
            "\n",
            "\n",
            "21-th English paragraph (of length 193 letters and 32 words)\n"
          ]
        },
        {
          "output_type": "display_data",
          "data": {
            "text/plain": [
              "<IPython.core.display.Markdown object>"
            ],
            "text/markdown": "> So with the original question, removing Sower's abilities doesn't stop the steal effect. You have to remove the Sower to gain the creature back because that ends the duration of the effect.[/A]"
          },
          "metadata": {}
        },
        {
          "output_type": "stream",
          "name": "stdout",
          "text": [
            "Translated 21-th paragraph in French (of length 191 letters and 33 words)\n"
          ]
        },
        {
          "output_type": "display_data",
          "data": {
            "text/plain": [
              "<IPython.core.display.Markdown object>"
            ],
            "text/markdown": "> Donc, avec la question d'origine, retirer les capacités du Semeur n'arrête pas l'effet de vol. Vous devez retirer le Semeur pour récupérer la créature, car cela met fin à la durée de l'effet."
          },
          "metadata": {}
        },
        {
          "output_type": "stream",
          "name": "stdout",
          "text": [
            "\n",
            "\n",
            "22-th English paragraph (of length 162 letters and 23 words)\n"
          ]
        },
        {
          "output_type": "display_data",
          "data": {
            "text/plain": [
              "<IPython.core.display.Markdown object>"
            ],
            "text/markdown": "> [hr]\n[Q] So continuing with the last question, what if instead of [c]Ovinize[/c]ing the [c]Sower of Temptation[/c] I phased it out with [c]Reality Ripple[/c]?[/Q]"
          },
          "metadata": {}
        },
        {
          "output_type": "stream",
          "name": "stdout",
          "text": [
            "Translated 22-th paragraph in French (of length 193 letters and 26 words)\n"
          ]
        },
        {
          "output_type": "display_data",
          "data": {
            "text/plain": [
              "<IPython.core.display.Markdown object>"
            ],
            "text/markdown": "> [hr] [Q] Donc, en continuant avec la dernière question, que se passerait-il si au lieu de [c]Ovinize[/c]le Semeur de Tentation[/c] je l'éliminais progressivement avec [c]Reality Ripple[/c]?[/Q]"
          },
          "metadata": {}
        },
        {
          "output_type": "stream",
          "name": "stdout",
          "text": [
            "\n",
            "\n",
            "23-th English paragraph (of length 260 letters and 46 words)\n"
          ]
        },
        {
          "output_type": "display_data",
          "data": {
            "text/plain": [
              "<IPython.core.display.Markdown object>"
            ],
            "text/markdown": "> [A] You would get your creature back. If a creature phases out, it's treated as though it's no longer on the battlefield. The duration of its effect has been met, so the effect ends and the stolen creature returns to its last controller, usually its owner.[/A]"
          },
          "metadata": {}
        },
        {
          "output_type": "stream",
          "name": "stdout",
          "text": [
            "Translated 23-th paragraph in French (of length 310 letters and 50 words)\n"
          ]
        },
        {
          "output_type": "display_data",
          "data": {
            "text/plain": [
              "<IPython.core.display.Markdown object>"
            ],
            "text/markdown": "> [A] Vous récupéreriez votre créature. Si une créature sort progressivement, elle est traitée comme si elle n'était plus sur le champ de bataille. La durée de son effet a été atteinte, de sorte que l'effet se termine et que la créature volée retourne à son dernier contrôleur, généralement son propriétaire.[/A]"
          },
          "metadata": {}
        },
        {
          "output_type": "stream",
          "name": "stdout",
          "text": [
            "\n",
            "\n",
            "24-th English paragraph (of length 226 letters and 32 words)\n"
          ]
        },
        {
          "output_type": "display_data",
          "data": {
            "text/plain": [
              "<IPython.core.display.Markdown object>"
            ],
            "text/markdown": "> [hr]\n[Q] I block my opponent's attacking [c]Bear Cub[/c] with [c]Manor Gargoyle[/c]. After combat ends, the opponent then casts [c]Disfigure[/c] targeting my Gargoyle. They claim they just killed my Gargoyle. Is this true?[/Q]"
          },
          "metadata": {}
        },
        {
          "output_type": "stream",
          "name": "stdout",
          "text": [
            "Translated 24-th paragraph in French (of length 247 letters and 35 words)\n"
          ]
        },
        {
          "output_type": "display_data",
          "data": {
            "text/plain": [
              "<IPython.core.display.Markdown object>"
            ],
            "text/markdown": "> [hr] [Q] Je bloque l'attaque de mon adversaire [c]Bear Cub[/c] avec [c]Manor Gargoyle[/c]. Après la fin du combat, l'adversaire lance alors [c]Défigure[/c] ciblant ma Gargouille. Ils prétendent qu'ils viennent de tuer ma Gargoyle. Est-ce vrai?[/Q]"
          },
          "metadata": {}
        },
        {
          "output_type": "stream",
          "name": "stdout",
          "text": [
            "\n",
            "\n",
            "25-th English paragraph (of length 535 letters and 90 words)\n"
          ]
        },
        {
          "output_type": "display_data",
          "data": {
            "text/plain": [
              "<IPython.core.display.Markdown object>"
            ],
            "text/markdown": "> [A] It is not true, your Gargoyle lives through this. Many new players make this same wrong assumption. Damage doesn't reduce toughness. You have a 2/2 Gargoyle with 2 damage marked on it. Because it's indestructible, the state based action that tries to destroy it for having equal or more damage than it has toughness fails to do anything. If they want to get your Gargoyle into the graveyard, they need to give it enough [c=Dismember]-X/-X to make its toughness 0 or less[/c], or force you to [c=Diabolic Edict]sacrifice it[/c].[/A]"
          },
          "metadata": {}
        },
        {
          "output_type": "stream",
          "name": "stdout",
          "text": [
            "Translated 25-th paragraph in French (of length 609 letters and 95 words)\n"
          ]
        },
        {
          "output_type": "display_data",
          "data": {
            "text/plain": [
              "<IPython.core.display.Markdown object>"
            ],
            "text/markdown": "> [A] Ce n'est pas vrai, votre Gargoyle vit à travers cette.Beaucoup de nouveaux joueurs font la même hypothèse erronée.Les dommages ne réduisent pas la ténacité.Vous avez une gargouille 2/2 avec 2 dégâts marqués dessus.Parce qu'il est indestructible, l'action basée sur l'état qui tente de le détruire pour avoir des dégâts égaux ou plus qu'il n'a la dureté ne parvient pas à faire quoi que ce soit..S'ils veulent faire entrer votre Gargouille dans le cimetière, ils doivent lui donner assez de [cDismember]-X/-X pour rendre son endurance 0 ou moins[/c], ou vous forcer à [cDiabolic Edict]sacrifice it[/c].[/A]"
          },
          "metadata": {}
        },
        {
          "output_type": "stream",
          "name": "stdout",
          "text": [
            "\n",
            "\n",
            "26-th English paragraph (of length 120 letters and 20 words)\n"
          ]
        },
        {
          "output_type": "display_data",
          "data": {
            "text/plain": [
              "<IPython.core.display.Markdown object>"
            ],
            "text/markdown": "> [hr]\n[Q] If [c]Ragavan, Nimble Pilferer[/c] is my commander, can I cast him for his dash cost from the command zone?[/Q]"
          },
          "metadata": {}
        },
        {
          "output_type": "stream",
          "name": "stdout",
          "text": [
            "Translated 26-th paragraph in French (of length 141 letters and 24 words)\n"
          ]
        },
        {
          "output_type": "display_data",
          "data": {
            "text/plain": [
              "<IPython.core.display.Markdown object>"
            ],
            "text/markdown": "> [hr] [Q] Si [c]Ragavan, Nimble Pilferer[/c] est mon commandant, puis-je le jeter pour son coût de tableau de bord de la zone de commande?[/Q]"
          },
          "metadata": {}
        },
        {
          "output_type": "stream",
          "name": "stdout",
          "text": [
            "\n",
            "\n",
            "27-th English paragraph (of length 129 letters and 27 words)\n"
          ]
        },
        {
          "output_type": "display_data",
          "data": {
            "text/plain": [
              "<IPython.core.display.Markdown object>"
            ],
            "text/markdown": "> [A] Yes, you can. Dash can be used from any zone, so long as you are allowed to cast that card from that same zone normally. [/A]"
          },
          "metadata": {}
        },
        {
          "output_type": "stream",
          "name": "stdout",
          "text": [
            "Translated 27-th paragraph in French (of length 171 letters and 31 words)\n"
          ]
        },
        {
          "output_type": "display_data",
          "data": {
            "text/plain": [
              "<IPython.core.display.Markdown object>"
            ],
            "text/markdown": "> [A] Oui, vous pouvez. Dash peut être utilisé à partir de n'importe quelle zone, tant que vous êtes autorisé à lancer cette carte à partir de la même zone normalement. [/A]"
          },
          "metadata": {}
        },
        {
          "output_type": "stream",
          "name": "stdout",
          "text": [
            "\n",
            "\n",
            "28-th English paragraph (of length 108 letters and 20 words)\n"
          ]
        },
        {
          "output_type": "display_data",
          "data": {
            "text/plain": [
              "<IPython.core.display.Markdown object>"
            ],
            "text/markdown": "> [hr]\n[Q] Following up with the last question, do I have to pay commander tax if I dash out my commander?[/Q]"
          },
          "metadata": {}
        },
        {
          "output_type": "stream",
          "name": "stdout",
          "text": [
            "Translated 28-th paragraph in French (of length 121 letters and 21 words)\n"
          ]
        },
        {
          "output_type": "display_data",
          "data": {
            "text/plain": [
              "<IPython.core.display.Markdown object>"
            ],
            "text/markdown": "> [hr] [Q] Suite à la dernière question, dois-je payer la taxe de commandant si je me précipite hors de mon commandant?[/Q]"
          },
          "metadata": {}
        },
        {
          "output_type": "stream",
          "name": "stdout",
          "text": [
            "\n",
            "\n",
            "29-th English paragraph (of length 350 letters and 64 words)\n"
          ]
        },
        {
          "output_type": "display_data",
          "data": {
            "text/plain": [
              "<IPython.core.display.Markdown object>"
            ],
            "text/markdown": "> [A] Yes, you do. Suppose you cast Ragavan normally on turn one, then later he died and returned to the command zone. When you go to dash him he now costs [m]3[/m][m]R[/m] to dash. Then if he dies again and returns to the command zone, the next time you go to cast him he costs either [m]4[/m][m]R[/m] to cast normally or [m]5[/m][m]R[/m] to dash.[/A]"
          },
          "metadata": {}
        },
        {
          "output_type": "stream",
          "name": "stdout",
          "text": [
            "Translated 29-th paragraph in French (of length 372 letters and 72 words)\n"
          ]
        },
        {
          "output_type": "display_data",
          "data": {
            "text/plain": [
              "<IPython.core.display.Markdown object>"
            ],
            "text/markdown": "> [A] Oui, vous le faites. Supposons que vous lancez Ragavan normalement au premier tour, puis plus tard il est mort et est retourné à la zone de commande. Lorsque vous allez le lancer, il coûte maintenant [m] 3 [/m] [m] R [/m] à lancer. Puis s'il meurt à nouveau et retourne à la zone de commande, la prochaine fois que vous allez le lancer, il coûte soit [m] 4 [/m] R [/m]"
          },
          "metadata": {}
        },
        {
          "output_type": "stream",
          "name": "stdout",
          "text": [
            "\n",
            "\n",
            "30-th English paragraph (of length 199 letters and 37 words)\n"
          ]
        },
        {
          "output_type": "display_data",
          "data": {
            "text/plain": [
              "<IPython.core.display.Markdown object>"
            ],
            "text/markdown": "> [hr]\n[Q] I have eight cards in my hand. I go to my cleanup step and discard [c]Blazing Rootwalla[/c] to get down to maximum hand size. Can I cast the Rootwalla even though I'm in my cleanup step?[/Q]"
          },
          "metadata": {}
        },
        {
          "output_type": "stream",
          "name": "stdout",
          "text": [
            "Translated 30-th paragraph in French (of length 234 letters and 42 words)\n"
          ]
        },
        {
          "output_type": "display_data",
          "data": {
            "text/plain": [
              "<IPython.core.display.Markdown object>"
            ],
            "text/markdown": "> [hr] [Q] J'ai huit cartes dans ma main. Je vais à mon étape de nettoyage et je jette [c]Blazing Rootwalla[/c] pour descendre à la taille maximale de la main. Puis-je lancer le Rootwalla même si je suis dans mon étape de nettoyage?[/Q]"
          },
          "metadata": {}
        },
        {
          "output_type": "stream",
          "name": "stdout",
          "text": [
            "\n",
            "\n",
            "31-th English paragraph (of length 264 letters and 45 words)\n"
          ]
        },
        {
          "output_type": "display_data",
          "data": {
            "text/plain": [
              "<IPython.core.display.Markdown object>"
            ],
            "text/markdown": "> [A] Yes, you can. During most cleanup steps, no players get priority. However, if an ability triggers during the cleanup step, or a state based action applies during a cleanup step, then the active player gains priority and may cast spells and activate abilities. "
          },
          "metadata": {}
        },
        {
          "output_type": "stream",
          "name": "stdout",
          "text": [
            "Translated 31-th paragraph in French (of length 339 letters and 55 words)\n"
          ]
        },
        {
          "output_type": "display_data",
          "data": {
            "text/plain": [
              "<IPython.core.display.Markdown object>"
            ],
            "text/markdown": "> [A] Oui, vous pouvez. Pendant la plupart des étapes de nettoyage, aucun joueur n'obtient la priorité. Cependant, si une capacité se déclenche pendant l'étape de nettoyage, ou si une action basée sur l'état s'applique pendant une étape de nettoyage, alors le joueur actif gagne en priorité et peut lancer des sorts et activer des capacités."
          },
          "metadata": {}
        },
        {
          "output_type": "stream",
          "name": "stdout",
          "text": [
            "\n",
            "\n",
            "32-th English paragraph (of length 97 letters and 19 words)\n"
          ]
        },
        {
          "output_type": "display_data",
          "data": {
            "text/plain": [
              "<IPython.core.display.Markdown object>"
            ],
            "text/markdown": "> This is when you can cast the Rootwalla, as discarding it to madness puts a trigger on the stack."
          },
          "metadata": {}
        },
        {
          "output_type": "stream",
          "name": "stdout",
          "text": [
            "Translated 32-th paragraph in French (of length 113 letters and 22 words)\n"
          ]
        },
        {
          "output_type": "display_data",
          "data": {
            "text/plain": [
              "<IPython.core.display.Markdown object>"
            ],
            "text/markdown": "> C'est à ce moment-là que vous pouvez lancer le Rootwalla, car le jeter à la folie met un déclencheur sur la pile."
          },
          "metadata": {}
        },
        {
          "output_type": "stream",
          "name": "stdout",
          "text": [
            "\n",
            "\n",
            "33-th English paragraph (of length 350 letters and 65 words)\n"
          ]
        },
        {
          "output_type": "display_data",
          "data": {
            "text/plain": [
              "<IPython.core.display.Markdown object>"
            ],
            "text/markdown": "> A normal priority pass will begin from here and until all players pass in succession with an empty stack, players may add new items to the stack when they have priority. Once all players pass with an empty stack, this cleanup step ends and a new one begins. If that new cleanup ends normally, then the game will move on to the next player's turn.[/A]"
          },
          "metadata": {}
        },
        {
          "output_type": "stream",
          "name": "stdout",
          "text": [
            "Translated 33-th paragraph in French (of length 436 letters and 74 words)\n"
          ]
        },
        {
          "output_type": "display_data",
          "data": {
            "text/plain": [
              "<IPython.core.display.Markdown object>"
            ],
            "text/markdown": "> Une passe de priorité normale commencera à partir d'ici et jusqu'à ce que tous les joueurs passent successivement avec une pile vide, les joueurs peuvent ajouter de nouveaux objets à la pile quand ils ont la priorité. Une fois que tous les joueurs passent avec une pile vide, cette étape de nettoyage se termine et une nouvelle commence. Si ce nouveau nettoyage se termine normalement, alors la partie passera au tour du joueur suivant."
          },
          "metadata": {}
        },
        {
          "output_type": "stream",
          "name": "stdout",
          "text": [
            "\n",
            "\n",
            "34-th English paragraph (of length 295 letters and 46 words)\n"
          ]
        },
        {
          "output_type": "display_data",
          "data": {
            "text/plain": [
              "<IPython.core.display.Markdown object>"
            ],
            "text/markdown": "> [hr]\n[Q] While resolving [c]Burning Inquiry[/c] I discarded [c]Basking Rootwalla[/c] and two [c]Mountain[/c]s. My opponent controls a [c]Rest in Peace[/c]. My opponent claims I can't cast the Rootwalla for its Madness cost as it got exiled by Rest in Peace when I discarded it. Is this true?[/Q]"
          },
          "metadata": {}
        },
        {
          "output_type": "stream",
          "name": "stdout",
          "text": [
            "Translated 34-th paragraph in French (of length 214 letters and 40 words)\n"
          ]
        },
        {
          "output_type": "display_data",
          "data": {
            "text/plain": [
              "<IPython.core.display.Markdown object>"
            ],
            "text/markdown": "> [hr] [Q] Mon adversaire contrôle un [c]Repos en paix[/c]. Mon adversaire prétend que je ne peux pas lancer le Rootwalla pour son coût de folie car il a été exilé par Rest in Peace quand je l'ai rejeté. Est-ce vrai?"
          },
          "metadata": {}
        },
        {
          "output_type": "stream",
          "name": "stdout",
          "text": [
            "\n",
            "\n",
            "35-th English paragraph (of length 564 letters and 106 words)\n"
          ]
        },
        {
          "output_type": "display_data",
          "data": {
            "text/plain": [
              "<IPython.core.display.Markdown object>"
            ],
            "text/markdown": "> [A] Your opponent is wrong. You can cast your Rootwalla for its madness cost. The Rootwalla hasn't been exiled by Rest in Peace yet. This is because madness doesn't quite work the way most people think it does. If a card with madness gets discarded, it goes to exile instead of being put into its owner's graveyard. Then the next time a player would get priority, a trigger allowing its owner to cast it for its madness cost is put on the stack. When this trigger resolves, the owner may cast the card, but if they don't then the card is put into their graveyard. "
          },
          "metadata": {}
        },
        {
          "output_type": "stream",
          "name": "stdout",
          "text": [
            "Translated 35-th paragraph in French (of length 665 letters and 110 words)\n"
          ]
        },
        {
          "output_type": "display_data",
          "data": {
            "text/plain": [
              "<IPython.core.display.Markdown object>"
            ],
            "text/markdown": "> [A] Votre adversaire a tort.Vous pouvez lancer votre Rootwalla pour son coût de folie.Le Rootwalla n'a pas encore été exilé par Rest in Peace.C'est parce que la folie ne fonctionne pas comme la plupart des gens pensent qu'elle fonctionne..Si une carte avec la folie est rejetée, elle va à l'exil au lieu d'être mise dans le cimetière de son propriétaire.Ensuite, la prochaine fois qu'un joueur obtiendra la priorité, un déclencheur permettant à son propriétaire de le lancer pour son coût de folie est mis sur la pile..Lorsque ce déclencheur est résolu, le propriétaire peut lancer la carte, mais s'il ne le fait pas, la carte est placée dans son cimetière..(suite)"
          },
          "metadata": {}
        },
        {
          "output_type": "stream",
          "name": "stdout",
          "text": [
            "\n",
            "\n",
            "36-th English paragraph (of length 193 letters and 37 words)\n"
          ]
        },
        {
          "output_type": "display_data",
          "data": {
            "text/plain": [
              "<IPython.core.display.Markdown object>"
            ],
            "text/markdown": "> To get back to the original question, Rest in Peace can only exile a discarded Madness card after the owner has decided not to cast it for madness and choses to let it go to the graveyard.\n[/A]"
          },
          "metadata": {}
        },
        {
          "output_type": "stream",
          "name": "stdout",
          "text": [
            "Translated 36-th paragraph in French (of length 211 letters and 39 words)\n"
          ]
        },
        {
          "output_type": "display_data",
          "data": {
            "text/plain": [
              "<IPython.core.display.Markdown object>"
            ],
            "text/markdown": "> Pour revenir à la question initiale, Rest in Peace ne peut exiler une carte Madness abandonnée que lorsque le propriétaire a décidé de ne pas la lancer pour la folie et a choisi de la laisser aller au cimetière."
          },
          "metadata": {}
        },
        {
          "output_type": "stream",
          "name": "stdout",
          "text": [
            "\n",
            "\n",
            "37-th English paragraph (of length 276 letters and 46 words)\n"
          ]
        },
        {
          "output_type": "display_data",
          "data": {
            "text/plain": [
              "<IPython.core.display.Markdown object>"
            ],
            "text/markdown": "> [hr]\n[Q] My opponent pays [m]3[/m][m]U[/m] to gain level 2 on their [c]Stormchaser's Talent[/c]. Before it becomes level 2, I [c]Boomerang[/c] it to their hand. The opponent says they still get to return an instant or sorcery to their hand, I say they don't, who is right?[/Q]"
          },
          "metadata": {}
        },
        {
          "output_type": "stream",
          "name": "stdout",
          "text": [
            "Translated 37-th paragraph in French (of length 316 letters and 53 words)\n"
          ]
        },
        {
          "output_type": "display_data",
          "data": {
            "text/plain": [
              "<IPython.core.display.Markdown object>"
            ],
            "text/markdown": "> [hr] [Q] Mon adversaire paie [m]3[/m][m]U[/m] pour gagner le niveau 2 sur son Talent [/c]Stormchaser[/c]. Avant qu'il ne devienne le niveau 2, je [c] Boomerang[/c] à leur main. L'adversaire dit qu'il peut toujours retourner un instant ou de la sorcellerie à leur main, je dis qu'ils ne le font pas, qui a raison?[/Q]"
          },
          "metadata": {}
        },
        {
          "output_type": "stream",
          "name": "stdout",
          "text": [
            "\n",
            "\n",
            "38-th English paragraph (of length 372 letters and 70 words)\n"
          ]
        },
        {
          "output_type": "display_data",
          "data": {
            "text/plain": [
              "<IPython.core.display.Markdown object>"
            ],
            "text/markdown": "> [A] You are correct, they do not. Gaining a level is an ability that uses the stack and can be responded to. Stormchaser's level 2 ability is a trigger that triggers upon it becoming level 2 and happens only after it becomes level 2. If it's not on the battlefield when its level 2 ability resolves, there is no ability to trigger (nor a permanent to become level 2). [/A]"
          },
          "metadata": {}
        },
        {
          "output_type": "stream",
          "name": "stdout",
          "text": [
            "Translated 38-th paragraph in French (of length 440 letters and 76 words)\n"
          ]
        },
        {
          "output_type": "display_data",
          "data": {
            "text/plain": [
              "<IPython.core.display.Markdown object>"
            ],
            "text/markdown": "> Tu as raison, ils n'ont pas.Gagner un niveau est une capacité qui utilise la pile et à laquelle on peut répondre..La capacité de niveau 2 de Stormchaser est un déclencheur qui se déclenche lorsqu'il devient de niveau 2 et n'arrive qu'après qu'il devienne de niveau 2..S'il n'est pas sur le champ de bataille lorsque sa capacité de niveau 2 est résolue, il n'y a pas de capacité de déclenchement (ni de permanent pour devenir niveau 2)..[/A]"
          },
          "metadata": {}
        },
        {
          "output_type": "stream",
          "name": "stdout",
          "text": [
            "\n",
            "\n",
            "39-th English paragraph (of length 292 letters and 42 words)\n"
          ]
        },
        {
          "output_type": "display_data",
          "data": {
            "text/plain": [
              "<IPython.core.display.Markdown object>"
            ],
            "text/markdown": "> [hr]\n[cright=Bear Cub|PO2]Alex, the answer is \"What is another\nname for Ursine Child?\"[/cright][Q] I enchanted my opponent's [c]Bear Cub[/c] with my [c]Sigil of Sleep[/c]. If the Bear Cub goes unblocked attacking me, who chooses which creature I control gets returned to its owner's hand?[/Q]"
          },
          "metadata": {}
        },
        {
          "output_type": "stream",
          "name": "stdout",
          "text": [
            "Translated 39-th paragraph in French (of length 183 letters and 28 words)\n"
          ]
        },
        {
          "output_type": "display_data",
          "data": {
            "text/plain": [
              "<IPython.core.display.Markdown object>"
            ],
            "text/markdown": "> [hr] [crightBear CubPO2]Alex, la réponse est \"Quel est un autre nom pour Ursine Child ?\"[/cright][Q] J'ai enchanté le [c]Bear Cub[/c] de mon adversaire avec mon [c]Sigil of Sleep[/c]."
          },
          "metadata": {}
        },
        {
          "output_type": "stream",
          "name": "stdout",
          "text": [
            "\n",
            "\n",
            "40-th English paragraph (of length 60 letters and 12 words)\n"
          ]
        },
        {
          "output_type": "display_data",
          "data": {
            "text/plain": [
              "<IPython.core.display.Markdown object>"
            ],
            "text/markdown": "> [A] You get to choose as you control the Sigil of Sleep.[/A]"
          },
          "metadata": {}
        },
        {
          "output_type": "stream",
          "name": "stdout",
          "text": [
            "Translated 40-th paragraph in French (of length 60 letters and 10 words)\n"
          ]
        },
        {
          "output_type": "display_data",
          "data": {
            "text/plain": [
              "<IPython.core.display.Markdown object>"
            ],
            "text/markdown": "> [A] Vous pouvez choisir en contrôlant le Sigil of Sleep.[/A]"
          },
          "metadata": {}
        },
        {
          "output_type": "stream",
          "name": "stdout",
          "text": [
            "\n",
            "\n",
            "41-th English paragraph (of length 175 letters and 29 words)\n"
          ]
        },
        {
          "output_type": "display_data",
          "data": {
            "text/plain": [
              "<IPython.core.display.Markdown object>"
            ],
            "text/markdown": "> [hr]\n[Q] I attack with [c]Geist of Saint Traft[/c] while I control [c]Anointed Procession[/c]. When combat ends, will both Angel tokens get exiled or do I get to keep one?[/Q]"
          },
          "metadata": {}
        },
        {
          "output_type": "stream",
          "name": "stdout",
          "text": [
            "Translated 41-th paragraph in French (of length 208 letters and 34 words)\n"
          ]
        },
        {
          "output_type": "display_data",
          "data": {
            "text/plain": [
              "<IPython.core.display.Markdown object>"
            ],
            "text/markdown": "> [hr] [Q] J'attaque avec [c]Geist de Saint Traft[/c] pendant que je contrôle [c]Procession ointe[/c]. Quand le combat se termine, les deux jetons Ange seront-ils exilés ou est-ce que je peux en garder un ?[/Q]"
          },
          "metadata": {}
        },
        {
          "output_type": "stream",
          "name": "stdout",
          "text": [
            "\n",
            "\n",
            "42-th English paragraph (of length 232 letters and 39 words)\n"
          ]
        },
        {
          "output_type": "display_data",
          "data": {
            "text/plain": [
              "<IPython.core.display.Markdown object>"
            ],
            "text/markdown": "> [A] Both still get exiled. Saint Traft's triggered ability still made both tokens and tracks them to be exiled at the end of combat. Procession doesn't make tokens, it just changes how many tokens other cards and abilities make.[/A]"
          },
          "metadata": {}
        },
        {
          "output_type": "stream",
          "name": "stdout",
          "text": [
            "Translated 42-th paragraph in French (of length 278 letters and 50 words)\n"
          ]
        },
        {
          "output_type": "display_data",
          "data": {
            "text/plain": [
              "<IPython.core.display.Markdown object>"
            ],
            "text/markdown": "> [A] Les deux sont toujours exilés. La capacité déclenchée de Saint Traft a toujours fait les deux jetons et les suit pour être exilés à la fin du combat. La procession ne fait pas de jetons, elle change simplement le nombre de jetons que font les autres cartes et capacités.[/A]"
          },
          "metadata": {}
        },
        {
          "output_type": "stream",
          "name": "stdout",
          "text": [
            "\n",
            "\n",
            "43-th English paragraph (of length 221 letters and 39 words)\n"
          ]
        },
        {
          "output_type": "display_data",
          "data": {
            "text/plain": [
              "<IPython.core.display.Markdown object>"
            ],
            "text/markdown": "> [hr]\n[Q] I attack with [c]Geist of Saint Traft[/c], but before blocks, I cast [c]Eyes in the Skies[/c] choosing to populate the Angel token. When combat ends, will both Angel tokens get exiled or do I get to keep one?[/Q]"
          },
          "metadata": {}
        },
        {
          "output_type": "stream",
          "name": "stdout",
          "text": [
            "Translated 43-th paragraph in French (of length 265 letters and 46 words)\n"
          ]
        },
        {
          "output_type": "display_data",
          "data": {
            "text/plain": [
              "<IPython.core.display.Markdown object>"
            ],
            "text/markdown": "> [hr] [Q] J'attaque avec [c]Geist of Saint Traft[/c], mais avant les blocs, je lance [c]Eyes in the Skies[/c] en choisissant de remplir le jeton Angel. Quand le combat se termine, est-ce que les deux jetons Angel seront exilés ou est-ce que je peux en garder un?[/Q]"
          },
          "metadata": {}
        },
        {
          "output_type": "stream",
          "name": "stdout",
          "text": [
            "\n",
            "\n",
            "44-th English paragraph (of length 341 letters and 65 words)\n"
          ]
        },
        {
          "output_type": "display_data",
          "data": {
            "text/plain": [
              "<IPython.core.display.Markdown object>"
            ],
            "text/markdown": "> [A] You get to keep the one made by Eyes in the Skies. Unlike Anointed Procession from the last question, Eyes in the Skies makes the token and the token has no link to the ability that made the original Angel token. This includes that the second Angel token is not attacking, is not tapped, and it won't get exiled at the end of combat.[/A]"
          },
          "metadata": {}
        },
        {
          "output_type": "stream",
          "name": "stdout",
          "text": [
            "Translated 44-th paragraph in French (of length 360 letters and 69 words)\n"
          ]
        },
        {
          "output_type": "display_data",
          "data": {
            "text/plain": [
              "<IPython.core.display.Markdown object>"
            ],
            "text/markdown": "> [A] Vous obtenez de garder celui fait par les yeux dans les cieux. Contrairement à la procession ointe de la dernière question, les yeux dans les cieux fait le jeton et le jeton n'a aucun lien avec la capacité qui a fait le jeton Ange original. Cela inclut que le deuxième jeton Ange n'attaque pas, n'est pas tapoté, et il ne sera pas exilé à la fin du combat."
          },
          "metadata": {}
        },
        {
          "output_type": "stream",
          "name": "stdout",
          "text": [
            "\n",
            "\n",
            "45-th English paragraph (of length 110 letters and 16 words)\n"
          ]
        },
        {
          "output_type": "display_data",
          "data": {
            "text/plain": [
              "<IPython.core.display.Markdown object>"
            ],
            "text/markdown": "> [hr]\n[Q] I don't understand what [c]Emrakul, the World Anew[/c] has protection from. Can you clarify this?[/Q]"
          },
          "metadata": {}
        },
        {
          "output_type": "stream",
          "name": "stdout",
          "text": [
            "Translated 45-th paragraph in French (of length 111 letters and 17 words)\n"
          ]
        },
        {
          "output_type": "display_data",
          "data": {
            "text/plain": [
              "<IPython.core.display.Markdown object>"
            ],
            "text/markdown": "> [hr] [Q] Je ne comprends pas de quoi [c]Emrakul, le Monde Anew[/c] est protégé. Pouvez-vous clarifier cela?[/Q]"
          },
          "metadata": {}
        },
        {
          "output_type": "stream",
          "name": "stdout",
          "text": [
            "\n",
            "\n",
            "46-th English paragraph (of length 205 letters and 34 words)\n"
          ]
        },
        {
          "output_type": "display_data",
          "data": {
            "text/plain": [
              "<IPython.core.display.Markdown object>"
            ],
            "text/markdown": "> [A] Emrakul has protection from spells and separately protection from permanents cast \"this turn\". This turn is whichever turn it currently is, even if it's been many turns since Emrakul herself was cast. "
          },
          "metadata": {}
        },
        {
          "output_type": "stream",
          "name": "stdout",
          "text": [
            "Translated 46-th paragraph in French (of length 229 letters and 37 words)\n"
          ]
        },
        {
          "output_type": "display_data",
          "data": {
            "text/plain": [
              "<IPython.core.display.Markdown object>"
            ],
            "text/markdown": "> [A] Emrakul a une protection contre les sorts et une protection séparée contre les permanents lancés \"ce tour\". Ce tour est celui qu'il est actuellement, même si cela fait plusieurs tours depuis qu'Emrakul elle-même a été lancée."
          },
          "metadata": {}
        },
        {
          "output_type": "stream",
          "name": "stdout",
          "text": [
            "\n",
            "\n",
            "47-th English paragraph (of length 420 letters and 74 words)\n"
          ]
        },
        {
          "output_type": "display_data",
          "data": {
            "text/plain": [
              "<IPython.core.display.Markdown object>"
            ],
            "text/markdown": "> So for example, if I cast [c]Visara the Dreadful[/c] and gave her some [c]Lightning Greaves[/c] the same turn I cast her, she can't target and destroy Emrakul that turn. However, if I pass to my opponent's turn, Visara can now kill Emrakul as it's no longer the same turn Visara was cast. If I used [c]Goryo's Vengeance[/c] to reanimate Visara, then Visara could kill Emrakul that same turn as Visara wasn't cast at all."
          },
          "metadata": {}
        },
        {
          "output_type": "stream",
          "name": "stdout",
          "text": [
            "Translated 47-th paragraph in French (of length 454 letters and 74 words)\n"
          ]
        },
        {
          "output_type": "display_data",
          "data": {
            "text/plain": [
              "<IPython.core.display.Markdown object>"
            ],
            "text/markdown": "> Ainsi, par exemple, si je lance [c]Visara l'Effroyable [/c] et lui donne quelques [c]Lightning Greaves [/c] le même tour que je la lance, elle ne peut pas cibler et détruire Emrakul qui tourne.Cependant, si je passe au tour de mon adversaire, Visara peut maintenant tuer Emrakul car ce n'est plus le même tour que Visara a été jeté..Si j'utilisais [c]Goryo's Vengeance[/c] pour réanimer Visara, alors Visara pourrait tuer Emrakul le même tour que Visara."
          },
          "metadata": {}
        },
        {
          "output_type": "stream",
          "name": "stdout",
          "text": [
            "\n",
            "\n",
            "48-th English paragraph (of length 368 letters and 60 words)\n"
          ]
        },
        {
          "output_type": "display_data",
          "data": {
            "text/plain": [
              "<IPython.core.display.Markdown object>"
            ],
            "text/markdown": "> Emrakul's protection ability acts similar to having protection from Auras. Auras when cast target what they will enchant, so Emrakul is safe from most Auras. However, on later turns, an Aura could be moved from its original target, to enchant Emrakul. For example, you could move [c]Pacifism[/c] from a 1/1 Goblin token to Emrakul using [c]Crown of the Ages[/c]. \n[/A]"
          },
          "metadata": {}
        },
        {
          "output_type": "stream",
          "name": "stdout",
          "text": [
            "Translated 48-th paragraph in French (of length 439 letters and 63 words)\n"
          ]
        },
        {
          "output_type": "display_data",
          "data": {
            "text/plain": [
              "<IPython.core.display.Markdown object>"
            ],
            "text/markdown": "> La capacité de protection d'Emrakul est similaire à celle d'une protection contre les auras.Les auras quand elles sont lancées ciblent ce qu'elles enchanteront, donc Emrakul est à l'abri de la plupart des auras..Cependant, plus tard, une aura pourrait être déplacée de sa cible d'origine, pour enchanter Emrakul..Par exemple, vous pouvez déplacer [c]Pacifisme[/c] d'un jeton 1/1 Gobelin à Emrakul en utilisant [c]Couronne des âges[/c].[/A]"
          },
          "metadata": {}
        },
        {
          "output_type": "stream",
          "name": "stdout",
          "text": [
            "\n",
            "\n",
            "49-th English paragraph (of length 264 letters and 44 words)\n"
          ]
        },
        {
          "output_type": "display_data",
          "data": {
            "text/plain": [
              "<IPython.core.display.Markdown object>"
            ],
            "text/markdown": "> [hr]\n[Q] I cast [c]Season of Weaving[/c] choosing the two paws mode (to copy my [c]Arcanis the Omnipotent[/c]) and the three paws mode. Will I have to put one Arcanis into my graveyard due to the legend rule before bouncing all nonland and nontoken permanents?[/Q]"
          },
          "metadata": {}
        },
        {
          "output_type": "stream",
          "name": "stdout",
          "text": [
            "Translated 49-th paragraph in French (of length 309 letters and 50 words)\n"
          ]
        },
        {
          "output_type": "display_data",
          "data": {
            "text/plain": [
              "<IPython.core.display.Markdown object>"
            ],
            "text/markdown": "> [hr] [Q] Je lance [c]Season of Weaving[/c] en choisissant le mode à deux pattes (pour copier mon [c]Arcanis l'Omnipotent[/c]) et le mode à trois pattes. Devrai-je mettre un Arcanis dans mon cimetière en raison de la règle de légende avant de rebondir tous les permanents non terrestres et non symboliques?[/Q]"
          },
          "metadata": {}
        },
        {
          "output_type": "stream",
          "name": "stdout",
          "text": [
            "\n",
            "\n",
            "50-th English paragraph (of length 285 letters and 51 words)\n"
          ]
        },
        {
          "output_type": "display_data",
          "data": {
            "text/plain": [
              "<IPython.core.display.Markdown object>"
            ],
            "text/markdown": "> [A] You will not and you can not. The legend rule is a state based action. It's never checked in the middle of resolving a spell. You will put the original Arcanis into your hand before Season of Weaving fully resolves. The legend rule doesn't come into play during this situation.[/A]"
          },
          "metadata": {}
        },
        {
          "output_type": "stream",
          "name": "stdout",
          "text": [
            "Translated 50-th paragraph in French (of length 343 letters and 62 words)\n"
          ]
        },
        {
          "output_type": "display_data",
          "data": {
            "text/plain": [
              "<IPython.core.display.Markdown object>"
            ],
            "text/markdown": "> [A] Vous ne le ferez pas et vous ne pouvez pas. La règle de la légende est une action basée sur l'état. Elle n'est jamais vérifiée au milieu de la résolution d'un sort. Vous mettrez l'Arcanis original dans votre main avant que la saison de tissage ne soit entièrement résolue. La règle de la légende n'entre pas en jeu pendant cette situation."
          },
          "metadata": {}
        },
        {
          "output_type": "stream",
          "name": "stdout",
          "text": [
            "\n",
            "\n",
            "51-th English paragraph (of length 273 letters and 44 words)\n"
          ]
        },
        {
          "output_type": "display_data",
          "data": {
            "text/plain": [
              "<IPython.core.display.Markdown object>"
            ],
            "text/markdown": "> [hr]\n[Q] If I cast [c]Righteous Confluence[/c] choosing mode two once to exile my opponent's [c]Leyline of Sanctity[/c] and mode three twice to gain 10 total life, and the opponent responds by [c]Boomerang[/c]ing the Leyline back to their hand, do I still gain 10 life?[/Q]"
          },
          "metadata": {}
        },
        {
          "output_type": "stream",
          "name": "stdout",
          "text": [
            "Translated 51-th paragraph in French (of length 331 letters and 58 words)\n"
          ]
        },
        {
          "output_type": "display_data",
          "data": {
            "text/plain": [
              "<IPython.core.display.Markdown object>"
            ],
            "text/markdown": "> [hr] [Q] Si je lance [c]Confluence juste[/c] en choisissant le mode deux une fois pour exiler la [c]Ligne de sainteté de mon adversaire[/c] et le mode trois deux fois pour gagner 10 points de vie, et que l'adversaire répond en [c]Boomerang[/c]en remettant la Leyline à sa main, est-ce que je gagne quand même 10 points de vie ?[/Q]"
          },
          "metadata": {}
        },
        {
          "output_type": "stream",
          "name": "stdout",
          "text": [
            "\n",
            "\n",
            "52-th English paragraph (of length 227 letters and 42 words)\n"
          ]
        },
        {
          "output_type": "display_data",
          "data": {
            "text/plain": [
              "<IPython.core.display.Markdown object>"
            ],
            "text/markdown": "> [A] You do not. Righteous Confluence had only one target, Leyline of Sanctity, and that target has disappeared. If a spell loses all of its targets by the time it goes to resolve, it fizzles and none of its effects happen. [/A]"
          },
          "metadata": {}
        },
        {
          "output_type": "stream",
          "name": "stdout",
          "text": [
            "Translated 52-th paragraph in French (of length 237 letters and 44 words)\n"
          ]
        },
        {
          "output_type": "display_data",
          "data": {
            "text/plain": [
              "<IPython.core.display.Markdown object>"
            ],
            "text/markdown": "> [A] Vous ne l'avez pas. Confluence Juste n'avait qu'une seule cible, Leyline of Sanctity, et cette cible a disparu. Si un sort perd toutes ses cibles au moment où il va se résoudre, il s'écroule et aucun de ses effets ne se produit. [/A]"
          },
          "metadata": {}
        },
        {
          "output_type": "stream",
          "name": "stdout",
          "text": [
            "\n",
            "\n",
            "53-th English paragraph (of length 280 letters and 53 words)\n"
          ]
        },
        {
          "output_type": "display_data",
          "data": {
            "text/plain": [
              "<IPython.core.display.Markdown object>"
            ],
            "text/markdown": "> [hr]\n[Q] I just cast [c]Cultivate[/c] putting a [c]Swamp[/c] onto the battlefield and a [c]Forest[/c] into my hand. I haven't played a land from my hand yet this turn. Can I still play the Forest as my land drop for the turn, or did the Swamp use up my land drop for the turn?[/Q]"
          },
          "metadata": {}
        },
        {
          "output_type": "stream",
          "name": "stdout",
          "text": [
            "Translated 53-th paragraph in French (of length 308 letters and 56 words)\n"
          ]
        },
        {
          "output_type": "display_data",
          "data": {
            "text/plain": [
              "<IPython.core.display.Markdown object>"
            ],
            "text/markdown": "> [hr] [Q] Je viens de lancer [c]Cultivate[/c] mettre un [c]Swamp[/c] sur le champ de bataille et un [c]Forest[/c] dans ma main. Je n'ai pas encore joué une terre de ma main ce tour. Puis-je encore jouer la forêt comme ma terre tomber pour le tour, ou le marais a-t-il utilisé ma terre tomber pour le tour?[/Q]"
          },
          "metadata": {}
        },
        {
          "output_type": "stream",
          "name": "stdout",
          "text": [
            "\n",
            "\n",
            "54-th English paragraph (of length 142 letters and 27 words)\n"
          ]
        },
        {
          "output_type": "display_data",
          "data": {
            "text/plain": [
              "<IPython.core.display.Markdown object>"
            ],
            "text/markdown": "> [A] You may still play the Forest. Putting a land onto the battlefield with a spell or ability doesn't use up your one land drop per turn.[/A]"
          },
          "metadata": {}
        },
        {
          "output_type": "stream",
          "name": "stdout",
          "text": [
            "Translated 54-th paragraph in French (of length 169 letters and 31 words)\n"
          ]
        },
        {
          "output_type": "display_data",
          "data": {
            "text/plain": [
              "<IPython.core.display.Markdown object>"
            ],
            "text/markdown": "> [A] Vous pouvez toujours jouer à la Forêt. Mettre une terre sur le champ de bataille avec un sort ou une capacité n'épuise pas votre seule largage de terre par tour.[/A]"
          },
          "metadata": {}
        },
        {
          "output_type": "stream",
          "name": "stdout",
          "text": [
            "\n",
            "\n",
            "55-th English paragraph (of length 4 letters and 1 words)\n"
          ]
        },
        {
          "output_type": "display_data",
          "data": {
            "text/plain": [
              "<IPython.core.display.Markdown object>"
            ],
            "text/markdown": "> [hr]"
          },
          "metadata": {}
        },
        {
          "output_type": "stream",
          "name": "stdout",
          "text": [
            "Translated 55-th paragraph in French (of length 4 letters and 1 words)\n"
          ]
        },
        {
          "output_type": "display_data",
          "data": {
            "text/plain": [
              "<IPython.core.display.Markdown object>"
            ],
            "text/markdown": "> [hr]"
          },
          "metadata": {}
        },
        {
          "output_type": "stream",
          "name": "stdout",
          "text": [
            "\n",
            "\n",
            "56-th English paragraph (of length 1037 letters and 175 words)\n"
          ]
        },
        {
          "output_type": "display_data",
          "data": {
            "text/plain": [
              "<IPython.core.display.Markdown object>"
            ],
            "text/markdown": "> Each Question in my last article had a hidden reference to a different pop-culture pig. With ten different questions there were ten different pigs. The spoiler below has the answer key to those references.\n[spoiler]\nQuestion 1) Charlotte's Web - Wilbur the Pig and Charlotte the Spider\nQuestion 2) Jim Henson's Muppets - Miss Piggy, Kermit the Frog, and Fozzie Bear.\nQuestion 3) The Three Little Pigs and the Big Bad Wolf\nQuestion 4) Angry Birds Video Game (Birds vs Pigs)\nQuestion 5) Looney Tunes - Bugs Bunny, Porky Pig, and Daffy Duck\nQuestion 6) Babe the 1995 Movie - Babe the Pig, Sheep for Babe to herd, and Farmer Arthur Hoggett\nQuestion 7) Legend of Zelda - Link an Elf Warrior, Zelda an Elf Noble, and Ganon (pig form of Ganondorf)\nQuestion 8) The Lion King - Timon the Meerkat, Pumbaa the Warthog, and some Hyenas for them to fight.\nQuestion 9) Toy Story - Woody the Cowboy, Buzz the Spaceman, Rex the T-Rex, and Hamm the Piggy Bank.\nQuestion 10) Winnie the Pooh - Pooh the Bear, Tigger the Tiger, and Piglet the Pig.[/spoiler]"
          },
          "metadata": {}
        },
        {
          "output_type": "stream",
          "name": "stdout",
          "text": [
            "Translated 56-th paragraph in French (of length 897 letters and 148 words)\n"
          ]
        },
        {
          "output_type": "display_data",
          "data": {
            "text/plain": [
              "<IPython.core.display.Markdown object>"
            ],
            "text/markdown": "> Chaque question de mon dernier article contenait une référence cachée à un cochon de culture pop différent..Avec dix questions différentes, il y avait dix cochons différents..Le spoiler ci-dessous a la clé de réponse à ces références.[spoiler] Question 1) Charlotte's Web - Wilbur le cochon et Charlotte l'araignée Question 2) Jim Henson's Muppets - Miss Piggy, Kermit la grenouille et Fozzie Bear.Question 3) Les trois petits cochons et le grand méchant loup Question 4) Angry Birds Jeu vidéo (Oiseaux vs cochons) Question 5) Looney Tunes - Bugs Bunny, Porky Pig et Daffy Duck Question 6) Babe the 1995 Movie - Babe the Pig, Sheep for Babe to troupeau, et le fermier Arthur Hoggett Question 7) Legend of Zelda - Link an Elf Warrior.Toy Story - Woody le Cowboy, Buzz le Spaceman, Rex le T-Rex, et Hamm la tirelire.Winnie l'ourson - L'ourson l'ourson, Tigrou le tigre et Cochon le cochon.[/spoiler]"
          },
          "metadata": {}
        },
        {
          "output_type": "stream",
          "name": "stdout",
          "text": [
            "\n",
            "\n",
            "57-th English paragraph (of length 62 letters and 10 words)\n"
          ]
        },
        {
          "output_type": "display_data",
          "data": {
            "text/plain": [
              "<IPython.core.display.Markdown object>"
            ],
            "text/markdown": "> - Justin Hovdenes AKA Hovey\nLevel 2 Magic Judge\nRapid City, SD"
          },
          "metadata": {}
        },
        {
          "output_type": "stream",
          "name": "stdout",
          "text": [
            "Translated 57-th paragraph in French (of length 65 letters and 12 words)\n"
          ]
        },
        {
          "output_type": "display_data",
          "data": {
            "text/plain": [
              "<IPython.core.display.Markdown object>"
            ],
            "text/markdown": "> - Justin Hovdenes alias Hovey Niveau 2 Magic Judge Rapid City, SD"
          },
          "metadata": {}
        },
        {
          "output_type": "stream",
          "name": "stdout",
          "text": [
            "- Generating the Markdown content to write to Google doc:\n",
            "The entire content to write is:\n"
          ]
        },
        {
          "output_type": "display_data",
          "data": {
            "text/plain": [
              "<IPython.core.display.Markdown object>"
            ],
            "text/markdown": "> \n    # TITLE: « Cranial Insertion: All in Jeopardy (Can you answer in the form of a question?) »\n\n    - Une suggestion pour la traduction de ce titre en français est :\n    TITRE : « Cranial Insertion: All in Jeopardy (Pouvez-vous répondre sous la forme d'une question?) »\n\n    - Le dernier article vient de cette page web : https://www.cranial-insertion.com/article/4376\n    - Il a été publié le : Mon, 31 Mar 2025 00:00:00 EDT\n\n    -----------------------------------------------------\n    \n\n    [cright=Living Death]\"Alex, the answer is \"What would be an\n    example of an oximoron?\"[/cright]\n\n[crightLiving Death]\"Alex, la réponse est \"Quel serait un exemple d'oximoron?\"[/cright]\n\n    Today we have a collection of questions found on the IRC Chatroom #magicjudges-rules and the Facebook group Ask the Judge - [b]Magic[/b]: The Gathering Rules and Policy Questions. Feel free to join us in either or both groups.\n\nAujourd'hui, nous avons une collection de questions trouvées sur le IRC Chatroom magicjudges-rules et le groupe Facebook Ask the Judge - [b]Magic[/b]: The Gathering Rules and Policy Questions. N'hésitez pas à nous rejoindre dans l'un ou les deux groupes.\n\n    If you have any [b]Magic[/b] questions burning at the back of your brain, you can send them to us. We may even use them in a future article. If you have a short question, you can send it to us via our Twitter account at [url=https://twitter.com/CranialTweet]@CranialTweet[/url], and you can send us longer questions at [email]moko@cranialinsertion.com[/email].\n\nSi vous avez des questions magiques qui brûlent à l'arrière de votre cerveau, vous pouvez nous les envoyer..Nous pourrions même les utiliser dans un prochain article..Si vous avez une petite question, vous pouvez nous l'envoyer via notre compte Twitter à [urlhttps://twitter.com/CranialTweet]CranialTweet[/url], et vous pouvez nous envoyer des questions plus longues à [email]mokocranialinsertion.com[/email]\n\n    [hr]\n    [Q] I have two [c]Squire[/c]s on the battlefield and I have [c]Custodi Soulbinders[/c] and four copies of [c]Bear Cub[/c] in my graveyard. If I cast [c]Living Death[/c], how many +1/+1 counters will Soulbinders enter with?[/Q]\n\n[hr] [Q] J'ai deux [c]Squire[/c]s sur le champ de bataille et j'ai [c]Custodi Soulbinders[/c] et quatre copies de [c]Bear Cub[/c] dans mon cimetière. Si je lance [c]Living Death[/c], combien de marqueurs +1/+1 Soulbinders entrera-t-il avec ?[/Q]\n\n    [A] Custodi Soulbinders will enter with zero +1/+1 counters. Souldbinders and the Bears will enter simultaneously. Soulbinders' first ability is a replacement effect that checks to see how many creatures are on the battlefield just before it enters. At that point there are no creatures on the board, so it gets no counters as it enters.[/A]\n\n[A] Custodi Soulbinders entrera avec zéro marqueur +1/+1. Souldbinders et les Bears entreront simultanément. La première capacité de Soulbinders est un effet de remplacement qui vérifie le nombre de créatures sur le champ de bataille juste avant d'entrer. À ce moment-là, il n'y a pas de créatures sur le plateau, donc il ne reçoit pas de marqueurs lorsqu'il entre.[/A]\n\n    [hr]\n    [Q] My commander is [c]Grimgrin, Corpse-Born[/c]. Grimgrin was [c]Murder[/c]ed last turn and I choose to move him to the command zone. I control [c]Rooftop Storm[/c]. If I try to cast Grimgrin from the command zone, will he cost [m]2[/m] or will he be free?[/Q]\n\n[hr] [Q] Mon commandant est [c]Griggrin, Corpse-Born[/c]. Grimgrin a été [c]Murder[/c] dernier tour et je choisis de le déplacer dans la zone de commandement. Je contrôle [c]Rooftop Storm[/c]. Si j'essaie de lancer Grimgrin de la zone de commandement, va-t-il coûter [m]2[/m] ou sera-il libre?\n\n    [A] He will cost [m]2[/m]. \n    Commander \"tax\" is an additional cost that must be paid in addition to the normal cost for casting your commander. Rooftop Storm gives you the option of replacing the normal cost of casting your Zombies with [m]0[/m]. This has no effect on additional costs.  [/A]\n\n[A] Il vous en coûtera [m]2[/m]. Commander \"taxe\" est un coût supplémentaire qui doit être payé en plus du coût normal pour lancer votre commandant. Rooftop Storm vous donne la possibilité de remplacer le coût normal de lancer vos Zombies par [m]0[/m]. Cela n'a aucun effet sur les coûts supplémentaires. [/A]\n\n    [hr]\n    [Q] My opponent exiled [c]Wheel of Fate[/c] with [c]Reckless Impulse[/c]. She now claims she can cast Wheel of Fate because it's in exile. Is that true?[/Q]\n\n[hr] [Q] Mon adversaire a exilé [c]Wheel of Fate[/c] avec [c]Reckless Impulse[/c]. Elle prétend maintenant qu'elle peut lancer Wheel of Fate parce que c'est en exil. Est-ce vrai?[/Q]\n\n    [A] Your opponent is wrong. The part of suspend that lets you cast a card with no mana cost is casting it without paying its mana cost, not that it's casting it from exile.[/A]\n\n[A] Votre adversaire a tort. La partie de suspension qui vous permet de lancer une carte sans coût de mana est de la lancer sans payer son coût de mana, pas qu'il la jette de l'exil.\n\n    [hr]\n    [Q] I control four [c]Bear Cub[/c]s, [c]Agrus Kos, Eternal Soldier[/c], and [c]Thundering Raiju[/c]. None of my creatures are currently modified. I attack with the Raiju and have its attack trigger target Agrus. When Agrus's ability triggers because he became targeted, I pay the cost. After all these triggers resolve, how much damage will Raiju deal to each opponent?[/Q]\n\n[hr] [Q] Je contrôle quatre [c] Ours Cub[/c]s, [c]Agrus Kos, Eternal Soldier[/c] et [c]Thundering Raiju[/c].Aucune de mes créatures n'est actuellement modifiée.J'attaque avec le Raiju et ai sa cible de déclenchement d'attaque Agrus.Quand la capacité d'Agrus se déclenche parce qu'il a été ciblé, je paie le coût.Après que tous ces déclencheurs se soient résolus, combien de dégâts Raiju infligera-t-il à chaque adversaire?\n\n    [A] The Answer is between 15-19 damage, depending on when you let the trigger targeting Raiju resolve.\n\n[A] La réponse se situe entre 15 et 19 points de dégâts, selon le moment où vous laissez le déclencheur cibler la résolution de Raiju.\n\n    When Agrus's trigger resolves, it creates five copies of Raiju's trigger, one for each Bear and one for Raiju, making a total of six Raiju triggers. The last trigger to resolve has to be the one targeting Agrus, and the other five resolve before it in the order of your choosing. \n\nLorsque le déclencheur d'Agrus se résout, il crée cinq copies du déclencheur de Raiju, une pour chaque Ours et une pour Raiju, ce qui fait un total de six déclencheurs de Raiju. Le dernier déclencheur à résoudre doit être celui ciblant Agrus, et les cinq autres résolvent avant dans l'ordre de votre choix.\n\n    For our first example, we will have the trigger targeting Raiju resolve first, then the four triggers targeting Bears, and finally the one targeting Agrus.\n\nPour notre premier exemple, nous aurons le déclencheur ciblant la résolution de Raiju en premier, puis les quatre déclencheurs ciblant les ours, et enfin celui ciblant Agrus.\n\n    Raiju gets a +1/+1 counter, no damage is dealt as Raiju only checks modified creatures other than himself. Total damage 0.\n    Bear #1 gets a +1/+1 counter, 1 damage is dealt as there is only one modified creature other than Raiju. Total damage 1.\n    Bear #2 gets a +1/+1 counter, 2 damage is dealt as there are now two modified creatures. Total damage 3.\n    Bear #3 gets a +1/+1 counter, 3 damage is dealt. Total damage 6.\n    Bear #4 gets a counter, 4 damage is dealt. Total damage of 10.\n    Agrus get a a counter, 5 damage is dealt. Total damage of 15.\n\nRaiju obtient un marqueur +1/+1, aucun dégât n'est infligé car Raiju ne vérifie que les créatures modifiées autres que lui-même..Total des dégâts 0.Ours 1 obtient un marqueur +1/+1, 1 dégât est infligé car il n'y a qu'une seule créature modifiée autre que Raiju.Total des dégâts 1.Ours 2 obtient un marqueur +1/+1, 2 dégâts sont infligés car il y a maintenant deux créatures modifiées.Total des dégâts 3.Ours 3 obtient un marqueur +1/+1, 3 dégâts sont infligés.Total des dégâts 6.Ours 4 obtient un marqueur, 4 dégâts sont infligés.Dégâts totaux de 10.Agrus obtenir un compteur, 5 dégâts sont infligés.Total des dégâts de 15\n\n    Now let's have the four Bears' triggers resolve first, then Raiju, followed by Agrus.\n    Bear #1, 1 damage is dealt. Total damage 1.\n    Bear #2, 2 damage is dealt. Total damage 3.\n    Bear #3, 3 damage id dealt. Total damage 6.\n    Bear #4, 4 damage is dealt. Total damage is 10.\n    Raiju, 4 damage is dealt. Total damage is 14.\n    Agrus, 5 damage is dealt. Total damage is 19.\n\nMaintenant, faisons résoudre les déclencheurs des quatre ours en premier, puis Raiju, suivi d'Agrus..Ours 1, 1 dégâts est infligé.Total des dégâts 1.Ours 2, 2 dégâts sont infligés.Total des dégâts 3.Ours 3, 3 points de dégâts infligés.Total des dégâts 6.Ours 4, 4 points de dégâts sont infligés.Le total des dégâts est de 10.Raiju, 4 points de dégâts sont infligés.Le total des dégâts est de 14.Agrus, 5 points de dégâts sont infligés.Le total des dégâts est de 19\n\n    The later the trigger targeting Raiju resolves, the more the total damage.\n     [/A]\n\nPlus le déclencheur ciblant Raiju est tardif, plus les dégâts totaux sont importants. [/A]\n\n    [hr]\n    [cleft=Grafdigger's Cage]Alex, the answer is \"What is used to \n    keep the dead from escaping their graves?\"[/cleft][Q] Does [c]Grafdigger's Cage[/c] stop [c]Abhorrent Oculus[/c] from manifest-dreading?[/Q]\n\n[hr] [cleftCage de Graffiteur]Alex, la réponse est \"Qu'est-ce qui est utilisé pour empêcher les morts de s'échapper de leurs tombes?\"[/cleft][Q] Est-ce que [c]Cage de Graffiteur[/c] empêche [c]Oculus odieux[/c] de manifest-dreading?[/Q]\n\n    [A] Well, in the important ways, yes. They still \"manifest dread\", but some parts they can't complete. Manifest Dread is \"Look at the top two cards of your library. Manifest one of them, then put the cards you looked at that were not manifested this way into your graveyard.\" Since you can't put a creature from your library into play, both cards looked at are put into the graveyard.[/A]\n\n[A] Eh bien, dans les moyens importants, oui.Ils \"manifestent encore de l'effroi\", mais certaines parties ne peuvent pas être complétées.Manifest Dread est \"Regardez les deux cartes du dessus de votre bibliothèque.Manifestez l'un d'eux, puis mettez les cartes que vous avez regardées qui n'ont pas été manifestées de cette façon dans votre cimetière..Puisque vous ne pouvez pas mettre en jeu une créature de votre bibliothèque, les deux cartes regardées sont mises dans le cimetière..[/A]\n\n    [hr]\n    [Q] Last turn my opponent stole my [c]Bear Cub[/c] by casting [c]Sower of Temptation[/c]. This turn I used [c]Ovinize[/c] to make the Sower lose all its abilities. I did this because I think I'll get my Bear Cub back, since the Sower no longer has the \"steal your creature\" ability. My opponent disagrees. Who is right?[/Q]\n\n[hr] [Q] Dernier tour, mon adversaire a volé mon [c]Bear Cub[/c] en lançant [c]Sower of Temptation[/c]. Ce tour, j'ai utilisé [c]Ovinize[/c] pour faire perdre au semeur toutes ses capacités. J'ai fait cela parce que je pense que je vais récupérer mon Bear Cub, puisque le semeur n'a plus la capacité \"voler votre créature\".\n\n    [A] Your opponent is correct. Removing the enters ability (that creates an effect with a duration) after the ability has resolved, doesn't stop it from functioning.\n\nRetirer la capacité d'entrée (qui crée un effet avec une durée) après que la capacité a été résolue, ne l'empêche pas de fonctionner.\n\n    If it helps, an example that seems more intuitive would be the following: My opponent used [c]Rootwater Matriarch[/c] to steel my [c]Hill Giant[/c] enchanted with [c]Spirit Link[/c]. Killing the Matriarch won't get the Hill Giant back, even though that removes where the steal ability came from. The duration is based on whether or not the Hill Giant is still enchanted.\n\nSi cela aide, un exemple qui semble plus intuitif serait le suivant : Mon adversaire a utilisé [c]Rootwater Matriarch[/c] pour renforcer mon [c]Hill Giant[/c] enchanté par [c]Spirit Link[/c].Tuer la Matriarche ne ramènera pas le Géant de la Colline, même si cela enlève l'endroit d'où venait la capacité de vol..La durée est basée sur le fait que le Géant de la Colline soit encore enchanté ou non.\n\n    So with the original question, removing Sower's abilities doesn't stop the steal effect. You have to remove the Sower to gain the creature back because that ends the duration of the effect.[/A]\n\nDonc, avec la question d'origine, retirer les capacités du Semeur n'arrête pas l'effet de vol. Vous devez retirer le Semeur pour récupérer la créature, car cela met fin à la durée de l'effet.\n\n    [hr]\n    [Q] So continuing with the last question, what if instead of [c]Ovinize[/c]ing the [c]Sower of Temptation[/c] I phased it out with [c]Reality Ripple[/c]?[/Q]\n\n[hr] [Q] Donc, en continuant avec la dernière question, que se passerait-il si au lieu de [c]Ovinize[/c]le Semeur de Tentation[/c] je l'éliminais progressivement avec [c]Reality Ripple[/c]?[/Q]\n\n    [A] You would get your creature back. If a creature phases out, it's treated as though it's no longer on the battlefield. The duration of its effect has been met, so the effect ends and the stolen creature returns to its last controller, usually its owner.[/A]\n\n[A] Vous récupéreriez votre créature. Si une créature sort progressivement, elle est traitée comme si elle n'était plus sur le champ de bataille. La durée de son effet a été atteinte, de sorte que l'effet se termine et que la créature volée retourne à son dernier contrôleur, généralement son propriétaire.[/A]\n\n    [hr]\n    [Q] I block my opponent's attacking [c]Bear Cub[/c] with [c]Manor Gargoyle[/c]. After combat ends, the opponent then casts [c]Disfigure[/c] targeting my Gargoyle. They claim they just killed my Gargoyle. Is this true?[/Q]\n\n[hr] [Q] Je bloque l'attaque de mon adversaire [c]Bear Cub[/c] avec [c]Manor Gargoyle[/c]. Après la fin du combat, l'adversaire lance alors [c]Défigure[/c] ciblant ma Gargouille. Ils prétendent qu'ils viennent de tuer ma Gargoyle. Est-ce vrai?[/Q]\n\n    [A] It is not true, your Gargoyle lives through this. Many new players make this same wrong assumption. Damage doesn't reduce toughness. You have a 2/2 Gargoyle with 2 damage marked on it. Because it's indestructible, the state based action that tries to destroy it for having equal or more damage than it has toughness fails to do anything. If they want to get your Gargoyle into the graveyard, they need to give it enough [c=Dismember]-X/-X to make its toughness 0 or less[/c], or force you to [c=Diabolic Edict]sacrifice it[/c].[/A]\n\n[A] Ce n'est pas vrai, votre Gargoyle vit à travers cette.Beaucoup de nouveaux joueurs font la même hypothèse erronée.Les dommages ne réduisent pas la ténacité.Vous avez une gargouille 2/2 avec 2 dégâts marqués dessus.Parce qu'il est indestructible, l'action basée sur l'état qui tente de le détruire pour avoir des dégâts égaux ou plus qu'il n'a la dureté ne parvient pas à faire quoi que ce soit..S'ils veulent faire entrer votre Gargouille dans le cimetière, ils doivent lui donner assez de [cDismember]-X/-X pour rendre son endurance 0 ou moins[/c], ou vous forcer à [cDiabolic Edict]sacrifice it[/c].[/A]\n\n    [hr]\n    [Q] If [c]Ragavan, Nimble Pilferer[/c] is my commander, can I cast him for his dash cost from the command zone?[/Q]\n\n[hr] [Q] Si [c]Ragavan, Nimble Pilferer[/c] est mon commandant, puis-je le jeter pour son coût de tableau de bord de la zone de commande?[/Q]\n\n    [A] Yes, you can. Dash can be used from any zone, so long as you are allowed to cast that card from that same zone normally. [/A]\n\n[A] Oui, vous pouvez. Dash peut être utilisé à partir de n'importe quelle zone, tant que vous êtes autorisé à lancer cette carte à partir de la même zone normalement. [/A]\n\n    [hr]\n    [Q] Following up with the last question, do I have to pay commander tax if I dash out my commander?[/Q]\n\n[hr] [Q] Suite à la dernière question, dois-je payer la taxe de commandant si je me précipite hors de mon commandant?[/Q]\n\n    [A] Yes, you do. Suppose you cast Ragavan normally on turn one, then later he died and returned to the command zone. When you go to dash him he now costs [m]3[/m][m]R[/m] to dash. Then if he dies again and returns to the command zone, the next time you go to cast him he costs either [m]4[/m][m]R[/m] to cast normally or [m]5[/m][m]R[/m] to dash.[/A]\n\n[A] Oui, vous le faites. Supposons que vous lancez Ragavan normalement au premier tour, puis plus tard il est mort et est retourné à la zone de commande. Lorsque vous allez le lancer, il coûte maintenant [m] 3 [/m] [m] R [/m] à lancer. Puis s'il meurt à nouveau et retourne à la zone de commande, la prochaine fois que vous allez le lancer, il coûte soit [m] 4 [/m] R [/m]\n\n    [hr]\n    [Q] I have eight cards in my hand. I go to my cleanup step and discard [c]Blazing Rootwalla[/c] to get down to maximum hand size. Can I cast the Rootwalla even though I'm in my cleanup step?[/Q]\n\n[hr] [Q] J'ai huit cartes dans ma main. Je vais à mon étape de nettoyage et je jette [c]Blazing Rootwalla[/c] pour descendre à la taille maximale de la main. Puis-je lancer le Rootwalla même si je suis dans mon étape de nettoyage?[/Q]\n\n    [A] Yes, you can. During most cleanup steps, no players get priority. However, if an ability triggers during the cleanup step, or a state based action applies during a cleanup step, then the active player gains priority and may cast spells and activate abilities. \n\n[A] Oui, vous pouvez. Pendant la plupart des étapes de nettoyage, aucun joueur n'obtient la priorité. Cependant, si une capacité se déclenche pendant l'étape de nettoyage, ou si une action basée sur l'état s'applique pendant une étape de nettoyage, alors le joueur actif gagne en priorité et peut lancer des sorts et activer des capacités.\n\n    This is when you can cast the Rootwalla, as discarding it to madness puts a trigger on the stack.\n\nC'est à ce moment-là que vous pouvez lancer le Rootwalla, car le jeter à la folie met un déclencheur sur la pile.\n\n    A normal priority pass will begin from here and until all players pass in succession with an empty stack, players may add new items to the stack when they have priority. Once all players pass with an empty stack, this cleanup step ends and a new one begins. If that new cleanup ends normally, then the game will move on to the next player's turn.[/A]\n\nUne passe de priorité normale commencera à partir d'ici et jusqu'à ce que tous les joueurs passent successivement avec une pile vide, les joueurs peuvent ajouter de nouveaux objets à la pile quand ils ont la priorité. Une fois que tous les joueurs passent avec une pile vide, cette étape de nettoyage se termine et une nouvelle commence. Si ce nouveau nettoyage se termine normalement, alors la partie passera au tour du joueur suivant.\n\n    [hr]\n    [Q] While resolving [c]Burning Inquiry[/c] I discarded [c]Basking Rootwalla[/c] and two [c]Mountain[/c]s. My opponent controls a [c]Rest in Peace[/c]. My opponent claims I can't cast the Rootwalla for its Madness cost as it got exiled by Rest in Peace when I discarded it. Is this true?[/Q]\n\n[hr] [Q] Mon adversaire contrôle un [c]Repos en paix[/c]. Mon adversaire prétend que je ne peux pas lancer le Rootwalla pour son coût de folie car il a été exilé par Rest in Peace quand je l'ai rejeté. Est-ce vrai?\n\n    [A] Your opponent is wrong. You can cast your Rootwalla for its madness cost. The Rootwalla hasn't been exiled by Rest in Peace yet. This is because madness doesn't quite work the way most people think it does. If a card with madness gets discarded, it goes to exile instead of being put into its owner's graveyard. Then the next time a player would get priority, a trigger allowing its owner to cast it for its madness cost is put on the stack. When this trigger resolves, the owner may cast the card, but if they don't then the card is put into their graveyard. \n\n[A] Votre adversaire a tort.Vous pouvez lancer votre Rootwalla pour son coût de folie.Le Rootwalla n'a pas encore été exilé par Rest in Peace.C'est parce que la folie ne fonctionne pas comme la plupart des gens pensent qu'elle fonctionne..Si une carte avec la folie est rejetée, elle va à l'exil au lieu d'être mise dans le cimetière de son propriétaire.Ensuite, la prochaine fois qu'un joueur obtiendra la priorité, un déclencheur permettant à son propriétaire de le lancer pour son coût de folie est mis sur la pile..Lorsque ce déclencheur est résolu, le propriétaire peut lancer la carte, mais s'il ne le fait pas, la carte est placée dans son cimetière..(suite)\n\n    To get back to the original question, Rest in Peace can only exile a discarded Madness card after the owner has decided not to cast it for madness and choses to let it go to the graveyard.\n    [/A]\n\nPour revenir à la question initiale, Rest in Peace ne peut exiler une carte Madness abandonnée que lorsque le propriétaire a décidé de ne pas la lancer pour la folie et a choisi de la laisser aller au cimetière.\n\n    [hr]\n    [Q] My opponent pays [m]3[/m][m]U[/m] to gain level 2 on their [c]Stormchaser's Talent[/c]. Before it becomes level 2, I [c]Boomerang[/c] it to their hand. The opponent says they still get to return an instant or sorcery to their hand, I say they don't, who is right?[/Q]\n\n[hr] [Q] Mon adversaire paie [m]3[/m][m]U[/m] pour gagner le niveau 2 sur son Talent [/c]Stormchaser[/c]. Avant qu'il ne devienne le niveau 2, je [c] Boomerang[/c] à leur main. L'adversaire dit qu'il peut toujours retourner un instant ou de la sorcellerie à leur main, je dis qu'ils ne le font pas, qui a raison?[/Q]\n\n    [A] You are correct, they do not. Gaining a level is an ability that uses the stack and can be responded to. Stormchaser's level 2 ability is a trigger that triggers upon it becoming level 2 and happens only after it becomes level 2. If it's not on the battlefield when its level 2 ability resolves, there is no ability to trigger (nor a permanent to become level 2). [/A]\n\nTu as raison, ils n'ont pas.Gagner un niveau est une capacité qui utilise la pile et à laquelle on peut répondre..La capacité de niveau 2 de Stormchaser est un déclencheur qui se déclenche lorsqu'il devient de niveau 2 et n'arrive qu'après qu'il devienne de niveau 2..S'il n'est pas sur le champ de bataille lorsque sa capacité de niveau 2 est résolue, il n'y a pas de capacité de déclenchement (ni de permanent pour devenir niveau 2)..[/A]\n\n    [hr]\n    [cright=Bear Cub|PO2]Alex, the answer is \"What is another\n    name for Ursine Child?\"[/cright][Q] I enchanted my opponent's [c]Bear Cub[/c] with my [c]Sigil of Sleep[/c]. If the Bear Cub goes unblocked attacking me, who chooses which creature I control gets returned to its owner's hand?[/Q]\n\n[hr] [crightBear CubPO2]Alex, la réponse est \"Quel est un autre nom pour Ursine Child ?\"[/cright][Q] J'ai enchanté le [c]Bear Cub[/c] de mon adversaire avec mon [c]Sigil of Sleep[/c].\n\n    [A] You get to choose as you control the Sigil of Sleep.[/A]\n\n[A] Vous pouvez choisir en contrôlant le Sigil of Sleep.[/A]\n\n    [hr]\n    [Q] I attack with [c]Geist of Saint Traft[/c] while I control [c]Anointed Procession[/c]. When combat ends, will both Angel tokens get exiled or do I get to keep one?[/Q]\n\n[hr] [Q] J'attaque avec [c]Geist de Saint Traft[/c] pendant que je contrôle [c]Procession ointe[/c]. Quand le combat se termine, les deux jetons Ange seront-ils exilés ou est-ce que je peux en garder un ?[/Q]\n\n    [A] Both still get exiled. Saint Traft's triggered ability still made both tokens and tracks them to be exiled at the end of combat. Procession doesn't make tokens, it just changes how many tokens other cards and abilities make.[/A]\n\n[A] Les deux sont toujours exilés. La capacité déclenchée de Saint Traft a toujours fait les deux jetons et les suit pour être exilés à la fin du combat. La procession ne fait pas de jetons, elle change simplement le nombre de jetons que font les autres cartes et capacités.[/A]\n\n    [hr]\n    [Q] I attack with [c]Geist of Saint Traft[/c], but before blocks, I cast [c]Eyes in the Skies[/c] choosing to populate the Angel token. When combat ends, will both Angel tokens get exiled or do I get to keep one?[/Q]\n\n[hr] [Q] J'attaque avec [c]Geist of Saint Traft[/c], mais avant les blocs, je lance [c]Eyes in the Skies[/c] en choisissant de remplir le jeton Angel. Quand le combat se termine, est-ce que les deux jetons Angel seront exilés ou est-ce que je peux en garder un?[/Q]\n\n    [A] You get to keep the one made by Eyes in the Skies. Unlike Anointed Procession from the last question, Eyes in the Skies makes the token and the token has no link to the ability that made the original Angel token. This includes that the second Angel token is not attacking, is not tapped, and it won't get exiled at the end of combat.[/A]\n\n[A] Vous obtenez de garder celui fait par les yeux dans les cieux. Contrairement à la procession ointe de la dernière question, les yeux dans les cieux fait le jeton et le jeton n'a aucun lien avec la capacité qui a fait le jeton Ange original. Cela inclut que le deuxième jeton Ange n'attaque pas, n'est pas tapoté, et il ne sera pas exilé à la fin du combat.\n\n    [hr]\n    [Q] I don't understand what [c]Emrakul, the World Anew[/c] has protection from. Can you clarify this?[/Q]\n\n[hr] [Q] Je ne comprends pas de quoi [c]Emrakul, le Monde Anew[/c] est protégé. Pouvez-vous clarifier cela?[/Q]\n\n    [A] Emrakul has protection from spells and separately protection from permanents cast \"this turn\". This turn is whichever turn it currently is, even if it's been many turns since Emrakul herself was cast. \n\n[A] Emrakul a une protection contre les sorts et une protection séparée contre les permanents lancés \"ce tour\". Ce tour est celui qu'il est actuellement, même si cela fait plusieurs tours depuis qu'Emrakul elle-même a été lancée.\n\n    So for example, if I cast [c]Visara the Dreadful[/c] and gave her some [c]Lightning Greaves[/c] the same turn I cast her, she can't target and destroy Emrakul that turn. However, if I pass to my opponent's turn, Visara can now kill Emrakul as it's no longer the same turn Visara was cast. If I used [c]Goryo's Vengeance[/c] to reanimate Visara, then Visara could kill Emrakul that same turn as Visara wasn't cast at all.\n\nAinsi, par exemple, si je lance [c]Visara l'Effroyable [/c] et lui donne quelques [c]Lightning Greaves [/c] le même tour que je la lance, elle ne peut pas cibler et détruire Emrakul qui tourne.Cependant, si je passe au tour de mon adversaire, Visara peut maintenant tuer Emrakul car ce n'est plus le même tour que Visara a été jeté..Si j'utilisais [c]Goryo's Vengeance[/c] pour réanimer Visara, alors Visara pourrait tuer Emrakul le même tour que Visara.\n\n    Emrakul's protection ability acts similar to having protection from Auras. Auras when cast target what they will enchant, so Emrakul is safe from most Auras. However, on later turns, an Aura could be moved from its original target, to enchant Emrakul. For example, you could move [c]Pacifism[/c] from a 1/1 Goblin token to Emrakul using [c]Crown of the Ages[/c]. \n    [/A]\n\nLa capacité de protection d'Emrakul est similaire à celle d'une protection contre les auras.Les auras quand elles sont lancées ciblent ce qu'elles enchanteront, donc Emrakul est à l'abri de la plupart des auras..Cependant, plus tard, une aura pourrait être déplacée de sa cible d'origine, pour enchanter Emrakul..Par exemple, vous pouvez déplacer [c]Pacifisme[/c] d'un jeton 1/1 Gobelin à Emrakul en utilisant [c]Couronne des âges[/c].[/A]\n\n    [hr]\n    [Q] I cast [c]Season of Weaving[/c] choosing the two paws mode (to copy my [c]Arcanis the Omnipotent[/c]) and the three paws mode. Will I have to put one Arcanis into my graveyard due to the legend rule before bouncing all nonland and nontoken permanents?[/Q]\n\n[hr] [Q] Je lance [c]Season of Weaving[/c] en choisissant le mode à deux pattes (pour copier mon [c]Arcanis l'Omnipotent[/c]) et le mode à trois pattes. Devrai-je mettre un Arcanis dans mon cimetière en raison de la règle de légende avant de rebondir tous les permanents non terrestres et non symboliques?[/Q]\n\n    [A] You will not and you can not. The legend rule is a state based action. It's never checked in the middle of resolving a spell. You will put the original Arcanis into your hand before Season of Weaving fully resolves. The legend rule doesn't come into play during this situation.[/A]\n\n[A] Vous ne le ferez pas et vous ne pouvez pas. La règle de la légende est une action basée sur l'état. Elle n'est jamais vérifiée au milieu de la résolution d'un sort. Vous mettrez l'Arcanis original dans votre main avant que la saison de tissage ne soit entièrement résolue. La règle de la légende n'entre pas en jeu pendant cette situation.\n\n    [hr]\n    [Q] If I cast [c]Righteous Confluence[/c] choosing mode two once to exile my opponent's [c]Leyline of Sanctity[/c] and mode three twice to gain 10 total life, and the opponent responds by [c]Boomerang[/c]ing the Leyline back to their hand, do I still gain 10 life?[/Q]\n\n[hr] [Q] Si je lance [c]Confluence juste[/c] en choisissant le mode deux une fois pour exiler la [c]Ligne de sainteté de mon adversaire[/c] et le mode trois deux fois pour gagner 10 points de vie, et que l'adversaire répond en [c]Boomerang[/c]en remettant la Leyline à sa main, est-ce que je gagne quand même 10 points de vie ?[/Q]\n\n    [A] You do not. Righteous Confluence had only one target, Leyline of Sanctity, and that target has disappeared. If a spell loses all of its targets by the time it goes to resolve, it fizzles and none of its effects happen. [/A]\n\n[A] Vous ne l'avez pas. Confluence Juste n'avait qu'une seule cible, Leyline of Sanctity, et cette cible a disparu. Si un sort perd toutes ses cibles au moment où il va se résoudre, il s'écroule et aucun de ses effets ne se produit. [/A]\n\n    [hr]\n    [Q] I just cast [c]Cultivate[/c] putting a [c]Swamp[/c] onto the battlefield and a [c]Forest[/c] into my hand. I haven't played a land from my hand yet this turn. Can I still play the Forest as my land drop for the turn, or did the Swamp use up my land drop for the turn?[/Q]\n\n[hr] [Q] Je viens de lancer [c]Cultivate[/c] mettre un [c]Swamp[/c] sur le champ de bataille et un [c]Forest[/c] dans ma main. Je n'ai pas encore joué une terre de ma main ce tour. Puis-je encore jouer la forêt comme ma terre tomber pour le tour, ou le marais a-t-il utilisé ma terre tomber pour le tour?[/Q]\n\n    [A] You may still play the Forest. Putting a land onto the battlefield with a spell or ability doesn't use up your one land drop per turn.[/A]\n\n[A] Vous pouvez toujours jouer à la Forêt. Mettre une terre sur le champ de bataille avec un sort ou une capacité n'épuise pas votre seule largage de terre par tour.[/A]\n\n    [hr]\n\n[hr]\n\n    Each Question in my last article had a hidden reference to a different pop-culture pig. With ten different questions there were ten different pigs. The spoiler below has the answer key to those references.\n    [spoiler]\n    Question 1) Charlotte's Web - Wilbur the Pig and Charlotte the Spider\n    Question 2) Jim Henson's Muppets - Miss Piggy, Kermit the Frog, and Fozzie Bear.\n    Question 3) The Three Little Pigs and the Big Bad Wolf\n    Question 4) Angry Birds Video Game (Birds vs Pigs)\n    Question 5) Looney Tunes - Bugs Bunny, Porky Pig, and Daffy Duck\n    Question 6) Babe the 1995 Movie - Babe the Pig, Sheep for Babe to herd, and Farmer Arthur Hoggett\n    Question 7) Legend of Zelda - Link an Elf Warrior, Zelda an Elf Noble, and Ganon (pig form of Ganondorf)\n    Question 8) The Lion King - Timon the Meerkat, Pumbaa the Warthog, and some Hyenas for them to fight.\n    Question 9) Toy Story - Woody the Cowboy, Buzz the Spaceman, Rex the T-Rex, and Hamm the Piggy Bank.\n    Question 10) Winnie the Pooh - Pooh the Bear, Tigger the Tiger, and Piglet the Pig.[/spoiler]\n\nChaque question de mon dernier article contenait une référence cachée à un cochon de culture pop différent..Avec dix questions différentes, il y avait dix cochons différents..Le spoiler ci-dessous a la clé de réponse à ces références.[spoiler] Question 1) Charlotte's Web - Wilbur le cochon et Charlotte l'araignée Question 2) Jim Henson's Muppets - Miss Piggy, Kermit la grenouille et Fozzie Bear.Question 3) Les trois petits cochons et le grand méchant loup Question 4) Angry Birds Jeu vidéo (Oiseaux vs cochons) Question 5) Looney Tunes - Bugs Bunny, Porky Pig et Daffy Duck Question 6) Babe the 1995 Movie - Babe the Pig, Sheep for Babe to troupeau, et le fermier Arthur Hoggett Question 7) Legend of Zelda - Link an Elf Warrior.Toy Story - Woody le Cowboy, Buzz le Spaceman, Rex le T-Rex, et Hamm la tirelire.Winnie l'ourson - L'ourson l'ourson, Tigrou le tigre et Cochon le cochon.[/spoiler]\n\n    - Justin Hovdenes AKA Hovey\n    Level 2 Magic Judge\n    Rapid City, SD\n\n- Justin Hovdenes alias Hovey Niveau 2 Magic Judge Rapid City, SD"
          },
          "metadata": {}
        },
        {
          "output_type": "stream",
          "name": "stdout",
          "text": [
            "{'replies': [{}, {}, {}, {}, {}, {}, {}, {}, {}, {}, {}, {}, {}, {}, {}, {}, {}, {}, {}, {}, {}, {}, {}, {}, {}, {}, {}, {}, {}, {}, {}, {}, {}, {}, {}, {}, {}, {}, {}, {}, {}, {}, {}, {}, {}, {}, {}, {}, {}, {}, {}, {}, {}, {}, {}, {}, {}, {}, {}, {}, {}, {}, {}, {}, {}, {}, {}, {}, {}, {}, {}, {}, {}, {}, {}, {}, {}, {}, {}, {}, {}, {}, {}, {}, {}, {}, {}, {}, {}, {}, {}, {}, {}, {}, {}, {}, {}, {}, {}, {}, {}, {}, {}, {}, {}, {}, {}, {}, {}, {}, {}, {}, {}, {}, {}, {}, {}, {}, {}, {}, {}, {}, {}, {}, {}, {}, {}, {}, {}, {}, {}, {}, {}, {}, {}, {}, {}, {}, {}, {}, {}, {}, {}, {}, {}, {}, {}, {}, {}, {}, {}, {}, {}, {}, {}, {}, {}, {}, {}, {}, {}, {}, {}, {}, {}, {}, {}, {}, {}, {}, {}, {}, {}, {}, {}, {}, {}, {}, {}, {}, {}, {}, {}, {}, {}, {}, {}, {}, {}, {}, {}, {}, {}, {}, {}, {}, {}, {}, {}, {}, {}, {}, {}, {}, {}, {}, {}, {}, {}, {}, {}, {}, {}, {}, {}, {}, {}, {}, {}, {}, {}, {}, {}, {}, {}, {}, {}, {}, {}, {}, {}, {}, {}, {}, {}, {}, {}, {}, {}, {}, {}, {}, {}, {}, {}, {}, {}, {}, {}, {}, {}, {}, {}, {}, {}, {}, {}, {}, {}, {}, {}, {}, {}, {}, {}, {}, {}, {}, {}, {}, {}, {}, {}, {}, {}, {}, {}, {}, {}, {}, {}, {}, {}, {}, {}, {}, {}, {}, {}, {}, {}, {}, {}, {}], 'writeControl': {'requiredRevisionId': 'ALBJ4LuagJ7ZnJZRipm6C0SIjvjEGYbo6DZtUkniB4GPZ1oxb4U4onJ4YQ5aHAmcAZBd4AnWEYi6_5O525S17A'}, 'documentId': '1DzS5Fq6iug9qnxwP0iAehLIBrTM8iQL50-AKO8REaDo'}\n",
            "The Google doc at this URL has been modified with the desired content of length 33036:\n",
            "https://docs.google.com/document/d/1DzS5Fq6iug9qnxwP0iAehLIBrTM8iQL50-AKO8REaDo/edit?usp=sharing\n"
          ]
        },
        {
          "output_type": "display_data",
          "data": {
            "text/plain": [
              "<IPython.core.display.Markdown object>"
            ],
            "text/markdown": "> ||@everyone|| [Notre Google doc partagé](https://docs.google.com/document/d/1DzS5Fq6iug9qnxwP0iAehLIBrTM8iQL50-AKO8REaDo/edit?usp=sharing) a été mis à jour, avec le brouillon de traduction pour [le nouvel article hebdomadaire](https://www.cranial-insertion.com/article/4376).\n\nCet article s'intitule \"Cranial Insertion: All in Jeopardy (Can you answer in the form of a question?)\", a été publié le Mon, 31 Mar 2025 00:00:00 EDT, et son ID est 4376.\n\n> Envoyé automatiquement depuis un notebook Python executé sur Google Colab! Code by @Naereen\n"
          },
          "metadata": {}
        },
        {
          "output_type": "stream",
          "name": "stdout",
          "text": [
            "Starting to send the following message to my Discord server:\n",
            "||@everyone|| [Notre Google doc partagé](https://docs.google.com/document/d/1DzS5Fq6iug9qnxwP0iAehLIBrTM8iQL50-AKO8REaDo/edit?usp=sharing) a été mis à jour, avec le brouillon de traduction pour [le nouvel article hebdomadaire](https://www.cranial-insertion.com/article/4376).\n",
            "\n",
            "Cet article s'intitule \"Cranial Insertion: All in Jeopardy (Can you answer in the form of a question?)\", a été publié le Mon, 31 Mar 2025 00:00:00 EDT, et son ID est 4376.\n",
            "\n",
            "> Envoyé automatiquement depuis un notebook Python executé sur Google Colab! Code by @Naereen\n",
            "\n",
            "Success!\n",
            "CPU times: user 11min 22s, sys: 2.09 s, total: 11min 24s\n",
            "Wall time: 11min 29s\n"
          ]
        },
        {
          "output_type": "execute_result",
          "data": {
            "text/plain": [
              "''"
            ],
            "application/vnd.google.colaboratory.intrinsic+json": {
              "type": "string"
            }
          },
          "metadata": {},
          "execution_count": 103
        }
      ]
    },
    {
      "cell_type": "markdown",
      "source": [
        "------------\n",
        "\n",
        "## TODO Try to finetune [Helsinki-NLP/opus-mt-tc-big-en-fr](https://huggingface.co/Helsinki-NLP/opus-mt-tc-big-en-fr) for Magic: the Gathering keywords, vocabulary and cardnames\n",
        "\n",
        "If I have more time, I want to:\n",
        "\n",
        "- create a private datasets containing all the questions/answers in all the previously well-translated articles of Cranial Insertion (since 2012 it's translated in French on a weekly basis)\n",
        "- fine-tune the Helsinki-NLP's LLM model on this corpus, to try to improve its performance on our future Cranial Insertion articles\n",
        "\n",
        "If this new model indeed turns out to be \"smarter\" (more efficient and more precise), I will of course upload its weights to a [public model on my HuggingFace profile @Naereen](https://huggingface.co/Naereen).\n",
        "\n",
        "If it works fine, we could use it when we will start working on translating the Magic: the Gathering Comprehensive Rules (CR), IPG, JAR, MTR.\n",
        "\n",
        "See:\n",
        "- <https://huggingface.co/docs/transformers/tasks/translation>\n",
        "- <https://colab.research.google.com/github/huggingface/notebooks/blob/main/examples/translation-tf.ipynb>"
      ],
      "metadata": {
        "id": "RZ5Oxd7c72Vg"
      }
    },
    {
      "cell_type": "code",
      "source": [],
      "metadata": {
        "id": "OPJ028D86KS3"
      },
      "execution_count": null,
      "outputs": []
    }
  ],
  "metadata": {
    "colab": {
      "provenance": [],
      "collapsed_sections": [
        "chp0GYsGWCYz",
        "cmyAZXr2__Da",
        "SrDH2I2pjxF0",
        "z--6_Yjs71jw",
        "OFRuHX0yPPk2"
      ],
      "gpuType": "T4"
    },
    "language_info": {
      "name": "python"
    },
    "kernelspec": {
      "name": "python3",
      "display_name": "Python 3"
    },
    "accelerator": "GPU",
    "widgets": {
      "application/vnd.jupyter.widget-state+json": {
        "ff41aea390694f358d6623ad5a44ce50": {
          "model_module": "@jupyter-widgets/controls",
          "model_name": "HBoxModel",
          "model_module_version": "1.5.0",
          "state": {
            "_dom_classes": [],
            "_model_module": "@jupyter-widgets/controls",
            "_model_module_version": "1.5.0",
            "_model_name": "HBoxModel",
            "_view_count": null,
            "_view_module": "@jupyter-widgets/controls",
            "_view_module_version": "1.5.0",
            "_view_name": "HBoxView",
            "box_style": "",
            "children": [
              "IPY_MODEL_5203346d92d04688a3f6f59f2853fee6",
              "IPY_MODEL_017b0ad4cc6f47f988d3894bfe90dd2c",
              "IPY_MODEL_f9c8e7a012bc498e879fa6a7d7c42a86"
            ],
            "layout": "IPY_MODEL_aa6bb36973254e48aebc140936912c65"
          }
        },
        "5203346d92d04688a3f6f59f2853fee6": {
          "model_module": "@jupyter-widgets/controls",
          "model_name": "HTMLModel",
          "model_module_version": "1.5.0",
          "state": {
            "_dom_classes": [],
            "_model_module": "@jupyter-widgets/controls",
            "_model_module_version": "1.5.0",
            "_model_name": "HTMLModel",
            "_view_count": null,
            "_view_module": "@jupyter-widgets/controls",
            "_view_module_version": "1.5.0",
            "_view_name": "HTMLView",
            "description": "",
            "description_tooltip": null,
            "layout": "IPY_MODEL_92615269faf349f0a1538e936127b79e",
            "placeholder": "​",
            "style": "IPY_MODEL_58b4560073d542fa8b251dfba7150f8c",
            "value": ""
          }
        },
        "017b0ad4cc6f47f988d3894bfe90dd2c": {
          "model_module": "@jupyter-widgets/controls",
          "model_name": "FloatProgressModel",
          "model_module_version": "1.5.0",
          "state": {
            "_dom_classes": [],
            "_model_module": "@jupyter-widgets/controls",
            "_model_module_version": "1.5.0",
            "_model_name": "FloatProgressModel",
            "_view_count": null,
            "_view_module": "@jupyter-widgets/controls",
            "_view_module_version": "1.5.0",
            "_view_name": "ProgressView",
            "bar_style": "success",
            "description": "",
            "description_tooltip": null,
            "layout": "IPY_MODEL_20638ccd0c1c40bf8bc2ff843f8eaaa1",
            "max": 1,
            "min": 0,
            "orientation": "horizontal",
            "style": "IPY_MODEL_2d0ab01e1b544e9482993540dce7c807",
            "value": 1
          }
        },
        "f9c8e7a012bc498e879fa6a7d7c42a86": {
          "model_module": "@jupyter-widgets/controls",
          "model_name": "HTMLModel",
          "model_module_version": "1.5.0",
          "state": {
            "_dom_classes": [],
            "_model_module": "@jupyter-widgets/controls",
            "_model_module_version": "1.5.0",
            "_model_name": "HTMLModel",
            "_view_count": null,
            "_view_module": "@jupyter-widgets/controls",
            "_view_module_version": "1.5.0",
            "_view_name": "HTMLView",
            "description": "",
            "description_tooltip": null,
            "layout": "IPY_MODEL_3849528894b2444bbd44b39ee23b8ecd",
            "placeholder": "​",
            "style": "IPY_MODEL_a854ece7118b482899e2ddf8269697b4",
            "value": " 58/? [00:42&lt;00:00,  1.40it/s]"
          }
        },
        "aa6bb36973254e48aebc140936912c65": {
          "model_module": "@jupyter-widgets/base",
          "model_name": "LayoutModel",
          "model_module_version": "1.2.0",
          "state": {
            "_model_module": "@jupyter-widgets/base",
            "_model_module_version": "1.2.0",
            "_model_name": "LayoutModel",
            "_view_count": null,
            "_view_module": "@jupyter-widgets/base",
            "_view_module_version": "1.2.0",
            "_view_name": "LayoutView",
            "align_content": null,
            "align_items": null,
            "align_self": null,
            "border": null,
            "bottom": null,
            "display": null,
            "flex": null,
            "flex_flow": null,
            "grid_area": null,
            "grid_auto_columns": null,
            "grid_auto_flow": null,
            "grid_auto_rows": null,
            "grid_column": null,
            "grid_gap": null,
            "grid_row": null,
            "grid_template_areas": null,
            "grid_template_columns": null,
            "grid_template_rows": null,
            "height": null,
            "justify_content": null,
            "justify_items": null,
            "left": null,
            "margin": null,
            "max_height": null,
            "max_width": null,
            "min_height": null,
            "min_width": null,
            "object_fit": null,
            "object_position": null,
            "order": null,
            "overflow": null,
            "overflow_x": null,
            "overflow_y": null,
            "padding": null,
            "right": null,
            "top": null,
            "visibility": null,
            "width": null
          }
        },
        "92615269faf349f0a1538e936127b79e": {
          "model_module": "@jupyter-widgets/base",
          "model_name": "LayoutModel",
          "model_module_version": "1.2.0",
          "state": {
            "_model_module": "@jupyter-widgets/base",
            "_model_module_version": "1.2.0",
            "_model_name": "LayoutModel",
            "_view_count": null,
            "_view_module": "@jupyter-widgets/base",
            "_view_module_version": "1.2.0",
            "_view_name": "LayoutView",
            "align_content": null,
            "align_items": null,
            "align_self": null,
            "border": null,
            "bottom": null,
            "display": null,
            "flex": null,
            "flex_flow": null,
            "grid_area": null,
            "grid_auto_columns": null,
            "grid_auto_flow": null,
            "grid_auto_rows": null,
            "grid_column": null,
            "grid_gap": null,
            "grid_row": null,
            "grid_template_areas": null,
            "grid_template_columns": null,
            "grid_template_rows": null,
            "height": null,
            "justify_content": null,
            "justify_items": null,
            "left": null,
            "margin": null,
            "max_height": null,
            "max_width": null,
            "min_height": null,
            "min_width": null,
            "object_fit": null,
            "object_position": null,
            "order": null,
            "overflow": null,
            "overflow_x": null,
            "overflow_y": null,
            "padding": null,
            "right": null,
            "top": null,
            "visibility": null,
            "width": null
          }
        },
        "58b4560073d542fa8b251dfba7150f8c": {
          "model_module": "@jupyter-widgets/controls",
          "model_name": "DescriptionStyleModel",
          "model_module_version": "1.5.0",
          "state": {
            "_model_module": "@jupyter-widgets/controls",
            "_model_module_version": "1.5.0",
            "_model_name": "DescriptionStyleModel",
            "_view_count": null,
            "_view_module": "@jupyter-widgets/base",
            "_view_module_version": "1.2.0",
            "_view_name": "StyleView",
            "description_width": ""
          }
        },
        "20638ccd0c1c40bf8bc2ff843f8eaaa1": {
          "model_module": "@jupyter-widgets/base",
          "model_name": "LayoutModel",
          "model_module_version": "1.2.0",
          "state": {
            "_model_module": "@jupyter-widgets/base",
            "_model_module_version": "1.2.0",
            "_model_name": "LayoutModel",
            "_view_count": null,
            "_view_module": "@jupyter-widgets/base",
            "_view_module_version": "1.2.0",
            "_view_name": "LayoutView",
            "align_content": null,
            "align_items": null,
            "align_self": null,
            "border": null,
            "bottom": null,
            "display": null,
            "flex": null,
            "flex_flow": null,
            "grid_area": null,
            "grid_auto_columns": null,
            "grid_auto_flow": null,
            "grid_auto_rows": null,
            "grid_column": null,
            "grid_gap": null,
            "grid_row": null,
            "grid_template_areas": null,
            "grid_template_columns": null,
            "grid_template_rows": null,
            "height": null,
            "justify_content": null,
            "justify_items": null,
            "left": null,
            "margin": null,
            "max_height": null,
            "max_width": null,
            "min_height": null,
            "min_width": null,
            "object_fit": null,
            "object_position": null,
            "order": null,
            "overflow": null,
            "overflow_x": null,
            "overflow_y": null,
            "padding": null,
            "right": null,
            "top": null,
            "visibility": null,
            "width": "20px"
          }
        },
        "2d0ab01e1b544e9482993540dce7c807": {
          "model_module": "@jupyter-widgets/controls",
          "model_name": "ProgressStyleModel",
          "model_module_version": "1.5.0",
          "state": {
            "_model_module": "@jupyter-widgets/controls",
            "_model_module_version": "1.5.0",
            "_model_name": "ProgressStyleModel",
            "_view_count": null,
            "_view_module": "@jupyter-widgets/base",
            "_view_module_version": "1.2.0",
            "_view_name": "StyleView",
            "bar_color": null,
            "description_width": ""
          }
        },
        "3849528894b2444bbd44b39ee23b8ecd": {
          "model_module": "@jupyter-widgets/base",
          "model_name": "LayoutModel",
          "model_module_version": "1.2.0",
          "state": {
            "_model_module": "@jupyter-widgets/base",
            "_model_module_version": "1.2.0",
            "_model_name": "LayoutModel",
            "_view_count": null,
            "_view_module": "@jupyter-widgets/base",
            "_view_module_version": "1.2.0",
            "_view_name": "LayoutView",
            "align_content": null,
            "align_items": null,
            "align_self": null,
            "border": null,
            "bottom": null,
            "display": null,
            "flex": null,
            "flex_flow": null,
            "grid_area": null,
            "grid_auto_columns": null,
            "grid_auto_flow": null,
            "grid_auto_rows": null,
            "grid_column": null,
            "grid_gap": null,
            "grid_row": null,
            "grid_template_areas": null,
            "grid_template_columns": null,
            "grid_template_rows": null,
            "height": null,
            "justify_content": null,
            "justify_items": null,
            "left": null,
            "margin": null,
            "max_height": null,
            "max_width": null,
            "min_height": null,
            "min_width": null,
            "object_fit": null,
            "object_position": null,
            "order": null,
            "overflow": null,
            "overflow_x": null,
            "overflow_y": null,
            "padding": null,
            "right": null,
            "top": null,
            "visibility": null,
            "width": null
          }
        },
        "a854ece7118b482899e2ddf8269697b4": {
          "model_module": "@jupyter-widgets/controls",
          "model_name": "DescriptionStyleModel",
          "model_module_version": "1.5.0",
          "state": {
            "_model_module": "@jupyter-widgets/controls",
            "_model_module_version": "1.5.0",
            "_model_name": "DescriptionStyleModel",
            "_view_count": null,
            "_view_module": "@jupyter-widgets/base",
            "_view_module_version": "1.2.0",
            "_view_name": "StyleView",
            "description_width": ""
          }
        },
        "0bae1ba4e15a4548aaa60d0957d4c5ba": {
          "model_module": "@jupyter-widgets/controls",
          "model_name": "HBoxModel",
          "model_module_version": "1.5.0",
          "state": {
            "_dom_classes": [],
            "_model_module": "@jupyter-widgets/controls",
            "_model_module_version": "1.5.0",
            "_model_name": "HBoxModel",
            "_view_count": null,
            "_view_module": "@jupyter-widgets/controls",
            "_view_module_version": "1.5.0",
            "_view_name": "HBoxView",
            "box_style": "",
            "children": [
              "IPY_MODEL_8abcc7398394411bb082bf47e626a733",
              "IPY_MODEL_cb348874eab840f6859adf537ccaafe2",
              "IPY_MODEL_90fe83f8484e44a99446503ebdeb257e"
            ],
            "layout": "IPY_MODEL_9c14d5fd37dd435da3a6427fe8359691"
          }
        },
        "8abcc7398394411bb082bf47e626a733": {
          "model_module": "@jupyter-widgets/controls",
          "model_name": "HTMLModel",
          "model_module_version": "1.5.0",
          "state": {
            "_dom_classes": [],
            "_model_module": "@jupyter-widgets/controls",
            "_model_module_version": "1.5.0",
            "_model_name": "HTMLModel",
            "_view_count": null,
            "_view_module": "@jupyter-widgets/controls",
            "_view_module_version": "1.5.0",
            "_view_name": "HTMLView",
            "description": "",
            "description_tooltip": null,
            "layout": "IPY_MODEL_3e8f3f20d1b64a6c9c1b047f10037ecd",
            "placeholder": "​",
            "style": "IPY_MODEL_68df28fbb0b14efd899b8912dc80a1db",
            "value": ""
          }
        },
        "cb348874eab840f6859adf537ccaafe2": {
          "model_module": "@jupyter-widgets/controls",
          "model_name": "FloatProgressModel",
          "model_module_version": "1.5.0",
          "state": {
            "_dom_classes": [],
            "_model_module": "@jupyter-widgets/controls",
            "_model_module_version": "1.5.0",
            "_model_name": "FloatProgressModel",
            "_view_count": null,
            "_view_module": "@jupyter-widgets/controls",
            "_view_module_version": "1.5.0",
            "_view_name": "ProgressView",
            "bar_style": "success",
            "description": "",
            "description_tooltip": null,
            "layout": "IPY_MODEL_c8aac8f400ef43aba52cf8c87145d178",
            "max": 1,
            "min": 0,
            "orientation": "horizontal",
            "style": "IPY_MODEL_7608c9fb84ce49e8a9dddd98f6bade6a",
            "value": 1
          }
        },
        "90fe83f8484e44a99446503ebdeb257e": {
          "model_module": "@jupyter-widgets/controls",
          "model_name": "HTMLModel",
          "model_module_version": "1.5.0",
          "state": {
            "_dom_classes": [],
            "_model_module": "@jupyter-widgets/controls",
            "_model_module_version": "1.5.0",
            "_model_name": "HTMLModel",
            "_view_count": null,
            "_view_module": "@jupyter-widgets/controls",
            "_view_module_version": "1.5.0",
            "_view_name": "HTMLView",
            "description": "",
            "description_tooltip": null,
            "layout": "IPY_MODEL_c29b7b89769845948708b91b5248ef04",
            "placeholder": "​",
            "style": "IPY_MODEL_995d14b9487b446aae6fd235e50ebdfd",
            "value": " 58/? [00:00&lt;00:00, 204.54it/s]"
          }
        },
        "9c14d5fd37dd435da3a6427fe8359691": {
          "model_module": "@jupyter-widgets/base",
          "model_name": "LayoutModel",
          "model_module_version": "1.2.0",
          "state": {
            "_model_module": "@jupyter-widgets/base",
            "_model_module_version": "1.2.0",
            "_model_name": "LayoutModel",
            "_view_count": null,
            "_view_module": "@jupyter-widgets/base",
            "_view_module_version": "1.2.0",
            "_view_name": "LayoutView",
            "align_content": null,
            "align_items": null,
            "align_self": null,
            "border": null,
            "bottom": null,
            "display": null,
            "flex": null,
            "flex_flow": null,
            "grid_area": null,
            "grid_auto_columns": null,
            "grid_auto_flow": null,
            "grid_auto_rows": null,
            "grid_column": null,
            "grid_gap": null,
            "grid_row": null,
            "grid_template_areas": null,
            "grid_template_columns": null,
            "grid_template_rows": null,
            "height": null,
            "justify_content": null,
            "justify_items": null,
            "left": null,
            "margin": null,
            "max_height": null,
            "max_width": null,
            "min_height": null,
            "min_width": null,
            "object_fit": null,
            "object_position": null,
            "order": null,
            "overflow": null,
            "overflow_x": null,
            "overflow_y": null,
            "padding": null,
            "right": null,
            "top": null,
            "visibility": null,
            "width": null
          }
        },
        "3e8f3f20d1b64a6c9c1b047f10037ecd": {
          "model_module": "@jupyter-widgets/base",
          "model_name": "LayoutModel",
          "model_module_version": "1.2.0",
          "state": {
            "_model_module": "@jupyter-widgets/base",
            "_model_module_version": "1.2.0",
            "_model_name": "LayoutModel",
            "_view_count": null,
            "_view_module": "@jupyter-widgets/base",
            "_view_module_version": "1.2.0",
            "_view_name": "LayoutView",
            "align_content": null,
            "align_items": null,
            "align_self": null,
            "border": null,
            "bottom": null,
            "display": null,
            "flex": null,
            "flex_flow": null,
            "grid_area": null,
            "grid_auto_columns": null,
            "grid_auto_flow": null,
            "grid_auto_rows": null,
            "grid_column": null,
            "grid_gap": null,
            "grid_row": null,
            "grid_template_areas": null,
            "grid_template_columns": null,
            "grid_template_rows": null,
            "height": null,
            "justify_content": null,
            "justify_items": null,
            "left": null,
            "margin": null,
            "max_height": null,
            "max_width": null,
            "min_height": null,
            "min_width": null,
            "object_fit": null,
            "object_position": null,
            "order": null,
            "overflow": null,
            "overflow_x": null,
            "overflow_y": null,
            "padding": null,
            "right": null,
            "top": null,
            "visibility": null,
            "width": null
          }
        },
        "68df28fbb0b14efd899b8912dc80a1db": {
          "model_module": "@jupyter-widgets/controls",
          "model_name": "DescriptionStyleModel",
          "model_module_version": "1.5.0",
          "state": {
            "_model_module": "@jupyter-widgets/controls",
            "_model_module_version": "1.5.0",
            "_model_name": "DescriptionStyleModel",
            "_view_count": null,
            "_view_module": "@jupyter-widgets/base",
            "_view_module_version": "1.2.0",
            "_view_name": "StyleView",
            "description_width": ""
          }
        },
        "c8aac8f400ef43aba52cf8c87145d178": {
          "model_module": "@jupyter-widgets/base",
          "model_name": "LayoutModel",
          "model_module_version": "1.2.0",
          "state": {
            "_model_module": "@jupyter-widgets/base",
            "_model_module_version": "1.2.0",
            "_model_name": "LayoutModel",
            "_view_count": null,
            "_view_module": "@jupyter-widgets/base",
            "_view_module_version": "1.2.0",
            "_view_name": "LayoutView",
            "align_content": null,
            "align_items": null,
            "align_self": null,
            "border": null,
            "bottom": null,
            "display": null,
            "flex": null,
            "flex_flow": null,
            "grid_area": null,
            "grid_auto_columns": null,
            "grid_auto_flow": null,
            "grid_auto_rows": null,
            "grid_column": null,
            "grid_gap": null,
            "grid_row": null,
            "grid_template_areas": null,
            "grid_template_columns": null,
            "grid_template_rows": null,
            "height": null,
            "justify_content": null,
            "justify_items": null,
            "left": null,
            "margin": null,
            "max_height": null,
            "max_width": null,
            "min_height": null,
            "min_width": null,
            "object_fit": null,
            "object_position": null,
            "order": null,
            "overflow": null,
            "overflow_x": null,
            "overflow_y": null,
            "padding": null,
            "right": null,
            "top": null,
            "visibility": null,
            "width": "20px"
          }
        },
        "7608c9fb84ce49e8a9dddd98f6bade6a": {
          "model_module": "@jupyter-widgets/controls",
          "model_name": "ProgressStyleModel",
          "model_module_version": "1.5.0",
          "state": {
            "_model_module": "@jupyter-widgets/controls",
            "_model_module_version": "1.5.0",
            "_model_name": "ProgressStyleModel",
            "_view_count": null,
            "_view_module": "@jupyter-widgets/base",
            "_view_module_version": "1.2.0",
            "_view_name": "StyleView",
            "bar_color": null,
            "description_width": ""
          }
        },
        "c29b7b89769845948708b91b5248ef04": {
          "model_module": "@jupyter-widgets/base",
          "model_name": "LayoutModel",
          "model_module_version": "1.2.0",
          "state": {
            "_model_module": "@jupyter-widgets/base",
            "_model_module_version": "1.2.0",
            "_model_name": "LayoutModel",
            "_view_count": null,
            "_view_module": "@jupyter-widgets/base",
            "_view_module_version": "1.2.0",
            "_view_name": "LayoutView",
            "align_content": null,
            "align_items": null,
            "align_self": null,
            "border": null,
            "bottom": null,
            "display": null,
            "flex": null,
            "flex_flow": null,
            "grid_area": null,
            "grid_auto_columns": null,
            "grid_auto_flow": null,
            "grid_auto_rows": null,
            "grid_column": null,
            "grid_gap": null,
            "grid_row": null,
            "grid_template_areas": null,
            "grid_template_columns": null,
            "grid_template_rows": null,
            "height": null,
            "justify_content": null,
            "justify_items": null,
            "left": null,
            "margin": null,
            "max_height": null,
            "max_width": null,
            "min_height": null,
            "min_width": null,
            "object_fit": null,
            "object_position": null,
            "order": null,
            "overflow": null,
            "overflow_x": null,
            "overflow_y": null,
            "padding": null,
            "right": null,
            "top": null,
            "visibility": null,
            "width": null
          }
        },
        "995d14b9487b446aae6fd235e50ebdfd": {
          "model_module": "@jupyter-widgets/controls",
          "model_name": "DescriptionStyleModel",
          "model_module_version": "1.5.0",
          "state": {
            "_model_module": "@jupyter-widgets/controls",
            "_model_module_version": "1.5.0",
            "_model_name": "DescriptionStyleModel",
            "_view_count": null,
            "_view_module": "@jupyter-widgets/base",
            "_view_module_version": "1.2.0",
            "_view_name": "StyleView",
            "description_width": ""
          }
        },
        "6589bfcecd684110b029a807b7bb7abe": {
          "model_module": "@jupyter-widgets/controls",
          "model_name": "HBoxModel",
          "model_module_version": "1.5.0",
          "state": {
            "_dom_classes": [],
            "_model_module": "@jupyter-widgets/controls",
            "_model_module_version": "1.5.0",
            "_model_name": "HBoxModel",
            "_view_count": null,
            "_view_module": "@jupyter-widgets/controls",
            "_view_module_version": "1.5.0",
            "_view_name": "HBoxView",
            "box_style": "",
            "children": [
              "IPY_MODEL_357a0f0c978f41eca39ab97f4b89f80f",
              "IPY_MODEL_daaf07904df7465dbb297339968e1a1c",
              "IPY_MODEL_f5c3792264ea4399818e993eb77166d9"
            ],
            "layout": "IPY_MODEL_982e0c96d916450088fff3f16c655a72"
          }
        },
        "357a0f0c978f41eca39ab97f4b89f80f": {
          "model_module": "@jupyter-widgets/controls",
          "model_name": "HTMLModel",
          "model_module_version": "1.5.0",
          "state": {
            "_dom_classes": [],
            "_model_module": "@jupyter-widgets/controls",
            "_model_module_version": "1.5.0",
            "_model_name": "HTMLModel",
            "_view_count": null,
            "_view_module": "@jupyter-widgets/controls",
            "_view_module_version": "1.5.0",
            "_view_name": "HTMLView",
            "description": "",
            "description_tooltip": null,
            "layout": "IPY_MODEL_a3bd6e9797404438b2cc22b9873218fa",
            "placeholder": "​",
            "style": "IPY_MODEL_1029ae8eaf2348ca8254d870529d7cdd",
            "value": ""
          }
        },
        "daaf07904df7465dbb297339968e1a1c": {
          "model_module": "@jupyter-widgets/controls",
          "model_name": "FloatProgressModel",
          "model_module_version": "1.5.0",
          "state": {
            "_dom_classes": [],
            "_model_module": "@jupyter-widgets/controls",
            "_model_module_version": "1.5.0",
            "_model_name": "FloatProgressModel",
            "_view_count": null,
            "_view_module": "@jupyter-widgets/controls",
            "_view_module_version": "1.5.0",
            "_view_name": "ProgressView",
            "bar_style": "success",
            "description": "",
            "description_tooltip": null,
            "layout": "IPY_MODEL_74d90cba621c4075a473f6732038f2a6",
            "max": 1,
            "min": 0,
            "orientation": "horizontal",
            "style": "IPY_MODEL_ec4e574d966142c287cb7dc12827b828",
            "value": 1
          }
        },
        "f5c3792264ea4399818e993eb77166d9": {
          "model_module": "@jupyter-widgets/controls",
          "model_name": "HTMLModel",
          "model_module_version": "1.5.0",
          "state": {
            "_dom_classes": [],
            "_model_module": "@jupyter-widgets/controls",
            "_model_module_version": "1.5.0",
            "_model_name": "HTMLModel",
            "_view_count": null,
            "_view_module": "@jupyter-widgets/controls",
            "_view_module_version": "1.5.0",
            "_view_name": "HTMLView",
            "description": "",
            "description_tooltip": null,
            "layout": "IPY_MODEL_6fa175360b0c4a65bae72237ab1e7750",
            "placeholder": "​",
            "style": "IPY_MODEL_479dadabbd4d44d383c5a02062d73557",
            "value": " 58/? [00:00&lt;00:00, 288.11it/s]"
          }
        },
        "982e0c96d916450088fff3f16c655a72": {
          "model_module": "@jupyter-widgets/base",
          "model_name": "LayoutModel",
          "model_module_version": "1.2.0",
          "state": {
            "_model_module": "@jupyter-widgets/base",
            "_model_module_version": "1.2.0",
            "_model_name": "LayoutModel",
            "_view_count": null,
            "_view_module": "@jupyter-widgets/base",
            "_view_module_version": "1.2.0",
            "_view_name": "LayoutView",
            "align_content": null,
            "align_items": null,
            "align_self": null,
            "border": null,
            "bottom": null,
            "display": null,
            "flex": null,
            "flex_flow": null,
            "grid_area": null,
            "grid_auto_columns": null,
            "grid_auto_flow": null,
            "grid_auto_rows": null,
            "grid_column": null,
            "grid_gap": null,
            "grid_row": null,
            "grid_template_areas": null,
            "grid_template_columns": null,
            "grid_template_rows": null,
            "height": null,
            "justify_content": null,
            "justify_items": null,
            "left": null,
            "margin": null,
            "max_height": null,
            "max_width": null,
            "min_height": null,
            "min_width": null,
            "object_fit": null,
            "object_position": null,
            "order": null,
            "overflow": null,
            "overflow_x": null,
            "overflow_y": null,
            "padding": null,
            "right": null,
            "top": null,
            "visibility": null,
            "width": null
          }
        },
        "a3bd6e9797404438b2cc22b9873218fa": {
          "model_module": "@jupyter-widgets/base",
          "model_name": "LayoutModel",
          "model_module_version": "1.2.0",
          "state": {
            "_model_module": "@jupyter-widgets/base",
            "_model_module_version": "1.2.0",
            "_model_name": "LayoutModel",
            "_view_count": null,
            "_view_module": "@jupyter-widgets/base",
            "_view_module_version": "1.2.0",
            "_view_name": "LayoutView",
            "align_content": null,
            "align_items": null,
            "align_self": null,
            "border": null,
            "bottom": null,
            "display": null,
            "flex": null,
            "flex_flow": null,
            "grid_area": null,
            "grid_auto_columns": null,
            "grid_auto_flow": null,
            "grid_auto_rows": null,
            "grid_column": null,
            "grid_gap": null,
            "grid_row": null,
            "grid_template_areas": null,
            "grid_template_columns": null,
            "grid_template_rows": null,
            "height": null,
            "justify_content": null,
            "justify_items": null,
            "left": null,
            "margin": null,
            "max_height": null,
            "max_width": null,
            "min_height": null,
            "min_width": null,
            "object_fit": null,
            "object_position": null,
            "order": null,
            "overflow": null,
            "overflow_x": null,
            "overflow_y": null,
            "padding": null,
            "right": null,
            "top": null,
            "visibility": null,
            "width": null
          }
        },
        "1029ae8eaf2348ca8254d870529d7cdd": {
          "model_module": "@jupyter-widgets/controls",
          "model_name": "DescriptionStyleModel",
          "model_module_version": "1.5.0",
          "state": {
            "_model_module": "@jupyter-widgets/controls",
            "_model_module_version": "1.5.0",
            "_model_name": "DescriptionStyleModel",
            "_view_count": null,
            "_view_module": "@jupyter-widgets/base",
            "_view_module_version": "1.2.0",
            "_view_name": "StyleView",
            "description_width": ""
          }
        },
        "74d90cba621c4075a473f6732038f2a6": {
          "model_module": "@jupyter-widgets/base",
          "model_name": "LayoutModel",
          "model_module_version": "1.2.0",
          "state": {
            "_model_module": "@jupyter-widgets/base",
            "_model_module_version": "1.2.0",
            "_model_name": "LayoutModel",
            "_view_count": null,
            "_view_module": "@jupyter-widgets/base",
            "_view_module_version": "1.2.0",
            "_view_name": "LayoutView",
            "align_content": null,
            "align_items": null,
            "align_self": null,
            "border": null,
            "bottom": null,
            "display": null,
            "flex": null,
            "flex_flow": null,
            "grid_area": null,
            "grid_auto_columns": null,
            "grid_auto_flow": null,
            "grid_auto_rows": null,
            "grid_column": null,
            "grid_gap": null,
            "grid_row": null,
            "grid_template_areas": null,
            "grid_template_columns": null,
            "grid_template_rows": null,
            "height": null,
            "justify_content": null,
            "justify_items": null,
            "left": null,
            "margin": null,
            "max_height": null,
            "max_width": null,
            "min_height": null,
            "min_width": null,
            "object_fit": null,
            "object_position": null,
            "order": null,
            "overflow": null,
            "overflow_x": null,
            "overflow_y": null,
            "padding": null,
            "right": null,
            "top": null,
            "visibility": null,
            "width": "20px"
          }
        },
        "ec4e574d966142c287cb7dc12827b828": {
          "model_module": "@jupyter-widgets/controls",
          "model_name": "ProgressStyleModel",
          "model_module_version": "1.5.0",
          "state": {
            "_model_module": "@jupyter-widgets/controls",
            "_model_module_version": "1.5.0",
            "_model_name": "ProgressStyleModel",
            "_view_count": null,
            "_view_module": "@jupyter-widgets/base",
            "_view_module_version": "1.2.0",
            "_view_name": "StyleView",
            "bar_color": null,
            "description_width": ""
          }
        },
        "6fa175360b0c4a65bae72237ab1e7750": {
          "model_module": "@jupyter-widgets/base",
          "model_name": "LayoutModel",
          "model_module_version": "1.2.0",
          "state": {
            "_model_module": "@jupyter-widgets/base",
            "_model_module_version": "1.2.0",
            "_model_name": "LayoutModel",
            "_view_count": null,
            "_view_module": "@jupyter-widgets/base",
            "_view_module_version": "1.2.0",
            "_view_name": "LayoutView",
            "align_content": null,
            "align_items": null,
            "align_self": null,
            "border": null,
            "bottom": null,
            "display": null,
            "flex": null,
            "flex_flow": null,
            "grid_area": null,
            "grid_auto_columns": null,
            "grid_auto_flow": null,
            "grid_auto_rows": null,
            "grid_column": null,
            "grid_gap": null,
            "grid_row": null,
            "grid_template_areas": null,
            "grid_template_columns": null,
            "grid_template_rows": null,
            "height": null,
            "justify_content": null,
            "justify_items": null,
            "left": null,
            "margin": null,
            "max_height": null,
            "max_width": null,
            "min_height": null,
            "min_width": null,
            "object_fit": null,
            "object_position": null,
            "order": null,
            "overflow": null,
            "overflow_x": null,
            "overflow_y": null,
            "padding": null,
            "right": null,
            "top": null,
            "visibility": null,
            "width": null
          }
        },
        "479dadabbd4d44d383c5a02062d73557": {
          "model_module": "@jupyter-widgets/controls",
          "model_name": "DescriptionStyleModel",
          "model_module_version": "1.5.0",
          "state": {
            "_model_module": "@jupyter-widgets/controls",
            "_model_module_version": "1.5.0",
            "_model_name": "DescriptionStyleModel",
            "_view_count": null,
            "_view_module": "@jupyter-widgets/base",
            "_view_module_version": "1.2.0",
            "_view_name": "StyleView",
            "description_width": ""
          }
        },
        "e2e2ee1c898a44df869381d61a070816": {
          "model_module": "@jupyter-widgets/controls",
          "model_name": "HBoxModel",
          "model_module_version": "1.5.0",
          "state": {
            "_dom_classes": [],
            "_model_module": "@jupyter-widgets/controls",
            "_model_module_version": "1.5.0",
            "_model_name": "HBoxModel",
            "_view_count": null,
            "_view_module": "@jupyter-widgets/controls",
            "_view_module_version": "1.5.0",
            "_view_name": "HBoxView",
            "box_style": "",
            "children": [
              "IPY_MODEL_d8185418d9c442ada7541ef13bb9e1d5",
              "IPY_MODEL_f7959696a22547c3ba9704006cf96b31",
              "IPY_MODEL_48239e4f90044491af310931a9b3ea07"
            ],
            "layout": "IPY_MODEL_06cf189412874f38873d124f3b05ae64"
          }
        },
        "d8185418d9c442ada7541ef13bb9e1d5": {
          "model_module": "@jupyter-widgets/controls",
          "model_name": "HTMLModel",
          "model_module_version": "1.5.0",
          "state": {
            "_dom_classes": [],
            "_model_module": "@jupyter-widgets/controls",
            "_model_module_version": "1.5.0",
            "_model_name": "HTMLModel",
            "_view_count": null,
            "_view_module": "@jupyter-widgets/controls",
            "_view_module_version": "1.5.0",
            "_view_name": "HTMLView",
            "description": "",
            "description_tooltip": null,
            "layout": "IPY_MODEL_ab2f5e41c9d0406b8145a310e08a2344",
            "placeholder": "​",
            "style": "IPY_MODEL_81167ebcdb284a8cbdf29a1f4cd57ecf",
            "value": ""
          }
        },
        "f7959696a22547c3ba9704006cf96b31": {
          "model_module": "@jupyter-widgets/controls",
          "model_name": "FloatProgressModel",
          "model_module_version": "1.5.0",
          "state": {
            "_dom_classes": [],
            "_model_module": "@jupyter-widgets/controls",
            "_model_module_version": "1.5.0",
            "_model_name": "FloatProgressModel",
            "_view_count": null,
            "_view_module": "@jupyter-widgets/controls",
            "_view_module_version": "1.5.0",
            "_view_name": "ProgressView",
            "bar_style": "success",
            "description": "",
            "description_tooltip": null,
            "layout": "IPY_MODEL_8e1d5282555c44378a9fe5ea431415ab",
            "max": 1,
            "min": 0,
            "orientation": "horizontal",
            "style": "IPY_MODEL_0c7e64c064d44f4ab3e9b425a98de000",
            "value": 1
          }
        },
        "48239e4f90044491af310931a9b3ea07": {
          "model_module": "@jupyter-widgets/controls",
          "model_name": "HTMLModel",
          "model_module_version": "1.5.0",
          "state": {
            "_dom_classes": [],
            "_model_module": "@jupyter-widgets/controls",
            "_model_module_version": "1.5.0",
            "_model_name": "HTMLModel",
            "_view_count": null,
            "_view_module": "@jupyter-widgets/controls",
            "_view_module_version": "1.5.0",
            "_view_name": "HTMLView",
            "description": "",
            "description_tooltip": null,
            "layout": "IPY_MODEL_9b2e2c9d330445069217a72a8ca6b307",
            "placeholder": "​",
            "style": "IPY_MODEL_64ab607c929843949b936ef7720b79d9",
            "value": " 58/? [11:27&lt;00:00, 12.88s/it]"
          }
        },
        "06cf189412874f38873d124f3b05ae64": {
          "model_module": "@jupyter-widgets/base",
          "model_name": "LayoutModel",
          "model_module_version": "1.2.0",
          "state": {
            "_model_module": "@jupyter-widgets/base",
            "_model_module_version": "1.2.0",
            "_model_name": "LayoutModel",
            "_view_count": null,
            "_view_module": "@jupyter-widgets/base",
            "_view_module_version": "1.2.0",
            "_view_name": "LayoutView",
            "align_content": null,
            "align_items": null,
            "align_self": null,
            "border": null,
            "bottom": null,
            "display": null,
            "flex": null,
            "flex_flow": null,
            "grid_area": null,
            "grid_auto_columns": null,
            "grid_auto_flow": null,
            "grid_auto_rows": null,
            "grid_column": null,
            "grid_gap": null,
            "grid_row": null,
            "grid_template_areas": null,
            "grid_template_columns": null,
            "grid_template_rows": null,
            "height": null,
            "justify_content": null,
            "justify_items": null,
            "left": null,
            "margin": null,
            "max_height": null,
            "max_width": null,
            "min_height": null,
            "min_width": null,
            "object_fit": null,
            "object_position": null,
            "order": null,
            "overflow": null,
            "overflow_x": null,
            "overflow_y": null,
            "padding": null,
            "right": null,
            "top": null,
            "visibility": null,
            "width": null
          }
        },
        "ab2f5e41c9d0406b8145a310e08a2344": {
          "model_module": "@jupyter-widgets/base",
          "model_name": "LayoutModel",
          "model_module_version": "1.2.0",
          "state": {
            "_model_module": "@jupyter-widgets/base",
            "_model_module_version": "1.2.0",
            "_model_name": "LayoutModel",
            "_view_count": null,
            "_view_module": "@jupyter-widgets/base",
            "_view_module_version": "1.2.0",
            "_view_name": "LayoutView",
            "align_content": null,
            "align_items": null,
            "align_self": null,
            "border": null,
            "bottom": null,
            "display": null,
            "flex": null,
            "flex_flow": null,
            "grid_area": null,
            "grid_auto_columns": null,
            "grid_auto_flow": null,
            "grid_auto_rows": null,
            "grid_column": null,
            "grid_gap": null,
            "grid_row": null,
            "grid_template_areas": null,
            "grid_template_columns": null,
            "grid_template_rows": null,
            "height": null,
            "justify_content": null,
            "justify_items": null,
            "left": null,
            "margin": null,
            "max_height": null,
            "max_width": null,
            "min_height": null,
            "min_width": null,
            "object_fit": null,
            "object_position": null,
            "order": null,
            "overflow": null,
            "overflow_x": null,
            "overflow_y": null,
            "padding": null,
            "right": null,
            "top": null,
            "visibility": null,
            "width": null
          }
        },
        "81167ebcdb284a8cbdf29a1f4cd57ecf": {
          "model_module": "@jupyter-widgets/controls",
          "model_name": "DescriptionStyleModel",
          "model_module_version": "1.5.0",
          "state": {
            "_model_module": "@jupyter-widgets/controls",
            "_model_module_version": "1.5.0",
            "_model_name": "DescriptionStyleModel",
            "_view_count": null,
            "_view_module": "@jupyter-widgets/base",
            "_view_module_version": "1.2.0",
            "_view_name": "StyleView",
            "description_width": ""
          }
        },
        "8e1d5282555c44378a9fe5ea431415ab": {
          "model_module": "@jupyter-widgets/base",
          "model_name": "LayoutModel",
          "model_module_version": "1.2.0",
          "state": {
            "_model_module": "@jupyter-widgets/base",
            "_model_module_version": "1.2.0",
            "_model_name": "LayoutModel",
            "_view_count": null,
            "_view_module": "@jupyter-widgets/base",
            "_view_module_version": "1.2.0",
            "_view_name": "LayoutView",
            "align_content": null,
            "align_items": null,
            "align_self": null,
            "border": null,
            "bottom": null,
            "display": null,
            "flex": null,
            "flex_flow": null,
            "grid_area": null,
            "grid_auto_columns": null,
            "grid_auto_flow": null,
            "grid_auto_rows": null,
            "grid_column": null,
            "grid_gap": null,
            "grid_row": null,
            "grid_template_areas": null,
            "grid_template_columns": null,
            "grid_template_rows": null,
            "height": null,
            "justify_content": null,
            "justify_items": null,
            "left": null,
            "margin": null,
            "max_height": null,
            "max_width": null,
            "min_height": null,
            "min_width": null,
            "object_fit": null,
            "object_position": null,
            "order": null,
            "overflow": null,
            "overflow_x": null,
            "overflow_y": null,
            "padding": null,
            "right": null,
            "top": null,
            "visibility": null,
            "width": "20px"
          }
        },
        "0c7e64c064d44f4ab3e9b425a98de000": {
          "model_module": "@jupyter-widgets/controls",
          "model_name": "ProgressStyleModel",
          "model_module_version": "1.5.0",
          "state": {
            "_model_module": "@jupyter-widgets/controls",
            "_model_module_version": "1.5.0",
            "_model_name": "ProgressStyleModel",
            "_view_count": null,
            "_view_module": "@jupyter-widgets/base",
            "_view_module_version": "1.2.0",
            "_view_name": "StyleView",
            "bar_color": null,
            "description_width": ""
          }
        },
        "9b2e2c9d330445069217a72a8ca6b307": {
          "model_module": "@jupyter-widgets/base",
          "model_name": "LayoutModel",
          "model_module_version": "1.2.0",
          "state": {
            "_model_module": "@jupyter-widgets/base",
            "_model_module_version": "1.2.0",
            "_model_name": "LayoutModel",
            "_view_count": null,
            "_view_module": "@jupyter-widgets/base",
            "_view_module_version": "1.2.0",
            "_view_name": "LayoutView",
            "align_content": null,
            "align_items": null,
            "align_self": null,
            "border": null,
            "bottom": null,
            "display": null,
            "flex": null,
            "flex_flow": null,
            "grid_area": null,
            "grid_auto_columns": null,
            "grid_auto_flow": null,
            "grid_auto_rows": null,
            "grid_column": null,
            "grid_gap": null,
            "grid_row": null,
            "grid_template_areas": null,
            "grid_template_columns": null,
            "grid_template_rows": null,
            "height": null,
            "justify_content": null,
            "justify_items": null,
            "left": null,
            "margin": null,
            "max_height": null,
            "max_width": null,
            "min_height": null,
            "min_width": null,
            "object_fit": null,
            "object_position": null,
            "order": null,
            "overflow": null,
            "overflow_x": null,
            "overflow_y": null,
            "padding": null,
            "right": null,
            "top": null,
            "visibility": null,
            "width": null
          }
        },
        "64ab607c929843949b936ef7720b79d9": {
          "model_module": "@jupyter-widgets/controls",
          "model_name": "DescriptionStyleModel",
          "model_module_version": "1.5.0",
          "state": {
            "_model_module": "@jupyter-widgets/controls",
            "_model_module_version": "1.5.0",
            "_model_name": "DescriptionStyleModel",
            "_view_count": null,
            "_view_module": "@jupyter-widgets/base",
            "_view_module_version": "1.2.0",
            "_view_name": "StyleView",
            "description_width": ""
          }
        },
        "6487d1c91df24d87b1fa6bd042df52e5": {
          "model_module": "@jupyter-widgets/controls",
          "model_name": "HBoxModel",
          "model_module_version": "1.5.0",
          "state": {
            "_dom_classes": [],
            "_model_module": "@jupyter-widgets/controls",
            "_model_module_version": "1.5.0",
            "_model_name": "HBoxModel",
            "_view_count": null,
            "_view_module": "@jupyter-widgets/controls",
            "_view_module_version": "1.5.0",
            "_view_name": "HBoxView",
            "box_style": "",
            "children": [
              "IPY_MODEL_b61e2342753d44d28c5f02a49f8517fb",
              "IPY_MODEL_540aaac9fa2a43cb8ef5af7f7dcfe778",
              "IPY_MODEL_d92eb4dbc6e447febe9e7c0356c55709"
            ],
            "layout": "IPY_MODEL_5c01e16ff0cd411794d1a84e7462d3bb"
          }
        },
        "b61e2342753d44d28c5f02a49f8517fb": {
          "model_module": "@jupyter-widgets/controls",
          "model_name": "HTMLModel",
          "model_module_version": "1.5.0",
          "state": {
            "_dom_classes": [],
            "_model_module": "@jupyter-widgets/controls",
            "_model_module_version": "1.5.0",
            "_model_name": "HTMLModel",
            "_view_count": null,
            "_view_module": "@jupyter-widgets/controls",
            "_view_module_version": "1.5.0",
            "_view_name": "HTMLView",
            "description": "",
            "description_tooltip": null,
            "layout": "IPY_MODEL_cebe2fecbec6472e9703b4620b93c43a",
            "placeholder": "​",
            "style": "IPY_MODEL_963702157e6d439a8cc4c9b22d372f08",
            "value": "config.json: 100%"
          }
        },
        "540aaac9fa2a43cb8ef5af7f7dcfe778": {
          "model_module": "@jupyter-widgets/controls",
          "model_name": "FloatProgressModel",
          "model_module_version": "1.5.0",
          "state": {
            "_dom_classes": [],
            "_model_module": "@jupyter-widgets/controls",
            "_model_module_version": "1.5.0",
            "_model_name": "FloatProgressModel",
            "_view_count": null,
            "_view_module": "@jupyter-widgets/controls",
            "_view_module_version": "1.5.0",
            "_view_name": "ProgressView",
            "bar_style": "success",
            "description": "",
            "description_tooltip": null,
            "layout": "IPY_MODEL_15c204b3a5274508bec2bd661b4428a7",
            "max": 1076,
            "min": 0,
            "orientation": "horizontal",
            "style": "IPY_MODEL_85454192942f41f8a3bcdb8a9d11f20e",
            "value": 1076
          }
        },
        "d92eb4dbc6e447febe9e7c0356c55709": {
          "model_module": "@jupyter-widgets/controls",
          "model_name": "HTMLModel",
          "model_module_version": "1.5.0",
          "state": {
            "_dom_classes": [],
            "_model_module": "@jupyter-widgets/controls",
            "_model_module_version": "1.5.0",
            "_model_name": "HTMLModel",
            "_view_count": null,
            "_view_module": "@jupyter-widgets/controls",
            "_view_module_version": "1.5.0",
            "_view_name": "HTMLView",
            "description": "",
            "description_tooltip": null,
            "layout": "IPY_MODEL_c960b1d3af724aa58129c93213021578",
            "placeholder": "​",
            "style": "IPY_MODEL_da0470c590ec4a28a5cc00596f2237f2",
            "value": " 1.08k/1.08k [00:00&lt;00:00, 27.3kB/s]"
          }
        },
        "5c01e16ff0cd411794d1a84e7462d3bb": {
          "model_module": "@jupyter-widgets/base",
          "model_name": "LayoutModel",
          "model_module_version": "1.2.0",
          "state": {
            "_model_module": "@jupyter-widgets/base",
            "_model_module_version": "1.2.0",
            "_model_name": "LayoutModel",
            "_view_count": null,
            "_view_module": "@jupyter-widgets/base",
            "_view_module_version": "1.2.0",
            "_view_name": "LayoutView",
            "align_content": null,
            "align_items": null,
            "align_self": null,
            "border": null,
            "bottom": null,
            "display": null,
            "flex": null,
            "flex_flow": null,
            "grid_area": null,
            "grid_auto_columns": null,
            "grid_auto_flow": null,
            "grid_auto_rows": null,
            "grid_column": null,
            "grid_gap": null,
            "grid_row": null,
            "grid_template_areas": null,
            "grid_template_columns": null,
            "grid_template_rows": null,
            "height": null,
            "justify_content": null,
            "justify_items": null,
            "left": null,
            "margin": null,
            "max_height": null,
            "max_width": null,
            "min_height": null,
            "min_width": null,
            "object_fit": null,
            "object_position": null,
            "order": null,
            "overflow": null,
            "overflow_x": null,
            "overflow_y": null,
            "padding": null,
            "right": null,
            "top": null,
            "visibility": null,
            "width": null
          }
        },
        "cebe2fecbec6472e9703b4620b93c43a": {
          "model_module": "@jupyter-widgets/base",
          "model_name": "LayoutModel",
          "model_module_version": "1.2.0",
          "state": {
            "_model_module": "@jupyter-widgets/base",
            "_model_module_version": "1.2.0",
            "_model_name": "LayoutModel",
            "_view_count": null,
            "_view_module": "@jupyter-widgets/base",
            "_view_module_version": "1.2.0",
            "_view_name": "LayoutView",
            "align_content": null,
            "align_items": null,
            "align_self": null,
            "border": null,
            "bottom": null,
            "display": null,
            "flex": null,
            "flex_flow": null,
            "grid_area": null,
            "grid_auto_columns": null,
            "grid_auto_flow": null,
            "grid_auto_rows": null,
            "grid_column": null,
            "grid_gap": null,
            "grid_row": null,
            "grid_template_areas": null,
            "grid_template_columns": null,
            "grid_template_rows": null,
            "height": null,
            "justify_content": null,
            "justify_items": null,
            "left": null,
            "margin": null,
            "max_height": null,
            "max_width": null,
            "min_height": null,
            "min_width": null,
            "object_fit": null,
            "object_position": null,
            "order": null,
            "overflow": null,
            "overflow_x": null,
            "overflow_y": null,
            "padding": null,
            "right": null,
            "top": null,
            "visibility": null,
            "width": null
          }
        },
        "963702157e6d439a8cc4c9b22d372f08": {
          "model_module": "@jupyter-widgets/controls",
          "model_name": "DescriptionStyleModel",
          "model_module_version": "1.5.0",
          "state": {
            "_model_module": "@jupyter-widgets/controls",
            "_model_module_version": "1.5.0",
            "_model_name": "DescriptionStyleModel",
            "_view_count": null,
            "_view_module": "@jupyter-widgets/base",
            "_view_module_version": "1.2.0",
            "_view_name": "StyleView",
            "description_width": ""
          }
        },
        "15c204b3a5274508bec2bd661b4428a7": {
          "model_module": "@jupyter-widgets/base",
          "model_name": "LayoutModel",
          "model_module_version": "1.2.0",
          "state": {
            "_model_module": "@jupyter-widgets/base",
            "_model_module_version": "1.2.0",
            "_model_name": "LayoutModel",
            "_view_count": null,
            "_view_module": "@jupyter-widgets/base",
            "_view_module_version": "1.2.0",
            "_view_name": "LayoutView",
            "align_content": null,
            "align_items": null,
            "align_self": null,
            "border": null,
            "bottom": null,
            "display": null,
            "flex": null,
            "flex_flow": null,
            "grid_area": null,
            "grid_auto_columns": null,
            "grid_auto_flow": null,
            "grid_auto_rows": null,
            "grid_column": null,
            "grid_gap": null,
            "grid_row": null,
            "grid_template_areas": null,
            "grid_template_columns": null,
            "grid_template_rows": null,
            "height": null,
            "justify_content": null,
            "justify_items": null,
            "left": null,
            "margin": null,
            "max_height": null,
            "max_width": null,
            "min_height": null,
            "min_width": null,
            "object_fit": null,
            "object_position": null,
            "order": null,
            "overflow": null,
            "overflow_x": null,
            "overflow_y": null,
            "padding": null,
            "right": null,
            "top": null,
            "visibility": null,
            "width": null
          }
        },
        "85454192942f41f8a3bcdb8a9d11f20e": {
          "model_module": "@jupyter-widgets/controls",
          "model_name": "ProgressStyleModel",
          "model_module_version": "1.5.0",
          "state": {
            "_model_module": "@jupyter-widgets/controls",
            "_model_module_version": "1.5.0",
            "_model_name": "ProgressStyleModel",
            "_view_count": null,
            "_view_module": "@jupyter-widgets/base",
            "_view_module_version": "1.2.0",
            "_view_name": "StyleView",
            "bar_color": null,
            "description_width": ""
          }
        },
        "c960b1d3af724aa58129c93213021578": {
          "model_module": "@jupyter-widgets/base",
          "model_name": "LayoutModel",
          "model_module_version": "1.2.0",
          "state": {
            "_model_module": "@jupyter-widgets/base",
            "_model_module_version": "1.2.0",
            "_model_name": "LayoutModel",
            "_view_count": null,
            "_view_module": "@jupyter-widgets/base",
            "_view_module_version": "1.2.0",
            "_view_name": "LayoutView",
            "align_content": null,
            "align_items": null,
            "align_self": null,
            "border": null,
            "bottom": null,
            "display": null,
            "flex": null,
            "flex_flow": null,
            "grid_area": null,
            "grid_auto_columns": null,
            "grid_auto_flow": null,
            "grid_auto_rows": null,
            "grid_column": null,
            "grid_gap": null,
            "grid_row": null,
            "grid_template_areas": null,
            "grid_template_columns": null,
            "grid_template_rows": null,
            "height": null,
            "justify_content": null,
            "justify_items": null,
            "left": null,
            "margin": null,
            "max_height": null,
            "max_width": null,
            "min_height": null,
            "min_width": null,
            "object_fit": null,
            "object_position": null,
            "order": null,
            "overflow": null,
            "overflow_x": null,
            "overflow_y": null,
            "padding": null,
            "right": null,
            "top": null,
            "visibility": null,
            "width": null
          }
        },
        "da0470c590ec4a28a5cc00596f2237f2": {
          "model_module": "@jupyter-widgets/controls",
          "model_name": "DescriptionStyleModel",
          "model_module_version": "1.5.0",
          "state": {
            "_model_module": "@jupyter-widgets/controls",
            "_model_module_version": "1.5.0",
            "_model_name": "DescriptionStyleModel",
            "_view_count": null,
            "_view_module": "@jupyter-widgets/base",
            "_view_module_version": "1.2.0",
            "_view_name": "StyleView",
            "description_width": ""
          }
        },
        "15c1dd37d8884c038cd8e86e8c7eb5f9": {
          "model_module": "@jupyter-widgets/controls",
          "model_name": "HBoxModel",
          "model_module_version": "1.5.0",
          "state": {
            "_dom_classes": [],
            "_model_module": "@jupyter-widgets/controls",
            "_model_module_version": "1.5.0",
            "_model_name": "HBoxModel",
            "_view_count": null,
            "_view_module": "@jupyter-widgets/controls",
            "_view_module_version": "1.5.0",
            "_view_name": "HBoxView",
            "box_style": "",
            "children": [
              "IPY_MODEL_1f5eff6cea464ca3a2696b4db691686e",
              "IPY_MODEL_4131dd2a53a8452ebd20988960de9787",
              "IPY_MODEL_276fd1e6ecac47f88eebcaaa9606df97"
            ],
            "layout": "IPY_MODEL_844c9ab37d3c4483afb3b1b40039b87f"
          }
        },
        "1f5eff6cea464ca3a2696b4db691686e": {
          "model_module": "@jupyter-widgets/controls",
          "model_name": "HTMLModel",
          "model_module_version": "1.5.0",
          "state": {
            "_dom_classes": [],
            "_model_module": "@jupyter-widgets/controls",
            "_model_module_version": "1.5.0",
            "_model_name": "HTMLModel",
            "_view_count": null,
            "_view_module": "@jupyter-widgets/controls",
            "_view_module_version": "1.5.0",
            "_view_name": "HTMLView",
            "description": "",
            "description_tooltip": null,
            "layout": "IPY_MODEL_69f08355f44240eaaffb0a24815b1f64",
            "placeholder": "​",
            "style": "IPY_MODEL_1c7a0d4c5d7142a68a7168fe60fc5959",
            "value": "model.safetensors: 100%"
          }
        },
        "4131dd2a53a8452ebd20988960de9787": {
          "model_module": "@jupyter-widgets/controls",
          "model_name": "FloatProgressModel",
          "model_module_version": "1.5.0",
          "state": {
            "_dom_classes": [],
            "_model_module": "@jupyter-widgets/controls",
            "_model_module_version": "1.5.0",
            "_model_name": "FloatProgressModel",
            "_view_count": null,
            "_view_module": "@jupyter-widgets/controls",
            "_view_module_version": "1.5.0",
            "_view_name": "ProgressView",
            "bar_style": "success",
            "description": "",
            "description_tooltip": null,
            "layout": "IPY_MODEL_75f993df5e64448c9c941f6801b06442",
            "max": 461429130,
            "min": 0,
            "orientation": "horizontal",
            "style": "IPY_MODEL_c5050c4131ae4f7ba849008034ee7319",
            "value": 461429130
          }
        },
        "276fd1e6ecac47f88eebcaaa9606df97": {
          "model_module": "@jupyter-widgets/controls",
          "model_name": "HTMLModel",
          "model_module_version": "1.5.0",
          "state": {
            "_dom_classes": [],
            "_model_module": "@jupyter-widgets/controls",
            "_model_module_version": "1.5.0",
            "_model_name": "HTMLModel",
            "_view_count": null,
            "_view_module": "@jupyter-widgets/controls",
            "_view_module_version": "1.5.0",
            "_view_name": "HTMLView",
            "description": "",
            "description_tooltip": null,
            "layout": "IPY_MODEL_6c65467b15f842c0aad2c62a55ed2cac",
            "placeholder": "​",
            "style": "IPY_MODEL_be2f4477f3c04d809961cf166c4b8a00",
            "value": " 461M/461M [00:03&lt;00:00, 124MB/s]"
          }
        },
        "844c9ab37d3c4483afb3b1b40039b87f": {
          "model_module": "@jupyter-widgets/base",
          "model_name": "LayoutModel",
          "model_module_version": "1.2.0",
          "state": {
            "_model_module": "@jupyter-widgets/base",
            "_model_module_version": "1.2.0",
            "_model_name": "LayoutModel",
            "_view_count": null,
            "_view_module": "@jupyter-widgets/base",
            "_view_module_version": "1.2.0",
            "_view_name": "LayoutView",
            "align_content": null,
            "align_items": null,
            "align_self": null,
            "border": null,
            "bottom": null,
            "display": null,
            "flex": null,
            "flex_flow": null,
            "grid_area": null,
            "grid_auto_columns": null,
            "grid_auto_flow": null,
            "grid_auto_rows": null,
            "grid_column": null,
            "grid_gap": null,
            "grid_row": null,
            "grid_template_areas": null,
            "grid_template_columns": null,
            "grid_template_rows": null,
            "height": null,
            "justify_content": null,
            "justify_items": null,
            "left": null,
            "margin": null,
            "max_height": null,
            "max_width": null,
            "min_height": null,
            "min_width": null,
            "object_fit": null,
            "object_position": null,
            "order": null,
            "overflow": null,
            "overflow_x": null,
            "overflow_y": null,
            "padding": null,
            "right": null,
            "top": null,
            "visibility": null,
            "width": null
          }
        },
        "69f08355f44240eaaffb0a24815b1f64": {
          "model_module": "@jupyter-widgets/base",
          "model_name": "LayoutModel",
          "model_module_version": "1.2.0",
          "state": {
            "_model_module": "@jupyter-widgets/base",
            "_model_module_version": "1.2.0",
            "_model_name": "LayoutModel",
            "_view_count": null,
            "_view_module": "@jupyter-widgets/base",
            "_view_module_version": "1.2.0",
            "_view_name": "LayoutView",
            "align_content": null,
            "align_items": null,
            "align_self": null,
            "border": null,
            "bottom": null,
            "display": null,
            "flex": null,
            "flex_flow": null,
            "grid_area": null,
            "grid_auto_columns": null,
            "grid_auto_flow": null,
            "grid_auto_rows": null,
            "grid_column": null,
            "grid_gap": null,
            "grid_row": null,
            "grid_template_areas": null,
            "grid_template_columns": null,
            "grid_template_rows": null,
            "height": null,
            "justify_content": null,
            "justify_items": null,
            "left": null,
            "margin": null,
            "max_height": null,
            "max_width": null,
            "min_height": null,
            "min_width": null,
            "object_fit": null,
            "object_position": null,
            "order": null,
            "overflow": null,
            "overflow_x": null,
            "overflow_y": null,
            "padding": null,
            "right": null,
            "top": null,
            "visibility": null,
            "width": null
          }
        },
        "1c7a0d4c5d7142a68a7168fe60fc5959": {
          "model_module": "@jupyter-widgets/controls",
          "model_name": "DescriptionStyleModel",
          "model_module_version": "1.5.0",
          "state": {
            "_model_module": "@jupyter-widgets/controls",
            "_model_module_version": "1.5.0",
            "_model_name": "DescriptionStyleModel",
            "_view_count": null,
            "_view_module": "@jupyter-widgets/base",
            "_view_module_version": "1.2.0",
            "_view_name": "StyleView",
            "description_width": ""
          }
        },
        "75f993df5e64448c9c941f6801b06442": {
          "model_module": "@jupyter-widgets/base",
          "model_name": "LayoutModel",
          "model_module_version": "1.2.0",
          "state": {
            "_model_module": "@jupyter-widgets/base",
            "_model_module_version": "1.2.0",
            "_model_name": "LayoutModel",
            "_view_count": null,
            "_view_module": "@jupyter-widgets/base",
            "_view_module_version": "1.2.0",
            "_view_name": "LayoutView",
            "align_content": null,
            "align_items": null,
            "align_self": null,
            "border": null,
            "bottom": null,
            "display": null,
            "flex": null,
            "flex_flow": null,
            "grid_area": null,
            "grid_auto_columns": null,
            "grid_auto_flow": null,
            "grid_auto_rows": null,
            "grid_column": null,
            "grid_gap": null,
            "grid_row": null,
            "grid_template_areas": null,
            "grid_template_columns": null,
            "grid_template_rows": null,
            "height": null,
            "justify_content": null,
            "justify_items": null,
            "left": null,
            "margin": null,
            "max_height": null,
            "max_width": null,
            "min_height": null,
            "min_width": null,
            "object_fit": null,
            "object_position": null,
            "order": null,
            "overflow": null,
            "overflow_x": null,
            "overflow_y": null,
            "padding": null,
            "right": null,
            "top": null,
            "visibility": null,
            "width": null
          }
        },
        "c5050c4131ae4f7ba849008034ee7319": {
          "model_module": "@jupyter-widgets/controls",
          "model_name": "ProgressStyleModel",
          "model_module_version": "1.5.0",
          "state": {
            "_model_module": "@jupyter-widgets/controls",
            "_model_module_version": "1.5.0",
            "_model_name": "ProgressStyleModel",
            "_view_count": null,
            "_view_module": "@jupyter-widgets/base",
            "_view_module_version": "1.2.0",
            "_view_name": "StyleView",
            "bar_color": null,
            "description_width": ""
          }
        },
        "6c65467b15f842c0aad2c62a55ed2cac": {
          "model_module": "@jupyter-widgets/base",
          "model_name": "LayoutModel",
          "model_module_version": "1.2.0",
          "state": {
            "_model_module": "@jupyter-widgets/base",
            "_model_module_version": "1.2.0",
            "_model_name": "LayoutModel",
            "_view_count": null,
            "_view_module": "@jupyter-widgets/base",
            "_view_module_version": "1.2.0",
            "_view_name": "LayoutView",
            "align_content": null,
            "align_items": null,
            "align_self": null,
            "border": null,
            "bottom": null,
            "display": null,
            "flex": null,
            "flex_flow": null,
            "grid_area": null,
            "grid_auto_columns": null,
            "grid_auto_flow": null,
            "grid_auto_rows": null,
            "grid_column": null,
            "grid_gap": null,
            "grid_row": null,
            "grid_template_areas": null,
            "grid_template_columns": null,
            "grid_template_rows": null,
            "height": null,
            "justify_content": null,
            "justify_items": null,
            "left": null,
            "margin": null,
            "max_height": null,
            "max_width": null,
            "min_height": null,
            "min_width": null,
            "object_fit": null,
            "object_position": null,
            "order": null,
            "overflow": null,
            "overflow_x": null,
            "overflow_y": null,
            "padding": null,
            "right": null,
            "top": null,
            "visibility": null,
            "width": null
          }
        },
        "be2f4477f3c04d809961cf166c4b8a00": {
          "model_module": "@jupyter-widgets/controls",
          "model_name": "DescriptionStyleModel",
          "model_module_version": "1.5.0",
          "state": {
            "_model_module": "@jupyter-widgets/controls",
            "_model_module_version": "1.5.0",
            "_model_name": "DescriptionStyleModel",
            "_view_count": null,
            "_view_module": "@jupyter-widgets/base",
            "_view_module_version": "1.2.0",
            "_view_name": "StyleView",
            "description_width": ""
          }
        },
        "1606236199e944619f7c4016f71214f2": {
          "model_module": "@jupyter-widgets/controls",
          "model_name": "HBoxModel",
          "model_module_version": "1.5.0",
          "state": {
            "_dom_classes": [],
            "_model_module": "@jupyter-widgets/controls",
            "_model_module_version": "1.5.0",
            "_model_name": "HBoxModel",
            "_view_count": null,
            "_view_module": "@jupyter-widgets/controls",
            "_view_module_version": "1.5.0",
            "_view_name": "HBoxView",
            "box_style": "",
            "children": [
              "IPY_MODEL_9fabecb4ea5d4d389c5bc2397f1f82eb",
              "IPY_MODEL_2bb98eb1de0c4405822a88fa70c9dd6c",
              "IPY_MODEL_9368ea6b8680450f9cc68a5f5a48df29"
            ],
            "layout": "IPY_MODEL_f1990a8360dc4ed4aadcee6cb143961a"
          }
        },
        "9fabecb4ea5d4d389c5bc2397f1f82eb": {
          "model_module": "@jupyter-widgets/controls",
          "model_name": "HTMLModel",
          "model_module_version": "1.5.0",
          "state": {
            "_dom_classes": [],
            "_model_module": "@jupyter-widgets/controls",
            "_model_module_version": "1.5.0",
            "_model_name": "HTMLModel",
            "_view_count": null,
            "_view_module": "@jupyter-widgets/controls",
            "_view_module_version": "1.5.0",
            "_view_name": "HTMLView",
            "description": "",
            "description_tooltip": null,
            "layout": "IPY_MODEL_ad93260c20fa4c20b29eccdae461ed2b",
            "placeholder": "​",
            "style": "IPY_MODEL_eb9fbdb4cb3d44a4a287765be5e177a3",
            "value": "generation_config.json: 100%"
          }
        },
        "2bb98eb1de0c4405822a88fa70c9dd6c": {
          "model_module": "@jupyter-widgets/controls",
          "model_name": "FloatProgressModel",
          "model_module_version": "1.5.0",
          "state": {
            "_dom_classes": [],
            "_model_module": "@jupyter-widgets/controls",
            "_model_module_version": "1.5.0",
            "_model_name": "FloatProgressModel",
            "_view_count": null,
            "_view_module": "@jupyter-widgets/controls",
            "_view_module_version": "1.5.0",
            "_view_name": "ProgressView",
            "bar_style": "success",
            "description": "",
            "description_tooltip": null,
            "layout": "IPY_MODEL_0cd0ba63e1c64797ab3375a5ea30bd36",
            "max": 301,
            "min": 0,
            "orientation": "horizontal",
            "style": "IPY_MODEL_a25ee559c1b74f429f436f036f37b202",
            "value": 301
          }
        },
        "9368ea6b8680450f9cc68a5f5a48df29": {
          "model_module": "@jupyter-widgets/controls",
          "model_name": "HTMLModel",
          "model_module_version": "1.5.0",
          "state": {
            "_dom_classes": [],
            "_model_module": "@jupyter-widgets/controls",
            "_model_module_version": "1.5.0",
            "_model_name": "HTMLModel",
            "_view_count": null,
            "_view_module": "@jupyter-widgets/controls",
            "_view_module_version": "1.5.0",
            "_view_name": "HTMLView",
            "description": "",
            "description_tooltip": null,
            "layout": "IPY_MODEL_c1901ae8b7ce4fe595149cada9458445",
            "placeholder": "​",
            "style": "IPY_MODEL_9da33d6251da494796e4929306850ed2",
            "value": " 301/301 [00:00&lt;00:00, 7.37kB/s]"
          }
        },
        "f1990a8360dc4ed4aadcee6cb143961a": {
          "model_module": "@jupyter-widgets/base",
          "model_name": "LayoutModel",
          "model_module_version": "1.2.0",
          "state": {
            "_model_module": "@jupyter-widgets/base",
            "_model_module_version": "1.2.0",
            "_model_name": "LayoutModel",
            "_view_count": null,
            "_view_module": "@jupyter-widgets/base",
            "_view_module_version": "1.2.0",
            "_view_name": "LayoutView",
            "align_content": null,
            "align_items": null,
            "align_self": null,
            "border": null,
            "bottom": null,
            "display": null,
            "flex": null,
            "flex_flow": null,
            "grid_area": null,
            "grid_auto_columns": null,
            "grid_auto_flow": null,
            "grid_auto_rows": null,
            "grid_column": null,
            "grid_gap": null,
            "grid_row": null,
            "grid_template_areas": null,
            "grid_template_columns": null,
            "grid_template_rows": null,
            "height": null,
            "justify_content": null,
            "justify_items": null,
            "left": null,
            "margin": null,
            "max_height": null,
            "max_width": null,
            "min_height": null,
            "min_width": null,
            "object_fit": null,
            "object_position": null,
            "order": null,
            "overflow": null,
            "overflow_x": null,
            "overflow_y": null,
            "padding": null,
            "right": null,
            "top": null,
            "visibility": null,
            "width": null
          }
        },
        "ad93260c20fa4c20b29eccdae461ed2b": {
          "model_module": "@jupyter-widgets/base",
          "model_name": "LayoutModel",
          "model_module_version": "1.2.0",
          "state": {
            "_model_module": "@jupyter-widgets/base",
            "_model_module_version": "1.2.0",
            "_model_name": "LayoutModel",
            "_view_count": null,
            "_view_module": "@jupyter-widgets/base",
            "_view_module_version": "1.2.0",
            "_view_name": "LayoutView",
            "align_content": null,
            "align_items": null,
            "align_self": null,
            "border": null,
            "bottom": null,
            "display": null,
            "flex": null,
            "flex_flow": null,
            "grid_area": null,
            "grid_auto_columns": null,
            "grid_auto_flow": null,
            "grid_auto_rows": null,
            "grid_column": null,
            "grid_gap": null,
            "grid_row": null,
            "grid_template_areas": null,
            "grid_template_columns": null,
            "grid_template_rows": null,
            "height": null,
            "justify_content": null,
            "justify_items": null,
            "left": null,
            "margin": null,
            "max_height": null,
            "max_width": null,
            "min_height": null,
            "min_width": null,
            "object_fit": null,
            "object_position": null,
            "order": null,
            "overflow": null,
            "overflow_x": null,
            "overflow_y": null,
            "padding": null,
            "right": null,
            "top": null,
            "visibility": null,
            "width": null
          }
        },
        "eb9fbdb4cb3d44a4a287765be5e177a3": {
          "model_module": "@jupyter-widgets/controls",
          "model_name": "DescriptionStyleModel",
          "model_module_version": "1.5.0",
          "state": {
            "_model_module": "@jupyter-widgets/controls",
            "_model_module_version": "1.5.0",
            "_model_name": "DescriptionStyleModel",
            "_view_count": null,
            "_view_module": "@jupyter-widgets/base",
            "_view_module_version": "1.2.0",
            "_view_name": "StyleView",
            "description_width": ""
          }
        },
        "0cd0ba63e1c64797ab3375a5ea30bd36": {
          "model_module": "@jupyter-widgets/base",
          "model_name": "LayoutModel",
          "model_module_version": "1.2.0",
          "state": {
            "_model_module": "@jupyter-widgets/base",
            "_model_module_version": "1.2.0",
            "_model_name": "LayoutModel",
            "_view_count": null,
            "_view_module": "@jupyter-widgets/base",
            "_view_module_version": "1.2.0",
            "_view_name": "LayoutView",
            "align_content": null,
            "align_items": null,
            "align_self": null,
            "border": null,
            "bottom": null,
            "display": null,
            "flex": null,
            "flex_flow": null,
            "grid_area": null,
            "grid_auto_columns": null,
            "grid_auto_flow": null,
            "grid_auto_rows": null,
            "grid_column": null,
            "grid_gap": null,
            "grid_row": null,
            "grid_template_areas": null,
            "grid_template_columns": null,
            "grid_template_rows": null,
            "height": null,
            "justify_content": null,
            "justify_items": null,
            "left": null,
            "margin": null,
            "max_height": null,
            "max_width": null,
            "min_height": null,
            "min_width": null,
            "object_fit": null,
            "object_position": null,
            "order": null,
            "overflow": null,
            "overflow_x": null,
            "overflow_y": null,
            "padding": null,
            "right": null,
            "top": null,
            "visibility": null,
            "width": null
          }
        },
        "a25ee559c1b74f429f436f036f37b202": {
          "model_module": "@jupyter-widgets/controls",
          "model_name": "ProgressStyleModel",
          "model_module_version": "1.5.0",
          "state": {
            "_model_module": "@jupyter-widgets/controls",
            "_model_module_version": "1.5.0",
            "_model_name": "ProgressStyleModel",
            "_view_count": null,
            "_view_module": "@jupyter-widgets/base",
            "_view_module_version": "1.2.0",
            "_view_name": "StyleView",
            "bar_color": null,
            "description_width": ""
          }
        },
        "c1901ae8b7ce4fe595149cada9458445": {
          "model_module": "@jupyter-widgets/base",
          "model_name": "LayoutModel",
          "model_module_version": "1.2.0",
          "state": {
            "_model_module": "@jupyter-widgets/base",
            "_model_module_version": "1.2.0",
            "_model_name": "LayoutModel",
            "_view_count": null,
            "_view_module": "@jupyter-widgets/base",
            "_view_module_version": "1.2.0",
            "_view_name": "LayoutView",
            "align_content": null,
            "align_items": null,
            "align_self": null,
            "border": null,
            "bottom": null,
            "display": null,
            "flex": null,
            "flex_flow": null,
            "grid_area": null,
            "grid_auto_columns": null,
            "grid_auto_flow": null,
            "grid_auto_rows": null,
            "grid_column": null,
            "grid_gap": null,
            "grid_row": null,
            "grid_template_areas": null,
            "grid_template_columns": null,
            "grid_template_rows": null,
            "height": null,
            "justify_content": null,
            "justify_items": null,
            "left": null,
            "margin": null,
            "max_height": null,
            "max_width": null,
            "min_height": null,
            "min_width": null,
            "object_fit": null,
            "object_position": null,
            "order": null,
            "overflow": null,
            "overflow_x": null,
            "overflow_y": null,
            "padding": null,
            "right": null,
            "top": null,
            "visibility": null,
            "width": null
          }
        },
        "9da33d6251da494796e4929306850ed2": {
          "model_module": "@jupyter-widgets/controls",
          "model_name": "DescriptionStyleModel",
          "model_module_version": "1.5.0",
          "state": {
            "_model_module": "@jupyter-widgets/controls",
            "_model_module_version": "1.5.0",
            "_model_name": "DescriptionStyleModel",
            "_view_count": null,
            "_view_module": "@jupyter-widgets/base",
            "_view_module_version": "1.2.0",
            "_view_name": "StyleView",
            "description_width": ""
          }
        },
        "469978797a84457eaf1964263d93e72e": {
          "model_module": "@jupyter-widgets/controls",
          "model_name": "HBoxModel",
          "model_module_version": "1.5.0",
          "state": {
            "_dom_classes": [],
            "_model_module": "@jupyter-widgets/controls",
            "_model_module_version": "1.5.0",
            "_model_name": "HBoxModel",
            "_view_count": null,
            "_view_module": "@jupyter-widgets/controls",
            "_view_module_version": "1.5.0",
            "_view_name": "HBoxView",
            "box_style": "",
            "children": [
              "IPY_MODEL_891fc91a08984baea9880bb69f8a3288",
              "IPY_MODEL_8d0aa42db8bf47c4be8810827b03192d",
              "IPY_MODEL_1f6c0b61ada74d93bf2bf2b8350effa6"
            ],
            "layout": "IPY_MODEL_718eb182302141018cbe11ac95f695de"
          }
        },
        "891fc91a08984baea9880bb69f8a3288": {
          "model_module": "@jupyter-widgets/controls",
          "model_name": "HTMLModel",
          "model_module_version": "1.5.0",
          "state": {
            "_dom_classes": [],
            "_model_module": "@jupyter-widgets/controls",
            "_model_module_version": "1.5.0",
            "_model_name": "HTMLModel",
            "_view_count": null,
            "_view_module": "@jupyter-widgets/controls",
            "_view_module_version": "1.5.0",
            "_view_name": "HTMLView",
            "description": "",
            "description_tooltip": null,
            "layout": "IPY_MODEL_ff25950f34c34df69ac21292ce9c2b7c",
            "placeholder": "​",
            "style": "IPY_MODEL_b9f89ac17b1b441d8080c8d672e7ed3a",
            "value": "tokenizer_config.json: 100%"
          }
        },
        "8d0aa42db8bf47c4be8810827b03192d": {
          "model_module": "@jupyter-widgets/controls",
          "model_name": "FloatProgressModel",
          "model_module_version": "1.5.0",
          "state": {
            "_dom_classes": [],
            "_model_module": "@jupyter-widgets/controls",
            "_model_module_version": "1.5.0",
            "_model_name": "FloatProgressModel",
            "_view_count": null,
            "_view_module": "@jupyter-widgets/controls",
            "_view_module_version": "1.5.0",
            "_view_name": "ProgressView",
            "bar_style": "success",
            "description": "",
            "description_tooltip": null,
            "layout": "IPY_MODEL_1b00d54149ca4def91fc1e54017ea624",
            "max": 337,
            "min": 0,
            "orientation": "horizontal",
            "style": "IPY_MODEL_c6a585969c7e4f89b33fb1461df052ae",
            "value": 337
          }
        },
        "1f6c0b61ada74d93bf2bf2b8350effa6": {
          "model_module": "@jupyter-widgets/controls",
          "model_name": "HTMLModel",
          "model_module_version": "1.5.0",
          "state": {
            "_dom_classes": [],
            "_model_module": "@jupyter-widgets/controls",
            "_model_module_version": "1.5.0",
            "_model_name": "HTMLModel",
            "_view_count": null,
            "_view_module": "@jupyter-widgets/controls",
            "_view_module_version": "1.5.0",
            "_view_name": "HTMLView",
            "description": "",
            "description_tooltip": null,
            "layout": "IPY_MODEL_cd022be9730742debc5808a177d87fcb",
            "placeholder": "​",
            "style": "IPY_MODEL_c8ccec7926974b74a969b23168c74112",
            "value": " 337/337 [00:00&lt;00:00, 6.83kB/s]"
          }
        },
        "718eb182302141018cbe11ac95f695de": {
          "model_module": "@jupyter-widgets/base",
          "model_name": "LayoutModel",
          "model_module_version": "1.2.0",
          "state": {
            "_model_module": "@jupyter-widgets/base",
            "_model_module_version": "1.2.0",
            "_model_name": "LayoutModel",
            "_view_count": null,
            "_view_module": "@jupyter-widgets/base",
            "_view_module_version": "1.2.0",
            "_view_name": "LayoutView",
            "align_content": null,
            "align_items": null,
            "align_self": null,
            "border": null,
            "bottom": null,
            "display": null,
            "flex": null,
            "flex_flow": null,
            "grid_area": null,
            "grid_auto_columns": null,
            "grid_auto_flow": null,
            "grid_auto_rows": null,
            "grid_column": null,
            "grid_gap": null,
            "grid_row": null,
            "grid_template_areas": null,
            "grid_template_columns": null,
            "grid_template_rows": null,
            "height": null,
            "justify_content": null,
            "justify_items": null,
            "left": null,
            "margin": null,
            "max_height": null,
            "max_width": null,
            "min_height": null,
            "min_width": null,
            "object_fit": null,
            "object_position": null,
            "order": null,
            "overflow": null,
            "overflow_x": null,
            "overflow_y": null,
            "padding": null,
            "right": null,
            "top": null,
            "visibility": null,
            "width": null
          }
        },
        "ff25950f34c34df69ac21292ce9c2b7c": {
          "model_module": "@jupyter-widgets/base",
          "model_name": "LayoutModel",
          "model_module_version": "1.2.0",
          "state": {
            "_model_module": "@jupyter-widgets/base",
            "_model_module_version": "1.2.0",
            "_model_name": "LayoutModel",
            "_view_count": null,
            "_view_module": "@jupyter-widgets/base",
            "_view_module_version": "1.2.0",
            "_view_name": "LayoutView",
            "align_content": null,
            "align_items": null,
            "align_self": null,
            "border": null,
            "bottom": null,
            "display": null,
            "flex": null,
            "flex_flow": null,
            "grid_area": null,
            "grid_auto_columns": null,
            "grid_auto_flow": null,
            "grid_auto_rows": null,
            "grid_column": null,
            "grid_gap": null,
            "grid_row": null,
            "grid_template_areas": null,
            "grid_template_columns": null,
            "grid_template_rows": null,
            "height": null,
            "justify_content": null,
            "justify_items": null,
            "left": null,
            "margin": null,
            "max_height": null,
            "max_width": null,
            "min_height": null,
            "min_width": null,
            "object_fit": null,
            "object_position": null,
            "order": null,
            "overflow": null,
            "overflow_x": null,
            "overflow_y": null,
            "padding": null,
            "right": null,
            "top": null,
            "visibility": null,
            "width": null
          }
        },
        "b9f89ac17b1b441d8080c8d672e7ed3a": {
          "model_module": "@jupyter-widgets/controls",
          "model_name": "DescriptionStyleModel",
          "model_module_version": "1.5.0",
          "state": {
            "_model_module": "@jupyter-widgets/controls",
            "_model_module_version": "1.5.0",
            "_model_name": "DescriptionStyleModel",
            "_view_count": null,
            "_view_module": "@jupyter-widgets/base",
            "_view_module_version": "1.2.0",
            "_view_name": "StyleView",
            "description_width": ""
          }
        },
        "1b00d54149ca4def91fc1e54017ea624": {
          "model_module": "@jupyter-widgets/base",
          "model_name": "LayoutModel",
          "model_module_version": "1.2.0",
          "state": {
            "_model_module": "@jupyter-widgets/base",
            "_model_module_version": "1.2.0",
            "_model_name": "LayoutModel",
            "_view_count": null,
            "_view_module": "@jupyter-widgets/base",
            "_view_module_version": "1.2.0",
            "_view_name": "LayoutView",
            "align_content": null,
            "align_items": null,
            "align_self": null,
            "border": null,
            "bottom": null,
            "display": null,
            "flex": null,
            "flex_flow": null,
            "grid_area": null,
            "grid_auto_columns": null,
            "grid_auto_flow": null,
            "grid_auto_rows": null,
            "grid_column": null,
            "grid_gap": null,
            "grid_row": null,
            "grid_template_areas": null,
            "grid_template_columns": null,
            "grid_template_rows": null,
            "height": null,
            "justify_content": null,
            "justify_items": null,
            "left": null,
            "margin": null,
            "max_height": null,
            "max_width": null,
            "min_height": null,
            "min_width": null,
            "object_fit": null,
            "object_position": null,
            "order": null,
            "overflow": null,
            "overflow_x": null,
            "overflow_y": null,
            "padding": null,
            "right": null,
            "top": null,
            "visibility": null,
            "width": null
          }
        },
        "c6a585969c7e4f89b33fb1461df052ae": {
          "model_module": "@jupyter-widgets/controls",
          "model_name": "ProgressStyleModel",
          "model_module_version": "1.5.0",
          "state": {
            "_model_module": "@jupyter-widgets/controls",
            "_model_module_version": "1.5.0",
            "_model_name": "ProgressStyleModel",
            "_view_count": null,
            "_view_module": "@jupyter-widgets/base",
            "_view_module_version": "1.2.0",
            "_view_name": "StyleView",
            "bar_color": null,
            "description_width": ""
          }
        },
        "cd022be9730742debc5808a177d87fcb": {
          "model_module": "@jupyter-widgets/base",
          "model_name": "LayoutModel",
          "model_module_version": "1.2.0",
          "state": {
            "_model_module": "@jupyter-widgets/base",
            "_model_module_version": "1.2.0",
            "_model_name": "LayoutModel",
            "_view_count": null,
            "_view_module": "@jupyter-widgets/base",
            "_view_module_version": "1.2.0",
            "_view_name": "LayoutView",
            "align_content": null,
            "align_items": null,
            "align_self": null,
            "border": null,
            "bottom": null,
            "display": null,
            "flex": null,
            "flex_flow": null,
            "grid_area": null,
            "grid_auto_columns": null,
            "grid_auto_flow": null,
            "grid_auto_rows": null,
            "grid_column": null,
            "grid_gap": null,
            "grid_row": null,
            "grid_template_areas": null,
            "grid_template_columns": null,
            "grid_template_rows": null,
            "height": null,
            "justify_content": null,
            "justify_items": null,
            "left": null,
            "margin": null,
            "max_height": null,
            "max_width": null,
            "min_height": null,
            "min_width": null,
            "object_fit": null,
            "object_position": null,
            "order": null,
            "overflow": null,
            "overflow_x": null,
            "overflow_y": null,
            "padding": null,
            "right": null,
            "top": null,
            "visibility": null,
            "width": null
          }
        },
        "c8ccec7926974b74a969b23168c74112": {
          "model_module": "@jupyter-widgets/controls",
          "model_name": "DescriptionStyleModel",
          "model_module_version": "1.5.0",
          "state": {
            "_model_module": "@jupyter-widgets/controls",
            "_model_module_version": "1.5.0",
            "_model_name": "DescriptionStyleModel",
            "_view_count": null,
            "_view_module": "@jupyter-widgets/base",
            "_view_module_version": "1.2.0",
            "_view_name": "StyleView",
            "description_width": ""
          }
        },
        "318463860f874febac237a9c7aa70f78": {
          "model_module": "@jupyter-widgets/controls",
          "model_name": "HBoxModel",
          "model_module_version": "1.5.0",
          "state": {
            "_dom_classes": [],
            "_model_module": "@jupyter-widgets/controls",
            "_model_module_version": "1.5.0",
            "_model_name": "HBoxModel",
            "_view_count": null,
            "_view_module": "@jupyter-widgets/controls",
            "_view_module_version": "1.5.0",
            "_view_name": "HBoxView",
            "box_style": "",
            "children": [
              "IPY_MODEL_2d51c6ced2e14c4a8e1b298e80002020",
              "IPY_MODEL_615597be46de464f854353f0e2edd097",
              "IPY_MODEL_369f33e8923e42ca95c788edf7e25aee"
            ],
            "layout": "IPY_MODEL_d529421039a3420586a5f600b6899c31"
          }
        },
        "2d51c6ced2e14c4a8e1b298e80002020": {
          "model_module": "@jupyter-widgets/controls",
          "model_name": "HTMLModel",
          "model_module_version": "1.5.0",
          "state": {
            "_dom_classes": [],
            "_model_module": "@jupyter-widgets/controls",
            "_model_module_version": "1.5.0",
            "_model_name": "HTMLModel",
            "_view_count": null,
            "_view_module": "@jupyter-widgets/controls",
            "_view_module_version": "1.5.0",
            "_view_name": "HTMLView",
            "description": "",
            "description_tooltip": null,
            "layout": "IPY_MODEL_9d23ac2ff64949bf978fa175cc5dfe24",
            "placeholder": "​",
            "style": "IPY_MODEL_0e755a58fd2844d9bdacf70a076c6257",
            "value": "source.spm: 100%"
          }
        },
        "615597be46de464f854353f0e2edd097": {
          "model_module": "@jupyter-widgets/controls",
          "model_name": "FloatProgressModel",
          "model_module_version": "1.5.0",
          "state": {
            "_dom_classes": [],
            "_model_module": "@jupyter-widgets/controls",
            "_model_module_version": "1.5.0",
            "_model_name": "FloatProgressModel",
            "_view_count": null,
            "_view_module": "@jupyter-widgets/controls",
            "_view_module_version": "1.5.0",
            "_view_name": "ProgressView",
            "bar_style": "success",
            "description": "",
            "description_tooltip": null,
            "layout": "IPY_MODEL_605f4f9a12e04b1d8a19604b6355bd8c",
            "max": 802408,
            "min": 0,
            "orientation": "horizontal",
            "style": "IPY_MODEL_3c3f86f8dbf64303a81c5c857f000813",
            "value": 802408
          }
        },
        "369f33e8923e42ca95c788edf7e25aee": {
          "model_module": "@jupyter-widgets/controls",
          "model_name": "HTMLModel",
          "model_module_version": "1.5.0",
          "state": {
            "_dom_classes": [],
            "_model_module": "@jupyter-widgets/controls",
            "_model_module_version": "1.5.0",
            "_model_name": "HTMLModel",
            "_view_count": null,
            "_view_module": "@jupyter-widgets/controls",
            "_view_module_version": "1.5.0",
            "_view_name": "HTMLView",
            "description": "",
            "description_tooltip": null,
            "layout": "IPY_MODEL_01fa489f8ffd4881a3de64f6d948e0f9",
            "placeholder": "​",
            "style": "IPY_MODEL_90312c4d4f844e779d665d4e6b106748",
            "value": " 802k/802k [00:00&lt;00:00, 3.63MB/s]"
          }
        },
        "d529421039a3420586a5f600b6899c31": {
          "model_module": "@jupyter-widgets/base",
          "model_name": "LayoutModel",
          "model_module_version": "1.2.0",
          "state": {
            "_model_module": "@jupyter-widgets/base",
            "_model_module_version": "1.2.0",
            "_model_name": "LayoutModel",
            "_view_count": null,
            "_view_module": "@jupyter-widgets/base",
            "_view_module_version": "1.2.0",
            "_view_name": "LayoutView",
            "align_content": null,
            "align_items": null,
            "align_self": null,
            "border": null,
            "bottom": null,
            "display": null,
            "flex": null,
            "flex_flow": null,
            "grid_area": null,
            "grid_auto_columns": null,
            "grid_auto_flow": null,
            "grid_auto_rows": null,
            "grid_column": null,
            "grid_gap": null,
            "grid_row": null,
            "grid_template_areas": null,
            "grid_template_columns": null,
            "grid_template_rows": null,
            "height": null,
            "justify_content": null,
            "justify_items": null,
            "left": null,
            "margin": null,
            "max_height": null,
            "max_width": null,
            "min_height": null,
            "min_width": null,
            "object_fit": null,
            "object_position": null,
            "order": null,
            "overflow": null,
            "overflow_x": null,
            "overflow_y": null,
            "padding": null,
            "right": null,
            "top": null,
            "visibility": null,
            "width": null
          }
        },
        "9d23ac2ff64949bf978fa175cc5dfe24": {
          "model_module": "@jupyter-widgets/base",
          "model_name": "LayoutModel",
          "model_module_version": "1.2.0",
          "state": {
            "_model_module": "@jupyter-widgets/base",
            "_model_module_version": "1.2.0",
            "_model_name": "LayoutModel",
            "_view_count": null,
            "_view_module": "@jupyter-widgets/base",
            "_view_module_version": "1.2.0",
            "_view_name": "LayoutView",
            "align_content": null,
            "align_items": null,
            "align_self": null,
            "border": null,
            "bottom": null,
            "display": null,
            "flex": null,
            "flex_flow": null,
            "grid_area": null,
            "grid_auto_columns": null,
            "grid_auto_flow": null,
            "grid_auto_rows": null,
            "grid_column": null,
            "grid_gap": null,
            "grid_row": null,
            "grid_template_areas": null,
            "grid_template_columns": null,
            "grid_template_rows": null,
            "height": null,
            "justify_content": null,
            "justify_items": null,
            "left": null,
            "margin": null,
            "max_height": null,
            "max_width": null,
            "min_height": null,
            "min_width": null,
            "object_fit": null,
            "object_position": null,
            "order": null,
            "overflow": null,
            "overflow_x": null,
            "overflow_y": null,
            "padding": null,
            "right": null,
            "top": null,
            "visibility": null,
            "width": null
          }
        },
        "0e755a58fd2844d9bdacf70a076c6257": {
          "model_module": "@jupyter-widgets/controls",
          "model_name": "DescriptionStyleModel",
          "model_module_version": "1.5.0",
          "state": {
            "_model_module": "@jupyter-widgets/controls",
            "_model_module_version": "1.5.0",
            "_model_name": "DescriptionStyleModel",
            "_view_count": null,
            "_view_module": "@jupyter-widgets/base",
            "_view_module_version": "1.2.0",
            "_view_name": "StyleView",
            "description_width": ""
          }
        },
        "605f4f9a12e04b1d8a19604b6355bd8c": {
          "model_module": "@jupyter-widgets/base",
          "model_name": "LayoutModel",
          "model_module_version": "1.2.0",
          "state": {
            "_model_module": "@jupyter-widgets/base",
            "_model_module_version": "1.2.0",
            "_model_name": "LayoutModel",
            "_view_count": null,
            "_view_module": "@jupyter-widgets/base",
            "_view_module_version": "1.2.0",
            "_view_name": "LayoutView",
            "align_content": null,
            "align_items": null,
            "align_self": null,
            "border": null,
            "bottom": null,
            "display": null,
            "flex": null,
            "flex_flow": null,
            "grid_area": null,
            "grid_auto_columns": null,
            "grid_auto_flow": null,
            "grid_auto_rows": null,
            "grid_column": null,
            "grid_gap": null,
            "grid_row": null,
            "grid_template_areas": null,
            "grid_template_columns": null,
            "grid_template_rows": null,
            "height": null,
            "justify_content": null,
            "justify_items": null,
            "left": null,
            "margin": null,
            "max_height": null,
            "max_width": null,
            "min_height": null,
            "min_width": null,
            "object_fit": null,
            "object_position": null,
            "order": null,
            "overflow": null,
            "overflow_x": null,
            "overflow_y": null,
            "padding": null,
            "right": null,
            "top": null,
            "visibility": null,
            "width": null
          }
        },
        "3c3f86f8dbf64303a81c5c857f000813": {
          "model_module": "@jupyter-widgets/controls",
          "model_name": "ProgressStyleModel",
          "model_module_version": "1.5.0",
          "state": {
            "_model_module": "@jupyter-widgets/controls",
            "_model_module_version": "1.5.0",
            "_model_name": "ProgressStyleModel",
            "_view_count": null,
            "_view_module": "@jupyter-widgets/base",
            "_view_module_version": "1.2.0",
            "_view_name": "StyleView",
            "bar_color": null,
            "description_width": ""
          }
        },
        "01fa489f8ffd4881a3de64f6d948e0f9": {
          "model_module": "@jupyter-widgets/base",
          "model_name": "LayoutModel",
          "model_module_version": "1.2.0",
          "state": {
            "_model_module": "@jupyter-widgets/base",
            "_model_module_version": "1.2.0",
            "_model_name": "LayoutModel",
            "_view_count": null,
            "_view_module": "@jupyter-widgets/base",
            "_view_module_version": "1.2.0",
            "_view_name": "LayoutView",
            "align_content": null,
            "align_items": null,
            "align_self": null,
            "border": null,
            "bottom": null,
            "display": null,
            "flex": null,
            "flex_flow": null,
            "grid_area": null,
            "grid_auto_columns": null,
            "grid_auto_flow": null,
            "grid_auto_rows": null,
            "grid_column": null,
            "grid_gap": null,
            "grid_row": null,
            "grid_template_areas": null,
            "grid_template_columns": null,
            "grid_template_rows": null,
            "height": null,
            "justify_content": null,
            "justify_items": null,
            "left": null,
            "margin": null,
            "max_height": null,
            "max_width": null,
            "min_height": null,
            "min_width": null,
            "object_fit": null,
            "object_position": null,
            "order": null,
            "overflow": null,
            "overflow_x": null,
            "overflow_y": null,
            "padding": null,
            "right": null,
            "top": null,
            "visibility": null,
            "width": null
          }
        },
        "90312c4d4f844e779d665d4e6b106748": {
          "model_module": "@jupyter-widgets/controls",
          "model_name": "DescriptionStyleModel",
          "model_module_version": "1.5.0",
          "state": {
            "_model_module": "@jupyter-widgets/controls",
            "_model_module_version": "1.5.0",
            "_model_name": "DescriptionStyleModel",
            "_view_count": null,
            "_view_module": "@jupyter-widgets/base",
            "_view_module_version": "1.2.0",
            "_view_name": "StyleView",
            "description_width": ""
          }
        },
        "eb576e6733624be6a091cbfd8efdb957": {
          "model_module": "@jupyter-widgets/controls",
          "model_name": "HBoxModel",
          "model_module_version": "1.5.0",
          "state": {
            "_dom_classes": [],
            "_model_module": "@jupyter-widgets/controls",
            "_model_module_version": "1.5.0",
            "_model_name": "HBoxModel",
            "_view_count": null,
            "_view_module": "@jupyter-widgets/controls",
            "_view_module_version": "1.5.0",
            "_view_name": "HBoxView",
            "box_style": "",
            "children": [
              "IPY_MODEL_af9fb272c4ec45578d4ff5f719a126a9",
              "IPY_MODEL_c0d6729d3a3341d8a1786ab7468d4722",
              "IPY_MODEL_d99ac5fd9332485d94437989d41c4767"
            ],
            "layout": "IPY_MODEL_7af427501fa14addb03e51467ec10a3c"
          }
        },
        "af9fb272c4ec45578d4ff5f719a126a9": {
          "model_module": "@jupyter-widgets/controls",
          "model_name": "HTMLModel",
          "model_module_version": "1.5.0",
          "state": {
            "_dom_classes": [],
            "_model_module": "@jupyter-widgets/controls",
            "_model_module_version": "1.5.0",
            "_model_name": "HTMLModel",
            "_view_count": null,
            "_view_module": "@jupyter-widgets/controls",
            "_view_module_version": "1.5.0",
            "_view_name": "HTMLView",
            "description": "",
            "description_tooltip": null,
            "layout": "IPY_MODEL_4935dcb7dc6c45c89c4e7e8a12bd4c36",
            "placeholder": "​",
            "style": "IPY_MODEL_6ad6cb9bf8ef405d82091895f36962ee",
            "value": "target.spm: 100%"
          }
        },
        "c0d6729d3a3341d8a1786ab7468d4722": {
          "model_module": "@jupyter-widgets/controls",
          "model_name": "FloatProgressModel",
          "model_module_version": "1.5.0",
          "state": {
            "_dom_classes": [],
            "_model_module": "@jupyter-widgets/controls",
            "_model_module_version": "1.5.0",
            "_model_name": "FloatProgressModel",
            "_view_count": null,
            "_view_module": "@jupyter-widgets/controls",
            "_view_module_version": "1.5.0",
            "_view_name": "ProgressView",
            "bar_style": "success",
            "description": "",
            "description_tooltip": null,
            "layout": "IPY_MODEL_acde25fc056b46cf8efa853c8e01b95a",
            "max": 819955,
            "min": 0,
            "orientation": "horizontal",
            "style": "IPY_MODEL_ddb2481b0db6424dbe615ed60b73ad28",
            "value": 819955
          }
        },
        "d99ac5fd9332485d94437989d41c4767": {
          "model_module": "@jupyter-widgets/controls",
          "model_name": "HTMLModel",
          "model_module_version": "1.5.0",
          "state": {
            "_dom_classes": [],
            "_model_module": "@jupyter-widgets/controls",
            "_model_module_version": "1.5.0",
            "_model_name": "HTMLModel",
            "_view_count": null,
            "_view_module": "@jupyter-widgets/controls",
            "_view_module_version": "1.5.0",
            "_view_name": "HTMLView",
            "description": "",
            "description_tooltip": null,
            "layout": "IPY_MODEL_359392a0921b44e983ae94c4e6d0f086",
            "placeholder": "​",
            "style": "IPY_MODEL_427c9658957745b7a0d0e9ddbd831e23",
            "value": " 820k/820k [00:00&lt;00:00, 20.2MB/s]"
          }
        },
        "7af427501fa14addb03e51467ec10a3c": {
          "model_module": "@jupyter-widgets/base",
          "model_name": "LayoutModel",
          "model_module_version": "1.2.0",
          "state": {
            "_model_module": "@jupyter-widgets/base",
            "_model_module_version": "1.2.0",
            "_model_name": "LayoutModel",
            "_view_count": null,
            "_view_module": "@jupyter-widgets/base",
            "_view_module_version": "1.2.0",
            "_view_name": "LayoutView",
            "align_content": null,
            "align_items": null,
            "align_self": null,
            "border": null,
            "bottom": null,
            "display": null,
            "flex": null,
            "flex_flow": null,
            "grid_area": null,
            "grid_auto_columns": null,
            "grid_auto_flow": null,
            "grid_auto_rows": null,
            "grid_column": null,
            "grid_gap": null,
            "grid_row": null,
            "grid_template_areas": null,
            "grid_template_columns": null,
            "grid_template_rows": null,
            "height": null,
            "justify_content": null,
            "justify_items": null,
            "left": null,
            "margin": null,
            "max_height": null,
            "max_width": null,
            "min_height": null,
            "min_width": null,
            "object_fit": null,
            "object_position": null,
            "order": null,
            "overflow": null,
            "overflow_x": null,
            "overflow_y": null,
            "padding": null,
            "right": null,
            "top": null,
            "visibility": null,
            "width": null
          }
        },
        "4935dcb7dc6c45c89c4e7e8a12bd4c36": {
          "model_module": "@jupyter-widgets/base",
          "model_name": "LayoutModel",
          "model_module_version": "1.2.0",
          "state": {
            "_model_module": "@jupyter-widgets/base",
            "_model_module_version": "1.2.0",
            "_model_name": "LayoutModel",
            "_view_count": null,
            "_view_module": "@jupyter-widgets/base",
            "_view_module_version": "1.2.0",
            "_view_name": "LayoutView",
            "align_content": null,
            "align_items": null,
            "align_self": null,
            "border": null,
            "bottom": null,
            "display": null,
            "flex": null,
            "flex_flow": null,
            "grid_area": null,
            "grid_auto_columns": null,
            "grid_auto_flow": null,
            "grid_auto_rows": null,
            "grid_column": null,
            "grid_gap": null,
            "grid_row": null,
            "grid_template_areas": null,
            "grid_template_columns": null,
            "grid_template_rows": null,
            "height": null,
            "justify_content": null,
            "justify_items": null,
            "left": null,
            "margin": null,
            "max_height": null,
            "max_width": null,
            "min_height": null,
            "min_width": null,
            "object_fit": null,
            "object_position": null,
            "order": null,
            "overflow": null,
            "overflow_x": null,
            "overflow_y": null,
            "padding": null,
            "right": null,
            "top": null,
            "visibility": null,
            "width": null
          }
        },
        "6ad6cb9bf8ef405d82091895f36962ee": {
          "model_module": "@jupyter-widgets/controls",
          "model_name": "DescriptionStyleModel",
          "model_module_version": "1.5.0",
          "state": {
            "_model_module": "@jupyter-widgets/controls",
            "_model_module_version": "1.5.0",
            "_model_name": "DescriptionStyleModel",
            "_view_count": null,
            "_view_module": "@jupyter-widgets/base",
            "_view_module_version": "1.2.0",
            "_view_name": "StyleView",
            "description_width": ""
          }
        },
        "acde25fc056b46cf8efa853c8e01b95a": {
          "model_module": "@jupyter-widgets/base",
          "model_name": "LayoutModel",
          "model_module_version": "1.2.0",
          "state": {
            "_model_module": "@jupyter-widgets/base",
            "_model_module_version": "1.2.0",
            "_model_name": "LayoutModel",
            "_view_count": null,
            "_view_module": "@jupyter-widgets/base",
            "_view_module_version": "1.2.0",
            "_view_name": "LayoutView",
            "align_content": null,
            "align_items": null,
            "align_self": null,
            "border": null,
            "bottom": null,
            "display": null,
            "flex": null,
            "flex_flow": null,
            "grid_area": null,
            "grid_auto_columns": null,
            "grid_auto_flow": null,
            "grid_auto_rows": null,
            "grid_column": null,
            "grid_gap": null,
            "grid_row": null,
            "grid_template_areas": null,
            "grid_template_columns": null,
            "grid_template_rows": null,
            "height": null,
            "justify_content": null,
            "justify_items": null,
            "left": null,
            "margin": null,
            "max_height": null,
            "max_width": null,
            "min_height": null,
            "min_width": null,
            "object_fit": null,
            "object_position": null,
            "order": null,
            "overflow": null,
            "overflow_x": null,
            "overflow_y": null,
            "padding": null,
            "right": null,
            "top": null,
            "visibility": null,
            "width": null
          }
        },
        "ddb2481b0db6424dbe615ed60b73ad28": {
          "model_module": "@jupyter-widgets/controls",
          "model_name": "ProgressStyleModel",
          "model_module_version": "1.5.0",
          "state": {
            "_model_module": "@jupyter-widgets/controls",
            "_model_module_version": "1.5.0",
            "_model_name": "ProgressStyleModel",
            "_view_count": null,
            "_view_module": "@jupyter-widgets/base",
            "_view_module_version": "1.2.0",
            "_view_name": "StyleView",
            "bar_color": null,
            "description_width": ""
          }
        },
        "359392a0921b44e983ae94c4e6d0f086": {
          "model_module": "@jupyter-widgets/base",
          "model_name": "LayoutModel",
          "model_module_version": "1.2.0",
          "state": {
            "_model_module": "@jupyter-widgets/base",
            "_model_module_version": "1.2.0",
            "_model_name": "LayoutModel",
            "_view_count": null,
            "_view_module": "@jupyter-widgets/base",
            "_view_module_version": "1.2.0",
            "_view_name": "LayoutView",
            "align_content": null,
            "align_items": null,
            "align_self": null,
            "border": null,
            "bottom": null,
            "display": null,
            "flex": null,
            "flex_flow": null,
            "grid_area": null,
            "grid_auto_columns": null,
            "grid_auto_flow": null,
            "grid_auto_rows": null,
            "grid_column": null,
            "grid_gap": null,
            "grid_row": null,
            "grid_template_areas": null,
            "grid_template_columns": null,
            "grid_template_rows": null,
            "height": null,
            "justify_content": null,
            "justify_items": null,
            "left": null,
            "margin": null,
            "max_height": null,
            "max_width": null,
            "min_height": null,
            "min_width": null,
            "object_fit": null,
            "object_position": null,
            "order": null,
            "overflow": null,
            "overflow_x": null,
            "overflow_y": null,
            "padding": null,
            "right": null,
            "top": null,
            "visibility": null,
            "width": null
          }
        },
        "427c9658957745b7a0d0e9ddbd831e23": {
          "model_module": "@jupyter-widgets/controls",
          "model_name": "DescriptionStyleModel",
          "model_module_version": "1.5.0",
          "state": {
            "_model_module": "@jupyter-widgets/controls",
            "_model_module_version": "1.5.0",
            "_model_name": "DescriptionStyleModel",
            "_view_count": null,
            "_view_module": "@jupyter-widgets/base",
            "_view_module_version": "1.2.0",
            "_view_name": "StyleView",
            "description_width": ""
          }
        },
        "95d15cfc3f8b4dec9ed9f7f01339a5e2": {
          "model_module": "@jupyter-widgets/controls",
          "model_name": "HBoxModel",
          "model_module_version": "1.5.0",
          "state": {
            "_dom_classes": [],
            "_model_module": "@jupyter-widgets/controls",
            "_model_module_version": "1.5.0",
            "_model_name": "HBoxModel",
            "_view_count": null,
            "_view_module": "@jupyter-widgets/controls",
            "_view_module_version": "1.5.0",
            "_view_name": "HBoxView",
            "box_style": "",
            "children": [
              "IPY_MODEL_6396810c76bc4731958bbb64aba8b715",
              "IPY_MODEL_b3a50df08b2e40c9a03d94f780ebde2b",
              "IPY_MODEL_3ceaa79384b04a3290e5c2931f952b0f"
            ],
            "layout": "IPY_MODEL_47ffd450619f434c97d0a093b33ffea6"
          }
        },
        "6396810c76bc4731958bbb64aba8b715": {
          "model_module": "@jupyter-widgets/controls",
          "model_name": "HTMLModel",
          "model_module_version": "1.5.0",
          "state": {
            "_dom_classes": [],
            "_model_module": "@jupyter-widgets/controls",
            "_model_module_version": "1.5.0",
            "_model_name": "HTMLModel",
            "_view_count": null,
            "_view_module": "@jupyter-widgets/controls",
            "_view_module_version": "1.5.0",
            "_view_name": "HTMLView",
            "description": "",
            "description_tooltip": null,
            "layout": "IPY_MODEL_02015f36f531460183976fe956ffc468",
            "placeholder": "​",
            "style": "IPY_MODEL_bc22058f4dbf4128bf3bdeef21a2977f",
            "value": "vocab.json: 100%"
          }
        },
        "b3a50df08b2e40c9a03d94f780ebde2b": {
          "model_module": "@jupyter-widgets/controls",
          "model_name": "FloatProgressModel",
          "model_module_version": "1.5.0",
          "state": {
            "_dom_classes": [],
            "_model_module": "@jupyter-widgets/controls",
            "_model_module_version": "1.5.0",
            "_model_name": "FloatProgressModel",
            "_view_count": null,
            "_view_module": "@jupyter-widgets/controls",
            "_view_module_version": "1.5.0",
            "_view_name": "ProgressView",
            "bar_style": "success",
            "description": "",
            "description_tooltip": null,
            "layout": "IPY_MODEL_825d9a7a260d492fa0bc3fa35e0460b4",
            "max": 1332010,
            "min": 0,
            "orientation": "horizontal",
            "style": "IPY_MODEL_2e7b6f13b1f14e4eaeab5d6e493d9e96",
            "value": 1332010
          }
        },
        "3ceaa79384b04a3290e5c2931f952b0f": {
          "model_module": "@jupyter-widgets/controls",
          "model_name": "HTMLModel",
          "model_module_version": "1.5.0",
          "state": {
            "_dom_classes": [],
            "_model_module": "@jupyter-widgets/controls",
            "_model_module_version": "1.5.0",
            "_model_name": "HTMLModel",
            "_view_count": null,
            "_view_module": "@jupyter-widgets/controls",
            "_view_module_version": "1.5.0",
            "_view_name": "HTMLView",
            "description": "",
            "description_tooltip": null,
            "layout": "IPY_MODEL_bba11f47337c473bb2221c40ff6cb94b",
            "placeholder": "​",
            "style": "IPY_MODEL_6547471b723543c599f4ab0b5b4dad71",
            "value": " 1.33M/1.33M [00:00&lt;00:00, 16.5MB/s]"
          }
        },
        "47ffd450619f434c97d0a093b33ffea6": {
          "model_module": "@jupyter-widgets/base",
          "model_name": "LayoutModel",
          "model_module_version": "1.2.0",
          "state": {
            "_model_module": "@jupyter-widgets/base",
            "_model_module_version": "1.2.0",
            "_model_name": "LayoutModel",
            "_view_count": null,
            "_view_module": "@jupyter-widgets/base",
            "_view_module_version": "1.2.0",
            "_view_name": "LayoutView",
            "align_content": null,
            "align_items": null,
            "align_self": null,
            "border": null,
            "bottom": null,
            "display": null,
            "flex": null,
            "flex_flow": null,
            "grid_area": null,
            "grid_auto_columns": null,
            "grid_auto_flow": null,
            "grid_auto_rows": null,
            "grid_column": null,
            "grid_gap": null,
            "grid_row": null,
            "grid_template_areas": null,
            "grid_template_columns": null,
            "grid_template_rows": null,
            "height": null,
            "justify_content": null,
            "justify_items": null,
            "left": null,
            "margin": null,
            "max_height": null,
            "max_width": null,
            "min_height": null,
            "min_width": null,
            "object_fit": null,
            "object_position": null,
            "order": null,
            "overflow": null,
            "overflow_x": null,
            "overflow_y": null,
            "padding": null,
            "right": null,
            "top": null,
            "visibility": null,
            "width": null
          }
        },
        "02015f36f531460183976fe956ffc468": {
          "model_module": "@jupyter-widgets/base",
          "model_name": "LayoutModel",
          "model_module_version": "1.2.0",
          "state": {
            "_model_module": "@jupyter-widgets/base",
            "_model_module_version": "1.2.0",
            "_model_name": "LayoutModel",
            "_view_count": null,
            "_view_module": "@jupyter-widgets/base",
            "_view_module_version": "1.2.0",
            "_view_name": "LayoutView",
            "align_content": null,
            "align_items": null,
            "align_self": null,
            "border": null,
            "bottom": null,
            "display": null,
            "flex": null,
            "flex_flow": null,
            "grid_area": null,
            "grid_auto_columns": null,
            "grid_auto_flow": null,
            "grid_auto_rows": null,
            "grid_column": null,
            "grid_gap": null,
            "grid_row": null,
            "grid_template_areas": null,
            "grid_template_columns": null,
            "grid_template_rows": null,
            "height": null,
            "justify_content": null,
            "justify_items": null,
            "left": null,
            "margin": null,
            "max_height": null,
            "max_width": null,
            "min_height": null,
            "min_width": null,
            "object_fit": null,
            "object_position": null,
            "order": null,
            "overflow": null,
            "overflow_x": null,
            "overflow_y": null,
            "padding": null,
            "right": null,
            "top": null,
            "visibility": null,
            "width": null
          }
        },
        "bc22058f4dbf4128bf3bdeef21a2977f": {
          "model_module": "@jupyter-widgets/controls",
          "model_name": "DescriptionStyleModel",
          "model_module_version": "1.5.0",
          "state": {
            "_model_module": "@jupyter-widgets/controls",
            "_model_module_version": "1.5.0",
            "_model_name": "DescriptionStyleModel",
            "_view_count": null,
            "_view_module": "@jupyter-widgets/base",
            "_view_module_version": "1.2.0",
            "_view_name": "StyleView",
            "description_width": ""
          }
        },
        "825d9a7a260d492fa0bc3fa35e0460b4": {
          "model_module": "@jupyter-widgets/base",
          "model_name": "LayoutModel",
          "model_module_version": "1.2.0",
          "state": {
            "_model_module": "@jupyter-widgets/base",
            "_model_module_version": "1.2.0",
            "_model_name": "LayoutModel",
            "_view_count": null,
            "_view_module": "@jupyter-widgets/base",
            "_view_module_version": "1.2.0",
            "_view_name": "LayoutView",
            "align_content": null,
            "align_items": null,
            "align_self": null,
            "border": null,
            "bottom": null,
            "display": null,
            "flex": null,
            "flex_flow": null,
            "grid_area": null,
            "grid_auto_columns": null,
            "grid_auto_flow": null,
            "grid_auto_rows": null,
            "grid_column": null,
            "grid_gap": null,
            "grid_row": null,
            "grid_template_areas": null,
            "grid_template_columns": null,
            "grid_template_rows": null,
            "height": null,
            "justify_content": null,
            "justify_items": null,
            "left": null,
            "margin": null,
            "max_height": null,
            "max_width": null,
            "min_height": null,
            "min_width": null,
            "object_fit": null,
            "object_position": null,
            "order": null,
            "overflow": null,
            "overflow_x": null,
            "overflow_y": null,
            "padding": null,
            "right": null,
            "top": null,
            "visibility": null,
            "width": null
          }
        },
        "2e7b6f13b1f14e4eaeab5d6e493d9e96": {
          "model_module": "@jupyter-widgets/controls",
          "model_name": "ProgressStyleModel",
          "model_module_version": "1.5.0",
          "state": {
            "_model_module": "@jupyter-widgets/controls",
            "_model_module_version": "1.5.0",
            "_model_name": "ProgressStyleModel",
            "_view_count": null,
            "_view_module": "@jupyter-widgets/base",
            "_view_module_version": "1.2.0",
            "_view_name": "StyleView",
            "bar_color": null,
            "description_width": ""
          }
        },
        "bba11f47337c473bb2221c40ff6cb94b": {
          "model_module": "@jupyter-widgets/base",
          "model_name": "LayoutModel",
          "model_module_version": "1.2.0",
          "state": {
            "_model_module": "@jupyter-widgets/base",
            "_model_module_version": "1.2.0",
            "_model_name": "LayoutModel",
            "_view_count": null,
            "_view_module": "@jupyter-widgets/base",
            "_view_module_version": "1.2.0",
            "_view_name": "LayoutView",
            "align_content": null,
            "align_items": null,
            "align_self": null,
            "border": null,
            "bottom": null,
            "display": null,
            "flex": null,
            "flex_flow": null,
            "grid_area": null,
            "grid_auto_columns": null,
            "grid_auto_flow": null,
            "grid_auto_rows": null,
            "grid_column": null,
            "grid_gap": null,
            "grid_row": null,
            "grid_template_areas": null,
            "grid_template_columns": null,
            "grid_template_rows": null,
            "height": null,
            "justify_content": null,
            "justify_items": null,
            "left": null,
            "margin": null,
            "max_height": null,
            "max_width": null,
            "min_height": null,
            "min_width": null,
            "object_fit": null,
            "object_position": null,
            "order": null,
            "overflow": null,
            "overflow_x": null,
            "overflow_y": null,
            "padding": null,
            "right": null,
            "top": null,
            "visibility": null,
            "width": null
          }
        },
        "6547471b723543c599f4ab0b5b4dad71": {
          "model_module": "@jupyter-widgets/controls",
          "model_name": "DescriptionStyleModel",
          "model_module_version": "1.5.0",
          "state": {
            "_model_module": "@jupyter-widgets/controls",
            "_model_module_version": "1.5.0",
            "_model_name": "DescriptionStyleModel",
            "_view_count": null,
            "_view_module": "@jupyter-widgets/base",
            "_view_module_version": "1.2.0",
            "_view_name": "StyleView",
            "description_width": ""
          }
        },
        "51e6297407974676baa34bcff2babfd3": {
          "model_module": "@jupyter-widgets/controls",
          "model_name": "HBoxModel",
          "model_module_version": "1.5.0",
          "state": {
            "_dom_classes": [],
            "_model_module": "@jupyter-widgets/controls",
            "_model_module_version": "1.5.0",
            "_model_name": "HBoxModel",
            "_view_count": null,
            "_view_module": "@jupyter-widgets/controls",
            "_view_module_version": "1.5.0",
            "_view_name": "HBoxView",
            "box_style": "",
            "children": [
              "IPY_MODEL_944945ce7a5f487b8d030ef358f1a9f9",
              "IPY_MODEL_3d6d98aa53434a18b5d75710509c8991",
              "IPY_MODEL_1981dd116f9d40a0a18022d613414115"
            ],
            "layout": "IPY_MODEL_635b8fa6e0fb4c9294e2f4d837f664a5"
          }
        },
        "944945ce7a5f487b8d030ef358f1a9f9": {
          "model_module": "@jupyter-widgets/controls",
          "model_name": "HTMLModel",
          "model_module_version": "1.5.0",
          "state": {
            "_dom_classes": [],
            "_model_module": "@jupyter-widgets/controls",
            "_model_module_version": "1.5.0",
            "_model_name": "HTMLModel",
            "_view_count": null,
            "_view_module": "@jupyter-widgets/controls",
            "_view_module_version": "1.5.0",
            "_view_name": "HTMLView",
            "description": "",
            "description_tooltip": null,
            "layout": "IPY_MODEL_a3806d772f9940ffb8d2681953ed881b",
            "placeholder": "​",
            "style": "IPY_MODEL_2763b18cd0044ab6b9d4562b70bbc18c",
            "value": "special_tokens_map.json: 100%"
          }
        },
        "3d6d98aa53434a18b5d75710509c8991": {
          "model_module": "@jupyter-widgets/controls",
          "model_name": "FloatProgressModel",
          "model_module_version": "1.5.0",
          "state": {
            "_dom_classes": [],
            "_model_module": "@jupyter-widgets/controls",
            "_model_module_version": "1.5.0",
            "_model_name": "FloatProgressModel",
            "_view_count": null,
            "_view_module": "@jupyter-widgets/controls",
            "_view_module_version": "1.5.0",
            "_view_name": "ProgressView",
            "bar_style": "success",
            "description": "",
            "description_tooltip": null,
            "layout": "IPY_MODEL_efc1acfa011a4ea3865b19e7616af797",
            "max": 65,
            "min": 0,
            "orientation": "horizontal",
            "style": "IPY_MODEL_5922628c670849eeb2c29990b1008ead",
            "value": 65
          }
        },
        "1981dd116f9d40a0a18022d613414115": {
          "model_module": "@jupyter-widgets/controls",
          "model_name": "HTMLModel",
          "model_module_version": "1.5.0",
          "state": {
            "_dom_classes": [],
            "_model_module": "@jupyter-widgets/controls",
            "_model_module_version": "1.5.0",
            "_model_name": "HTMLModel",
            "_view_count": null,
            "_view_module": "@jupyter-widgets/controls",
            "_view_module_version": "1.5.0",
            "_view_name": "HTMLView",
            "description": "",
            "description_tooltip": null,
            "layout": "IPY_MODEL_a28664d0dba344e4b6959a984ed4c8ba",
            "placeholder": "​",
            "style": "IPY_MODEL_a98574fa78a0473f9814e3d264c94c4c",
            "value": " 65.0/65.0 [00:00&lt;00:00, 1.36kB/s]"
          }
        },
        "635b8fa6e0fb4c9294e2f4d837f664a5": {
          "model_module": "@jupyter-widgets/base",
          "model_name": "LayoutModel",
          "model_module_version": "1.2.0",
          "state": {
            "_model_module": "@jupyter-widgets/base",
            "_model_module_version": "1.2.0",
            "_model_name": "LayoutModel",
            "_view_count": null,
            "_view_module": "@jupyter-widgets/base",
            "_view_module_version": "1.2.0",
            "_view_name": "LayoutView",
            "align_content": null,
            "align_items": null,
            "align_self": null,
            "border": null,
            "bottom": null,
            "display": null,
            "flex": null,
            "flex_flow": null,
            "grid_area": null,
            "grid_auto_columns": null,
            "grid_auto_flow": null,
            "grid_auto_rows": null,
            "grid_column": null,
            "grid_gap": null,
            "grid_row": null,
            "grid_template_areas": null,
            "grid_template_columns": null,
            "grid_template_rows": null,
            "height": null,
            "justify_content": null,
            "justify_items": null,
            "left": null,
            "margin": null,
            "max_height": null,
            "max_width": null,
            "min_height": null,
            "min_width": null,
            "object_fit": null,
            "object_position": null,
            "order": null,
            "overflow": null,
            "overflow_x": null,
            "overflow_y": null,
            "padding": null,
            "right": null,
            "top": null,
            "visibility": null,
            "width": null
          }
        },
        "a3806d772f9940ffb8d2681953ed881b": {
          "model_module": "@jupyter-widgets/base",
          "model_name": "LayoutModel",
          "model_module_version": "1.2.0",
          "state": {
            "_model_module": "@jupyter-widgets/base",
            "_model_module_version": "1.2.0",
            "_model_name": "LayoutModel",
            "_view_count": null,
            "_view_module": "@jupyter-widgets/base",
            "_view_module_version": "1.2.0",
            "_view_name": "LayoutView",
            "align_content": null,
            "align_items": null,
            "align_self": null,
            "border": null,
            "bottom": null,
            "display": null,
            "flex": null,
            "flex_flow": null,
            "grid_area": null,
            "grid_auto_columns": null,
            "grid_auto_flow": null,
            "grid_auto_rows": null,
            "grid_column": null,
            "grid_gap": null,
            "grid_row": null,
            "grid_template_areas": null,
            "grid_template_columns": null,
            "grid_template_rows": null,
            "height": null,
            "justify_content": null,
            "justify_items": null,
            "left": null,
            "margin": null,
            "max_height": null,
            "max_width": null,
            "min_height": null,
            "min_width": null,
            "object_fit": null,
            "object_position": null,
            "order": null,
            "overflow": null,
            "overflow_x": null,
            "overflow_y": null,
            "padding": null,
            "right": null,
            "top": null,
            "visibility": null,
            "width": null
          }
        },
        "2763b18cd0044ab6b9d4562b70bbc18c": {
          "model_module": "@jupyter-widgets/controls",
          "model_name": "DescriptionStyleModel",
          "model_module_version": "1.5.0",
          "state": {
            "_model_module": "@jupyter-widgets/controls",
            "_model_module_version": "1.5.0",
            "_model_name": "DescriptionStyleModel",
            "_view_count": null,
            "_view_module": "@jupyter-widgets/base",
            "_view_module_version": "1.2.0",
            "_view_name": "StyleView",
            "description_width": ""
          }
        },
        "efc1acfa011a4ea3865b19e7616af797": {
          "model_module": "@jupyter-widgets/base",
          "model_name": "LayoutModel",
          "model_module_version": "1.2.0",
          "state": {
            "_model_module": "@jupyter-widgets/base",
            "_model_module_version": "1.2.0",
            "_model_name": "LayoutModel",
            "_view_count": null,
            "_view_module": "@jupyter-widgets/base",
            "_view_module_version": "1.2.0",
            "_view_name": "LayoutView",
            "align_content": null,
            "align_items": null,
            "align_self": null,
            "border": null,
            "bottom": null,
            "display": null,
            "flex": null,
            "flex_flow": null,
            "grid_area": null,
            "grid_auto_columns": null,
            "grid_auto_flow": null,
            "grid_auto_rows": null,
            "grid_column": null,
            "grid_gap": null,
            "grid_row": null,
            "grid_template_areas": null,
            "grid_template_columns": null,
            "grid_template_rows": null,
            "height": null,
            "justify_content": null,
            "justify_items": null,
            "left": null,
            "margin": null,
            "max_height": null,
            "max_width": null,
            "min_height": null,
            "min_width": null,
            "object_fit": null,
            "object_position": null,
            "order": null,
            "overflow": null,
            "overflow_x": null,
            "overflow_y": null,
            "padding": null,
            "right": null,
            "top": null,
            "visibility": null,
            "width": null
          }
        },
        "5922628c670849eeb2c29990b1008ead": {
          "model_module": "@jupyter-widgets/controls",
          "model_name": "ProgressStyleModel",
          "model_module_version": "1.5.0",
          "state": {
            "_model_module": "@jupyter-widgets/controls",
            "_model_module_version": "1.5.0",
            "_model_name": "ProgressStyleModel",
            "_view_count": null,
            "_view_module": "@jupyter-widgets/base",
            "_view_module_version": "1.2.0",
            "_view_name": "StyleView",
            "bar_color": null,
            "description_width": ""
          }
        },
        "a28664d0dba344e4b6959a984ed4c8ba": {
          "model_module": "@jupyter-widgets/base",
          "model_name": "LayoutModel",
          "model_module_version": "1.2.0",
          "state": {
            "_model_module": "@jupyter-widgets/base",
            "_model_module_version": "1.2.0",
            "_model_name": "LayoutModel",
            "_view_count": null,
            "_view_module": "@jupyter-widgets/base",
            "_view_module_version": "1.2.0",
            "_view_name": "LayoutView",
            "align_content": null,
            "align_items": null,
            "align_self": null,
            "border": null,
            "bottom": null,
            "display": null,
            "flex": null,
            "flex_flow": null,
            "grid_area": null,
            "grid_auto_columns": null,
            "grid_auto_flow": null,
            "grid_auto_rows": null,
            "grid_column": null,
            "grid_gap": null,
            "grid_row": null,
            "grid_template_areas": null,
            "grid_template_columns": null,
            "grid_template_rows": null,
            "height": null,
            "justify_content": null,
            "justify_items": null,
            "left": null,
            "margin": null,
            "max_height": null,
            "max_width": null,
            "min_height": null,
            "min_width": null,
            "object_fit": null,
            "object_position": null,
            "order": null,
            "overflow": null,
            "overflow_x": null,
            "overflow_y": null,
            "padding": null,
            "right": null,
            "top": null,
            "visibility": null,
            "width": null
          }
        },
        "a98574fa78a0473f9814e3d264c94c4c": {
          "model_module": "@jupyter-widgets/controls",
          "model_name": "DescriptionStyleModel",
          "model_module_version": "1.5.0",
          "state": {
            "_model_module": "@jupyter-widgets/controls",
            "_model_module_version": "1.5.0",
            "_model_name": "DescriptionStyleModel",
            "_view_count": null,
            "_view_module": "@jupyter-widgets/base",
            "_view_module_version": "1.2.0",
            "_view_name": "StyleView",
            "description_width": ""
          }
        }
      }
    }
  },
  "nbformat": 4,
  "nbformat_minor": 0
}