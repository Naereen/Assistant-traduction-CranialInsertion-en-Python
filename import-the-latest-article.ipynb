{
 "cells": [
  {
   "cell_type": "markdown",
   "metadata": {},
   "source": [
    "# Je veux importer automatiquement le texte du dernier article"
   ]
  },
  {
   "cell_type": "markdown",
   "metadata": {},
   "source": [
    "But : je veux lancer le script, et qu'il importe dans [`articles/english/`](articles/english/) le dernier article, avec juste son contenu de texte.\n",
    "Si ça marche, je pourrais finir lancer à la suite le deuxième script, qui traduit tout seul les noms de cartes dans cet article en anglais, et produit un brouillon en français."
   ]
  },
  {
   "cell_type": "markdown",
   "metadata": {},
   "source": [
    "## Dépendances"
   ]
  },
  {
   "cell_type": "code",
   "execution_count": null,
   "metadata": {},
   "outputs": [
    {
     "name": "stdout",
     "output_type": "stream",
     "text": [
      "Requirement already satisfied: requests in ./venv/lib/python3.10/site-packages (2.32.3)\n",
      "Requirement already satisfied: beautifulsoup4 in ./venv/lib/python3.10/site-packages (4.12.3)\n",
      "Requirement already satisfied: certifi>=2017.4.17 in ./venv/lib/python3.10/site-packages (from requests) (2024.6.2)\n",
      "Requirement already satisfied: charset-normalizer<4,>=2 in ./venv/lib/python3.10/site-packages (from requests) (3.3.2)\n",
      "Requirement already satisfied: idna<4,>=2.5 in ./venv/lib/python3.10/site-packages (from requests) (3.7)\n",
      "Requirement already satisfied: urllib3<3,>=1.21.1 in ./venv/lib/python3.10/site-packages (from requests) (2.2.1)\n",
      "Requirement already satisfied: soupsieve>1.2 in ./venv/lib/python3.10/site-packages (from beautifulsoup4) (2.5)\n"
     ]
    }
   ],
   "source": [
    "!pip install requests beautifulsoup4"
   ]
  },
  {
   "cell_type": "code",
   "execution_count": 2,
   "metadata": {},
   "outputs": [],
   "source": [
    "import requests\n",
    "from bs4 import BeautifulSoup"
   ]
  },
  {
   "cell_type": "markdown",
   "metadata": {},
   "source": [
    "On ouvre le fichier de cookies, pour se connecter en mon nom au site de Cranial (en mode lecture seul, je ne ferai rien d'automatique, ce serait trop risqué)."
   ]
  },
  {
   "cell_type": "code",
   "execution_count": 6,
   "metadata": {},
   "outputs": [],
   "source": [
    "with open(\"cranial-insertion.com.cookies\", \"r\") as cookie_file:\n",
    "    loggedin = cookie_file.readline()"
   ]
  },
  {
   "cell_type": "markdown",
   "metadata": {},
   "source": [
    "## Scrap the <https://www.cranial-insertion.com/staff/articles> page to get this `id_article`:"
   ]
  },
  {
   "cell_type": "code",
   "execution_count": 22,
   "metadata": {},
   "outputs": [],
   "source": [
    "cookies = {\n",
    "    'loggedin': loggedin,\n",
    "    'siteLang': 'fr',\n",
    "}\n",
    "url = \"https://www.cranial-insertion.com/staff/articles\"\n",
    "\n",
    "response = requests.get(url, cookies=cookies)"
   ]
  },
  {
   "cell_type": "code",
   "execution_count": 23,
   "metadata": {},
   "outputs": [
    {
     "name": "stdout",
     "output_type": "stream",
     "text": [
      "<title>Cranial Insertion | Manage Articles</title>\n"
     ]
    }
   ],
   "source": [
    "\n",
    "soup = BeautifulSoup(response.text, 'html.parser')\n",
    "print(soup.title)"
   ]
  },
  {
   "cell_type": "code",
   "execution_count": 24,
   "metadata": {},
   "outputs": [],
   "source": [
    "articlelisttable = soup.find(id=\"articlelisttable\")"
   ]
  },
  {
   "cell_type": "code",
   "execution_count": 55,
   "metadata": {},
   "outputs": [
    {
     "name": "stdout",
     "output_type": "stream",
     "text": [
      "On a trouvé id_article = 4238 !\n"
     ]
    }
   ],
   "source": [
    "id_article = None\n",
    "for tr in list(articlelisttable.find_all(\"tr\"))[13]:\n",
    "    td = str(tr)\n",
    "    try:\n",
    "        id_article = int(td[-9:][:4])\n",
    "        print(f\"On a trouvé id_article = {id_article} !\")\n",
    "    except ValueError:\n",
    "        continue"
   ]
  },
  {
   "cell_type": "markdown",
   "metadata": {},
   "source": [
    "On enregistre cet identifiant pour que le script suivant le retrouve :"
   ]
  },
  {
   "cell_type": "code",
   "execution_count": 56,
   "metadata": {},
   "outputs": [],
   "source": [
    "with open(\"id_article.txt\", \"w\") as fichier:\n",
    "    print(f\"{id_article}\", file=fichier)"
   ]
  },
  {
   "cell_type": "markdown",
   "metadata": {},
   "source": [
    "## Sauvegarde le texte du dernier article dans le bon fichier local"
   ]
  },
  {
   "cell_type": "code",
   "execution_count": 17,
   "metadata": {},
   "outputs": [],
   "source": [
    "if id_article is None:\n",
    "    id_article = 4238"
   ]
  },
  {
   "cell_type": "code",
   "execution_count": null,
   "metadata": {},
   "outputs": [],
   "source": [
    "url = f\"https://www.cranial-insertion.com/staff/articles/{id_article}/edit\"\n",
    "\n",
    "cookies = {\n",
    "    'loggedin': loggedin,\n",
    "    'siteLang': 'fr',\n",
    "}\n",
    "response = requests.get(url, cookies=cookies)\n",
    "soup = BeautifulSoup(response.text, 'html.parser')\n",
    "print(soup.title)"
   ]
  },
  {
   "cell_type": "markdown",
   "metadata": {},
   "source": [
    "On obtient le texte de cet article :"
   ]
  },
  {
   "cell_type": "code",
   "execution_count": 15,
   "metadata": {},
   "outputs": [
    {
     "name": "stdout",
     "output_type": "stream",
     "text": [
      "[cright=Hogaak, Arisen Necropolis]People originally thought this was a\n",
      "Commander card.\n",
      "That didn't last very long.[/cright]Hiya everyone, and welcome back to Cranial Insertion! We're right on the cusp of [b]Magic[/b]'s next set, [i]Modern Horizons 3[/i], and while we aren't quite ready to talk about them yet (stay tuned next week), I figured this was a good week to take a look back at the previous two [i]Modern Horizons[/i] sets and answer some questions from those sets. So, before we start talking about those sweet new cards brought directly into Modern, let's take a look back at what [i]Modern Horizons[/i] has brought us in the past.\n",
      "\n",
      "And if you have questions of your own about anything in [i]Modern Horizons[/i] 1, 2, or 3, or any other [b]Magic[/b] set, feel free to send them in. We may even use them in future article. If you have a shorter question, you can find us at [url=https://twitter.com/CranialTweet]@CranialTweet[/url], but if you have a longer question, you can e-mail us at moko@cranialinsertion.com.\n",
      "\n",
      "[hr]\n",
      "[q]If there's a [c]Collector Ouphe[/c] in play, can I still tap [c]Talisman of Creativity[/c] for mana?[/q]\n",
      "\n",
      "[a]No you cannot. The Ouphe stops players from activating abilities of artifacts. It doesn't exclude mana abilities, so you can't activate any of the abilities of the Talisman. If you want your Talisman to make mana again, you'll have to get rid of the Ouphe.[/a]\n",
      "\n",
      "[hr]\n",
      "[q]If I cast and resolve a [c]Fists of Flame[/c], then I draw another card, will that increase the bonus given to my creature by the Fists' effect?[/q]\n",
      "\n",
      "[a]No it will not. The bonus from Fists of Flame is locked in when the spell resolves. It won't count any cards that you draw after the Fists has resolved. If you've drawn two cards, then cast and resolve Fists of Flame, the targeted creature gets +3/+0 until end of turn. Drawing more cards after that won't affect the bonus given to your creature.[/a]\n",
      "\n",
      "[hr]\n",
      "[q]If I cast [c]Geomancer's Gambit[/c] targeting my own [c]Drossforge Bridge[/c], will I get to search for a land?[/q]\n",
      "\n",
      "[a]Yes you will! The Gambit doesn't care if the land is destroyed when the spell resolves. Since the Bridge is indestructible, the Gambit won't destroy the Bridge, but the rest of the effect will still happen, and you'll still be able to search for a basic land to put onto the battlefield (and draw a card as well).[/a]\n",
      "\n",
      "[hr]\n",
      "[q]If I have two [c]Soulherder[/c]s in play, can I target the same [c]Man-o'-War[/c] with both triggers and bounce two of my opponent's creatures?[/q]\n",
      "\n",
      "[a]No, that won't work. While you can target the same creature with both triggers, once the first trigger resolves, since Man-o'-War left the battlefield and returned, it's a new object with no link to its previous life on the battlefield. Since Man-o'-War is a new object after it returns from the first trigger, it isn't being targeted by the second trigger anymore, so it won't be exiled and returned a second time. You would need two Man-o'-War if you wanted to bounce two of your opponent's creatures.[/a]\n",
      "\n",
      "[hr]\n",
      "[q]If my only creature in play is [c]Universal Automaton[/c], how much will my [c]Valiant Changeling[/c] cost to cast?[/q]\n",
      "\n",
      "[a]It will only cost [mc]WW[/mc]. The Automaton has changeling, so it has every creature type. Since it has at least five creature types, that reduces the cost to cast Valiant Changeling by {5}, and you'll be able to play your Valiant Changeling as early as turn 2 if you cast the Automaton on turn 1.[/a]\n",
      "\n",
      "[hr]\n",
      "[q]If I sacrifice my [c]Ranger-Captain of Eos[/c] to activate its ability, can my opponent respond by casting an instant?[/q]\n",
      "\n",
      "[a]Sure. The Ranger-Captain won't stop your opponents from casting noncreature spells until the activated ability resolves. They'll get priority like normal before the ability resolves, and they'll still have a chance to cast instants before they're locked out of casting noncreature spells for the rest of the turn when the ability resolves.[/a]\n",
      "\n",
      "[hr]\n",
      "[q]I cast [c]Winds of Abandon[/c] for its overload cost, exiling five of my opponent's creatures. Is my opponent searching one time or five times? [c]River Song[/c] would like to know.[/q]\n",
      "\n",
      "[a]It's only a single search. Even though the Winds exiled multiple creatures your opponent controls, they're only searching one time for their lands, not a separate search for each creature that was exiled. Your opponent is searching one time for up to five basic lands, which means your River Song is only going to trigger once, not five times.[/a]\n",
      "\n",
      "[cleft=Ayula, Queen Among Bears]I heard she found her king in the new set.[/cleft][hr]\n",
      "[q]I control [c]Yawgmoth, Thran Physician[/c] and a [c]Young Wolf[/c] with no counters on it. Can I activate Yawgmoth's first ability, sacrificing the Young Wolf, and put the -1/-1 counter on the Young Wolf after it returns from its undying trigger to remove both counters?[/q]\n",
      "\n",
      "[a]No, one Young Wolf isn't enough. You have to choose a target for Yawgmoth's ability when you activate it. You can target Young Wolf with the ability and sacrifice that Young Wolf to pay the cost of Yawgmoth's ability, but even though it will return from undying before Yawgmoth's ability resolves, it's a different object when it returns and is no longer being targeted. Yawgmoth's ability would do nothing when it resolves and you would not draw a card. \n",
      "\n",
      "If you had two Young Wolves in play, then you could alternate sacrificing one Wolf and adding the -1/-1 counter to the other Wolf and loop it that way, but a single Wolf isn't enough to loop with Yawgmoth.[/a]\n",
      "\n",
      "[hr]\n",
      "[q]Can I cast [c]Urza, Lord High Artificer[/c], then tap the Construct token I just created to activate Urza's ability?[/q]\n",
      "\n",
      "[a]Yes, you can do that. \"Summoning sickness\" only prevents the creature from attacking and using abilities with the tap or untap symbol. Urza's ability taps the artifact, but it's an ability of Urza (not an ability given to the creature), and it doesn't use the tap symbol. Even though your Construct token is affected by \"summoning sickness\", it can be tapped to activate Urza's ability as soon as it enters the battlefield.[/a]\n",
      "\n",
      "[hr]\n",
      "[q]I cast [c]The First Sliver[/c], and with its cascade trigger I reveal [c]Cleaving Sliver[/c]. Will I get to cascade off of Cleaving Sliver as well?[/q]\n",
      "\n",
      "[a]No, you won't cascade a second time. The First Sliver needs to be on the battlefield to give your Sliver spells cascade. But when you cascaded off of casting The First Sliver, it's still on the stack, since the cascade trigger resolves first. The First Sliver isn't on the battlefield yet, so the Sliver you cascaded into won't have cascade.\n",
      "\n",
      "However, once The First Sliver resolves, any Sliver spells you do cast would have cascade - including Sliver spells you cascade into. So if you cast [c]First Sliver's Chosen[/c] with The First Sliver already in play, and cascade into [c]Hollowhead Sliver[/c], Hollowhead Sliver would also have cascade and you'd get a second free spell.[/a]\n",
      "\n",
      "[hr]\n",
      "[q]If I cast [c]Grief[/c] for its evoke cost, can I respond to the sacrifice trigger by casting [c]Not Dead After All[/c] targeting Grief?[/q]\n",
      "\n",
      "[a]Sure, that's a legal (and very popular in Modern) play. Grief isn't sacrificed as soon as it enters the battlefield - there's a triggered ability that goes on the stack that will cause you to sacrifice Grief when that trigger resolves. You can respond to that trigger by casting Not Dead After All targeting Grief. When Grief is sacrificed, that will cause the trigger given to it by Not Dead After All to trigger and Grief will return to the battlefield (and its enter the battlefield ability will trigger again).[/a]\n",
      "\n",
      "[hr]\n",
      "[q]I cast [c]Unholy Heat[/c], with four different card types in my graveyard. In response, my opponent activates [c]Tormod's Crypt[/c] to exile my graveyard. How much damage will my Unholy Heat do when it resolves?[/q]\n",
      "\n",
      "[a]It'll only deal 2 damage. Unholy Heat will only check the card types in your graveyard as part of the spell resolving. It won't care what card types you had in your graveyard when you cast it. In your case, when Unholy Heat resolves, you have zero card types in your graveyard, so Unholy Heat deals 2 damage to the target, not 6 damage.[/a]\n",
      "\n",
      "[hr]\n",
      "[q]Will [c]Goblin Anarchomancer[/c] reduce the cost of a red and green spell, like [c]Bloodbraid Elf[/c], by [mc]1[/mc] or [mc]2[/mc]?[/q]\n",
      "\n",
      "[a]Only by {1}. The Anarchomancer cares if the spell is red or green, but doesn't give a double discount if the spell happens to be both red and green. Bloodbraid Elf is both a red and green spell, but the total cost to cast it is only reduced by one mana, not two mana.[/a]\n",
      "\n",
      "[cright=Out of Time]This article is almost over...[/cright][hr]\n",
      "[q]Does [c]Diamond Lion[/c] have a mana ability?[/q]\n",
      "\n",
      "[a]Yep, that's a mana ability. The Lion has an activated ability that could produce mana when it resolves, does not target anything, and is not a loyalty ability, so it's a mana ability. \n",
      "\n",
      "However, like the Oracle text of [c]Lion's Eye Diamond[/c], Diamond Lion has a restriction when you can activate its ability - you can only activate it as an instant. This means you can't activate it during the announcement of a spell like a normal mana ability. For example, this restriction means you can't choose to announce a spell from your hand, then try to sacrifice Diamond Lion for mana to pay for the spell during announcement but still use that mana to cast a spell from your hand.[/a]\n",
      "\n",
      "[hr]\n",
      "[q]My opponent just cast a [c]Walking Ballista[/c] with X=5. If I respond by casting [c]Dress Down[/c], what happens when the Ballista resolves?[/q]\n",
      "\n",
      "[a]Your opponent's Ballista enters with zero counters (instead of five) and will die. When the Ballista resolves, it looks ahead to what it will look like on the battlefield. Since there's a Dress Down in play, the Ballista sees that it wouldn't have any abilities while on the battlefield, so it loses the ability to enter with counters, and the Ballista will enter without any counters on it as a 0/0.[/a]\n",
      "\n",
      "[hr]\n",
      "[q]I suspended [c]Profane Tutor[/c] on my second turn. The turn before I was set to cast it, my opponent cast [c]Void Mirror[/c]. Will the Mirror counter my Tutor next turn?[/q]\n",
      "\n",
      "[a]Yep, it'll get countered. Void Mirror will trigger if a player casts a spell without using colored mana to cast it. If you didn't spend any mana to cast it, you didn't spend any colored mana to cast it (even if you used colored mana to suspend it), so your Profane Tutor will trigger Void Mirror when you cast it without paying its mana cost and the Tutor will be countered.[/a]\n",
      "\n",
      "[hr]\n",
      "[q]What zone does [c]Garth One-Eye[/c] cast its copies from?[/q]\n",
      "\n",
      "[a]None of the in-game zones. Garth One-Eye makes and casts the copies from outside the game. We're not referring to a card in another zone, we're looking at a card in the Oracle reference, and since there's no other zone to refer them to (and because of rule 707.13), we cast those copies from outside the game.[/a]\n",
      "\n",
      "[hr]\n",
      "[q]If I have an [c]Asmoranomardicadaistinaculdacar[/c] in my hand, can I put it onto the battlefield with [c]Aether Vial[/c]?[/q]\n",
      "\n",
      "[a]Yep, as long as Aether Vial has zero counters on it. Asmoranomardicadaistinaculdacar has no mana cost, which means that its mana value is 0. An Aether Vial with zero charge counters would let you put Asmoranomardicadaistinaculdacar onto the battlefield with its ability (and without needing to discard a card to enable its alternate cost).[/a]\n",
      "\n",
      "[hr]\n",
      "[q]On my opponent's last turn, they cast [c]The One Ring[/c] giving themself protection from everything. If I cast [c]Archon of Cruelty[/c] on my turn, what happens to its trigger?[/q]\n",
      "\n",
      "[a]The Archon's trigger does a lot of things, but it has a target - a target opponent. You need to be able to choose a legal target for the trigger to go on the stack. Since your opponent has protection from everything, they're not a legal target for the Archon's triggered ability. Assuming there are no other opponents you could target, since you can't choose a legal target for the trigger, the trigger is removed from the stack and will not resolve (and none of its effects will happen).[/a]\n",
      "\n",
      "[hr]\n",
      "[q]Can [c]Grist, the Hunger Tide[/c] be my commander?[/q]\n",
      "\n",
      "[a]Surprisingly, yes! Before the game begins, Grist's ability that makes it a creature is in effect, making Grist a legendary creature. And because Grist is a legendary creature, you could run it as your commander.[/a]\n",
      "\n",
      "[hr]\n",
      "That's it for this week's history lesson. Check back next week as we dive into [i]Modern Horizons 3[/i]!\n"
     ]
    }
   ],
   "source": [
    "thisArticleText = soup.find(id=\"thisArticleText\").get_text()\n",
    "print(thisArticleText)"
   ]
  },
  {
   "cell_type": "code",
   "execution_count": 20,
   "metadata": {},
   "outputs": [],
   "source": [
    "with open(f\"articles/english/{id_article}.md\", \"w\") as fichier:\n",
    "    print(thisArticleText, file=fichier)"
   ]
  },
  {
   "cell_type": "code",
   "execution_count": 57,
   "metadata": {},
   "outputs": [
    {
     "name": "stdout",
     "output_type": "stream",
     "text": [
      "total 24K\n",
      "drwxrwxr-x 2 lilian lilian 4,0K juin   5 15:41 .\n",
      "drwxrwxr-x 4 lilian lilian 4,0K juin   5 15:42 ..\n",
      "-rw-rw-r-- 1 lilian lilian  13K juin   5 17:31 4238.md\n"
     ]
    }
   ],
   "source": [
    "!ls -larth articles/english/"
   ]
  },
  {
   "cell_type": "markdown",
   "metadata": {},
   "source": [
    "On a terminé pour ce script."
   ]
  }
 ],
 "metadata": {
  "kernelspec": {
   "display_name": "venv",
   "language": "python",
   "name": "python3"
  },
  "language_info": {
   "codemirror_mode": {
    "name": "ipython",
    "version": 3
   },
   "file_extension": ".py",
   "mimetype": "text/x-python",
   "name": "python",
   "nbconvert_exporter": "python",
   "pygments_lexer": "ipython3",
   "version": "3.10.12"
  }
 },
 "nbformat": 4,
 "nbformat_minor": 2
}
